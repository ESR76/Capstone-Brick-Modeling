{
 "cells": [
  {
   "cell_type": "markdown",
   "id": "6139778e",
   "metadata": {},
   "source": [
    "# Esperanza's Development Notebook - NEW Version\n",
    "\n",
    "## Imports"
   ]
  },
  {
   "cell_type": "code",
   "execution_count": 1,
   "id": "d382f102",
   "metadata": {},
   "outputs": [
    {
     "name": "stderr",
     "output_type": "stream",
     "text": [
      "Importing plotly failed. Interactive plots will not work.\n"
     ]
    }
   ],
   "source": [
    "import pandas as pd\n",
    "import numpy as np\n",
    "import seaborn as sns\n",
    "\n",
    "import prophet as Prophet"
   ]
  },
  {
   "cell_type": "code",
   "execution_count": 2,
   "id": "903c5e93",
   "metadata": {},
   "outputs": [],
   "source": [
    "# test import - not required for this version of data\n",
    "#import brickschema"
   ]
  },
  {
   "cell_type": "code",
   "execution_count": null,
   "id": "70750efa",
   "metadata": {},
   "outputs": [],
   "source": [
    "# Prophet import gives: \"Importing plotly failed. Interactive plots will not work.\"\n",
    "# We're not using interactive plots so it should be fine but I'm not sure\n",
    "# Imported plotly and still getting the error"
   ]
  },
  {
   "cell_type": "markdown",
   "id": "cf986f86",
   "metadata": {},
   "source": [
    "## Grabbing Data from Data/Out"
   ]
  },
  {
   "cell_type": "code",
   "execution_count": 2,
   "id": "83c4db39",
   "metadata": {},
   "outputs": [],
   "source": [
    "# this path is based on my workflow with virtual environment - path will need to be changed\n",
    "\n",
    "# floor_data = pd.read_csv('Capstone-Brick-Modeling/data/temp/combined_floors.csv')"
   ]
  },
  {
   "cell_type": "code",
   "execution_count": 32,
   "id": "e170a6cb",
   "metadata": {},
   "outputs": [],
   "source": [
    "#col_list = ['time', 'Common Setpoint', 'Actual Sup Flow SP', 'Zone Temperature', 'Actual Supply Flow', 'Outside Air Temp', 'Humidity', 'energy']\n",
    "\n",
    "floor_2 = pd.read_csv('merged_all_2F.csv', index_col = 'Unnamed: 0')\n",
    "floor_3 = pd.read_csv('merged_all_3F.csv', index_col = 'Unnamed: 0')\n",
    "floor_4 = pd.read_csv('merged_all_4F.csv', index_col = 'Unnamed: 0')"
   ]
  },
  {
   "cell_type": "code",
   "execution_count": 3,
   "id": "e96b6b66",
   "metadata": {},
   "outputs": [],
   "source": [
    "# one version of this is Unnamed: 0.2 but I'm not sure why this one says \n",
    "\n",
    "#floor_2 = floor_2.drop(['Unnamed: 0.1', 'Unnamed: 0.1.1'], axis = 1)"
   ]
  },
  {
   "cell_type": "code",
   "execution_count": 33,
   "id": "fd5b5fb4",
   "metadata": {},
   "outputs": [
    {
     "data": {
      "text/plain": [
       "(260245, 15)"
      ]
     },
     "execution_count": 33,
     "metadata": {},
     "output_type": "execute_result"
    }
   ],
   "source": [
    "floor_2.shape"
   ]
  },
  {
   "cell_type": "code",
   "execution_count": 34,
   "id": "0a5b7d96",
   "metadata": {},
   "outputs": [
    {
     "data": {
      "text/plain": [
       "(260245, 15)"
      ]
     },
     "execution_count": 34,
     "metadata": {},
     "output_type": "execute_result"
    }
   ],
   "source": [
    "floor_2.drop_duplicates().shape"
   ]
  },
  {
   "cell_type": "code",
   "execution_count": 26,
   "id": "323f55f7",
   "metadata": {},
   "outputs": [
    {
     "data": {
      "text/html": [
       "<div>\n",
       "<style scoped>\n",
       "    .dataframe tbody tr th:only-of-type {\n",
       "        vertical-align: middle;\n",
       "    }\n",
       "\n",
       "    .dataframe tbody tr th {\n",
       "        vertical-align: top;\n",
       "    }\n",
       "\n",
       "    .dataframe thead th {\n",
       "        text-align: right;\n",
       "    }\n",
       "</style>\n",
       "<table border=\"1\" class=\"dataframe\">\n",
       "  <thead>\n",
       "    <tr style=\"text-align: right;\">\n",
       "      <th></th>\n",
       "      <th>Unnamed: 0.1</th>\n",
       "      <th>Unnamed: 0.1.1</th>\n",
       "      <th>time</th>\n",
       "      <th>Common Setpoint</th>\n",
       "      <th>Actual Sup Flow SP</th>\n",
       "      <th>Zone Temperature</th>\n",
       "      <th>Actual Supply Flow</th>\n",
       "      <th>energy</th>\n",
       "      <th>Outside Air Temp</th>\n",
       "      <th>Humidity</th>\n",
       "      <th>Zone Temperature Next</th>\n",
       "      <th>Actual Supply Flow Next</th>\n",
       "      <th>Outside Air Temp Next</th>\n",
       "      <th>Humidity Next</th>\n",
       "      <th>energy Next</th>\n",
       "    </tr>\n",
       "  </thead>\n",
       "  <tbody>\n",
       "    <tr>\n",
       "      <th>0</th>\n",
       "      <td>0</td>\n",
       "      <td>0</td>\n",
       "      <td>2018-01-03T20:57:39+00:00</td>\n",
       "      <td>72.5</td>\n",
       "      <td>330.0</td>\n",
       "      <td>75.2</td>\n",
       "      <td>318.73</td>\n",
       "      <td>10.109642</td>\n",
       "      <td>68.44</td>\n",
       "      <td>56.0</td>\n",
       "      <td>75.2</td>\n",
       "      <td>317.06</td>\n",
       "      <td>68.50</td>\n",
       "      <td>56.0</td>\n",
       "      <td>10.113301</td>\n",
       "    </tr>\n",
       "    <tr>\n",
       "      <th>1</th>\n",
       "      <td>1</td>\n",
       "      <td>1</td>\n",
       "      <td>2018-01-03T21:04:13+00:00</td>\n",
       "      <td>72.5</td>\n",
       "      <td>330.0</td>\n",
       "      <td>75.2</td>\n",
       "      <td>317.06</td>\n",
       "      <td>10.113301</td>\n",
       "      <td>68.50</td>\n",
       "      <td>56.0</td>\n",
       "      <td>75.7</td>\n",
       "      <td>314.34</td>\n",
       "      <td>68.25</td>\n",
       "      <td>56.0</td>\n",
       "      <td>10.099466</td>\n",
       "    </tr>\n",
       "    <tr>\n",
       "      <th>2</th>\n",
       "      <td>2</td>\n",
       "      <td>2</td>\n",
       "      <td>2018-01-03T21:10:44+00:00</td>\n",
       "      <td>72.5</td>\n",
       "      <td>330.0</td>\n",
       "      <td>75.7</td>\n",
       "      <td>314.34</td>\n",
       "      <td>10.099466</td>\n",
       "      <td>68.25</td>\n",
       "      <td>56.0</td>\n",
       "      <td>75.7</td>\n",
       "      <td>313.91</td>\n",
       "      <td>68.31</td>\n",
       "      <td>56.0</td>\n",
       "      <td>10.241028</td>\n",
       "    </tr>\n",
       "    <tr>\n",
       "      <th>3</th>\n",
       "      <td>3</td>\n",
       "      <td>3</td>\n",
       "      <td>2018-01-03T21:17:16+00:00</td>\n",
       "      <td>72.5</td>\n",
       "      <td>330.0</td>\n",
       "      <td>75.7</td>\n",
       "      <td>313.91</td>\n",
       "      <td>10.241028</td>\n",
       "      <td>68.31</td>\n",
       "      <td>56.0</td>\n",
       "      <td>75.7</td>\n",
       "      <td>318.31</td>\n",
       "      <td>68.44</td>\n",
       "      <td>57.0</td>\n",
       "      <td>10.187620</td>\n",
       "    </tr>\n",
       "    <tr>\n",
       "      <th>4</th>\n",
       "      <td>4</td>\n",
       "      <td>4</td>\n",
       "      <td>2018-01-03T21:23:44+00:00</td>\n",
       "      <td>72.5</td>\n",
       "      <td>330.0</td>\n",
       "      <td>75.7</td>\n",
       "      <td>318.31</td>\n",
       "      <td>10.187620</td>\n",
       "      <td>68.44</td>\n",
       "      <td>57.0</td>\n",
       "      <td>75.7</td>\n",
       "      <td>316.65</td>\n",
       "      <td>68.81</td>\n",
       "      <td>57.0</td>\n",
       "      <td>10.194055</td>\n",
       "    </tr>\n",
       "  </tbody>\n",
       "</table>\n",
       "</div>"
      ],
      "text/plain": [
       "   Unnamed: 0.1  Unnamed: 0.1.1                       time  Common Setpoint  \\\n",
       "0             0               0  2018-01-03T20:57:39+00:00             72.5   \n",
       "1             1               1  2018-01-03T21:04:13+00:00             72.5   \n",
       "2             2               2  2018-01-03T21:10:44+00:00             72.5   \n",
       "3             3               3  2018-01-03T21:17:16+00:00             72.5   \n",
       "4             4               4  2018-01-03T21:23:44+00:00             72.5   \n",
       "\n",
       "   Actual Sup Flow SP  Zone Temperature  Actual Supply Flow     energy  \\\n",
       "0               330.0              75.2              318.73  10.109642   \n",
       "1               330.0              75.2              317.06  10.113301   \n",
       "2               330.0              75.7              314.34  10.099466   \n",
       "3               330.0              75.7              313.91  10.241028   \n",
       "4               330.0              75.7              318.31  10.187620   \n",
       "\n",
       "   Outside Air Temp  Humidity  Zone Temperature Next  Actual Supply Flow Next  \\\n",
       "0             68.44      56.0                   75.2                   317.06   \n",
       "1             68.50      56.0                   75.7                   314.34   \n",
       "2             68.25      56.0                   75.7                   313.91   \n",
       "3             68.31      56.0                   75.7                   318.31   \n",
       "4             68.44      57.0                   75.7                   316.65   \n",
       "\n",
       "   Outside Air Temp Next  Humidity Next  energy Next  \n",
       "0                  68.50           56.0    10.113301  \n",
       "1                  68.25           56.0    10.099466  \n",
       "2                  68.31           56.0    10.241028  \n",
       "3                  68.44           57.0    10.187620  \n",
       "4                  68.81           57.0    10.194055  "
      ]
     },
     "execution_count": 26,
     "metadata": {},
     "output_type": "execute_result"
    }
   ],
   "source": [
    "floor_2.head(5)"
   ]
  },
  {
   "cell_type": "code",
   "execution_count": 48,
   "id": "bea640f2",
   "metadata": {},
   "outputs": [],
   "source": [
    "new_group_index = floor_2.loc[(floor_2['Unnamed: 0.1'] == 0) & (floor_2['Unnamed: 0.1.1'] == 0)].index\n",
    "test_series = pd.Series(new_group_index)"
   ]
  },
  {
   "cell_type": "code",
   "execution_count": 49,
   "id": "fdee8a89",
   "metadata": {},
   "outputs": [],
   "source": [
    "s1 = pd.Series(dict((v,k) for k,v in test_series.iteritems()))"
   ]
  },
  {
   "cell_type": "code",
   "execution_count": 50,
   "id": "d67f84f6",
   "metadata": {},
   "outputs": [
    {
     "data": {
      "text/plain": [
       "0        486\n",
       "437        1\n",
       "859        2\n",
       "1291       3\n",
       "1608       4\n",
       "        ... \n",
       "58201    591\n",
       "58328    592\n",
       "58896    593\n",
       "59482    594\n",
       "60070    595\n",
       "Length: 595, dtype: int64"
      ]
     },
     "execution_count": 50,
     "metadata": {},
     "output_type": "execute_result"
    }
   ],
   "source": [
    "s1"
   ]
  },
  {
   "cell_type": "code",
   "execution_count": 51,
   "id": "208093a9",
   "metadata": {},
   "outputs": [
    {
     "data": {
      "text/plain": [
       "array([486,   1,   2,   3,   4,   5,   6,   7,   8,   9,  10,  11,  12,\n",
       "        13,  14,  15,  16,  17,  18,  19,  20,  21,  22,  23,  24,  25,\n",
       "        26,  27,  28,  29,  30,  31,  32,  33,  34,  35,  36,  37,  38,\n",
       "        39,  40,  41,  42,  43,  44,  45,  46,  47,  48,  49,  50,  51,\n",
       "        52,  53,  54,  55,  56,  57,  58,  59,  60,  61,  62,  63,  64,\n",
       "        65,  66,  67,  68,  69,  70,  71,  72,  73,  74,  75,  76,  77,\n",
       "        78,  79,  80,  81,  82,  83,  84,  85,  86,  87,  88,  89,  90,\n",
       "        91,  92,  93,  94,  95,  96,  97,  98,  99, 100, 101, 102, 103,\n",
       "       104, 105, 106, 107, 108, 109, 110, 111, 112, 113, 114, 115, 116,\n",
       "       117, 118, 119, 120, 121, 122, 123, 124, 125, 126, 127, 128, 129,\n",
       "       130, 131, 132, 133, 134, 135, 136, 137, 138, 139, 140, 141, 142,\n",
       "       143, 144, 145, 146, 147, 148, 149, 150, 151, 152, 153, 154, 155,\n",
       "       156, 157, 158, 159, 160, 161, 162, 163, 164, 165, 166, 167, 168,\n",
       "       169, 170, 171, 172, 173, 174, 175, 176, 177, 178, 179, 180, 181,\n",
       "       182, 183, 184, 185, 186, 187, 188, 189, 190, 191, 192, 193, 194,\n",
       "       195, 196, 197, 198, 199, 200, 201, 202, 203, 204, 205, 206, 207,\n",
       "       208, 209, 210, 211, 212, 213, 214, 215, 216, 217, 218, 219, 220,\n",
       "       221, 222, 223, 224, 225, 226, 227, 228, 229, 230, 231, 232, 233,\n",
       "       234, 235, 236, 237, 238, 239, 240, 241, 242, 243, 244, 245, 246,\n",
       "       247, 248, 249, 250, 251, 252, 253, 254, 255, 256, 257, 258, 259,\n",
       "       260, 261, 262, 263, 264, 265, 266, 267, 268, 269, 270, 271, 272,\n",
       "       273, 274, 275, 276, 277, 278, 279, 280, 281, 282, 283, 284, 285,\n",
       "       286, 287, 288, 289, 290, 291, 292, 293, 294, 295, 296, 297, 298,\n",
       "       299, 300, 301, 302, 303, 304, 305, 306, 307, 308, 309, 310, 311,\n",
       "       312, 313, 314, 315, 316, 317, 318, 319, 320, 321, 322, 323, 324,\n",
       "       325, 326, 327, 328, 329, 330, 331, 332, 333, 334, 335, 336, 337,\n",
       "       338, 339, 340, 341, 342, 343, 344, 345, 346, 347, 348, 349, 350,\n",
       "       351, 352, 353, 354, 355, 356, 357, 358, 359, 360, 361, 362, 363,\n",
       "       364, 365, 366, 367, 368, 369, 370, 371, 372, 373, 374, 375, 376,\n",
       "       377, 378, 379, 380, 381, 382, 383, 384, 385, 386, 387, 388, 389,\n",
       "       390, 391, 392, 393, 394, 395, 396, 397, 398, 399, 400, 401, 402,\n",
       "       403, 404, 405, 406, 407, 408, 409, 410, 411, 412, 413, 414, 415,\n",
       "       416, 417, 418, 419, 420, 421, 422, 423, 424, 425, 426, 427, 428,\n",
       "       429, 430, 431, 432, 433, 434, 435, 436, 437, 438, 439, 440, 441,\n",
       "       442, 443, 444, 445, 446, 447, 448, 449, 450, 451, 452, 453, 454,\n",
       "       455, 456, 457, 458, 459, 460, 461, 462, 463, 464, 465, 466, 467,\n",
       "       468, 469, 470, 471, 472, 473, 474, 475, 476, 477, 478, 479, 480,\n",
       "       481, 482, 483, 484, 485, 487, 488, 489, 490, 491, 492, 493, 494,\n",
       "       495, 496, 497, 498, 499, 500, 501, 502, 503, 504, 505, 506, 507,\n",
       "       508, 509, 510, 511, 512, 513, 514, 515, 516, 517, 518, 519, 520,\n",
       "       521, 522, 523, 524, 525, 526, 527, 528, 529, 530, 531, 532, 533,\n",
       "       534, 535, 536, 537, 538, 539, 540, 541, 542, 543, 544, 545, 546,\n",
       "       547, 548, 549, 550, 551, 552, 553, 554, 555, 556, 557, 558, 559,\n",
       "       560, 561, 562, 563, 564, 565, 566, 567, 568, 569, 570, 571, 572,\n",
       "       573, 574, 575, 576, 577, 578, 579, 580, 581, 582, 583, 584, 585,\n",
       "       586, 587, 588, 589, 590, 591, 592, 593, 594, 595])"
      ]
     },
     "execution_count": 51,
     "metadata": {},
     "output_type": "execute_result"
    }
   ],
   "source": [
    "s1.values"
   ]
  },
  {
   "cell_type": "code",
   "execution_count": 39,
   "id": "89411be7",
   "metadata": {},
   "outputs": [
    {
     "data": {
      "text/plain": [
       "False    199594\n",
       "True      60651\n",
       "dtype: int64"
      ]
     },
     "execution_count": 39,
     "metadata": {},
     "output_type": "execute_result"
    }
   ],
   "source": [
    "pd.Series(floor_2.index).duplicated().value_counts()"
   ]
  },
  {
   "cell_type": "code",
   "execution_count": 27,
   "id": "dfd0ed31",
   "metadata": {},
   "outputs": [
    {
     "data": {
      "text/html": [
       "<div>\n",
       "<style scoped>\n",
       "    .dataframe tbody tr th:only-of-type {\n",
       "        vertical-align: middle;\n",
       "    }\n",
       "\n",
       "    .dataframe tbody tr th {\n",
       "        vertical-align: top;\n",
       "    }\n",
       "\n",
       "    .dataframe thead th {\n",
       "        text-align: right;\n",
       "    }\n",
       "</style>\n",
       "<table border=\"1\" class=\"dataframe\">\n",
       "  <thead>\n",
       "    <tr style=\"text-align: right;\">\n",
       "      <th></th>\n",
       "      <th>group</th>\n",
       "    </tr>\n",
       "    <tr>\n",
       "      <th>index</th>\n",
       "      <th></th>\n",
       "    </tr>\n",
       "  </thead>\n",
       "  <tbody>\n",
       "    <tr>\n",
       "      <th>0</th>\n",
       "      <td>0</td>\n",
       "    </tr>\n",
       "    <tr>\n",
       "      <th>437</th>\n",
       "      <td>1</td>\n",
       "    </tr>\n",
       "    <tr>\n",
       "      <th>859</th>\n",
       "      <td>2</td>\n",
       "    </tr>\n",
       "    <tr>\n",
       "      <th>1291</th>\n",
       "      <td>3</td>\n",
       "    </tr>\n",
       "    <tr>\n",
       "      <th>1608</th>\n",
       "      <td>4</td>\n",
       "    </tr>\n",
       "  </tbody>\n",
       "</table>\n",
       "</div>"
      ],
      "text/plain": [
       "       group\n",
       "index       \n",
       "0          0\n",
       "437        1\n",
       "859        2\n",
       "1291       3\n",
       "1608       4"
      ]
     },
     "execution_count": 27,
     "metadata": {},
     "output_type": "execute_result"
    }
   ],
   "source": [
    "dataframe_0 = floor_2.loc[floor_2['Unnamed: 0.1'] == 0].loc[:, 'Unnamed: 0.1']\n",
    "dataframe_0 = dataframe_0.reset_index().reset_index().rename({'level_0': 'group'}, axis = 1).set_index('index').drop(['Unnamed: 0.1'], axis = 1)\n",
    "dataframe_0.head(5)"
   ]
  },
  {
   "cell_type": "code",
   "execution_count": 43,
   "id": "2755eafd",
   "metadata": {},
   "outputs": [
    {
     "data": {
      "text/plain": [
       "(596, 1)"
      ]
     },
     "execution_count": 43,
     "metadata": {},
     "output_type": "execute_result"
    }
   ],
   "source": [
    "dataframe_0.shape"
   ]
  },
  {
   "cell_type": "code",
   "execution_count": 31,
   "id": "ec05cfc3",
   "metadata": {
    "scrolled": true
   },
   "outputs": [
    {
     "data": {
      "text/plain": [
       "array([  0,   1,   2,   3,   4,   5,   6,   7,   8,   9,  10,  11,  12,\n",
       "        13,  14,  15,  16,  17,  18,  19,  20,  21,  22,  23,  24,  25,\n",
       "        26,  27,  28,  29,  30,  31,  32,  33,  34,  35,  36,  37,  38,\n",
       "        39,  40,  41,  42,  43,  44,  45,  46,  47,  48,  49,  50,  51,\n",
       "        52,  53,  54,  55,  56,  57,  58,  59,  60,  61,  62,  63,  64,\n",
       "        65,  66,  67,  68,  69,  70,  71,  72,  73,  74,  75,  76,  77,\n",
       "        78,  79,  80,  81,  82,  83,  84,  85,  86,  87,  88,  89,  90,\n",
       "        91,  92,  93,  94,  95,  96,  97,  98,  99, 100, 101, 102, 103,\n",
       "       104, 105, 106, 107, 108, 109, 110, 111, 112, 113, 114, 115, 116,\n",
       "       117, 118, 119, 120, 121, 122, 123, 124, 125, 126, 127, 128, 129,\n",
       "       130, 131, 132, 133, 134, 135, 136, 137, 138, 139, 140, 141, 142,\n",
       "       143, 144, 145, 146, 147, 148, 149, 150, 151, 152, 153, 154, 155,\n",
       "       156, 157, 158, 159, 160, 161, 162, 163, 164, 165, 166, 167, 168,\n",
       "       169, 170, 171, 172, 173, 174, 175, 176, 177, 178, 179, 180, 181,\n",
       "       182, 183, 184, 185, 186, 187, 188, 189, 190, 191, 192, 193, 194,\n",
       "       195, 196, 197, 198, 199, 200, 201, 202, 203, 204, 205, 206, 207,\n",
       "       208, 209, 210, 211, 212, 213, 214, 215, 216, 217, 218, 219, 220,\n",
       "       221, 222, 223, 224, 225, 226, 227, 228, 229, 230, 231, 232, 233,\n",
       "       234, 235, 236, 237, 238, 239, 240, 241, 242, 243, 244, 245, 246,\n",
       "       247, 248, 249, 250, 251, 252, 253, 254, 255, 256, 257, 258, 259,\n",
       "       260, 261, 262, 263, 264, 265, 266, 267, 268, 269, 270, 271, 272,\n",
       "       273, 274, 275, 276, 277, 278, 279, 280, 281, 282, 283, 284, 285,\n",
       "       286, 287, 288, 289, 290, 291, 292, 293, 294, 295, 296, 297, 298,\n",
       "       299, 300, 301, 302, 303, 304, 305, 306, 307, 308, 309, 310, 311,\n",
       "       312, 313, 314, 315, 316, 317, 318, 319, 320, 321, 322, 323, 324,\n",
       "       325, 326, 327, 328, 329, 330, 331, 332, 333, 334, 335, 336, 337,\n",
       "       338, 339, 340, 341, 342, 343, 344, 345, 346, 347, 348, 349, 350,\n",
       "       351, 352, 353, 354, 355, 356, 357, 358, 359, 360, 361, 362, 363,\n",
       "       364, 365, 366, 367, 368, 369, 370, 371, 372, 373, 374, 375, 376,\n",
       "       377, 378, 379, 380, 381, 382, 383, 384, 385, 386, 387, 388, 389,\n",
       "       390, 391, 392, 393, 394, 395, 396, 397, 398, 399, 400, 401, 402,\n",
       "       403, 404, 405, 406, 407, 408, 409, 410, 411, 412, 413, 414, 415,\n",
       "       416, 417, 418, 419, 420, 421, 422, 423, 424, 425, 426, 427, 428,\n",
       "       429, 430, 431, 432, 433, 434, 435, 436, 437, 438, 439, 440, 441,\n",
       "       442, 443, 444, 445, 446, 447, 448, 449, 450, 451, 452, 453, 454,\n",
       "       455, 456, 457, 458, 459, 460, 461, 462, 463, 464, 465, 466, 467,\n",
       "       468, 469, 470, 471, 472, 473, 474, 475, 476, 477, 478, 479, 480,\n",
       "       481, 482, 483, 484, 485, 486, 487, 488, 489, 490, 491, 492, 493,\n",
       "       494, 495, 496, 497, 498, 499, 500, 501, 502, 503, 504, 505, 506,\n",
       "       507, 508, 509, 510, 511, 512, 513, 514, 515, 516, 517, 518, 519,\n",
       "       520, 521, 522, 523, 524, 525, 526, 527, 528, 529, 530, 531, 532,\n",
       "       533, 534, 535, 536, 537, 538, 539, 540, 541, 542, 543, 544, 545,\n",
       "       546, 547, 548, 549, 550, 551, 552, 553, 554, 555, 556, 557, 558,\n",
       "       559, 560, 561, 562, 563, 564, 565, 566, 567, 568, 569, 570, 571,\n",
       "       572, 573, 574, 575, 576, 577, 578, 579, 580, 581, 582, 583, 584,\n",
       "       585, 586, 587, 588, 589, 590, 591, 592, 593, 594, 595])"
      ]
     },
     "execution_count": 31,
     "metadata": {},
     "output_type": "execute_result"
    }
   ],
   "source": [
    "dataframe_0['group'].unique()"
   ]
  },
  {
   "cell_type": "code",
   "execution_count": 28,
   "id": "74846a9a",
   "metadata": {},
   "outputs": [],
   "source": [
    "floor_2_updated = floor_2.merge(dataframe_0, how = 'left', left_index = True, right_index = True)"
   ]
  },
  {
   "cell_type": "code",
   "execution_count": 29,
   "id": "cbbd6c07",
   "metadata": {},
   "outputs": [
    {
     "data": {
      "text/html": [
       "<div>\n",
       "<style scoped>\n",
       "    .dataframe tbody tr th:only-of-type {\n",
       "        vertical-align: middle;\n",
       "    }\n",
       "\n",
       "    .dataframe tbody tr th {\n",
       "        vertical-align: top;\n",
       "    }\n",
       "\n",
       "    .dataframe thead th {\n",
       "        text-align: right;\n",
       "    }\n",
       "</style>\n",
       "<table border=\"1\" class=\"dataframe\">\n",
       "  <thead>\n",
       "    <tr style=\"text-align: right;\">\n",
       "      <th></th>\n",
       "      <th>Unnamed: 0.1</th>\n",
       "      <th>Unnamed: 0.1.1</th>\n",
       "      <th>time</th>\n",
       "      <th>Common Setpoint</th>\n",
       "      <th>Actual Sup Flow SP</th>\n",
       "      <th>Zone Temperature</th>\n",
       "      <th>Actual Supply Flow</th>\n",
       "      <th>energy</th>\n",
       "      <th>Outside Air Temp</th>\n",
       "      <th>Humidity</th>\n",
       "      <th>Zone Temperature Next</th>\n",
       "      <th>Actual Supply Flow Next</th>\n",
       "      <th>Outside Air Temp Next</th>\n",
       "      <th>Humidity Next</th>\n",
       "      <th>energy Next</th>\n",
       "      <th>group</th>\n",
       "    </tr>\n",
       "  </thead>\n",
       "  <tbody>\n",
       "    <tr>\n",
       "      <th>0</th>\n",
       "      <td>0</td>\n",
       "      <td>0</td>\n",
       "      <td>2018-01-03T20:57:39+00:00</td>\n",
       "      <td>72.5</td>\n",
       "      <td>330.00</td>\n",
       "      <td>75.20</td>\n",
       "      <td>318.73</td>\n",
       "      <td>10.109642</td>\n",
       "      <td>68.44</td>\n",
       "      <td>56.0</td>\n",
       "      <td>75.20</td>\n",
       "      <td>317.06</td>\n",
       "      <td>68.50</td>\n",
       "      <td>56.0</td>\n",
       "      <td>10.113301</td>\n",
       "      <td>0.0</td>\n",
       "    </tr>\n",
       "    <tr>\n",
       "      <th>0</th>\n",
       "      <td>0</td>\n",
       "      <td>0</td>\n",
       "      <td>2018-01-03T20:57:39+00:00</td>\n",
       "      <td>72.5</td>\n",
       "      <td>330.00</td>\n",
       "      <td>75.20</td>\n",
       "      <td>318.73</td>\n",
       "      <td>10.109642</td>\n",
       "      <td>68.44</td>\n",
       "      <td>56.0</td>\n",
       "      <td>75.20</td>\n",
       "      <td>317.06</td>\n",
       "      <td>68.50</td>\n",
       "      <td>56.0</td>\n",
       "      <td>10.113301</td>\n",
       "      <td>486.0</td>\n",
       "    </tr>\n",
       "    <tr>\n",
       "      <th>0</th>\n",
       "      <td>0</td>\n",
       "      <td>0</td>\n",
       "      <td>2017-07-31T13:37:15+00:00</td>\n",
       "      <td>72.0</td>\n",
       "      <td>469.77</td>\n",
       "      <td>72.93</td>\n",
       "      <td>472.65</td>\n",
       "      <td>15.568162</td>\n",
       "      <td>68.63</td>\n",
       "      <td>60.0</td>\n",
       "      <td>72.93</td>\n",
       "      <td>468.02</td>\n",
       "      <td>68.44</td>\n",
       "      <td>60.0</td>\n",
       "      <td>14.919849</td>\n",
       "      <td>0.0</td>\n",
       "    </tr>\n",
       "    <tr>\n",
       "      <th>0</th>\n",
       "      <td>0</td>\n",
       "      <td>0</td>\n",
       "      <td>2017-07-31T13:37:15+00:00</td>\n",
       "      <td>72.0</td>\n",
       "      <td>469.77</td>\n",
       "      <td>72.93</td>\n",
       "      <td>472.65</td>\n",
       "      <td>15.568162</td>\n",
       "      <td>68.63</td>\n",
       "      <td>60.0</td>\n",
       "      <td>72.93</td>\n",
       "      <td>468.02</td>\n",
       "      <td>68.44</td>\n",
       "      <td>60.0</td>\n",
       "      <td>14.919849</td>\n",
       "      <td>486.0</td>\n",
       "    </tr>\n",
       "    <tr>\n",
       "      <th>1</th>\n",
       "      <td>1</td>\n",
       "      <td>1</td>\n",
       "      <td>2018-01-03T21:04:13+00:00</td>\n",
       "      <td>72.5</td>\n",
       "      <td>330.00</td>\n",
       "      <td>75.20</td>\n",
       "      <td>317.06</td>\n",
       "      <td>10.113301</td>\n",
       "      <td>68.50</td>\n",
       "      <td>56.0</td>\n",
       "      <td>75.70</td>\n",
       "      <td>314.34</td>\n",
       "      <td>68.25</td>\n",
       "      <td>56.0</td>\n",
       "      <td>10.099466</td>\n",
       "      <td>NaN</td>\n",
       "    </tr>\n",
       "  </tbody>\n",
       "</table>\n",
       "</div>"
      ],
      "text/plain": [
       "   Unnamed: 0.1  Unnamed: 0.1.1                       time  Common Setpoint  \\\n",
       "0             0               0  2018-01-03T20:57:39+00:00             72.5   \n",
       "0             0               0  2018-01-03T20:57:39+00:00             72.5   \n",
       "0             0               0  2017-07-31T13:37:15+00:00             72.0   \n",
       "0             0               0  2017-07-31T13:37:15+00:00             72.0   \n",
       "1             1               1  2018-01-03T21:04:13+00:00             72.5   \n",
       "\n",
       "   Actual Sup Flow SP  Zone Temperature  Actual Supply Flow     energy  \\\n",
       "0              330.00             75.20              318.73  10.109642   \n",
       "0              330.00             75.20              318.73  10.109642   \n",
       "0              469.77             72.93              472.65  15.568162   \n",
       "0              469.77             72.93              472.65  15.568162   \n",
       "1              330.00             75.20              317.06  10.113301   \n",
       "\n",
       "   Outside Air Temp  Humidity  Zone Temperature Next  Actual Supply Flow Next  \\\n",
       "0             68.44      56.0                  75.20                   317.06   \n",
       "0             68.44      56.0                  75.20                   317.06   \n",
       "0             68.63      60.0                  72.93                   468.02   \n",
       "0             68.63      60.0                  72.93                   468.02   \n",
       "1             68.50      56.0                  75.70                   314.34   \n",
       "\n",
       "   Outside Air Temp Next  Humidity Next  energy Next  group  \n",
       "0                  68.50           56.0    10.113301    0.0  \n",
       "0                  68.50           56.0    10.113301  486.0  \n",
       "0                  68.44           60.0    14.919849    0.0  \n",
       "0                  68.44           60.0    14.919849  486.0  \n",
       "1                  68.25           56.0    10.099466    NaN  "
      ]
     },
     "execution_count": 29,
     "metadata": {},
     "output_type": "execute_result"
    }
   ],
   "source": [
    "floor_2_updated.head()"
   ]
  },
  {
   "cell_type": "code",
   "execution_count": 13,
   "id": "e3eea0af",
   "metadata": {},
   "outputs": [],
   "source": [
    "floor_2.loc[floor_2['Unnamed: 0.1'] == 0, 'group'] = floor_2.loc[floor_2['Unnamed: 0.1'] == 0].reset_index().reset_index()['level_0']"
   ]
  },
  {
   "cell_type": "code",
   "execution_count": 53,
   "id": "65e69155",
   "metadata": {},
   "outputs": [],
   "source": [
    "resetted = floor_2_updated.reset_index()"
   ]
  },
  {
   "cell_type": "code",
   "execution_count": 54,
   "id": "b8324c0f",
   "metadata": {},
   "outputs": [
    {
     "data": {
      "text/html": [
       "<div>\n",
       "<style scoped>\n",
       "    .dataframe tbody tr th:only-of-type {\n",
       "        vertical-align: middle;\n",
       "    }\n",
       "\n",
       "    .dataframe tbody tr th {\n",
       "        vertical-align: top;\n",
       "    }\n",
       "\n",
       "    .dataframe thead th {\n",
       "        text-align: right;\n",
       "    }\n",
       "</style>\n",
       "<table border=\"1\" class=\"dataframe\">\n",
       "  <thead>\n",
       "    <tr style=\"text-align: right;\">\n",
       "      <th></th>\n",
       "      <th>index</th>\n",
       "      <th>Unnamed: 0.1</th>\n",
       "      <th>Unnamed: 0.1.1</th>\n",
       "      <th>time</th>\n",
       "      <th>Common Setpoint</th>\n",
       "      <th>Actual Sup Flow SP</th>\n",
       "      <th>Zone Temperature</th>\n",
       "      <th>Actual Supply Flow</th>\n",
       "      <th>energy</th>\n",
       "      <th>Outside Air Temp</th>\n",
       "      <th>Humidity</th>\n",
       "      <th>Zone Temperature Next</th>\n",
       "      <th>Actual Supply Flow Next</th>\n",
       "      <th>Outside Air Temp Next</th>\n",
       "      <th>Humidity Next</th>\n",
       "      <th>energy Next</th>\n",
       "      <th>group</th>\n",
       "    </tr>\n",
       "  </thead>\n",
       "  <tbody>\n",
       "    <tr>\n",
       "      <th>0</th>\n",
       "      <td>0</td>\n",
       "      <td>0</td>\n",
       "      <td>0</td>\n",
       "      <td>2018-01-03T20:57:39+00:00</td>\n",
       "      <td>72.5</td>\n",
       "      <td>330.00</td>\n",
       "      <td>75.20</td>\n",
       "      <td>318.73</td>\n",
       "      <td>10.109642</td>\n",
       "      <td>68.44</td>\n",
       "      <td>56.0</td>\n",
       "      <td>75.20</td>\n",
       "      <td>317.06</td>\n",
       "      <td>68.50</td>\n",
       "      <td>56.0</td>\n",
       "      <td>10.113301</td>\n",
       "      <td>0.0</td>\n",
       "    </tr>\n",
       "    <tr>\n",
       "      <th>1</th>\n",
       "      <td>0</td>\n",
       "      <td>0</td>\n",
       "      <td>0</td>\n",
       "      <td>2018-01-03T20:57:39+00:00</td>\n",
       "      <td>72.5</td>\n",
       "      <td>330.00</td>\n",
       "      <td>75.20</td>\n",
       "      <td>318.73</td>\n",
       "      <td>10.109642</td>\n",
       "      <td>68.44</td>\n",
       "      <td>56.0</td>\n",
       "      <td>75.20</td>\n",
       "      <td>317.06</td>\n",
       "      <td>68.50</td>\n",
       "      <td>56.0</td>\n",
       "      <td>10.113301</td>\n",
       "      <td>486.0</td>\n",
       "    </tr>\n",
       "    <tr>\n",
       "      <th>2</th>\n",
       "      <td>0</td>\n",
       "      <td>0</td>\n",
       "      <td>0</td>\n",
       "      <td>2017-07-31T13:37:15+00:00</td>\n",
       "      <td>72.0</td>\n",
       "      <td>469.77</td>\n",
       "      <td>72.93</td>\n",
       "      <td>472.65</td>\n",
       "      <td>15.568162</td>\n",
       "      <td>68.63</td>\n",
       "      <td>60.0</td>\n",
       "      <td>72.93</td>\n",
       "      <td>468.02</td>\n",
       "      <td>68.44</td>\n",
       "      <td>60.0</td>\n",
       "      <td>14.919849</td>\n",
       "      <td>0.0</td>\n",
       "    </tr>\n",
       "    <tr>\n",
       "      <th>3</th>\n",
       "      <td>0</td>\n",
       "      <td>0</td>\n",
       "      <td>0</td>\n",
       "      <td>2017-07-31T13:37:15+00:00</td>\n",
       "      <td>72.0</td>\n",
       "      <td>469.77</td>\n",
       "      <td>72.93</td>\n",
       "      <td>472.65</td>\n",
       "      <td>15.568162</td>\n",
       "      <td>68.63</td>\n",
       "      <td>60.0</td>\n",
       "      <td>72.93</td>\n",
       "      <td>468.02</td>\n",
       "      <td>68.44</td>\n",
       "      <td>60.0</td>\n",
       "      <td>14.919849</td>\n",
       "      <td>486.0</td>\n",
       "    </tr>\n",
       "    <tr>\n",
       "      <th>4</th>\n",
       "      <td>1</td>\n",
       "      <td>1</td>\n",
       "      <td>1</td>\n",
       "      <td>2018-01-03T21:04:13+00:00</td>\n",
       "      <td>72.5</td>\n",
       "      <td>330.00</td>\n",
       "      <td>75.20</td>\n",
       "      <td>317.06</td>\n",
       "      <td>10.113301</td>\n",
       "      <td>68.50</td>\n",
       "      <td>56.0</td>\n",
       "      <td>75.70</td>\n",
       "      <td>314.34</td>\n",
       "      <td>68.25</td>\n",
       "      <td>56.0</td>\n",
       "      <td>10.099466</td>\n",
       "      <td>NaN</td>\n",
       "    </tr>\n",
       "  </tbody>\n",
       "</table>\n",
       "</div>"
      ],
      "text/plain": [
       "   index  Unnamed: 0.1  Unnamed: 0.1.1                       time  \\\n",
       "0      0             0               0  2018-01-03T20:57:39+00:00   \n",
       "1      0             0               0  2018-01-03T20:57:39+00:00   \n",
       "2      0             0               0  2017-07-31T13:37:15+00:00   \n",
       "3      0             0               0  2017-07-31T13:37:15+00:00   \n",
       "4      1             1               1  2018-01-03T21:04:13+00:00   \n",
       "\n",
       "   Common Setpoint  Actual Sup Flow SP  Zone Temperature  Actual Supply Flow  \\\n",
       "0             72.5              330.00             75.20              318.73   \n",
       "1             72.5              330.00             75.20              318.73   \n",
       "2             72.0              469.77             72.93              472.65   \n",
       "3             72.0              469.77             72.93              472.65   \n",
       "4             72.5              330.00             75.20              317.06   \n",
       "\n",
       "      energy  Outside Air Temp  Humidity  Zone Temperature Next  \\\n",
       "0  10.109642             68.44      56.0                  75.20   \n",
       "1  10.109642             68.44      56.0                  75.20   \n",
       "2  15.568162             68.63      60.0                  72.93   \n",
       "3  15.568162             68.63      60.0                  72.93   \n",
       "4  10.113301             68.50      56.0                  75.70   \n",
       "\n",
       "   Actual Supply Flow Next  Outside Air Temp Next  Humidity Next  energy Next  \\\n",
       "0                   317.06                  68.50           56.0    10.113301   \n",
       "1                   317.06                  68.50           56.0    10.113301   \n",
       "2                   468.02                  68.44           60.0    14.919849   \n",
       "3                   468.02                  68.44           60.0    14.919849   \n",
       "4                   314.34                  68.25           56.0    10.099466   \n",
       "\n",
       "   group  \n",
       "0    0.0  \n",
       "1  486.0  \n",
       "2    0.0  \n",
       "3  486.0  \n",
       "4    NaN  "
      ]
     },
     "execution_count": 54,
     "metadata": {},
     "output_type": "execute_result"
    }
   ],
   "source": [
    "resetted.head()"
   ]
  },
  {
   "cell_type": "code",
   "execution_count": null,
   "id": "f9a1a011",
   "metadata": {},
   "outputs": [],
   "source": [
    "# something really strange is going on with data cleaning"
   ]
  },
  {
   "cell_type": "code",
   "execution_count": 56,
   "id": "2b0ec505",
   "metadata": {},
   "outputs": [
    {
     "data": {
      "text/html": [
       "<div>\n",
       "<style scoped>\n",
       "    .dataframe tbody tr th:only-of-type {\n",
       "        vertical-align: middle;\n",
       "    }\n",
       "\n",
       "    .dataframe tbody tr th {\n",
       "        vertical-align: top;\n",
       "    }\n",
       "\n",
       "    .dataframe thead th {\n",
       "        text-align: right;\n",
       "    }\n",
       "</style>\n",
       "<table border=\"1\" class=\"dataframe\">\n",
       "  <thead>\n",
       "    <tr style=\"text-align: right;\">\n",
       "      <th></th>\n",
       "      <th>index</th>\n",
       "      <th>Unnamed: 0.1</th>\n",
       "      <th>Unnamed: 0.1.1</th>\n",
       "      <th>time</th>\n",
       "      <th>Common Setpoint</th>\n",
       "      <th>Actual Sup Flow SP</th>\n",
       "      <th>Zone Temperature</th>\n",
       "      <th>Actual Supply Flow</th>\n",
       "      <th>energy</th>\n",
       "      <th>Outside Air Temp</th>\n",
       "      <th>Humidity</th>\n",
       "      <th>Zone Temperature Next</th>\n",
       "      <th>Actual Supply Flow Next</th>\n",
       "      <th>Outside Air Temp Next</th>\n",
       "      <th>Humidity Next</th>\n",
       "      <th>energy Next</th>\n",
       "      <th>group</th>\n",
       "    </tr>\n",
       "  </thead>\n",
       "  <tbody>\n",
       "    <tr>\n",
       "      <th>0</th>\n",
       "      <td>0</td>\n",
       "      <td>0</td>\n",
       "      <td>0</td>\n",
       "      <td>2018-01-03T20:57:39+00:00</td>\n",
       "      <td>72.5</td>\n",
       "      <td>330.00</td>\n",
       "      <td>75.20</td>\n",
       "      <td>318.73</td>\n",
       "      <td>10.109642</td>\n",
       "      <td>68.44</td>\n",
       "      <td>56.0</td>\n",
       "      <td>75.20</td>\n",
       "      <td>317.06</td>\n",
       "      <td>68.50</td>\n",
       "      <td>56.0</td>\n",
       "      <td>10.113301</td>\n",
       "      <td>0.0</td>\n",
       "    </tr>\n",
       "    <tr>\n",
       "      <th>2</th>\n",
       "      <td>0</td>\n",
       "      <td>0</td>\n",
       "      <td>0</td>\n",
       "      <td>2017-07-31T13:37:15+00:00</td>\n",
       "      <td>72.0</td>\n",
       "      <td>469.77</td>\n",
       "      <td>72.93</td>\n",
       "      <td>472.65</td>\n",
       "      <td>15.568162</td>\n",
       "      <td>68.63</td>\n",
       "      <td>60.0</td>\n",
       "      <td>72.93</td>\n",
       "      <td>468.02</td>\n",
       "      <td>68.44</td>\n",
       "      <td>60.0</td>\n",
       "      <td>14.919849</td>\n",
       "      <td>0.0</td>\n",
       "    </tr>\n",
       "  </tbody>\n",
       "</table>\n",
       "</div>"
      ],
      "text/plain": [
       "   index  Unnamed: 0.1  Unnamed: 0.1.1                       time  \\\n",
       "0      0             0               0  2018-01-03T20:57:39+00:00   \n",
       "2      0             0               0  2017-07-31T13:37:15+00:00   \n",
       "\n",
       "   Common Setpoint  Actual Sup Flow SP  Zone Temperature  Actual Supply Flow  \\\n",
       "0             72.5              330.00             75.20              318.73   \n",
       "2             72.0              469.77             72.93              472.65   \n",
       "\n",
       "      energy  Outside Air Temp  Humidity  Zone Temperature Next  \\\n",
       "0  10.109642             68.44      56.0                  75.20   \n",
       "2  15.568162             68.63      60.0                  72.93   \n",
       "\n",
       "   Actual Supply Flow Next  Outside Air Temp Next  Humidity Next  energy Next  \\\n",
       "0                   317.06                  68.50           56.0    10.113301   \n",
       "2                   468.02                  68.44           60.0    14.919849   \n",
       "\n",
       "   group  \n",
       "0    0.0  \n",
       "2    0.0  "
      ]
     },
     "execution_count": 56,
     "metadata": {},
     "output_type": "execute_result"
    }
   ],
   "source": [
    "resetted.loc[resetted['group'] == 0]"
   ]
  },
  {
   "cell_type": "code",
   "execution_count": null,
   "id": "aab8e4cd",
   "metadata": {},
   "outputs": [],
   "source": [
    "resetted.loc[]"
   ]
  },
  {
   "cell_type": "code",
   "execution_count": 6,
   "id": "8a1232ce",
   "metadata": {},
   "outputs": [],
   "source": [
    "floor_3 = floor_3.drop(['Unnamed: 0.1'], axis = 1)"
   ]
  },
  {
   "cell_type": "code",
   "execution_count": 7,
   "id": "0342b9b5",
   "metadata": {},
   "outputs": [
    {
     "data": {
      "text/html": [
       "<div>\n",
       "<style scoped>\n",
       "    .dataframe tbody tr th:only-of-type {\n",
       "        vertical-align: middle;\n",
       "    }\n",
       "\n",
       "    .dataframe tbody tr th {\n",
       "        vertical-align: top;\n",
       "    }\n",
       "\n",
       "    .dataframe thead th {\n",
       "        text-align: right;\n",
       "    }\n",
       "</style>\n",
       "<table border=\"1\" class=\"dataframe\">\n",
       "  <thead>\n",
       "    <tr style=\"text-align: right;\">\n",
       "      <th></th>\n",
       "      <th>time</th>\n",
       "      <th>Common Setpoint</th>\n",
       "      <th>Actual Sup Flow SP</th>\n",
       "      <th>Zone Temperature</th>\n",
       "      <th>Actual Supply Flow</th>\n",
       "      <th>energy</th>\n",
       "      <th>Outside Air Temp</th>\n",
       "      <th>Humidity</th>\n",
       "      <th>Zone Temperature Next</th>\n",
       "      <th>Actual Supply Flow Next</th>\n",
       "      <th>Outside Air Temp Next</th>\n",
       "      <th>Humidity Next</th>\n",
       "      <th>energy Next</th>\n",
       "    </tr>\n",
       "  </thead>\n",
       "  <tbody>\n",
       "    <tr>\n",
       "      <th>0</th>\n",
       "      <td>2018-07-05T00:58:48+00:00</td>\n",
       "      <td>72.0</td>\n",
       "      <td>295.0</td>\n",
       "      <td>73.75</td>\n",
       "      <td>287.56</td>\n",
       "      <td>9.067059</td>\n",
       "      <td>68.88</td>\n",
       "      <td>53.0</td>\n",
       "      <td>73.75</td>\n",
       "      <td>289.97</td>\n",
       "      <td>69.31</td>\n",
       "      <td>53.0</td>\n",
       "      <td>9.104582</td>\n",
       "    </tr>\n",
       "    <tr>\n",
       "      <th>1</th>\n",
       "      <td>2018-07-05T01:04:13+00:00</td>\n",
       "      <td>72.0</td>\n",
       "      <td>295.0</td>\n",
       "      <td>73.75</td>\n",
       "      <td>289.97</td>\n",
       "      <td>9.104582</td>\n",
       "      <td>69.31</td>\n",
       "      <td>53.0</td>\n",
       "      <td>73.75</td>\n",
       "      <td>291.17</td>\n",
       "      <td>68.88</td>\n",
       "      <td>53.0</td>\n",
       "      <td>9.377247</td>\n",
       "    </tr>\n",
       "    <tr>\n",
       "      <th>2</th>\n",
       "      <td>2018-07-05T01:09:37+00:00</td>\n",
       "      <td>72.0</td>\n",
       "      <td>295.0</td>\n",
       "      <td>73.75</td>\n",
       "      <td>291.17</td>\n",
       "      <td>9.377247</td>\n",
       "      <td>68.88</td>\n",
       "      <td>53.0</td>\n",
       "      <td>73.75</td>\n",
       "      <td>299.89</td>\n",
       "      <td>68.94</td>\n",
       "      <td>53.0</td>\n",
       "      <td>9.147068</td>\n",
       "    </tr>\n",
       "    <tr>\n",
       "      <th>3</th>\n",
       "      <td>2018-07-05T01:15:17+00:00</td>\n",
       "      <td>72.0</td>\n",
       "      <td>295.0</td>\n",
       "      <td>73.75</td>\n",
       "      <td>299.89</td>\n",
       "      <td>9.147068</td>\n",
       "      <td>68.94</td>\n",
       "      <td>53.0</td>\n",
       "      <td>73.75</td>\n",
       "      <td>294.97</td>\n",
       "      <td>69.13</td>\n",
       "      <td>53.0</td>\n",
       "      <td>9.198235</td>\n",
       "    </tr>\n",
       "    <tr>\n",
       "      <th>4</th>\n",
       "      <td>2018-07-05T01:20:55+00:00</td>\n",
       "      <td>72.0</td>\n",
       "      <td>295.0</td>\n",
       "      <td>73.75</td>\n",
       "      <td>294.97</td>\n",
       "      <td>9.198235</td>\n",
       "      <td>69.13</td>\n",
       "      <td>53.0</td>\n",
       "      <td>73.75</td>\n",
       "      <td>296.62</td>\n",
       "      <td>68.94</td>\n",
       "      <td>53.0</td>\n",
       "      <td>9.212810</td>\n",
       "    </tr>\n",
       "  </tbody>\n",
       "</table>\n",
       "</div>"
      ],
      "text/plain": [
       "                        time  Common Setpoint  Actual Sup Flow SP  \\\n",
       "0  2018-07-05T00:58:48+00:00             72.0               295.0   \n",
       "1  2018-07-05T01:04:13+00:00             72.0               295.0   \n",
       "2  2018-07-05T01:09:37+00:00             72.0               295.0   \n",
       "3  2018-07-05T01:15:17+00:00             72.0               295.0   \n",
       "4  2018-07-05T01:20:55+00:00             72.0               295.0   \n",
       "\n",
       "   Zone Temperature  Actual Supply Flow    energy  Outside Air Temp  Humidity  \\\n",
       "0             73.75              287.56  9.067059             68.88      53.0   \n",
       "1             73.75              289.97  9.104582             69.31      53.0   \n",
       "2             73.75              291.17  9.377247             68.88      53.0   \n",
       "3             73.75              299.89  9.147068             68.94      53.0   \n",
       "4             73.75              294.97  9.198235             69.13      53.0   \n",
       "\n",
       "   Zone Temperature Next  Actual Supply Flow Next  Outside Air Temp Next  \\\n",
       "0                  73.75                   289.97                  69.31   \n",
       "1                  73.75                   291.17                  68.88   \n",
       "2                  73.75                   299.89                  68.94   \n",
       "3                  73.75                   294.97                  69.13   \n",
       "4                  73.75                   296.62                  68.94   \n",
       "\n",
       "   Humidity Next  energy Next  \n",
       "0           53.0     9.104582  \n",
       "1           53.0     9.377247  \n",
       "2           53.0     9.147068  \n",
       "3           53.0     9.198235  \n",
       "4           53.0     9.212810  "
      ]
     },
     "execution_count": 7,
     "metadata": {},
     "output_type": "execute_result"
    }
   ],
   "source": [
    "floor_3.head(5)"
   ]
  },
  {
   "cell_type": "code",
   "execution_count": 8,
   "id": "f878eb70",
   "metadata": {},
   "outputs": [],
   "source": [
    "floor_4 = floor_4.drop(['Unnamed: 0.1'], axis = 1)"
   ]
  },
  {
   "cell_type": "code",
   "execution_count": 9,
   "id": "4422de93",
   "metadata": {},
   "outputs": [
    {
     "data": {
      "text/html": [
       "<div>\n",
       "<style scoped>\n",
       "    .dataframe tbody tr th:only-of-type {\n",
       "        vertical-align: middle;\n",
       "    }\n",
       "\n",
       "    .dataframe tbody tr th {\n",
       "        vertical-align: top;\n",
       "    }\n",
       "\n",
       "    .dataframe thead th {\n",
       "        text-align: right;\n",
       "    }\n",
       "</style>\n",
       "<table border=\"1\" class=\"dataframe\">\n",
       "  <thead>\n",
       "    <tr style=\"text-align: right;\">\n",
       "      <th></th>\n",
       "      <th>time</th>\n",
       "      <th>Common Setpoint</th>\n",
       "      <th>Actual Sup Flow SP</th>\n",
       "      <th>Zone Temperature</th>\n",
       "      <th>Actual Supply Flow</th>\n",
       "      <th>energy</th>\n",
       "      <th>Outside Air Temp</th>\n",
       "      <th>Humidity</th>\n",
       "      <th>Zone Temperature Next</th>\n",
       "      <th>Actual Supply Flow Next</th>\n",
       "      <th>Outside Air Temp Next</th>\n",
       "      <th>Humidity Next</th>\n",
       "      <th>energy Next</th>\n",
       "    </tr>\n",
       "  </thead>\n",
       "  <tbody>\n",
       "    <tr>\n",
       "      <th>0</th>\n",
       "      <td>2018-09-23T22:59:39+00:00</td>\n",
       "      <td>72.0</td>\n",
       "      <td>722.73</td>\n",
       "      <td>75.25</td>\n",
       "      <td>733.46</td>\n",
       "      <td>23.554224</td>\n",
       "      <td>71.31</td>\n",
       "      <td>53.0</td>\n",
       "      <td>74.74</td>\n",
       "      <td>692.03</td>\n",
       "      <td>71.19</td>\n",
       "      <td>53.0</td>\n",
       "      <td>22.261861</td>\n",
       "    </tr>\n",
       "    <tr>\n",
       "      <th>1</th>\n",
       "      <td>2018-09-23T23:06:38+00:00</td>\n",
       "      <td>72.0</td>\n",
       "      <td>661.39</td>\n",
       "      <td>74.74</td>\n",
       "      <td>692.03</td>\n",
       "      <td>22.261861</td>\n",
       "      <td>71.19</td>\n",
       "      <td>53.0</td>\n",
       "      <td>74.74</td>\n",
       "      <td>654.06</td>\n",
       "      <td>71.19</td>\n",
       "      <td>53.0</td>\n",
       "      <td>19.471076</td>\n",
       "    </tr>\n",
       "    <tr>\n",
       "      <th>2</th>\n",
       "      <td>2018-09-23T23:13:38+00:00</td>\n",
       "      <td>72.0</td>\n",
       "      <td>624.95</td>\n",
       "      <td>74.74</td>\n",
       "      <td>654.06</td>\n",
       "      <td>19.471076</td>\n",
       "      <td>71.19</td>\n",
       "      <td>53.0</td>\n",
       "      <td>74.24</td>\n",
       "      <td>576.94</td>\n",
       "      <td>70.94</td>\n",
       "      <td>53.0</td>\n",
       "      <td>18.861571</td>\n",
       "    </tr>\n",
       "    <tr>\n",
       "      <th>3</th>\n",
       "      <td>2018-09-23T23:20:38+00:00</td>\n",
       "      <td>72.0</td>\n",
       "      <td>562.05</td>\n",
       "      <td>74.24</td>\n",
       "      <td>576.94</td>\n",
       "      <td>18.861571</td>\n",
       "      <td>70.94</td>\n",
       "      <td>53.0</td>\n",
       "      <td>74.24</td>\n",
       "      <td>558.88</td>\n",
       "      <td>70.94</td>\n",
       "      <td>53.0</td>\n",
       "      <td>17.087055</td>\n",
       "    </tr>\n",
       "    <tr>\n",
       "      <th>4</th>\n",
       "      <td>2018-09-23T23:27:37+00:00</td>\n",
       "      <td>72.0</td>\n",
       "      <td>532.93</td>\n",
       "      <td>74.24</td>\n",
       "      <td>558.88</td>\n",
       "      <td>17.087055</td>\n",
       "      <td>70.94</td>\n",
       "      <td>53.0</td>\n",
       "      <td>74.24</td>\n",
       "      <td>506.30</td>\n",
       "      <td>70.81</td>\n",
       "      <td>53.0</td>\n",
       "      <td>16.212959</td>\n",
       "    </tr>\n",
       "  </tbody>\n",
       "</table>\n",
       "</div>"
      ],
      "text/plain": [
       "                        time  Common Setpoint  Actual Sup Flow SP  \\\n",
       "0  2018-09-23T22:59:39+00:00             72.0              722.73   \n",
       "1  2018-09-23T23:06:38+00:00             72.0              661.39   \n",
       "2  2018-09-23T23:13:38+00:00             72.0              624.95   \n",
       "3  2018-09-23T23:20:38+00:00             72.0              562.05   \n",
       "4  2018-09-23T23:27:37+00:00             72.0              532.93   \n",
       "\n",
       "   Zone Temperature  Actual Supply Flow     energy  Outside Air Temp  \\\n",
       "0             75.25              733.46  23.554224             71.31   \n",
       "1             74.74              692.03  22.261861             71.19   \n",
       "2             74.74              654.06  19.471076             71.19   \n",
       "3             74.24              576.94  18.861571             70.94   \n",
       "4             74.24              558.88  17.087055             70.94   \n",
       "\n",
       "   Humidity  Zone Temperature Next  Actual Supply Flow Next  \\\n",
       "0      53.0                  74.74                   692.03   \n",
       "1      53.0                  74.74                   654.06   \n",
       "2      53.0                  74.24                   576.94   \n",
       "3      53.0                  74.24                   558.88   \n",
       "4      53.0                  74.24                   506.30   \n",
       "\n",
       "   Outside Air Temp Next  Humidity Next  energy Next  \n",
       "0                  71.19           53.0    22.261861  \n",
       "1                  71.19           53.0    19.471076  \n",
       "2                  70.94           53.0    18.861571  \n",
       "3                  70.94           53.0    17.087055  \n",
       "4                  70.81           53.0    16.212959  "
      ]
     },
     "execution_count": 9,
     "metadata": {},
     "output_type": "execute_result"
    }
   ],
   "source": [
    "floor_4.head(5)"
   ]
  },
  {
   "cell_type": "code",
   "execution_count": 10,
   "id": "c4b8ac10",
   "metadata": {},
   "outputs": [],
   "source": [
    "floor_2['floor'] = 2\n",
    "floor_3['floor'] = 3\n",
    "floor_4['floor'] = 4"
   ]
  },
  {
   "cell_type": "code",
   "execution_count": 11,
   "id": "0e30d71c",
   "metadata": {},
   "outputs": [],
   "source": [
    "# ignoring Will's zone number code\n",
    "\n",
    "combined_floors = pd.concat([floor_2, floor_3, floor_4]).reset_index(drop = True)\n"
   ]
  },
  {
   "cell_type": "code",
   "execution_count": 12,
   "id": "d6462ca0",
   "metadata": {},
   "outputs": [
    {
     "data": {
      "text/html": [
       "<div>\n",
       "<style scoped>\n",
       "    .dataframe tbody tr th:only-of-type {\n",
       "        vertical-align: middle;\n",
       "    }\n",
       "\n",
       "    .dataframe tbody tr th {\n",
       "        vertical-align: top;\n",
       "    }\n",
       "\n",
       "    .dataframe thead th {\n",
       "        text-align: right;\n",
       "    }\n",
       "</style>\n",
       "<table border=\"1\" class=\"dataframe\">\n",
       "  <thead>\n",
       "    <tr style=\"text-align: right;\">\n",
       "      <th></th>\n",
       "      <th>time</th>\n",
       "      <th>Common Setpoint</th>\n",
       "      <th>Actual Sup Flow SP</th>\n",
       "      <th>Zone Temperature</th>\n",
       "      <th>Actual Supply Flow</th>\n",
       "      <th>energy</th>\n",
       "      <th>Outside Air Temp</th>\n",
       "      <th>Humidity</th>\n",
       "      <th>Zone Temperature Next</th>\n",
       "      <th>Actual Supply Flow Next</th>\n",
       "      <th>Outside Air Temp Next</th>\n",
       "      <th>Humidity Next</th>\n",
       "      <th>energy Next</th>\n",
       "      <th>floor</th>\n",
       "    </tr>\n",
       "  </thead>\n",
       "  <tbody>\n",
       "    <tr>\n",
       "      <th>0</th>\n",
       "      <td>2018-01-03T20:57:39+00:00</td>\n",
       "      <td>72.5</td>\n",
       "      <td>330.0</td>\n",
       "      <td>75.2</td>\n",
       "      <td>318.73</td>\n",
       "      <td>10.109642</td>\n",
       "      <td>68.44</td>\n",
       "      <td>56.0</td>\n",
       "      <td>75.2</td>\n",
       "      <td>317.06</td>\n",
       "      <td>68.50</td>\n",
       "      <td>56.0</td>\n",
       "      <td>10.113301</td>\n",
       "      <td>2</td>\n",
       "    </tr>\n",
       "    <tr>\n",
       "      <th>1</th>\n",
       "      <td>2018-01-03T21:04:13+00:00</td>\n",
       "      <td>72.5</td>\n",
       "      <td>330.0</td>\n",
       "      <td>75.2</td>\n",
       "      <td>317.06</td>\n",
       "      <td>10.113301</td>\n",
       "      <td>68.50</td>\n",
       "      <td>56.0</td>\n",
       "      <td>75.7</td>\n",
       "      <td>314.34</td>\n",
       "      <td>68.25</td>\n",
       "      <td>56.0</td>\n",
       "      <td>10.099466</td>\n",
       "      <td>2</td>\n",
       "    </tr>\n",
       "    <tr>\n",
       "      <th>2</th>\n",
       "      <td>2018-01-03T21:10:44+00:00</td>\n",
       "      <td>72.5</td>\n",
       "      <td>330.0</td>\n",
       "      <td>75.7</td>\n",
       "      <td>314.34</td>\n",
       "      <td>10.099466</td>\n",
       "      <td>68.25</td>\n",
       "      <td>56.0</td>\n",
       "      <td>75.7</td>\n",
       "      <td>313.91</td>\n",
       "      <td>68.31</td>\n",
       "      <td>56.0</td>\n",
       "      <td>10.241028</td>\n",
       "      <td>2</td>\n",
       "    </tr>\n",
       "    <tr>\n",
       "      <th>3</th>\n",
       "      <td>2018-01-03T21:17:16+00:00</td>\n",
       "      <td>72.5</td>\n",
       "      <td>330.0</td>\n",
       "      <td>75.7</td>\n",
       "      <td>313.91</td>\n",
       "      <td>10.241028</td>\n",
       "      <td>68.31</td>\n",
       "      <td>56.0</td>\n",
       "      <td>75.7</td>\n",
       "      <td>318.31</td>\n",
       "      <td>68.44</td>\n",
       "      <td>57.0</td>\n",
       "      <td>10.187620</td>\n",
       "      <td>2</td>\n",
       "    </tr>\n",
       "    <tr>\n",
       "      <th>4</th>\n",
       "      <td>2018-01-03T21:23:44+00:00</td>\n",
       "      <td>72.5</td>\n",
       "      <td>330.0</td>\n",
       "      <td>75.7</td>\n",
       "      <td>318.31</td>\n",
       "      <td>10.187620</td>\n",
       "      <td>68.44</td>\n",
       "      <td>57.0</td>\n",
       "      <td>75.7</td>\n",
       "      <td>316.65</td>\n",
       "      <td>68.81</td>\n",
       "      <td>57.0</td>\n",
       "      <td>10.194055</td>\n",
       "      <td>2</td>\n",
       "    </tr>\n",
       "  </tbody>\n",
       "</table>\n",
       "</div>"
      ],
      "text/plain": [
       "                        time  Common Setpoint  Actual Sup Flow SP  \\\n",
       "0  2018-01-03T20:57:39+00:00             72.5               330.0   \n",
       "1  2018-01-03T21:04:13+00:00             72.5               330.0   \n",
       "2  2018-01-03T21:10:44+00:00             72.5               330.0   \n",
       "3  2018-01-03T21:17:16+00:00             72.5               330.0   \n",
       "4  2018-01-03T21:23:44+00:00             72.5               330.0   \n",
       "\n",
       "   Zone Temperature  Actual Supply Flow     energy  Outside Air Temp  \\\n",
       "0              75.2              318.73  10.109642             68.44   \n",
       "1              75.2              317.06  10.113301             68.50   \n",
       "2              75.7              314.34  10.099466             68.25   \n",
       "3              75.7              313.91  10.241028             68.31   \n",
       "4              75.7              318.31  10.187620             68.44   \n",
       "\n",
       "   Humidity  Zone Temperature Next  Actual Supply Flow Next  \\\n",
       "0      56.0                   75.2                   317.06   \n",
       "1      56.0                   75.7                   314.34   \n",
       "2      56.0                   75.7                   313.91   \n",
       "3      56.0                   75.7                   318.31   \n",
       "4      57.0                   75.7                   316.65   \n",
       "\n",
       "   Outside Air Temp Next  Humidity Next  energy Next  floor  \n",
       "0                  68.50           56.0    10.113301      2  \n",
       "1                  68.25           56.0    10.099466      2  \n",
       "2                  68.31           56.0    10.241028      2  \n",
       "3                  68.44           57.0    10.187620      2  \n",
       "4                  68.81           57.0    10.194055      2  "
      ]
     },
     "execution_count": 12,
     "metadata": {},
     "output_type": "execute_result"
    }
   ],
   "source": [
    "combined_floors.head(5)"
   ]
  },
  {
   "cell_type": "code",
   "execution_count": 13,
   "id": "e253b964",
   "metadata": {},
   "outputs": [],
   "source": [
    "combined_floors['time_transformed'] = combined_floors['time'].apply(lambda x: pd.Timestamp(x))"
   ]
  },
  {
   "cell_type": "markdown",
   "id": "7a935c16",
   "metadata": {},
   "source": [
    "## Getting Relevant Dates for Train / Test Data"
   ]
  },
  {
   "cell_type": "code",
   "execution_count": 14,
   "id": "d31f95fa",
   "metadata": {},
   "outputs": [],
   "source": [
    "dates = combined_floors['time_transformed'].transform(lambda x: x.date)"
   ]
  },
  {
   "cell_type": "code",
   "execution_count": 15,
   "id": "cb315f6a",
   "metadata": {},
   "outputs": [],
   "source": [
    "dates_test = (dates >= pd.Timestamp('2018-08-01'))"
   ]
  },
  {
   "cell_type": "code",
   "execution_count": 16,
   "id": "53d645c6",
   "metadata": {},
   "outputs": [],
   "source": [
    "onwards_test_date = combined_floors.loc[dates_test, :]\n",
    "pre_test_date = combined_floors.loc[~dates_test, :]"
   ]
  },
  {
   "cell_type": "code",
   "execution_count": 17,
   "id": "11234a28",
   "metadata": {},
   "outputs": [
    {
     "data": {
      "text/plain": [
       "(437044, 15)"
      ]
     },
     "execution_count": 17,
     "metadata": {},
     "output_type": "execute_result"
    }
   ],
   "source": [
    "pre_test_date.shape"
   ]
  },
  {
   "cell_type": "code",
   "execution_count": 18,
   "id": "c696152c",
   "metadata": {},
   "outputs": [
    {
     "data": {
      "text/plain": [
       "(188633, 15)"
      ]
     },
     "execution_count": 18,
     "metadata": {},
     "output_type": "execute_result"
    }
   ],
   "source": [
    "onwards_test_date.shape"
   ]
  },
  {
   "cell_type": "code",
   "execution_count": 19,
   "id": "e075bfbb",
   "metadata": {},
   "outputs": [
    {
     "data": {
      "text/plain": [
       "0.3014862301155388"
      ]
     },
     "execution_count": 19,
     "metadata": {},
     "output_type": "execute_result"
    }
   ],
   "source": [
    "# amount of data in test set: 30%\n",
    "188633 / (188633 + 437044)"
   ]
  },
  {
   "cell_type": "markdown",
   "id": "0169dd4c",
   "metadata": {},
   "source": [
    "## Work with Prophet\n",
    "\n",
    "#### For missing analysis work, please look at old version of this notebook."
   ]
  },
  {
   "cell_type": "code",
   "execution_count": 20,
   "id": "6d705cd3",
   "metadata": {},
   "outputs": [],
   "source": [
    "# choosing the relevant info\n",
    "pre_test_date_reduced = pre_test_date.loc[:, ['time', 'energy']].reset_index(drop = True)\n",
    "onwards_test_date_reduced = onwards_test_date.loc[:, ['time', 'energy']].reset_index(drop = True)"
   ]
  },
  {
   "cell_type": "code",
   "execution_count": 21,
   "id": "e6450ac3",
   "metadata": {},
   "outputs": [],
   "source": [
    "# stripping time zones since they're incompatible with Prophet\n",
    "pre_test_date_reduced['time'] = pre_test_date_reduced['time'].transform(lambda x: x[0:-6])\n",
    "onwards_test_date_reduced['time'] = onwards_test_date_reduced['time'].transform(lambda x: x[0:-6])"
   ]
  },
  {
   "cell_type": "code",
   "execution_count": 22,
   "id": "d7f94835",
   "metadata": {},
   "outputs": [],
   "source": [
    "pre_test_date_reduced = pre_test_date_reduced.rename({'time': 'ds', 'energy': 'y'}, axis = 1)\n",
    "onwards_test_date_reduced = onwards_test_date_reduced.rename({'time': 'ds', 'energy': 'y'}, axis = 1)\n"
   ]
  },
  {
   "cell_type": "markdown",
   "id": "e8b97d8a",
   "metadata": {},
   "source": [
    "### Determining cap for Prophet model"
   ]
  },
  {
   "cell_type": "code",
   "execution_count": 23,
   "id": "1c4e2f3a",
   "metadata": {},
   "outputs": [
    {
     "data": {
      "text/plain": [
       "145445    49.165584\n",
       "76149     48.547559\n",
       "145444    46.165827\n",
       "321162    44.646128\n",
       "76148     44.415555\n",
       "            ...    \n",
       "313991     0.000000\n",
       "313992     0.000000\n",
       "313993     0.000000\n",
       "313995     0.000000\n",
       "118362     0.000000\n",
       "Name: y, Length: 437044, dtype: float64"
      ]
     },
     "execution_count": 23,
     "metadata": {},
     "output_type": "execute_result"
    }
   ],
   "source": [
    "pre_test_date_reduced['y'].sort_values(ascending = False)"
   ]
  },
  {
   "cell_type": "code",
   "execution_count": 25,
   "id": "926fc523",
   "metadata": {},
   "outputs": [
    {
     "data": {
      "text/plain": [
       "9.600232685687184"
      ]
     },
     "execution_count": 25,
     "metadata": {},
     "output_type": "execute_result"
    }
   ],
   "source": [
    "pre_test_date_reduced['y'].mean()"
   ]
  },
  {
   "cell_type": "code",
   "execution_count": 26,
   "id": "57c8a87d",
   "metadata": {},
   "outputs": [
    {
     "data": {
      "text/plain": [
       "9.078714640036456"
      ]
     },
     "execution_count": 26,
     "metadata": {},
     "output_type": "execute_result"
    }
   ],
   "source": [
    "pre_test_date_reduced['y'].median()"
   ]
  },
  {
   "cell_type": "code",
   "execution_count": 27,
   "id": "4f2e470b",
   "metadata": {},
   "outputs": [],
   "source": [
    "pre_test_date_reduced['cap'] = 50\n",
    "# have not set a changing cap with HVAC because I'm not sure it did change over this time frame"
   ]
  },
  {
   "cell_type": "markdown",
   "id": "f493c663",
   "metadata": {},
   "source": [
    "### Training Model"
   ]
  },
  {
   "cell_type": "code",
   "execution_count": 28,
   "id": "01d38611",
   "metadata": {},
   "outputs": [],
   "source": [
    "prophet_model = Prophet.Prophet()"
   ]
  },
  {
   "cell_type": "code",
   "execution_count": 29,
   "id": "95be1c77",
   "metadata": {},
   "outputs": [
    {
     "name": "stderr",
     "output_type": "stream",
     "text": [
      "17:14:54 - cmdstanpy - INFO - Chain [1] start processing\n",
      "17:16:51 - cmdstanpy - INFO - Chain [1] done processing\n"
     ]
    },
    {
     "data": {
      "text/plain": [
       "<prophet.forecaster.Prophet at 0x7f8822eabd60>"
      ]
     },
     "execution_count": 29,
     "metadata": {},
     "output_type": "execute_result"
    }
   ],
   "source": [
    "prophet_model.fit(pre_test_date_reduced)\n",
    "# got disabling yearly seasonality text - I think this makes sense to disable because our data < year"
   ]
  },
  {
   "cell_type": "markdown",
   "id": "bd1ef517",
   "metadata": {},
   "source": [
    "### Making Model Forecast\n",
    "\n",
    "#### We want to predict every 5 minutes from August 2, 2018 through the end of the data on January 7?, 2019\n",
    "This involves 5 minutes ... still figuring this out"
   ]
  },
  {
   "cell_type": "code",
   "execution_count": 30,
   "id": "ce408187",
   "metadata": {},
   "outputs": [],
   "source": [
    "prophet_forecast = prophet_model.make_future_dataframe(periods = 51000, freq = '5min')\n",
    "prophet_forecast = prophet_model.predict(prophet_forecast)\n"
   ]
  },
  {
   "cell_type": "code",
   "execution_count": 31,
   "id": "3bcca45b",
   "metadata": {},
   "outputs": [
    {
     "data": {
      "text/html": [
       "<div>\n",
       "<style scoped>\n",
       "    .dataframe tbody tr th:only-of-type {\n",
       "        vertical-align: middle;\n",
       "    }\n",
       "\n",
       "    .dataframe tbody tr th {\n",
       "        vertical-align: top;\n",
       "    }\n",
       "\n",
       "    .dataframe thead th {\n",
       "        text-align: right;\n",
       "    }\n",
       "</style>\n",
       "<table border=\"1\" class=\"dataframe\">\n",
       "  <thead>\n",
       "    <tr style=\"text-align: right;\">\n",
       "      <th></th>\n",
       "      <th>ds</th>\n",
       "      <th>trend</th>\n",
       "      <th>yhat_lower</th>\n",
       "      <th>yhat_upper</th>\n",
       "      <th>trend_lower</th>\n",
       "      <th>trend_upper</th>\n",
       "      <th>additive_terms</th>\n",
       "      <th>additive_terms_lower</th>\n",
       "      <th>additive_terms_upper</th>\n",
       "      <th>daily</th>\n",
       "      <th>daily_lower</th>\n",
       "      <th>daily_upper</th>\n",
       "      <th>weekly</th>\n",
       "      <th>weekly_lower</th>\n",
       "      <th>weekly_upper</th>\n",
       "      <th>multiplicative_terms</th>\n",
       "      <th>multiplicative_terms_lower</th>\n",
       "      <th>multiplicative_terms_upper</th>\n",
       "      <th>yhat</th>\n",
       "    </tr>\n",
       "  </thead>\n",
       "  <tbody>\n",
       "    <tr>\n",
       "      <th>107475</th>\n",
       "      <td>2019-01-08 23:17:40</td>\n",
       "      <td>20.980550</td>\n",
       "      <td>-162.284132</td>\n",
       "      <td>199.078971</td>\n",
       "      <td>-166.121961</td>\n",
       "      <td>194.614032</td>\n",
       "      <td>4.356247</td>\n",
       "      <td>4.356247</td>\n",
       "      <td>4.356247</td>\n",
       "      <td>3.606161</td>\n",
       "      <td>3.606161</td>\n",
       "      <td>3.606161</td>\n",
       "      <td>0.750086</td>\n",
       "      <td>0.750086</td>\n",
       "      <td>0.750086</td>\n",
       "      <td>0.0</td>\n",
       "      <td>0.0</td>\n",
       "      <td>0.0</td>\n",
       "      <td>25.336797</td>\n",
       "    </tr>\n",
       "    <tr>\n",
       "      <th>107476</th>\n",
       "      <td>2019-01-08 23:22:40</td>\n",
       "      <td>20.980764</td>\n",
       "      <td>-161.422259</td>\n",
       "      <td>200.722969</td>\n",
       "      <td>-166.124549</td>\n",
       "      <td>194.621677</td>\n",
       "      <td>4.283452</td>\n",
       "      <td>4.283452</td>\n",
       "      <td>4.283452</td>\n",
       "      <td>3.533172</td>\n",
       "      <td>3.533172</td>\n",
       "      <td>3.533172</td>\n",
       "      <td>0.750280</td>\n",
       "      <td>0.750280</td>\n",
       "      <td>0.750280</td>\n",
       "      <td>0.0</td>\n",
       "      <td>0.0</td>\n",
       "      <td>0.0</td>\n",
       "      <td>25.264215</td>\n",
       "    </tr>\n",
       "    <tr>\n",
       "      <th>107477</th>\n",
       "      <td>2019-01-08 23:27:40</td>\n",
       "      <td>20.980977</td>\n",
       "      <td>-165.696544</td>\n",
       "      <td>204.387464</td>\n",
       "      <td>-166.127136</td>\n",
       "      <td>194.629322</td>\n",
       "      <td>4.212310</td>\n",
       "      <td>4.212310</td>\n",
       "      <td>4.212310</td>\n",
       "      <td>3.461816</td>\n",
       "      <td>3.461816</td>\n",
       "      <td>3.461816</td>\n",
       "      <td>0.750494</td>\n",
       "      <td>0.750494</td>\n",
       "      <td>0.750494</td>\n",
       "      <td>0.0</td>\n",
       "      <td>0.0</td>\n",
       "      <td>0.0</td>\n",
       "      <td>25.193286</td>\n",
       "    </tr>\n",
       "    <tr>\n",
       "      <th>107478</th>\n",
       "      <td>2019-01-08 23:32:40</td>\n",
       "      <td>20.981190</td>\n",
       "      <td>-161.750799</td>\n",
       "      <td>199.679502</td>\n",
       "      <td>-166.129723</td>\n",
       "      <td>194.636967</td>\n",
       "      <td>4.142886</td>\n",
       "      <td>4.142886</td>\n",
       "      <td>4.142886</td>\n",
       "      <td>3.392158</td>\n",
       "      <td>3.392158</td>\n",
       "      <td>3.392158</td>\n",
       "      <td>0.750728</td>\n",
       "      <td>0.750728</td>\n",
       "      <td>0.750728</td>\n",
       "      <td>0.0</td>\n",
       "      <td>0.0</td>\n",
       "      <td>0.0</td>\n",
       "      <td>25.124076</td>\n",
       "    </tr>\n",
       "    <tr>\n",
       "      <th>107479</th>\n",
       "      <td>2019-01-08 23:37:40</td>\n",
       "      <td>20.981403</td>\n",
       "      <td>-164.303254</td>\n",
       "      <td>200.072152</td>\n",
       "      <td>-166.132310</td>\n",
       "      <td>194.644612</td>\n",
       "      <td>4.075226</td>\n",
       "      <td>4.075226</td>\n",
       "      <td>4.075226</td>\n",
       "      <td>3.324244</td>\n",
       "      <td>3.324244</td>\n",
       "      <td>3.324244</td>\n",
       "      <td>0.750982</td>\n",
       "      <td>0.750982</td>\n",
       "      <td>0.750982</td>\n",
       "      <td>0.0</td>\n",
       "      <td>0.0</td>\n",
       "      <td>0.0</td>\n",
       "      <td>25.056629</td>\n",
       "    </tr>\n",
       "  </tbody>\n",
       "</table>\n",
       "</div>"
      ],
      "text/plain": [
       "                        ds      trend  yhat_lower  yhat_upper  trend_lower  \\\n",
       "107475 2019-01-08 23:17:40  20.980550 -162.284132  199.078971  -166.121961   \n",
       "107476 2019-01-08 23:22:40  20.980764 -161.422259  200.722969  -166.124549   \n",
       "107477 2019-01-08 23:27:40  20.980977 -165.696544  204.387464  -166.127136   \n",
       "107478 2019-01-08 23:32:40  20.981190 -161.750799  199.679502  -166.129723   \n",
       "107479 2019-01-08 23:37:40  20.981403 -164.303254  200.072152  -166.132310   \n",
       "\n",
       "        trend_upper  additive_terms  additive_terms_lower  \\\n",
       "107475   194.614032        4.356247              4.356247   \n",
       "107476   194.621677        4.283452              4.283452   \n",
       "107477   194.629322        4.212310              4.212310   \n",
       "107478   194.636967        4.142886              4.142886   \n",
       "107479   194.644612        4.075226              4.075226   \n",
       "\n",
       "        additive_terms_upper     daily  daily_lower  daily_upper    weekly  \\\n",
       "107475              4.356247  3.606161     3.606161     3.606161  0.750086   \n",
       "107476              4.283452  3.533172     3.533172     3.533172  0.750280   \n",
       "107477              4.212310  3.461816     3.461816     3.461816  0.750494   \n",
       "107478              4.142886  3.392158     3.392158     3.392158  0.750728   \n",
       "107479              4.075226  3.324244     3.324244     3.324244  0.750982   \n",
       "\n",
       "        weekly_lower  weekly_upper  multiplicative_terms  \\\n",
       "107475      0.750086      0.750086                   0.0   \n",
       "107476      0.750280      0.750280                   0.0   \n",
       "107477      0.750494      0.750494                   0.0   \n",
       "107478      0.750728      0.750728                   0.0   \n",
       "107479      0.750982      0.750982                   0.0   \n",
       "\n",
       "        multiplicative_terms_lower  multiplicative_terms_upper       yhat  \n",
       "107475                         0.0                         0.0  25.336797  \n",
       "107476                         0.0                         0.0  25.264215  \n",
       "107477                         0.0                         0.0  25.193286  \n",
       "107478                         0.0                         0.0  25.124076  \n",
       "107479                         0.0                         0.0  25.056629  "
      ]
     },
     "execution_count": 31,
     "metadata": {},
     "output_type": "execute_result"
    }
   ],
   "source": [
    "prophet_forecast.tail(5)"
   ]
  },
  {
   "cell_type": "code",
   "execution_count": null,
   "id": "026219d3",
   "metadata": {},
   "outputs": [],
   "source": [
    "# This got us a little past the time I wanted to be at but it works"
   ]
  },
  {
   "cell_type": "markdown",
   "id": "b5c589e7",
   "metadata": {},
   "source": [
    "## Plot Analysis\n",
    "\n",
    "#### Initial result shows that y hat values grow too quickly"
   ]
  },
  {
   "cell_type": "code",
   "execution_count": 32,
   "id": "5e2beae7",
   "metadata": {},
   "outputs": [
    {
     "data": {
      "image/png": "[encoded data removed]",
      "text/plain": [
       "<Figure size 648x648 with 3 Axes>"
      ]
     },
     "metadata": {},
     "output_type": "display_data"
    }
   ],
   "source": [
    "fig2 = prophet_model.plot_components(prophet_forecast)"
   ]
  },
  {
   "cell_type": "code",
   "execution_count": null,
   "id": "a08b0239",
   "metadata": {},
   "outputs": [],
   "source": [
    "# Ok it seems to follow what we expect for the weekends but may not follow what we're expecting for the other two\n"
   ]
  },
  {
   "cell_type": "code",
   "execution_count": null,
   "id": "2083fb88",
   "metadata": {},
   "outputs": [],
   "source": []
  },
  {
   "cell_type": "code",
   "execution_count": null,
   "id": "6ab01b43",
   "metadata": {},
   "outputs": [],
   "source": []
  },
  {
   "cell_type": "code",
   "execution_count": null,
   "id": "9639b943",
   "metadata": {},
   "outputs": [],
   "source": []
  },
  {
   "cell_type": "code",
   "execution_count": null,
   "id": "d9d73e90",
   "metadata": {},
   "outputs": [],
   "source": [
    "onwards_test_date_reduced."
   ]
  },
  {
   "cell_type": "code",
   "execution_count": null,
   "id": "9c8a84e3",
   "metadata": {},
   "outputs": [],
   "source": []
  },
  {
   "cell_type": "code",
   "execution_count": 35,
   "id": "7bad1b8a",
   "metadata": {},
   "outputs": [],
   "source": [
    "prophet_forecast_reduced = prophet_forecast.loc[:, ['ds', 'yhat']]"
   ]
  },
  {
   "cell_type": "code",
   "execution_count": 36,
   "id": "5825cd25",
   "metadata": {},
   "outputs": [],
   "source": [
    "prophet_forecast_reduced['timestamp_changed'] = prophet_forecast_reduced['ds'].transform(lambda x: pd.Timestamp(x))"
   ]
  },
  {
   "cell_type": "code",
   "execution_count": 37,
   "id": "9fc3982f",
   "metadata": {},
   "outputs": [],
   "source": [
    "#onwards_compare = onwards_test_date.loc[:, ['time', 'energy']]\n",
    "#onwards_compare['time'] = onwards_compare['time'].transform(lambda x: x[0:-6])\n",
    "#onwards_compare = onwards_compare.rename({'time': 'ds', 'energy': 'yhat'}, axis = 1)\n",
    "onwards_test_date_reduced['timestamp_changed'] = onwards_test_date_reduced['ds'].transform(lambda x: pd.Timestamp(x))"
   ]
  },
  {
   "cell_type": "code",
   "execution_count": 38,
   "id": "e2b5abc1",
   "metadata": {},
   "outputs": [
    {
     "data": {
      "text/html": [
       "<div>\n",
       "<style scoped>\n",
       "    .dataframe tbody tr th:only-of-type {\n",
       "        vertical-align: middle;\n",
       "    }\n",
       "\n",
       "    .dataframe tbody tr th {\n",
       "        vertical-align: top;\n",
       "    }\n",
       "\n",
       "    .dataframe thead th {\n",
       "        text-align: right;\n",
       "    }\n",
       "</style>\n",
       "<table border=\"1\" class=\"dataframe\">\n",
       "  <thead>\n",
       "    <tr style=\"text-align: right;\">\n",
       "      <th></th>\n",
       "      <th>ds</th>\n",
       "      <th>y</th>\n",
       "      <th>timestamp_changed</th>\n",
       "    </tr>\n",
       "  </thead>\n",
       "  <tbody>\n",
       "    <tr>\n",
       "      <th>0</th>\n",
       "      <td>2018-09-03T01:02:18</td>\n",
       "      <td>9.038064</td>\n",
       "      <td>2018-09-03 01:02:18</td>\n",
       "    </tr>\n",
       "    <tr>\n",
       "      <th>1</th>\n",
       "      <td>2018-09-03T01:09:23</td>\n",
       "      <td>9.020124</td>\n",
       "      <td>2018-09-03 01:09:23</td>\n",
       "    </tr>\n",
       "    <tr>\n",
       "      <th>2</th>\n",
       "      <td>2018-09-03T01:16:28</td>\n",
       "      <td>8.966305</td>\n",
       "      <td>2018-09-03 01:16:28</td>\n",
       "    </tr>\n",
       "    <tr>\n",
       "      <th>3</th>\n",
       "      <td>2018-09-03T01:23:32</td>\n",
       "      <td>9.121355</td>\n",
       "      <td>2018-09-03 01:23:32</td>\n",
       "    </tr>\n",
       "    <tr>\n",
       "      <th>4</th>\n",
       "      <td>2018-09-03T01:30:36</td>\n",
       "      <td>8.978479</td>\n",
       "      <td>2018-09-03 01:30:36</td>\n",
       "    </tr>\n",
       "  </tbody>\n",
       "</table>\n",
       "</div>"
      ],
      "text/plain": [
       "                    ds         y   timestamp_changed\n",
       "0  2018-09-03T01:02:18  9.038064 2018-09-03 01:02:18\n",
       "1  2018-09-03T01:09:23  9.020124 2018-09-03 01:09:23\n",
       "2  2018-09-03T01:16:28  8.966305 2018-09-03 01:16:28\n",
       "3  2018-09-03T01:23:32  9.121355 2018-09-03 01:23:32\n",
       "4  2018-09-03T01:30:36  8.978479 2018-09-03 01:30:36"
      ]
     },
     "execution_count": 38,
     "metadata": {},
     "output_type": "execute_result"
    }
   ],
   "source": [
    "onwards_test_date_reduced.head(5)"
   ]
  },
  {
   "cell_type": "code",
   "execution_count": 39,
   "id": "50467a52",
   "metadata": {},
   "outputs": [
    {
     "data": {
      "text/plain": [
       "(188633, 3)"
      ]
     },
     "execution_count": 39,
     "metadata": {},
     "output_type": "execute_result"
    }
   ],
   "source": [
    "onwards_test_date_reduced.shape"
   ]
  },
  {
   "cell_type": "code",
   "execution_count": 40,
   "id": "6e827a6a",
   "metadata": {},
   "outputs": [
    {
     "data": {
      "text/plain": [
       "(437044, 3)"
      ]
     },
     "execution_count": 40,
     "metadata": {},
     "output_type": "execute_result"
    }
   ],
   "source": [
    "pre_test_date_reduced.shape"
   ]
  },
  {
   "cell_type": "code",
   "execution_count": 41,
   "id": "0ab1fb09",
   "metadata": {},
   "outputs": [],
   "source": [
    "merge_test = prophet_forecast_reduced.merge(onwards_test_date_reduced, left_on = 'timestamp_changed', right_on = 'timestamp_changed')"
   ]
  },
  {
   "cell_type": "code",
   "execution_count": 42,
   "id": "c03c8567",
   "metadata": {},
   "outputs": [
    {
     "data": {
      "text/html": [
       "<div>\n",
       "<style scoped>\n",
       "    .dataframe tbody tr th:only-of-type {\n",
       "        vertical-align: middle;\n",
       "    }\n",
       "\n",
       "    .dataframe tbody tr th {\n",
       "        vertical-align: top;\n",
       "    }\n",
       "\n",
       "    .dataframe thead th {\n",
       "        text-align: right;\n",
       "    }\n",
       "</style>\n",
       "<table border=\"1\" class=\"dataframe\">\n",
       "  <thead>\n",
       "    <tr style=\"text-align: right;\">\n",
       "      <th></th>\n",
       "      <th>ds_x</th>\n",
       "      <th>yhat</th>\n",
       "      <th>timestamp_changed</th>\n",
       "      <th>ds_y</th>\n",
       "      <th>y</th>\n",
       "    </tr>\n",
       "  </thead>\n",
       "  <tbody>\n",
       "    <tr>\n",
       "      <th>0</th>\n",
       "      <td>2018-08-19 23:47:40</td>\n",
       "      <td>13.798828</td>\n",
       "      <td>2018-08-19 23:47:40</td>\n",
       "      <td>2018-08-19T23:47:40</td>\n",
       "      <td>9.840562</td>\n",
       "    </tr>\n",
       "    <tr>\n",
       "      <th>1</th>\n",
       "      <td>2018-08-19 23:47:40</td>\n",
       "      <td>13.798828</td>\n",
       "      <td>2018-08-19 23:47:40</td>\n",
       "      <td>2018-08-19T23:47:40</td>\n",
       "      <td>30.443329</td>\n",
       "    </tr>\n",
       "    <tr>\n",
       "      <th>2</th>\n",
       "      <td>2018-08-19 23:47:40</td>\n",
       "      <td>13.798828</td>\n",
       "      <td>2018-08-19 23:47:40</td>\n",
       "      <td>2018-08-19T23:47:40</td>\n",
       "      <td>14.192031</td>\n",
       "    </tr>\n",
       "    <tr>\n",
       "      <th>3</th>\n",
       "      <td>2018-08-19 23:47:40</td>\n",
       "      <td>13.798828</td>\n",
       "      <td>2018-08-19 23:47:40</td>\n",
       "      <td>2018-08-19T23:47:40</td>\n",
       "      <td>9.711402</td>\n",
       "    </tr>\n",
       "    <tr>\n",
       "      <th>4</th>\n",
       "      <td>2018-08-19 23:47:40</td>\n",
       "      <td>13.798828</td>\n",
       "      <td>2018-08-19 23:47:40</td>\n",
       "      <td>2018-08-19T23:47:40</td>\n",
       "      <td>2.587140</td>\n",
       "    </tr>\n",
       "    <tr>\n",
       "      <th>...</th>\n",
       "      <td>...</td>\n",
       "      <td>...</td>\n",
       "      <td>...</td>\n",
       "      <td>...</td>\n",
       "      <td>...</td>\n",
       "    </tr>\n",
       "    <tr>\n",
       "      <th>666</th>\n",
       "      <td>2019-01-03 13:52:40</td>\n",
       "      <td>18.339066</td>\n",
       "      <td>2019-01-03 13:52:40</td>\n",
       "      <td>2019-01-03T13:52:40</td>\n",
       "      <td>0.000000</td>\n",
       "    </tr>\n",
       "    <tr>\n",
       "      <th>667</th>\n",
       "      <td>2019-01-03 13:52:40</td>\n",
       "      <td>18.339066</td>\n",
       "      <td>2019-01-03 13:52:40</td>\n",
       "      <td>2019-01-03T13:52:40</td>\n",
       "      <td>1.082106</td>\n",
       "    </tr>\n",
       "    <tr>\n",
       "      <th>668</th>\n",
       "      <td>2019-01-03 13:52:40</td>\n",
       "      <td>18.339066</td>\n",
       "      <td>2019-01-03 13:52:40</td>\n",
       "      <td>2019-01-03T13:52:40</td>\n",
       "      <td>1.110293</td>\n",
       "    </tr>\n",
       "    <tr>\n",
       "      <th>669</th>\n",
       "      <td>2019-01-03 13:52:40</td>\n",
       "      <td>18.339066</td>\n",
       "      <td>2019-01-03 13:52:40</td>\n",
       "      <td>2019-01-03T13:52:40</td>\n",
       "      <td>10.899280</td>\n",
       "    </tr>\n",
       "    <tr>\n",
       "      <th>670</th>\n",
       "      <td>2019-01-03 13:52:40</td>\n",
       "      <td>18.339066</td>\n",
       "      <td>2019-01-03 13:52:40</td>\n",
       "      <td>2019-01-03T13:52:40</td>\n",
       "      <td>10.412271</td>\n",
       "    </tr>\n",
       "  </tbody>\n",
       "</table>\n",
       "<p>671 rows × 5 columns</p>\n",
       "</div>"
      ],
      "text/plain": [
       "                   ds_x       yhat   timestamp_changed                 ds_y  \\\n",
       "0   2018-08-19 23:47:40  13.798828 2018-08-19 23:47:40  2018-08-19T23:47:40   \n",
       "1   2018-08-19 23:47:40  13.798828 2018-08-19 23:47:40  2018-08-19T23:47:40   \n",
       "2   2018-08-19 23:47:40  13.798828 2018-08-19 23:47:40  2018-08-19T23:47:40   \n",
       "3   2018-08-19 23:47:40  13.798828 2018-08-19 23:47:40  2018-08-19T23:47:40   \n",
       "4   2018-08-19 23:47:40  13.798828 2018-08-19 23:47:40  2018-08-19T23:47:40   \n",
       "..                  ...        ...                 ...                  ...   \n",
       "666 2019-01-03 13:52:40  18.339066 2019-01-03 13:52:40  2019-01-03T13:52:40   \n",
       "667 2019-01-03 13:52:40  18.339066 2019-01-03 13:52:40  2019-01-03T13:52:40   \n",
       "668 2019-01-03 13:52:40  18.339066 2019-01-03 13:52:40  2019-01-03T13:52:40   \n",
       "669 2019-01-03 13:52:40  18.339066 2019-01-03 13:52:40  2019-01-03T13:52:40   \n",
       "670 2019-01-03 13:52:40  18.339066 2019-01-03 13:52:40  2019-01-03T13:52:40   \n",
       "\n",
       "             y  \n",
       "0     9.840562  \n",
       "1    30.443329  \n",
       "2    14.192031  \n",
       "3     9.711402  \n",
       "4     2.587140  \n",
       "..         ...  \n",
       "666   0.000000  \n",
       "667   1.082106  \n",
       "668   1.110293  \n",
       "669  10.899280  \n",
       "670  10.412271  \n",
       "\n",
       "[671 rows x 5 columns]"
      ]
     },
     "execution_count": 42,
     "metadata": {},
     "output_type": "execute_result"
    }
   ],
   "source": [
    "merge_test"
   ]
  },
  {
   "cell_type": "code",
   "execution_count": 43,
   "id": "dfa72d6d",
   "metadata": {},
   "outputs": [
    {
     "data": {
      "text/plain": [
       "77"
      ]
     },
     "execution_count": 43,
     "metadata": {},
     "output_type": "execute_result"
    }
   ],
   "source": [
    "merge_test['yhat'].nunique() # there's only 77 unique valhyes"
   ]
  },
  {
   "cell_type": "code",
   "execution_count": 44,
   "id": "4cf26b3a",
   "metadata": {},
   "outputs": [
    {
     "data": {
      "text/html": [
       "<div>\n",
       "<style scoped>\n",
       "    .dataframe tbody tr th:only-of-type {\n",
       "        vertical-align: middle;\n",
       "    }\n",
       "\n",
       "    .dataframe tbody tr th {\n",
       "        vertical-align: top;\n",
       "    }\n",
       "\n",
       "    .dataframe thead th {\n",
       "        text-align: right;\n",
       "    }\n",
       "</style>\n",
       "<table border=\"1\" class=\"dataframe\">\n",
       "  <thead>\n",
       "    <tr style=\"text-align: right;\">\n",
       "      <th></th>\n",
       "      <th>ds_x</th>\n",
       "      <th>yhat</th>\n",
       "      <th>timestamp_changed</th>\n",
       "      <th>ds_y</th>\n",
       "      <th>y</th>\n",
       "    </tr>\n",
       "  </thead>\n",
       "  <tbody>\n",
       "    <tr>\n",
       "      <th>0</th>\n",
       "      <td>2018-08-19 23:47:40</td>\n",
       "      <td>13.798828</td>\n",
       "      <td>2018-08-19 23:47:40</td>\n",
       "      <td>2018-08-19T23:47:40</td>\n",
       "      <td>9.840562</td>\n",
       "    </tr>\n",
       "    <tr>\n",
       "      <th>9</th>\n",
       "      <td>2018-08-22 22:22:40</td>\n",
       "      <td>17.969757</td>\n",
       "      <td>2018-08-22 22:22:40</td>\n",
       "      <td>2018-08-22T22:22:40</td>\n",
       "      <td>17.506711</td>\n",
       "    </tr>\n",
       "    <tr>\n",
       "      <th>18</th>\n",
       "      <td>2018-08-24 06:37:40</td>\n",
       "      <td>9.460525</td>\n",
       "      <td>2018-08-24 06:37:40</td>\n",
       "      <td>2018-08-24T06:37:40</td>\n",
       "      <td>0.000000</td>\n",
       "    </tr>\n",
       "    <tr>\n",
       "      <th>27</th>\n",
       "      <td>2018-08-24 21:17:40</td>\n",
       "      <td>18.827332</td>\n",
       "      <td>2018-08-24 21:17:40</td>\n",
       "      <td>2018-08-24T21:17:40</td>\n",
       "      <td>9.595517</td>\n",
       "    </tr>\n",
       "    <tr>\n",
       "      <th>36</th>\n",
       "      <td>2018-08-26 12:57:40</td>\n",
       "      <td>5.360984</td>\n",
       "      <td>2018-08-26 12:57:40</td>\n",
       "      <td>2018-08-26T12:57:40</td>\n",
       "      <td>10.053308</td>\n",
       "    </tr>\n",
       "    <tr>\n",
       "      <th>...</th>\n",
       "      <td>...</td>\n",
       "      <td>...</td>\n",
       "      <td>...</td>\n",
       "      <td>...</td>\n",
       "      <td>...</td>\n",
       "    </tr>\n",
       "    <tr>\n",
       "      <th>634</th>\n",
       "      <td>2019-01-02 01:42:40</td>\n",
       "      <td>23.286857</td>\n",
       "      <td>2019-01-02 01:42:40</td>\n",
       "      <td>2019-01-02T01:42:40</td>\n",
       "      <td>9.363716</td>\n",
       "    </tr>\n",
       "    <tr>\n",
       "      <th>643</th>\n",
       "      <td>2019-01-02 10:32:40</td>\n",
       "      <td>17.127351</td>\n",
       "      <td>2019-01-02 10:32:40</td>\n",
       "      <td>2019-01-02T10:32:40</td>\n",
       "      <td>0.000000</td>\n",
       "    </tr>\n",
       "    <tr>\n",
       "      <th>652</th>\n",
       "      <td>2019-01-02 17:52:40</td>\n",
       "      <td>25.764684</td>\n",
       "      <td>2019-01-02 17:52:40</td>\n",
       "      <td>2019-01-02T17:52:40</td>\n",
       "      <td>9.487824</td>\n",
       "    </tr>\n",
       "    <tr>\n",
       "      <th>661</th>\n",
       "      <td>2019-01-03 05:32:40</td>\n",
       "      <td>18.387584</td>\n",
       "      <td>2019-01-03 05:32:40</td>\n",
       "      <td>2019-01-03T05:32:40</td>\n",
       "      <td>10.397932</td>\n",
       "    </tr>\n",
       "    <tr>\n",
       "      <th>666</th>\n",
       "      <td>2019-01-03 13:52:40</td>\n",
       "      <td>18.339066</td>\n",
       "      <td>2019-01-03 13:52:40</td>\n",
       "      <td>2019-01-03T13:52:40</td>\n",
       "      <td>0.000000</td>\n",
       "    </tr>\n",
       "  </tbody>\n",
       "</table>\n",
       "<p>77 rows × 5 columns</p>\n",
       "</div>"
      ],
      "text/plain": [
       "                   ds_x       yhat   timestamp_changed                 ds_y  \\\n",
       "0   2018-08-19 23:47:40  13.798828 2018-08-19 23:47:40  2018-08-19T23:47:40   \n",
       "9   2018-08-22 22:22:40  17.969757 2018-08-22 22:22:40  2018-08-22T22:22:40   \n",
       "18  2018-08-24 06:37:40   9.460525 2018-08-24 06:37:40  2018-08-24T06:37:40   \n",
       "27  2018-08-24 21:17:40  18.827332 2018-08-24 21:17:40  2018-08-24T21:17:40   \n",
       "36  2018-08-26 12:57:40   5.360984 2018-08-26 12:57:40  2018-08-26T12:57:40   \n",
       "..                  ...        ...                 ...                  ...   \n",
       "634 2019-01-02 01:42:40  23.286857 2019-01-02 01:42:40  2019-01-02T01:42:40   \n",
       "643 2019-01-02 10:32:40  17.127351 2019-01-02 10:32:40  2019-01-02T10:32:40   \n",
       "652 2019-01-02 17:52:40  25.764684 2019-01-02 17:52:40  2019-01-02T17:52:40   \n",
       "661 2019-01-03 05:32:40  18.387584 2019-01-03 05:32:40  2019-01-03T05:32:40   \n",
       "666 2019-01-03 13:52:40  18.339066 2019-01-03 13:52:40  2019-01-03T13:52:40   \n",
       "\n",
       "             y  \n",
       "0     9.840562  \n",
       "9    17.506711  \n",
       "18    0.000000  \n",
       "27    9.595517  \n",
       "36   10.053308  \n",
       "..         ...  \n",
       "634   9.363716  \n",
       "643   0.000000  \n",
       "652   9.487824  \n",
       "661  10.397932  \n",
       "666   0.000000  \n",
       "\n",
       "[77 rows x 5 columns]"
      ]
     },
     "execution_count": 44,
     "metadata": {},
     "output_type": "execute_result"
    }
   ],
   "source": [
    "no_duplicates = merge_test.drop_duplicates(subset=['ds_x', 'yhat'], keep = 'first')"
   ]
  },
  {
   "cell_type": "code",
   "execution_count": 48,
   "id": "ffc4a4dd",
   "metadata": {},
   "outputs": [
    {
     "data": {
      "text/html": [
       "<div>\n",
       "<style scoped>\n",
       "    .dataframe tbody tr th:only-of-type {\n",
       "        vertical-align: middle;\n",
       "    }\n",
       "\n",
       "    .dataframe tbody tr th {\n",
       "        vertical-align: top;\n",
       "    }\n",
       "\n",
       "    .dataframe thead th {\n",
       "        text-align: right;\n",
       "    }\n",
       "</style>\n",
       "<table border=\"1\" class=\"dataframe\">\n",
       "  <thead>\n",
       "    <tr style=\"text-align: right;\">\n",
       "      <th></th>\n",
       "      <th>ds</th>\n",
       "      <th>y</th>\n",
       "      <th>timestamp_changed</th>\n",
       "    </tr>\n",
       "  </thead>\n",
       "  <tbody>\n",
       "    <tr>\n",
       "      <th>11475</th>\n",
       "      <td>2018-08-19T23:47:40</td>\n",
       "      <td>9.840562</td>\n",
       "      <td>2018-08-19 23:47:40</td>\n",
       "    </tr>\n",
       "    <tr>\n",
       "      <th>11897</th>\n",
       "      <td>2018-08-19T23:47:40</td>\n",
       "      <td>30.443329</td>\n",
       "      <td>2018-08-19 23:47:40</td>\n",
       "    </tr>\n",
       "    <tr>\n",
       "      <th>29696</th>\n",
       "      <td>2018-08-19T23:47:40</td>\n",
       "      <td>14.192031</td>\n",
       "      <td>2018-08-19 23:47:40</td>\n",
       "    </tr>\n",
       "    <tr>\n",
       "      <th>50045</th>\n",
       "      <td>2018-08-19T23:47:40</td>\n",
       "      <td>9.711402</td>\n",
       "      <td>2018-08-19 23:47:40</td>\n",
       "    </tr>\n",
       "    <tr>\n",
       "      <th>90470</th>\n",
       "      <td>2018-08-19T23:47:40</td>\n",
       "      <td>2.587140</td>\n",
       "      <td>2018-08-19 23:47:40</td>\n",
       "    </tr>\n",
       "    <tr>\n",
       "      <th>117234</th>\n",
       "      <td>2018-08-19T23:47:40</td>\n",
       "      <td>1.100667</td>\n",
       "      <td>2018-08-19 23:47:40</td>\n",
       "    </tr>\n",
       "    <tr>\n",
       "      <th>156223</th>\n",
       "      <td>2018-08-19T23:47:40</td>\n",
       "      <td>0.803533</td>\n",
       "      <td>2018-08-19 23:47:40</td>\n",
       "    </tr>\n",
       "    <tr>\n",
       "      <th>168649</th>\n",
       "      <td>2018-08-19T23:47:40</td>\n",
       "      <td>10.666441</td>\n",
       "      <td>2018-08-19 23:47:40</td>\n",
       "    </tr>\n",
       "    <tr>\n",
       "      <th>171139</th>\n",
       "      <td>2018-08-19T23:47:40</td>\n",
       "      <td>20.133840</td>\n",
       "      <td>2018-08-19 23:47:40</td>\n",
       "    </tr>\n",
       "  </tbody>\n",
       "</table>\n",
       "</div>"
      ],
      "text/plain": [
       "                         ds          y   timestamp_changed\n",
       "11475   2018-08-19T23:47:40   9.840562 2018-08-19 23:47:40\n",
       "11897   2018-08-19T23:47:40  30.443329 2018-08-19 23:47:40\n",
       "29696   2018-08-19T23:47:40  14.192031 2018-08-19 23:47:40\n",
       "50045   2018-08-19T23:47:40   9.711402 2018-08-19 23:47:40\n",
       "90470   2018-08-19T23:47:40   2.587140 2018-08-19 23:47:40\n",
       "117234  2018-08-19T23:47:40   1.100667 2018-08-19 23:47:40\n",
       "156223  2018-08-19T23:47:40   0.803533 2018-08-19 23:47:40\n",
       "168649  2018-08-19T23:47:40  10.666441 2018-08-19 23:47:40\n",
       "171139  2018-08-19T23:47:40  20.133840 2018-08-19 23:47:40"
      ]
     },
     "execution_count": 48,
     "metadata": {},
     "output_type": "execute_result"
    }
   ],
   "source": [
    "onwards_test_date_reduced.loc[onwards_test_date_reduced['timestamp_changed'] == pd.Timestamp('2018-08-19T23:47:40')]"
   ]
  },
  {
   "cell_type": "code",
   "execution_count": null,
   "id": "ff59166a",
   "metadata": {},
   "outputs": [],
   "source": [
    "# this dataset introduces duplicate measurements from each of the floors but it also has multiple duplicates\n",
    "\n",
    "# per floor -- should we train on each or how should we do this?"
   ]
  },
  {
   "cell_type": "code",
   "execution_count": null,
   "id": "1ec52c53",
   "metadata": {},
   "outputs": [],
   "source": [
    "# I'm very confused why there's duplicates here??? Need to clear these up and see which y values are causing this"
   ]
  },
  {
   "cell_type": "code",
   "execution_count": null,
   "id": "cc49359d",
   "metadata": {},
   "outputs": [],
   "source": []
  }
 ],
 "metadata": {
  "kernelspec": {
   "display_name": "Python 3",
   "language": "python",
   "name": "python3"
  },
  "language_info": {
   "codemirror_mode": {
    "name": "ipython",
    "version": 3
   },
   "file_extension": ".py",
   "mimetype": "text/x-python",
   "name": "python",
   "nbconvert_exporter": "python",
   "pygments_lexer": "ipython3",
   "version": "3.8.5"
  }
 },
 "nbformat": 4,
 "nbformat_minor": 5
}
