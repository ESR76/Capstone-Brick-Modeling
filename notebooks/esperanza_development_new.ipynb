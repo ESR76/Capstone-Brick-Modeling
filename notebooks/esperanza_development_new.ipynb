{
 "cells": [
  {
   "cell_type": "markdown",
   "id": "6139778e",
   "metadata": {},
   "source": [
    "# Esperanza's Development (2nd) Notebook\n",
    "This notebook is from before the re-cleaning: prompted some of the re-cleaning work available in that notebook.\n",
    "\n",
    "## Imports"
   ]
  },
  {
   "cell_type": "code",
   "execution_count": null,
   "id": "d382f102",
   "metadata": {},
   "outputs": [],
   "source": [
    "import pandas as pd\n",
    "import numpy as np\n",
    "import seaborn as sns\n",
    "\n",
    "import prophet as Prophet"
   ]
  },
  {
   "cell_type": "code",
   "execution_count": null,
   "id": "70750efa",
   "metadata": {},
   "outputs": [],
   "source": [
    "# Prophet import gives: \"Importing plotly failed. Interactive plots will not work.\"\n",
    "# Was not able to solve this"
   ]
  },
  {
   "cell_type": "markdown",
   "id": "cf986f86",
   "metadata": {},
   "source": [
    "## Grabbing Data from Data/Out"
   ]
  },
  {
   "cell_type": "code",
   "execution_count": null,
   "id": "e170a6cb",
   "metadata": {},
   "outputs": [],
   "source": [
    "#col_list = ['time', 'Common Setpoint', 'Actual Sup Flow SP', 'Zone Temperature', 'Actual Supply Flow', 'Outside Air Temp', 'Humidity', 'energy']\n",
    "\n",
    "floor_2 = pd.read_csv('../data/raw/merged_all_2F.csv', index_col = 'Unnamed: 0')\n",
    "floor_3 = pd.read_csv('../data/raw/merged_all_3F.csv', index_col = 'Unnamed: 0')\n",
    "floor_4 = pd.read_csv('../data/raw/merged_all_4F.csv', index_col = 'Unnamed: 0')"
   ]
  },
  {
   "cell_type": "code",
   "execution_count": null,
   "id": "e96b6b66",
   "metadata": {},
   "outputs": [],
   "source": [
    "# one version of this is Unnamed: 0.2 but I'm not sure why this one says \n",
    "\n",
    "floor_2 = floor_2.drop(['Unnamed: 0.1.1'], axis = 1)"
   ]
  },
  {
   "cell_type": "code",
   "execution_count": null,
   "id": "323f55f7",
   "metadata": {},
   "outputs": [],
   "source": [
    "floor_2.head(5)"
   ]
  },
  {
   "cell_type": "code",
   "execution_count": null,
   "id": "3f6d7c19",
   "metadata": {},
   "outputs": [],
   "source": [
    "floor_2['time_transformed'] = pd.to_datetime(floor_2['time'])\n",
    "floor_2['time_floored'] = floor_2['time_transformed'].transform(lambda x: x.floor(freq='5T'))\n",
    "floor_2['unix_floored'] = floor_2['time_floored'].view('int64')"
   ]
  },
  {
   "cell_type": "markdown",
   "id": "49da3f0c",
   "metadata": {},
   "source": [
    "### Trying to Figure Out Room Counts based on Times"
   ]
  },
  {
   "cell_type": "code",
   "execution_count": null,
   "id": "978df717",
   "metadata": {},
   "outputs": [],
   "source": [
    "floor_2['time_floored'].value_counts().head(5)"
   ]
  },
  {
   "cell_type": "code",
   "execution_count": null,
   "id": "3ff07208",
   "metadata": {},
   "outputs": [],
   "source": [
    "floor_2['time_floored'].value_counts().tail(5)"
   ]
  },
  {
   "cell_type": "code",
   "execution_count": null,
   "id": "da2a9bb2",
   "metadata": {},
   "outputs": [],
   "source": [
    "floor_2.groupby(['time_floored', 'Unnamed: 0.1']).count()['time'].head(5)"
   ]
  },
  {
   "cell_type": "code",
   "execution_count": null,
   "id": "61557416",
   "metadata": {},
   "outputs": [],
   "source": [
    "floor_2.groupby(['time_floored', 'Unnamed: 0.1']).count()['time'].tail(5)"
   ]
  },
  {
   "cell_type": "code",
   "execution_count": null,
   "id": "e6fe40e2",
   "metadata": {},
   "outputs": [],
   "source": [
    "floor_2.groupby(['time_floored', 'Unnamed: 0.1']).count()['time'].max()"
   ]
  },
  {
   "cell_type": "code",
   "execution_count": null,
   "id": "4e5a4fe7",
   "metadata": {},
   "outputs": [],
   "source": [
    "floor_2.groupby(['time_floored', 'Unnamed: 0.1']).count()['time'].min()"
   ]
  },
  {
   "cell_type": "code",
   "execution_count": null,
   "id": "609bb0f6",
   "metadata": {},
   "outputs": [],
   "source": [
    "# round timestamps: either floor or higher consistently for timestamps --> explain assumption\n",
    "\n",
    "# transform to unix timestamp*** check with prophet compatibility"
   ]
  },
  {
   "cell_type": "code",
   "execution_count": null,
   "id": "8a1232ce",
   "metadata": {},
   "outputs": [],
   "source": [
    "#floor_3 = floor_3.drop(['Unnamed: 0.1'], axis = 1)"
   ]
  },
  {
   "cell_type": "code",
   "execution_count": null,
   "id": "0342b9b5",
   "metadata": {},
   "outputs": [],
   "source": [
    "floor_3.head(5)"
   ]
  },
  {
   "cell_type": "code",
   "execution_count": null,
   "id": "cad54d59",
   "metadata": {},
   "outputs": [],
   "source": [
    "floor_3['time_transformed'] = pd.to_datetime(floor_3['time'])\n",
    "floor_3['time_floored'] = floor_3['time_transformed'].transform(lambda x: x.floor(freq='5T'))\n",
    "floor_3['unix_floored'] = floor_3['time_floored'].view('int64')"
   ]
  },
  {
   "cell_type": "code",
   "execution_count": null,
   "id": "af535908",
   "metadata": {},
   "outputs": [],
   "source": [
    "floor_3['time_floored'].value_counts().head(5)"
   ]
  },
  {
   "cell_type": "code",
   "execution_count": null,
   "id": "cdbe9eea",
   "metadata": {},
   "outputs": [],
   "source": [
    "floor_3['time_floored'].value_counts().tail(5)"
   ]
  },
  {
   "cell_type": "code",
   "execution_count": null,
   "id": "1915ef3e",
   "metadata": {},
   "outputs": [],
   "source": [
    "floor_3.groupby(['time_floored', 'Unnamed: 0.1']).count()['time'].head(5)"
   ]
  },
  {
   "cell_type": "code",
   "execution_count": null,
   "id": "dc7ebabc",
   "metadata": {
    "scrolled": true
   },
   "outputs": [],
   "source": [
    "floor_3.groupby(['time_floored', 'Unnamed: 0.1']).count()['time'].tail(5)"
   ]
  },
  {
   "cell_type": "code",
   "execution_count": null,
   "id": "7a13faed",
   "metadata": {},
   "outputs": [],
   "source": [
    "floor_3.groupby(['time_floored', 'Unnamed: 0.1']).count()['time'].max()"
   ]
  },
  {
   "cell_type": "code",
   "execution_count": null,
   "id": "75b838f1",
   "metadata": {},
   "outputs": [],
   "source": [
    "floor_3.groupby(['time_floored', 'Unnamed: 0.1']).count()['time'].min()"
   ]
  },
  {
   "cell_type": "markdown",
   "id": "a9fe1cae",
   "metadata": {},
   "source": [
    "Attempting to build 3 different models for each floor instead of trying a combination of all the data."
   ]
  },
  {
   "cell_type": "code",
   "execution_count": null,
   "id": "f878eb70",
   "metadata": {},
   "outputs": [],
   "source": [
    "#floor_4 = floor_4.drop(['Unnamed: 0.1'], axis = 1)"
   ]
  },
  {
   "cell_type": "code",
   "execution_count": null,
   "id": "4422de93",
   "metadata": {
    "scrolled": true
   },
   "outputs": [],
   "source": [
    "floor_4.head(5)"
   ]
  },
  {
   "cell_type": "code",
   "execution_count": null,
   "id": "d9a56ef1",
   "metadata": {},
   "outputs": [],
   "source": [
    "floor_4['time_transformed'] = pd.to_datetime(floor_4['time'])\n",
    "floor_4['time_floored'] = floor_4['time_transformed'].transform(lambda x: x.floor(freq='5T'))\n",
    "floor_4['unix_floored'] = floor_4['time_floored'].view('int64')"
   ]
  },
  {
   "cell_type": "code",
   "execution_count": null,
   "id": "c68f390c",
   "metadata": {},
   "outputs": [],
   "source": [
    "floor_4['time_floored'].value_counts().head(5)"
   ]
  },
  {
   "cell_type": "code",
   "execution_count": null,
   "id": "eee59eaf",
   "metadata": {},
   "outputs": [],
   "source": [
    "floor_4['time_floored'].value_counts().tail(5)"
   ]
  },
  {
   "cell_type": "code",
   "execution_count": null,
   "id": "b0111c82",
   "metadata": {},
   "outputs": [],
   "source": [
    "floor_4.groupby(['time_floored', 'Unnamed: 0.1']).count()['time'].head(5)"
   ]
  },
  {
   "cell_type": "code",
   "execution_count": null,
   "id": "d7f875eb",
   "metadata": {
    "scrolled": true
   },
   "outputs": [],
   "source": [
    "floor_4.groupby(['time_floored', 'Unnamed: 0.1']).count()['time'].tail(5)"
   ]
  },
  {
   "cell_type": "code",
   "execution_count": null,
   "id": "a2c9f865",
   "metadata": {},
   "outputs": [],
   "source": [
    "# floor 4 is more regular but it's hard to tell what's going on here"
   ]
  },
  {
   "cell_type": "code",
   "execution_count": null,
   "id": "9404f3db",
   "metadata": {},
   "outputs": [],
   "source": [
    "floor_4.groupby(['time_floored', 'Unnamed: 0.1']).count()['time'].max()"
   ]
  },
  {
   "cell_type": "code",
   "execution_count": null,
   "id": "301c0144",
   "metadata": {},
   "outputs": [],
   "source": [
    "floor_4.groupby(['time_floored', 'Unnamed: 0.1']).count()['time'].min()"
   ]
  },
  {
   "cell_type": "code",
   "execution_count": null,
   "id": "fe404f76",
   "metadata": {},
   "outputs": [],
   "source": [
    "# 5 rooms on floor 4, 4 on floor 3, 6 on floor 2\n",
    "# how is it worth doing averages here?\n",
    "# do we try and impute with the mean value for the floor and the timestamp?\n",
    "# doesn't fix the issue that the main time data is different"
   ]
  },
  {
   "cell_type": "markdown",
   "id": "0901f555",
   "metadata": {},
   "source": [
    "### Combining Data"
   ]
  },
  {
   "cell_type": "code",
   "execution_count": null,
   "id": "c4b8ac10",
   "metadata": {},
   "outputs": [],
   "source": [
    "floor_2['floor'] = 2\n",
    "floor_3['floor'] = 3\n",
    "floor_4['floor'] = 4"
   ]
  },
  {
   "cell_type": "code",
   "execution_count": null,
   "id": "0e30d71c",
   "metadata": {},
   "outputs": [],
   "source": [
    "combined_floors = pd.concat([floor_2, floor_3, floor_4]).reset_index(drop = True)"
   ]
  },
  {
   "cell_type": "code",
   "execution_count": null,
   "id": "d6462ca0",
   "metadata": {},
   "outputs": [],
   "source": [
    "combined_floors.head(5)"
   ]
  },
  {
   "cell_type": "code",
   "execution_count": null,
   "id": "72c2835c",
   "metadata": {},
   "outputs": [],
   "source": [
    "mean_energy = combined_floors.groupby(['time_floored', 'Unnamed: 0.1']).mean()['energy']"
   ]
  },
  {
   "cell_type": "code",
   "execution_count": null,
   "id": "3445a507",
   "metadata": {},
   "outputs": [],
   "source": [
    "counts = combined_floors.groupby(['time_floored', 'Unnamed: 0.1']).count()['energy'].rename('counts')"
   ]
  },
  {
   "cell_type": "code",
   "execution_count": null,
   "id": "70856af6",
   "metadata": {},
   "outputs": [],
   "source": [
    "counts.to_frame().head(5)"
   ]
  },
  {
   "cell_type": "code",
   "execution_count": null,
   "id": "591cef40",
   "metadata": {},
   "outputs": [],
   "source": [
    "counts.to_frame().tail(5)"
   ]
  },
  {
   "cell_type": "code",
   "execution_count": null,
   "id": "2d2f39a6",
   "metadata": {},
   "outputs": [],
   "source": [
    "need_more_vals = 6 - counts[6 - counts > 0].to_frame()"
   ]
  },
  {
   "cell_type": "code",
   "execution_count": null,
   "id": "5636ce91",
   "metadata": {},
   "outputs": [],
   "source": [
    "need_more_vals.shape"
   ]
  },
  {
   "cell_type": "code",
   "execution_count": null,
   "id": "fc41ea14",
   "metadata": {},
   "outputs": [],
   "source": [
    "merged_duplicates = need_more_vals.merge(mean_energy.to_frame(), left_index = True, right_index = True)"
   ]
  },
  {
   "cell_type": "code",
   "execution_count": null,
   "id": "de0169d3",
   "metadata": {},
   "outputs": [],
   "source": [
    "group_1 = merged_duplicates.reset_index().drop(['counts'], axis = 1)"
   ]
  },
  {
   "cell_type": "code",
   "execution_count": null,
   "id": "47d96ac2",
   "metadata": {},
   "outputs": [],
   "source": [
    "group_2 = merged_duplicates.loc[merged_duplicates['counts'] >= 2].reset_index().drop(['counts'], axis = 1)\n",
    "group_3 = merged_duplicates.loc[merged_duplicates['counts'] >= 3].reset_index().drop(['counts'], axis = 1)\n",
    "group_4 = merged_duplicates.loc[merged_duplicates['counts'] >= 4].reset_index().drop(['counts'], axis = 1)\n",
    "group_5 = merged_duplicates.loc[merged_duplicates['counts'] == 5].reset_index().drop(['counts'], axis = 1)"
   ]
  },
  {
   "cell_type": "code",
   "execution_count": null,
   "id": "3d8756c7",
   "metadata": {},
   "outputs": [],
   "source": [
    "relevant_vals = combined_floors.loc[:, ['time_floored', 'energy', 'Unnamed: 0.1']]"
   ]
  },
  {
   "cell_type": "code",
   "execution_count": null,
   "id": "31050f9d",
   "metadata": {},
   "outputs": [],
   "source": [
    "total_group = pd.concat([relevant_vals, group_1, group_2, group_3, group_4, group_5])"
   ]
  },
  {
   "cell_type": "code",
   "execution_count": null,
   "id": "9d4f8d99",
   "metadata": {},
   "outputs": [],
   "source": [
    "counts.to_frame().value_counts()"
   ]
  },
  {
   "cell_type": "code",
   "execution_count": null,
   "id": "22d9aacb",
   "metadata": {},
   "outputs": [],
   "source": [
    "relevant_vals.shape"
   ]
  },
  {
   "cell_type": "code",
   "execution_count": null,
   "id": "c200f7a4",
   "metadata": {},
   "outputs": [],
   "source": [
    "group_1.shape"
   ]
  },
  {
   "cell_type": "code",
   "execution_count": null,
   "id": "97a419fd",
   "metadata": {},
   "outputs": [],
   "source": [
    "total_group.shape"
   ]
  },
  {
   "cell_type": "code",
   "execution_count": null,
   "id": "b6f4d602",
   "metadata": {},
   "outputs": [],
   "source": [
    "total_group.groupby(['time_floored', 'Unnamed: 0.1']).count()['energy'].value_counts()"
   ]
  },
  {
   "cell_type": "code",
   "execution_count": null,
   "id": "c623362d",
   "metadata": {},
   "outputs": [],
   "source": [
    "combined_floors.groupby(['time_floored', 'Unnamed: 0.1']).count()['energy'].min()"
   ]
  },
  {
   "cell_type": "code",
   "execution_count": null,
   "id": "9a2453bb",
   "metadata": {},
   "outputs": [],
   "source": [
    "# Do we fill this up to 6 with the mean value and see what that does?"
   ]
  },
  {
   "cell_type": "code",
   "execution_count": null,
   "id": "00ccede1",
   "metadata": {},
   "outputs": [],
   "source": [
    "combined_merge = combined_floors.merge(counts.to_frame(), left_on = ['time_floored', 'Unnamed: 0.1'], right_index = True)"
   ]
  },
  {
   "cell_type": "code",
   "execution_count": null,
   "id": "47944a24",
   "metadata": {},
   "outputs": [],
   "source": [
    "combined_merge.head()"
   ]
  },
  {
   "cell_type": "code",
   "execution_count": null,
   "id": "126e416c",
   "metadata": {},
   "outputs": [],
   "source": [
    "timestamp_df = counts.to_frame()"
   ]
  },
  {
   "cell_type": "code",
   "execution_count": null,
   "id": "0f923d77",
   "metadata": {},
   "outputs": [],
   "source": [
    "df_ver6 = pd.concat([timestamp_df] * 6).reset_index()"
   ]
  },
  {
   "cell_type": "code",
   "execution_count": null,
   "id": "7de42d1c",
   "metadata": {},
   "outputs": [],
   "source": [
    "df_ver6.head()"
   ]
  },
  {
   "cell_type": "code",
   "execution_count": null,
   "id": "5e565069",
   "metadata": {},
   "outputs": [],
   "source": [
    "df_ver6.shape"
   ]
  },
  {
   "cell_type": "code",
   "execution_count": null,
   "id": "5c8869ef",
   "metadata": {},
   "outputs": [],
   "source": [
    "combined_merge_2 = combined_floors.merge(df_ver6, how = 'outer', left_on = ['time_floored', 'Unnamed: 0.1'], right_on = ['time_floored', 'Unnamed: 0.1'])"
   ]
  },
  {
   "cell_type": "code",
   "execution_count": null,
   "id": "af043ba1",
   "metadata": {},
   "outputs": [],
   "source": [
    "combined_merge_2.head(5)"
   ]
  },
  {
   "cell_type": "code",
   "execution_count": null,
   "id": "140810b9",
   "metadata": {},
   "outputs": [],
   "source": [
    "combined_merge_2['energy'].isna().sum()"
   ]
  },
  {
   "cell_type": "code",
   "execution_count": null,
   "id": "443cf20d",
   "metadata": {},
   "outputs": [],
   "source": [
    "combined_merge_2.drop_duplicates().shape"
   ]
  },
  {
   "cell_type": "code",
   "execution_count": null,
   "id": "58460495",
   "metadata": {},
   "outputs": [],
   "source": [
    "combined_merge.shape"
   ]
  },
  {
   "cell_type": "code",
   "execution_count": null,
   "id": "274bb538",
   "metadata": {},
   "outputs": [],
   "source": [
    "combined_merge[combined_merge['counts'] < 6].shape"
   ]
  },
  {
   "cell_type": "markdown",
   "id": "7a935c16",
   "metadata": {},
   "source": [
    "## Getting Relevant Dates for Train / Test Data"
   ]
  },
  {
   "cell_type": "code",
   "execution_count": null,
   "id": "d31f95fa",
   "metadata": {},
   "outputs": [],
   "source": [
    "dates = combined_floors['time_transformed'].transform(lambda x: x.date)"
   ]
  },
  {
   "cell_type": "code",
   "execution_count": null,
   "id": "cb315f6a",
   "metadata": {},
   "outputs": [],
   "source": [
    "dates_test = (dates >= pd.Timestamp('2018-08-01'))"
   ]
  },
  {
   "cell_type": "code",
   "execution_count": null,
   "id": "53d645c6",
   "metadata": {},
   "outputs": [],
   "source": [
    "onwards_test_date = combined_floors.loc[dates_test, :]\n",
    "pre_test_date = combined_floors.loc[~dates_test, :]"
   ]
  },
  {
   "cell_type": "code",
   "execution_count": null,
   "id": "11234a28",
   "metadata": {},
   "outputs": [],
   "source": [
    "pre_test_date.shape"
   ]
  },
  {
   "cell_type": "code",
   "execution_count": null,
   "id": "c696152c",
   "metadata": {},
   "outputs": [],
   "source": [
    "onwards_test_date.shape"
   ]
  },
  {
   "cell_type": "markdown",
   "id": "0169dd4c",
   "metadata": {},
   "source": [
    "## Work with Prophet\n",
    "\n",
    "#### For missing analysis work, please look at old version of this notebook."
   ]
  },
  {
   "cell_type": "code",
   "execution_count": null,
   "id": "6d705cd3",
   "metadata": {},
   "outputs": [],
   "source": [
    "# choosing the relevant info\n",
    "pre_test_date_reduced = pre_test_date.loc[:, ['time', 'energy']].reset_index(drop = True)\n",
    "onwards_test_date_reduced = onwards_test_date.loc[:, ['time', 'energy']].reset_index(drop = True)"
   ]
  },
  {
   "cell_type": "code",
   "execution_count": null,
   "id": "e6450ac3",
   "metadata": {},
   "outputs": [],
   "source": [
    "# stripping time zones since they're incompatible with Prophet\n",
    "pre_test_date_reduced['time'] = pre_test_date_reduced['time'].transform(lambda x: x[0:-6])\n",
    "onwards_test_date_reduced['time'] = onwards_test_date_reduced['time'].transform(lambda x: x[0:-6])"
   ]
  },
  {
   "cell_type": "code",
   "execution_count": null,
   "id": "d7f94835",
   "metadata": {},
   "outputs": [],
   "source": [
    "pre_test_date_reduced = pre_test_date_reduced.rename({'time': 'ds', 'energy': 'y'}, axis = 1)\n",
    "onwards_test_date_reduced = onwards_test_date_reduced.rename({'time': 'ds', 'energy': 'y'}, axis = 1)\n"
   ]
  },
  {
   "cell_type": "markdown",
   "id": "e8b97d8a",
   "metadata": {},
   "source": [
    "### Determining cap for Prophet model"
   ]
  },
  {
   "cell_type": "code",
   "execution_count": null,
   "id": "1c4e2f3a",
   "metadata": {},
   "outputs": [],
   "source": [
    "pre_test_date_reduced['y'].sort_values(ascending = False).head(5)"
   ]
  },
  {
   "cell_type": "code",
   "execution_count": null,
   "id": "926fc523",
   "metadata": {},
   "outputs": [],
   "source": [
    "pre_test_date_reduced['y'].mean()"
   ]
  },
  {
   "cell_type": "code",
   "execution_count": null,
   "id": "57c8a87d",
   "metadata": {},
   "outputs": [],
   "source": [
    "pre_test_date_reduced['y'].median()"
   ]
  },
  {
   "cell_type": "code",
   "execution_count": null,
   "id": "4f2e470b",
   "metadata": {},
   "outputs": [],
   "source": [
    "pre_test_date_reduced['cap'] = 50\n",
    "# have not set a changing cap with HVAC because I'm not sure it did change over this time frame"
   ]
  },
  {
   "cell_type": "markdown",
   "id": "f493c663",
   "metadata": {},
   "source": [
    "### Training Model"
   ]
  },
  {
   "cell_type": "code",
   "execution_count": null,
   "id": "01d38611",
   "metadata": {},
   "outputs": [],
   "source": [
    "prophet_model = Prophet.Prophet()"
   ]
  },
  {
   "cell_type": "code",
   "execution_count": null,
   "id": "95be1c77",
   "metadata": {},
   "outputs": [],
   "source": [
    "prophet_model.fit(pre_test_date_reduced)\n",
    "# got disabling yearly seasonality text - I think this makes sense to disable because our data < year"
   ]
  },
  {
   "cell_type": "markdown",
   "id": "bd1ef517",
   "metadata": {},
   "source": [
    "### Making Model Forecast\n",
    "\n",
    "#### We want to predict every 5 minutes from August 2, 2018 through the end of the data on January 7?, 2019\n",
    "This involves 5 minutes ... still figuring this out"
   ]
  },
  {
   "cell_type": "code",
   "execution_count": null,
   "id": "ce408187",
   "metadata": {},
   "outputs": [],
   "source": [
    "prophet_forecast = prophet_model.make_future_dataframe(periods = 51000, freq = '5min')\n",
    "prophet_forecast = prophet_model.predict(prophet_forecast)\n"
   ]
  },
  {
   "cell_type": "code",
   "execution_count": null,
   "id": "3bcca45b",
   "metadata": {},
   "outputs": [],
   "source": [
    "prophet_forecast.tail(5)"
   ]
  },
  {
   "cell_type": "code",
   "execution_count": null,
   "id": "026219d3",
   "metadata": {},
   "outputs": [],
   "source": [
    "# This got us a little past the time I wanted to be at but it works"
   ]
  },
  {
   "cell_type": "markdown",
   "id": "b5c589e7",
   "metadata": {},
   "source": [
    "## Plot Analysis\n",
    "\n",
    "#### Initial result shows that y hat values grow too quickly"
   ]
  },
  {
   "cell_type": "code",
   "execution_count": null,
   "id": "5e2beae7",
   "metadata": {},
   "outputs": [],
   "source": [
    "fig2 = prophet_model.plot_components(prophet_forecast)"
   ]
  },
  {
   "cell_type": "code",
   "execution_count": null,
   "id": "a08b0239",
   "metadata": {},
   "outputs": [],
   "source": [
    "#Regular for days of the week and maybe for hours, but not for overall months\n"
   ]
  },
  {
   "cell_type": "code",
   "execution_count": null,
   "id": "7bad1b8a",
   "metadata": {},
   "outputs": [],
   "source": [
    "prophet_forecast_reduced = prophet_forecast.loc[:, ['ds', 'yhat']]"
   ]
  },
  {
   "cell_type": "code",
   "execution_count": null,
   "id": "5825cd25",
   "metadata": {},
   "outputs": [],
   "source": [
    "prophet_forecast_reduced['timestamp_changed'] = prophet_forecast_reduced['ds'].transform(lambda x: pd.Timestamp(x))"
   ]
  },
  {
   "cell_type": "code",
   "execution_count": null,
   "id": "9fc3982f",
   "metadata": {},
   "outputs": [],
   "source": [
    "#onwards_compare = onwards_test_date.loc[:, ['time', 'energy']]\n",
    "#onwards_compare['time'] = onwards_compare['time'].transform(lambda x: x[0:-6])\n",
    "#onwards_compare = onwards_compare.rename({'time': 'ds', 'energy': 'yhat'}, axis = 1)\n",
    "onwards_test_date_reduced['timestamp_changed'] = onwards_test_date_reduced['ds'].transform(lambda x: pd.Timestamp(x))"
   ]
  },
  {
   "cell_type": "code",
   "execution_count": null,
   "id": "e2b5abc1",
   "metadata": {},
   "outputs": [],
   "source": [
    "onwards_test_date_reduced.head(5)"
   ]
  },
  {
   "cell_type": "code",
   "execution_count": null,
   "id": "50467a52",
   "metadata": {},
   "outputs": [],
   "source": [
    "onwards_test_date_reduced.shape"
   ]
  },
  {
   "cell_type": "code",
   "execution_count": null,
   "id": "6e827a6a",
   "metadata": {},
   "outputs": [],
   "source": [
    "pre_test_date_reduced.shape"
   ]
  },
  {
   "cell_type": "code",
   "execution_count": null,
   "id": "0ab1fb09",
   "metadata": {},
   "outputs": [],
   "source": [
    "merge_test = prophet_forecast_reduced.merge(onwards_test_date_reduced, left_on = 'timestamp_changed', right_on = 'timestamp_changed')"
   ]
  },
  {
   "cell_type": "code",
   "execution_count": null,
   "id": "c03c8567",
   "metadata": {},
   "outputs": [],
   "source": [
    "merge_test.head(5)"
   ]
  },
  {
   "cell_type": "code",
   "execution_count": null,
   "id": "dfa72d6d",
   "metadata": {},
   "outputs": [],
   "source": [
    "merge_test['yhat'].nunique() # there's only 77 unique values without using the floored values"
   ]
  },
  {
   "cell_type": "code",
   "execution_count": null,
   "id": "4cf26b3a",
   "metadata": {},
   "outputs": [],
   "source": [
    "no_duplicates = merge_test.drop_duplicates(subset=['ds_x', 'yhat'], keep = 'first')"
   ]
  },
  {
   "cell_type": "code",
   "execution_count": null,
   "id": "f676a648",
   "metadata": {},
   "outputs": [],
   "source": [
    "no_duplicates.head(5)"
   ]
  },
  {
   "cell_type": "code",
   "execution_count": null,
   "id": "c0062d7b",
   "metadata": {},
   "outputs": [],
   "source": [
    "no_duplicates.shape"
   ]
  },
  {
   "cell_type": "code",
   "execution_count": null,
   "id": "ffc4a4dd",
   "metadata": {},
   "outputs": [],
   "source": [
    "onwards_test_date_reduced.loc[onwards_test_date_reduced['timestamp_changed'] == pd.Timestamp('2018-08-19T23:47:40')]"
   ]
  },
  {
   "cell_type": "code",
   "execution_count": null,
   "id": "ff59166a",
   "metadata": {},
   "outputs": [],
   "source": [
    "# this dataset introduces duplicate measurements from each of the floors but it also has multiple duplicates\n",
    "\n",
    "# per floor -- should we train on each or how should we do this?"
   ]
  },
  {
   "cell_type": "code",
   "execution_count": null,
   "id": "1ec52c53",
   "metadata": {},
   "outputs": [],
   "source": [
    "# I'm very confused why there's duplicates here??? Need to clear these up and see which y values are causing this"
   ]
  },
  {
   "cell_type": "markdown",
   "id": "e816b535",
   "metadata": {},
   "source": [
    "### Attempt #2 - Working with floor 2 alone"
   ]
  },
  {
   "cell_type": "code",
   "execution_count": null,
   "id": "aea95f95",
   "metadata": {},
   "outputs": [],
   "source": [
    "floor_2_reduced = floor_2.loc[:, ['time', 'energy']].rename({'time': 'ds', 'energy': 'y'}, axis = 1)"
   ]
  },
  {
   "cell_type": "code",
   "execution_count": null,
   "id": "6e04dd8e",
   "metadata": {},
   "outputs": [],
   "source": [
    "floor_2_reduced['ds'] = floor_2_reduced['ds'].str[0:-6]"
   ]
  },
  {
   "cell_type": "code",
   "execution_count": null,
   "id": "c049047b",
   "metadata": {},
   "outputs": [],
   "source": [
    "floor_2_reduced['time_transformed'] = floor_2_reduced['ds'].transform(pd.Timestamp)"
   ]
  },
  {
   "cell_type": "code",
   "execution_count": null,
   "id": "552df986",
   "metadata": {},
   "outputs": [],
   "source": [
    "shape_val = floor_2_reduced['time_transformed'].shape[0]"
   ]
  },
  {
   "cell_type": "code",
   "execution_count": null,
   "id": "baba4fba",
   "metadata": {},
   "outputs": [],
   "source": [
    "np.round(((0.70) * shape_val))"
   ]
  },
  {
   "cell_type": "code",
   "execution_count": null,
   "id": "4478a88b",
   "metadata": {},
   "outputs": [],
   "source": [
    "seventy_front = floor_2_reduced.sort_values(by='time_transformed')[0:int(np.round(((0.70) * shape_val)))]\n",
    "thirty_back = floor_2_reduced.sort_values(by='time_transformed')[int(np.round(((0.70) * shape_val))):]"
   ]
  },
  {
   "cell_type": "code",
   "execution_count": null,
   "id": "3947ba1c",
   "metadata": {},
   "outputs": [],
   "source": [
    "seventy_front_red = seventy_front.drop(['time_transformed'], axis = 1)\n",
    "thirty_back_red = thirty_back.drop(['time_transformed'], axis = 1)"
   ]
  },
  {
   "cell_type": "code",
   "execution_count": null,
   "id": "6cb96ff1",
   "metadata": {},
   "outputs": [],
   "source": [
    "thirty_back.head()"
   ]
  },
  {
   "cell_type": "code",
   "execution_count": null,
   "id": "f4d56e0d",
   "metadata": {},
   "outputs": [],
   "source": [
    "prophet_model = Prophet.Prophet()"
   ]
  },
  {
   "cell_type": "code",
   "execution_count": null,
   "id": "c77332bf",
   "metadata": {},
   "outputs": [],
   "source": [
    "prophet_model.fit(seventy_front_red)\n"
   ]
  },
  {
   "cell_type": "code",
   "execution_count": null,
   "id": "ea767589",
   "metadata": {},
   "outputs": [],
   "source": [
    "prophet_forecast = prophet_model.make_future_dataframe(periods = 51000, freq = '5min')\n",
    "prophet_forecast = prophet_model.predict(prophet_forecast)"
   ]
  },
  {
   "cell_type": "code",
   "execution_count": null,
   "id": "31a0d38a",
   "metadata": {},
   "outputs": [],
   "source": [
    "prophet_forecast.tail(5)"
   ]
  },
  {
   "cell_type": "code",
   "execution_count": null,
   "id": "87e2f926",
   "metadata": {},
   "outputs": [],
   "source": [
    "fig2 = prophet_model.plot_components(prophet_forecast)"
   ]
  },
  {
   "cell_type": "code",
   "execution_count": null,
   "id": "c6514c4b",
   "metadata": {},
   "outputs": [],
   "source": [
    "# so this actually seems pretty similar to the work before even though numbers are different\n",
    "# let's see if we can do evalution"
   ]
  },
  {
   "cell_type": "code",
   "execution_count": null,
   "id": "0e1941e7",
   "metadata": {},
   "outputs": [],
   "source": [
    "prophet_forecast_times = prophet_forecast['ds'].transform(pd.Timestamp).rename('time_transformed')\n"
   ]
  },
  {
   "cell_type": "code",
   "execution_count": null,
   "id": "4e579b68",
   "metadata": {},
   "outputs": [],
   "source": [
    "prophet_forecast_times.head(5)"
   ]
  },
  {
   "cell_type": "code",
   "execution_count": null,
   "id": "2ce2d205",
   "metadata": {},
   "outputs": [],
   "source": [
    "prophet_forecast_total = prophet_forecast.merge(prophet_forecast_times.to_frame(), left_index = True, right_index = True)"
   ]
  },
  {
   "cell_type": "code",
   "execution_count": null,
   "id": "1d0c6e4b",
   "metadata": {},
   "outputs": [],
   "source": [
    "prophet_forecast_total.head()"
   ]
  },
  {
   "cell_type": "code",
   "execution_count": null,
   "id": "d1dbecbe",
   "metadata": {},
   "outputs": [],
   "source": [
    "compare = prophet_forecast_total.merge(thirty_back, how = 'outer', left_on = 'time_transformed', right_on = 'time_transformed')"
   ]
  },
  {
   "cell_type": "code",
   "execution_count": null,
   "id": "40db1419",
   "metadata": {},
   "outputs": [],
   "source": [
    "compare.head()"
   ]
  },
  {
   "cell_type": "code",
   "execution_count": null,
   "id": "58078552",
   "metadata": {},
   "outputs": [],
   "source": [
    "compare.shape"
   ]
  },
  {
   "cell_type": "code",
   "execution_count": null,
   "id": "8b3fc917",
   "metadata": {},
   "outputs": [],
   "source": [
    "compare['ds_y'].dropna().head(5)"
   ]
  },
  {
   "cell_type": "code",
   "execution_count": null,
   "id": "0d781e8f",
   "metadata": {},
   "outputs": [],
   "source": [
    "compare_future = compare[33306:]"
   ]
  },
  {
   "cell_type": "code",
   "execution_count": null,
   "id": "29626e18",
   "metadata": {},
   "outputs": [],
   "source": [
    "compare_future.head()"
   ]
  },
  {
   "cell_type": "code",
   "execution_count": null,
   "id": "9b2ef6d8",
   "metadata": {},
   "outputs": [],
   "source": [
    "compare_future.shape"
   ]
  },
  {
   "cell_type": "code",
   "execution_count": null,
   "id": "cd62ed6c",
   "metadata": {},
   "outputs": [],
   "source": [
    "compare_future.loc[:, ['yhat', 'y']].tail(5)"
   ]
  },
  {
   "cell_type": "code",
   "execution_count": null,
   "id": "2d16773c",
   "metadata": {},
   "outputs": [],
   "source": [
    "compare_future_means = compare_future"
   ]
  },
  {
   "cell_type": "code",
   "execution_count": null,
   "id": "f10ac4b9",
   "metadata": {},
   "outputs": [],
   "source": [
    "compare_future_means['yhat'] = compare_future_means['yhat'].fillna(compare_future_means['yhat'].mean())\n",
    "compare_future_means['y'] = compare_future_means['y'].fillna(compare_future_means['y'].mean())"
   ]
  },
  {
   "cell_type": "code",
   "execution_count": null,
   "id": "511494d8",
   "metadata": {},
   "outputs": [],
   "source": [
    "mse_floor_2 = ((compare_future_means['yhat'] - compare_future_means['y']) ** 2).sum() / compare_future_means.shape[0]"
   ]
  },
  {
   "cell_type": "code",
   "execution_count": null,
   "id": "3ef9d151",
   "metadata": {},
   "outputs": [],
   "source": [
    "mse_floor_2"
   ]
  },
  {
   "cell_type": "code",
   "execution_count": null,
   "id": "8881ca8e",
   "metadata": {},
   "outputs": [],
   "source": [
    "# comparing just the unique values for comparison, MSE of 50 isn't actually awful --> let me try with other floors"
   ]
  },
  {
   "cell_type": "markdown",
   "id": "f66dc40b",
   "metadata": {},
   "source": [
    "### Attempt # 3 / Floor 3"
   ]
  },
  {
   "cell_type": "code",
   "execution_count": null,
   "id": "96d01054",
   "metadata": {},
   "outputs": [],
   "source": [
    "floor_3_reduced = floor_3.loc[:, ['time', 'energy']].rename({'time': 'ds', 'energy': 'y'}, axis = 1)"
   ]
  },
  {
   "cell_type": "code",
   "execution_count": null,
   "id": "53a2fa23",
   "metadata": {},
   "outputs": [],
   "source": [
    "floor_3_reduced['ds'] = floor_3_reduced['ds'].str[0:-6]"
   ]
  },
  {
   "cell_type": "code",
   "execution_count": null,
   "id": "5393e1b4",
   "metadata": {},
   "outputs": [],
   "source": [
    "floor_3_reduced['time_transformed'] = floor_3_reduced['ds'].transform(pd.Timestamp)"
   ]
  },
  {
   "cell_type": "code",
   "execution_count": null,
   "id": "ee5e9e10",
   "metadata": {},
   "outputs": [],
   "source": [
    "shape_val = floor_3_reduced['time_transformed'].shape[0]"
   ]
  },
  {
   "cell_type": "code",
   "execution_count": null,
   "id": "0f02ba96",
   "metadata": {},
   "outputs": [],
   "source": [
    "np.round(((0.70) * shape_val))"
   ]
  },
  {
   "cell_type": "code",
   "execution_count": null,
   "id": "591ca93c",
   "metadata": {},
   "outputs": [],
   "source": [
    "seventy_front = floor_3_reduced.sort_values(by='time_transformed')[0:int(np.round(((0.70) * shape_val)))]\n",
    "thirty_back = floor_3_reduced.sort_values(by='time_transformed')[int(np.round(((0.70) * shape_val))):]"
   ]
  },
  {
   "cell_type": "code",
   "execution_count": null,
   "id": "750c573e",
   "metadata": {},
   "outputs": [],
   "source": [
    "seventy_front_red = seventy_front.drop(['time_transformed'], axis = 1)\n",
    "thirty_back_red = thirty_back.drop(['time_transformed'], axis = 1)"
   ]
  },
  {
   "cell_type": "code",
   "execution_count": null,
   "id": "63af039b",
   "metadata": {},
   "outputs": [],
   "source": [
    "seventy_front.tail()"
   ]
  },
  {
   "cell_type": "code",
   "execution_count": null,
   "id": "ba38aad2",
   "metadata": {},
   "outputs": [],
   "source": [
    "prophet_model = Prophet.Prophet()"
   ]
  },
  {
   "cell_type": "code",
   "execution_count": null,
   "id": "5845ee1c",
   "metadata": {},
   "outputs": [],
   "source": [
    "prophet_model.fit(seventy_front_red)\n"
   ]
  },
  {
   "cell_type": "code",
   "execution_count": null,
   "id": "94474571",
   "metadata": {},
   "outputs": [],
   "source": [
    "prophet_forecast = prophet_model.make_future_dataframe(periods = 51000, freq = '5min')\n",
    "prophet_forecast = prophet_model.predict(prophet_forecast)"
   ]
  },
  {
   "cell_type": "code",
   "execution_count": null,
   "id": "3b46ead6",
   "metadata": {},
   "outputs": [],
   "source": [
    "prophet_forecast.tail(5)"
   ]
  },
  {
   "cell_type": "code",
   "execution_count": null,
   "id": "94ddc94d",
   "metadata": {},
   "outputs": [],
   "source": [
    "fig3 = prophet_model.plot_components(prophet_forecast)"
   ]
  },
  {
   "cell_type": "code",
   "execution_count": null,
   "id": "5b524e3b",
   "metadata": {},
   "outputs": [],
   "source": [
    "# so this actually seems pretty similar to the work before even though numbers are different\n",
    "# let's see if we can do evaluation"
   ]
  },
  {
   "cell_type": "code",
   "execution_count": null,
   "id": "a4b89432",
   "metadata": {},
   "outputs": [],
   "source": [
    "prophet_forecast_times = prophet_forecast['ds'].transform(pd.Timestamp).rename('time_transformed')\n"
   ]
  },
  {
   "cell_type": "code",
   "execution_count": null,
   "id": "d989f379",
   "metadata": {},
   "outputs": [],
   "source": [
    "prophet_forecast_times.head(5)"
   ]
  },
  {
   "cell_type": "code",
   "execution_count": null,
   "id": "ecd11d33",
   "metadata": {},
   "outputs": [],
   "source": [
    "prophet_forecast_total = prophet_forecast.merge(prophet_forecast_times.to_frame(), left_index = True, right_index = True)"
   ]
  },
  {
   "cell_type": "code",
   "execution_count": null,
   "id": "49d8cfb7",
   "metadata": {},
   "outputs": [],
   "source": [
    "prophet_forecast_total.head()"
   ]
  },
  {
   "cell_type": "code",
   "execution_count": null,
   "id": "08c8c6e1",
   "metadata": {},
   "outputs": [],
   "source": [
    "compare = prophet_forecast_total.merge(thirty_back, how = 'outer', left_on = 'time_transformed', right_on = 'time_transformed')"
   ]
  },
  {
   "cell_type": "code",
   "execution_count": null,
   "id": "b8026079",
   "metadata": {},
   "outputs": [],
   "source": [
    "compare.head()"
   ]
  },
  {
   "cell_type": "code",
   "execution_count": null,
   "id": "f1e6f5c3",
   "metadata": {},
   "outputs": [],
   "source": [
    "compare.shape"
   ]
  },
  {
   "cell_type": "code",
   "execution_count": null,
   "id": "d9d76a62",
   "metadata": {},
   "outputs": [],
   "source": [
    "compare['ds_y'].dropna()"
   ]
  },
  {
   "cell_type": "code",
   "execution_count": null,
   "id": "f02728da",
   "metadata": {},
   "outputs": [],
   "source": [
    "compare_future = compare[34534:]"
   ]
  },
  {
   "cell_type": "code",
   "execution_count": null,
   "id": "17f55576",
   "metadata": {},
   "outputs": [],
   "source": [
    "compare_future.head()"
   ]
  },
  {
   "cell_type": "code",
   "execution_count": null,
   "id": "2d1c3d22",
   "metadata": {},
   "outputs": [],
   "source": [
    "compare_future.shape"
   ]
  },
  {
   "cell_type": "code",
   "execution_count": null,
   "id": "f97ce3ca",
   "metadata": {},
   "outputs": [],
   "source": [
    "compare_future.loc[:, ['yhat', 'y']]"
   ]
  },
  {
   "cell_type": "code",
   "execution_count": null,
   "id": "2c161652",
   "metadata": {},
   "outputs": [],
   "source": [
    "compare_future_means = compare_future"
   ]
  },
  {
   "cell_type": "code",
   "execution_count": null,
   "id": "44d0cca9",
   "metadata": {},
   "outputs": [],
   "source": [
    "compare_future_means['yhat'] = compare_future_means['yhat'].fillna(compare_future_means['yhat'].mean())\n",
    "compare_future_means['y'] = compare_future_means['y'].fillna(compare_future_means['y'].mean())"
   ]
  },
  {
   "cell_type": "code",
   "execution_count": null,
   "id": "7f1efe7e",
   "metadata": {},
   "outputs": [],
   "source": [
    "mse_floor_3 = ((compare_future_means['yhat'] - compare_future_means['y']) ** 2).sum() / compare_future_means.shape[0]"
   ]
  },
  {
   "cell_type": "code",
   "execution_count": null,
   "id": "2deff6c2",
   "metadata": {
    "scrolled": true
   },
   "outputs": [],
   "source": [
    "mse_floor_3"
   ]
  },
  {
   "cell_type": "code",
   "execution_count": null,
   "id": "fb51ca62",
   "metadata": {},
   "outputs": [],
   "source": []
  },
  {
   "cell_type": "markdown",
   "id": "b0e5be0b",
   "metadata": {},
   "source": [
    "# Attempt # 4 / Floor 4"
   ]
  },
  {
   "cell_type": "code",
   "execution_count": null,
   "id": "151f1486",
   "metadata": {},
   "outputs": [],
   "source": [
    "floor_4_reduced = floor_4.loc[:, ['time', 'energy']].rename({'time': 'ds', 'energy': 'y'}, axis = 1)"
   ]
  },
  {
   "cell_type": "code",
   "execution_count": null,
   "id": "2a0dcb7f",
   "metadata": {},
   "outputs": [],
   "source": [
    "floor_4_reduced['ds'] = floor_4_reduced['ds'].str[0:-6]"
   ]
  },
  {
   "cell_type": "code",
   "execution_count": null,
   "id": "ac94d1ba",
   "metadata": {},
   "outputs": [],
   "source": [
    "floor_4_reduced['time_transformed'] = floor_4_reduced['ds'].transform(pd.Timestamp)"
   ]
  },
  {
   "cell_type": "code",
   "execution_count": null,
   "id": "152041f9",
   "metadata": {},
   "outputs": [],
   "source": [
    "shape_val = floor_4_reduced['time_transformed'].shape[0]"
   ]
  },
  {
   "cell_type": "code",
   "execution_count": null,
   "id": "5a60f43f",
   "metadata": {},
   "outputs": [],
   "source": [
    "np.round(((0.70) * shape_val))"
   ]
  },
  {
   "cell_type": "code",
   "execution_count": null,
   "id": "d95a2ae8",
   "metadata": {},
   "outputs": [],
   "source": [
    "seventy_front = floor_4_reduced.sort_values(by='time_transformed')[0:int(np.round(((0.70) * shape_val)))]\n",
    "thirty_back = floor_4_reduced.sort_values(by='time_transformed')[int(np.round(((0.70) * shape_val))):]"
   ]
  },
  {
   "cell_type": "code",
   "execution_count": null,
   "id": "2d7db1b2",
   "metadata": {},
   "outputs": [],
   "source": [
    "seventy_front_red = seventy_front.drop(['time_transformed'], axis = 1)\n",
    "thirty_back_red = thirty_back.drop(['time_transformed'], axis = 1)\n"
   ]
  },
  {
   "cell_type": "code",
   "execution_count": null,
   "id": "f3642adf",
   "metadata": {},
   "outputs": [],
   "source": [
    "seventy_front.tail()"
   ]
  },
  {
   "cell_type": "code",
   "execution_count": null,
   "id": "0e00bacc",
   "metadata": {},
   "outputs": [],
   "source": [
    "prophet_model = Prophet.Prophet()"
   ]
  },
  {
   "cell_type": "code",
   "execution_count": null,
   "id": "6798538e",
   "metadata": {},
   "outputs": [],
   "source": [
    "prophet_model.fit(seventy_front_red)\n"
   ]
  },
  {
   "cell_type": "code",
   "execution_count": null,
   "id": "3bd56af7",
   "metadata": {},
   "outputs": [],
   "source": [
    "prophet_forecast = prophet_model.make_future_dataframe(periods = 51000, freq = '5min')\n",
    "prophet_forecast = prophet_model.predict(prophet_forecast)"
   ]
  },
  {
   "cell_type": "code",
   "execution_count": null,
   "id": "98ff4eab",
   "metadata": {},
   "outputs": [],
   "source": [
    "prophet_forecast.tail(5)"
   ]
  },
  {
   "cell_type": "code",
   "execution_count": null,
   "id": "8ccdc99d",
   "metadata": {},
   "outputs": [],
   "source": [
    "fig4 = prophet_model.plot_components(prophet_forecast)"
   ]
  },
  {
   "cell_type": "code",
   "execution_count": null,
   "id": "39dfc66e",
   "metadata": {},
   "outputs": [],
   "source": [
    "# The values for dates change wildly here, comapared to the other 2 floors"
   ]
  },
  {
   "cell_type": "code",
   "execution_count": null,
   "id": "6360392c",
   "metadata": {},
   "outputs": [],
   "source": [
    "prophet_forecast_times = prophet_forecast['ds'].transform(pd.Timestamp).rename('time_transformed')\n"
   ]
  },
  {
   "cell_type": "code",
   "execution_count": null,
   "id": "f4102992",
   "metadata": {},
   "outputs": [],
   "source": [
    "prophet_forecast_times.head(5)"
   ]
  },
  {
   "cell_type": "code",
   "execution_count": null,
   "id": "fd709ddc",
   "metadata": {},
   "outputs": [],
   "source": [
    "prophet_forecast_total = prophet_forecast.merge(prophet_forecast_times.to_frame(), left_index = True, right_index = True)"
   ]
  },
  {
   "cell_type": "code",
   "execution_count": null,
   "id": "3d4875dd",
   "metadata": {},
   "outputs": [],
   "source": [
    "prophet_forecast_total.head()"
   ]
  },
  {
   "cell_type": "code",
   "execution_count": null,
   "id": "5c4969f5",
   "metadata": {},
   "outputs": [],
   "source": [
    "compare = prophet_forecast_total.merge(thirty_back, how = 'outer', left_on = 'time_transformed', right_on = 'time_transformed')"
   ]
  },
  {
   "cell_type": "code",
   "execution_count": null,
   "id": "23d63ceb",
   "metadata": {},
   "outputs": [],
   "source": [
    "compare.head()"
   ]
  },
  {
   "cell_type": "code",
   "execution_count": null,
   "id": "27742307",
   "metadata": {},
   "outputs": [],
   "source": [
    "compare.shape"
   ]
  },
  {
   "cell_type": "code",
   "execution_count": null,
   "id": "daebe004",
   "metadata": {},
   "outputs": [],
   "source": [
    "compare['ds_y'].dropna().head(20)"
   ]
  },
  {
   "cell_type": "code",
   "execution_count": null,
   "id": "72a50020",
   "metadata": {},
   "outputs": [],
   "source": [
    "compare_future = compare[25368:]"
   ]
  },
  {
   "cell_type": "code",
   "execution_count": null,
   "id": "628c3336",
   "metadata": {},
   "outputs": [],
   "source": [
    "compare_future.head()"
   ]
  },
  {
   "cell_type": "code",
   "execution_count": null,
   "id": "0128ded9",
   "metadata": {},
   "outputs": [],
   "source": [
    "compare_future.shape"
   ]
  },
  {
   "cell_type": "code",
   "execution_count": null,
   "id": "068a4432",
   "metadata": {},
   "outputs": [],
   "source": [
    "compare_future.loc[:, ['yhat', 'y']]"
   ]
  },
  {
   "cell_type": "code",
   "execution_count": null,
   "id": "f8f99f75",
   "metadata": {},
   "outputs": [],
   "source": [
    "compare_future_means = compare_future"
   ]
  },
  {
   "cell_type": "code",
   "execution_count": null,
   "id": "8d46128f",
   "metadata": {},
   "outputs": [],
   "source": [
    "compare_future_means['yhat'] = compare_future_means['yhat'].fillna(compare_future_means['yhat'].mean())\n",
    "compare_future_means['y'] = compare_future_means['y'].fillna(compare_future_means['y'].mean())"
   ]
  },
  {
   "cell_type": "code",
   "execution_count": null,
   "id": "fe8c86aa",
   "metadata": {},
   "outputs": [],
   "source": [
    "mse_floor_4 = ((compare_future_means['yhat'] - compare_future_means['y']) ** 2).sum() / compare_future_means.shape[0]"
   ]
  },
  {
   "cell_type": "code",
   "execution_count": null,
   "id": "40a354b5",
   "metadata": {
    "scrolled": true
   },
   "outputs": [],
   "source": [
    "mse_floor_4"
   ]
  },
  {
   "cell_type": "code",
   "execution_count": null,
   "id": "1f32a1a5",
   "metadata": {},
   "outputs": [],
   "source": [
    "# ok so this is interesting --> the main contributor to issues is the floor 4 data -- we can see this with the trends as well\n"
   ]
  },
  {
   "cell_type": "code",
   "execution_count": null,
   "id": "6fa91801",
   "metadata": {},
   "outputs": [],
   "source": [
    "# Day of the week and time of day trends are pretty similar across \n",
    "# But for some reason prophet's struggling with the week 4 data"
   ]
  },
  {
   "cell_type": "code",
   "execution_count": null,
   "id": "ed9c0b52",
   "metadata": {},
   "outputs": [],
   "source": [
    "#Is there a couple of values that are just really high or that spike after September 2018 to cause this?"
   ]
  }
 ],
 "metadata": {
  "kernelspec": {
   "display_name": "Python 3",
   "language": "python",
   "name": "python3"
  },
  "language_info": {
   "codemirror_mode": {
    "name": "ipython",
    "version": 3
   },
   "file_extension": ".py",
   "mimetype": "text/x-python",
   "name": "python",
   "nbconvert_exporter": "python",
   "pygments_lexer": "ipython3",
   "version": "3.8.5"
  }
 },
 "nbformat": 4,
 "nbformat_minor": 5
}
