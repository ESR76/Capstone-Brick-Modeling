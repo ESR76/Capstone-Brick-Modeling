{
 "cells": [
  {
   "cell_type": "markdown",
   "id": "164e37f7",
   "metadata": {},
   "source": [
    "# Esperanza First Development Notebook"
   ]
  },
  {
   "cell_type": "markdown",
   "id": "831acf39",
   "metadata": {},
   "source": [
    "### Imports"
   ]
  },
  {
   "cell_type": "code",
   "execution_count": null,
   "id": "d382f102",
   "metadata": {},
   "outputs": [],
   "source": [
    "import pandas as pd\n",
    "import numpy as np\n",
    "import seaborn as sns\n",
    "\n",
    "import prophet as Prophet"
   ]
  },
  {
   "cell_type": "code",
   "execution_count": null,
   "id": "e170a6cb",
   "metadata": {},
   "outputs": [],
   "source": [
    "floor_2 = pd.read_csv('../data/raw/merged_all_2F.csv', index_col = 'Unnamed: 0')\n",
    "floor_3 = pd.read_csv('../data/raw/merged_all_3F.csv', index_col = 'Unnamed: 0')\n",
    "floor_4 = pd.read_csv('../data/raw/merged_all_4F.csv', index_col = 'Unnamed: 0')"
   ]
  },
  {
   "cell_type": "code",
   "execution_count": null,
   "id": "e96b6b66",
   "metadata": {},
   "outputs": [],
   "source": [
    "floor_2 = floor_2.drop(['Unnamed: 0.1', 'Unnamed: 0.1.1'], axis = 1)"
   ]
  },
  {
   "cell_type": "code",
   "execution_count": null,
   "id": "323f55f7",
   "metadata": {},
   "outputs": [],
   "source": [
    "floor_2.head(5)"
   ]
  },
  {
   "cell_type": "code",
   "execution_count": null,
   "id": "8a1232ce",
   "metadata": {},
   "outputs": [],
   "source": [
    "floor_3 = floor_3.drop(['Unnamed: 0.1'], axis = 1)"
   ]
  },
  {
   "cell_type": "code",
   "execution_count": null,
   "id": "0342b9b5",
   "metadata": {},
   "outputs": [],
   "source": [
    "floor_3.head(5)"
   ]
  },
  {
   "cell_type": "code",
   "execution_count": null,
   "id": "f878eb70",
   "metadata": {},
   "outputs": [],
   "source": [
    "floor_4 = floor_4.drop(['Unnamed: 0.1'], axis = 1)"
   ]
  },
  {
   "cell_type": "code",
   "execution_count": null,
   "id": "4422de93",
   "metadata": {},
   "outputs": [],
   "source": [
    "floor_4.head(5)"
   ]
  },
  {
   "cell_type": "code",
   "execution_count": null,
   "id": "c4b8ac10",
   "metadata": {},
   "outputs": [],
   "source": [
    "floor_2['floor'] = 2\n",
    "floor_3['floor'] = 3\n",
    "floor_4['floor'] = 4"
   ]
  },
  {
   "cell_type": "code",
   "execution_count": null,
   "id": "0e30d71c",
   "metadata": {},
   "outputs": [],
   "source": [
    "combined_floors = pd.concat([floor_2, floor_3, floor_4]).reset_index(drop = True)"
   ]
  },
  {
   "cell_type": "code",
   "execution_count": null,
   "id": "d6462ca0",
   "metadata": {},
   "outputs": [],
   "source": [
    "combined_floors.head(5)"
   ]
  },
  {
   "cell_type": "code",
   "execution_count": null,
   "id": "e253b964",
   "metadata": {},
   "outputs": [],
   "source": [
    "combined_floors['time_transformed'] = combined_floors['time'].apply(lambda x: pd.Timestamp(x))"
   ]
  },
  {
   "cell_type": "markdown",
   "id": "06a77d60",
   "metadata": {},
   "source": [
    "### Graph Analyses"
   ]
  },
  {
   "cell_type": "code",
   "execution_count": null,
   "id": "e836177d",
   "metadata": {},
   "outputs": [],
   "source": [
    "combined_floors['Common Setpoint'].hist()"
   ]
  },
  {
   "cell_type": "code",
   "execution_count": null,
   "id": "e0843380",
   "metadata": {},
   "outputs": [],
   "source": [
    "combined_floors['Actual Sup Flow SP'].hist()"
   ]
  },
  {
   "cell_type": "code",
   "execution_count": null,
   "id": "4d038d91",
   "metadata": {},
   "outputs": [],
   "source": [
    "combined_floors['Zone Temperature'].hist()"
   ]
  },
  {
   "cell_type": "code",
   "execution_count": null,
   "id": "436cfc25",
   "metadata": {},
   "outputs": [],
   "source": [
    "combined_floors['Zone Temperature Next'].hist()"
   ]
  },
  {
   "cell_type": "code",
   "execution_count": null,
   "id": "9009192d",
   "metadata": {},
   "outputs": [],
   "source": [
    "combined_floors['Actual Supply Flow'].hist()"
   ]
  },
  {
   "cell_type": "code",
   "execution_count": null,
   "id": "7e052bdb",
   "metadata": {},
   "outputs": [],
   "source": [
    "combined_floors['Actual Supply Flow Next'].hist()"
   ]
  },
  {
   "cell_type": "code",
   "execution_count": null,
   "id": "0a96d0fe",
   "metadata": {},
   "outputs": [],
   "source": [
    "combined_floors['energy'].hist()"
   ]
  },
  {
   "cell_type": "code",
   "execution_count": null,
   "id": "53221f73",
   "metadata": {},
   "outputs": [],
   "source": [
    "combined_floors['energy Next'].hist()"
   ]
  },
  {
   "cell_type": "code",
   "execution_count": null,
   "id": "70e3d63f",
   "metadata": {},
   "outputs": [],
   "source": [
    "combined_floors['Outside Air Temp'].hist()"
   ]
  },
  {
   "cell_type": "code",
   "execution_count": null,
   "id": "97b0e2ca",
   "metadata": {},
   "outputs": [],
   "source": [
    "combined_floors['Humidity'].hist()"
   ]
  },
  {
   "cell_type": "code",
   "execution_count": null,
   "id": "b682e941",
   "metadata": {},
   "outputs": [],
   "source": [
    "combined_floors['Humidity Next'].hist()"
   ]
  },
  {
   "cell_type": "code",
   "execution_count": null,
   "id": "ebc0cbb4",
   "metadata": {},
   "outputs": [],
   "source": [
    "combined_floors.describe()"
   ]
  },
  {
   "cell_type": "code",
   "execution_count": null,
   "id": "d8a54821",
   "metadata": {},
   "outputs": [],
   "source": [
    "combined_floors.shape"
   ]
  },
  {
   "cell_type": "markdown",
   "id": "6189eda0",
   "metadata": {},
   "source": [
    "### Turning Time Values into different columns and evaluating"
   ]
  },
  {
   "cell_type": "code",
   "execution_count": null,
   "id": "c5cd44d9",
   "metadata": {},
   "outputs": [],
   "source": [
    "combined_floors['year'] = combined_floors['time_transformed'].transform(lambda x: x.year)"
   ]
  },
  {
   "cell_type": "code",
   "execution_count": null,
   "id": "6ae3cdc8",
   "metadata": {},
   "outputs": [],
   "source": [
    "combined_floors['month'] = combined_floors['time_transformed'].transform(lambda x: x.month)"
   ]
  },
  {
   "cell_type": "code",
   "execution_count": null,
   "id": "2283274a",
   "metadata": {},
   "outputs": [],
   "source": [
    "combined_floors['month'].value_counts()\n",
    "# no values from March - May in any of the years ?"
   ]
  },
  {
   "cell_type": "code",
   "execution_count": null,
   "id": "6a83fc42",
   "metadata": {},
   "outputs": [],
   "source": [
    "combined_floors['day'] = combined_floors['time_transformed'].transform(lambda x: x.day)"
   ]
  },
  {
   "cell_type": "code",
   "execution_count": null,
   "id": "102f5fc7",
   "metadata": {},
   "outputs": [],
   "source": [
    "# data is supposed to be from July 2017 to the end of June 2018, but we have a little January 2019 and are missing months"
   ]
  },
  {
   "cell_type": "markdown",
   "id": "b6fea168",
   "metadata": {},
   "source": [
    "### Splitting Dates for a 70/30 train/test split"
   ]
  },
  {
   "cell_type": "code",
   "execution_count": null,
   "id": "d31f95fa",
   "metadata": {},
   "outputs": [],
   "source": [
    "dates = combined_floors['time_transformed'].transform(lambda x: x.date)"
   ]
  },
  {
   "cell_type": "code",
   "execution_count": null,
   "id": "c5959a30",
   "metadata": {},
   "outputs": [],
   "source": [
    "dates_2019 = (dates >= pd.Timestamp('2019-01-01'))"
   ]
  },
  {
   "cell_type": "code",
   "execution_count": null,
   "id": "7fa41de4",
   "metadata": {},
   "outputs": [],
   "source": [
    "onwards_2019 = combined_floors.loc[dates_2019, :]"
   ]
  },
  {
   "cell_type": "code",
   "execution_count": null,
   "id": "d3fe52ed",
   "metadata": {},
   "outputs": [],
   "source": [
    "pre_2019 = combined_floors.loc[~dates_2019, :]"
   ]
  },
  {
   "cell_type": "code",
   "execution_count": null,
   "id": "57fcc6dc",
   "metadata": {},
   "outputs": [],
   "source": [
    "onwards_2019.shape"
   ]
  },
  {
   "cell_type": "code",
   "execution_count": null,
   "id": "215bf4a1",
   "metadata": {},
   "outputs": [],
   "source": [
    "pre_2019.shape"
   ]
  },
  {
   "cell_type": "markdown",
   "id": "a759f3e6",
   "metadata": {},
   "source": [
    "This spans July 2017 to beginning of January 2019.\n",
    "\n",
    "This is not enough data to segment via the year. if we want to go for a 70/30 split:\n",
    "\n",
    "If we have a year and a half of data about, 50% of that would be 3/4 of a year. 75% of that would be 1 1/8 of a year, so about a year's worth of data would be about a year (estimating).\n",
    "\n"
   ]
  },
  {
   "cell_type": "code",
   "execution_count": null,
   "id": "cb315f6a",
   "metadata": {},
   "outputs": [],
   "source": [
    "dates_test = (dates >= pd.Timestamp('2018-08-01'))"
   ]
  },
  {
   "cell_type": "code",
   "execution_count": null,
   "id": "53d645c6",
   "metadata": {},
   "outputs": [],
   "source": [
    "onwards_test_date = combined_floors.loc[dates_test, :]\n",
    "pre_test_date = combined_floors.loc[~dates_test, :]\n"
   ]
  },
  {
   "cell_type": "code",
   "execution_count": null,
   "id": "11234a28",
   "metadata": {},
   "outputs": [],
   "source": [
    "pre_test_date.shape"
   ]
  },
  {
   "cell_type": "code",
   "execution_count": null,
   "id": "c696152c",
   "metadata": {},
   "outputs": [],
   "source": [
    "onwards_test_date.shape"
   ]
  },
  {
   "cell_type": "code",
   "execution_count": null,
   "id": "e075bfbb",
   "metadata": {},
   "outputs": [],
   "source": [
    "188633 / (188633 + 437044)"
   ]
  },
  {
   "cell_type": "markdown",
   "id": "6de06fad",
   "metadata": {},
   "source": [
    "That's pretty close to a 70%, 30% split so I'll use that for the split. We could do the split at the 7th/8th of the month to try and match days better but I think this is fine."
   ]
  },
  {
   "cell_type": "markdown",
   "id": "825a1fe6",
   "metadata": {},
   "source": [
    "### Trying out simple Linear and Decision Tree Models"
   ]
  },
  {
   "cell_type": "code",
   "execution_count": null,
   "id": "e90280e1",
   "metadata": {},
   "outputs": [],
   "source": [
    "import sklearn\n",
    "from sklearn import linear_model\n",
    "from sklearn.metrics import mean_squared_error\n",
    "from sklearn import tree"
   ]
  },
  {
   "cell_type": "code",
   "execution_count": null,
   "id": "6d705cd3",
   "metadata": {},
   "outputs": [],
   "source": [
    "pre_test_date_X = pre_test_date.loc[:, ['Zone Num', 'Common Setpoint', 'Actual Sup Flow SP', 'Zone Temperature', 'Actual Supply Flow', 'Outside Air Temp', 'Humidity', 'floor', 'time_transformed']]\n",
    "pre_test_date_y = pre_test_date['energy']\n",
    "\n",
    "onwards_test_date_X = onwards_test_date.loc[:, ['Zone Num', 'Common Setpoint', 'Actual Sup Flow SP', 'Zone Temperature', 'Actual Supply Flow', 'Outside Air Temp', 'Humidity', 'floor', 'time_transformed']]\n",
    "onwards_test_date_y = onwards_test_date['energy']"
   ]
  },
  {
   "cell_type": "code",
   "execution_count": null,
   "id": "c72518c8",
   "metadata": {},
   "outputs": [],
   "source": [
    "pre_test_date_X['month'] = pre_test_date_X['time_transformed'].transform(lambda x: x.month)\n",
    "pre_test_date_X['year'] = pre_test_date_X['time_transformed'].transform(lambda x: x.year)\n",
    "pre_test_date_X['day'] = pre_test_date_X['time_transformed'].transform(lambda x: x.day)\n",
    "pre_test_date_X['weekday'] = pre_test_date_X['time_transformed'].transform(lambda x: x.weekday)\n",
    "pre_test_date_X['hour'] = pre_test_date_X['time_transformed'].transform(lambda x: x.hour)\n",
    "pre_test_date_X['minute'] = pre_test_date_X['time_transformed'].transform(lambda x: x.minute)\n",
    "pre_test_date_X['second'] = pre_test_date_X['time_transformed'].transform(lambda x: x.second)"
   ]
  },
  {
   "cell_type": "code",
   "execution_count": null,
   "id": "e71a70c6",
   "metadata": {},
   "outputs": [],
   "source": [
    "onwards_test_date_X['month'] = onwards_test_date_X['time_transformed'].transform(lambda x: x.month)\n",
    "onwards_test_date_X['year'] = onwards_test_date_X['time_transformed'].transform(lambda x: x.year)\n",
    "onwards_test_date_X['day'] = onwards_test_date_X['time_transformed'].transform(lambda x: x.day)\n",
    "onwards_test_date_X['weekday'] = onwards_test_date_X['time_transformed'].transform(lambda x: x.weekday)\n",
    "onwards_test_date_X['hour'] = onwards_test_date_X['time_transformed'].transform(lambda x: x.hour)\n",
    "onwards_test_date_X['minute'] = onwards_test_date_X['time_transformed'].transform(lambda x: x.minute)\n",
    "onwards_test_date_X['second'] = onwards_test_date_X['time_transformed'].transform(lambda x: x.second)"
   ]
  },
  {
   "cell_type": "code",
   "execution_count": null,
   "id": "6a44e57c",
   "metadata": {},
   "outputs": [],
   "source": [
    "pre_test_date_X = pre_test_date_X.drop(['time_transformed'], axis = 1)\n",
    "onwards_test_date_X = onwards_test_date_X.drop(['time_transformed'], axis = 1)\n"
   ]
  },
  {
   "cell_type": "markdown",
   "id": "68446b9d",
   "metadata": {},
   "source": [
    "#### Linear"
   ]
  },
  {
   "cell_type": "code",
   "execution_count": null,
   "id": "45783381",
   "metadata": {},
   "outputs": [],
   "source": [
    "regr = linear_model.LinearRegression()\n",
    "regr.fit(pre_test_date_X, pre_test_date_y)"
   ]
  },
  {
   "cell_type": "code",
   "execution_count": null,
   "id": "5657821f",
   "metadata": {},
   "outputs": [],
   "source": [
    "pre_y_pred = regr.predict(pre_test_date_X)\n"
   ]
  },
  {
   "cell_type": "code",
   "execution_count": null,
   "id": "62c54ec5",
   "metadata": {},
   "outputs": [],
   "source": [
    "print(\"Mean squared error: %.2f\" % mean_squared_error(pre_test_date_y, pre_y_pred))"
   ]
  },
  {
   "cell_type": "code",
   "execution_count": null,
   "id": "a21ac66a",
   "metadata": {},
   "outputs": [],
   "source": [
    "onw_y_pred = regr.predict(onwards_test_date_X)"
   ]
  },
  {
   "cell_type": "code",
   "execution_count": null,
   "id": "093d4572",
   "metadata": {},
   "outputs": [],
   "source": [
    "print(\"Mean squared error: %.2f\" % mean_squared_error(onwards_test_date_y, onw_y_pred))"
   ]
  },
  {
   "cell_type": "markdown",
   "id": "2a54ea7a",
   "metadata": {},
   "source": [
    "This doesn't really involve prediction though, mostly relies on having all of the data and evaluating. Our goal is to predict ahead."
   ]
  },
  {
   "cell_type": "markdown",
   "id": "b574add6",
   "metadata": {},
   "source": [
    "#### Decision Tree"
   ]
  },
  {
   "cell_type": "code",
   "execution_count": null,
   "id": "8a1f8c91",
   "metadata": {},
   "outputs": [],
   "source": [
    "decTree = tree.DecisionTreeRegressor(max_depth = 5, min_samples_split = 5)\n",
    "decTree.fit(pre_test_date_X, pre_test_date_y)"
   ]
  },
  {
   "cell_type": "code",
   "execution_count": null,
   "id": "fc40fe59",
   "metadata": {},
   "outputs": [],
   "source": [
    "preds_y_decTree = decTree.predict(pre_test_date_X)"
   ]
  },
  {
   "cell_type": "code",
   "execution_count": null,
   "id": "8e43f931",
   "metadata": {},
   "outputs": [],
   "source": [
    "print(\"Mean squared error: %.2f\" % mean_squared_error(pre_test_date_y, preds_y_decTree))"
   ]
  },
  {
   "cell_type": "code",
   "execution_count": null,
   "id": "a120dc6e",
   "metadata": {},
   "outputs": [],
   "source": [
    "preds_y_decTree_onw = decTree.predict(onwards_test_date_X)"
   ]
  },
  {
   "cell_type": "code",
   "execution_count": null,
   "id": "d73c4cf7",
   "metadata": {},
   "outputs": [],
   "source": [
    "print(\"Mean squared error: %.2f\" % mean_squared_error(onwards_test_date_y, preds_y_decTree_onw))"
   ]
  },
  {
   "cell_type": "markdown",
   "id": "53e395e2",
   "metadata": {},
   "source": [
    "Changed max_depth and min_samples_split values based on initial overtraining. Again doesn't fix the issue that we're not really able to predict ahead of time."
   ]
  },
  {
   "cell_type": "markdown",
   "id": "0ebc2861",
   "metadata": {},
   "source": [
    "Some potential options to look into for sklearn:\n",
    "- https://scikit-learn.org/stable/auto_examples/applications/plot_cyclical_feature_engineering.html#sphx-glr-auto-examples-applications-plot-cyclical-feature-engineering-py\n",
    "- https://scikit-learn.org/stable/modules/generated/sklearn.model_selection.TimeSeriesSplit.html"
   ]
  },
  {
   "cell_type": "markdown",
   "id": "43f451bc",
   "metadata": {},
   "source": [
    "### Prophet Model"
   ]
  },
  {
   "cell_type": "markdown",
   "id": "43c3f450",
   "metadata": {},
   "source": [
    "#### Need to rename columns and remove timezones to run Prophet"
   ]
  },
  {
   "cell_type": "code",
   "execution_count": null,
   "id": "5a5bdd36",
   "metadata": {},
   "outputs": [],
   "source": [
    "prophet_test_pre = pre_test_date.loc[:, ['time', 'energy']].rename({'time': 'ds', 'energy': 'y'}, axis = 1)"
   ]
  },
  {
   "cell_type": "code",
   "execution_count": null,
   "id": "1202b9ef",
   "metadata": {},
   "outputs": [],
   "source": [
    "prophet_test_pre['ds'] = prophet_test_pre['ds'].transform(lambda x: x[0:-6])"
   ]
  },
  {
   "cell_type": "markdown",
   "id": "6337eaa6",
   "metadata": {},
   "source": [
    "Running the model."
   ]
  },
  {
   "cell_type": "code",
   "execution_count": null,
   "id": "01d38611",
   "metadata": {},
   "outputs": [],
   "source": [
    "prophet_model = Prophet.Prophet()"
   ]
  },
  {
   "cell_type": "code",
   "execution_count": null,
   "id": "95be1c77",
   "metadata": {},
   "outputs": [],
   "source": [
    "prophet_model.fit(prophet_test_pre)"
   ]
  },
  {
   "cell_type": "code",
   "execution_count": null,
   "id": "ce408187",
   "metadata": {},
   "outputs": [],
   "source": [
    "prophet_forecast = prophet_model.make_future_dataframe(periods=365, freq='H')\n",
    "prophet_forecast = prophet_model.predict(prophet_forecast)\n"
   ]
  },
  {
   "cell_type": "code",
   "execution_count": null,
   "id": "7bad1b8a",
   "metadata": {},
   "outputs": [],
   "source": [
    "prophet_forecast_reduced = prophet_forecast.loc[:, ['ds', 'yhat']]"
   ]
  },
  {
   "cell_type": "code",
   "execution_count": null,
   "id": "5825cd25",
   "metadata": {},
   "outputs": [],
   "source": [
    "prophet_forecast_reduced['timestamp_changed'] = prophet_forecast_reduced['ds'].transform(lambda x: pd.Timestamp(x))"
   ]
  },
  {
   "cell_type": "code",
   "execution_count": null,
   "id": "9fc3982f",
   "metadata": {},
   "outputs": [],
   "source": [
    "onwards_compare = onwards_test_date.loc[:, ['time', 'energy']]\n",
    "onwards_compare['time'] = onwards_compare['time'].transform(lambda x: x[0:-6])\n",
    "onwards_compare = onwards_compare.rename({'time': 'ds', 'energy': 'yhat'}, axis = 1)\n",
    "onwards_compare['timestamp_changed'] = onwards_compare['ds'].transform(lambda x: pd.Timestamp(x))"
   ]
  },
  {
   "cell_type": "code",
   "execution_count": null,
   "id": "0ab1fb09",
   "metadata": {},
   "outputs": [],
   "source": [
    "merge_test = prophet_forecast_reduced.merge(onwards_compare, left_on = 'timestamp_changed', right_on = 'timestamp_changed')"
   ]
  },
  {
   "cell_type": "code",
   "execution_count": null,
   "id": "c03c8567",
   "metadata": {},
   "outputs": [],
   "source": [
    "merge_test"
   ]
  },
  {
   "cell_type": "markdown",
   "id": "eb95a174",
   "metadata": {},
   "source": [
    "There should be values for this merge - because there isn't, we have to evaluate how we work with timestamps."
   ]
  }
 ],
 "metadata": {
  "kernelspec": {
   "display_name": "Python 3",
   "language": "python",
   "name": "python3"
  },
  "language_info": {
   "codemirror_mode": {
    "name": "ipython",
    "version": 3
   },
   "file_extension": ".py",
   "mimetype": "text/x-python",
   "name": "python",
   "nbconvert_exporter": "python",
   "pygments_lexer": "ipython3",
   "version": "3.8.5"
  }
 },
 "nbformat": 4,
 "nbformat_minor": 5
}
