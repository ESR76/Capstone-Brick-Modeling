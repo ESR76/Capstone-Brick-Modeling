{
 "cells": [
  {
   "cell_type": "markdown",
   "id": "164e37f7",
   "metadata": {},
   "source": [
    "# Esperanza Old Development Notebook"
   ]
  },
  {
   "cell_type": "markdown",
   "id": "831acf39",
   "metadata": {},
   "source": [
    "### Imports"
   ]
  },
  {
   "cell_type": "code",
   "execution_count": 2,
   "id": "d382f102",
   "metadata": {},
   "outputs": [
    {
     "name": "stderr",
     "output_type": "stream",
     "text": [
      "Importing plotly failed. Interactive plots will not work.\n"
     ]
    }
   ],
   "source": [
    "import pandas as pd\n",
    "import numpy as np\n",
    "import seaborn as sns\n",
    "\n",
    "import prophet as Prophet"
   ]
  },
  {
   "cell_type": "code",
   "execution_count": 10,
   "id": "e170a6cb",
   "metadata": {},
   "outputs": [],
   "source": [
    "floor_2 = pd.read_csv('merged_all_2F.csv', index_col = 'Unnamed: 0')\n",
    "floor_3 = pd.read_csv('merged_all_3F.csv', index_col = 'Unnamed: 0')\n",
    "floor_4 = pd.read_csv('merged_all_4F.csv', index_col = 'Unnamed: 0')"
   ]
  },
  {
   "cell_type": "code",
   "execution_count": 11,
   "id": "e96b6b66",
   "metadata": {},
   "outputs": [],
   "source": [
    "floor_2 = floor_2.drop(['Unnamed: 0.1', 'Unnamed: 0.1.1'], axis = 1)"
   ]
  },
  {
   "cell_type": "code",
   "execution_count": 12,
   "id": "323f55f7",
   "metadata": {},
   "outputs": [
    {
     "data": {
      "text/html": [
       "<div>\n",
       "<style scoped>\n",
       "    .dataframe tbody tr th:only-of-type {\n",
       "        vertical-align: middle;\n",
       "    }\n",
       "\n",
       "    .dataframe tbody tr th {\n",
       "        vertical-align: top;\n",
       "    }\n",
       "\n",
       "    .dataframe thead th {\n",
       "        text-align: right;\n",
       "    }\n",
       "</style>\n",
       "<table border=\"1\" class=\"dataframe\">\n",
       "  <thead>\n",
       "    <tr style=\"text-align: right;\">\n",
       "      <th></th>\n",
       "      <th>time</th>\n",
       "      <th>Common Setpoint</th>\n",
       "      <th>Actual Sup Flow SP</th>\n",
       "      <th>Zone Temperature</th>\n",
       "      <th>Actual Supply Flow</th>\n",
       "      <th>energy</th>\n",
       "      <th>Outside Air Temp</th>\n",
       "      <th>Humidity</th>\n",
       "      <th>Zone Temperature Next</th>\n",
       "      <th>Actual Supply Flow Next</th>\n",
       "      <th>Outside Air Temp Next</th>\n",
       "      <th>Humidity Next</th>\n",
       "      <th>energy Next</th>\n",
       "    </tr>\n",
       "  </thead>\n",
       "  <tbody>\n",
       "    <tr>\n",
       "      <th>0</th>\n",
       "      <td>2018-01-03T20:57:39+00:00</td>\n",
       "      <td>72.5</td>\n",
       "      <td>330.0</td>\n",
       "      <td>75.2</td>\n",
       "      <td>318.73</td>\n",
       "      <td>10.109642</td>\n",
       "      <td>68.44</td>\n",
       "      <td>56.0</td>\n",
       "      <td>75.2</td>\n",
       "      <td>317.06</td>\n",
       "      <td>68.50</td>\n",
       "      <td>56.0</td>\n",
       "      <td>10.113301</td>\n",
       "    </tr>\n",
       "    <tr>\n",
       "      <th>1</th>\n",
       "      <td>2018-01-03T21:04:13+00:00</td>\n",
       "      <td>72.5</td>\n",
       "      <td>330.0</td>\n",
       "      <td>75.2</td>\n",
       "      <td>317.06</td>\n",
       "      <td>10.113301</td>\n",
       "      <td>68.50</td>\n",
       "      <td>56.0</td>\n",
       "      <td>75.7</td>\n",
       "      <td>314.34</td>\n",
       "      <td>68.25</td>\n",
       "      <td>56.0</td>\n",
       "      <td>10.099466</td>\n",
       "    </tr>\n",
       "    <tr>\n",
       "      <th>2</th>\n",
       "      <td>2018-01-03T21:10:44+00:00</td>\n",
       "      <td>72.5</td>\n",
       "      <td>330.0</td>\n",
       "      <td>75.7</td>\n",
       "      <td>314.34</td>\n",
       "      <td>10.099466</td>\n",
       "      <td>68.25</td>\n",
       "      <td>56.0</td>\n",
       "      <td>75.7</td>\n",
       "      <td>313.91</td>\n",
       "      <td>68.31</td>\n",
       "      <td>56.0</td>\n",
       "      <td>10.241028</td>\n",
       "    </tr>\n",
       "    <tr>\n",
       "      <th>3</th>\n",
       "      <td>2018-01-03T21:17:16+00:00</td>\n",
       "      <td>72.5</td>\n",
       "      <td>330.0</td>\n",
       "      <td>75.7</td>\n",
       "      <td>313.91</td>\n",
       "      <td>10.241028</td>\n",
       "      <td>68.31</td>\n",
       "      <td>56.0</td>\n",
       "      <td>75.7</td>\n",
       "      <td>318.31</td>\n",
       "      <td>68.44</td>\n",
       "      <td>57.0</td>\n",
       "      <td>10.187620</td>\n",
       "    </tr>\n",
       "    <tr>\n",
       "      <th>4</th>\n",
       "      <td>2018-01-03T21:23:44+00:00</td>\n",
       "      <td>72.5</td>\n",
       "      <td>330.0</td>\n",
       "      <td>75.7</td>\n",
       "      <td>318.31</td>\n",
       "      <td>10.187620</td>\n",
       "      <td>68.44</td>\n",
       "      <td>57.0</td>\n",
       "      <td>75.7</td>\n",
       "      <td>316.65</td>\n",
       "      <td>68.81</td>\n",
       "      <td>57.0</td>\n",
       "      <td>10.194055</td>\n",
       "    </tr>\n",
       "  </tbody>\n",
       "</table>\n",
       "</div>"
      ],
      "text/plain": [
       "                        time  Common Setpoint  Actual Sup Flow SP  \\\n",
       "0  2018-01-03T20:57:39+00:00             72.5               330.0   \n",
       "1  2018-01-03T21:04:13+00:00             72.5               330.0   \n",
       "2  2018-01-03T21:10:44+00:00             72.5               330.0   \n",
       "3  2018-01-03T21:17:16+00:00             72.5               330.0   \n",
       "4  2018-01-03T21:23:44+00:00             72.5               330.0   \n",
       "\n",
       "   Zone Temperature  Actual Supply Flow     energy  Outside Air Temp  \\\n",
       "0              75.2              318.73  10.109642             68.44   \n",
       "1              75.2              317.06  10.113301             68.50   \n",
       "2              75.7              314.34  10.099466             68.25   \n",
       "3              75.7              313.91  10.241028             68.31   \n",
       "4              75.7              318.31  10.187620             68.44   \n",
       "\n",
       "   Humidity  Zone Temperature Next  Actual Supply Flow Next  \\\n",
       "0      56.0                   75.2                   317.06   \n",
       "1      56.0                   75.7                   314.34   \n",
       "2      56.0                   75.7                   313.91   \n",
       "3      56.0                   75.7                   318.31   \n",
       "4      57.0                   75.7                   316.65   \n",
       "\n",
       "   Outside Air Temp Next  Humidity Next  energy Next  \n",
       "0                  68.50           56.0    10.113301  \n",
       "1                  68.25           56.0    10.099466  \n",
       "2                  68.31           56.0    10.241028  \n",
       "3                  68.44           57.0    10.187620  \n",
       "4                  68.81           57.0    10.194055  "
      ]
     },
     "execution_count": 12,
     "metadata": {},
     "output_type": "execute_result"
    }
   ],
   "source": [
    "floor_2.head(5)"
   ]
  },
  {
   "cell_type": "code",
   "execution_count": 13,
   "id": "8a1232ce",
   "metadata": {},
   "outputs": [],
   "source": [
    "floor_3 = floor_3.drop(['Unnamed: 0.1'], axis = 1)"
   ]
  },
  {
   "cell_type": "code",
   "execution_count": 14,
   "id": "0342b9b5",
   "metadata": {},
   "outputs": [
    {
     "data": {
      "text/html": [
       "<div>\n",
       "<style scoped>\n",
       "    .dataframe tbody tr th:only-of-type {\n",
       "        vertical-align: middle;\n",
       "    }\n",
       "\n",
       "    .dataframe tbody tr th {\n",
       "        vertical-align: top;\n",
       "    }\n",
       "\n",
       "    .dataframe thead th {\n",
       "        text-align: right;\n",
       "    }\n",
       "</style>\n",
       "<table border=\"1\" class=\"dataframe\">\n",
       "  <thead>\n",
       "    <tr style=\"text-align: right;\">\n",
       "      <th></th>\n",
       "      <th>time</th>\n",
       "      <th>Common Setpoint</th>\n",
       "      <th>Actual Sup Flow SP</th>\n",
       "      <th>Zone Temperature</th>\n",
       "      <th>Actual Supply Flow</th>\n",
       "      <th>energy</th>\n",
       "      <th>Outside Air Temp</th>\n",
       "      <th>Humidity</th>\n",
       "      <th>Zone Temperature Next</th>\n",
       "      <th>Actual Supply Flow Next</th>\n",
       "      <th>Outside Air Temp Next</th>\n",
       "      <th>Humidity Next</th>\n",
       "      <th>energy Next</th>\n",
       "    </tr>\n",
       "  </thead>\n",
       "  <tbody>\n",
       "    <tr>\n",
       "      <th>0</th>\n",
       "      <td>2018-07-05T00:58:48+00:00</td>\n",
       "      <td>72.0</td>\n",
       "      <td>295.0</td>\n",
       "      <td>73.75</td>\n",
       "      <td>287.56</td>\n",
       "      <td>9.067059</td>\n",
       "      <td>68.88</td>\n",
       "      <td>53.0</td>\n",
       "      <td>73.75</td>\n",
       "      <td>289.97</td>\n",
       "      <td>69.31</td>\n",
       "      <td>53.0</td>\n",
       "      <td>9.104582</td>\n",
       "    </tr>\n",
       "    <tr>\n",
       "      <th>1</th>\n",
       "      <td>2018-07-05T01:04:13+00:00</td>\n",
       "      <td>72.0</td>\n",
       "      <td>295.0</td>\n",
       "      <td>73.75</td>\n",
       "      <td>289.97</td>\n",
       "      <td>9.104582</td>\n",
       "      <td>69.31</td>\n",
       "      <td>53.0</td>\n",
       "      <td>73.75</td>\n",
       "      <td>291.17</td>\n",
       "      <td>68.88</td>\n",
       "      <td>53.0</td>\n",
       "      <td>9.377247</td>\n",
       "    </tr>\n",
       "    <tr>\n",
       "      <th>2</th>\n",
       "      <td>2018-07-05T01:09:37+00:00</td>\n",
       "      <td>72.0</td>\n",
       "      <td>295.0</td>\n",
       "      <td>73.75</td>\n",
       "      <td>291.17</td>\n",
       "      <td>9.377247</td>\n",
       "      <td>68.88</td>\n",
       "      <td>53.0</td>\n",
       "      <td>73.75</td>\n",
       "      <td>299.89</td>\n",
       "      <td>68.94</td>\n",
       "      <td>53.0</td>\n",
       "      <td>9.147068</td>\n",
       "    </tr>\n",
       "    <tr>\n",
       "      <th>3</th>\n",
       "      <td>2018-07-05T01:15:17+00:00</td>\n",
       "      <td>72.0</td>\n",
       "      <td>295.0</td>\n",
       "      <td>73.75</td>\n",
       "      <td>299.89</td>\n",
       "      <td>9.147068</td>\n",
       "      <td>68.94</td>\n",
       "      <td>53.0</td>\n",
       "      <td>73.75</td>\n",
       "      <td>294.97</td>\n",
       "      <td>69.13</td>\n",
       "      <td>53.0</td>\n",
       "      <td>9.198235</td>\n",
       "    </tr>\n",
       "    <tr>\n",
       "      <th>4</th>\n",
       "      <td>2018-07-05T01:20:55+00:00</td>\n",
       "      <td>72.0</td>\n",
       "      <td>295.0</td>\n",
       "      <td>73.75</td>\n",
       "      <td>294.97</td>\n",
       "      <td>9.198235</td>\n",
       "      <td>69.13</td>\n",
       "      <td>53.0</td>\n",
       "      <td>73.75</td>\n",
       "      <td>296.62</td>\n",
       "      <td>68.94</td>\n",
       "      <td>53.0</td>\n",
       "      <td>9.212810</td>\n",
       "    </tr>\n",
       "  </tbody>\n",
       "</table>\n",
       "</div>"
      ],
      "text/plain": [
       "                        time  Common Setpoint  Actual Sup Flow SP  \\\n",
       "0  2018-07-05T00:58:48+00:00             72.0               295.0   \n",
       "1  2018-07-05T01:04:13+00:00             72.0               295.0   \n",
       "2  2018-07-05T01:09:37+00:00             72.0               295.0   \n",
       "3  2018-07-05T01:15:17+00:00             72.0               295.0   \n",
       "4  2018-07-05T01:20:55+00:00             72.0               295.0   \n",
       "\n",
       "   Zone Temperature  Actual Supply Flow    energy  Outside Air Temp  Humidity  \\\n",
       "0             73.75              287.56  9.067059             68.88      53.0   \n",
       "1             73.75              289.97  9.104582             69.31      53.0   \n",
       "2             73.75              291.17  9.377247             68.88      53.0   \n",
       "3             73.75              299.89  9.147068             68.94      53.0   \n",
       "4             73.75              294.97  9.198235             69.13      53.0   \n",
       "\n",
       "   Zone Temperature Next  Actual Supply Flow Next  Outside Air Temp Next  \\\n",
       "0                  73.75                   289.97                  69.31   \n",
       "1                  73.75                   291.17                  68.88   \n",
       "2                  73.75                   299.89                  68.94   \n",
       "3                  73.75                   294.97                  69.13   \n",
       "4                  73.75                   296.62                  68.94   \n",
       "\n",
       "   Humidity Next  energy Next  \n",
       "0           53.0     9.104582  \n",
       "1           53.0     9.377247  \n",
       "2           53.0     9.147068  \n",
       "3           53.0     9.198235  \n",
       "4           53.0     9.212810  "
      ]
     },
     "execution_count": 14,
     "metadata": {},
     "output_type": "execute_result"
    }
   ],
   "source": [
    "floor_3.head(5)"
   ]
  },
  {
   "cell_type": "code",
   "execution_count": 15,
   "id": "f878eb70",
   "metadata": {},
   "outputs": [],
   "source": [
    "floor_4 = floor_4.drop(['Unnamed: 0.1'], axis = 1)"
   ]
  },
  {
   "cell_type": "code",
   "execution_count": 16,
   "id": "4422de93",
   "metadata": {},
   "outputs": [
    {
     "data": {
      "text/html": [
       "<div>\n",
       "<style scoped>\n",
       "    .dataframe tbody tr th:only-of-type {\n",
       "        vertical-align: middle;\n",
       "    }\n",
       "\n",
       "    .dataframe tbody tr th {\n",
       "        vertical-align: top;\n",
       "    }\n",
       "\n",
       "    .dataframe thead th {\n",
       "        text-align: right;\n",
       "    }\n",
       "</style>\n",
       "<table border=\"1\" class=\"dataframe\">\n",
       "  <thead>\n",
       "    <tr style=\"text-align: right;\">\n",
       "      <th></th>\n",
       "      <th>time</th>\n",
       "      <th>Common Setpoint</th>\n",
       "      <th>Actual Sup Flow SP</th>\n",
       "      <th>Zone Temperature</th>\n",
       "      <th>Actual Supply Flow</th>\n",
       "      <th>energy</th>\n",
       "      <th>Outside Air Temp</th>\n",
       "      <th>Humidity</th>\n",
       "      <th>Zone Temperature Next</th>\n",
       "      <th>Actual Supply Flow Next</th>\n",
       "      <th>Outside Air Temp Next</th>\n",
       "      <th>Humidity Next</th>\n",
       "      <th>energy Next</th>\n",
       "    </tr>\n",
       "  </thead>\n",
       "  <tbody>\n",
       "    <tr>\n",
       "      <th>0</th>\n",
       "      <td>2018-09-23T22:59:39+00:00</td>\n",
       "      <td>72.0</td>\n",
       "      <td>722.73</td>\n",
       "      <td>75.25</td>\n",
       "      <td>733.46</td>\n",
       "      <td>23.554224</td>\n",
       "      <td>71.31</td>\n",
       "      <td>53.0</td>\n",
       "      <td>74.74</td>\n",
       "      <td>692.03</td>\n",
       "      <td>71.19</td>\n",
       "      <td>53.0</td>\n",
       "      <td>22.261861</td>\n",
       "    </tr>\n",
       "    <tr>\n",
       "      <th>1</th>\n",
       "      <td>2018-09-23T23:06:38+00:00</td>\n",
       "      <td>72.0</td>\n",
       "      <td>661.39</td>\n",
       "      <td>74.74</td>\n",
       "      <td>692.03</td>\n",
       "      <td>22.261861</td>\n",
       "      <td>71.19</td>\n",
       "      <td>53.0</td>\n",
       "      <td>74.74</td>\n",
       "      <td>654.06</td>\n",
       "      <td>71.19</td>\n",
       "      <td>53.0</td>\n",
       "      <td>19.471076</td>\n",
       "    </tr>\n",
       "    <tr>\n",
       "      <th>2</th>\n",
       "      <td>2018-09-23T23:13:38+00:00</td>\n",
       "      <td>72.0</td>\n",
       "      <td>624.95</td>\n",
       "      <td>74.74</td>\n",
       "      <td>654.06</td>\n",
       "      <td>19.471076</td>\n",
       "      <td>71.19</td>\n",
       "      <td>53.0</td>\n",
       "      <td>74.24</td>\n",
       "      <td>576.94</td>\n",
       "      <td>70.94</td>\n",
       "      <td>53.0</td>\n",
       "      <td>18.861571</td>\n",
       "    </tr>\n",
       "    <tr>\n",
       "      <th>3</th>\n",
       "      <td>2018-09-23T23:20:38+00:00</td>\n",
       "      <td>72.0</td>\n",
       "      <td>562.05</td>\n",
       "      <td>74.24</td>\n",
       "      <td>576.94</td>\n",
       "      <td>18.861571</td>\n",
       "      <td>70.94</td>\n",
       "      <td>53.0</td>\n",
       "      <td>74.24</td>\n",
       "      <td>558.88</td>\n",
       "      <td>70.94</td>\n",
       "      <td>53.0</td>\n",
       "      <td>17.087055</td>\n",
       "    </tr>\n",
       "    <tr>\n",
       "      <th>4</th>\n",
       "      <td>2018-09-23T23:27:37+00:00</td>\n",
       "      <td>72.0</td>\n",
       "      <td>532.93</td>\n",
       "      <td>74.24</td>\n",
       "      <td>558.88</td>\n",
       "      <td>17.087055</td>\n",
       "      <td>70.94</td>\n",
       "      <td>53.0</td>\n",
       "      <td>74.24</td>\n",
       "      <td>506.30</td>\n",
       "      <td>70.81</td>\n",
       "      <td>53.0</td>\n",
       "      <td>16.212959</td>\n",
       "    </tr>\n",
       "  </tbody>\n",
       "</table>\n",
       "</div>"
      ],
      "text/plain": [
       "                        time  Common Setpoint  Actual Sup Flow SP  \\\n",
       "0  2018-09-23T22:59:39+00:00             72.0              722.73   \n",
       "1  2018-09-23T23:06:38+00:00             72.0              661.39   \n",
       "2  2018-09-23T23:13:38+00:00             72.0              624.95   \n",
       "3  2018-09-23T23:20:38+00:00             72.0              562.05   \n",
       "4  2018-09-23T23:27:37+00:00             72.0              532.93   \n",
       "\n",
       "   Zone Temperature  Actual Supply Flow     energy  Outside Air Temp  \\\n",
       "0             75.25              733.46  23.554224             71.31   \n",
       "1             74.74              692.03  22.261861             71.19   \n",
       "2             74.74              654.06  19.471076             71.19   \n",
       "3             74.24              576.94  18.861571             70.94   \n",
       "4             74.24              558.88  17.087055             70.94   \n",
       "\n",
       "   Humidity  Zone Temperature Next  Actual Supply Flow Next  \\\n",
       "0      53.0                  74.74                   692.03   \n",
       "1      53.0                  74.74                   654.06   \n",
       "2      53.0                  74.24                   576.94   \n",
       "3      53.0                  74.24                   558.88   \n",
       "4      53.0                  74.24                   506.30   \n",
       "\n",
       "   Outside Air Temp Next  Humidity Next  energy Next  \n",
       "0                  71.19           53.0    22.261861  \n",
       "1                  71.19           53.0    19.471076  \n",
       "2                  70.94           53.0    18.861571  \n",
       "3                  70.94           53.0    17.087055  \n",
       "4                  70.81           53.0    16.212959  "
      ]
     },
     "execution_count": 16,
     "metadata": {},
     "output_type": "execute_result"
    }
   ],
   "source": [
    "floor_4.head(5)"
   ]
  },
  {
   "cell_type": "code",
   "execution_count": 17,
   "id": "c4b8ac10",
   "metadata": {},
   "outputs": [],
   "source": [
    "floor_2['floor'] = 2\n",
    "floor_3['floor'] = 3\n",
    "floor_4['floor'] = 4"
   ]
  },
  {
   "cell_type": "code",
   "execution_count": 18,
   "id": "0e30d71c",
   "metadata": {},
   "outputs": [],
   "source": [
    "combined_floors = pd.concat([floor_2, floor_3, floor_4]).reset_index(drop = True)\n"
   ]
  },
  {
   "cell_type": "code",
   "execution_count": 11,
   "id": "d6462ca0",
   "metadata": {},
   "outputs": [
    {
     "data": {
      "text/html": [
       "<div>\n",
       "<style scoped>\n",
       "    .dataframe tbody tr th:only-of-type {\n",
       "        vertical-align: middle;\n",
       "    }\n",
       "\n",
       "    .dataframe tbody tr th {\n",
       "        vertical-align: top;\n",
       "    }\n",
       "\n",
       "    .dataframe thead th {\n",
       "        text-align: right;\n",
       "    }\n",
       "</style>\n",
       "<table border=\"1\" class=\"dataframe\">\n",
       "  <thead>\n",
       "    <tr style=\"text-align: right;\">\n",
       "      <th></th>\n",
       "      <th>Zone Num</th>\n",
       "      <th>time</th>\n",
       "      <th>Common Setpoint</th>\n",
       "      <th>Actual Sup Flow SP</th>\n",
       "      <th>Zone Temperature</th>\n",
       "      <th>Actual Supply Flow</th>\n",
       "      <th>energy</th>\n",
       "      <th>Outside Air Temp</th>\n",
       "      <th>Humidity</th>\n",
       "      <th>Zone Temperature Next</th>\n",
       "      <th>Actual Supply Flow Next</th>\n",
       "      <th>Outside Air Temp Next</th>\n",
       "      <th>Humidity Next</th>\n",
       "      <th>energy Next</th>\n",
       "      <th>floor</th>\n",
       "    </tr>\n",
       "  </thead>\n",
       "  <tbody>\n",
       "    <tr>\n",
       "      <th>0</th>\n",
       "      <td>0</td>\n",
       "      <td>2018-01-03T20:57:39+00:00</td>\n",
       "      <td>72.5</td>\n",
       "      <td>330.0</td>\n",
       "      <td>75.2</td>\n",
       "      <td>318.73</td>\n",
       "      <td>10.109642</td>\n",
       "      <td>68.44</td>\n",
       "      <td>56.0</td>\n",
       "      <td>75.2</td>\n",
       "      <td>317.06</td>\n",
       "      <td>68.50</td>\n",
       "      <td>56.0</td>\n",
       "      <td>10.113301</td>\n",
       "      <td>2</td>\n",
       "    </tr>\n",
       "    <tr>\n",
       "      <th>1</th>\n",
       "      <td>1</td>\n",
       "      <td>2018-01-03T21:04:13+00:00</td>\n",
       "      <td>72.5</td>\n",
       "      <td>330.0</td>\n",
       "      <td>75.2</td>\n",
       "      <td>317.06</td>\n",
       "      <td>10.113301</td>\n",
       "      <td>68.50</td>\n",
       "      <td>56.0</td>\n",
       "      <td>75.7</td>\n",
       "      <td>314.34</td>\n",
       "      <td>68.25</td>\n",
       "      <td>56.0</td>\n",
       "      <td>10.099466</td>\n",
       "      <td>2</td>\n",
       "    </tr>\n",
       "    <tr>\n",
       "      <th>2</th>\n",
       "      <td>2</td>\n",
       "      <td>2018-01-03T21:10:44+00:00</td>\n",
       "      <td>72.5</td>\n",
       "      <td>330.0</td>\n",
       "      <td>75.7</td>\n",
       "      <td>314.34</td>\n",
       "      <td>10.099466</td>\n",
       "      <td>68.25</td>\n",
       "      <td>56.0</td>\n",
       "      <td>75.7</td>\n",
       "      <td>313.91</td>\n",
       "      <td>68.31</td>\n",
       "      <td>56.0</td>\n",
       "      <td>10.241028</td>\n",
       "      <td>2</td>\n",
       "    </tr>\n",
       "    <tr>\n",
       "      <th>3</th>\n",
       "      <td>3</td>\n",
       "      <td>2018-01-03T21:17:16+00:00</td>\n",
       "      <td>72.5</td>\n",
       "      <td>330.0</td>\n",
       "      <td>75.7</td>\n",
       "      <td>313.91</td>\n",
       "      <td>10.241028</td>\n",
       "      <td>68.31</td>\n",
       "      <td>56.0</td>\n",
       "      <td>75.7</td>\n",
       "      <td>318.31</td>\n",
       "      <td>68.44</td>\n",
       "      <td>57.0</td>\n",
       "      <td>10.187620</td>\n",
       "      <td>2</td>\n",
       "    </tr>\n",
       "    <tr>\n",
       "      <th>4</th>\n",
       "      <td>4</td>\n",
       "      <td>2018-01-03T21:23:44+00:00</td>\n",
       "      <td>72.5</td>\n",
       "      <td>330.0</td>\n",
       "      <td>75.7</td>\n",
       "      <td>318.31</td>\n",
       "      <td>10.187620</td>\n",
       "      <td>68.44</td>\n",
       "      <td>57.0</td>\n",
       "      <td>75.7</td>\n",
       "      <td>316.65</td>\n",
       "      <td>68.81</td>\n",
       "      <td>57.0</td>\n",
       "      <td>10.194055</td>\n",
       "      <td>2</td>\n",
       "    </tr>\n",
       "  </tbody>\n",
       "</table>\n",
       "</div>"
      ],
      "text/plain": [
       "   Zone Num                       time  Common Setpoint  Actual Sup Flow SP  \\\n",
       "0         0  2018-01-03T20:57:39+00:00             72.5               330.0   \n",
       "1         1  2018-01-03T21:04:13+00:00             72.5               330.0   \n",
       "2         2  2018-01-03T21:10:44+00:00             72.5               330.0   \n",
       "3         3  2018-01-03T21:17:16+00:00             72.5               330.0   \n",
       "4         4  2018-01-03T21:23:44+00:00             72.5               330.0   \n",
       "\n",
       "   Zone Temperature  Actual Supply Flow     energy  Outside Air Temp  \\\n",
       "0              75.2              318.73  10.109642             68.44   \n",
       "1              75.2              317.06  10.113301             68.50   \n",
       "2              75.7              314.34  10.099466             68.25   \n",
       "3              75.7              313.91  10.241028             68.31   \n",
       "4              75.7              318.31  10.187620             68.44   \n",
       "\n",
       "   Humidity  Zone Temperature Next  Actual Supply Flow Next  \\\n",
       "0      56.0                   75.2                   317.06   \n",
       "1      56.0                   75.7                   314.34   \n",
       "2      56.0                   75.7                   313.91   \n",
       "3      56.0                   75.7                   318.31   \n",
       "4      57.0                   75.7                   316.65   \n",
       "\n",
       "   Outside Air Temp Next  Humidity Next  energy Next  floor  \n",
       "0                  68.50           56.0    10.113301      2  \n",
       "1                  68.25           56.0    10.099466      2  \n",
       "2                  68.31           56.0    10.241028      2  \n",
       "3                  68.44           57.0    10.187620      2  \n",
       "4                  68.81           57.0    10.194055      2  "
      ]
     },
     "execution_count": 11,
     "metadata": {},
     "output_type": "execute_result"
    }
   ],
   "source": [
    "combined_floors.head(5)"
   ]
  },
  {
   "cell_type": "code",
   "execution_count": 20,
   "id": "e253b964",
   "metadata": {},
   "outputs": [],
   "source": [
    "combined_floors['time_transformed'] = combined_floors['time'].apply(lambda x: pd.Timestamp(x))"
   ]
  },
  {
   "cell_type": "markdown",
   "id": "06a77d60",
   "metadata": {},
   "source": [
    "### Graph Analyses"
   ]
  },
  {
   "cell_type": "code",
   "execution_count": 40,
   "id": "e836177d",
   "metadata": {},
   "outputs": [
    {
     "data": {
      "text/plain": [
       "<AxesSubplot:>"
      ]
     },
     "execution_count": 40,
     "metadata": {},
     "output_type": "execute_result"
    },
    {
     "data": {
      "image/png": "[encoded data removed]",
      "text/plain": [
       "<Figure size 432x288 with 1 Axes>"
      ]
     },
     "metadata": {
      "needs_background": "light"
     },
     "output_type": "display_data"
    }
   ],
   "source": [
    "combined_floors['Common Setpoint'].hist()"
   ]
  },
  {
   "cell_type": "code",
   "execution_count": 41,
   "id": "e0843380",
   "metadata": {},
   "outputs": [
    {
     "data": {
      "text/plain": [
       "<AxesSubplot:>"
      ]
     },
     "execution_count": 41,
     "metadata": {},
     "output_type": "execute_result"
    },
    {
     "data": {
      "image/png": "[encoded data removed]",
      "text/plain": [
       "<Figure size 432x288 with 1 Axes>"
      ]
     },
     "metadata": {
      "needs_background": "light"
     },
     "output_type": "display_data"
    }
   ],
   "source": [
    "combined_floors['Actual Sup Flow SP'].hist()"
   ]
  },
  {
   "cell_type": "code",
   "execution_count": 42,
   "id": "4d038d91",
   "metadata": {},
   "outputs": [
    {
     "data": {
      "text/plain": [
       "<AxesSubplot:>"
      ]
     },
     "execution_count": 42,
     "metadata": {},
     "output_type": "execute_result"
    },
    {
     "data": {
      "image/png": "[encoded data removed]",
      "text/plain": [
       "<Figure size 432x288 with 1 Axes>"
      ]
     },
     "metadata": {
      "needs_background": "light"
     },
     "output_type": "display_data"
    }
   ],
   "source": [
    "combined_floors['Zone Temperature'].hist()"
   ]
  },
  {
   "cell_type": "code",
   "execution_count": 47,
   "id": "436cfc25",
   "metadata": {},
   "outputs": [
    {
     "data": {
      "text/plain": [
       "<AxesSubplot:>"
      ]
     },
     "execution_count": 47,
     "metadata": {},
     "output_type": "execute_result"
    },
    {
     "data": {
      "image/png": "[encoded data removed]",
      "text/plain": [
       "<Figure size 432x288 with 1 Axes>"
      ]
     },
     "metadata": {
      "needs_background": "light"
     },
     "output_type": "display_data"
    }
   ],
   "source": [
    "combined_floors['Zone Temperature Next'].hist()"
   ]
  },
  {
   "cell_type": "code",
   "execution_count": 43,
   "id": "9009192d",
   "metadata": {},
   "outputs": [
    {
     "data": {
      "text/plain": [
       "<AxesSubplot:>"
      ]
     },
     "execution_count": 43,
     "metadata": {},
     "output_type": "execute_result"
    },
    {
     "data": {
      "image/png": "[encoded data removed]",
      "text/plain": [
       "<Figure size 432x288 with 1 Axes>"
      ]
     },
     "metadata": {
      "needs_background": "light"
     },
     "output_type": "display_data"
    }
   ],
   "source": [
    "combined_floors['Actual Supply Flow'].hist()"
   ]
  },
  {
   "cell_type": "code",
   "execution_count": 48,
   "id": "7e052bdb",
   "metadata": {},
   "outputs": [
    {
     "data": {
      "text/plain": [
       "<AxesSubplot:>"
      ]
     },
     "execution_count": 48,
     "metadata": {},
     "output_type": "execute_result"
    },
    {
     "data": {
      "image/png": "[encoded data removed]",
      "text/plain": [
       "<Figure size 432x288 with 1 Axes>"
      ]
     },
     "metadata": {
      "needs_background": "light"
     },
     "output_type": "display_data"
    }
   ],
   "source": [
    "combined_floors['Actual Supply Flow Next'].hist()"
   ]
  },
  {
   "cell_type": "code",
   "execution_count": 44,
   "id": "0a96d0fe",
   "metadata": {},
   "outputs": [
    {
     "data": {
      "text/plain": [
       "<AxesSubplot:>"
      ]
     },
     "execution_count": 44,
     "metadata": {},
     "output_type": "execute_result"
    },
    {
     "data": {
      "image/png": "[encoded data removed]",
      "text/plain": [
       "<Figure size 432x288 with 1 Axes>"
      ]
     },
     "metadata": {
      "needs_background": "light"
     },
     "output_type": "display_data"
    }
   ],
   "source": [
    "combined_floors['energy'].hist()"
   ]
  },
  {
   "cell_type": "code",
   "execution_count": 50,
   "id": "53221f73",
   "metadata": {},
   "outputs": [
    {
     "data": {
      "text/plain": [
       "<AxesSubplot:>"
      ]
     },
     "execution_count": 50,
     "metadata": {},
     "output_type": "execute_result"
    },
    {
     "data": {
      "image/png": "[encoded data removed]",
      "text/plain": [
       "<Figure size 432x288 with 1 Axes>"
      ]
     },
     "metadata": {
      "needs_background": "light"
     },
     "output_type": "display_data"
    }
   ],
   "source": [
    "combined_floors['energy Next'].hist()"
   ]
  },
  {
   "cell_type": "code",
   "execution_count": 45,
   "id": "70e3d63f",
   "metadata": {},
   "outputs": [
    {
     "data": {
      "text/plain": [
       "<AxesSubplot:>"
      ]
     },
     "execution_count": 45,
     "metadata": {},
     "output_type": "execute_result"
    },
    {
     "data": {
      "image/png": "[encoded data removed]",
      "text/plain": [
       "<Figure size 432x288 with 1 Axes>"
      ]
     },
     "metadata": {
      "needs_background": "light"
     },
     "output_type": "display_data"
    }
   ],
   "source": [
    "combined_floors['Outside Air Temp'].hist()"
   ]
  },
  {
   "cell_type": "code",
   "execution_count": 46,
   "id": "97b0e2ca",
   "metadata": {},
   "outputs": [
    {
     "data": {
      "text/plain": [
       "<AxesSubplot:>"
      ]
     },
     "execution_count": 46,
     "metadata": {},
     "output_type": "execute_result"
    },
    {
     "data": {
      "image/png": "[encoded data removed]",
      "text/plain": [
       "<Figure size 432x288 with 1 Axes>"
      ]
     },
     "metadata": {
      "needs_background": "light"
     },
     "output_type": "display_data"
    }
   ],
   "source": [
    "combined_floors['Humidity'].hist()"
   ]
  },
  {
   "cell_type": "code",
   "execution_count": 49,
   "id": "b682e941",
   "metadata": {},
   "outputs": [
    {
     "data": {
      "text/plain": [
       "<AxesSubplot:>"
      ]
     },
     "execution_count": 49,
     "metadata": {},
     "output_type": "execute_result"
    },
    {
     "data": {
      "image/png": "[encoded data removed]",
      "text/plain": [
       "<Figure size 432x288 with 1 Axes>"
      ]
     },
     "metadata": {
      "needs_background": "light"
     },
     "output_type": "display_data"
    }
   ],
   "source": [
    "combined_floors['Humidity Next'].hist()"
   ]
  },
  {
   "cell_type": "code",
   "execution_count": 12,
   "id": "ebc0cbb4",
   "metadata": {},
   "outputs": [
    {
     "data": {
      "text/html": [
       "<div>\n",
       "<style scoped>\n",
       "    .dataframe tbody tr th:only-of-type {\n",
       "        vertical-align: middle;\n",
       "    }\n",
       "\n",
       "    .dataframe tbody tr th {\n",
       "        vertical-align: top;\n",
       "    }\n",
       "\n",
       "    .dataframe thead th {\n",
       "        text-align: right;\n",
       "    }\n",
       "</style>\n",
       "<table border=\"1\" class=\"dataframe\">\n",
       "  <thead>\n",
       "    <tr style=\"text-align: right;\">\n",
       "      <th></th>\n",
       "      <th>Zone Num</th>\n",
       "      <th>Common Setpoint</th>\n",
       "      <th>Actual Sup Flow SP</th>\n",
       "      <th>Zone Temperature</th>\n",
       "      <th>Actual Supply Flow</th>\n",
       "      <th>energy</th>\n",
       "      <th>Outside Air Temp</th>\n",
       "      <th>Humidity</th>\n",
       "      <th>Zone Temperature Next</th>\n",
       "      <th>Actual Supply Flow Next</th>\n",
       "      <th>Outside Air Temp Next</th>\n",
       "      <th>Humidity Next</th>\n",
       "      <th>energy Next</th>\n",
       "      <th>floor</th>\n",
       "    </tr>\n",
       "  </thead>\n",
       "  <tbody>\n",
       "    <tr>\n",
       "      <th>count</th>\n",
       "      <td>625677.000000</td>\n",
       "      <td>625677.000000</td>\n",
       "      <td>625677.000000</td>\n",
       "      <td>625677.000000</td>\n",
       "      <td>625677.000000</td>\n",
       "      <td>625677.000000</td>\n",
       "      <td>625677.000000</td>\n",
       "      <td>625677.000000</td>\n",
       "      <td>625677.000000</td>\n",
       "      <td>625677.000000</td>\n",
       "      <td>625677.000000</td>\n",
       "      <td>625677.000000</td>\n",
       "      <td>625677.000000</td>\n",
       "      <td>625677.000000</td>\n",
       "    </tr>\n",
       "    <tr>\n",
       "      <th>mean</th>\n",
       "      <td>222.267843</td>\n",
       "      <td>71.971029</td>\n",
       "      <td>281.969986</td>\n",
       "      <td>73.828747</td>\n",
       "      <td>286.652997</td>\n",
       "      <td>9.164442</td>\n",
       "      <td>65.607020</td>\n",
       "      <td>51.057912</td>\n",
       "      <td>73.828808</td>\n",
       "      <td>286.703274</td>\n",
       "      <td>65.607396</td>\n",
       "      <td>51.057221</td>\n",
       "      <td>9.166164</td>\n",
       "      <td>2.858858</td>\n",
       "    </tr>\n",
       "    <tr>\n",
       "      <th>std</th>\n",
       "      <td>134.384157</td>\n",
       "      <td>1.188391</td>\n",
       "      <td>285.399386</td>\n",
       "      <td>2.129463</td>\n",
       "      <td>278.804106</td>\n",
       "      <td>8.934812</td>\n",
       "      <td>6.870336</td>\n",
       "      <td>7.754473</td>\n",
       "      <td>2.129505</td>\n",
       "      <td>278.799565</td>\n",
       "      <td>6.870556</td>\n",
       "      <td>7.754866</td>\n",
       "      <td>8.935167</td>\n",
       "      <td>0.819037</td>\n",
       "    </tr>\n",
       "    <tr>\n",
       "      <th>min</th>\n",
       "      <td>0.000000</td>\n",
       "      <td>68.000000</td>\n",
       "      <td>0.000000</td>\n",
       "      <td>66.160000</td>\n",
       "      <td>0.000000</td>\n",
       "      <td>0.000000</td>\n",
       "      <td>43.280000</td>\n",
       "      <td>33.000000</td>\n",
       "      <td>66.160000</td>\n",
       "      <td>0.000000</td>\n",
       "      <td>43.280000</td>\n",
       "      <td>33.000000</td>\n",
       "      <td>0.000000</td>\n",
       "      <td>2.000000</td>\n",
       "    </tr>\n",
       "    <tr>\n",
       "      <th>25%</th>\n",
       "      <td>108.000000</td>\n",
       "      <td>72.000000</td>\n",
       "      <td>0.000000</td>\n",
       "      <td>72.290000</td>\n",
       "      <td>28.660000</td>\n",
       "      <td>0.908500</td>\n",
       "      <td>60.630000</td>\n",
       "      <td>48.000000</td>\n",
       "      <td>72.290000</td>\n",
       "      <td>28.660000</td>\n",
       "      <td>60.630000</td>\n",
       "      <td>48.000000</td>\n",
       "      <td>0.909160</td>\n",
       "      <td>2.000000</td>\n",
       "    </tr>\n",
       "    <tr>\n",
       "      <th>50%</th>\n",
       "      <td>218.000000</td>\n",
       "      <td>72.000000</td>\n",
       "      <td>295.000000</td>\n",
       "      <td>73.720000</td>\n",
       "      <td>295.240000</td>\n",
       "      <td>9.208460</td>\n",
       "      <td>65.810000</td>\n",
       "      <td>53.000000</td>\n",
       "      <td>73.720000</td>\n",
       "      <td>295.240000</td>\n",
       "      <td>65.810000</td>\n",
       "      <td>53.000000</td>\n",
       "      <td>9.209501</td>\n",
       "      <td>3.000000</td>\n",
       "    </tr>\n",
       "    <tr>\n",
       "      <th>75%</th>\n",
       "      <td>328.000000</td>\n",
       "      <td>73.000000</td>\n",
       "      <td>396.100000</td>\n",
       "      <td>75.340000</td>\n",
       "      <td>392.920000</td>\n",
       "      <td>12.390437</td>\n",
       "      <td>70.310000</td>\n",
       "      <td>57.000000</td>\n",
       "      <td>75.340000</td>\n",
       "      <td>393.030000</td>\n",
       "      <td>70.310000</td>\n",
       "      <td>57.000000</td>\n",
       "      <td>12.392090</td>\n",
       "      <td>4.000000</td>\n",
       "    </tr>\n",
       "    <tr>\n",
       "      <th>max</th>\n",
       "      <td>594.000000</td>\n",
       "      <td>75.000000</td>\n",
       "      <td>1085.000000</td>\n",
       "      <td>84.320000</td>\n",
       "      <td>1255.420000</td>\n",
       "      <td>49.165584</td>\n",
       "      <td>97.130000</td>\n",
       "      <td>64.000000</td>\n",
       "      <td>84.320000</td>\n",
       "      <td>1255.420000</td>\n",
       "      <td>97.130000</td>\n",
       "      <td>64.000000</td>\n",
       "      <td>49.165584</td>\n",
       "      <td>4.000000</td>\n",
       "    </tr>\n",
       "  </tbody>\n",
       "</table>\n",
       "</div>"
      ],
      "text/plain": [
       "            Zone Num  Common Setpoint  Actual Sup Flow SP  Zone Temperature  \\\n",
       "count  625677.000000    625677.000000       625677.000000     625677.000000   \n",
       "mean      222.267843        71.971029          281.969986         73.828747   \n",
       "std       134.384157         1.188391          285.399386          2.129463   \n",
       "min         0.000000        68.000000            0.000000         66.160000   \n",
       "25%       108.000000        72.000000            0.000000         72.290000   \n",
       "50%       218.000000        72.000000          295.000000         73.720000   \n",
       "75%       328.000000        73.000000          396.100000         75.340000   \n",
       "max       594.000000        75.000000         1085.000000         84.320000   \n",
       "\n",
       "       Actual Supply Flow         energy  Outside Air Temp       Humidity  \\\n",
       "count       625677.000000  625677.000000     625677.000000  625677.000000   \n",
       "mean           286.652997       9.164442         65.607020      51.057912   \n",
       "std            278.804106       8.934812          6.870336       7.754473   \n",
       "min              0.000000       0.000000         43.280000      33.000000   \n",
       "25%             28.660000       0.908500         60.630000      48.000000   \n",
       "50%            295.240000       9.208460         65.810000      53.000000   \n",
       "75%            392.920000      12.390437         70.310000      57.000000   \n",
       "max           1255.420000      49.165584         97.130000      64.000000   \n",
       "\n",
       "       Zone Temperature Next  Actual Supply Flow Next  Outside Air Temp Next  \\\n",
       "count          625677.000000            625677.000000          625677.000000   \n",
       "mean               73.828808               286.703274              65.607396   \n",
       "std                 2.129505               278.799565               6.870556   \n",
       "min                66.160000                 0.000000              43.280000   \n",
       "25%                72.290000                28.660000              60.630000   \n",
       "50%                73.720000               295.240000              65.810000   \n",
       "75%                75.340000               393.030000              70.310000   \n",
       "max                84.320000              1255.420000              97.130000   \n",
       "\n",
       "       Humidity Next    energy Next          floor  \n",
       "count  625677.000000  625677.000000  625677.000000  \n",
       "mean       51.057221       9.166164       2.858858  \n",
       "std         7.754866       8.935167       0.819037  \n",
       "min        33.000000       0.000000       2.000000  \n",
       "25%        48.000000       0.909160       2.000000  \n",
       "50%        53.000000       9.209501       3.000000  \n",
       "75%        57.000000      12.392090       4.000000  \n",
       "max        64.000000      49.165584       4.000000  "
      ]
     },
     "execution_count": 12,
     "metadata": {},
     "output_type": "execute_result"
    }
   ],
   "source": [
    "combined_floors.describe()"
   ]
  },
  {
   "cell_type": "code",
   "execution_count": 52,
   "id": "d8a54821",
   "metadata": {},
   "outputs": [
    {
     "data": {
      "text/plain": [
       "(625677, 15)"
      ]
     },
     "execution_count": 52,
     "metadata": {},
     "output_type": "execute_result"
    }
   ],
   "source": [
    "combined_floors.shape"
   ]
  },
  {
   "cell_type": "markdown",
   "id": "6189eda0",
   "metadata": {},
   "source": [
    "### Turning Time Values into different columns and evaluating"
   ]
  },
  {
   "cell_type": "code",
   "execution_count": 14,
   "id": "c5cd44d9",
   "metadata": {},
   "outputs": [],
   "source": [
    "combined_floors['year'] = combined_floors['time_transformed'].transform(lambda x: x.year)"
   ]
  },
  {
   "cell_type": "code",
   "execution_count": 17,
   "id": "6ae3cdc8",
   "metadata": {},
   "outputs": [],
   "source": [
    "combined_floors['month'] = combined_floors['time_transformed'].transform(lambda x: x.month)"
   ]
  },
  {
   "cell_type": "code",
   "execution_count": 21,
   "id": "2283274a",
   "metadata": {},
   "outputs": [
    {
     "data": {
      "text/plain": [
       "12    133394\n",
       "11    105695\n",
       "9      76136\n",
       "7      70337\n",
       "10     60515\n",
       "1      55399\n",
       "6      52013\n",
       "8      47969\n",
       "2      24219\n",
       "Name: month, dtype: int64"
      ]
     },
     "execution_count": 21,
     "metadata": {},
     "output_type": "execute_result"
    }
   ],
   "source": [
    "combined_floors['month'].value_counts()\n",
    "# no values from March - May in any of the years ?"
   ]
  },
  {
   "cell_type": "code",
   "execution_count": 19,
   "id": "6a83fc42",
   "metadata": {},
   "outputs": [],
   "source": [
    "combined_floors['day'] = combined_floors['time_transformed'].transform(lambda x: x.day)"
   ]
  },
  {
   "cell_type": "code",
   "execution_count": null,
   "id": "102f5fc7",
   "metadata": {},
   "outputs": [],
   "source": [
    "# data is supposed to be from July 2017 to the end of June 2018, but we have a little January 2019 and are missing months"
   ]
  },
  {
   "cell_type": "markdown",
   "id": "b6fea168",
   "metadata": {},
   "source": [
    "### Splitting Dates for a 70/30 train/test split"
   ]
  },
  {
   "cell_type": "code",
   "execution_count": 22,
   "id": "d31f95fa",
   "metadata": {},
   "outputs": [],
   "source": [
    "dates = combined_floors['time_transformed'].transform(lambda x: x.date)"
   ]
  },
  {
   "cell_type": "code",
   "execution_count": 35,
   "id": "c5959a30",
   "metadata": {},
   "outputs": [],
   "source": [
    "dates_2019 = (dates >= pd.Timestamp('2019-01-01'))"
   ]
  },
  {
   "cell_type": "code",
   "execution_count": 37,
   "id": "7fa41de4",
   "metadata": {},
   "outputs": [],
   "source": [
    "onwards_2019 = combined_floors.loc[dates_2019, :]"
   ]
  },
  {
   "cell_type": "code",
   "execution_count": 41,
   "id": "d3fe52ed",
   "metadata": {},
   "outputs": [],
   "source": [
    "pre_2019 = combined_floors.loc[~dates_2019, :]"
   ]
  },
  {
   "cell_type": "code",
   "execution_count": 43,
   "id": "57fcc6dc",
   "metadata": {},
   "outputs": [
    {
     "data": {
      "text/plain": [
       "(8621, 16)"
      ]
     },
     "execution_count": 43,
     "metadata": {},
     "output_type": "execute_result"
    }
   ],
   "source": [
    "onwards_2019.shape"
   ]
  },
  {
   "cell_type": "code",
   "execution_count": 44,
   "id": "215bf4a1",
   "metadata": {},
   "outputs": [
    {
     "data": {
      "text/plain": [
       "(617056, 16)"
      ]
     },
     "execution_count": 44,
     "metadata": {},
     "output_type": "execute_result"
    }
   ],
   "source": [
    "pre_2019.shape"
   ]
  },
  {
   "cell_type": "markdown",
   "id": "a759f3e6",
   "metadata": {},
   "source": [
    "This spans July 2017 to beginning of January 2019.\n",
    "\n",
    "This is not enough data to segment via the year. if we want to go for a 70/30 split:\n",
    "\n",
    "If we have a year and a half of data about, 50% of that would be 3/4 of a year. 75% of that would be 1 1/8 of a year, so about a year's worth of data would be about a year (estimating).\n",
    "\n"
   ]
  },
  {
   "cell_type": "code",
   "execution_count": 23,
   "id": "cb315f6a",
   "metadata": {},
   "outputs": [],
   "source": [
    "dates_test = (dates >= pd.Timestamp('2018-08-01'))"
   ]
  },
  {
   "cell_type": "code",
   "execution_count": 24,
   "id": "53d645c6",
   "metadata": {},
   "outputs": [],
   "source": [
    "onwards_test_date = combined_floors.loc[dates_test, :]\n",
    "pre_test_date = combined_floors.loc[~dates_test, :]\n"
   ]
  },
  {
   "cell_type": "code",
   "execution_count": 17,
   "id": "11234a28",
   "metadata": {},
   "outputs": [
    {
     "data": {
      "text/plain": [
       "(437044, 16)"
      ]
     },
     "execution_count": 17,
     "metadata": {},
     "output_type": "execute_result"
    }
   ],
   "source": [
    "pre_test_date.shape"
   ]
  },
  {
   "cell_type": "code",
   "execution_count": 18,
   "id": "c696152c",
   "metadata": {},
   "outputs": [
    {
     "data": {
      "text/plain": [
       "(188633, 16)"
      ]
     },
     "execution_count": 18,
     "metadata": {},
     "output_type": "execute_result"
    }
   ],
   "source": [
    "onwards_test_date.shape"
   ]
  },
  {
   "cell_type": "code",
   "execution_count": 19,
   "id": "e075bfbb",
   "metadata": {},
   "outputs": [
    {
     "data": {
      "text/plain": [
       "0.3014862301155388"
      ]
     },
     "execution_count": 19,
     "metadata": {},
     "output_type": "execute_result"
    }
   ],
   "source": [
    "188633 / (188633 + 437044)"
   ]
  },
  {
   "cell_type": "markdown",
   "id": "6de06fad",
   "metadata": {},
   "source": [
    "That's pretty close to a 70%, 30% split so I'll use that for the split. We could do the split at the 7th/8th of the month to try and match days better but I think this is fine."
   ]
  },
  {
   "cell_type": "markdown",
   "id": "825a1fe6",
   "metadata": {},
   "source": [
    "### Trying out simple Linear and Decision Tree Models"
   ]
  },
  {
   "cell_type": "code",
   "execution_count": 25,
   "id": "e90280e1",
   "metadata": {},
   "outputs": [],
   "source": [
    "import sklearn\n",
    "from sklearn import linear_model\n",
    "from sklearn.metrics import mean_squared_error\n",
    "from sklearn import tree"
   ]
  },
  {
   "cell_type": "code",
   "execution_count": 22,
   "id": "6d705cd3",
   "metadata": {},
   "outputs": [],
   "source": [
    "pre_test_date_X = pre_test_date.loc[:, ['Zone Num', 'Common Setpoint', 'Actual Sup Flow SP', 'Zone Temperature', 'Actual Supply Flow', 'Outside Air Temp', 'Humidity', 'floor', 'time_transformed']]\n",
    "pre_test_date_y = pre_test_date['energy']\n",
    "\n",
    "onwards_test_date_X = onwards_test_date.loc[:, ['Zone Num', 'Common Setpoint', 'Actual Sup Flow SP', 'Zone Temperature', 'Actual Supply Flow', 'Outside Air Temp', 'Humidity', 'floor', 'time_transformed']]\n",
    "onwards_test_date_y = onwards_test_date['energy']"
   ]
  },
  {
   "cell_type": "code",
   "execution_count": 29,
   "id": "c72518c8",
   "metadata": {},
   "outputs": [],
   "source": [
    "pre_test_date_X['month'] = pre_test_date_X['time_transformed'].transform(lambda x: x.month)\n",
    "pre_test_date_X['year'] = pre_test_date_X['time_transformed'].transform(lambda x: x.year)\n",
    "pre_test_date_X['day'] = pre_test_date_X['time_transformed'].transform(lambda x: x.day)\n",
    "pre_test_date_X['weekday'] = pre_test_date_X['time_transformed'].transform(lambda x: x.weekday)\n",
    "pre_test_date_X['hour'] = pre_test_date_X['time_transformed'].transform(lambda x: x.hour)\n",
    "pre_test_date_X['minute'] = pre_test_date_X['time_transformed'].transform(lambda x: x.minute)\n",
    "pre_test_date_X['second'] = pre_test_date_X['time_transformed'].transform(lambda x: x.second)"
   ]
  },
  {
   "cell_type": "code",
   "execution_count": 31,
   "id": "e71a70c6",
   "metadata": {},
   "outputs": [],
   "source": [
    "onwards_test_date_X['month'] = onwards_test_date_X['time_transformed'].transform(lambda x: x.month)\n",
    "onwards_test_date_X['year'] = onwards_test_date_X['time_transformed'].transform(lambda x: x.year)\n",
    "onwards_test_date_X['day'] = onwards_test_date_X['time_transformed'].transform(lambda x: x.day)\n",
    "onwards_test_date_X['weekday'] = onwards_test_date_X['time_transformed'].transform(lambda x: x.weekday)\n",
    "onwards_test_date_X['hour'] = onwards_test_date_X['time_transformed'].transform(lambda x: x.hour)\n",
    "onwards_test_date_X['minute'] = onwards_test_date_X['time_transformed'].transform(lambda x: x.minute)\n",
    "onwards_test_date_X['second'] = onwards_test_date_X['time_transformed'].transform(lambda x: x.second)"
   ]
  },
  {
   "cell_type": "code",
   "execution_count": 32,
   "id": "6a44e57c",
   "metadata": {},
   "outputs": [],
   "source": [
    "pre_test_date_X = pre_test_date_X.drop(['time_transformed'], axis = 1)\n",
    "onwards_test_date_X = onwards_test_date_X.drop(['time_transformed'], axis = 1)\n"
   ]
  },
  {
   "cell_type": "markdown",
   "id": "68446b9d",
   "metadata": {},
   "source": [
    "#### Linear"
   ]
  },
  {
   "cell_type": "code",
   "execution_count": 33,
   "id": "45783381",
   "metadata": {},
   "outputs": [
    {
     "data": {
      "text/plain": [
       "LinearRegression()"
      ]
     },
     "execution_count": 33,
     "metadata": {},
     "output_type": "execute_result"
    }
   ],
   "source": [
    "regr = linear_model.LinearRegression()\n",
    "regr.fit(pre_test_date_X, pre_test_date_y)"
   ]
  },
  {
   "cell_type": "code",
   "execution_count": 34,
   "id": "5657821f",
   "metadata": {},
   "outputs": [],
   "source": [
    "pre_y_pred = regr.predict(pre_test_date_X)\n"
   ]
  },
  {
   "cell_type": "code",
   "execution_count": 35,
   "id": "62c54ec5",
   "metadata": {},
   "outputs": [
    {
     "name": "stdout",
     "output_type": "stream",
     "text": [
      "Mean squared error: 2.70\n"
     ]
    }
   ],
   "source": [
    "print(\"Mean squared error: %.2f\" % mean_squared_error(pre_test_date_y, pre_y_pred))"
   ]
  },
  {
   "cell_type": "code",
   "execution_count": 51,
   "id": "a21ac66a",
   "metadata": {},
   "outputs": [],
   "source": [
    "onw_y_pred = regr.predict(onwards_test_date_X)"
   ]
  },
  {
   "cell_type": "code",
   "execution_count": 52,
   "id": "093d4572",
   "metadata": {},
   "outputs": [
    {
     "name": "stdout",
     "output_type": "stream",
     "text": [
      "Mean squared error: 5.34\n"
     ]
    }
   ],
   "source": [
    "print(\"Mean squared error: %.2f\" % mean_squared_error(onwards_test_date_y, onw_y_pred))"
   ]
  },
  {
   "cell_type": "markdown",
   "id": "2a54ea7a",
   "metadata": {},
   "source": [
    "This doesn't really involve prediction though, mostly relies on having all of the data and evaluating. Our goal is to predict ahead."
   ]
  },
  {
   "cell_type": "markdown",
   "id": "b574add6",
   "metadata": {},
   "source": [
    "#### Decision Tree"
   ]
  },
  {
   "cell_type": "code",
   "execution_count": 59,
   "id": "8a1f8c91",
   "metadata": {},
   "outputs": [
    {
     "data": {
      "text/plain": [
       "DecisionTreeRegressor(max_depth=5, min_samples_split=5)"
      ]
     },
     "execution_count": 59,
     "metadata": {},
     "output_type": "execute_result"
    }
   ],
   "source": [
    "decTree = tree.DecisionTreeRegressor(max_depth = 5, min_samples_split = 5)\n",
    "decTree.fit(pre_test_date_X, pre_test_date_y)"
   ]
  },
  {
   "cell_type": "code",
   "execution_count": 60,
   "id": "fc40fe59",
   "metadata": {},
   "outputs": [],
   "source": [
    "preds_y_decTree = decTree.predict(pre_test_date_X)"
   ]
  },
  {
   "cell_type": "code",
   "execution_count": 61,
   "id": "8e43f931",
   "metadata": {},
   "outputs": [
    {
     "name": "stdout",
     "output_type": "stream",
     "text": [
      "Mean squared error: 2.58\n"
     ]
    }
   ],
   "source": [
    "print(\"Mean squared error: %.2f\" % mean_squared_error(pre_test_date_y, preds_y_decTree))"
   ]
  },
  {
   "cell_type": "code",
   "execution_count": 62,
   "id": "a120dc6e",
   "metadata": {},
   "outputs": [],
   "source": [
    "preds_y_decTree_onw = decTree.predict(onwards_test_date_X)"
   ]
  },
  {
   "cell_type": "code",
   "execution_count": 63,
   "id": "d73c4cf7",
   "metadata": {},
   "outputs": [
    {
     "name": "stdout",
     "output_type": "stream",
     "text": [
      "Mean squared error: 4.64\n"
     ]
    }
   ],
   "source": [
    "print(\"Mean squared error: %.2f\" % mean_squared_error(onwards_test_date_y, preds_y_decTree_onw))"
   ]
  },
  {
   "cell_type": "markdown",
   "id": "53e395e2",
   "metadata": {},
   "source": [
    "Changed max_depth and min_samples_split values based on initial overtraining. Again doesn't fix the issue that we're not really able to predict ahead of time."
   ]
  },
  {
   "cell_type": "markdown",
   "id": "0ebc2861",
   "metadata": {},
   "source": [
    "Some potential options to look into for sklearn:\n",
    "- https://scikit-learn.org/stable/auto_examples/applications/plot_cyclical_feature_engineering.html#sphx-glr-auto-examples-applications-plot-cyclical-feature-engineering-py\n",
    "- https://scikit-learn.org/stable/modules/generated/sklearn.model_selection.TimeSeriesSplit.html"
   ]
  },
  {
   "cell_type": "markdown",
   "id": "43f451bc",
   "metadata": {},
   "source": [
    "### Prophet Model"
   ]
  },
  {
   "cell_type": "markdown",
   "id": "43c3f450",
   "metadata": {},
   "source": [
    "#### Need to rename columns and remove timezones to run Prophet"
   ]
  },
  {
   "cell_type": "code",
   "execution_count": 34,
   "id": "5a5bdd36",
   "metadata": {},
   "outputs": [],
   "source": [
    "prophet_test_pre = pre_test_date.loc[:, ['time', 'energy']].rename({'time': 'ds', 'energy': 'y'}, axis = 1)"
   ]
  },
  {
   "cell_type": "code",
   "execution_count": 44,
   "id": "1202b9ef",
   "metadata": {},
   "outputs": [],
   "source": [
    "prophet_test_pre['ds'] = prophet_test_pre['ds'].transform(lambda x: x[0:-6])"
   ]
  },
  {
   "cell_type": "markdown",
   "id": "6337eaa6",
   "metadata": {},
   "source": [
    "Running the model."
   ]
  },
  {
   "cell_type": "code",
   "execution_count": 36,
   "id": "01d38611",
   "metadata": {},
   "outputs": [],
   "source": [
    "prophet_model = Prophet.Prophet()"
   ]
  },
  {
   "cell_type": "code",
   "execution_count": 45,
   "id": "95be1c77",
   "metadata": {},
   "outputs": [
    {
     "name": "stderr",
     "output_type": "stream",
     "text": [
      "14:34:43 - cmdstanpy - INFO - Chain [1] start processing\n",
      "14:36:42 - cmdstanpy - INFO - Chain [1] done processing\n"
     ]
    },
    {
     "data": {
      "text/plain": [
       "<prophet.forecaster.Prophet at 0x7fd5c2a5a5e0>"
      ]
     },
     "execution_count": 45,
     "metadata": {},
     "output_type": "execute_result"
    }
   ],
   "source": [
    "prophet_model.fit(prophet_test_pre)"
   ]
  },
  {
   "cell_type": "code",
   "execution_count": 66,
   "id": "ce408187",
   "metadata": {},
   "outputs": [],
   "source": [
    "prophet_forecast = prophet_model.make_future_dataframe(periods=365, freq='H')\n",
    "prophet_forecast = prophet_model.predict(prophet_forecast)\n"
   ]
  },
  {
   "cell_type": "code",
   "execution_count": 68,
   "id": "7bad1b8a",
   "metadata": {},
   "outputs": [],
   "source": [
    "prophet_forecast_reduced = prophet_forecast.loc[:, ['ds', 'yhat']]"
   ]
  },
  {
   "cell_type": "code",
   "execution_count": 69,
   "id": "5825cd25",
   "metadata": {},
   "outputs": [],
   "source": [
    "prophet_forecast_reduced['timestamp_changed'] = prophet_forecast_reduced['ds'].transform(lambda x: pd.Timestamp(x))"
   ]
  },
  {
   "cell_type": "code",
   "execution_count": 60,
   "id": "9fc3982f",
   "metadata": {},
   "outputs": [],
   "source": [
    "onwards_compare = onwards_test_date.loc[:, ['time', 'energy']]\n",
    "onwards_compare['time'] = onwards_compare['time'].transform(lambda x: x[0:-6])\n",
    "onwards_compare = onwards_compare.rename({'time': 'ds', 'energy': 'yhat'}, axis = 1)\n",
    "onwards_compare['timestamp_changed'] = onwards_compare['ds'].transform(lambda x: pd.Timestamp(x))"
   ]
  },
  {
   "cell_type": "code",
   "execution_count": 70,
   "id": "0ab1fb09",
   "metadata": {},
   "outputs": [],
   "source": [
    "merge_test = prophet_forecast_reduced.merge(onwards_compare, left_on = 'timestamp_changed', right_on = 'timestamp_changed')"
   ]
  },
  {
   "cell_type": "code",
   "execution_count": 71,
   "id": "c03c8567",
   "metadata": {},
   "outputs": [
    {
     "data": {
      "text/html": [
       "<div>\n",
       "<style scoped>\n",
       "    .dataframe tbody tr th:only-of-type {\n",
       "        vertical-align: middle;\n",
       "    }\n",
       "\n",
       "    .dataframe tbody tr th {\n",
       "        vertical-align: top;\n",
       "    }\n",
       "\n",
       "    .dataframe thead th {\n",
       "        text-align: right;\n",
       "    }\n",
       "</style>\n",
       "<table border=\"1\" class=\"dataframe\">\n",
       "  <thead>\n",
       "    <tr style=\"text-align: right;\">\n",
       "      <th></th>\n",
       "      <th>ds_x</th>\n",
       "      <th>yhat_x</th>\n",
       "      <th>timestamp_changed</th>\n",
       "      <th>ds_y</th>\n",
       "      <th>yhat_y</th>\n",
       "    </tr>\n",
       "  </thead>\n",
       "  <tbody>\n",
       "  </tbody>\n",
       "</table>\n",
       "</div>"
      ],
      "text/plain": [
       "Empty DataFrame\n",
       "Columns: [ds_x, yhat_x, timestamp_changed, ds_y, yhat_y]\n",
       "Index: []"
      ]
     },
     "execution_count": 71,
     "metadata": {},
     "output_type": "execute_result"
    }
   ],
   "source": [
    "merge_test"
   ]
  },
  {
   "cell_type": "markdown",
   "id": "eb95a174",
   "metadata": {},
   "source": [
    "There should be values for this merge - because there isn't, we have to evaluate how we work with timestamps."
   ]
  },
  {
   "cell_type": "markdown",
   "id": "f3e18469",
   "metadata": {},
   "source": [
    "## Bonus - Exploring NOAA Data"
   ]
  },
  {
   "cell_type": "code",
   "execution_count": 24,
   "id": "b17a7daa",
   "metadata": {},
   "outputs": [],
   "source": [
    "noaa_data = pd.read_csv('NOAA_data_LaJollaSD.csv')"
   ]
  },
  {
   "cell_type": "code",
   "execution_count": 25,
   "id": "b2dce949",
   "metadata": {},
   "outputs": [
    {
     "data": {
      "text/html": [
       "<div>\n",
       "<style scoped>\n",
       "    .dataframe tbody tr th:only-of-type {\n",
       "        vertical-align: middle;\n",
       "    }\n",
       "\n",
       "    .dataframe tbody tr th {\n",
       "        vertical-align: top;\n",
       "    }\n",
       "\n",
       "    .dataframe thead th {\n",
       "        text-align: right;\n",
       "    }\n",
       "</style>\n",
       "<table border=\"1\" class=\"dataframe\">\n",
       "  <thead>\n",
       "    <tr style=\"text-align: right;\">\n",
       "      <th></th>\n",
       "      <th>STATION</th>\n",
       "      <th>NAME</th>\n",
       "      <th>LATITUDE</th>\n",
       "      <th>LONGITUDE</th>\n",
       "      <th>ELEVATION</th>\n",
       "      <th>DATE</th>\n",
       "      <th>DAPR</th>\n",
       "      <th>DAPR_ATTRIBUTES</th>\n",
       "      <th>MDPR</th>\n",
       "      <th>MDPR_ATTRIBUTES</th>\n",
       "      <th>PRCP</th>\n",
       "      <th>PRCP_ATTRIBUTES</th>\n",
       "      <th>SNOW</th>\n",
       "      <th>SNOW_ATTRIBUTES</th>\n",
       "      <th>TMAX</th>\n",
       "      <th>TMAX_ATTRIBUTES</th>\n",
       "      <th>TMIN</th>\n",
       "      <th>TMIN_ATTRIBUTES</th>\n",
       "    </tr>\n",
       "  </thead>\n",
       "  <tbody>\n",
       "    <tr>\n",
       "      <th>0</th>\n",
       "      <td>US1CASD0015</td>\n",
       "      <td>LA JOLLA 2.5SE, CA US</td>\n",
       "      <td>32.825404</td>\n",
       "      <td>-117.239698</td>\n",
       "      <td>154.8</td>\n",
       "      <td>2017-01-01</td>\n",
       "      <td>NaN</td>\n",
       "      <td>NaN</td>\n",
       "      <td>NaN</td>\n",
       "      <td>NaN</td>\n",
       "      <td>0.68</td>\n",
       "      <td>,,N</td>\n",
       "      <td>NaN</td>\n",
       "      <td>NaN</td>\n",
       "      <td>NaN</td>\n",
       "      <td>NaN</td>\n",
       "      <td>NaN</td>\n",
       "      <td>NaN</td>\n",
       "    </tr>\n",
       "    <tr>\n",
       "      <th>1</th>\n",
       "      <td>US1CASD0015</td>\n",
       "      <td>LA JOLLA 2.5SE, CA US</td>\n",
       "      <td>32.825404</td>\n",
       "      <td>-117.239698</td>\n",
       "      <td>154.8</td>\n",
       "      <td>2017-01-02</td>\n",
       "      <td>NaN</td>\n",
       "      <td>NaN</td>\n",
       "      <td>NaN</td>\n",
       "      <td>NaN</td>\n",
       "      <td>0.00</td>\n",
       "      <td>,,N</td>\n",
       "      <td>0.0</td>\n",
       "      <td>,,N</td>\n",
       "      <td>NaN</td>\n",
       "      <td>NaN</td>\n",
       "      <td>NaN</td>\n",
       "      <td>NaN</td>\n",
       "    </tr>\n",
       "    <tr>\n",
       "      <th>2</th>\n",
       "      <td>US1CASD0015</td>\n",
       "      <td>LA JOLLA 2.5SE, CA US</td>\n",
       "      <td>32.825404</td>\n",
       "      <td>-117.239698</td>\n",
       "      <td>154.8</td>\n",
       "      <td>2017-01-03</td>\n",
       "      <td>NaN</td>\n",
       "      <td>NaN</td>\n",
       "      <td>NaN</td>\n",
       "      <td>NaN</td>\n",
       "      <td>0.00</td>\n",
       "      <td>,,N</td>\n",
       "      <td>0.0</td>\n",
       "      <td>,,N</td>\n",
       "      <td>NaN</td>\n",
       "      <td>NaN</td>\n",
       "      <td>NaN</td>\n",
       "      <td>NaN</td>\n",
       "    </tr>\n",
       "    <tr>\n",
       "      <th>3</th>\n",
       "      <td>US1CASD0015</td>\n",
       "      <td>LA JOLLA 2.5SE, CA US</td>\n",
       "      <td>32.825404</td>\n",
       "      <td>-117.239698</td>\n",
       "      <td>154.8</td>\n",
       "      <td>2017-01-04</td>\n",
       "      <td>NaN</td>\n",
       "      <td>NaN</td>\n",
       "      <td>NaN</td>\n",
       "      <td>NaN</td>\n",
       "      <td>0.00</td>\n",
       "      <td>,,N</td>\n",
       "      <td>0.0</td>\n",
       "      <td>,,N</td>\n",
       "      <td>NaN</td>\n",
       "      <td>NaN</td>\n",
       "      <td>NaN</td>\n",
       "      <td>NaN</td>\n",
       "    </tr>\n",
       "    <tr>\n",
       "      <th>4</th>\n",
       "      <td>US1CASD0015</td>\n",
       "      <td>LA JOLLA 2.5SE, CA US</td>\n",
       "      <td>32.825404</td>\n",
       "      <td>-117.239698</td>\n",
       "      <td>154.8</td>\n",
       "      <td>2017-01-05</td>\n",
       "      <td>NaN</td>\n",
       "      <td>NaN</td>\n",
       "      <td>NaN</td>\n",
       "      <td>NaN</td>\n",
       "      <td>0.00</td>\n",
       "      <td>,,N</td>\n",
       "      <td>0.0</td>\n",
       "      <td>,,N</td>\n",
       "      <td>NaN</td>\n",
       "      <td>NaN</td>\n",
       "      <td>NaN</td>\n",
       "      <td>NaN</td>\n",
       "    </tr>\n",
       "  </tbody>\n",
       "</table>\n",
       "</div>"
      ],
      "text/plain": [
       "       STATION                   NAME   LATITUDE   LONGITUDE  ELEVATION  \\\n",
       "0  US1CASD0015  LA JOLLA 2.5SE, CA US  32.825404 -117.239698      154.8   \n",
       "1  US1CASD0015  LA JOLLA 2.5SE, CA US  32.825404 -117.239698      154.8   \n",
       "2  US1CASD0015  LA JOLLA 2.5SE, CA US  32.825404 -117.239698      154.8   \n",
       "3  US1CASD0015  LA JOLLA 2.5SE, CA US  32.825404 -117.239698      154.8   \n",
       "4  US1CASD0015  LA JOLLA 2.5SE, CA US  32.825404 -117.239698      154.8   \n",
       "\n",
       "         DATE  DAPR DAPR_ATTRIBUTES  MDPR MDPR_ATTRIBUTES  PRCP  \\\n",
       "0  2017-01-01   NaN             NaN   NaN             NaN  0.68   \n",
       "1  2017-01-02   NaN             NaN   NaN             NaN  0.00   \n",
       "2  2017-01-03   NaN             NaN   NaN             NaN  0.00   \n",
       "3  2017-01-04   NaN             NaN   NaN             NaN  0.00   \n",
       "4  2017-01-05   NaN             NaN   NaN             NaN  0.00   \n",
       "\n",
       "  PRCP_ATTRIBUTES  SNOW SNOW_ATTRIBUTES  TMAX TMAX_ATTRIBUTES  TMIN  \\\n",
       "0             ,,N   NaN             NaN   NaN             NaN   NaN   \n",
       "1             ,,N   0.0             ,,N   NaN             NaN   NaN   \n",
       "2             ,,N   0.0             ,,N   NaN             NaN   NaN   \n",
       "3             ,,N   0.0             ,,N   NaN             NaN   NaN   \n",
       "4             ,,N   0.0             ,,N   NaN             NaN   NaN   \n",
       "\n",
       "  TMIN_ATTRIBUTES  \n",
       "0             NaN  \n",
       "1             NaN  \n",
       "2             NaN  \n",
       "3             NaN  \n",
       "4             NaN  "
      ]
     },
     "execution_count": 25,
     "metadata": {},
     "output_type": "execute_result"
    }
   ],
   "source": [
    "noaa_data.head(5)"
   ]
  },
  {
   "cell_type": "code",
   "execution_count": 26,
   "id": "1f40d5e0",
   "metadata": {},
   "outputs": [],
   "source": [
    "noaa_data['DATE_TRANSFORMED'] =  noaa_data['DATE'].apply(lambda x: pd.Timestamp(x).date())"
   ]
  },
  {
   "cell_type": "code",
   "execution_count": 30,
   "id": "5fc7c3dc",
   "metadata": {},
   "outputs": [
    {
     "data": {
      "text/plain": [
       "STATION             0.000000\n",
       "NAME                0.000000\n",
       "LATITUDE            0.000000\n",
       "LONGITUDE           0.000000\n",
       "ELEVATION           0.000000\n",
       "DATE                0.000000\n",
       "DAPR                0.998624\n",
       "DAPR_ATTRIBUTES     0.998624\n",
       "MDPR                0.998624\n",
       "MDPR_ATTRIBUTES     0.998624\n",
       "PRCP                0.001573\n",
       "PRCP_ATTRIBUTES     0.001573\n",
       "SNOW                0.559072\n",
       "SNOW_ATTRIBUTES     0.559072\n",
       "TMAX                0.647926\n",
       "TMAX_ATTRIBUTES     0.647926\n",
       "TMIN                0.648123\n",
       "TMIN_ATTRIBUTES     0.648123\n",
       "DATE_TRANSFORMED    0.000000\n",
       "dtype: float64"
      ]
     },
     "execution_count": 30,
     "metadata": {},
     "output_type": "execute_result"
    }
   ],
   "source": [
    "noaa_data.isna().sum() / len(noaa_data)"
   ]
  },
  {
   "cell_type": "code",
   "execution_count": 32,
   "id": "128de1b3",
   "metadata": {},
   "outputs": [
    {
     "data": {
      "text/plain": [
       "array(['LA JOLLA 2.5SE, CA US', 'LA JOLLA 2.1 SE, CA US',\n",
       "       'SAN DIEGO SEAWORLD, CA US'], dtype=object)"
      ]
     },
     "execution_count": 32,
     "metadata": {},
     "output_type": "execute_result"
    }
   ],
   "source": [
    "noaa_data['NAME'].unique()"
   ]
  },
  {
   "cell_type": "markdown",
   "id": "35aedf8d",
   "metadata": {},
   "source": [
    "We made a data request for La Jolla & for San Diego data - La Jolla gets us precipitation, but San Diego Seaworld was one of the closest zipcodes I could find that has the temperature information."
   ]
  },
  {
   "cell_type": "code",
   "execution_count": 33,
   "id": "3f509f71",
   "metadata": {},
   "outputs": [],
   "source": [
    "# segment by station:\n",
    "lajolla_2_5 = noaa_data.loc[noaa_data['NAME'] == 'LA JOLLA 2.5SE, CA US', :]\n",
    "lajolla_2_1 = noaa_data.loc[noaa_data['NAME'] == 'LA JOLLA 2.1 SE, CA US', :]\n",
    "sd_seaworld = noaa_data.loc[noaa_data['NAME'] == 'SAN DIEGO SEAWORLD, CA US', :]"
   ]
  },
  {
   "cell_type": "code",
   "execution_count": 36,
   "id": "2d99d48e",
   "metadata": {},
   "outputs": [
    {
     "data": {
      "text/plain": [
       "STATION             0.000000\n",
       "NAME                0.000000\n",
       "LATITUDE            0.000000\n",
       "LONGITUDE           0.000000\n",
       "ELEVATION           0.000000\n",
       "DATE                0.000000\n",
       "DAPR                0.998654\n",
       "DAPR_ATTRIBUTES     0.998654\n",
       "MDPR                0.998654\n",
       "MDPR_ATTRIBUTES     0.998654\n",
       "PRCP                0.001346\n",
       "PRCP_ATTRIBUTES     0.001346\n",
       "SNOW                0.153432\n",
       "SNOW_ATTRIBUTES     0.153432\n",
       "TMAX                1.000000\n",
       "TMAX_ATTRIBUTES     1.000000\n",
       "TMIN                1.000000\n",
       "TMIN_ATTRIBUTES     1.000000\n",
       "DATE_TRANSFORMED    0.000000\n",
       "dtype: float64"
      ]
     },
     "execution_count": 36,
     "metadata": {},
     "output_type": "execute_result"
    }
   ],
   "source": [
    "lajolla_2_5.isna().sum() / len(lajolla_2_5)"
   ]
  },
  {
   "cell_type": "code",
   "execution_count": 37,
   "id": "4b95e456",
   "metadata": {},
   "outputs": [
    {
     "data": {
      "text/plain": [
       "STATION             0.00000\n",
       "NAME                0.00000\n",
       "LATITUDE            0.00000\n",
       "LONGITUDE           0.00000\n",
       "ELEVATION           0.00000\n",
       "DATE                0.00000\n",
       "DAPR                0.99724\n",
       "DAPR_ATTRIBUTES     0.99724\n",
       "MDPR                0.99724\n",
       "MDPR_ATTRIBUTES     0.99724\n",
       "PRCP                0.00276\n",
       "PRCP_ATTRIBUTES     0.00276\n",
       "SNOW                0.25759\n",
       "SNOW_ATTRIBUTES     0.25759\n",
       "TMAX                1.00000\n",
       "TMAX_ATTRIBUTES     1.00000\n",
       "TMIN                1.00000\n",
       "TMIN_ATTRIBUTES     1.00000\n",
       "DATE_TRANSFORMED    0.00000\n",
       "dtype: float64"
      ]
     },
     "execution_count": 37,
     "metadata": {},
     "output_type": "execute_result"
    }
   ],
   "source": [
    "lajolla_2_1.isna().sum() / len(lajolla_2_1)"
   ]
  },
  {
   "cell_type": "code",
   "execution_count": 38,
   "id": "de9b9d57",
   "metadata": {},
   "outputs": [],
   "source": [
    "# Finding which data is relevant to participation\n",
    "lajolla_2_5 = lajolla_2_5.drop(['TMAX', 'TMAX_ATTRIBUTES', 'TMIN', 'TMIN_ATTRIBUTES'], axis =1)\n",
    "lajolla_2_1 = lajolla_2_1.drop(['TMAX', 'TMAX_ATTRIBUTES', 'TMIN', 'TMIN_ATTRIBUTES'], axis =1)\n"
   ]
  },
  {
   "cell_type": "code",
   "execution_count": 39,
   "id": "4ebf9afc",
   "metadata": {},
   "outputs": [
    {
     "data": {
      "text/plain": [
       "STATION             0.000000\n",
       "NAME                0.000000\n",
       "LATITUDE            0.000000\n",
       "LONGITUDE           0.000000\n",
       "ELEVATION           0.000000\n",
       "DATE                0.000000\n",
       "DAPR                1.000000\n",
       "DAPR_ATTRIBUTES     1.000000\n",
       "MDPR                1.000000\n",
       "MDPR_ATTRIBUTES     1.000000\n",
       "PRCP                0.000461\n",
       "PRCP_ATTRIBUTES     0.000461\n",
       "SNOW                1.000000\n",
       "SNOW_ATTRIBUTES     1.000000\n",
       "TMAX                0.174654\n",
       "TMAX_ATTRIBUTES     0.174654\n",
       "TMIN                0.175115\n",
       "TMIN_ATTRIBUTES     0.175115\n",
       "DATE_TRANSFORMED    0.000000\n",
       "dtype: float64"
      ]
     },
     "execution_count": 39,
     "metadata": {},
     "output_type": "execute_result"
    }
   ],
   "source": [
    "sd_seaworld.isna().sum() / len(sd_seaworld)"
   ]
  },
  {
   "cell_type": "code",
   "execution_count": 40,
   "id": "92e20604",
   "metadata": {},
   "outputs": [],
   "source": [
    "# Getting data relevant to temperature\n",
    "sd_seaworld = sd_seaworld.drop(['DAPR', 'DAPR_ATTRIBUTES', 'MDPR', 'MDPR_ATTRIBUTES', 'SNOW', 'SNOW_ATTRIBUTES'], axis =1)\n"
   ]
  },
  {
   "cell_type": "code",
   "execution_count": 45,
   "id": "a36ab484",
   "metadata": {},
   "outputs": [
    {
     "data": {
      "text/plain": [
       "(2170, 13)"
      ]
     },
     "execution_count": 45,
     "metadata": {},
     "output_type": "execute_result"
    }
   ],
   "source": [
    "sd_seaworld.shape"
   ]
  },
  {
   "cell_type": "code",
   "execution_count": 46,
   "id": "e57463b2",
   "metadata": {},
   "outputs": [
    {
     "data": {
      "text/html": [
       "<div>\n",
       "<style scoped>\n",
       "    .dataframe tbody tr th:only-of-type {\n",
       "        vertical-align: middle;\n",
       "    }\n",
       "\n",
       "    .dataframe tbody tr th {\n",
       "        vertical-align: top;\n",
       "    }\n",
       "\n",
       "    .dataframe thead th {\n",
       "        text-align: right;\n",
       "    }\n",
       "</style>\n",
       "<table border=\"1\" class=\"dataframe\">\n",
       "  <thead>\n",
       "    <tr style=\"text-align: right;\">\n",
       "      <th></th>\n",
       "      <th>STATION</th>\n",
       "      <th>NAME</th>\n",
       "      <th>LATITUDE</th>\n",
       "      <th>LONGITUDE</th>\n",
       "      <th>ELEVATION</th>\n",
       "      <th>DATE</th>\n",
       "      <th>PRCP</th>\n",
       "      <th>PRCP_ATTRIBUTES</th>\n",
       "      <th>TMAX</th>\n",
       "      <th>TMAX_ATTRIBUTES</th>\n",
       "      <th>TMIN</th>\n",
       "      <th>TMIN_ATTRIBUTES</th>\n",
       "      <th>DATE_TRANSFORMED</th>\n",
       "    </tr>\n",
       "  </thead>\n",
       "  <tbody>\n",
       "    <tr>\n",
       "      <th>2917</th>\n",
       "      <td>USC00047741</td>\n",
       "      <td>SAN DIEGO SEAWORLD, CA US</td>\n",
       "      <td>32.76536</td>\n",
       "      <td>-117.2315</td>\n",
       "      <td>4.3</td>\n",
       "      <td>2017-01-01</td>\n",
       "      <td>0.0</td>\n",
       "      <td>,,7,1630</td>\n",
       "      <td>61.0</td>\n",
       "      <td>,,7</td>\n",
       "      <td>47.0</td>\n",
       "      <td>,,7</td>\n",
       "      <td>2017-01-01</td>\n",
       "    </tr>\n",
       "    <tr>\n",
       "      <th>2918</th>\n",
       "      <td>USC00047741</td>\n",
       "      <td>SAN DIEGO SEAWORLD, CA US</td>\n",
       "      <td>32.76536</td>\n",
       "      <td>-117.2315</td>\n",
       "      <td>4.3</td>\n",
       "      <td>2017-01-02</td>\n",
       "      <td>0.0</td>\n",
       "      <td>,,7,1630</td>\n",
       "      <td>59.0</td>\n",
       "      <td>,,7</td>\n",
       "      <td>52.0</td>\n",
       "      <td>,,7</td>\n",
       "      <td>2017-01-02</td>\n",
       "    </tr>\n",
       "    <tr>\n",
       "      <th>2919</th>\n",
       "      <td>USC00047741</td>\n",
       "      <td>SAN DIEGO SEAWORLD, CA US</td>\n",
       "      <td>32.76536</td>\n",
       "      <td>-117.2315</td>\n",
       "      <td>4.3</td>\n",
       "      <td>2017-01-03</td>\n",
       "      <td>0.0</td>\n",
       "      <td>,,7,1630</td>\n",
       "      <td>59.0</td>\n",
       "      <td>,,7</td>\n",
       "      <td>48.0</td>\n",
       "      <td>,,7</td>\n",
       "      <td>2017-01-03</td>\n",
       "    </tr>\n",
       "    <tr>\n",
       "      <th>2920</th>\n",
       "      <td>USC00047741</td>\n",
       "      <td>SAN DIEGO SEAWORLD, CA US</td>\n",
       "      <td>32.76536</td>\n",
       "      <td>-117.2315</td>\n",
       "      <td>4.3</td>\n",
       "      <td>2017-01-04</td>\n",
       "      <td>0.0</td>\n",
       "      <td>,,7,1630</td>\n",
       "      <td>61.0</td>\n",
       "      <td>,,7</td>\n",
       "      <td>46.0</td>\n",
       "      <td>,,7</td>\n",
       "      <td>2017-01-04</td>\n",
       "    </tr>\n",
       "    <tr>\n",
       "      <th>2921</th>\n",
       "      <td>USC00047741</td>\n",
       "      <td>SAN DIEGO SEAWORLD, CA US</td>\n",
       "      <td>32.76536</td>\n",
       "      <td>-117.2315</td>\n",
       "      <td>4.3</td>\n",
       "      <td>2017-01-05</td>\n",
       "      <td>0.1</td>\n",
       "      <td>,,7,1630</td>\n",
       "      <td>60.0</td>\n",
       "      <td>,,7</td>\n",
       "      <td>55.0</td>\n",
       "      <td>,,7</td>\n",
       "      <td>2017-01-05</td>\n",
       "    </tr>\n",
       "  </tbody>\n",
       "</table>\n",
       "</div>"
      ],
      "text/plain": [
       "          STATION                       NAME  LATITUDE  LONGITUDE  ELEVATION  \\\n",
       "2917  USC00047741  SAN DIEGO SEAWORLD, CA US  32.76536  -117.2315        4.3   \n",
       "2918  USC00047741  SAN DIEGO SEAWORLD, CA US  32.76536  -117.2315        4.3   \n",
       "2919  USC00047741  SAN DIEGO SEAWORLD, CA US  32.76536  -117.2315        4.3   \n",
       "2920  USC00047741  SAN DIEGO SEAWORLD, CA US  32.76536  -117.2315        4.3   \n",
       "2921  USC00047741  SAN DIEGO SEAWORLD, CA US  32.76536  -117.2315        4.3   \n",
       "\n",
       "            DATE  PRCP PRCP_ATTRIBUTES  TMAX TMAX_ATTRIBUTES  TMIN  \\\n",
       "2917  2017-01-01   0.0        ,,7,1630  61.0             ,,7  47.0   \n",
       "2918  2017-01-02   0.0        ,,7,1630  59.0             ,,7  52.0   \n",
       "2919  2017-01-03   0.0        ,,7,1630  59.0             ,,7  48.0   \n",
       "2920  2017-01-04   0.0        ,,7,1630  61.0             ,,7  46.0   \n",
       "2921  2017-01-05   0.1        ,,7,1630  60.0             ,,7  55.0   \n",
       "\n",
       "     TMIN_ATTRIBUTES DATE_TRANSFORMED  \n",
       "2917             ,,7       2017-01-01  \n",
       "2918             ,,7       2017-01-02  \n",
       "2919             ,,7       2017-01-03  \n",
       "2920             ,,7       2017-01-04  \n",
       "2921             ,,7       2017-01-05  "
      ]
     },
     "execution_count": 46,
     "metadata": {},
     "output_type": "execute_result"
    }
   ],
   "source": [
    "sd_seaworld.head(5)"
   ]
  },
  {
   "cell_type": "markdown",
   "id": "ae20aa4d",
   "metadata": {},
   "source": [
    "TMAX & TMIN attributes are a little confusing here - are they the max for the day?"
   ]
  },
  {
   "cell_type": "code",
   "execution_count": 48,
   "id": "cb3e7454",
   "metadata": {
    "scrolled": true
   },
   "outputs": [
    {
     "data": {
      "text/html": [
       "<div>\n",
       "<style scoped>\n",
       "    .dataframe tbody tr th:only-of-type {\n",
       "        vertical-align: middle;\n",
       "    }\n",
       "\n",
       "    .dataframe tbody tr th {\n",
       "        vertical-align: top;\n",
       "    }\n",
       "\n",
       "    .dataframe thead th {\n",
       "        text-align: right;\n",
       "    }\n",
       "</style>\n",
       "<table border=\"1\" class=\"dataframe\">\n",
       "  <thead>\n",
       "    <tr style=\"text-align: right;\">\n",
       "      <th></th>\n",
       "      <th>STATION</th>\n",
       "      <th>NAME</th>\n",
       "      <th>LATITUDE</th>\n",
       "      <th>LONGITUDE</th>\n",
       "      <th>ELEVATION</th>\n",
       "      <th>DATE</th>\n",
       "      <th>DAPR</th>\n",
       "      <th>DAPR_ATTRIBUTES</th>\n",
       "      <th>MDPR</th>\n",
       "      <th>MDPR_ATTRIBUTES</th>\n",
       "      <th>PRCP</th>\n",
       "      <th>PRCP_ATTRIBUTES</th>\n",
       "      <th>SNOW</th>\n",
       "      <th>SNOW_ATTRIBUTES</th>\n",
       "      <th>DATE_TRANSFORMED</th>\n",
       "    </tr>\n",
       "  </thead>\n",
       "  <tbody>\n",
       "    <tr>\n",
       "      <th>0</th>\n",
       "      <td>US1CASD0015</td>\n",
       "      <td>LA JOLLA 2.5SE, CA US</td>\n",
       "      <td>32.825404</td>\n",
       "      <td>-117.239698</td>\n",
       "      <td>154.8</td>\n",
       "      <td>2017-01-01</td>\n",
       "      <td>NaN</td>\n",
       "      <td>NaN</td>\n",
       "      <td>NaN</td>\n",
       "      <td>NaN</td>\n",
       "      <td>0.68</td>\n",
       "      <td>,,N</td>\n",
       "      <td>NaN</td>\n",
       "      <td>NaN</td>\n",
       "      <td>2017-01-01</td>\n",
       "    </tr>\n",
       "    <tr>\n",
       "      <th>1</th>\n",
       "      <td>US1CASD0015</td>\n",
       "      <td>LA JOLLA 2.5SE, CA US</td>\n",
       "      <td>32.825404</td>\n",
       "      <td>-117.239698</td>\n",
       "      <td>154.8</td>\n",
       "      <td>2017-01-02</td>\n",
       "      <td>NaN</td>\n",
       "      <td>NaN</td>\n",
       "      <td>NaN</td>\n",
       "      <td>NaN</td>\n",
       "      <td>0.00</td>\n",
       "      <td>,,N</td>\n",
       "      <td>0.0</td>\n",
       "      <td>,,N</td>\n",
       "      <td>2017-01-02</td>\n",
       "    </tr>\n",
       "    <tr>\n",
       "      <th>2</th>\n",
       "      <td>US1CASD0015</td>\n",
       "      <td>LA JOLLA 2.5SE, CA US</td>\n",
       "      <td>32.825404</td>\n",
       "      <td>-117.239698</td>\n",
       "      <td>154.8</td>\n",
       "      <td>2017-01-03</td>\n",
       "      <td>NaN</td>\n",
       "      <td>NaN</td>\n",
       "      <td>NaN</td>\n",
       "      <td>NaN</td>\n",
       "      <td>0.00</td>\n",
       "      <td>,,N</td>\n",
       "      <td>0.0</td>\n",
       "      <td>,,N</td>\n",
       "      <td>2017-01-03</td>\n",
       "    </tr>\n",
       "    <tr>\n",
       "      <th>3</th>\n",
       "      <td>US1CASD0015</td>\n",
       "      <td>LA JOLLA 2.5SE, CA US</td>\n",
       "      <td>32.825404</td>\n",
       "      <td>-117.239698</td>\n",
       "      <td>154.8</td>\n",
       "      <td>2017-01-04</td>\n",
       "      <td>NaN</td>\n",
       "      <td>NaN</td>\n",
       "      <td>NaN</td>\n",
       "      <td>NaN</td>\n",
       "      <td>0.00</td>\n",
       "      <td>,,N</td>\n",
       "      <td>0.0</td>\n",
       "      <td>,,N</td>\n",
       "      <td>2017-01-04</td>\n",
       "    </tr>\n",
       "    <tr>\n",
       "      <th>4</th>\n",
       "      <td>US1CASD0015</td>\n",
       "      <td>LA JOLLA 2.5SE, CA US</td>\n",
       "      <td>32.825404</td>\n",
       "      <td>-117.239698</td>\n",
       "      <td>154.8</td>\n",
       "      <td>2017-01-05</td>\n",
       "      <td>NaN</td>\n",
       "      <td>NaN</td>\n",
       "      <td>NaN</td>\n",
       "      <td>NaN</td>\n",
       "      <td>0.00</td>\n",
       "      <td>,,N</td>\n",
       "      <td>0.0</td>\n",
       "      <td>,,N</td>\n",
       "      <td>2017-01-05</td>\n",
       "    </tr>\n",
       "  </tbody>\n",
       "</table>\n",
       "</div>"
      ],
      "text/plain": [
       "       STATION                   NAME   LATITUDE   LONGITUDE  ELEVATION  \\\n",
       "0  US1CASD0015  LA JOLLA 2.5SE, CA US  32.825404 -117.239698      154.8   \n",
       "1  US1CASD0015  LA JOLLA 2.5SE, CA US  32.825404 -117.239698      154.8   \n",
       "2  US1CASD0015  LA JOLLA 2.5SE, CA US  32.825404 -117.239698      154.8   \n",
       "3  US1CASD0015  LA JOLLA 2.5SE, CA US  32.825404 -117.239698      154.8   \n",
       "4  US1CASD0015  LA JOLLA 2.5SE, CA US  32.825404 -117.239698      154.8   \n",
       "\n",
       "         DATE  DAPR DAPR_ATTRIBUTES  MDPR MDPR_ATTRIBUTES  PRCP  \\\n",
       "0  2017-01-01   NaN             NaN   NaN             NaN  0.68   \n",
       "1  2017-01-02   NaN             NaN   NaN             NaN  0.00   \n",
       "2  2017-01-03   NaN             NaN   NaN             NaN  0.00   \n",
       "3  2017-01-04   NaN             NaN   NaN             NaN  0.00   \n",
       "4  2017-01-05   NaN             NaN   NaN             NaN  0.00   \n",
       "\n",
       "  PRCP_ATTRIBUTES  SNOW SNOW_ATTRIBUTES DATE_TRANSFORMED  \n",
       "0             ,,N   NaN             NaN       2017-01-01  \n",
       "1             ,,N   0.0             ,,N       2017-01-02  \n",
       "2             ,,N   0.0             ,,N       2017-01-03  \n",
       "3             ,,N   0.0             ,,N       2017-01-04  \n",
       "4             ,,N   0.0             ,,N       2017-01-05  "
      ]
     },
     "execution_count": 48,
     "metadata": {},
     "output_type": "execute_result"
    }
   ],
   "source": [
    "lajolla_2_5.head(5)"
   ]
  }
 ],
 "metadata": {
  "kernelspec": {
   "display_name": "Python 3",
   "language": "python",
   "name": "python3"
  },
  "language_info": {
   "codemirror_mode": {
    "name": "ipython",
    "version": 3
   },
   "file_extension": ".py",
   "mimetype": "text/x-python",
   "name": "python",
   "nbconvert_exporter": "python",
   "pygments_lexer": "ipython3",
   "version": "3.8.5"
  }
 },
 "nbformat": 4,
 "nbformat_minor": 5
}
