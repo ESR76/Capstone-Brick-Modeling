{
 "cells": [
  {
   "cell_type": "code",
   "execution_count": null,
   "id": "b9e4bc83",
   "metadata": {},
   "outputs": [],
   "source": [
    "# let's see if this saves, since it got destroyed on the server"
   ]
  },
  {
   "cell_type": "code",
   "execution_count": 2,
   "id": "d382f102",
   "metadata": {},
   "outputs": [
    {
     "name": "stderr",
     "output_type": "stream",
     "text": [
      "Importing plotly failed. Interactive plots will not work.\n"
     ]
    }
   ],
   "source": [
    "import pandas as pd\n",
    "import numpy as np\n",
    "import seaborn as sns\n",
    "\n",
    "import prophet as Prophet\n",
    "#import brickschema - brickschema it says isn't here??? didn't I fix that so it worked on here or do I have to use the custom"
   ]
  },
  {
   "cell_type": "code",
   "execution_count": 10,
   "id": "e170a6cb",
   "metadata": {},
   "outputs": [],
   "source": [
    "#col_list = ['time', 'Common Setpoint', 'Actual Sup Flow SP', 'Zone Temperature', 'Actual Supply Flow', 'Outside Air Temp', 'Humidity', 'energy']\n",
    "\n",
    "floor_2 = pd.read_csv('merged_all_2F.csv', index_col = 'Unnamed: 0')\n",
    "floor_3 = pd.read_csv('merged_all_3F.csv', index_col = 'Unnamed: 0')\n",
    "floor_4 = pd.read_csv('merged_all_4F.csv', index_col = 'Unnamed: 0')"
   ]
  },
  {
   "cell_type": "code",
   "execution_count": 11,
   "id": "e96b6b66",
   "metadata": {},
   "outputs": [],
   "source": [
    "# one version of this is Unnamed: 0.2 but I'm not sure why this one says \n",
    "\n",
    "floor_2 = floor_2.drop(['Unnamed: 0.1', 'Unnamed: 0.1.1'], axis = 1)"
   ]
  },
  {
   "cell_type": "code",
   "execution_count": 12,
   "id": "323f55f7",
   "metadata": {},
   "outputs": [
    {
     "data": {
      "text/html": [
       "<div>\n",
       "<style scoped>\n",
       "    .dataframe tbody tr th:only-of-type {\n",
       "        vertical-align: middle;\n",
       "    }\n",
       "\n",
       "    .dataframe tbody tr th {\n",
       "        vertical-align: top;\n",
       "    }\n",
       "\n",
       "    .dataframe thead th {\n",
       "        text-align: right;\n",
       "    }\n",
       "</style>\n",
       "<table border=\"1\" class=\"dataframe\">\n",
       "  <thead>\n",
       "    <tr style=\"text-align: right;\">\n",
       "      <th></th>\n",
       "      <th>time</th>\n",
       "      <th>Common Setpoint</th>\n",
       "      <th>Actual Sup Flow SP</th>\n",
       "      <th>Zone Temperature</th>\n",
       "      <th>Actual Supply Flow</th>\n",
       "      <th>energy</th>\n",
       "      <th>Outside Air Temp</th>\n",
       "      <th>Humidity</th>\n",
       "      <th>Zone Temperature Next</th>\n",
       "      <th>Actual Supply Flow Next</th>\n",
       "      <th>Outside Air Temp Next</th>\n",
       "      <th>Humidity Next</th>\n",
       "      <th>energy Next</th>\n",
       "    </tr>\n",
       "  </thead>\n",
       "  <tbody>\n",
       "    <tr>\n",
       "      <th>0</th>\n",
       "      <td>2018-01-03T20:57:39+00:00</td>\n",
       "      <td>72.5</td>\n",
       "      <td>330.0</td>\n",
       "      <td>75.2</td>\n",
       "      <td>318.73</td>\n",
       "      <td>10.109642</td>\n",
       "      <td>68.44</td>\n",
       "      <td>56.0</td>\n",
       "      <td>75.2</td>\n",
       "      <td>317.06</td>\n",
       "      <td>68.50</td>\n",
       "      <td>56.0</td>\n",
       "      <td>10.113301</td>\n",
       "    </tr>\n",
       "    <tr>\n",
       "      <th>1</th>\n",
       "      <td>2018-01-03T21:04:13+00:00</td>\n",
       "      <td>72.5</td>\n",
       "      <td>330.0</td>\n",
       "      <td>75.2</td>\n",
       "      <td>317.06</td>\n",
       "      <td>10.113301</td>\n",
       "      <td>68.50</td>\n",
       "      <td>56.0</td>\n",
       "      <td>75.7</td>\n",
       "      <td>314.34</td>\n",
       "      <td>68.25</td>\n",
       "      <td>56.0</td>\n",
       "      <td>10.099466</td>\n",
       "    </tr>\n",
       "    <tr>\n",
       "      <th>2</th>\n",
       "      <td>2018-01-03T21:10:44+00:00</td>\n",
       "      <td>72.5</td>\n",
       "      <td>330.0</td>\n",
       "      <td>75.7</td>\n",
       "      <td>314.34</td>\n",
       "      <td>10.099466</td>\n",
       "      <td>68.25</td>\n",
       "      <td>56.0</td>\n",
       "      <td>75.7</td>\n",
       "      <td>313.91</td>\n",
       "      <td>68.31</td>\n",
       "      <td>56.0</td>\n",
       "      <td>10.241028</td>\n",
       "    </tr>\n",
       "    <tr>\n",
       "      <th>3</th>\n",
       "      <td>2018-01-03T21:17:16+00:00</td>\n",
       "      <td>72.5</td>\n",
       "      <td>330.0</td>\n",
       "      <td>75.7</td>\n",
       "      <td>313.91</td>\n",
       "      <td>10.241028</td>\n",
       "      <td>68.31</td>\n",
       "      <td>56.0</td>\n",
       "      <td>75.7</td>\n",
       "      <td>318.31</td>\n",
       "      <td>68.44</td>\n",
       "      <td>57.0</td>\n",
       "      <td>10.187620</td>\n",
       "    </tr>\n",
       "    <tr>\n",
       "      <th>4</th>\n",
       "      <td>2018-01-03T21:23:44+00:00</td>\n",
       "      <td>72.5</td>\n",
       "      <td>330.0</td>\n",
       "      <td>75.7</td>\n",
       "      <td>318.31</td>\n",
       "      <td>10.187620</td>\n",
       "      <td>68.44</td>\n",
       "      <td>57.0</td>\n",
       "      <td>75.7</td>\n",
       "      <td>316.65</td>\n",
       "      <td>68.81</td>\n",
       "      <td>57.0</td>\n",
       "      <td>10.194055</td>\n",
       "    </tr>\n",
       "  </tbody>\n",
       "</table>\n",
       "</div>"
      ],
      "text/plain": [
       "                        time  Common Setpoint  Actual Sup Flow SP  \\\n",
       "0  2018-01-03T20:57:39+00:00             72.5               330.0   \n",
       "1  2018-01-03T21:04:13+00:00             72.5               330.0   \n",
       "2  2018-01-03T21:10:44+00:00             72.5               330.0   \n",
       "3  2018-01-03T21:17:16+00:00             72.5               330.0   \n",
       "4  2018-01-03T21:23:44+00:00             72.5               330.0   \n",
       "\n",
       "   Zone Temperature  Actual Supply Flow     energy  Outside Air Temp  \\\n",
       "0              75.2              318.73  10.109642             68.44   \n",
       "1              75.2              317.06  10.113301             68.50   \n",
       "2              75.7              314.34  10.099466             68.25   \n",
       "3              75.7              313.91  10.241028             68.31   \n",
       "4              75.7              318.31  10.187620             68.44   \n",
       "\n",
       "   Humidity  Zone Temperature Next  Actual Supply Flow Next  \\\n",
       "0      56.0                   75.2                   317.06   \n",
       "1      56.0                   75.7                   314.34   \n",
       "2      56.0                   75.7                   313.91   \n",
       "3      56.0                   75.7                   318.31   \n",
       "4      57.0                   75.7                   316.65   \n",
       "\n",
       "   Outside Air Temp Next  Humidity Next  energy Next  \n",
       "0                  68.50           56.0    10.113301  \n",
       "1                  68.25           56.0    10.099466  \n",
       "2                  68.31           56.0    10.241028  \n",
       "3                  68.44           57.0    10.187620  \n",
       "4                  68.81           57.0    10.194055  "
      ]
     },
     "execution_count": 12,
     "metadata": {},
     "output_type": "execute_result"
    }
   ],
   "source": [
    "floor_2.head(5)"
   ]
  },
  {
   "cell_type": "code",
   "execution_count": 13,
   "id": "8a1232ce",
   "metadata": {},
   "outputs": [],
   "source": [
    "floor_3 = floor_3.drop(['Unnamed: 0.1'], axis = 1)"
   ]
  },
  {
   "cell_type": "code",
   "execution_count": 14,
   "id": "0342b9b5",
   "metadata": {},
   "outputs": [
    {
     "data": {
      "text/html": [
       "<div>\n",
       "<style scoped>\n",
       "    .dataframe tbody tr th:only-of-type {\n",
       "        vertical-align: middle;\n",
       "    }\n",
       "\n",
       "    .dataframe tbody tr th {\n",
       "        vertical-align: top;\n",
       "    }\n",
       "\n",
       "    .dataframe thead th {\n",
       "        text-align: right;\n",
       "    }\n",
       "</style>\n",
       "<table border=\"1\" class=\"dataframe\">\n",
       "  <thead>\n",
       "    <tr style=\"text-align: right;\">\n",
       "      <th></th>\n",
       "      <th>time</th>\n",
       "      <th>Common Setpoint</th>\n",
       "      <th>Actual Sup Flow SP</th>\n",
       "      <th>Zone Temperature</th>\n",
       "      <th>Actual Supply Flow</th>\n",
       "      <th>energy</th>\n",
       "      <th>Outside Air Temp</th>\n",
       "      <th>Humidity</th>\n",
       "      <th>Zone Temperature Next</th>\n",
       "      <th>Actual Supply Flow Next</th>\n",
       "      <th>Outside Air Temp Next</th>\n",
       "      <th>Humidity Next</th>\n",
       "      <th>energy Next</th>\n",
       "    </tr>\n",
       "  </thead>\n",
       "  <tbody>\n",
       "    <tr>\n",
       "      <th>0</th>\n",
       "      <td>2018-07-05T00:58:48+00:00</td>\n",
       "      <td>72.0</td>\n",
       "      <td>295.0</td>\n",
       "      <td>73.75</td>\n",
       "      <td>287.56</td>\n",
       "      <td>9.067059</td>\n",
       "      <td>68.88</td>\n",
       "      <td>53.0</td>\n",
       "      <td>73.75</td>\n",
       "      <td>289.97</td>\n",
       "      <td>69.31</td>\n",
       "      <td>53.0</td>\n",
       "      <td>9.104582</td>\n",
       "    </tr>\n",
       "    <tr>\n",
       "      <th>1</th>\n",
       "      <td>2018-07-05T01:04:13+00:00</td>\n",
       "      <td>72.0</td>\n",
       "      <td>295.0</td>\n",
       "      <td>73.75</td>\n",
       "      <td>289.97</td>\n",
       "      <td>9.104582</td>\n",
       "      <td>69.31</td>\n",
       "      <td>53.0</td>\n",
       "      <td>73.75</td>\n",
       "      <td>291.17</td>\n",
       "      <td>68.88</td>\n",
       "      <td>53.0</td>\n",
       "      <td>9.377247</td>\n",
       "    </tr>\n",
       "    <tr>\n",
       "      <th>2</th>\n",
       "      <td>2018-07-05T01:09:37+00:00</td>\n",
       "      <td>72.0</td>\n",
       "      <td>295.0</td>\n",
       "      <td>73.75</td>\n",
       "      <td>291.17</td>\n",
       "      <td>9.377247</td>\n",
       "      <td>68.88</td>\n",
       "      <td>53.0</td>\n",
       "      <td>73.75</td>\n",
       "      <td>299.89</td>\n",
       "      <td>68.94</td>\n",
       "      <td>53.0</td>\n",
       "      <td>9.147068</td>\n",
       "    </tr>\n",
       "    <tr>\n",
       "      <th>3</th>\n",
       "      <td>2018-07-05T01:15:17+00:00</td>\n",
       "      <td>72.0</td>\n",
       "      <td>295.0</td>\n",
       "      <td>73.75</td>\n",
       "      <td>299.89</td>\n",
       "      <td>9.147068</td>\n",
       "      <td>68.94</td>\n",
       "      <td>53.0</td>\n",
       "      <td>73.75</td>\n",
       "      <td>294.97</td>\n",
       "      <td>69.13</td>\n",
       "      <td>53.0</td>\n",
       "      <td>9.198235</td>\n",
       "    </tr>\n",
       "    <tr>\n",
       "      <th>4</th>\n",
       "      <td>2018-07-05T01:20:55+00:00</td>\n",
       "      <td>72.0</td>\n",
       "      <td>295.0</td>\n",
       "      <td>73.75</td>\n",
       "      <td>294.97</td>\n",
       "      <td>9.198235</td>\n",
       "      <td>69.13</td>\n",
       "      <td>53.0</td>\n",
       "      <td>73.75</td>\n",
       "      <td>296.62</td>\n",
       "      <td>68.94</td>\n",
       "      <td>53.0</td>\n",
       "      <td>9.212810</td>\n",
       "    </tr>\n",
       "  </tbody>\n",
       "</table>\n",
       "</div>"
      ],
      "text/plain": [
       "                        time  Common Setpoint  Actual Sup Flow SP  \\\n",
       "0  2018-07-05T00:58:48+00:00             72.0               295.0   \n",
       "1  2018-07-05T01:04:13+00:00             72.0               295.0   \n",
       "2  2018-07-05T01:09:37+00:00             72.0               295.0   \n",
       "3  2018-07-05T01:15:17+00:00             72.0               295.0   \n",
       "4  2018-07-05T01:20:55+00:00             72.0               295.0   \n",
       "\n",
       "   Zone Temperature  Actual Supply Flow    energy  Outside Air Temp  Humidity  \\\n",
       "0             73.75              287.56  9.067059             68.88      53.0   \n",
       "1             73.75              289.97  9.104582             69.31      53.0   \n",
       "2             73.75              291.17  9.377247             68.88      53.0   \n",
       "3             73.75              299.89  9.147068             68.94      53.0   \n",
       "4             73.75              294.97  9.198235             69.13      53.0   \n",
       "\n",
       "   Zone Temperature Next  Actual Supply Flow Next  Outside Air Temp Next  \\\n",
       "0                  73.75                   289.97                  69.31   \n",
       "1                  73.75                   291.17                  68.88   \n",
       "2                  73.75                   299.89                  68.94   \n",
       "3                  73.75                   294.97                  69.13   \n",
       "4                  73.75                   296.62                  68.94   \n",
       "\n",
       "   Humidity Next  energy Next  \n",
       "0           53.0     9.104582  \n",
       "1           53.0     9.377247  \n",
       "2           53.0     9.147068  \n",
       "3           53.0     9.198235  \n",
       "4           53.0     9.212810  "
      ]
     },
     "execution_count": 14,
     "metadata": {},
     "output_type": "execute_result"
    }
   ],
   "source": [
    "floor_3.head(5)"
   ]
  },
  {
   "cell_type": "code",
   "execution_count": 15,
   "id": "f878eb70",
   "metadata": {},
   "outputs": [],
   "source": [
    "floor_4 = floor_4.drop(['Unnamed: 0.1'], axis = 1)"
   ]
  },
  {
   "cell_type": "code",
   "execution_count": 16,
   "id": "4422de93",
   "metadata": {},
   "outputs": [
    {
     "data": {
      "text/html": [
       "<div>\n",
       "<style scoped>\n",
       "    .dataframe tbody tr th:only-of-type {\n",
       "        vertical-align: middle;\n",
       "    }\n",
       "\n",
       "    .dataframe tbody tr th {\n",
       "        vertical-align: top;\n",
       "    }\n",
       "\n",
       "    .dataframe thead th {\n",
       "        text-align: right;\n",
       "    }\n",
       "</style>\n",
       "<table border=\"1\" class=\"dataframe\">\n",
       "  <thead>\n",
       "    <tr style=\"text-align: right;\">\n",
       "      <th></th>\n",
       "      <th>time</th>\n",
       "      <th>Common Setpoint</th>\n",
       "      <th>Actual Sup Flow SP</th>\n",
       "      <th>Zone Temperature</th>\n",
       "      <th>Actual Supply Flow</th>\n",
       "      <th>energy</th>\n",
       "      <th>Outside Air Temp</th>\n",
       "      <th>Humidity</th>\n",
       "      <th>Zone Temperature Next</th>\n",
       "      <th>Actual Supply Flow Next</th>\n",
       "      <th>Outside Air Temp Next</th>\n",
       "      <th>Humidity Next</th>\n",
       "      <th>energy Next</th>\n",
       "    </tr>\n",
       "  </thead>\n",
       "  <tbody>\n",
       "    <tr>\n",
       "      <th>0</th>\n",
       "      <td>2018-09-23T22:59:39+00:00</td>\n",
       "      <td>72.0</td>\n",
       "      <td>722.73</td>\n",
       "      <td>75.25</td>\n",
       "      <td>733.46</td>\n",
       "      <td>23.554224</td>\n",
       "      <td>71.31</td>\n",
       "      <td>53.0</td>\n",
       "      <td>74.74</td>\n",
       "      <td>692.03</td>\n",
       "      <td>71.19</td>\n",
       "      <td>53.0</td>\n",
       "      <td>22.261861</td>\n",
       "    </tr>\n",
       "    <tr>\n",
       "      <th>1</th>\n",
       "      <td>2018-09-23T23:06:38+00:00</td>\n",
       "      <td>72.0</td>\n",
       "      <td>661.39</td>\n",
       "      <td>74.74</td>\n",
       "      <td>692.03</td>\n",
       "      <td>22.261861</td>\n",
       "      <td>71.19</td>\n",
       "      <td>53.0</td>\n",
       "      <td>74.74</td>\n",
       "      <td>654.06</td>\n",
       "      <td>71.19</td>\n",
       "      <td>53.0</td>\n",
       "      <td>19.471076</td>\n",
       "    </tr>\n",
       "    <tr>\n",
       "      <th>2</th>\n",
       "      <td>2018-09-23T23:13:38+00:00</td>\n",
       "      <td>72.0</td>\n",
       "      <td>624.95</td>\n",
       "      <td>74.74</td>\n",
       "      <td>654.06</td>\n",
       "      <td>19.471076</td>\n",
       "      <td>71.19</td>\n",
       "      <td>53.0</td>\n",
       "      <td>74.24</td>\n",
       "      <td>576.94</td>\n",
       "      <td>70.94</td>\n",
       "      <td>53.0</td>\n",
       "      <td>18.861571</td>\n",
       "    </tr>\n",
       "    <tr>\n",
       "      <th>3</th>\n",
       "      <td>2018-09-23T23:20:38+00:00</td>\n",
       "      <td>72.0</td>\n",
       "      <td>562.05</td>\n",
       "      <td>74.24</td>\n",
       "      <td>576.94</td>\n",
       "      <td>18.861571</td>\n",
       "      <td>70.94</td>\n",
       "      <td>53.0</td>\n",
       "      <td>74.24</td>\n",
       "      <td>558.88</td>\n",
       "      <td>70.94</td>\n",
       "      <td>53.0</td>\n",
       "      <td>17.087055</td>\n",
       "    </tr>\n",
       "    <tr>\n",
       "      <th>4</th>\n",
       "      <td>2018-09-23T23:27:37+00:00</td>\n",
       "      <td>72.0</td>\n",
       "      <td>532.93</td>\n",
       "      <td>74.24</td>\n",
       "      <td>558.88</td>\n",
       "      <td>17.087055</td>\n",
       "      <td>70.94</td>\n",
       "      <td>53.0</td>\n",
       "      <td>74.24</td>\n",
       "      <td>506.30</td>\n",
       "      <td>70.81</td>\n",
       "      <td>53.0</td>\n",
       "      <td>16.212959</td>\n",
       "    </tr>\n",
       "  </tbody>\n",
       "</table>\n",
       "</div>"
      ],
      "text/plain": [
       "                        time  Common Setpoint  Actual Sup Flow SP  \\\n",
       "0  2018-09-23T22:59:39+00:00             72.0              722.73   \n",
       "1  2018-09-23T23:06:38+00:00             72.0              661.39   \n",
       "2  2018-09-23T23:13:38+00:00             72.0              624.95   \n",
       "3  2018-09-23T23:20:38+00:00             72.0              562.05   \n",
       "4  2018-09-23T23:27:37+00:00             72.0              532.93   \n",
       "\n",
       "   Zone Temperature  Actual Supply Flow     energy  Outside Air Temp  \\\n",
       "0             75.25              733.46  23.554224             71.31   \n",
       "1             74.74              692.03  22.261861             71.19   \n",
       "2             74.74              654.06  19.471076             71.19   \n",
       "3             74.24              576.94  18.861571             70.94   \n",
       "4             74.24              558.88  17.087055             70.94   \n",
       "\n",
       "   Humidity  Zone Temperature Next  Actual Supply Flow Next  \\\n",
       "0      53.0                  74.74                   692.03   \n",
       "1      53.0                  74.74                   654.06   \n",
       "2      53.0                  74.24                   576.94   \n",
       "3      53.0                  74.24                   558.88   \n",
       "4      53.0                  74.24                   506.30   \n",
       "\n",
       "   Outside Air Temp Next  Humidity Next  energy Next  \n",
       "0                  71.19           53.0    22.261861  \n",
       "1                  71.19           53.0    19.471076  \n",
       "2                  70.94           53.0    18.861571  \n",
       "3                  70.94           53.0    17.087055  \n",
       "4                  70.81           53.0    16.212959  "
      ]
     },
     "execution_count": 16,
     "metadata": {},
     "output_type": "execute_result"
    }
   ],
   "source": [
    "floor_4.head(5)"
   ]
  },
  {
   "cell_type": "code",
   "execution_count": 17,
   "id": "c4b8ac10",
   "metadata": {},
   "outputs": [],
   "source": [
    "floor_2['floor'] = 2\n",
    "floor_3['floor'] = 3\n",
    "floor_4['floor'] = 4"
   ]
  },
  {
   "cell_type": "code",
   "execution_count": 18,
   "id": "0e30d71c",
   "metadata": {},
   "outputs": [],
   "source": [
    "# ignoring Will's zone number code\n",
    "\n",
    "combined_floors = pd.concat([floor_2, floor_3, floor_4]).reset_index(drop = True)\n"
   ]
  },
  {
   "cell_type": "code",
   "execution_count": 11,
   "id": "d6462ca0",
   "metadata": {},
   "outputs": [
    {
     "data": {
      "text/html": [
       "<div>\n",
       "<style scoped>\n",
       "    .dataframe tbody tr th:only-of-type {\n",
       "        vertical-align: middle;\n",
       "    }\n",
       "\n",
       "    .dataframe tbody tr th {\n",
       "        vertical-align: top;\n",
       "    }\n",
       "\n",
       "    .dataframe thead th {\n",
       "        text-align: right;\n",
       "    }\n",
       "</style>\n",
       "<table border=\"1\" class=\"dataframe\">\n",
       "  <thead>\n",
       "    <tr style=\"text-align: right;\">\n",
       "      <th></th>\n",
       "      <th>Zone Num</th>\n",
       "      <th>time</th>\n",
       "      <th>Common Setpoint</th>\n",
       "      <th>Actual Sup Flow SP</th>\n",
       "      <th>Zone Temperature</th>\n",
       "      <th>Actual Supply Flow</th>\n",
       "      <th>energy</th>\n",
       "      <th>Outside Air Temp</th>\n",
       "      <th>Humidity</th>\n",
       "      <th>Zone Temperature Next</th>\n",
       "      <th>Actual Supply Flow Next</th>\n",
       "      <th>Outside Air Temp Next</th>\n",
       "      <th>Humidity Next</th>\n",
       "      <th>energy Next</th>\n",
       "      <th>floor</th>\n",
       "    </tr>\n",
       "  </thead>\n",
       "  <tbody>\n",
       "    <tr>\n",
       "      <th>0</th>\n",
       "      <td>0</td>\n",
       "      <td>2018-01-03T20:57:39+00:00</td>\n",
       "      <td>72.5</td>\n",
       "      <td>330.0</td>\n",
       "      <td>75.2</td>\n",
       "      <td>318.73</td>\n",
       "      <td>10.109642</td>\n",
       "      <td>68.44</td>\n",
       "      <td>56.0</td>\n",
       "      <td>75.2</td>\n",
       "      <td>317.06</td>\n",
       "      <td>68.50</td>\n",
       "      <td>56.0</td>\n",
       "      <td>10.113301</td>\n",
       "      <td>2</td>\n",
       "    </tr>\n",
       "    <tr>\n",
       "      <th>1</th>\n",
       "      <td>1</td>\n",
       "      <td>2018-01-03T21:04:13+00:00</td>\n",
       "      <td>72.5</td>\n",
       "      <td>330.0</td>\n",
       "      <td>75.2</td>\n",
       "      <td>317.06</td>\n",
       "      <td>10.113301</td>\n",
       "      <td>68.50</td>\n",
       "      <td>56.0</td>\n",
       "      <td>75.7</td>\n",
       "      <td>314.34</td>\n",
       "      <td>68.25</td>\n",
       "      <td>56.0</td>\n",
       "      <td>10.099466</td>\n",
       "      <td>2</td>\n",
       "    </tr>\n",
       "    <tr>\n",
       "      <th>2</th>\n",
       "      <td>2</td>\n",
       "      <td>2018-01-03T21:10:44+00:00</td>\n",
       "      <td>72.5</td>\n",
       "      <td>330.0</td>\n",
       "      <td>75.7</td>\n",
       "      <td>314.34</td>\n",
       "      <td>10.099466</td>\n",
       "      <td>68.25</td>\n",
       "      <td>56.0</td>\n",
       "      <td>75.7</td>\n",
       "      <td>313.91</td>\n",
       "      <td>68.31</td>\n",
       "      <td>56.0</td>\n",
       "      <td>10.241028</td>\n",
       "      <td>2</td>\n",
       "    </tr>\n",
       "    <tr>\n",
       "      <th>3</th>\n",
       "      <td>3</td>\n",
       "      <td>2018-01-03T21:17:16+00:00</td>\n",
       "      <td>72.5</td>\n",
       "      <td>330.0</td>\n",
       "      <td>75.7</td>\n",
       "      <td>313.91</td>\n",
       "      <td>10.241028</td>\n",
       "      <td>68.31</td>\n",
       "      <td>56.0</td>\n",
       "      <td>75.7</td>\n",
       "      <td>318.31</td>\n",
       "      <td>68.44</td>\n",
       "      <td>57.0</td>\n",
       "      <td>10.187620</td>\n",
       "      <td>2</td>\n",
       "    </tr>\n",
       "    <tr>\n",
       "      <th>4</th>\n",
       "      <td>4</td>\n",
       "      <td>2018-01-03T21:23:44+00:00</td>\n",
       "      <td>72.5</td>\n",
       "      <td>330.0</td>\n",
       "      <td>75.7</td>\n",
       "      <td>318.31</td>\n",
       "      <td>10.187620</td>\n",
       "      <td>68.44</td>\n",
       "      <td>57.0</td>\n",
       "      <td>75.7</td>\n",
       "      <td>316.65</td>\n",
       "      <td>68.81</td>\n",
       "      <td>57.0</td>\n",
       "      <td>10.194055</td>\n",
       "      <td>2</td>\n",
       "    </tr>\n",
       "  </tbody>\n",
       "</table>\n",
       "</div>"
      ],
      "text/plain": [
       "   Zone Num                       time  Common Setpoint  Actual Sup Flow SP  \\\n",
       "0         0  2018-01-03T20:57:39+00:00             72.5               330.0   \n",
       "1         1  2018-01-03T21:04:13+00:00             72.5               330.0   \n",
       "2         2  2018-01-03T21:10:44+00:00             72.5               330.0   \n",
       "3         3  2018-01-03T21:17:16+00:00             72.5               330.0   \n",
       "4         4  2018-01-03T21:23:44+00:00             72.5               330.0   \n",
       "\n",
       "   Zone Temperature  Actual Supply Flow     energy  Outside Air Temp  \\\n",
       "0              75.2              318.73  10.109642             68.44   \n",
       "1              75.2              317.06  10.113301             68.50   \n",
       "2              75.7              314.34  10.099466             68.25   \n",
       "3              75.7              313.91  10.241028             68.31   \n",
       "4              75.7              318.31  10.187620             68.44   \n",
       "\n",
       "   Humidity  Zone Temperature Next  Actual Supply Flow Next  \\\n",
       "0      56.0                   75.2                   317.06   \n",
       "1      56.0                   75.7                   314.34   \n",
       "2      56.0                   75.7                   313.91   \n",
       "3      56.0                   75.7                   318.31   \n",
       "4      57.0                   75.7                   316.65   \n",
       "\n",
       "   Outside Air Temp Next  Humidity Next  energy Next  floor  \n",
       "0                  68.50           56.0    10.113301      2  \n",
       "1                  68.25           56.0    10.099466      2  \n",
       "2                  68.31           56.0    10.241028      2  \n",
       "3                  68.44           57.0    10.187620      2  \n",
       "4                  68.81           57.0    10.194055      2  "
      ]
     },
     "execution_count": 11,
     "metadata": {},
     "output_type": "execute_result"
    }
   ],
   "source": [
    "combined_floors.head(5)"
   ]
  },
  {
   "cell_type": "code",
   "execution_count": 20,
   "id": "e253b964",
   "metadata": {},
   "outputs": [],
   "source": [
    "combined_floors['time_transformed'] = combined_floors['time'].apply(lambda x: pd.Timestamp(x))"
   ]
  },
  {
   "cell_type": "code",
   "execution_count": 40,
   "id": "e836177d",
   "metadata": {},
   "outputs": [
    {
     "data": {
      "text/plain": [
       "<AxesSubplot:>"
      ]
     },
     "execution_count": 40,
     "metadata": {},
     "output_type": "execute_result"
    },
    {
     "data": {
      "image/png": "[encoded data removed]",
      "text/plain": [
       "<Figure size 432x288 with 1 Axes>"
      ]
     },
     "metadata": {
      "needs_background": "light"
     },
     "output_type": "display_data"
    }
   ],
   "source": [
    "combined_floors['Common Setpoint'].hist()"
   ]
  },
  {
   "cell_type": "code",
   "execution_count": 41,
   "id": "e0843380",
   "metadata": {},
   "outputs": [
    {
     "data": {
      "text/plain": [
       "<AxesSubplot:>"
      ]
     },
     "execution_count": 41,
     "metadata": {},
     "output_type": "execute_result"
    },
    {
     "data": {
      "image/png": "[encoded data removed]",
      "text/plain": [
       "<Figure size 432x288 with 1 Axes>"
      ]
     },
     "metadata": {
      "needs_background": "light"
     },
     "output_type": "display_data"
    }
   ],
   "source": [
    "combined_floors['Actual Sup Flow SP'].hist()"
   ]
  },
  {
   "cell_type": "code",
   "execution_count": 42,
   "id": "4d038d91",
   "metadata": {},
   "outputs": [
    {
     "data": {
      "text/plain": [
       "<AxesSubplot:>"
      ]
     },
     "execution_count": 42,
     "metadata": {},
     "output_type": "execute_result"
    },
    {
     "data": {
      "image/png": "[encoded data removed]",
      "text/plain": [
       "<Figure size 432x288 with 1 Axes>"
      ]
     },
     "metadata": {
      "needs_background": "light"
     },
     "output_type": "display_data"
    }
   ],
   "source": [
    "combined_floors['Zone Temperature'].hist()"
   ]
  },
  {
   "cell_type": "code",
   "execution_count": 47,
   "id": "436cfc25",
   "metadata": {},
   "outputs": [
    {
     "data": {
      "text/plain": [
       "<AxesSubplot:>"
      ]
     },
     "execution_count": 47,
     "metadata": {},
     "output_type": "execute_result"
    },
    {
     "data": {
      "image/png": "[encoded data removed]",
      "text/plain": [
       "<Figure size 432x288 with 1 Axes>"
      ]
     },
     "metadata": {
      "needs_background": "light"
     },
     "output_type": "display_data"
    }
   ],
   "source": [
    "combined_floors['Zone Temperature Next'].hist()"
   ]
  },
  {
   "cell_type": "code",
   "execution_count": 43,
   "id": "9009192d",
   "metadata": {},
   "outputs": [
    {
     "data": {
      "text/plain": [
       "<AxesSubplot:>"
      ]
     },
     "execution_count": 43,
     "metadata": {},
     "output_type": "execute_result"
    },
    {
     "data": {
      "image/png": "[encoded data removed]",
      "text/plain": [
       "<Figure size 432x288 with 1 Axes>"
      ]
     },
     "metadata": {
      "needs_background": "light"
     },
     "output_type": "display_data"
    }
   ],
   "source": [
    "combined_floors['Actual Supply Flow'].hist()"
   ]
  },
  {
   "cell_type": "code",
   "execution_count": 48,
   "id": "7e052bdb",
   "metadata": {},
   "outputs": [
    {
     "data": {
      "text/plain": [
       "<AxesSubplot:>"
      ]
     },
     "execution_count": 48,
     "metadata": {},
     "output_type": "execute_result"
    },
    {
     "data": {
      "image/png": "[encoded data removed]",
      "text/plain": [
       "<Figure size 432x288 with 1 Axes>"
      ]
     },
     "metadata": {
      "needs_background": "light"
     },
     "output_type": "display_data"
    }
   ],
   "source": [
    "combined_floors['Actual Supply Flow Next'].hist()"
   ]
  },
  {
   "cell_type": "code",
   "execution_count": 44,
   "id": "0a96d0fe",
   "metadata": {},
   "outputs": [
    {
     "data": {
      "text/plain": [
       "<AxesSubplot:>"
      ]
     },
     "execution_count": 44,
     "metadata": {},
     "output_type": "execute_result"
    },
    {
     "data": {
      "image/png": "[encoded data removed]",
      "text/plain": [
       "<Figure size 432x288 with 1 Axes>"
      ]
     },
     "metadata": {
      "needs_background": "light"
     },
     "output_type": "display_data"
    }
   ],
   "source": [
    "combined_floors['energy'].hist()"
   ]
  },
  {
   "cell_type": "code",
   "execution_count": 50,
   "id": "53221f73",
   "metadata": {},
   "outputs": [
    {
     "data": {
      "text/plain": [
       "<AxesSubplot:>"
      ]
     },
     "execution_count": 50,
     "metadata": {},
     "output_type": "execute_result"
    },
    {
     "data": {
      "image/png": "[encoded data removed]",
      "text/plain": [
       "<Figure size 432x288 with 1 Axes>"
      ]
     },
     "metadata": {
      "needs_background": "light"
     },
     "output_type": "display_data"
    }
   ],
   "source": [
    "combined_floors['energy Next'].hist()"
   ]
  },
  {
   "cell_type": "code",
   "execution_count": 45,
   "id": "70e3d63f",
   "metadata": {},
   "outputs": [
    {
     "data": {
      "text/plain": [
       "<AxesSubplot:>"
      ]
     },
     "execution_count": 45,
     "metadata": {},
     "output_type": "execute_result"
    },
    {
     "data": {
      "image/png": "[encoded data removed]",
      "text/plain": [
       "<Figure size 432x288 with 1 Axes>"
      ]
     },
     "metadata": {
      "needs_background": "light"
     },
     "output_type": "display_data"
    }
   ],
   "source": [
    "combined_floors['Outside Air Temp'].hist()"
   ]
  },
  {
   "cell_type": "code",
   "execution_count": 46,
   "id": "97b0e2ca",
   "metadata": {},
   "outputs": [
    {
     "data": {
      "text/plain": [
       "<AxesSubplot:>"
      ]
     },
     "execution_count": 46,
     "metadata": {},
     "output_type": "execute_result"
    },
    {
     "data": {
      "image/png": "[encoded data removed]",
      "text/plain": [
       "<Figure size 432x288 with 1 Axes>"
      ]
     },
     "metadata": {
      "needs_background": "light"
     },
     "output_type": "display_data"
    }
   ],
   "source": [
    "combined_floors['Humidity'].hist()"
   ]
  },
  {
   "cell_type": "code",
   "execution_count": 49,
   "id": "b682e941",
   "metadata": {},
   "outputs": [
    {
     "data": {
      "text/plain": [
       "<AxesSubplot:>"
      ]
     },
     "execution_count": 49,
     "metadata": {},
     "output_type": "execute_result"
    },
    {
     "data": {
      "image/png": "[encoded data removed]",
      "text/plain": [
       "<Figure size 432x288 with 1 Axes>"
      ]
     },
     "metadata": {
      "needs_background": "light"
     },
     "output_type": "display_data"
    }
   ],
   "source": [
    "combined_floors['Humidity Next'].hist()"
   ]
  },
  {
   "cell_type": "code",
   "execution_count": 12,
   "id": "ebc0cbb4",
   "metadata": {},
   "outputs": [
    {
     "data": {
      "text/html": [
       "<div>\n",
       "<style scoped>\n",
       "    .dataframe tbody tr th:only-of-type {\n",
       "        vertical-align: middle;\n",
       "    }\n",
       "\n",
       "    .dataframe tbody tr th {\n",
       "        vertical-align: top;\n",
       "    }\n",
       "\n",
       "    .dataframe thead th {\n",
       "        text-align: right;\n",
       "    }\n",
       "</style>\n",
       "<table border=\"1\" class=\"dataframe\">\n",
       "  <thead>\n",
       "    <tr style=\"text-align: right;\">\n",
       "      <th></th>\n",
       "      <th>Zone Num</th>\n",
       "      <th>Common Setpoint</th>\n",
       "      <th>Actual Sup Flow SP</th>\n",
       "      <th>Zone Temperature</th>\n",
       "      <th>Actual Supply Flow</th>\n",
       "      <th>energy</th>\n",
       "      <th>Outside Air Temp</th>\n",
       "      <th>Humidity</th>\n",
       "      <th>Zone Temperature Next</th>\n",
       "      <th>Actual Supply Flow Next</th>\n",
       "      <th>Outside Air Temp Next</th>\n",
       "      <th>Humidity Next</th>\n",
       "      <th>energy Next</th>\n",
       "      <th>floor</th>\n",
       "    </tr>\n",
       "  </thead>\n",
       "  <tbody>\n",
       "    <tr>\n",
       "      <th>count</th>\n",
       "      <td>625677.000000</td>\n",
       "      <td>625677.000000</td>\n",
       "      <td>625677.000000</td>\n",
       "      <td>625677.000000</td>\n",
       "      <td>625677.000000</td>\n",
       "      <td>625677.000000</td>\n",
       "      <td>625677.000000</td>\n",
       "      <td>625677.000000</td>\n",
       "      <td>625677.000000</td>\n",
       "      <td>625677.000000</td>\n",
       "      <td>625677.000000</td>\n",
       "      <td>625677.000000</td>\n",
       "      <td>625677.000000</td>\n",
       "      <td>625677.000000</td>\n",
       "    </tr>\n",
       "    <tr>\n",
       "      <th>mean</th>\n",
       "      <td>222.267843</td>\n",
       "      <td>71.971029</td>\n",
       "      <td>281.969986</td>\n",
       "      <td>73.828747</td>\n",
       "      <td>286.652997</td>\n",
       "      <td>9.164442</td>\n",
       "      <td>65.607020</td>\n",
       "      <td>51.057912</td>\n",
       "      <td>73.828808</td>\n",
       "      <td>286.703274</td>\n",
       "      <td>65.607396</td>\n",
       "      <td>51.057221</td>\n",
       "      <td>9.166164</td>\n",
       "      <td>2.858858</td>\n",
       "    </tr>\n",
       "    <tr>\n",
       "      <th>std</th>\n",
       "      <td>134.384157</td>\n",
       "      <td>1.188391</td>\n",
       "      <td>285.399386</td>\n",
       "      <td>2.129463</td>\n",
       "      <td>278.804106</td>\n",
       "      <td>8.934812</td>\n",
       "      <td>6.870336</td>\n",
       "      <td>7.754473</td>\n",
       "      <td>2.129505</td>\n",
       "      <td>278.799565</td>\n",
       "      <td>6.870556</td>\n",
       "      <td>7.754866</td>\n",
       "      <td>8.935167</td>\n",
       "      <td>0.819037</td>\n",
       "    </tr>\n",
       "    <tr>\n",
       "      <th>min</th>\n",
       "      <td>0.000000</td>\n",
       "      <td>68.000000</td>\n",
       "      <td>0.000000</td>\n",
       "      <td>66.160000</td>\n",
       "      <td>0.000000</td>\n",
       "      <td>0.000000</td>\n",
       "      <td>43.280000</td>\n",
       "      <td>33.000000</td>\n",
       "      <td>66.160000</td>\n",
       "      <td>0.000000</td>\n",
       "      <td>43.280000</td>\n",
       "      <td>33.000000</td>\n",
       "      <td>0.000000</td>\n",
       "      <td>2.000000</td>\n",
       "    </tr>\n",
       "    <tr>\n",
       "      <th>25%</th>\n",
       "      <td>108.000000</td>\n",
       "      <td>72.000000</td>\n",
       "      <td>0.000000</td>\n",
       "      <td>72.290000</td>\n",
       "      <td>28.660000</td>\n",
       "      <td>0.908500</td>\n",
       "      <td>60.630000</td>\n",
       "      <td>48.000000</td>\n",
       "      <td>72.290000</td>\n",
       "      <td>28.660000</td>\n",
       "      <td>60.630000</td>\n",
       "      <td>48.000000</td>\n",
       "      <td>0.909160</td>\n",
       "      <td>2.000000</td>\n",
       "    </tr>\n",
       "    <tr>\n",
       "      <th>50%</th>\n",
       "      <td>218.000000</td>\n",
       "      <td>72.000000</td>\n",
       "      <td>295.000000</td>\n",
       "      <td>73.720000</td>\n",
       "      <td>295.240000</td>\n",
       "      <td>9.208460</td>\n",
       "      <td>65.810000</td>\n",
       "      <td>53.000000</td>\n",
       "      <td>73.720000</td>\n",
       "      <td>295.240000</td>\n",
       "      <td>65.810000</td>\n",
       "      <td>53.000000</td>\n",
       "      <td>9.209501</td>\n",
       "      <td>3.000000</td>\n",
       "    </tr>\n",
       "    <tr>\n",
       "      <th>75%</th>\n",
       "      <td>328.000000</td>\n",
       "      <td>73.000000</td>\n",
       "      <td>396.100000</td>\n",
       "      <td>75.340000</td>\n",
       "      <td>392.920000</td>\n",
       "      <td>12.390437</td>\n",
       "      <td>70.310000</td>\n",
       "      <td>57.000000</td>\n",
       "      <td>75.340000</td>\n",
       "      <td>393.030000</td>\n",
       "      <td>70.310000</td>\n",
       "      <td>57.000000</td>\n",
       "      <td>12.392090</td>\n",
       "      <td>4.000000</td>\n",
       "    </tr>\n",
       "    <tr>\n",
       "      <th>max</th>\n",
       "      <td>594.000000</td>\n",
       "      <td>75.000000</td>\n",
       "      <td>1085.000000</td>\n",
       "      <td>84.320000</td>\n",
       "      <td>1255.420000</td>\n",
       "      <td>49.165584</td>\n",
       "      <td>97.130000</td>\n",
       "      <td>64.000000</td>\n",
       "      <td>84.320000</td>\n",
       "      <td>1255.420000</td>\n",
       "      <td>97.130000</td>\n",
       "      <td>64.000000</td>\n",
       "      <td>49.165584</td>\n",
       "      <td>4.000000</td>\n",
       "    </tr>\n",
       "  </tbody>\n",
       "</table>\n",
       "</div>"
      ],
      "text/plain": [
       "            Zone Num  Common Setpoint  Actual Sup Flow SP  Zone Temperature  \\\n",
       "count  625677.000000    625677.000000       625677.000000     625677.000000   \n",
       "mean      222.267843        71.971029          281.969986         73.828747   \n",
       "std       134.384157         1.188391          285.399386          2.129463   \n",
       "min         0.000000        68.000000            0.000000         66.160000   \n",
       "25%       108.000000        72.000000            0.000000         72.290000   \n",
       "50%       218.000000        72.000000          295.000000         73.720000   \n",
       "75%       328.000000        73.000000          396.100000         75.340000   \n",
       "max       594.000000        75.000000         1085.000000         84.320000   \n",
       "\n",
       "       Actual Supply Flow         energy  Outside Air Temp       Humidity  \\\n",
       "count       625677.000000  625677.000000     625677.000000  625677.000000   \n",
       "mean           286.652997       9.164442         65.607020      51.057912   \n",
       "std            278.804106       8.934812          6.870336       7.754473   \n",
       "min              0.000000       0.000000         43.280000      33.000000   \n",
       "25%             28.660000       0.908500         60.630000      48.000000   \n",
       "50%            295.240000       9.208460         65.810000      53.000000   \n",
       "75%            392.920000      12.390437         70.310000      57.000000   \n",
       "max           1255.420000      49.165584         97.130000      64.000000   \n",
       "\n",
       "       Zone Temperature Next  Actual Supply Flow Next  Outside Air Temp Next  \\\n",
       "count          625677.000000            625677.000000          625677.000000   \n",
       "mean               73.828808               286.703274              65.607396   \n",
       "std                 2.129505               278.799565               6.870556   \n",
       "min                66.160000                 0.000000              43.280000   \n",
       "25%                72.290000                28.660000              60.630000   \n",
       "50%                73.720000               295.240000              65.810000   \n",
       "75%                75.340000               393.030000              70.310000   \n",
       "max                84.320000              1255.420000              97.130000   \n",
       "\n",
       "       Humidity Next    energy Next          floor  \n",
       "count  625677.000000  625677.000000  625677.000000  \n",
       "mean       51.057221       9.166164       2.858858  \n",
       "std         7.754866       8.935167       0.819037  \n",
       "min        33.000000       0.000000       2.000000  \n",
       "25%        48.000000       0.909160       2.000000  \n",
       "50%        53.000000       9.209501       3.000000  \n",
       "75%        57.000000      12.392090       4.000000  \n",
       "max        64.000000      49.165584       4.000000  "
      ]
     },
     "execution_count": 12,
     "metadata": {},
     "output_type": "execute_result"
    }
   ],
   "source": [
    "combined_floors.describe()"
   ]
  },
  {
   "cell_type": "code",
   "execution_count": 52,
   "id": "d8a54821",
   "metadata": {},
   "outputs": [
    {
     "data": {
      "text/plain": [
       "(625677, 15)"
      ]
     },
     "execution_count": 52,
     "metadata": {},
     "output_type": "execute_result"
    }
   ],
   "source": [
    "combined_floors.shape"
   ]
  },
  {
   "cell_type": "code",
   "execution_count": 14,
   "id": "c5cd44d9",
   "metadata": {},
   "outputs": [],
   "source": [
    "combined_floors['year'] = combined_floors['time_transformed'].transform(lambda x: x.year)"
   ]
  },
  {
   "cell_type": "code",
   "execution_count": null,
   "id": "5b2674d7",
   "metadata": {},
   "outputs": [],
   "source": [
    "# has some data from 2019 ?"
   ]
  },
  {
   "cell_type": "code",
   "execution_count": 17,
   "id": "6ae3cdc8",
   "metadata": {},
   "outputs": [],
   "source": [
    "combined_floors['month'] = combined_floors['time_transformed'].transform(lambda x: x.month)"
   ]
  },
  {
   "cell_type": "code",
   "execution_count": 21,
   "id": "2283274a",
   "metadata": {},
   "outputs": [
    {
     "data": {
      "text/plain": [
       "12    133394\n",
       "11    105695\n",
       "9      76136\n",
       "7      70337\n",
       "10     60515\n",
       "1      55399\n",
       "6      52013\n",
       "8      47969\n",
       "2      24219\n",
       "Name: month, dtype: int64"
      ]
     },
     "execution_count": 21,
     "metadata": {},
     "output_type": "execute_result"
    }
   ],
   "source": [
    "combined_floors['month'].value_counts()\n",
    "# no values from March - May in any of the years ?"
   ]
  },
  {
   "cell_type": "code",
   "execution_count": 19,
   "id": "6a83fc42",
   "metadata": {},
   "outputs": [],
   "source": [
    "combined_floors['day'] = combined_floors['time_transformed'].transform(lambda x: x.day)"
   ]
  },
  {
   "cell_type": "code",
   "execution_count": 23,
   "id": "cbc4f5ec",
   "metadata": {},
   "outputs": [],
   "source": [
    "# all 31 days accounted for"
   ]
  },
  {
   "cell_type": "code",
   "execution_count": null,
   "id": "102f5fc7",
   "metadata": {},
   "outputs": [],
   "source": [
    "# data is supposed to be from July 2017 to the end of June 2018, so why do we have 2019? and why are may-march missing"
   ]
  },
  {
   "cell_type": "markdown",
   "id": "f3e18469",
   "metadata": {},
   "source": [
    "## NOAA Data"
   ]
  },
  {
   "cell_type": "code",
   "execution_count": 24,
   "id": "b17a7daa",
   "metadata": {},
   "outputs": [],
   "source": [
    "noaa_data = pd.read_csv('NOAA_data_LaJollaSD.csv')"
   ]
  },
  {
   "cell_type": "code",
   "execution_count": 25,
   "id": "b2dce949",
   "metadata": {},
   "outputs": [
    {
     "data": {
      "text/html": [
       "<div>\n",
       "<style scoped>\n",
       "    .dataframe tbody tr th:only-of-type {\n",
       "        vertical-align: middle;\n",
       "    }\n",
       "\n",
       "    .dataframe tbody tr th {\n",
       "        vertical-align: top;\n",
       "    }\n",
       "\n",
       "    .dataframe thead th {\n",
       "        text-align: right;\n",
       "    }\n",
       "</style>\n",
       "<table border=\"1\" class=\"dataframe\">\n",
       "  <thead>\n",
       "    <tr style=\"text-align: right;\">\n",
       "      <th></th>\n",
       "      <th>STATION</th>\n",
       "      <th>NAME</th>\n",
       "      <th>LATITUDE</th>\n",
       "      <th>LONGITUDE</th>\n",
       "      <th>ELEVATION</th>\n",
       "      <th>DATE</th>\n",
       "      <th>DAPR</th>\n",
       "      <th>DAPR_ATTRIBUTES</th>\n",
       "      <th>MDPR</th>\n",
       "      <th>MDPR_ATTRIBUTES</th>\n",
       "      <th>PRCP</th>\n",
       "      <th>PRCP_ATTRIBUTES</th>\n",
       "      <th>SNOW</th>\n",
       "      <th>SNOW_ATTRIBUTES</th>\n",
       "      <th>TMAX</th>\n",
       "      <th>TMAX_ATTRIBUTES</th>\n",
       "      <th>TMIN</th>\n",
       "      <th>TMIN_ATTRIBUTES</th>\n",
       "    </tr>\n",
       "  </thead>\n",
       "  <tbody>\n",
       "    <tr>\n",
       "      <th>0</th>\n",
       "      <td>US1CASD0015</td>\n",
       "      <td>LA JOLLA 2.5SE, CA US</td>\n",
       "      <td>32.825404</td>\n",
       "      <td>-117.239698</td>\n",
       "      <td>154.8</td>\n",
       "      <td>2017-01-01</td>\n",
       "      <td>NaN</td>\n",
       "      <td>NaN</td>\n",
       "      <td>NaN</td>\n",
       "      <td>NaN</td>\n",
       "      <td>0.68</td>\n",
       "      <td>,,N</td>\n",
       "      <td>NaN</td>\n",
       "      <td>NaN</td>\n",
       "      <td>NaN</td>\n",
       "      <td>NaN</td>\n",
       "      <td>NaN</td>\n",
       "      <td>NaN</td>\n",
       "    </tr>\n",
       "    <tr>\n",
       "      <th>1</th>\n",
       "      <td>US1CASD0015</td>\n",
       "      <td>LA JOLLA 2.5SE, CA US</td>\n",
       "      <td>32.825404</td>\n",
       "      <td>-117.239698</td>\n",
       "      <td>154.8</td>\n",
       "      <td>2017-01-02</td>\n",
       "      <td>NaN</td>\n",
       "      <td>NaN</td>\n",
       "      <td>NaN</td>\n",
       "      <td>NaN</td>\n",
       "      <td>0.00</td>\n",
       "      <td>,,N</td>\n",
       "      <td>0.0</td>\n",
       "      <td>,,N</td>\n",
       "      <td>NaN</td>\n",
       "      <td>NaN</td>\n",
       "      <td>NaN</td>\n",
       "      <td>NaN</td>\n",
       "    </tr>\n",
       "    <tr>\n",
       "      <th>2</th>\n",
       "      <td>US1CASD0015</td>\n",
       "      <td>LA JOLLA 2.5SE, CA US</td>\n",
       "      <td>32.825404</td>\n",
       "      <td>-117.239698</td>\n",
       "      <td>154.8</td>\n",
       "      <td>2017-01-03</td>\n",
       "      <td>NaN</td>\n",
       "      <td>NaN</td>\n",
       "      <td>NaN</td>\n",
       "      <td>NaN</td>\n",
       "      <td>0.00</td>\n",
       "      <td>,,N</td>\n",
       "      <td>0.0</td>\n",
       "      <td>,,N</td>\n",
       "      <td>NaN</td>\n",
       "      <td>NaN</td>\n",
       "      <td>NaN</td>\n",
       "      <td>NaN</td>\n",
       "    </tr>\n",
       "    <tr>\n",
       "      <th>3</th>\n",
       "      <td>US1CASD0015</td>\n",
       "      <td>LA JOLLA 2.5SE, CA US</td>\n",
       "      <td>32.825404</td>\n",
       "      <td>-117.239698</td>\n",
       "      <td>154.8</td>\n",
       "      <td>2017-01-04</td>\n",
       "      <td>NaN</td>\n",
       "      <td>NaN</td>\n",
       "      <td>NaN</td>\n",
       "      <td>NaN</td>\n",
       "      <td>0.00</td>\n",
       "      <td>,,N</td>\n",
       "      <td>0.0</td>\n",
       "      <td>,,N</td>\n",
       "      <td>NaN</td>\n",
       "      <td>NaN</td>\n",
       "      <td>NaN</td>\n",
       "      <td>NaN</td>\n",
       "    </tr>\n",
       "    <tr>\n",
       "      <th>4</th>\n",
       "      <td>US1CASD0015</td>\n",
       "      <td>LA JOLLA 2.5SE, CA US</td>\n",
       "      <td>32.825404</td>\n",
       "      <td>-117.239698</td>\n",
       "      <td>154.8</td>\n",
       "      <td>2017-01-05</td>\n",
       "      <td>NaN</td>\n",
       "      <td>NaN</td>\n",
       "      <td>NaN</td>\n",
       "      <td>NaN</td>\n",
       "      <td>0.00</td>\n",
       "      <td>,,N</td>\n",
       "      <td>0.0</td>\n",
       "      <td>,,N</td>\n",
       "      <td>NaN</td>\n",
       "      <td>NaN</td>\n",
       "      <td>NaN</td>\n",
       "      <td>NaN</td>\n",
       "    </tr>\n",
       "  </tbody>\n",
       "</table>\n",
       "</div>"
      ],
      "text/plain": [
       "       STATION                   NAME   LATITUDE   LONGITUDE  ELEVATION  \\\n",
       "0  US1CASD0015  LA JOLLA 2.5SE, CA US  32.825404 -117.239698      154.8   \n",
       "1  US1CASD0015  LA JOLLA 2.5SE, CA US  32.825404 -117.239698      154.8   \n",
       "2  US1CASD0015  LA JOLLA 2.5SE, CA US  32.825404 -117.239698      154.8   \n",
       "3  US1CASD0015  LA JOLLA 2.5SE, CA US  32.825404 -117.239698      154.8   \n",
       "4  US1CASD0015  LA JOLLA 2.5SE, CA US  32.825404 -117.239698      154.8   \n",
       "\n",
       "         DATE  DAPR DAPR_ATTRIBUTES  MDPR MDPR_ATTRIBUTES  PRCP  \\\n",
       "0  2017-01-01   NaN             NaN   NaN             NaN  0.68   \n",
       "1  2017-01-02   NaN             NaN   NaN             NaN  0.00   \n",
       "2  2017-01-03   NaN             NaN   NaN             NaN  0.00   \n",
       "3  2017-01-04   NaN             NaN   NaN             NaN  0.00   \n",
       "4  2017-01-05   NaN             NaN   NaN             NaN  0.00   \n",
       "\n",
       "  PRCP_ATTRIBUTES  SNOW SNOW_ATTRIBUTES  TMAX TMAX_ATTRIBUTES  TMIN  \\\n",
       "0             ,,N   NaN             NaN   NaN             NaN   NaN   \n",
       "1             ,,N   0.0             ,,N   NaN             NaN   NaN   \n",
       "2             ,,N   0.0             ,,N   NaN             NaN   NaN   \n",
       "3             ,,N   0.0             ,,N   NaN             NaN   NaN   \n",
       "4             ,,N   0.0             ,,N   NaN             NaN   NaN   \n",
       "\n",
       "  TMIN_ATTRIBUTES  \n",
       "0             NaN  \n",
       "1             NaN  \n",
       "2             NaN  \n",
       "3             NaN  \n",
       "4             NaN  "
      ]
     },
     "execution_count": 25,
     "metadata": {},
     "output_type": "execute_result"
    }
   ],
   "source": [
    "noaa_data.head(5)"
   ]
  },
  {
   "cell_type": "code",
   "execution_count": 26,
   "id": "1f40d5e0",
   "metadata": {},
   "outputs": [],
   "source": [
    "noaa_data['DATE_TRANSFORMED'] =  noaa_data['DATE'].apply(lambda x: pd.Timestamp(x).date())"
   ]
  },
  {
   "cell_type": "code",
   "execution_count": 30,
   "id": "5fc7c3dc",
   "metadata": {},
   "outputs": [
    {
     "data": {
      "text/plain": [
       "STATION             0.000000\n",
       "NAME                0.000000\n",
       "LATITUDE            0.000000\n",
       "LONGITUDE           0.000000\n",
       "ELEVATION           0.000000\n",
       "DATE                0.000000\n",
       "DAPR                0.998624\n",
       "DAPR_ATTRIBUTES     0.998624\n",
       "MDPR                0.998624\n",
       "MDPR_ATTRIBUTES     0.998624\n",
       "PRCP                0.001573\n",
       "PRCP_ATTRIBUTES     0.001573\n",
       "SNOW                0.559072\n",
       "SNOW_ATTRIBUTES     0.559072\n",
       "TMAX                0.647926\n",
       "TMAX_ATTRIBUTES     0.647926\n",
       "TMIN                0.648123\n",
       "TMIN_ATTRIBUTES     0.648123\n",
       "DATE_TRANSFORMED    0.000000\n",
       "dtype: float64"
      ]
     },
     "execution_count": 30,
     "metadata": {},
     "output_type": "execute_result"
    }
   ],
   "source": [
    "noaa_data.isna().sum() / len(noaa_data)"
   ]
  },
  {
   "cell_type": "code",
   "execution_count": 32,
   "id": "128de1b3",
   "metadata": {},
   "outputs": [
    {
     "data": {
      "text/plain": [
       "array(['LA JOLLA 2.5SE, CA US', 'LA JOLLA 2.1 SE, CA US',\n",
       "       'SAN DIEGO SEAWORLD, CA US'], dtype=object)"
      ]
     },
     "execution_count": 32,
     "metadata": {},
     "output_type": "execute_result"
    }
   ],
   "source": [
    "noaa_data['NAME'].unique()"
   ]
  },
  {
   "cell_type": "code",
   "execution_count": null,
   "id": "740a8dbb",
   "metadata": {},
   "outputs": [],
   "source": [
    "# I made a data request for La Jolla & for San Diego - La Jolla gets us precipitation, but San Diego seaworld was one of the closest zipcodes I could find that has thaat\n",
    "\n"
   ]
  },
  {
   "cell_type": "code",
   "execution_count": 33,
   "id": "3f509f71",
   "metadata": {},
   "outputs": [],
   "source": [
    "# segment by station:\n",
    "lajolla_2_5 = noaa_data.loc[noaa_data['NAME'] == 'LA JOLLA 2.5SE, CA US', :]\n",
    "lajolla_2_1 = noaa_data.loc[noaa_data['NAME'] == 'LA JOLLA 2.1 SE, CA US', :]\n",
    "sd_seaworld = noaa_data.loc[noaa_data['NAME'] == 'SAN DIEGO SEAWORLD, CA US', :]"
   ]
  },
  {
   "cell_type": "code",
   "execution_count": 36,
   "id": "2d99d48e",
   "metadata": {},
   "outputs": [
    {
     "data": {
      "text/plain": [
       "STATION             0.000000\n",
       "NAME                0.000000\n",
       "LATITUDE            0.000000\n",
       "LONGITUDE           0.000000\n",
       "ELEVATION           0.000000\n",
       "DATE                0.000000\n",
       "DAPR                0.998654\n",
       "DAPR_ATTRIBUTES     0.998654\n",
       "MDPR                0.998654\n",
       "MDPR_ATTRIBUTES     0.998654\n",
       "PRCP                0.001346\n",
       "PRCP_ATTRIBUTES     0.001346\n",
       "SNOW                0.153432\n",
       "SNOW_ATTRIBUTES     0.153432\n",
       "TMAX                1.000000\n",
       "TMAX_ATTRIBUTES     1.000000\n",
       "TMIN                1.000000\n",
       "TMIN_ATTRIBUTES     1.000000\n",
       "DATE_TRANSFORMED    0.000000\n",
       "dtype: float64"
      ]
     },
     "execution_count": 36,
     "metadata": {},
     "output_type": "execute_result"
    }
   ],
   "source": [
    "lajolla_2_5.isna().sum() / len(lajolla_2_5)"
   ]
  },
  {
   "cell_type": "code",
   "execution_count": 37,
   "id": "4b95e456",
   "metadata": {},
   "outputs": [
    {
     "data": {
      "text/plain": [
       "STATION             0.00000\n",
       "NAME                0.00000\n",
       "LATITUDE            0.00000\n",
       "LONGITUDE           0.00000\n",
       "ELEVATION           0.00000\n",
       "DATE                0.00000\n",
       "DAPR                0.99724\n",
       "DAPR_ATTRIBUTES     0.99724\n",
       "MDPR                0.99724\n",
       "MDPR_ATTRIBUTES     0.99724\n",
       "PRCP                0.00276\n",
       "PRCP_ATTRIBUTES     0.00276\n",
       "SNOW                0.25759\n",
       "SNOW_ATTRIBUTES     0.25759\n",
       "TMAX                1.00000\n",
       "TMAX_ATTRIBUTES     1.00000\n",
       "TMIN                1.00000\n",
       "TMIN_ATTRIBUTES     1.00000\n",
       "DATE_TRANSFORMED    0.00000\n",
       "dtype: float64"
      ]
     },
     "execution_count": 37,
     "metadata": {},
     "output_type": "execute_result"
    }
   ],
   "source": [
    "lajolla_2_1.isna().sum() / len(lajolla_2_1)"
   ]
  },
  {
   "cell_type": "code",
   "execution_count": 38,
   "id": "de9b9d57",
   "metadata": {},
   "outputs": [],
   "source": [
    "lajolla_2_5 = lajolla_2_5.drop(['TMAX', 'TMAX_ATTRIBUTES', 'TMIN', 'TMIN_ATTRIBUTES'], axis =1)\n",
    "lajolla_2_1 = lajolla_2_1.drop(['TMAX', 'TMAX_ATTRIBUTES', 'TMIN', 'TMIN_ATTRIBUTES'], axis =1)\n"
   ]
  },
  {
   "cell_type": "code",
   "execution_count": 39,
   "id": "4ebf9afc",
   "metadata": {},
   "outputs": [
    {
     "data": {
      "text/plain": [
       "STATION             0.000000\n",
       "NAME                0.000000\n",
       "LATITUDE            0.000000\n",
       "LONGITUDE           0.000000\n",
       "ELEVATION           0.000000\n",
       "DATE                0.000000\n",
       "DAPR                1.000000\n",
       "DAPR_ATTRIBUTES     1.000000\n",
       "MDPR                1.000000\n",
       "MDPR_ATTRIBUTES     1.000000\n",
       "PRCP                0.000461\n",
       "PRCP_ATTRIBUTES     0.000461\n",
       "SNOW                1.000000\n",
       "SNOW_ATTRIBUTES     1.000000\n",
       "TMAX                0.174654\n",
       "TMAX_ATTRIBUTES     0.174654\n",
       "TMIN                0.175115\n",
       "TMIN_ATTRIBUTES     0.175115\n",
       "DATE_TRANSFORMED    0.000000\n",
       "dtype: float64"
      ]
     },
     "execution_count": 39,
     "metadata": {},
     "output_type": "execute_result"
    }
   ],
   "source": [
    "sd_seaworld.isna().sum() / len(sd_seaworld)"
   ]
  },
  {
   "cell_type": "code",
   "execution_count": 40,
   "id": "92e20604",
   "metadata": {},
   "outputs": [],
   "source": [
    "sd_seaworld = sd_seaworld.drop(['DAPR', 'DAPR_ATTRIBUTES', 'MDPR', 'MDPR_ATTRIBUTES', 'SNOW', 'SNOW_ATTRIBUTES'], axis =1)\n"
   ]
  },
  {
   "cell_type": "code",
   "execution_count": 42,
   "id": "fe8a5ead",
   "metadata": {},
   "outputs": [
    {
     "data": {
      "text/plain": [
       "Index(['STATION', 'NAME', 'LATITUDE', 'LONGITUDE', 'ELEVATION', 'DATE', 'PRCP',\n",
       "       'PRCP_ATTRIBUTES', 'TMAX', 'TMAX_ATTRIBUTES', 'TMIN', 'TMIN_ATTRIBUTES',\n",
       "       'DATE_TRANSFORMED'],\n",
       "      dtype='object')"
      ]
     },
     "execution_count": 42,
     "metadata": {},
     "output_type": "execute_result"
    }
   ],
   "source": [
    "sd_seaworld.columns"
   ]
  },
  {
   "cell_type": "code",
   "execution_count": 45,
   "id": "a36ab484",
   "metadata": {},
   "outputs": [
    {
     "data": {
      "text/plain": [
       "(2170, 13)"
      ]
     },
     "execution_count": 45,
     "metadata": {},
     "output_type": "execute_result"
    }
   ],
   "source": [
    "sd_seaworld.shape"
   ]
  },
  {
   "cell_type": "code",
   "execution_count": 46,
   "id": "e57463b2",
   "metadata": {},
   "outputs": [
    {
     "data": {
      "text/html": [
       "<div>\n",
       "<style scoped>\n",
       "    .dataframe tbody tr th:only-of-type {\n",
       "        vertical-align: middle;\n",
       "    }\n",
       "\n",
       "    .dataframe tbody tr th {\n",
       "        vertical-align: top;\n",
       "    }\n",
       "\n",
       "    .dataframe thead th {\n",
       "        text-align: right;\n",
       "    }\n",
       "</style>\n",
       "<table border=\"1\" class=\"dataframe\">\n",
       "  <thead>\n",
       "    <tr style=\"text-align: right;\">\n",
       "      <th></th>\n",
       "      <th>STATION</th>\n",
       "      <th>NAME</th>\n",
       "      <th>LATITUDE</th>\n",
       "      <th>LONGITUDE</th>\n",
       "      <th>ELEVATION</th>\n",
       "      <th>DATE</th>\n",
       "      <th>PRCP</th>\n",
       "      <th>PRCP_ATTRIBUTES</th>\n",
       "      <th>TMAX</th>\n",
       "      <th>TMAX_ATTRIBUTES</th>\n",
       "      <th>TMIN</th>\n",
       "      <th>TMIN_ATTRIBUTES</th>\n",
       "      <th>DATE_TRANSFORMED</th>\n",
       "    </tr>\n",
       "  </thead>\n",
       "  <tbody>\n",
       "    <tr>\n",
       "      <th>2917</th>\n",
       "      <td>USC00047741</td>\n",
       "      <td>SAN DIEGO SEAWORLD, CA US</td>\n",
       "      <td>32.76536</td>\n",
       "      <td>-117.2315</td>\n",
       "      <td>4.3</td>\n",
       "      <td>2017-01-01</td>\n",
       "      <td>0.0</td>\n",
       "      <td>,,7,1630</td>\n",
       "      <td>61.0</td>\n",
       "      <td>,,7</td>\n",
       "      <td>47.0</td>\n",
       "      <td>,,7</td>\n",
       "      <td>2017-01-01</td>\n",
       "    </tr>\n",
       "    <tr>\n",
       "      <th>2918</th>\n",
       "      <td>USC00047741</td>\n",
       "      <td>SAN DIEGO SEAWORLD, CA US</td>\n",
       "      <td>32.76536</td>\n",
       "      <td>-117.2315</td>\n",
       "      <td>4.3</td>\n",
       "      <td>2017-01-02</td>\n",
       "      <td>0.0</td>\n",
       "      <td>,,7,1630</td>\n",
       "      <td>59.0</td>\n",
       "      <td>,,7</td>\n",
       "      <td>52.0</td>\n",
       "      <td>,,7</td>\n",
       "      <td>2017-01-02</td>\n",
       "    </tr>\n",
       "    <tr>\n",
       "      <th>2919</th>\n",
       "      <td>USC00047741</td>\n",
       "      <td>SAN DIEGO SEAWORLD, CA US</td>\n",
       "      <td>32.76536</td>\n",
       "      <td>-117.2315</td>\n",
       "      <td>4.3</td>\n",
       "      <td>2017-01-03</td>\n",
       "      <td>0.0</td>\n",
       "      <td>,,7,1630</td>\n",
       "      <td>59.0</td>\n",
       "      <td>,,7</td>\n",
       "      <td>48.0</td>\n",
       "      <td>,,7</td>\n",
       "      <td>2017-01-03</td>\n",
       "    </tr>\n",
       "    <tr>\n",
       "      <th>2920</th>\n",
       "      <td>USC00047741</td>\n",
       "      <td>SAN DIEGO SEAWORLD, CA US</td>\n",
       "      <td>32.76536</td>\n",
       "      <td>-117.2315</td>\n",
       "      <td>4.3</td>\n",
       "      <td>2017-01-04</td>\n",
       "      <td>0.0</td>\n",
       "      <td>,,7,1630</td>\n",
       "      <td>61.0</td>\n",
       "      <td>,,7</td>\n",
       "      <td>46.0</td>\n",
       "      <td>,,7</td>\n",
       "      <td>2017-01-04</td>\n",
       "    </tr>\n",
       "    <tr>\n",
       "      <th>2921</th>\n",
       "      <td>USC00047741</td>\n",
       "      <td>SAN DIEGO SEAWORLD, CA US</td>\n",
       "      <td>32.76536</td>\n",
       "      <td>-117.2315</td>\n",
       "      <td>4.3</td>\n",
       "      <td>2017-01-05</td>\n",
       "      <td>0.1</td>\n",
       "      <td>,,7,1630</td>\n",
       "      <td>60.0</td>\n",
       "      <td>,,7</td>\n",
       "      <td>55.0</td>\n",
       "      <td>,,7</td>\n",
       "      <td>2017-01-05</td>\n",
       "    </tr>\n",
       "  </tbody>\n",
       "</table>\n",
       "</div>"
      ],
      "text/plain": [
       "          STATION                       NAME  LATITUDE  LONGITUDE  ELEVATION  \\\n",
       "2917  USC00047741  SAN DIEGO SEAWORLD, CA US  32.76536  -117.2315        4.3   \n",
       "2918  USC00047741  SAN DIEGO SEAWORLD, CA US  32.76536  -117.2315        4.3   \n",
       "2919  USC00047741  SAN DIEGO SEAWORLD, CA US  32.76536  -117.2315        4.3   \n",
       "2920  USC00047741  SAN DIEGO SEAWORLD, CA US  32.76536  -117.2315        4.3   \n",
       "2921  USC00047741  SAN DIEGO SEAWORLD, CA US  32.76536  -117.2315        4.3   \n",
       "\n",
       "            DATE  PRCP PRCP_ATTRIBUTES  TMAX TMAX_ATTRIBUTES  TMIN  \\\n",
       "2917  2017-01-01   0.0        ,,7,1630  61.0             ,,7  47.0   \n",
       "2918  2017-01-02   0.0        ,,7,1630  59.0             ,,7  52.0   \n",
       "2919  2017-01-03   0.0        ,,7,1630  59.0             ,,7  48.0   \n",
       "2920  2017-01-04   0.0        ,,7,1630  61.0             ,,7  46.0   \n",
       "2921  2017-01-05   0.1        ,,7,1630  60.0             ,,7  55.0   \n",
       "\n",
       "     TMIN_ATTRIBUTES DATE_TRANSFORMED  \n",
       "2917             ,,7       2017-01-01  \n",
       "2918             ,,7       2017-01-02  \n",
       "2919             ,,7       2017-01-03  \n",
       "2920             ,,7       2017-01-04  \n",
       "2921             ,,7       2017-01-05  "
      ]
     },
     "execution_count": 46,
     "metadata": {},
     "output_type": "execute_result"
    }
   ],
   "source": [
    "sd_seaworld.head(5)"
   ]
  },
  {
   "cell_type": "code",
   "execution_count": null,
   "id": "c5830492",
   "metadata": {},
   "outputs": [],
   "source": [
    "# I don't know what the TMAX & TMIN attributes mean here?"
   ]
  },
  {
   "cell_type": "code",
   "execution_count": 48,
   "id": "cb3e7454",
   "metadata": {},
   "outputs": [
    {
     "data": {
      "text/html": [
       "<div>\n",
       "<style scoped>\n",
       "    .dataframe tbody tr th:only-of-type {\n",
       "        vertical-align: middle;\n",
       "    }\n",
       "\n",
       "    .dataframe tbody tr th {\n",
       "        vertical-align: top;\n",
       "    }\n",
       "\n",
       "    .dataframe thead th {\n",
       "        text-align: right;\n",
       "    }\n",
       "</style>\n",
       "<table border=\"1\" class=\"dataframe\">\n",
       "  <thead>\n",
       "    <tr style=\"text-align: right;\">\n",
       "      <th></th>\n",
       "      <th>STATION</th>\n",
       "      <th>NAME</th>\n",
       "      <th>LATITUDE</th>\n",
       "      <th>LONGITUDE</th>\n",
       "      <th>ELEVATION</th>\n",
       "      <th>DATE</th>\n",
       "      <th>DAPR</th>\n",
       "      <th>DAPR_ATTRIBUTES</th>\n",
       "      <th>MDPR</th>\n",
       "      <th>MDPR_ATTRIBUTES</th>\n",
       "      <th>PRCP</th>\n",
       "      <th>PRCP_ATTRIBUTES</th>\n",
       "      <th>SNOW</th>\n",
       "      <th>SNOW_ATTRIBUTES</th>\n",
       "      <th>DATE_TRANSFORMED</th>\n",
       "    </tr>\n",
       "  </thead>\n",
       "  <tbody>\n",
       "    <tr>\n",
       "      <th>0</th>\n",
       "      <td>US1CASD0015</td>\n",
       "      <td>LA JOLLA 2.5SE, CA US</td>\n",
       "      <td>32.825404</td>\n",
       "      <td>-117.239698</td>\n",
       "      <td>154.8</td>\n",
       "      <td>2017-01-01</td>\n",
       "      <td>NaN</td>\n",
       "      <td>NaN</td>\n",
       "      <td>NaN</td>\n",
       "      <td>NaN</td>\n",
       "      <td>0.68</td>\n",
       "      <td>,,N</td>\n",
       "      <td>NaN</td>\n",
       "      <td>NaN</td>\n",
       "      <td>2017-01-01</td>\n",
       "    </tr>\n",
       "    <tr>\n",
       "      <th>1</th>\n",
       "      <td>US1CASD0015</td>\n",
       "      <td>LA JOLLA 2.5SE, CA US</td>\n",
       "      <td>32.825404</td>\n",
       "      <td>-117.239698</td>\n",
       "      <td>154.8</td>\n",
       "      <td>2017-01-02</td>\n",
       "      <td>NaN</td>\n",
       "      <td>NaN</td>\n",
       "      <td>NaN</td>\n",
       "      <td>NaN</td>\n",
       "      <td>0.00</td>\n",
       "      <td>,,N</td>\n",
       "      <td>0.0</td>\n",
       "      <td>,,N</td>\n",
       "      <td>2017-01-02</td>\n",
       "    </tr>\n",
       "    <tr>\n",
       "      <th>2</th>\n",
       "      <td>US1CASD0015</td>\n",
       "      <td>LA JOLLA 2.5SE, CA US</td>\n",
       "      <td>32.825404</td>\n",
       "      <td>-117.239698</td>\n",
       "      <td>154.8</td>\n",
       "      <td>2017-01-03</td>\n",
       "      <td>NaN</td>\n",
       "      <td>NaN</td>\n",
       "      <td>NaN</td>\n",
       "      <td>NaN</td>\n",
       "      <td>0.00</td>\n",
       "      <td>,,N</td>\n",
       "      <td>0.0</td>\n",
       "      <td>,,N</td>\n",
       "      <td>2017-01-03</td>\n",
       "    </tr>\n",
       "    <tr>\n",
       "      <th>3</th>\n",
       "      <td>US1CASD0015</td>\n",
       "      <td>LA JOLLA 2.5SE, CA US</td>\n",
       "      <td>32.825404</td>\n",
       "      <td>-117.239698</td>\n",
       "      <td>154.8</td>\n",
       "      <td>2017-01-04</td>\n",
       "      <td>NaN</td>\n",
       "      <td>NaN</td>\n",
       "      <td>NaN</td>\n",
       "      <td>NaN</td>\n",
       "      <td>0.00</td>\n",
       "      <td>,,N</td>\n",
       "      <td>0.0</td>\n",
       "      <td>,,N</td>\n",
       "      <td>2017-01-04</td>\n",
       "    </tr>\n",
       "    <tr>\n",
       "      <th>4</th>\n",
       "      <td>US1CASD0015</td>\n",
       "      <td>LA JOLLA 2.5SE, CA US</td>\n",
       "      <td>32.825404</td>\n",
       "      <td>-117.239698</td>\n",
       "      <td>154.8</td>\n",
       "      <td>2017-01-05</td>\n",
       "      <td>NaN</td>\n",
       "      <td>NaN</td>\n",
       "      <td>NaN</td>\n",
       "      <td>NaN</td>\n",
       "      <td>0.00</td>\n",
       "      <td>,,N</td>\n",
       "      <td>0.0</td>\n",
       "      <td>,,N</td>\n",
       "      <td>2017-01-05</td>\n",
       "    </tr>\n",
       "  </tbody>\n",
       "</table>\n",
       "</div>"
      ],
      "text/plain": [
       "       STATION                   NAME   LATITUDE   LONGITUDE  ELEVATION  \\\n",
       "0  US1CASD0015  LA JOLLA 2.5SE, CA US  32.825404 -117.239698      154.8   \n",
       "1  US1CASD0015  LA JOLLA 2.5SE, CA US  32.825404 -117.239698      154.8   \n",
       "2  US1CASD0015  LA JOLLA 2.5SE, CA US  32.825404 -117.239698      154.8   \n",
       "3  US1CASD0015  LA JOLLA 2.5SE, CA US  32.825404 -117.239698      154.8   \n",
       "4  US1CASD0015  LA JOLLA 2.5SE, CA US  32.825404 -117.239698      154.8   \n",
       "\n",
       "         DATE  DAPR DAPR_ATTRIBUTES  MDPR MDPR_ATTRIBUTES  PRCP  \\\n",
       "0  2017-01-01   NaN             NaN   NaN             NaN  0.68   \n",
       "1  2017-01-02   NaN             NaN   NaN             NaN  0.00   \n",
       "2  2017-01-03   NaN             NaN   NaN             NaN  0.00   \n",
       "3  2017-01-04   NaN             NaN   NaN             NaN  0.00   \n",
       "4  2017-01-05   NaN             NaN   NaN             NaN  0.00   \n",
       "\n",
       "  PRCP_ATTRIBUTES  SNOW SNOW_ATTRIBUTES DATE_TRANSFORMED  \n",
       "0             ,,N   NaN             NaN       2017-01-01  \n",
       "1             ,,N   0.0             ,,N       2017-01-02  \n",
       "2             ,,N   0.0             ,,N       2017-01-03  \n",
       "3             ,,N   0.0             ,,N       2017-01-04  \n",
       "4             ,,N   0.0             ,,N       2017-01-05  "
      ]
     },
     "execution_count": 48,
     "metadata": {},
     "output_type": "execute_result"
    }
   ],
   "source": [
    "lajolla_2_5.head(5)"
   ]
  },
  {
   "cell_type": "code",
   "execution_count": null,
   "id": "3789a702",
   "metadata": {},
   "outputs": [],
   "source": []
  },
  {
   "cell_type": "code",
   "execution_count": null,
   "id": "a8eefc6c",
   "metadata": {},
   "outputs": [],
   "source": []
  },
  {
   "cell_type": "code",
   "execution_count": 58,
   "id": "5ff391b0",
   "metadata": {},
   "outputs": [
    {
     "ename": "KeyboardInterrupt",
     "evalue": "",
     "output_type": "error",
     "traceback": [
      "\u001b[0;31m---------------------------------------------------------------------------\u001b[0m",
      "\u001b[0;31mKeyboardInterrupt\u001b[0m                         Traceback (most recent call last)",
      "\u001b[0;32m/tmp/ipykernel_478/1239071116.py\u001b[0m in \u001b[0;36m<module>\u001b[0;34m\u001b[0m\n\u001b[0;32m----> 1\u001b[0;31m \u001b[0msns\u001b[0m\u001b[0;34m.\u001b[0m\u001b[0mlineplot\u001b[0m\u001b[0;34m(\u001b[0m\u001b[0mdata\u001b[0m \u001b[0;34m=\u001b[0m \u001b[0mcombined_floors\u001b[0m\u001b[0;34m,\u001b[0m \u001b[0mx\u001b[0m \u001b[0;34m=\u001b[0m \u001b[0;34m'time'\u001b[0m\u001b[0;34m,\u001b[0m \u001b[0my\u001b[0m \u001b[0;34m=\u001b[0m \u001b[0;34m'Outside Air Temp'\u001b[0m\u001b[0;34m,\u001b[0m \u001b[0mhue\u001b[0m \u001b[0;34m=\u001b[0m \u001b[0;34m'floor'\u001b[0m\u001b[0;34m,\u001b[0m \u001b[0mestimator\u001b[0m \u001b[0;34m=\u001b[0m \u001b[0;32mNone\u001b[0m\u001b[0;34m,\u001b[0m \u001b[0mn_boot\u001b[0m \u001b[0;34m=\u001b[0m \u001b[0;36m0\u001b[0m\u001b[0;34m)\u001b[0m\u001b[0;34m\u001b[0m\u001b[0;34m\u001b[0m\u001b[0m\n\u001b[0m",
      "\u001b[0;32m/opt/conda/lib/python3.9/site-packages/seaborn/_decorators.py\u001b[0m in \u001b[0;36minner_f\u001b[0;34m(*args, **kwargs)\u001b[0m\n\u001b[1;32m     44\u001b[0m             )\n\u001b[1;32m     45\u001b[0m         \u001b[0mkwargs\u001b[0m\u001b[0;34m.\u001b[0m\u001b[0mupdate\u001b[0m\u001b[0;34m(\u001b[0m\u001b[0;34m{\u001b[0m\u001b[0mk\u001b[0m\u001b[0;34m:\u001b[0m \u001b[0marg\u001b[0m \u001b[0;32mfor\u001b[0m \u001b[0mk\u001b[0m\u001b[0;34m,\u001b[0m \u001b[0marg\u001b[0m \u001b[0;32min\u001b[0m \u001b[0mzip\u001b[0m\u001b[0;34m(\u001b[0m\u001b[0msig\u001b[0m\u001b[0;34m.\u001b[0m\u001b[0mparameters\u001b[0m\u001b[0;34m,\u001b[0m \u001b[0margs\u001b[0m\u001b[0;34m)\u001b[0m\u001b[0;34m}\u001b[0m\u001b[0;34m)\u001b[0m\u001b[0;34m\u001b[0m\u001b[0;34m\u001b[0m\u001b[0m\n\u001b[0;32m---> 46\u001b[0;31m         \u001b[0;32mreturn\u001b[0m \u001b[0mf\u001b[0m\u001b[0;34m(\u001b[0m\u001b[0;34m**\u001b[0m\u001b[0mkwargs\u001b[0m\u001b[0;34m)\u001b[0m\u001b[0;34m\u001b[0m\u001b[0;34m\u001b[0m\u001b[0m\n\u001b[0m\u001b[1;32m     47\u001b[0m     \u001b[0;32mreturn\u001b[0m \u001b[0minner_f\u001b[0m\u001b[0;34m\u001b[0m\u001b[0;34m\u001b[0m\u001b[0m\n\u001b[1;32m     48\u001b[0m \u001b[0;34m\u001b[0m\u001b[0m\n",
      "\u001b[0;32m/opt/conda/lib/python3.9/site-packages/seaborn/relational.py\u001b[0m in \u001b[0;36mlineplot\u001b[0;34m(x, y, hue, size, style, data, palette, hue_order, hue_norm, sizes, size_order, size_norm, dashes, markers, style_order, units, estimator, ci, n_boot, seed, sort, err_style, err_kws, legend, ax, **kwargs)\u001b[0m\n\u001b[1;32m    701\u001b[0m     \u001b[0mp\u001b[0m\u001b[0;34m.\u001b[0m\u001b[0m_attach\u001b[0m\u001b[0;34m(\u001b[0m\u001b[0max\u001b[0m\u001b[0;34m)\u001b[0m\u001b[0;34m\u001b[0m\u001b[0;34m\u001b[0m\u001b[0m\n\u001b[1;32m    702\u001b[0m \u001b[0;34m\u001b[0m\u001b[0m\n\u001b[0;32m--> 703\u001b[0;31m     \u001b[0mp\u001b[0m\u001b[0;34m.\u001b[0m\u001b[0mplot\u001b[0m\u001b[0;34m(\u001b[0m\u001b[0max\u001b[0m\u001b[0;34m,\u001b[0m \u001b[0mkwargs\u001b[0m\u001b[0;34m)\u001b[0m\u001b[0;34m\u001b[0m\u001b[0;34m\u001b[0m\u001b[0m\n\u001b[0m\u001b[1;32m    704\u001b[0m     \u001b[0;32mreturn\u001b[0m \u001b[0max\u001b[0m\u001b[0;34m\u001b[0m\u001b[0;34m\u001b[0m\u001b[0m\n\u001b[1;32m    705\u001b[0m \u001b[0;34m\u001b[0m\u001b[0m\n",
      "\u001b[0;32m/opt/conda/lib/python3.9/site-packages/seaborn/relational.py\u001b[0m in \u001b[0;36mplot\u001b[0;34m(self, ax, kws)\u001b[0m\n\u001b[1;32m    555\u001b[0m \u001b[0;34m\u001b[0m\u001b[0m\n\u001b[1;32m    556\u001b[0m         \u001b[0;31m# Finalize the axes details\u001b[0m\u001b[0;34m\u001b[0m\u001b[0;34m\u001b[0m\u001b[0;34m\u001b[0m\u001b[0m\n\u001b[0;32m--> 557\u001b[0;31m         \u001b[0mself\u001b[0m\u001b[0;34m.\u001b[0m\u001b[0m_add_axis_labels\u001b[0m\u001b[0;34m(\u001b[0m\u001b[0max\u001b[0m\u001b[0;34m)\u001b[0m\u001b[0;34m\u001b[0m\u001b[0;34m\u001b[0m\u001b[0m\n\u001b[0m\u001b[1;32m    558\u001b[0m         \u001b[0;32mif\u001b[0m \u001b[0mself\u001b[0m\u001b[0;34m.\u001b[0m\u001b[0mlegend\u001b[0m\u001b[0;34m:\u001b[0m\u001b[0;34m\u001b[0m\u001b[0;34m\u001b[0m\u001b[0m\n\u001b[1;32m    559\u001b[0m             \u001b[0mself\u001b[0m\u001b[0;34m.\u001b[0m\u001b[0madd_legend_data\u001b[0m\u001b[0;34m(\u001b[0m\u001b[0max\u001b[0m\u001b[0;34m)\u001b[0m\u001b[0;34m\u001b[0m\u001b[0;34m\u001b[0m\u001b[0m\n",
      "\u001b[0;32m/opt/conda/lib/python3.9/site-packages/seaborn/_core.py\u001b[0m in \u001b[0;36m_add_axis_labels\u001b[0;34m(self, ax, default_x, default_y)\u001b[0m\n\u001b[1;32m   1185\u001b[0m         \u001b[0;31m# when the axes are not shared. Maybe that makes sense?\u001b[0m\u001b[0;34m\u001b[0m\u001b[0;34m\u001b[0m\u001b[0;34m\u001b[0m\u001b[0m\n\u001b[1;32m   1186\u001b[0m         \u001b[0;32mif\u001b[0m \u001b[0;32mnot\u001b[0m \u001b[0max\u001b[0m\u001b[0;34m.\u001b[0m\u001b[0mget_xlabel\u001b[0m\u001b[0;34m(\u001b[0m\u001b[0;34m)\u001b[0m\u001b[0;34m:\u001b[0m\u001b[0;34m\u001b[0m\u001b[0;34m\u001b[0m\u001b[0m\n\u001b[0;32m-> 1187\u001b[0;31m             \u001b[0mx_visible\u001b[0m \u001b[0;34m=\u001b[0m \u001b[0many\u001b[0m\u001b[0;34m(\u001b[0m\u001b[0mt\u001b[0m\u001b[0;34m.\u001b[0m\u001b[0mget_visible\u001b[0m\u001b[0;34m(\u001b[0m\u001b[0;34m)\u001b[0m \u001b[0;32mfor\u001b[0m \u001b[0mt\u001b[0m \u001b[0;32min\u001b[0m \u001b[0max\u001b[0m\u001b[0;34m.\u001b[0m\u001b[0mget_xticklabels\u001b[0m\u001b[0;34m(\u001b[0m\u001b[0;34m)\u001b[0m\u001b[0;34m)\u001b[0m\u001b[0;34m\u001b[0m\u001b[0;34m\u001b[0m\u001b[0m\n\u001b[0m\u001b[1;32m   1188\u001b[0m             \u001b[0max\u001b[0m\u001b[0;34m.\u001b[0m\u001b[0mset_xlabel\u001b[0m\u001b[0;34m(\u001b[0m\u001b[0mself\u001b[0m\u001b[0;34m.\u001b[0m\u001b[0mvariables\u001b[0m\u001b[0;34m.\u001b[0m\u001b[0mget\u001b[0m\u001b[0;34m(\u001b[0m\u001b[0;34m\"x\"\u001b[0m\u001b[0;34m,\u001b[0m \u001b[0mdefault_x\u001b[0m\u001b[0;34m)\u001b[0m\u001b[0;34m,\u001b[0m \u001b[0mvisible\u001b[0m\u001b[0;34m=\u001b[0m\u001b[0mx_visible\u001b[0m\u001b[0;34m)\u001b[0m\u001b[0;34m\u001b[0m\u001b[0;34m\u001b[0m\u001b[0m\n\u001b[1;32m   1189\u001b[0m         \u001b[0;32mif\u001b[0m \u001b[0;32mnot\u001b[0m \u001b[0max\u001b[0m\u001b[0;34m.\u001b[0m\u001b[0mget_ylabel\u001b[0m\u001b[0;34m(\u001b[0m\u001b[0;34m)\u001b[0m\u001b[0;34m:\u001b[0m\u001b[0;34m\u001b[0m\u001b[0;34m\u001b[0m\u001b[0m\n",
      "\u001b[0;32m/opt/conda/lib/python3.9/site-packages/matplotlib/axes/_base.py\u001b[0m in \u001b[0;36mwrapper\u001b[0;34m(self, *args, **kwargs)\u001b[0m\n\u001b[1;32m     71\u001b[0m \u001b[0;34m\u001b[0m\u001b[0m\n\u001b[1;32m     72\u001b[0m         \u001b[0;32mdef\u001b[0m \u001b[0mwrapper\u001b[0m\u001b[0;34m(\u001b[0m\u001b[0mself\u001b[0m\u001b[0;34m,\u001b[0m \u001b[0;34m*\u001b[0m\u001b[0margs\u001b[0m\u001b[0;34m,\u001b[0m \u001b[0;34m**\u001b[0m\u001b[0mkwargs\u001b[0m\u001b[0;34m)\u001b[0m\u001b[0;34m:\u001b[0m\u001b[0;34m\u001b[0m\u001b[0;34m\u001b[0m\u001b[0m\n\u001b[0;32m---> 73\u001b[0;31m             \u001b[0;32mreturn\u001b[0m \u001b[0mget_method\u001b[0m\u001b[0;34m(\u001b[0m\u001b[0mself\u001b[0m\u001b[0;34m)\u001b[0m\u001b[0;34m(\u001b[0m\u001b[0;34m*\u001b[0m\u001b[0margs\u001b[0m\u001b[0;34m,\u001b[0m \u001b[0;34m**\u001b[0m\u001b[0mkwargs\u001b[0m\u001b[0;34m)\u001b[0m\u001b[0;34m\u001b[0m\u001b[0;34m\u001b[0m\u001b[0m\n\u001b[0m\u001b[1;32m     74\u001b[0m \u001b[0;34m\u001b[0m\u001b[0m\n\u001b[1;32m     75\u001b[0m         \u001b[0mwrapper\u001b[0m\u001b[0;34m.\u001b[0m\u001b[0m__module__\u001b[0m \u001b[0;34m=\u001b[0m \u001b[0mowner\u001b[0m\u001b[0;34m.\u001b[0m\u001b[0m__module__\u001b[0m\u001b[0;34m\u001b[0m\u001b[0;34m\u001b[0m\u001b[0m\n",
      "\u001b[0;32m/opt/conda/lib/python3.9/site-packages/matplotlib/axis.py\u001b[0m in \u001b[0;36mget_ticklabels\u001b[0;34m(self, minor, which)\u001b[0m\n\u001b[1;32m   1225\u001b[0m         \u001b[0;32mif\u001b[0m \u001b[0mminor\u001b[0m\u001b[0;34m:\u001b[0m\u001b[0;34m\u001b[0m\u001b[0;34m\u001b[0m\u001b[0m\n\u001b[1;32m   1226\u001b[0m             \u001b[0;32mreturn\u001b[0m \u001b[0mself\u001b[0m\u001b[0;34m.\u001b[0m\u001b[0mget_minorticklabels\u001b[0m\u001b[0;34m(\u001b[0m\u001b[0;34m)\u001b[0m\u001b[0;34m\u001b[0m\u001b[0;34m\u001b[0m\u001b[0m\n\u001b[0;32m-> 1227\u001b[0;31m         \u001b[0;32mreturn\u001b[0m \u001b[0mself\u001b[0m\u001b[0;34m.\u001b[0m\u001b[0mget_majorticklabels\u001b[0m\u001b[0;34m(\u001b[0m\u001b[0;34m)\u001b[0m\u001b[0;34m\u001b[0m\u001b[0;34m\u001b[0m\u001b[0m\n\u001b[0m\u001b[1;32m   1228\u001b[0m \u001b[0;34m\u001b[0m\u001b[0m\n\u001b[1;32m   1229\u001b[0m     \u001b[0;32mdef\u001b[0m \u001b[0mget_majorticklines\u001b[0m\u001b[0;34m(\u001b[0m\u001b[0mself\u001b[0m\u001b[0;34m)\u001b[0m\u001b[0;34m:\u001b[0m\u001b[0;34m\u001b[0m\u001b[0;34m\u001b[0m\u001b[0m\n",
      "\u001b[0;32m/opt/conda/lib/python3.9/site-packages/matplotlib/axis.py\u001b[0m in \u001b[0;36mget_majorticklabels\u001b[0;34m(self)\u001b[0m\n\u001b[1;32m   1177\u001b[0m     \u001b[0;32mdef\u001b[0m \u001b[0mget_majorticklabels\u001b[0m\u001b[0;34m(\u001b[0m\u001b[0mself\u001b[0m\u001b[0;34m)\u001b[0m\u001b[0;34m:\u001b[0m\u001b[0;34m\u001b[0m\u001b[0;34m\u001b[0m\u001b[0m\n\u001b[1;32m   1178\u001b[0m         \u001b[0;34m\"\"\"Return this Axis' major tick labels, as a list of `~.text.Text`.\"\"\"\u001b[0m\u001b[0;34m\u001b[0m\u001b[0;34m\u001b[0m\u001b[0m\n\u001b[0;32m-> 1179\u001b[0;31m         \u001b[0mticks\u001b[0m \u001b[0;34m=\u001b[0m \u001b[0mself\u001b[0m\u001b[0;34m.\u001b[0m\u001b[0mget_major_ticks\u001b[0m\u001b[0;34m(\u001b[0m\u001b[0;34m)\u001b[0m\u001b[0;34m\u001b[0m\u001b[0;34m\u001b[0m\u001b[0m\n\u001b[0m\u001b[1;32m   1180\u001b[0m         \u001b[0mlabels1\u001b[0m \u001b[0;34m=\u001b[0m \u001b[0;34m[\u001b[0m\u001b[0mtick\u001b[0m\u001b[0;34m.\u001b[0m\u001b[0mlabel1\u001b[0m \u001b[0;32mfor\u001b[0m \u001b[0mtick\u001b[0m \u001b[0;32min\u001b[0m \u001b[0mticks\u001b[0m \u001b[0;32mif\u001b[0m \u001b[0mtick\u001b[0m\u001b[0;34m.\u001b[0m\u001b[0mlabel1\u001b[0m\u001b[0;34m.\u001b[0m\u001b[0mget_visible\u001b[0m\u001b[0;34m(\u001b[0m\u001b[0;34m)\u001b[0m\u001b[0;34m]\u001b[0m\u001b[0;34m\u001b[0m\u001b[0;34m\u001b[0m\u001b[0m\n\u001b[1;32m   1181\u001b[0m         \u001b[0mlabels2\u001b[0m \u001b[0;34m=\u001b[0m \u001b[0;34m[\u001b[0m\u001b[0mtick\u001b[0m\u001b[0;34m.\u001b[0m\u001b[0mlabel2\u001b[0m \u001b[0;32mfor\u001b[0m \u001b[0mtick\u001b[0m \u001b[0;32min\u001b[0m \u001b[0mticks\u001b[0m \u001b[0;32mif\u001b[0m \u001b[0mtick\u001b[0m\u001b[0;34m.\u001b[0m\u001b[0mlabel2\u001b[0m\u001b[0;34m.\u001b[0m\u001b[0mget_visible\u001b[0m\u001b[0;34m(\u001b[0m\u001b[0;34m)\u001b[0m\u001b[0;34m]\u001b[0m\u001b[0;34m\u001b[0m\u001b[0;34m\u001b[0m\u001b[0m\n",
      "\u001b[0;32m/opt/conda/lib/python3.9/site-packages/matplotlib/axis.py\u001b[0m in \u001b[0;36mget_major_ticks\u001b[0;34m(self, numticks)\u001b[0m\n\u001b[1;32m   1352\u001b[0m         \u001b[0;32mwhile\u001b[0m \u001b[0mlen\u001b[0m\u001b[0;34m(\u001b[0m\u001b[0mself\u001b[0m\u001b[0;34m.\u001b[0m\u001b[0mmajorTicks\u001b[0m\u001b[0;34m)\u001b[0m \u001b[0;34m<\u001b[0m \u001b[0mnumticks\u001b[0m\u001b[0;34m:\u001b[0m\u001b[0;34m\u001b[0m\u001b[0;34m\u001b[0m\u001b[0m\n\u001b[1;32m   1353\u001b[0m             \u001b[0;31m# Update the new tick label properties from the old.\u001b[0m\u001b[0;34m\u001b[0m\u001b[0;34m\u001b[0m\u001b[0;34m\u001b[0m\u001b[0m\n\u001b[0;32m-> 1354\u001b[0;31m             \u001b[0mtick\u001b[0m \u001b[0;34m=\u001b[0m \u001b[0mself\u001b[0m\u001b[0;34m.\u001b[0m\u001b[0m_get_tick\u001b[0m\u001b[0;34m(\u001b[0m\u001b[0mmajor\u001b[0m\u001b[0;34m=\u001b[0m\u001b[0;32mTrue\u001b[0m\u001b[0;34m)\u001b[0m\u001b[0;34m\u001b[0m\u001b[0;34m\u001b[0m\u001b[0m\n\u001b[0m\u001b[1;32m   1355\u001b[0m             \u001b[0mself\u001b[0m\u001b[0;34m.\u001b[0m\u001b[0mmajorTicks\u001b[0m\u001b[0;34m.\u001b[0m\u001b[0mappend\u001b[0m\u001b[0;34m(\u001b[0m\u001b[0mtick\u001b[0m\u001b[0;34m)\u001b[0m\u001b[0;34m\u001b[0m\u001b[0;34m\u001b[0m\u001b[0m\n\u001b[1;32m   1356\u001b[0m             \u001b[0mself\u001b[0m\u001b[0;34m.\u001b[0m\u001b[0m_copy_tick_props\u001b[0m\u001b[0;34m(\u001b[0m\u001b[0mself\u001b[0m\u001b[0;34m.\u001b[0m\u001b[0mmajorTicks\u001b[0m\u001b[0;34m[\u001b[0m\u001b[0;36m0\u001b[0m\u001b[0;34m]\u001b[0m\u001b[0;34m,\u001b[0m \u001b[0mtick\u001b[0m\u001b[0;34m)\u001b[0m\u001b[0;34m\u001b[0m\u001b[0;34m\u001b[0m\u001b[0m\n",
      "\u001b[0;32m/opt/conda/lib/python3.9/site-packages/matplotlib/axis.py\u001b[0m in \u001b[0;36m_get_tick\u001b[0;34m(self, major)\u001b[0m\n\u001b[1;32m   2052\u001b[0m         \u001b[0;32melse\u001b[0m\u001b[0;34m:\u001b[0m\u001b[0;34m\u001b[0m\u001b[0;34m\u001b[0m\u001b[0m\n\u001b[1;32m   2053\u001b[0m             \u001b[0mtick_kw\u001b[0m \u001b[0;34m=\u001b[0m \u001b[0mself\u001b[0m\u001b[0;34m.\u001b[0m\u001b[0m_minor_tick_kw\u001b[0m\u001b[0;34m\u001b[0m\u001b[0;34m\u001b[0m\u001b[0m\n\u001b[0;32m-> 2054\u001b[0;31m         \u001b[0;32mreturn\u001b[0m \u001b[0mXTick\u001b[0m\u001b[0;34m(\u001b[0m\u001b[0mself\u001b[0m\u001b[0;34m.\u001b[0m\u001b[0maxes\u001b[0m\u001b[0;34m,\u001b[0m \u001b[0;36m0\u001b[0m\u001b[0;34m,\u001b[0m \u001b[0mmajor\u001b[0m\u001b[0;34m=\u001b[0m\u001b[0mmajor\u001b[0m\u001b[0;34m,\u001b[0m \u001b[0;34m**\u001b[0m\u001b[0mtick_kw\u001b[0m\u001b[0;34m)\u001b[0m\u001b[0;34m\u001b[0m\u001b[0;34m\u001b[0m\u001b[0m\n\u001b[0m\u001b[1;32m   2055\u001b[0m \u001b[0;34m\u001b[0m\u001b[0m\n\u001b[1;32m   2056\u001b[0m     \u001b[0;32mdef\u001b[0m \u001b[0mset_label_position\u001b[0m\u001b[0;34m(\u001b[0m\u001b[0mself\u001b[0m\u001b[0;34m,\u001b[0m \u001b[0mposition\u001b[0m\u001b[0;34m)\u001b[0m\u001b[0;34m:\u001b[0m\u001b[0;34m\u001b[0m\u001b[0;34m\u001b[0m\u001b[0m\n",
      "\u001b[0;32m/opt/conda/lib/python3.9/site-packages/matplotlib/axis.py\u001b[0m in \u001b[0;36m__init__\u001b[0;34m(self, *args, **kwargs)\u001b[0m\n\u001b[1;32m    425\u001b[0m             \u001b[0mmarker\u001b[0m\u001b[0;34m=\u001b[0m\u001b[0mself\u001b[0m\u001b[0;34m.\u001b[0m\u001b[0m_tickmarkers\u001b[0m\u001b[0;34m[\u001b[0m\u001b[0;36m0\u001b[0m\u001b[0;34m]\u001b[0m\u001b[0;34m,\u001b[0m\u001b[0;34m\u001b[0m\u001b[0;34m\u001b[0m\u001b[0m\n\u001b[1;32m    426\u001b[0m         )\n\u001b[0;32m--> 427\u001b[0;31m         self.tick2line.set(\n\u001b[0m\u001b[1;32m    428\u001b[0m             \u001b[0mxdata\u001b[0m\u001b[0;34m=\u001b[0m\u001b[0;34m[\u001b[0m\u001b[0;36m0\u001b[0m\u001b[0;34m]\u001b[0m\u001b[0;34m,\u001b[0m \u001b[0mydata\u001b[0m\u001b[0;34m=\u001b[0m\u001b[0;34m[\u001b[0m\u001b[0;36m1\u001b[0m\u001b[0;34m]\u001b[0m\u001b[0;34m,\u001b[0m\u001b[0;34m\u001b[0m\u001b[0;34m\u001b[0m\u001b[0m\n\u001b[1;32m    429\u001b[0m             \u001b[0mtransform\u001b[0m\u001b[0;34m=\u001b[0m\u001b[0mself\u001b[0m\u001b[0;34m.\u001b[0m\u001b[0maxes\u001b[0m\u001b[0;34m.\u001b[0m\u001b[0mget_xaxis_transform\u001b[0m\u001b[0;34m(\u001b[0m\u001b[0mwhich\u001b[0m\u001b[0;34m=\u001b[0m\u001b[0;34m\"tick2\"\u001b[0m\u001b[0;34m)\u001b[0m\u001b[0;34m,\u001b[0m\u001b[0;34m\u001b[0m\u001b[0;34m\u001b[0m\u001b[0m\n",
      "\u001b[0;32m/opt/conda/lib/python3.9/site-packages/matplotlib/artist.py\u001b[0m in \u001b[0;36mset\u001b[0;34m(self, **kwargs)\u001b[0m\n\u001b[1;32m   1152\u001b[0m     \u001b[0;32mdef\u001b[0m \u001b[0mset\u001b[0m\u001b[0;34m(\u001b[0m\u001b[0mself\u001b[0m\u001b[0;34m,\u001b[0m \u001b[0;34m**\u001b[0m\u001b[0mkwargs\u001b[0m\u001b[0;34m)\u001b[0m\u001b[0;34m:\u001b[0m\u001b[0;34m\u001b[0m\u001b[0;34m\u001b[0m\u001b[0m\n\u001b[1;32m   1153\u001b[0m         \u001b[0;34m\"\"\"A property batch setter.  Pass *kwargs* to set properties.\"\"\"\u001b[0m\u001b[0;34m\u001b[0m\u001b[0;34m\u001b[0m\u001b[0m\n\u001b[0;32m-> 1154\u001b[0;31m         \u001b[0mkwargs\u001b[0m \u001b[0;34m=\u001b[0m \u001b[0mcbook\u001b[0m\u001b[0;34m.\u001b[0m\u001b[0mnormalize_kwargs\u001b[0m\u001b[0;34m(\u001b[0m\u001b[0mkwargs\u001b[0m\u001b[0;34m,\u001b[0m \u001b[0mself\u001b[0m\u001b[0;34m)\u001b[0m\u001b[0;34m\u001b[0m\u001b[0;34m\u001b[0m\u001b[0m\n\u001b[0m\u001b[1;32m   1155\u001b[0m         \u001b[0mmove_color_to_start\u001b[0m \u001b[0;34m=\u001b[0m \u001b[0;32mFalse\u001b[0m\u001b[0;34m\u001b[0m\u001b[0;34m\u001b[0m\u001b[0m\n\u001b[1;32m   1156\u001b[0m         \u001b[0;32mif\u001b[0m \u001b[0;34m\"color\"\u001b[0m \u001b[0;32min\u001b[0m \u001b[0mkwargs\u001b[0m\u001b[0;34m:\u001b[0m\u001b[0;34m\u001b[0m\u001b[0;34m\u001b[0m\u001b[0m\n",
      "\u001b[0;32m/opt/conda/lib/python3.9/site-packages/matplotlib/_api/deprecation.py\u001b[0m in \u001b[0;36mwrapper\u001b[0;34m(*inner_args, **inner_kwargs)\u001b[0m\n\u001b[1;32m    418\u001b[0m         \u001b[0;31m# wrappers always pass all arguments explicitly.\u001b[0m\u001b[0;34m\u001b[0m\u001b[0;34m\u001b[0m\u001b[0;34m\u001b[0m\u001b[0m\n\u001b[1;32m    419\u001b[0m         elif any(name in d and d[name] != _deprecated_parameter\n\u001b[0;32m--> 420\u001b[0;31m                  for d in [arguments, arguments.get(kwargs_name, {})]):\n\u001b[0m\u001b[1;32m    421\u001b[0m             deprecation_addendum = (\n\u001b[1;32m    422\u001b[0m                 \u001b[0;34mf\"If any parameter follows {name!r}, they should be passed as \"\u001b[0m\u001b[0;34m\u001b[0m\u001b[0;34m\u001b[0m\u001b[0m\n",
      "\u001b[0;31mKeyboardInterrupt\u001b[0m: "
     ]
    },
    {
     "name": "stdout",
     "output_type": "stream",
     "text": [
      "Error in callback <function flush_figures at 0x7f49e9867550> (for post_execute):\n"
     ]
    },
    {
     "ename": "KeyboardInterrupt",
     "evalue": "",
     "output_type": "error",
     "traceback": [
      "\u001b[0;31m---------------------------------------------------------------------------\u001b[0m",
      "\u001b[0;31mKeyboardInterrupt\u001b[0m                         Traceback (most recent call last)",
      "\u001b[0;32m/opt/conda/lib/python3.9/site-packages/matplotlib_inline/backend_inline.py\u001b[0m in \u001b[0;36mflush_figures\u001b[0;34m()\u001b[0m\n\u001b[1;32m    119\u001b[0m         \u001b[0;31m# ignore the tracking, just draw and close all figures\u001b[0m\u001b[0;34m\u001b[0m\u001b[0;34m\u001b[0m\u001b[0;34m\u001b[0m\u001b[0m\n\u001b[1;32m    120\u001b[0m         \u001b[0;32mtry\u001b[0m\u001b[0;34m:\u001b[0m\u001b[0;34m\u001b[0m\u001b[0;34m\u001b[0m\u001b[0m\n\u001b[0;32m--> 121\u001b[0;31m             \u001b[0;32mreturn\u001b[0m \u001b[0mshow\u001b[0m\u001b[0;34m(\u001b[0m\u001b[0;32mTrue\u001b[0m\u001b[0;34m)\u001b[0m\u001b[0;34m\u001b[0m\u001b[0;34m\u001b[0m\u001b[0m\n\u001b[0m\u001b[1;32m    122\u001b[0m         \u001b[0;32mexcept\u001b[0m \u001b[0mException\u001b[0m \u001b[0;32mas\u001b[0m \u001b[0me\u001b[0m\u001b[0;34m:\u001b[0m\u001b[0;34m\u001b[0m\u001b[0;34m\u001b[0m\u001b[0m\n\u001b[1;32m    123\u001b[0m             \u001b[0;31m# safely show traceback if in IPython, else raise\u001b[0m\u001b[0;34m\u001b[0m\u001b[0;34m\u001b[0m\u001b[0;34m\u001b[0m\u001b[0m\n",
      "\u001b[0;32m/opt/conda/lib/python3.9/site-packages/matplotlib_inline/backend_inline.py\u001b[0m in \u001b[0;36mshow\u001b[0;34m(close, block)\u001b[0m\n\u001b[1;32m     39\u001b[0m     \u001b[0;32mtry\u001b[0m\u001b[0;34m:\u001b[0m\u001b[0;34m\u001b[0m\u001b[0;34m\u001b[0m\u001b[0m\n\u001b[1;32m     40\u001b[0m         \u001b[0;32mfor\u001b[0m \u001b[0mfigure_manager\u001b[0m \u001b[0;32min\u001b[0m \u001b[0mGcf\u001b[0m\u001b[0;34m.\u001b[0m\u001b[0mget_all_fig_managers\u001b[0m\u001b[0;34m(\u001b[0m\u001b[0;34m)\u001b[0m\u001b[0;34m:\u001b[0m\u001b[0;34m\u001b[0m\u001b[0;34m\u001b[0m\u001b[0m\n\u001b[0;32m---> 41\u001b[0;31m             display(\n\u001b[0m\u001b[1;32m     42\u001b[0m                 \u001b[0mfigure_manager\u001b[0m\u001b[0;34m.\u001b[0m\u001b[0mcanvas\u001b[0m\u001b[0;34m.\u001b[0m\u001b[0mfigure\u001b[0m\u001b[0;34m,\u001b[0m\u001b[0;34m\u001b[0m\u001b[0;34m\u001b[0m\u001b[0m\n\u001b[1;32m     43\u001b[0m                 \u001b[0mmetadata\u001b[0m\u001b[0;34m=\u001b[0m\u001b[0m_fetch_figure_metadata\u001b[0m\u001b[0;34m(\u001b[0m\u001b[0mfigure_manager\u001b[0m\u001b[0;34m.\u001b[0m\u001b[0mcanvas\u001b[0m\u001b[0;34m.\u001b[0m\u001b[0mfigure\u001b[0m\u001b[0;34m)\u001b[0m\u001b[0;34m\u001b[0m\u001b[0;34m\u001b[0m\u001b[0m\n",
      "\u001b[0;32m/opt/conda/lib/python3.9/site-packages/IPython/core/display.py\u001b[0m in \u001b[0;36mdisplay\u001b[0;34m(include, exclude, metadata, transient, display_id, *objs, **kwargs)\u001b[0m\n\u001b[1;32m    318\u001b[0m             \u001b[0mpublish_display_data\u001b[0m\u001b[0;34m(\u001b[0m\u001b[0mdata\u001b[0m\u001b[0;34m=\u001b[0m\u001b[0mobj\u001b[0m\u001b[0;34m,\u001b[0m \u001b[0mmetadata\u001b[0m\u001b[0;34m=\u001b[0m\u001b[0mmetadata\u001b[0m\u001b[0;34m,\u001b[0m \u001b[0;34m**\u001b[0m\u001b[0mkwargs\u001b[0m\u001b[0;34m)\u001b[0m\u001b[0;34m\u001b[0m\u001b[0;34m\u001b[0m\u001b[0m\n\u001b[1;32m    319\u001b[0m         \u001b[0;32melse\u001b[0m\u001b[0;34m:\u001b[0m\u001b[0;34m\u001b[0m\u001b[0;34m\u001b[0m\u001b[0m\n\u001b[0;32m--> 320\u001b[0;31m             \u001b[0mformat_dict\u001b[0m\u001b[0;34m,\u001b[0m \u001b[0mmd_dict\u001b[0m \u001b[0;34m=\u001b[0m \u001b[0mformat\u001b[0m\u001b[0;34m(\u001b[0m\u001b[0mobj\u001b[0m\u001b[0;34m,\u001b[0m \u001b[0minclude\u001b[0m\u001b[0;34m=\u001b[0m\u001b[0minclude\u001b[0m\u001b[0;34m,\u001b[0m \u001b[0mexclude\u001b[0m\u001b[0;34m=\u001b[0m\u001b[0mexclude\u001b[0m\u001b[0;34m)\u001b[0m\u001b[0;34m\u001b[0m\u001b[0;34m\u001b[0m\u001b[0m\n\u001b[0m\u001b[1;32m    321\u001b[0m             \u001b[0;32mif\u001b[0m \u001b[0;32mnot\u001b[0m \u001b[0mformat_dict\u001b[0m\u001b[0;34m:\u001b[0m\u001b[0;34m\u001b[0m\u001b[0;34m\u001b[0m\u001b[0m\n\u001b[1;32m    322\u001b[0m                 \u001b[0;31m# nothing to display (e.g. _ipython_display_ took over)\u001b[0m\u001b[0;34m\u001b[0m\u001b[0;34m\u001b[0m\u001b[0;34m\u001b[0m\u001b[0m\n",
      "\u001b[0;32m/opt/conda/lib/python3.9/site-packages/IPython/core/formatters.py\u001b[0m in \u001b[0;36mformat\u001b[0;34m(self, obj, include, exclude)\u001b[0m\n\u001b[1;32m    178\u001b[0m             \u001b[0mmd\u001b[0m \u001b[0;34m=\u001b[0m \u001b[0;32mNone\u001b[0m\u001b[0;34m\u001b[0m\u001b[0;34m\u001b[0m\u001b[0m\n\u001b[1;32m    179\u001b[0m             \u001b[0;32mtry\u001b[0m\u001b[0;34m:\u001b[0m\u001b[0;34m\u001b[0m\u001b[0;34m\u001b[0m\u001b[0m\n\u001b[0;32m--> 180\u001b[0;31m                 \u001b[0mdata\u001b[0m \u001b[0;34m=\u001b[0m \u001b[0mformatter\u001b[0m\u001b[0;34m(\u001b[0m\u001b[0mobj\u001b[0m\u001b[0;34m)\u001b[0m\u001b[0;34m\u001b[0m\u001b[0;34m\u001b[0m\u001b[0m\n\u001b[0m\u001b[1;32m    181\u001b[0m             \u001b[0;32mexcept\u001b[0m\u001b[0;34m:\u001b[0m\u001b[0;34m\u001b[0m\u001b[0;34m\u001b[0m\u001b[0m\n\u001b[1;32m    182\u001b[0m                 \u001b[0;31m# FIXME: log the exception\u001b[0m\u001b[0;34m\u001b[0m\u001b[0;34m\u001b[0m\u001b[0;34m\u001b[0m\u001b[0m\n",
      "\u001b[0;32m/opt/conda/lib/python3.9/site-packages/decorator.py\u001b[0m in \u001b[0;36mfun\u001b[0;34m(*args, **kw)\u001b[0m\n\u001b[1;32m    230\u001b[0m             \u001b[0;32mif\u001b[0m \u001b[0;32mnot\u001b[0m \u001b[0mkwsyntax\u001b[0m\u001b[0;34m:\u001b[0m\u001b[0;34m\u001b[0m\u001b[0;34m\u001b[0m\u001b[0m\n\u001b[1;32m    231\u001b[0m                 \u001b[0margs\u001b[0m\u001b[0;34m,\u001b[0m \u001b[0mkw\u001b[0m \u001b[0;34m=\u001b[0m \u001b[0mfix\u001b[0m\u001b[0;34m(\u001b[0m\u001b[0margs\u001b[0m\u001b[0;34m,\u001b[0m \u001b[0mkw\u001b[0m\u001b[0;34m,\u001b[0m \u001b[0msig\u001b[0m\u001b[0;34m)\u001b[0m\u001b[0;34m\u001b[0m\u001b[0;34m\u001b[0m\u001b[0m\n\u001b[0;32m--> 232\u001b[0;31m             \u001b[0;32mreturn\u001b[0m \u001b[0mcaller\u001b[0m\u001b[0;34m(\u001b[0m\u001b[0mfunc\u001b[0m\u001b[0;34m,\u001b[0m \u001b[0;34m*\u001b[0m\u001b[0;34m(\u001b[0m\u001b[0mextras\u001b[0m \u001b[0;34m+\u001b[0m \u001b[0margs\u001b[0m\u001b[0;34m)\u001b[0m\u001b[0;34m,\u001b[0m \u001b[0;34m**\u001b[0m\u001b[0mkw\u001b[0m\u001b[0;34m)\u001b[0m\u001b[0;34m\u001b[0m\u001b[0;34m\u001b[0m\u001b[0m\n\u001b[0m\u001b[1;32m    233\u001b[0m     \u001b[0mfun\u001b[0m\u001b[0;34m.\u001b[0m\u001b[0m__name__\u001b[0m \u001b[0;34m=\u001b[0m \u001b[0mfunc\u001b[0m\u001b[0;34m.\u001b[0m\u001b[0m__name__\u001b[0m\u001b[0;34m\u001b[0m\u001b[0;34m\u001b[0m\u001b[0m\n\u001b[1;32m    234\u001b[0m     \u001b[0mfun\u001b[0m\u001b[0;34m.\u001b[0m\u001b[0m__doc__\u001b[0m \u001b[0;34m=\u001b[0m \u001b[0mfunc\u001b[0m\u001b[0;34m.\u001b[0m\u001b[0m__doc__\u001b[0m\u001b[0;34m\u001b[0m\u001b[0;34m\u001b[0m\u001b[0m\n",
      "\u001b[0;32m/opt/conda/lib/python3.9/site-packages/IPython/core/formatters.py\u001b[0m in \u001b[0;36mcatch_format_error\u001b[0;34m(method, self, *args, **kwargs)\u001b[0m\n\u001b[1;32m    222\u001b[0m     \u001b[0;34m\"\"\"show traceback on failed format call\"\"\"\u001b[0m\u001b[0;34m\u001b[0m\u001b[0;34m\u001b[0m\u001b[0m\n\u001b[1;32m    223\u001b[0m     \u001b[0;32mtry\u001b[0m\u001b[0;34m:\u001b[0m\u001b[0;34m\u001b[0m\u001b[0;34m\u001b[0m\u001b[0m\n\u001b[0;32m--> 224\u001b[0;31m         \u001b[0mr\u001b[0m \u001b[0;34m=\u001b[0m \u001b[0mmethod\u001b[0m\u001b[0;34m(\u001b[0m\u001b[0mself\u001b[0m\u001b[0;34m,\u001b[0m \u001b[0;34m*\u001b[0m\u001b[0margs\u001b[0m\u001b[0;34m,\u001b[0m \u001b[0;34m**\u001b[0m\u001b[0mkwargs\u001b[0m\u001b[0;34m)\u001b[0m\u001b[0;34m\u001b[0m\u001b[0;34m\u001b[0m\u001b[0m\n\u001b[0m\u001b[1;32m    225\u001b[0m     \u001b[0;32mexcept\u001b[0m \u001b[0mNotImplementedError\u001b[0m\u001b[0;34m:\u001b[0m\u001b[0;34m\u001b[0m\u001b[0;34m\u001b[0m\u001b[0m\n\u001b[1;32m    226\u001b[0m         \u001b[0;31m# don't warn on NotImplementedErrors\u001b[0m\u001b[0;34m\u001b[0m\u001b[0;34m\u001b[0m\u001b[0;34m\u001b[0m\u001b[0m\n",
      "\u001b[0;32m/opt/conda/lib/python3.9/site-packages/IPython/core/formatters.py\u001b[0m in \u001b[0;36m__call__\u001b[0;34m(self, obj)\u001b[0m\n\u001b[1;32m    339\u001b[0m                 \u001b[0;32mpass\u001b[0m\u001b[0;34m\u001b[0m\u001b[0;34m\u001b[0m\u001b[0m\n\u001b[1;32m    340\u001b[0m             \u001b[0;32melse\u001b[0m\u001b[0;34m:\u001b[0m\u001b[0;34m\u001b[0m\u001b[0;34m\u001b[0m\u001b[0m\n\u001b[0;32m--> 341\u001b[0;31m                 \u001b[0;32mreturn\u001b[0m \u001b[0mprinter\u001b[0m\u001b[0;34m(\u001b[0m\u001b[0mobj\u001b[0m\u001b[0;34m)\u001b[0m\u001b[0;34m\u001b[0m\u001b[0;34m\u001b[0m\u001b[0m\n\u001b[0m\u001b[1;32m    342\u001b[0m             \u001b[0;31m# Finally look for special method names\u001b[0m\u001b[0;34m\u001b[0m\u001b[0;34m\u001b[0m\u001b[0;34m\u001b[0m\u001b[0m\n\u001b[1;32m    343\u001b[0m             \u001b[0mmethod\u001b[0m \u001b[0;34m=\u001b[0m \u001b[0mget_real_method\u001b[0m\u001b[0;34m(\u001b[0m\u001b[0mobj\u001b[0m\u001b[0;34m,\u001b[0m \u001b[0mself\u001b[0m\u001b[0;34m.\u001b[0m\u001b[0mprint_method\u001b[0m\u001b[0;34m)\u001b[0m\u001b[0;34m\u001b[0m\u001b[0;34m\u001b[0m\u001b[0m\n",
      "\u001b[0;32m/opt/conda/lib/python3.9/site-packages/IPython/core/pylabtools.py\u001b[0m in \u001b[0;36m<lambda>\u001b[0;34m(fig)\u001b[0m\n\u001b[1;32m    248\u001b[0m \u001b[0;34m\u001b[0m\u001b[0m\n\u001b[1;32m    249\u001b[0m     \u001b[0;32mif\u001b[0m \u001b[0;34m'png'\u001b[0m \u001b[0;32min\u001b[0m \u001b[0mformats\u001b[0m\u001b[0;34m:\u001b[0m\u001b[0;34m\u001b[0m\u001b[0;34m\u001b[0m\u001b[0m\n\u001b[0;32m--> 250\u001b[0;31m         \u001b[0mpng_formatter\u001b[0m\u001b[0;34m.\u001b[0m\u001b[0mfor_type\u001b[0m\u001b[0;34m(\u001b[0m\u001b[0mFigure\u001b[0m\u001b[0;34m,\u001b[0m \u001b[0;32mlambda\u001b[0m \u001b[0mfig\u001b[0m\u001b[0;34m:\u001b[0m \u001b[0mprint_figure\u001b[0m\u001b[0;34m(\u001b[0m\u001b[0mfig\u001b[0m\u001b[0;34m,\u001b[0m \u001b[0;34m'png'\u001b[0m\u001b[0;34m,\u001b[0m \u001b[0;34m**\u001b[0m\u001b[0mkwargs\u001b[0m\u001b[0;34m)\u001b[0m\u001b[0;34m)\u001b[0m\u001b[0;34m\u001b[0m\u001b[0;34m\u001b[0m\u001b[0m\n\u001b[0m\u001b[1;32m    251\u001b[0m     \u001b[0;32mif\u001b[0m \u001b[0;34m'retina'\u001b[0m \u001b[0;32min\u001b[0m \u001b[0mformats\u001b[0m \u001b[0;32mor\u001b[0m \u001b[0;34m'png2x'\u001b[0m \u001b[0;32min\u001b[0m \u001b[0mformats\u001b[0m\u001b[0;34m:\u001b[0m\u001b[0;34m\u001b[0m\u001b[0;34m\u001b[0m\u001b[0m\n\u001b[1;32m    252\u001b[0m         \u001b[0mpng_formatter\u001b[0m\u001b[0;34m.\u001b[0m\u001b[0mfor_type\u001b[0m\u001b[0;34m(\u001b[0m\u001b[0mFigure\u001b[0m\u001b[0;34m,\u001b[0m \u001b[0;32mlambda\u001b[0m \u001b[0mfig\u001b[0m\u001b[0;34m:\u001b[0m \u001b[0mretina_figure\u001b[0m\u001b[0;34m(\u001b[0m\u001b[0mfig\u001b[0m\u001b[0;34m,\u001b[0m \u001b[0;34m**\u001b[0m\u001b[0mkwargs\u001b[0m\u001b[0;34m)\u001b[0m\u001b[0;34m)\u001b[0m\u001b[0;34m\u001b[0m\u001b[0;34m\u001b[0m\u001b[0m\n",
      "\u001b[0;32m/opt/conda/lib/python3.9/site-packages/IPython/core/pylabtools.py\u001b[0m in \u001b[0;36mprint_figure\u001b[0;34m(fig, fmt, bbox_inches, **kwargs)\u001b[0m\n\u001b[1;32m    132\u001b[0m         \u001b[0mFigureCanvasBase\u001b[0m\u001b[0;34m(\u001b[0m\u001b[0mfig\u001b[0m\u001b[0;34m)\u001b[0m\u001b[0;34m\u001b[0m\u001b[0;34m\u001b[0m\u001b[0m\n\u001b[1;32m    133\u001b[0m \u001b[0;34m\u001b[0m\u001b[0m\n\u001b[0;32m--> 134\u001b[0;31m     \u001b[0mfig\u001b[0m\u001b[0;34m.\u001b[0m\u001b[0mcanvas\u001b[0m\u001b[0;34m.\u001b[0m\u001b[0mprint_figure\u001b[0m\u001b[0;34m(\u001b[0m\u001b[0mbytes_io\u001b[0m\u001b[0;34m,\u001b[0m \u001b[0;34m**\u001b[0m\u001b[0mkw\u001b[0m\u001b[0;34m)\u001b[0m\u001b[0;34m\u001b[0m\u001b[0;34m\u001b[0m\u001b[0m\n\u001b[0m\u001b[1;32m    135\u001b[0m     \u001b[0mdata\u001b[0m \u001b[0;34m=\u001b[0m \u001b[0mbytes_io\u001b[0m\u001b[0;34m.\u001b[0m\u001b[0mgetvalue\u001b[0m\u001b[0;34m(\u001b[0m\u001b[0;34m)\u001b[0m\u001b[0;34m\u001b[0m\u001b[0;34m\u001b[0m\u001b[0m\n\u001b[1;32m    136\u001b[0m     \u001b[0;32mif\u001b[0m \u001b[0mfmt\u001b[0m \u001b[0;34m==\u001b[0m \u001b[0;34m'svg'\u001b[0m\u001b[0;34m:\u001b[0m\u001b[0;34m\u001b[0m\u001b[0;34m\u001b[0m\u001b[0m\n",
      "\u001b[0;32m/opt/conda/lib/python3.9/site-packages/matplotlib/backend_bases.py\u001b[0m in \u001b[0;36mprint_figure\u001b[0;34m(self, filename, dpi, facecolor, edgecolor, orientation, format, bbox_inches, pad_inches, bbox_extra_artists, backend, **kwargs)\u001b[0m\n\u001b[1;32m   2232\u001b[0m             \u001b[0;32mif\u001b[0m \u001b[0mbbox_inches\u001b[0m\u001b[0;34m:\u001b[0m\u001b[0;34m\u001b[0m\u001b[0;34m\u001b[0m\u001b[0m\n\u001b[1;32m   2233\u001b[0m                 \u001b[0;32mif\u001b[0m \u001b[0mbbox_inches\u001b[0m \u001b[0;34m==\u001b[0m \u001b[0;34m\"tight\"\u001b[0m\u001b[0;34m:\u001b[0m\u001b[0;34m\u001b[0m\u001b[0;34m\u001b[0m\u001b[0m\n\u001b[0;32m-> 2234\u001b[0;31m                     bbox_inches = self.figure.get_tightbbox(\n\u001b[0m\u001b[1;32m   2235\u001b[0m                         renderer, bbox_extra_artists=bbox_extra_artists)\n\u001b[1;32m   2236\u001b[0m                     \u001b[0;32mif\u001b[0m \u001b[0mpad_inches\u001b[0m \u001b[0;32mis\u001b[0m \u001b[0;32mNone\u001b[0m\u001b[0;34m:\u001b[0m\u001b[0;34m\u001b[0m\u001b[0;34m\u001b[0m\u001b[0m\n",
      "\u001b[0;32m/opt/conda/lib/python3.9/site-packages/matplotlib/figure.py\u001b[0m in \u001b[0;36mget_tightbbox\u001b[0;34m(self, renderer, bbox_extra_artists)\u001b[0m\n\u001b[1;32m   1634\u001b[0m \u001b[0;34m\u001b[0m\u001b[0m\n\u001b[1;32m   1635\u001b[0m         \u001b[0;32mfor\u001b[0m \u001b[0ma\u001b[0m \u001b[0;32min\u001b[0m \u001b[0martists\u001b[0m\u001b[0;34m:\u001b[0m\u001b[0;34m\u001b[0m\u001b[0;34m\u001b[0m\u001b[0m\n\u001b[0;32m-> 1636\u001b[0;31m             \u001b[0mbbox\u001b[0m \u001b[0;34m=\u001b[0m \u001b[0ma\u001b[0m\u001b[0;34m.\u001b[0m\u001b[0mget_tightbbox\u001b[0m\u001b[0;34m(\u001b[0m\u001b[0mrenderer\u001b[0m\u001b[0;34m)\u001b[0m\u001b[0;34m\u001b[0m\u001b[0;34m\u001b[0m\u001b[0m\n\u001b[0m\u001b[1;32m   1637\u001b[0m             \u001b[0;32mif\u001b[0m \u001b[0mbbox\u001b[0m \u001b[0;32mis\u001b[0m \u001b[0;32mnot\u001b[0m \u001b[0;32mNone\u001b[0m \u001b[0;32mand\u001b[0m \u001b[0;34m(\u001b[0m\u001b[0mbbox\u001b[0m\u001b[0;34m.\u001b[0m\u001b[0mwidth\u001b[0m \u001b[0;34m!=\u001b[0m \u001b[0;36m0\u001b[0m \u001b[0;32mor\u001b[0m \u001b[0mbbox\u001b[0m\u001b[0;34m.\u001b[0m\u001b[0mheight\u001b[0m \u001b[0;34m!=\u001b[0m \u001b[0;36m0\u001b[0m\u001b[0;34m)\u001b[0m\u001b[0;34m:\u001b[0m\u001b[0;34m\u001b[0m\u001b[0;34m\u001b[0m\u001b[0m\n\u001b[1;32m   1638\u001b[0m                 \u001b[0mbb\u001b[0m\u001b[0;34m.\u001b[0m\u001b[0mappend\u001b[0m\u001b[0;34m(\u001b[0m\u001b[0mbbox\u001b[0m\u001b[0;34m)\u001b[0m\u001b[0;34m\u001b[0m\u001b[0;34m\u001b[0m\u001b[0m\n",
      "\u001b[0;32m/opt/conda/lib/python3.9/site-packages/matplotlib/axes/_base.py\u001b[0m in \u001b[0;36mget_tightbbox\u001b[0;34m(self, renderer, call_axes_locator, bbox_extra_artists, for_layout_only)\u001b[0m\n\u001b[1;32m   4435\u001b[0m             \u001b[0;32mif\u001b[0m \u001b[0mself\u001b[0m\u001b[0;34m.\u001b[0m\u001b[0mxaxis\u001b[0m\u001b[0;34m.\u001b[0m\u001b[0mget_visible\u001b[0m\u001b[0;34m(\u001b[0m\u001b[0;34m)\u001b[0m\u001b[0;34m:\u001b[0m\u001b[0;34m\u001b[0m\u001b[0;34m\u001b[0m\u001b[0m\n\u001b[1;32m   4436\u001b[0m                 \u001b[0;32mtry\u001b[0m\u001b[0;34m:\u001b[0m\u001b[0;34m\u001b[0m\u001b[0;34m\u001b[0m\u001b[0m\n\u001b[0;32m-> 4437\u001b[0;31m                     bb_xaxis = self.xaxis.get_tightbbox(\n\u001b[0m\u001b[1;32m   4438\u001b[0m                         renderer, for_layout_only=for_layout_only)\n\u001b[1;32m   4439\u001b[0m                 \u001b[0;32mexcept\u001b[0m \u001b[0mTypeError\u001b[0m\u001b[0;34m:\u001b[0m\u001b[0;34m\u001b[0m\u001b[0;34m\u001b[0m\u001b[0m\n",
      "\u001b[0;32m/opt/conda/lib/python3.9/site-packages/matplotlib/axis.py\u001b[0m in \u001b[0;36mget_tightbbox\u001b[0;34m(self, renderer, for_layout_only)\u001b[0m\n\u001b[1;32m   1081\u001b[0m         \u001b[0mticks_to_draw\u001b[0m \u001b[0;34m=\u001b[0m \u001b[0mself\u001b[0m\u001b[0;34m.\u001b[0m\u001b[0m_update_ticks\u001b[0m\u001b[0;34m(\u001b[0m\u001b[0;34m)\u001b[0m\u001b[0;34m\u001b[0m\u001b[0;34m\u001b[0m\u001b[0m\n\u001b[1;32m   1082\u001b[0m \u001b[0;34m\u001b[0m\u001b[0m\n\u001b[0;32m-> 1083\u001b[0;31m         \u001b[0mself\u001b[0m\u001b[0;34m.\u001b[0m\u001b[0m_update_label_position\u001b[0m\u001b[0;34m(\u001b[0m\u001b[0mrenderer\u001b[0m\u001b[0;34m)\u001b[0m\u001b[0;34m\u001b[0m\u001b[0;34m\u001b[0m\u001b[0m\n\u001b[0m\u001b[1;32m   1084\u001b[0m \u001b[0;34m\u001b[0m\u001b[0m\n\u001b[1;32m   1085\u001b[0m         \u001b[0;31m# go back to just this axis's tick labels\u001b[0m\u001b[0;34m\u001b[0m\u001b[0;34m\u001b[0m\u001b[0;34m\u001b[0m\u001b[0m\n",
      "\u001b[0;32m/opt/conda/lib/python3.9/site-packages/matplotlib/axis.py\u001b[0m in \u001b[0;36m_update_label_position\u001b[0;34m(self, renderer)\u001b[0m\n\u001b[1;32m   2078\u001b[0m         \u001b[0;31m# get bounding boxes for this axis and any siblings\u001b[0m\u001b[0;34m\u001b[0m\u001b[0;34m\u001b[0m\u001b[0;34m\u001b[0m\u001b[0m\n\u001b[1;32m   2079\u001b[0m         \u001b[0;31m# that have been set by `fig.align_xlabels()`\u001b[0m\u001b[0;34m\u001b[0m\u001b[0;34m\u001b[0m\u001b[0;34m\u001b[0m\u001b[0m\n\u001b[0;32m-> 2080\u001b[0;31m         \u001b[0mbboxes\u001b[0m\u001b[0;34m,\u001b[0m \u001b[0mbboxes2\u001b[0m \u001b[0;34m=\u001b[0m \u001b[0mself\u001b[0m\u001b[0;34m.\u001b[0m\u001b[0m_get_tick_boxes_siblings\u001b[0m\u001b[0;34m(\u001b[0m\u001b[0mrenderer\u001b[0m\u001b[0;34m=\u001b[0m\u001b[0mrenderer\u001b[0m\u001b[0;34m)\u001b[0m\u001b[0;34m\u001b[0m\u001b[0;34m\u001b[0m\u001b[0m\n\u001b[0m\u001b[1;32m   2081\u001b[0m \u001b[0;34m\u001b[0m\u001b[0m\n\u001b[1;32m   2082\u001b[0m         \u001b[0mx\u001b[0m\u001b[0;34m,\u001b[0m \u001b[0my\u001b[0m \u001b[0;34m=\u001b[0m \u001b[0mself\u001b[0m\u001b[0;34m.\u001b[0m\u001b[0mlabel\u001b[0m\u001b[0;34m.\u001b[0m\u001b[0mget_position\u001b[0m\u001b[0;34m(\u001b[0m\u001b[0;34m)\u001b[0m\u001b[0;34m\u001b[0m\u001b[0;34m\u001b[0m\u001b[0m\n",
      "\u001b[0;32m/opt/conda/lib/python3.9/site-packages/matplotlib/axis.py\u001b[0m in \u001b[0;36m_get_tick_boxes_siblings\u001b[0;34m(self, renderer)\u001b[0m\n\u001b[1;32m   1866\u001b[0m             \u001b[0maxis\u001b[0m \u001b[0;34m=\u001b[0m \u001b[0max\u001b[0m\u001b[0;34m.\u001b[0m\u001b[0m_get_axis_map\u001b[0m\u001b[0;34m(\u001b[0m\u001b[0;34m)\u001b[0m\u001b[0;34m[\u001b[0m\u001b[0maxis_name\u001b[0m\u001b[0;34m]\u001b[0m\u001b[0;34m\u001b[0m\u001b[0;34m\u001b[0m\u001b[0m\n\u001b[1;32m   1867\u001b[0m             \u001b[0mticks_to_draw\u001b[0m \u001b[0;34m=\u001b[0m \u001b[0maxis\u001b[0m\u001b[0;34m.\u001b[0m\u001b[0m_update_ticks\u001b[0m\u001b[0;34m(\u001b[0m\u001b[0;34m)\u001b[0m\u001b[0;34m\u001b[0m\u001b[0;34m\u001b[0m\u001b[0m\n\u001b[0;32m-> 1868\u001b[0;31m             \u001b[0mtlb\u001b[0m\u001b[0;34m,\u001b[0m \u001b[0mtlb2\u001b[0m \u001b[0;34m=\u001b[0m \u001b[0maxis\u001b[0m\u001b[0;34m.\u001b[0m\u001b[0m_get_tick_bboxes\u001b[0m\u001b[0;34m(\u001b[0m\u001b[0mticks_to_draw\u001b[0m\u001b[0;34m,\u001b[0m \u001b[0mrenderer\u001b[0m\u001b[0;34m)\u001b[0m\u001b[0;34m\u001b[0m\u001b[0;34m\u001b[0m\u001b[0m\n\u001b[0m\u001b[1;32m   1869\u001b[0m             \u001b[0mbboxes\u001b[0m\u001b[0;34m.\u001b[0m\u001b[0mextend\u001b[0m\u001b[0;34m(\u001b[0m\u001b[0mtlb\u001b[0m\u001b[0;34m)\u001b[0m\u001b[0;34m\u001b[0m\u001b[0;34m\u001b[0m\u001b[0m\n\u001b[1;32m   1870\u001b[0m             \u001b[0mbboxes2\u001b[0m\u001b[0;34m.\u001b[0m\u001b[0mextend\u001b[0m\u001b[0;34m(\u001b[0m\u001b[0mtlb2\u001b[0m\u001b[0;34m)\u001b[0m\u001b[0;34m\u001b[0m\u001b[0;34m\u001b[0m\u001b[0m\n",
      "\u001b[0;32m/opt/conda/lib/python3.9/site-packages/matplotlib/axis.py\u001b[0m in \u001b[0;36m_get_tick_bboxes\u001b[0;34m(self, ticks, renderer)\u001b[0m\n\u001b[1;32m   1061\u001b[0m     \u001b[0;32mdef\u001b[0m \u001b[0m_get_tick_bboxes\u001b[0m\u001b[0;34m(\u001b[0m\u001b[0mself\u001b[0m\u001b[0;34m,\u001b[0m \u001b[0mticks\u001b[0m\u001b[0;34m,\u001b[0m \u001b[0mrenderer\u001b[0m\u001b[0;34m)\u001b[0m\u001b[0;34m:\u001b[0m\u001b[0;34m\u001b[0m\u001b[0;34m\u001b[0m\u001b[0m\n\u001b[1;32m   1062\u001b[0m         \u001b[0;34m\"\"\"Return lists of bboxes for ticks' label1's and label2's.\"\"\"\u001b[0m\u001b[0;34m\u001b[0m\u001b[0;34m\u001b[0m\u001b[0m\n\u001b[0;32m-> 1063\u001b[0;31m         return ([tick.label1.get_window_extent(renderer)\n\u001b[0m\u001b[1;32m   1064\u001b[0m                  for tick in ticks if tick.label1.get_visible()],\n\u001b[1;32m   1065\u001b[0m                 [tick.label2.get_window_extent(renderer)\n",
      "\u001b[0;32m/opt/conda/lib/python3.9/site-packages/matplotlib/axis.py\u001b[0m in \u001b[0;36m<listcomp>\u001b[0;34m(.0)\u001b[0m\n\u001b[1;32m   1061\u001b[0m     \u001b[0;32mdef\u001b[0m \u001b[0m_get_tick_bboxes\u001b[0m\u001b[0;34m(\u001b[0m\u001b[0mself\u001b[0m\u001b[0;34m,\u001b[0m \u001b[0mticks\u001b[0m\u001b[0;34m,\u001b[0m \u001b[0mrenderer\u001b[0m\u001b[0;34m)\u001b[0m\u001b[0;34m:\u001b[0m\u001b[0;34m\u001b[0m\u001b[0;34m\u001b[0m\u001b[0m\n\u001b[1;32m   1062\u001b[0m         \u001b[0;34m\"\"\"Return lists of bboxes for ticks' label1's and label2's.\"\"\"\u001b[0m\u001b[0;34m\u001b[0m\u001b[0;34m\u001b[0m\u001b[0m\n\u001b[0;32m-> 1063\u001b[0;31m         return ([tick.label1.get_window_extent(renderer)\n\u001b[0m\u001b[1;32m   1064\u001b[0m                  for tick in ticks if tick.label1.get_visible()],\n\u001b[1;32m   1065\u001b[0m                 [tick.label2.get_window_extent(renderer)\n",
      "\u001b[0;32m/opt/conda/lib/python3.9/site-packages/matplotlib/text.py\u001b[0m in \u001b[0;36mget_window_extent\u001b[0;34m(self, renderer, dpi)\u001b[0m\n\u001b[1;32m    900\u001b[0m             \u001b[0;32mraise\u001b[0m \u001b[0mRuntimeError\u001b[0m\u001b[0;34m(\u001b[0m\u001b[0;34m'Cannot get window extent w/o renderer'\u001b[0m\u001b[0;34m)\u001b[0m\u001b[0;34m\u001b[0m\u001b[0;34m\u001b[0m\u001b[0m\n\u001b[1;32m    901\u001b[0m \u001b[0;34m\u001b[0m\u001b[0m\n\u001b[0;32m--> 902\u001b[0;31m         \u001b[0;32mwith\u001b[0m \u001b[0mcbook\u001b[0m\u001b[0;34m.\u001b[0m\u001b[0m_setattr_cm\u001b[0m\u001b[0;34m(\u001b[0m\u001b[0mself\u001b[0m\u001b[0;34m.\u001b[0m\u001b[0mfigure\u001b[0m\u001b[0;34m,\u001b[0m \u001b[0mdpi\u001b[0m\u001b[0;34m=\u001b[0m\u001b[0mdpi\u001b[0m\u001b[0;34m)\u001b[0m\u001b[0;34m:\u001b[0m\u001b[0;34m\u001b[0m\u001b[0;34m\u001b[0m\u001b[0m\n\u001b[0m\u001b[1;32m    903\u001b[0m             \u001b[0mbbox\u001b[0m\u001b[0;34m,\u001b[0m \u001b[0minfo\u001b[0m\u001b[0;34m,\u001b[0m \u001b[0mdescent\u001b[0m \u001b[0;34m=\u001b[0m \u001b[0mself\u001b[0m\u001b[0;34m.\u001b[0m\u001b[0m_get_layout\u001b[0m\u001b[0;34m(\u001b[0m\u001b[0mself\u001b[0m\u001b[0;34m.\u001b[0m\u001b[0m_renderer\u001b[0m\u001b[0;34m)\u001b[0m\u001b[0;34m\u001b[0m\u001b[0;34m\u001b[0m\u001b[0m\n\u001b[1;32m    904\u001b[0m             \u001b[0mx\u001b[0m\u001b[0;34m,\u001b[0m \u001b[0my\u001b[0m \u001b[0;34m=\u001b[0m \u001b[0mself\u001b[0m\u001b[0;34m.\u001b[0m\u001b[0mget_unitless_position\u001b[0m\u001b[0;34m(\u001b[0m\u001b[0;34m)\u001b[0m\u001b[0;34m\u001b[0m\u001b[0;34m\u001b[0m\u001b[0m\n",
      "\u001b[0;32m/opt/conda/lib/python3.9/contextlib.py\u001b[0m in \u001b[0;36m__enter__\u001b[0;34m(self)\u001b[0m\n\u001b[1;32m    114\u001b[0m         \u001b[0;31m# they are only needed for recreation, which is not possible anymore\u001b[0m\u001b[0;34m\u001b[0m\u001b[0;34m\u001b[0m\u001b[0;34m\u001b[0m\u001b[0m\n\u001b[1;32m    115\u001b[0m         \u001b[0;32mdel\u001b[0m \u001b[0mself\u001b[0m\u001b[0;34m.\u001b[0m\u001b[0margs\u001b[0m\u001b[0;34m,\u001b[0m \u001b[0mself\u001b[0m\u001b[0;34m.\u001b[0m\u001b[0mkwds\u001b[0m\u001b[0;34m,\u001b[0m \u001b[0mself\u001b[0m\u001b[0;34m.\u001b[0m\u001b[0mfunc\u001b[0m\u001b[0;34m\u001b[0m\u001b[0;34m\u001b[0m\u001b[0m\n\u001b[0;32m--> 116\u001b[0;31m         \u001b[0;32mtry\u001b[0m\u001b[0;34m:\u001b[0m\u001b[0;34m\u001b[0m\u001b[0;34m\u001b[0m\u001b[0m\n\u001b[0m\u001b[1;32m    117\u001b[0m             \u001b[0;32mreturn\u001b[0m \u001b[0mnext\u001b[0m\u001b[0;34m(\u001b[0m\u001b[0mself\u001b[0m\u001b[0;34m.\u001b[0m\u001b[0mgen\u001b[0m\u001b[0;34m)\u001b[0m\u001b[0;34m\u001b[0m\u001b[0;34m\u001b[0m\u001b[0m\n\u001b[1;32m    118\u001b[0m         \u001b[0;32mexcept\u001b[0m \u001b[0mStopIteration\u001b[0m\u001b[0;34m:\u001b[0m\u001b[0;34m\u001b[0m\u001b[0;34m\u001b[0m\u001b[0m\n",
      "\u001b[0;31mKeyboardInterrupt\u001b[0m: "
     ]
    }
   ],
   "source": [
    "sns.lineplot(data = combined_floors, x = 'time', y = 'Outside Air Temp', hue = 'floor', estimator = None, n_boot = 0)"
   ]
  },
  {
   "cell_type": "code",
   "execution_count": null,
   "id": "730d602f",
   "metadata": {},
   "outputs": [],
   "source": []
  },
  {
   "cell_type": "code",
   "execution_count": 39,
   "id": "f4850697",
   "metadata": {},
   "outputs": [
    {
     "ename": "KeyboardInterrupt",
     "evalue": "",
     "output_type": "error",
     "traceback": [
      "\u001b[0;31m---------------------------------------------------------------------------\u001b[0m",
      "\u001b[0;31mKeyboardInterrupt\u001b[0m                         Traceback (most recent call last)",
      "\u001b[0;32m/tmp/ipykernel_478/1970418660.py\u001b[0m in \u001b[0;36m<module>\u001b[0;34m\u001b[0m\n\u001b[0;32m----> 1\u001b[0;31m \u001b[0msns\u001b[0m\u001b[0;34m.\u001b[0m\u001b[0mlineplot\u001b[0m\u001b[0;34m(\u001b[0m\u001b[0mdata\u001b[0m \u001b[0;34m=\u001b[0m \u001b[0mcombined_floors\u001b[0m\u001b[0;34m,\u001b[0m \u001b[0mx\u001b[0m \u001b[0;34m=\u001b[0m \u001b[0;34m'time_transformed'\u001b[0m\u001b[0;34m,\u001b[0m \u001b[0my\u001b[0m \u001b[0;34m=\u001b[0m \u001b[0;34m'energy'\u001b[0m\u001b[0;34m,\u001b[0m \u001b[0mhue\u001b[0m \u001b[0;34m=\u001b[0m \u001b[0;34m'floor'\u001b[0m\u001b[0;34m)\u001b[0m\u001b[0;34m\u001b[0m\u001b[0;34m\u001b[0m\u001b[0m\n\u001b[0m",
      "\u001b[0;32m/opt/conda/lib/python3.9/site-packages/seaborn/_decorators.py\u001b[0m in \u001b[0;36minner_f\u001b[0;34m(*args, **kwargs)\u001b[0m\n\u001b[1;32m     44\u001b[0m             )\n\u001b[1;32m     45\u001b[0m         \u001b[0mkwargs\u001b[0m\u001b[0;34m.\u001b[0m\u001b[0mupdate\u001b[0m\u001b[0;34m(\u001b[0m\u001b[0;34m{\u001b[0m\u001b[0mk\u001b[0m\u001b[0;34m:\u001b[0m \u001b[0marg\u001b[0m \u001b[0;32mfor\u001b[0m \u001b[0mk\u001b[0m\u001b[0;34m,\u001b[0m \u001b[0marg\u001b[0m \u001b[0;32min\u001b[0m \u001b[0mzip\u001b[0m\u001b[0;34m(\u001b[0m\u001b[0msig\u001b[0m\u001b[0;34m.\u001b[0m\u001b[0mparameters\u001b[0m\u001b[0;34m,\u001b[0m \u001b[0margs\u001b[0m\u001b[0;34m)\u001b[0m\u001b[0;34m}\u001b[0m\u001b[0;34m)\u001b[0m\u001b[0;34m\u001b[0m\u001b[0;34m\u001b[0m\u001b[0m\n\u001b[0;32m---> 46\u001b[0;31m         \u001b[0;32mreturn\u001b[0m \u001b[0mf\u001b[0m\u001b[0;34m(\u001b[0m\u001b[0;34m**\u001b[0m\u001b[0mkwargs\u001b[0m\u001b[0;34m)\u001b[0m\u001b[0;34m\u001b[0m\u001b[0;34m\u001b[0m\u001b[0m\n\u001b[0m\u001b[1;32m     47\u001b[0m     \u001b[0;32mreturn\u001b[0m \u001b[0minner_f\u001b[0m\u001b[0;34m\u001b[0m\u001b[0;34m\u001b[0m\u001b[0m\n\u001b[1;32m     48\u001b[0m \u001b[0;34m\u001b[0m\u001b[0m\n",
      "\u001b[0;32m/opt/conda/lib/python3.9/site-packages/seaborn/relational.py\u001b[0m in \u001b[0;36mlineplot\u001b[0;34m(x, y, hue, size, style, data, palette, hue_order, hue_norm, sizes, size_order, size_norm, dashes, markers, style_order, units, estimator, ci, n_boot, seed, sort, err_style, err_kws, legend, ax, **kwargs)\u001b[0m\n\u001b[1;32m    701\u001b[0m     \u001b[0mp\u001b[0m\u001b[0;34m.\u001b[0m\u001b[0m_attach\u001b[0m\u001b[0;34m(\u001b[0m\u001b[0max\u001b[0m\u001b[0;34m)\u001b[0m\u001b[0;34m\u001b[0m\u001b[0;34m\u001b[0m\u001b[0m\n\u001b[1;32m    702\u001b[0m \u001b[0;34m\u001b[0m\u001b[0m\n\u001b[0;32m--> 703\u001b[0;31m     \u001b[0mp\u001b[0m\u001b[0;34m.\u001b[0m\u001b[0mplot\u001b[0m\u001b[0;34m(\u001b[0m\u001b[0max\u001b[0m\u001b[0;34m,\u001b[0m \u001b[0mkwargs\u001b[0m\u001b[0;34m)\u001b[0m\u001b[0;34m\u001b[0m\u001b[0;34m\u001b[0m\u001b[0m\n\u001b[0m\u001b[1;32m    704\u001b[0m     \u001b[0;32mreturn\u001b[0m \u001b[0max\u001b[0m\u001b[0;34m\u001b[0m\u001b[0;34m\u001b[0m\u001b[0m\n\u001b[1;32m    705\u001b[0m \u001b[0;34m\u001b[0m\u001b[0m\n",
      "\u001b[0;32m/opt/conda/lib/python3.9/site-packages/seaborn/relational.py\u001b[0m in \u001b[0;36mplot\u001b[0;34m(self, ax, kws)\u001b[0m\n\u001b[1;32m    497\u001b[0m                     \u001b[0merr\u001b[0m \u001b[0;34m=\u001b[0m \u001b[0;34m\"estimator must be None when specifying units\"\u001b[0m\u001b[0;34m\u001b[0m\u001b[0;34m\u001b[0m\u001b[0m\n\u001b[1;32m    498\u001b[0m                     \u001b[0;32mraise\u001b[0m \u001b[0mValueError\u001b[0m\u001b[0;34m(\u001b[0m\u001b[0merr\u001b[0m\u001b[0;34m)\u001b[0m\u001b[0;34m\u001b[0m\u001b[0;34m\u001b[0m\u001b[0m\n\u001b[0;32m--> 499\u001b[0;31m                 \u001b[0mx\u001b[0m\u001b[0;34m,\u001b[0m \u001b[0my\u001b[0m\u001b[0;34m,\u001b[0m \u001b[0my_ci\u001b[0m \u001b[0;34m=\u001b[0m \u001b[0mself\u001b[0m\u001b[0;34m.\u001b[0m\u001b[0maggregate\u001b[0m\u001b[0;34m(\u001b[0m\u001b[0my\u001b[0m\u001b[0;34m,\u001b[0m \u001b[0mx\u001b[0m\u001b[0;34m,\u001b[0m \u001b[0mu\u001b[0m\u001b[0;34m)\u001b[0m\u001b[0;34m\u001b[0m\u001b[0;34m\u001b[0m\u001b[0m\n\u001b[0m\u001b[1;32m    500\u001b[0m             \u001b[0;32melse\u001b[0m\u001b[0;34m:\u001b[0m\u001b[0;34m\u001b[0m\u001b[0;34m\u001b[0m\u001b[0m\n\u001b[1;32m    501\u001b[0m                 \u001b[0my_ci\u001b[0m \u001b[0;34m=\u001b[0m \u001b[0;32mNone\u001b[0m\u001b[0;34m\u001b[0m\u001b[0;34m\u001b[0m\u001b[0m\n",
      "\u001b[0;32m/opt/conda/lib/python3.9/site-packages/seaborn/relational.py\u001b[0m in \u001b[0;36maggregate\u001b[0;34m(self, vals, grouper, units)\u001b[0m\n\u001b[1;32m    412\u001b[0m                                columns=[\"low\", \"high\"]).stack()\n\u001b[1;32m    413\u001b[0m         \u001b[0;32melse\u001b[0m\u001b[0;34m:\u001b[0m\u001b[0;34m\u001b[0m\u001b[0;34m\u001b[0m\u001b[0m\n\u001b[0;32m--> 414\u001b[0;31m             \u001b[0mcis\u001b[0m \u001b[0;34m=\u001b[0m \u001b[0mgrouped\u001b[0m\u001b[0;34m.\u001b[0m\u001b[0mapply\u001b[0m\u001b[0;34m(\u001b[0m\u001b[0mbootstrapped_cis\u001b[0m\u001b[0;34m)\u001b[0m\u001b[0;34m\u001b[0m\u001b[0;34m\u001b[0m\u001b[0m\n\u001b[0m\u001b[1;32m    415\u001b[0m \u001b[0;34m\u001b[0m\u001b[0m\n\u001b[1;32m    416\u001b[0m         \u001b[0;31m# Unpack the CIs into \"wide\" format for plotting\u001b[0m\u001b[0;34m\u001b[0m\u001b[0;34m\u001b[0m\u001b[0;34m\u001b[0m\u001b[0m\n",
      "\u001b[0;32m/opt/conda/lib/python3.9/site-packages/pandas/core/groupby/generic.py\u001b[0m in \u001b[0;36mapply\u001b[0;34m(self, func, *args, **kwargs)\u001b[0m\n\u001b[1;32m    242\u001b[0m     )\n\u001b[1;32m    243\u001b[0m     \u001b[0;32mdef\u001b[0m \u001b[0mapply\u001b[0m\u001b[0;34m(\u001b[0m\u001b[0mself\u001b[0m\u001b[0;34m,\u001b[0m \u001b[0mfunc\u001b[0m\u001b[0;34m,\u001b[0m \u001b[0;34m*\u001b[0m\u001b[0margs\u001b[0m\u001b[0;34m,\u001b[0m \u001b[0;34m**\u001b[0m\u001b[0mkwargs\u001b[0m\u001b[0;34m)\u001b[0m\u001b[0;34m:\u001b[0m\u001b[0;34m\u001b[0m\u001b[0;34m\u001b[0m\u001b[0m\n\u001b[0;32m--> 244\u001b[0;31m         \u001b[0;32mreturn\u001b[0m \u001b[0msuper\u001b[0m\u001b[0;34m(\u001b[0m\u001b[0;34m)\u001b[0m\u001b[0;34m.\u001b[0m\u001b[0mapply\u001b[0m\u001b[0;34m(\u001b[0m\u001b[0mfunc\u001b[0m\u001b[0;34m,\u001b[0m \u001b[0;34m*\u001b[0m\u001b[0margs\u001b[0m\u001b[0;34m,\u001b[0m \u001b[0;34m**\u001b[0m\u001b[0mkwargs\u001b[0m\u001b[0;34m)\u001b[0m\u001b[0;34m\u001b[0m\u001b[0;34m\u001b[0m\u001b[0m\n\u001b[0m\u001b[1;32m    245\u001b[0m \u001b[0;34m\u001b[0m\u001b[0m\n\u001b[1;32m    246\u001b[0m     \u001b[0;34m@\u001b[0m\u001b[0mdoc\u001b[0m\u001b[0;34m(\u001b[0m\u001b[0m_agg_template\u001b[0m\u001b[0;34m,\u001b[0m \u001b[0mexamples\u001b[0m\u001b[0;34m=\u001b[0m\u001b[0m_agg_examples_doc\u001b[0m\u001b[0;34m,\u001b[0m \u001b[0mklass\u001b[0m\u001b[0;34m=\u001b[0m\u001b[0;34m\"Series\"\u001b[0m\u001b[0;34m)\u001b[0m\u001b[0;34m\u001b[0m\u001b[0;34m\u001b[0m\u001b[0m\n",
      "\u001b[0;32m/opt/conda/lib/python3.9/site-packages/pandas/core/groupby/groupby.py\u001b[0m in \u001b[0;36mapply\u001b[0;34m(self, func, *args, **kwargs)\u001b[0m\n\u001b[1;32m   1421\u001b[0m         \u001b[0;32mwith\u001b[0m \u001b[0moption_context\u001b[0m\u001b[0;34m(\u001b[0m\u001b[0;34m\"mode.chained_assignment\"\u001b[0m\u001b[0;34m,\u001b[0m \u001b[0;32mNone\u001b[0m\u001b[0;34m)\u001b[0m\u001b[0;34m:\u001b[0m\u001b[0;34m\u001b[0m\u001b[0;34m\u001b[0m\u001b[0m\n\u001b[1;32m   1422\u001b[0m             \u001b[0;32mtry\u001b[0m\u001b[0;34m:\u001b[0m\u001b[0;34m\u001b[0m\u001b[0;34m\u001b[0m\u001b[0m\n\u001b[0;32m-> 1423\u001b[0;31m                 \u001b[0mresult\u001b[0m \u001b[0;34m=\u001b[0m \u001b[0mself\u001b[0m\u001b[0;34m.\u001b[0m\u001b[0m_python_apply_general\u001b[0m\u001b[0;34m(\u001b[0m\u001b[0mf\u001b[0m\u001b[0;34m,\u001b[0m \u001b[0mself\u001b[0m\u001b[0;34m.\u001b[0m\u001b[0m_selected_obj\u001b[0m\u001b[0;34m)\u001b[0m\u001b[0;34m\u001b[0m\u001b[0;34m\u001b[0m\u001b[0m\n\u001b[0m\u001b[1;32m   1424\u001b[0m             \u001b[0;32mexcept\u001b[0m \u001b[0mTypeError\u001b[0m\u001b[0;34m:\u001b[0m\u001b[0;34m\u001b[0m\u001b[0;34m\u001b[0m\u001b[0m\n\u001b[1;32m   1425\u001b[0m                 \u001b[0;31m# gh-20949\u001b[0m\u001b[0;34m\u001b[0m\u001b[0;34m\u001b[0m\u001b[0;34m\u001b[0m\u001b[0m\n",
      "\u001b[0;32m/opt/conda/lib/python3.9/site-packages/pandas/core/groupby/groupby.py\u001b[0m in \u001b[0;36m_python_apply_general\u001b[0;34m(self, f, data, not_indexed_same)\u001b[0m\n\u001b[1;32m   1462\u001b[0m             \u001b[0mdata\u001b[0m \u001b[0mafter\u001b[0m \u001b[0mapplying\u001b[0m \u001b[0mf\u001b[0m\u001b[0;34m\u001b[0m\u001b[0;34m\u001b[0m\u001b[0m\n\u001b[1;32m   1463\u001b[0m         \"\"\"\n\u001b[0;32m-> 1464\u001b[0;31m         \u001b[0mvalues\u001b[0m\u001b[0;34m,\u001b[0m \u001b[0mmutated\u001b[0m \u001b[0;34m=\u001b[0m \u001b[0mself\u001b[0m\u001b[0;34m.\u001b[0m\u001b[0mgrouper\u001b[0m\u001b[0;34m.\u001b[0m\u001b[0mapply\u001b[0m\u001b[0;34m(\u001b[0m\u001b[0mf\u001b[0m\u001b[0;34m,\u001b[0m \u001b[0mdata\u001b[0m\u001b[0;34m,\u001b[0m \u001b[0mself\u001b[0m\u001b[0;34m.\u001b[0m\u001b[0maxis\u001b[0m\u001b[0;34m)\u001b[0m\u001b[0;34m\u001b[0m\u001b[0;34m\u001b[0m\u001b[0m\n\u001b[0m\u001b[1;32m   1465\u001b[0m \u001b[0;34m\u001b[0m\u001b[0m\n\u001b[1;32m   1466\u001b[0m         \u001b[0;32mif\u001b[0m \u001b[0mnot_indexed_same\u001b[0m \u001b[0;32mis\u001b[0m \u001b[0;32mNone\u001b[0m\u001b[0;34m:\u001b[0m\u001b[0;34m\u001b[0m\u001b[0;34m\u001b[0m\u001b[0m\n",
      "\u001b[0;32m/opt/conda/lib/python3.9/site-packages/pandas/core/groupby/ops.py\u001b[0m in \u001b[0;36mapply\u001b[0;34m(self, f, data, axis)\u001b[0m\n\u001b[1;32m    759\u001b[0m             \u001b[0;31m# group might be modified\u001b[0m\u001b[0;34m\u001b[0m\u001b[0;34m\u001b[0m\u001b[0;34m\u001b[0m\u001b[0m\n\u001b[1;32m    760\u001b[0m             \u001b[0mgroup_axes\u001b[0m \u001b[0;34m=\u001b[0m \u001b[0mgroup\u001b[0m\u001b[0;34m.\u001b[0m\u001b[0maxes\u001b[0m\u001b[0;34m\u001b[0m\u001b[0;34m\u001b[0m\u001b[0m\n\u001b[0;32m--> 761\u001b[0;31m             \u001b[0mres\u001b[0m \u001b[0;34m=\u001b[0m \u001b[0mf\u001b[0m\u001b[0;34m(\u001b[0m\u001b[0mgroup\u001b[0m\u001b[0;34m)\u001b[0m\u001b[0;34m\u001b[0m\u001b[0;34m\u001b[0m\u001b[0m\n\u001b[0m\u001b[1;32m    762\u001b[0m             \u001b[0;32mif\u001b[0m \u001b[0;32mnot\u001b[0m \u001b[0mmutated\u001b[0m \u001b[0;32mand\u001b[0m \u001b[0;32mnot\u001b[0m \u001b[0m_is_indexed_like\u001b[0m\u001b[0;34m(\u001b[0m\u001b[0mres\u001b[0m\u001b[0;34m,\u001b[0m \u001b[0mgroup_axes\u001b[0m\u001b[0;34m,\u001b[0m \u001b[0maxis\u001b[0m\u001b[0;34m)\u001b[0m\u001b[0;34m:\u001b[0m\u001b[0;34m\u001b[0m\u001b[0;34m\u001b[0m\u001b[0m\n\u001b[1;32m    763\u001b[0m                 \u001b[0mmutated\u001b[0m \u001b[0;34m=\u001b[0m \u001b[0;32mTrue\u001b[0m\u001b[0;34m\u001b[0m\u001b[0;34m\u001b[0m\u001b[0m\n",
      "\u001b[0;32m/opt/conda/lib/python3.9/site-packages/seaborn/relational.py\u001b[0m in \u001b[0;36mbootstrapped_cis\u001b[0;34m(vals)\u001b[0m\n\u001b[1;32m    393\u001b[0m                 \u001b[0;32mreturn\u001b[0m \u001b[0mnull_ci\u001b[0m\u001b[0;34m\u001b[0m\u001b[0;34m\u001b[0m\u001b[0m\n\u001b[1;32m    394\u001b[0m \u001b[0;34m\u001b[0m\u001b[0m\n\u001b[0;32m--> 395\u001b[0;31m             \u001b[0mboots\u001b[0m \u001b[0;34m=\u001b[0m \u001b[0mbootstrap\u001b[0m\u001b[0;34m(\u001b[0m\u001b[0mvals\u001b[0m\u001b[0;34m,\u001b[0m \u001b[0mfunc\u001b[0m\u001b[0;34m=\u001b[0m\u001b[0mfunc\u001b[0m\u001b[0;34m,\u001b[0m \u001b[0mn_boot\u001b[0m\u001b[0;34m=\u001b[0m\u001b[0mn_boot\u001b[0m\u001b[0;34m,\u001b[0m \u001b[0mseed\u001b[0m\u001b[0;34m=\u001b[0m\u001b[0mseed\u001b[0m\u001b[0;34m)\u001b[0m\u001b[0;34m\u001b[0m\u001b[0;34m\u001b[0m\u001b[0m\n\u001b[0m\u001b[1;32m    396\u001b[0m             \u001b[0mcis\u001b[0m \u001b[0;34m=\u001b[0m \u001b[0mci_func\u001b[0m\u001b[0;34m(\u001b[0m\u001b[0mboots\u001b[0m\u001b[0;34m,\u001b[0m \u001b[0mci\u001b[0m\u001b[0;34m)\u001b[0m\u001b[0;34m\u001b[0m\u001b[0;34m\u001b[0m\u001b[0m\n\u001b[1;32m    397\u001b[0m             \u001b[0;32mreturn\u001b[0m \u001b[0mpd\u001b[0m\u001b[0;34m.\u001b[0m\u001b[0mSeries\u001b[0m\u001b[0;34m(\u001b[0m\u001b[0mcis\u001b[0m\u001b[0;34m,\u001b[0m \u001b[0;34m[\u001b[0m\u001b[0;34m\"low\"\u001b[0m\u001b[0;34m,\u001b[0m \u001b[0;34m\"high\"\u001b[0m\u001b[0;34m]\u001b[0m\u001b[0;34m)\u001b[0m\u001b[0;34m\u001b[0m\u001b[0;34m\u001b[0m\u001b[0m\n",
      "\u001b[0;32m/opt/conda/lib/python3.9/site-packages/seaborn/algorithms.py\u001b[0m in \u001b[0;36mbootstrap\u001b[0;34m(*args, **kwargs)\u001b[0m\n\u001b[1;32m     81\u001b[0m     \u001b[0mboot_dist\u001b[0m \u001b[0;34m=\u001b[0m \u001b[0;34m[\u001b[0m\u001b[0;34m]\u001b[0m\u001b[0;34m\u001b[0m\u001b[0;34m\u001b[0m\u001b[0m\n\u001b[1;32m     82\u001b[0m     \u001b[0;32mfor\u001b[0m \u001b[0mi\u001b[0m \u001b[0;32min\u001b[0m \u001b[0mrange\u001b[0m\u001b[0;34m(\u001b[0m\u001b[0mint\u001b[0m\u001b[0;34m(\u001b[0m\u001b[0mn_boot\u001b[0m\u001b[0;34m)\u001b[0m\u001b[0;34m)\u001b[0m\u001b[0;34m:\u001b[0m\u001b[0;34m\u001b[0m\u001b[0;34m\u001b[0m\u001b[0m\n\u001b[0;32m---> 83\u001b[0;31m         \u001b[0mresampler\u001b[0m \u001b[0;34m=\u001b[0m \u001b[0mintegers\u001b[0m\u001b[0;34m(\u001b[0m\u001b[0;36m0\u001b[0m\u001b[0;34m,\u001b[0m \u001b[0mn\u001b[0m\u001b[0;34m,\u001b[0m \u001b[0mn\u001b[0m\u001b[0;34m,\u001b[0m \u001b[0mdtype\u001b[0m\u001b[0;34m=\u001b[0m\u001b[0mnp\u001b[0m\u001b[0;34m.\u001b[0m\u001b[0mintp\u001b[0m\u001b[0;34m)\u001b[0m  \u001b[0;31m# intp is indexing dtype\u001b[0m\u001b[0;34m\u001b[0m\u001b[0;34m\u001b[0m\u001b[0m\n\u001b[0m\u001b[1;32m     84\u001b[0m         \u001b[0msample\u001b[0m \u001b[0;34m=\u001b[0m \u001b[0;34m[\u001b[0m\u001b[0ma\u001b[0m\u001b[0;34m.\u001b[0m\u001b[0mtake\u001b[0m\u001b[0;34m(\u001b[0m\u001b[0mresampler\u001b[0m\u001b[0;34m,\u001b[0m \u001b[0maxis\u001b[0m\u001b[0;34m=\u001b[0m\u001b[0;36m0\u001b[0m\u001b[0;34m)\u001b[0m \u001b[0;32mfor\u001b[0m \u001b[0ma\u001b[0m \u001b[0;32min\u001b[0m \u001b[0margs\u001b[0m\u001b[0;34m]\u001b[0m\u001b[0;34m\u001b[0m\u001b[0;34m\u001b[0m\u001b[0m\n\u001b[1;32m     85\u001b[0m         \u001b[0mboot_dist\u001b[0m\u001b[0;34m.\u001b[0m\u001b[0mappend\u001b[0m\u001b[0;34m(\u001b[0m\u001b[0mf\u001b[0m\u001b[0;34m(\u001b[0m\u001b[0;34m*\u001b[0m\u001b[0msample\u001b[0m\u001b[0;34m,\u001b[0m \u001b[0;34m**\u001b[0m\u001b[0mfunc_kwargs\u001b[0m\u001b[0;34m)\u001b[0m\u001b[0;34m)\u001b[0m\u001b[0;34m\u001b[0m\u001b[0;34m\u001b[0m\u001b[0m\n",
      "\u001b[0;31mKeyboardInterrupt\u001b[0m: "
     ]
    },
    {
     "data": {
      "image/png": "[encoded data removed]",
      "text/plain": [
       "<Figure size 432x288 with 1 Axes>"
      ]
     },
     "metadata": {
      "needs_background": "light"
     },
     "output_type": "display_data"
    }
   ],
   "source": [
    "sns.lineplot(data = combined_floors, x = 'time_transformed', y = 'energy', hue = 'floor')"
   ]
  },
  {
   "cell_type": "markdown",
   "id": "3bcad664",
   "metadata": {},
   "source": [
    "### Update - reading in NPY file: \"Eplus-5Zone-cool-continuous-stochastic-v1_action.npy\" and examining"
   ]
  },
  {
   "cell_type": "code",
   "execution_count": 2,
   "id": "1688eb2f",
   "metadata": {},
   "outputs": [],
   "source": [
    "test_file = np.load('Eplus-5Zone-cool-continuous-stochastic-v1_action.npy', allow_pickle = False)"
   ]
  },
  {
   "cell_type": "code",
   "execution_count": 3,
   "id": "255df795",
   "metadata": {},
   "outputs": [
    {
     "data": {
      "text/plain": [
       "array([0.12102865, 0.14972145])"
      ]
     },
     "execution_count": 3,
     "metadata": {},
     "output_type": "execute_result"
    }
   ],
   "source": [
    "test_file[0]"
   ]
  },
  {
   "cell_type": "code",
   "execution_count": 4,
   "id": "4f8d5012",
   "metadata": {},
   "outputs": [
    {
     "data": {
      "text/plain": [
       "(500000, 2)"
      ]
     },
     "execution_count": 4,
     "metadata": {},
     "output_type": "execute_result"
    }
   ],
   "source": [
    "test_file.shape"
   ]
  },
  {
   "cell_type": "code",
   "execution_count": 5,
   "id": "95836008",
   "metadata": {},
   "outputs": [],
   "source": [
    "test_file_pd = pd.DataFrame(test_file)"
   ]
  },
  {
   "cell_type": "code",
   "execution_count": 6,
   "id": "c0100fb6",
   "metadata": {},
   "outputs": [
    {
     "data": {
      "text/html": [
       "<div>\n",
       "<style scoped>\n",
       "    .dataframe tbody tr th:only-of-type {\n",
       "        vertical-align: middle;\n",
       "    }\n",
       "\n",
       "    .dataframe tbody tr th {\n",
       "        vertical-align: top;\n",
       "    }\n",
       "\n",
       "    .dataframe thead th {\n",
       "        text-align: right;\n",
       "    }\n",
       "</style>\n",
       "<table border=\"1\" class=\"dataframe\">\n",
       "  <thead>\n",
       "    <tr style=\"text-align: right;\">\n",
       "      <th></th>\n",
       "      <th>0</th>\n",
       "      <th>1</th>\n",
       "    </tr>\n",
       "  </thead>\n",
       "  <tbody>\n",
       "    <tr>\n",
       "      <th>0</th>\n",
       "      <td>0.121029</td>\n",
       "      <td>0.149721</td>\n",
       "    </tr>\n",
       "    <tr>\n",
       "      <th>1</th>\n",
       "      <td>0.052947</td>\n",
       "      <td>-0.018253</td>\n",
       "    </tr>\n",
       "    <tr>\n",
       "      <th>2</th>\n",
       "      <td>0.129190</td>\n",
       "      <td>0.071326</td>\n",
       "    </tr>\n",
       "    <tr>\n",
       "      <th>3</th>\n",
       "      <td>0.173129</td>\n",
       "      <td>-0.109222</td>\n",
       "    </tr>\n",
       "    <tr>\n",
       "      <th>4</th>\n",
       "      <td>0.051290</td>\n",
       "      <td>-0.037243</td>\n",
       "    </tr>\n",
       "    <tr>\n",
       "      <th>5</th>\n",
       "      <td>-0.002858</td>\n",
       "      <td>-0.196769</td>\n",
       "    </tr>\n",
       "    <tr>\n",
       "      <th>6</th>\n",
       "      <td>0.025044</td>\n",
       "      <td>-0.263883</td>\n",
       "    </tr>\n",
       "    <tr>\n",
       "      <th>7</th>\n",
       "      <td>0.129788</td>\n",
       "      <td>-0.178143</td>\n",
       "    </tr>\n",
       "    <tr>\n",
       "      <th>8</th>\n",
       "      <td>-0.060944</td>\n",
       "      <td>-0.134886</td>\n",
       "    </tr>\n",
       "    <tr>\n",
       "      <th>9</th>\n",
       "      <td>0.078172</td>\n",
       "      <td>-0.107222</td>\n",
       "    </tr>\n",
       "  </tbody>\n",
       "</table>\n",
       "</div>"
      ],
      "text/plain": [
       "          0         1\n",
       "0  0.121029  0.149721\n",
       "1  0.052947 -0.018253\n",
       "2  0.129190  0.071326\n",
       "3  0.173129 -0.109222\n",
       "4  0.051290 -0.037243\n",
       "5 -0.002858 -0.196769\n",
       "6  0.025044 -0.263883\n",
       "7  0.129788 -0.178143\n",
       "8 -0.060944 -0.134886\n",
       "9  0.078172 -0.107222"
      ]
     },
     "execution_count": 6,
     "metadata": {},
     "output_type": "execute_result"
    }
   ],
   "source": [
    "test_file_pd.head(10)"
   ]
  },
  {
   "cell_type": "code",
   "execution_count": 7,
   "id": "1f186138",
   "metadata": {},
   "outputs": [
    {
     "data": {
      "text/plain": [
       "(500000, 2)"
      ]
     },
     "execution_count": 7,
     "metadata": {},
     "output_type": "execute_result"
    }
   ],
   "source": [
    "test_file_pd.shape"
   ]
  },
  {
   "cell_type": "markdown",
   "id": "0629f795",
   "metadata": {},
   "source": [
    "## Combined Floor - info for TensorFlow/neural nets"
   ]
  },
  {
   "cell_type": "code",
   "execution_count": 12,
   "id": "d99fa681",
   "metadata": {},
   "outputs": [],
   "source": [
    "# Want to reserve the latest data"
   ]
  },
  {
   "cell_type": "code",
   "execution_count": 21,
   "id": "667c1a3a",
   "metadata": {},
   "outputs": [
    {
     "data": {
      "text/html": [
       "<div>\n",
       "<style scoped>\n",
       "    .dataframe tbody tr th:only-of-type {\n",
       "        vertical-align: middle;\n",
       "    }\n",
       "\n",
       "    .dataframe tbody tr th {\n",
       "        vertical-align: top;\n",
       "    }\n",
       "\n",
       "    .dataframe thead th {\n",
       "        text-align: right;\n",
       "    }\n",
       "</style>\n",
       "<table border=\"1\" class=\"dataframe\">\n",
       "  <thead>\n",
       "    <tr style=\"text-align: right;\">\n",
       "      <th></th>\n",
       "      <th>time</th>\n",
       "      <th>Common Setpoint</th>\n",
       "      <th>Actual Sup Flow SP</th>\n",
       "      <th>Zone Temperature</th>\n",
       "      <th>Actual Supply Flow</th>\n",
       "      <th>energy</th>\n",
       "      <th>Outside Air Temp</th>\n",
       "      <th>Humidity</th>\n",
       "      <th>Zone Temperature Next</th>\n",
       "      <th>Actual Supply Flow Next</th>\n",
       "      <th>Outside Air Temp Next</th>\n",
       "      <th>Humidity Next</th>\n",
       "      <th>energy Next</th>\n",
       "      <th>floor</th>\n",
       "      <th>time_transformed</th>\n",
       "    </tr>\n",
       "  </thead>\n",
       "  <tbody>\n",
       "    <tr>\n",
       "      <th>0</th>\n",
       "      <td>2018-01-03T20:57:39+00:00</td>\n",
       "      <td>72.5</td>\n",
       "      <td>330.0</td>\n",
       "      <td>75.2</td>\n",
       "      <td>318.73</td>\n",
       "      <td>10.109642</td>\n",
       "      <td>68.44</td>\n",
       "      <td>56.0</td>\n",
       "      <td>75.2</td>\n",
       "      <td>317.06</td>\n",
       "      <td>68.50</td>\n",
       "      <td>56.0</td>\n",
       "      <td>10.113301</td>\n",
       "      <td>2</td>\n",
       "      <td>2018-01-03 20:57:39+00:00</td>\n",
       "    </tr>\n",
       "    <tr>\n",
       "      <th>1</th>\n",
       "      <td>2018-01-03T21:04:13+00:00</td>\n",
       "      <td>72.5</td>\n",
       "      <td>330.0</td>\n",
       "      <td>75.2</td>\n",
       "      <td>317.06</td>\n",
       "      <td>10.113301</td>\n",
       "      <td>68.50</td>\n",
       "      <td>56.0</td>\n",
       "      <td>75.7</td>\n",
       "      <td>314.34</td>\n",
       "      <td>68.25</td>\n",
       "      <td>56.0</td>\n",
       "      <td>10.099466</td>\n",
       "      <td>2</td>\n",
       "      <td>2018-01-03 21:04:13+00:00</td>\n",
       "    </tr>\n",
       "    <tr>\n",
       "      <th>2</th>\n",
       "      <td>2018-01-03T21:10:44+00:00</td>\n",
       "      <td>72.5</td>\n",
       "      <td>330.0</td>\n",
       "      <td>75.7</td>\n",
       "      <td>314.34</td>\n",
       "      <td>10.099466</td>\n",
       "      <td>68.25</td>\n",
       "      <td>56.0</td>\n",
       "      <td>75.7</td>\n",
       "      <td>313.91</td>\n",
       "      <td>68.31</td>\n",
       "      <td>56.0</td>\n",
       "      <td>10.241028</td>\n",
       "      <td>2</td>\n",
       "      <td>2018-01-03 21:10:44+00:00</td>\n",
       "    </tr>\n",
       "    <tr>\n",
       "      <th>3</th>\n",
       "      <td>2018-01-03T21:17:16+00:00</td>\n",
       "      <td>72.5</td>\n",
       "      <td>330.0</td>\n",
       "      <td>75.7</td>\n",
       "      <td>313.91</td>\n",
       "      <td>10.241028</td>\n",
       "      <td>68.31</td>\n",
       "      <td>56.0</td>\n",
       "      <td>75.7</td>\n",
       "      <td>318.31</td>\n",
       "      <td>68.44</td>\n",
       "      <td>57.0</td>\n",
       "      <td>10.187620</td>\n",
       "      <td>2</td>\n",
       "      <td>2018-01-03 21:17:16+00:00</td>\n",
       "    </tr>\n",
       "    <tr>\n",
       "      <th>4</th>\n",
       "      <td>2018-01-03T21:23:44+00:00</td>\n",
       "      <td>72.5</td>\n",
       "      <td>330.0</td>\n",
       "      <td>75.7</td>\n",
       "      <td>318.31</td>\n",
       "      <td>10.187620</td>\n",
       "      <td>68.44</td>\n",
       "      <td>57.0</td>\n",
       "      <td>75.7</td>\n",
       "      <td>316.65</td>\n",
       "      <td>68.81</td>\n",
       "      <td>57.0</td>\n",
       "      <td>10.194055</td>\n",
       "      <td>2</td>\n",
       "      <td>2018-01-03 21:23:44+00:00</td>\n",
       "    </tr>\n",
       "  </tbody>\n",
       "</table>\n",
       "</div>"
      ],
      "text/plain": [
       "                        time  Common Setpoint  Actual Sup Flow SP  \\\n",
       "0  2018-01-03T20:57:39+00:00             72.5               330.0   \n",
       "1  2018-01-03T21:04:13+00:00             72.5               330.0   \n",
       "2  2018-01-03T21:10:44+00:00             72.5               330.0   \n",
       "3  2018-01-03T21:17:16+00:00             72.5               330.0   \n",
       "4  2018-01-03T21:23:44+00:00             72.5               330.0   \n",
       "\n",
       "   Zone Temperature  Actual Supply Flow     energy  Outside Air Temp  \\\n",
       "0              75.2              318.73  10.109642             68.44   \n",
       "1              75.2              317.06  10.113301             68.50   \n",
       "2              75.7              314.34  10.099466             68.25   \n",
       "3              75.7              313.91  10.241028             68.31   \n",
       "4              75.7              318.31  10.187620             68.44   \n",
       "\n",
       "   Humidity  Zone Temperature Next  Actual Supply Flow Next  \\\n",
       "0      56.0                   75.2                   317.06   \n",
       "1      56.0                   75.7                   314.34   \n",
       "2      56.0                   75.7                   313.91   \n",
       "3      56.0                   75.7                   318.31   \n",
       "4      57.0                   75.7                   316.65   \n",
       "\n",
       "   Outside Air Temp Next  Humidity Next  energy Next  floor  \\\n",
       "0                  68.50           56.0    10.113301      2   \n",
       "1                  68.25           56.0    10.099466      2   \n",
       "2                  68.31           56.0    10.241028      2   \n",
       "3                  68.44           57.0    10.187620      2   \n",
       "4                  68.81           57.0    10.194055      2   \n",
       "\n",
       "           time_transformed  \n",
       "0 2018-01-03 20:57:39+00:00  \n",
       "1 2018-01-03 21:04:13+00:00  \n",
       "2 2018-01-03 21:10:44+00:00  \n",
       "3 2018-01-03 21:17:16+00:00  \n",
       "4 2018-01-03 21:23:44+00:00  "
      ]
     },
     "execution_count": 21,
     "metadata": {},
     "output_type": "execute_result"
    }
   ],
   "source": [
    "combined_floors.head()"
   ]
  },
  {
   "cell_type": "code",
   "execution_count": null,
   "id": "ae8d50a2",
   "metadata": {},
   "outputs": [],
   "source": []
  },
  {
   "cell_type": "code",
   "execution_count": 16,
   "id": "0249b0ed",
   "metadata": {},
   "outputs": [],
   "source": [
    "import tensorflow as tf\n",
    "from tensorflow import keras"
   ]
  },
  {
   "cell_type": "code",
   "execution_count": 22,
   "id": "d31f95fa",
   "metadata": {},
   "outputs": [],
   "source": [
    "dates = combined_floors['time_transformed'].transform(lambda x: x.date)"
   ]
  },
  {
   "cell_type": "code",
   "execution_count": 35,
   "id": "c5959a30",
   "metadata": {},
   "outputs": [],
   "source": [
    "dates_2019 = (dates >= pd.Timestamp('2019-01-01'))"
   ]
  },
  {
   "cell_type": "code",
   "execution_count": 37,
   "id": "7fa41de4",
   "metadata": {},
   "outputs": [],
   "source": [
    "onwards_2019 = combined_floors.loc[dates_2019, :]"
   ]
  },
  {
   "cell_type": "code",
   "execution_count": 41,
   "id": "d3fe52ed",
   "metadata": {},
   "outputs": [],
   "source": [
    "pre_2019 = combined_floors.loc[~dates_2019, :]"
   ]
  },
  {
   "cell_type": "code",
   "execution_count": 43,
   "id": "57fcc6dc",
   "metadata": {},
   "outputs": [
    {
     "data": {
      "text/plain": [
       "(8621, 16)"
      ]
     },
     "execution_count": 43,
     "metadata": {},
     "output_type": "execute_result"
    }
   ],
   "source": [
    "onwards_2019.shape"
   ]
  },
  {
   "cell_type": "code",
   "execution_count": 44,
   "id": "215bf4a1",
   "metadata": {},
   "outputs": [
    {
     "data": {
      "text/plain": [
       "(617056, 16)"
      ]
     },
     "execution_count": 44,
     "metadata": {},
     "output_type": "execute_result"
    }
   ],
   "source": [
    "pre_2019.shape"
   ]
  },
  {
   "cell_type": "code",
   "execution_count": 46,
   "id": "846a19f4",
   "metadata": {},
   "outputs": [
    {
     "data": {
      "text/plain": [
       "Timestamp('2019-01-07 23:39:34+0000', tz='UTC')"
      ]
     },
     "execution_count": 46,
     "metadata": {},
     "output_type": "execute_result"
    }
   ],
   "source": [
    "onwards_2019['time_transformed'].max()"
   ]
  },
  {
   "cell_type": "code",
   "execution_count": 47,
   "id": "9867f2c4",
   "metadata": {},
   "outputs": [
    {
     "data": {
      "text/plain": [
       "Timestamp('2019-01-01 00:00:49+0000', tz='UTC')"
      ]
     },
     "execution_count": 47,
     "metadata": {},
     "output_type": "execute_result"
    }
   ],
   "source": [
    "onwards_2019['time_transformed'].min()"
   ]
  },
  {
   "cell_type": "code",
   "execution_count": 48,
   "id": "74e53bb1",
   "metadata": {},
   "outputs": [
    {
     "data": {
      "text/plain": [
       "Timestamp('2018-12-31 23:54:00+0000', tz='UTC')"
      ]
     },
     "execution_count": 48,
     "metadata": {},
     "output_type": "execute_result"
    }
   ],
   "source": [
    "pre_2019['time_transformed'].max()"
   ]
  },
  {
   "cell_type": "code",
   "execution_count": 49,
   "id": "8bddc190",
   "metadata": {},
   "outputs": [
    {
     "data": {
      "text/plain": [
       "Timestamp('2017-07-07 13:38:29+0000', tz='UTC')"
      ]
     },
     "execution_count": 49,
     "metadata": {},
     "output_type": "execute_result"
    }
   ],
   "source": [
    "pre_2019['time_transformed'].min()"
   ]
  },
  {
   "cell_type": "code",
   "execution_count": null,
   "id": "bcce0c26",
   "metadata": {},
   "outputs": [],
   "source": [
    "# spans July 2017 to beginning of January 2019\n",
    "--> probably not enough data to segment via the year. if we want to go for a 70/30 split what would that be?\n",
    "\n"
   ]
  },
  {
   "cell_type": "code",
   "execution_count": null,
   "id": "b2843520",
   "metadata": {},
   "outputs": [],
   "source": [
    "# actually year and a half, so 50% would be 3/4 years\n",
    "# 75% would be 3/4 * 3/2 = 9/8, so a little over a year?"
   ]
  },
  {
   "cell_type": "code",
   "execution_count": 23,
   "id": "cb315f6a",
   "metadata": {},
   "outputs": [],
   "source": [
    "dates_test = (dates >= pd.Timestamp('2018-08-01'))"
   ]
  },
  {
   "cell_type": "code",
   "execution_count": 24,
   "id": "53d645c6",
   "metadata": {},
   "outputs": [],
   "source": [
    "onwards_test_date = combined_floors.loc[dates_test, :]\n",
    "pre_test_date = combined_floors.loc[~dates_test, :]\n"
   ]
  },
  {
   "cell_type": "code",
   "execution_count": 28,
   "id": "cd15d588",
   "metadata": {},
   "outputs": [
    {
     "data": {
      "text/plain": [
       "time                       2018-01-03T20:57:39+00:00\n",
       "Common Setpoint                                 72.5\n",
       "Actual Sup Flow SP                             330.0\n",
       "Zone Temperature                                75.2\n",
       "Actual Supply Flow                            318.73\n",
       "energy                                     10.109642\n",
       "Outside Air Temp                               68.44\n",
       "Humidity                                        56.0\n",
       "Zone Temperature Next                           75.2\n",
       "Actual Supply Flow Next                       317.06\n",
       "Outside Air Temp Next                           68.5\n",
       "Humidity Next                                   56.0\n",
       "energy Next                                10.113301\n",
       "floor                                              2\n",
       "time_transformed           2018-01-03 20:57:39+00:00\n",
       "Name: 0, dtype: object"
      ]
     },
     "execution_count": 28,
     "metadata": {},
     "output_type": "execute_result"
    }
   ],
   "source": [
    "pre_test_date.iloc[0]"
   ]
  },
  {
   "cell_type": "code",
   "execution_count": 17,
   "id": "11234a28",
   "metadata": {},
   "outputs": [
    {
     "data": {
      "text/plain": [
       "(437044, 16)"
      ]
     },
     "execution_count": 17,
     "metadata": {},
     "output_type": "execute_result"
    }
   ],
   "source": [
    "pre_test_date.shape"
   ]
  },
  {
   "cell_type": "code",
   "execution_count": 18,
   "id": "c696152c",
   "metadata": {},
   "outputs": [
    {
     "data": {
      "text/plain": [
       "(188633, 16)"
      ]
     },
     "execution_count": 18,
     "metadata": {},
     "output_type": "execute_result"
    }
   ],
   "source": [
    "onwards_test_date.shape"
   ]
  },
  {
   "cell_type": "code",
   "execution_count": 19,
   "id": "e075bfbb",
   "metadata": {},
   "outputs": [
    {
     "data": {
      "text/plain": [
       "0.3014862301155388"
      ]
     },
     "execution_count": 19,
     "metadata": {},
     "output_type": "execute_result"
    }
   ],
   "source": [
    "188633 / (188633 + 437044)"
   ]
  },
  {
   "cell_type": "code",
   "execution_count": null,
   "id": "bd443156",
   "metadata": {},
   "outputs": [],
   "source": [
    "# that's pretty close to a 70% 30% split so I think that's a fair time to cut it off at.\n",
    "# could also do it at the 7th/8th of the month to try and match days better but I think this is fine"
   ]
  },
  {
   "cell_type": "code",
   "execution_count": 25,
   "id": "e90280e1",
   "metadata": {},
   "outputs": [],
   "source": [
    "import sklearn\n",
    "from sklearn import linear_model\n",
    "from sklearn.metrics import mean_squared_error"
   ]
  },
  {
   "cell_type": "code",
   "execution_count": 21,
   "id": "96591eb2",
   "metadata": {},
   "outputs": [
    {
     "data": {
      "text/plain": [
       "Index(['Zone Num', 'time', 'Common Setpoint', 'Actual Sup Flow SP',\n",
       "       'Zone Temperature', 'Actual Supply Flow', 'energy', 'Outside Air Temp',\n",
       "       'Humidity', 'Zone Temperature Next', 'Actual Supply Flow Next',\n",
       "       'Outside Air Temp Next', 'Humidity Next', 'energy Next', 'floor',\n",
       "       'time_transformed'],\n",
       "      dtype='object')"
      ]
     },
     "execution_count": 21,
     "metadata": {},
     "output_type": "execute_result"
    }
   ],
   "source": [
    "pre_test_date.columns"
   ]
  },
  {
   "cell_type": "code",
   "execution_count": 22,
   "id": "6d705cd3",
   "metadata": {},
   "outputs": [],
   "source": [
    "pre_test_date_X = pre_test_date.loc[:, ['Zone Num', 'Common Setpoint', 'Actual Sup Flow SP', 'Zone Temperature', 'Actual Supply Flow', 'Outside Air Temp', 'Humidity', 'floor', 'time_transformed']]\n",
    "pre_test_date_y = pre_test_date['energy']\n",
    "\n",
    "onwards_test_date_X = onwards_test_date.loc[:, ['Zone Num', 'Common Setpoint', 'Actual Sup Flow SP', 'Zone Temperature', 'Actual Supply Flow', 'Outside Air Temp', 'Humidity', 'floor', 'time_transformed']]\n",
    "onwards_test_date_y = onwards_test_date['energy']"
   ]
  },
  {
   "cell_type": "code",
   "execution_count": 29,
   "id": "c72518c8",
   "metadata": {},
   "outputs": [],
   "source": [
    "pre_test_date_X['month'] = pre_test_date_X['time_transformed'].transform(lambda x: x.month)\n",
    "pre_test_date_X['year'] = pre_test_date_X['time_transformed'].transform(lambda x: x.year)\n",
    "pre_test_date_X['day'] = pre_test_date_X['time_transformed'].transform(lambda x: x.day)\n",
    "pre_test_date_X['weekday'] = pre_test_date_X['time_transformed'].transform(lambda x: x.weekday)\n",
    "pre_test_date_X['hour'] = pre_test_date_X['time_transformed'].transform(lambda x: x.hour)\n",
    "pre_test_date_X['minute'] = pre_test_date_X['time_transformed'].transform(lambda x: x.minute)\n",
    "pre_test_date_X['second'] = pre_test_date_X['time_transformed'].transform(lambda x: x.second)"
   ]
  },
  {
   "cell_type": "code",
   "execution_count": 31,
   "id": "e71a70c6",
   "metadata": {},
   "outputs": [],
   "source": [
    "onwards_test_date_X['month'] = onwards_test_date_X['time_transformed'].transform(lambda x: x.month)\n",
    "onwards_test_date_X['year'] = onwards_test_date_X['time_transformed'].transform(lambda x: x.year)\n",
    "onwards_test_date_X['day'] = onwards_test_date_X['time_transformed'].transform(lambda x: x.day)\n",
    "onwards_test_date_X['weekday'] = onwards_test_date_X['time_transformed'].transform(lambda x: x.weekday)\n",
    "onwards_test_date_X['hour'] = onwards_test_date_X['time_transformed'].transform(lambda x: x.hour)\n",
    "onwards_test_date_X['minute'] = onwards_test_date_X['time_transformed'].transform(lambda x: x.minute)\n",
    "onwards_test_date_X['second'] = onwards_test_date_X['time_transformed'].transform(lambda x: x.second)"
   ]
  },
  {
   "cell_type": "code",
   "execution_count": 32,
   "id": "6a44e57c",
   "metadata": {},
   "outputs": [],
   "source": [
    "pre_test_date_X = pre_test_date_X.drop(['time_transformed'], axis = 1)\n",
    "onwards_test_date_X = onwards_test_date_X.drop(['time_transformed'], axis = 1)\n"
   ]
  },
  {
   "cell_type": "code",
   "execution_count": null,
   "id": "e9256e32",
   "metadata": {},
   "outputs": [],
   "source": []
  },
  {
   "cell_type": "code",
   "execution_count": null,
   "id": "9fcde910",
   "metadata": {},
   "outputs": [],
   "source": []
  },
  {
   "cell_type": "code",
   "execution_count": 33,
   "id": "45783381",
   "metadata": {},
   "outputs": [
    {
     "data": {
      "text/plain": [
       "LinearRegression()"
      ]
     },
     "execution_count": 33,
     "metadata": {},
     "output_type": "execute_result"
    }
   ],
   "source": [
    "regr = linear_model.LinearRegression()\n",
    "regr.fit(pre_test_date_X, pre_test_date_y)"
   ]
  },
  {
   "cell_type": "code",
   "execution_count": 34,
   "id": "5657821f",
   "metadata": {},
   "outputs": [],
   "source": [
    "pre_y_pred = regr.predict(pre_test_date_X)\n"
   ]
  },
  {
   "cell_type": "code",
   "execution_count": 35,
   "id": "62c54ec5",
   "metadata": {},
   "outputs": [
    {
     "name": "stdout",
     "output_type": "stream",
     "text": [
      "Mean squared error: 2.70\n"
     ]
    }
   ],
   "source": [
    "print(\"Mean squared error: %.2f\" % mean_squared_error(pre_test_date_y, pre_y_pred))"
   ]
  },
  {
   "cell_type": "code",
   "execution_count": 51,
   "id": "a21ac66a",
   "metadata": {},
   "outputs": [],
   "source": [
    "onw_y_pred = regr.predict(onwards_test_date_X)"
   ]
  },
  {
   "cell_type": "code",
   "execution_count": 52,
   "id": "093d4572",
   "metadata": {},
   "outputs": [
    {
     "name": "stdout",
     "output_type": "stream",
     "text": [
      "Mean squared error: 5.34\n"
     ]
    }
   ],
   "source": [
    "print(\"Mean squared error: %.2f\" % mean_squared_error(onwards_test_date_y, onw_y_pred))"
   ]
  },
  {
   "cell_type": "code",
   "execution_count": 38,
   "id": "7522410d",
   "metadata": {},
   "outputs": [
    {
     "data": {
      "text/plain": [
       "array([10.72588004, 10.70619371, 10.70365406, ..., 11.08208599,\n",
       "       12.38503536, 12.40053448])"
      ]
     },
     "execution_count": 38,
     "metadata": {},
     "output_type": "execute_result"
    }
   ],
   "source": [
    "pre_y_pred"
   ]
  },
  {
   "cell_type": "code",
   "execution_count": 39,
   "id": "22ff6151",
   "metadata": {},
   "outputs": [
    {
     "data": {
      "text/plain": [
       "array([-4.88417108e-05,  4.51115667e-02,  8.10465201e-03,  1.32676733e-01,\n",
       "        2.28154446e-02,  2.96011340e-02, -2.16027326e-03, -4.95985951e-03,\n",
       "       -4.21803988e-02, -5.02952944e-01, -4.12046803e-03, -4.26413205e-02,\n",
       "        2.43828680e-02,  1.49412690e-04, -8.62461281e-06])"
      ]
     },
     "execution_count": 39,
     "metadata": {},
     "output_type": "execute_result"
    }
   ],
   "source": [
    "regr.coef_"
   ]
  },
  {
   "cell_type": "code",
   "execution_count": 40,
   "id": "7ca7b6b9",
   "metadata": {},
   "outputs": [
    {
     "data": {
      "text/plain": [
       "Index(['Zone Num', 'Common Setpoint', 'Actual Sup Flow SP', 'Zone Temperature',\n",
       "       'Actual Supply Flow', 'Outside Air Temp', 'Humidity', 'floor', 'month',\n",
       "       'year', 'day', 'weekday', 'hour', 'minute', 'second'],\n",
       "      dtype='object')"
      ]
     },
     "execution_count": 40,
     "metadata": {},
     "output_type": "execute_result"
    }
   ],
   "source": [
    "pre_test_date_X.columns"
   ]
  },
  {
   "cell_type": "code",
   "execution_count": 41,
   "id": "f407bbb2",
   "metadata": {},
   "outputs": [],
   "source": [
    "from sklearn import tree"
   ]
  },
  {
   "cell_type": "code",
   "execution_count": 59,
   "id": "8a1f8c91",
   "metadata": {},
   "outputs": [
    {
     "data": {
      "text/plain": [
       "DecisionTreeRegressor(max_depth=5, min_samples_split=5)"
      ]
     },
     "execution_count": 59,
     "metadata": {},
     "output_type": "execute_result"
    }
   ],
   "source": [
    "decTree = tree.DecisionTreeRegressor(max_depth = 5, min_samples_split = 5)\n",
    "decTree.fit(pre_test_date_X, pre_test_date_y)"
   ]
  },
  {
   "cell_type": "code",
   "execution_count": 60,
   "id": "fc40fe59",
   "metadata": {},
   "outputs": [],
   "source": [
    "preds_y_decTree = decTree.predict(pre_test_date_X)"
   ]
  },
  {
   "cell_type": "code",
   "execution_count": 61,
   "id": "8e43f931",
   "metadata": {},
   "outputs": [
    {
     "name": "stdout",
     "output_type": "stream",
     "text": [
      "Mean squared error: 2.58\n"
     ]
    }
   ],
   "source": [
    "print(\"Mean squared error: %.2f\" % mean_squared_error(pre_test_date_y, preds_y_decTree))"
   ]
  },
  {
   "cell_type": "code",
   "execution_count": 47,
   "id": "a00be352",
   "metadata": {},
   "outputs": [
    {
     "data": {
      "text/plain": [
       "0         10.109642\n",
       "1         10.113301\n",
       "2         10.099466\n",
       "3         10.241028\n",
       "4         10.187620\n",
       "            ...    \n",
       "624481    11.431719\n",
       "624482    10.977169\n",
       "624483    12.475430\n",
       "624484    12.558016\n",
       "624485    12.651983\n",
       "Name: energy, Length: 437044, dtype: float64"
      ]
     },
     "execution_count": 47,
     "metadata": {},
     "output_type": "execute_result"
    }
   ],
   "source": [
    "pre_test_date_y"
   ]
  },
  {
   "cell_type": "code",
   "execution_count": 48,
   "id": "62cc6100",
   "metadata": {},
   "outputs": [
    {
     "data": {
      "text/plain": [
       "array([10.10964231, 10.11330053, 10.09946608, ..., 12.47542971,\n",
       "       12.55801615, 12.65198261])"
      ]
     },
     "execution_count": 48,
     "metadata": {},
     "output_type": "execute_result"
    }
   ],
   "source": [
    "preds_y_decTree"
   ]
  },
  {
   "cell_type": "code",
   "execution_count": 62,
   "id": "a120dc6e",
   "metadata": {},
   "outputs": [],
   "source": [
    "preds_y_decTree_onw = decTree.predict(onwards_test_date_X)"
   ]
  },
  {
   "cell_type": "code",
   "execution_count": 63,
   "id": "d73c4cf7",
   "metadata": {},
   "outputs": [
    {
     "name": "stdout",
     "output_type": "stream",
     "text": [
      "Mean squared error: 4.64\n"
     ]
    }
   ],
   "source": [
    "print(\"Mean squared error: %.2f\" % mean_squared_error(onwards_test_date_y, preds_y_decTree_onw))"
   ]
  },
  {
   "cell_type": "code",
   "execution_count": null,
   "id": "da8a0ca3",
   "metadata": {},
   "outputs": [],
   "source": [
    "# decision tree over-trained --> should try to reduce that (reduced with 5 and 5, was at 8+ before)\n",
    "\n",
    "# but I'm not really sure this solves the inherent issue: we don't have the data for the temperature or the setpoint for the future\n",
    "# so how do we use the data we have with that because we want to make future predictions"
   ]
  },
  {
   "cell_type": "code",
   "execution_count": null,
   "id": "9239ca94",
   "metadata": {},
   "outputs": [],
   "source": [
    "# some resources from sklearn here: https://scikit-learn.org/stable/auto_examples/applications/plot_cyclical_feature_engineering.html#sphx-glr-auto-examples-applications-plot-cyclical-feature-engineering-py\n",
    "# as well as here:  https://scikit-learn.org/stable/modules/generated/sklearn.model_selection.TimeSeriesSplit.html\n",
    "\n",
    "# autoregression"
   ]
  },
  {
   "cell_type": "code",
   "execution_count": 64,
   "id": "4c9c4744",
   "metadata": {},
   "outputs": [],
   "source": [
    "from pandas.plotting import lag_plot"
   ]
  },
  {
   "cell_type": "code",
   "execution_count": 66,
   "id": "0557ef1f",
   "metadata": {},
   "outputs": [
    {
     "data": {
      "text/plain": [
       "<AxesSubplot:xlabel='y(t)', ylabel='y(t + 1)'>"
      ]
     },
     "execution_count": 66,
     "metadata": {},
     "output_type": "execute_result"
    },
    {
     "data": {
      "image/png": "[encoded data removed]",
      "text/plain": [
       "<Figure size 432x288 with 1 Axes>"
      ]
     },
     "metadata": {
      "needs_background": "light"
     },
     "output_type": "display_data"
    }
   ],
   "source": [
    "lag_plot(pre_test_date_y)"
   ]
  },
  {
   "cell_type": "code",
   "execution_count": null,
   "id": "dfcb7adf",
   "metadata": {},
   "outputs": [],
   "source": []
  },
  {
   "cell_type": "code",
   "execution_count": null,
   "id": "09ffd8e9",
   "metadata": {},
   "outputs": [],
   "source": [
    "# prophet test with pre-test data"
   ]
  },
  {
   "cell_type": "code",
   "execution_count": 34,
   "id": "5a5bdd36",
   "metadata": {},
   "outputs": [],
   "source": [
    "prophet_test_pre = pre_test_date.loc[:, ['time', 'energy']].rename({'time': 'ds', 'energy': 'y'}, axis = 1)"
   ]
  },
  {
   "cell_type": "code",
   "execution_count": 44,
   "id": "1202b9ef",
   "metadata": {},
   "outputs": [],
   "source": [
    "prophet_test_pre['ds'] = prophet_test_pre['ds'].transform(lambda x: x[0:-6])"
   ]
  },
  {
   "cell_type": "code",
   "execution_count": null,
   "id": "76da172b",
   "metadata": {},
   "outputs": [],
   "source": []
  },
  {
   "cell_type": "code",
   "execution_count": 36,
   "id": "01d38611",
   "metadata": {},
   "outputs": [],
   "source": [
    "prophet_model = Prophet.Prophet()"
   ]
  },
  {
   "cell_type": "code",
   "execution_count": 45,
   "id": "95be1c77",
   "metadata": {},
   "outputs": [
    {
     "name": "stderr",
     "output_type": "stream",
     "text": [
      "14:34:43 - cmdstanpy - INFO - Chain [1] start processing\n",
      "14:36:42 - cmdstanpy - INFO - Chain [1] done processing\n"
     ]
    },
    {
     "data": {
      "text/plain": [
       "<prophet.forecaster.Prophet at 0x7fd5c2a5a5e0>"
      ]
     },
     "execution_count": 45,
     "metadata": {},
     "output_type": "execute_result"
    }
   ],
   "source": [
    "prophet_model.fit(prophet_test_pre)"
   ]
  },
  {
   "cell_type": "code",
   "execution_count": 66,
   "id": "ce408187",
   "metadata": {},
   "outputs": [],
   "source": [
    "prophet_forecast = prophet_model.make_future_dataframe(periods=365, freq='H')\n",
    "prophet_forecast = prophet_model.predict(prophet_forecast)\n"
   ]
  },
  {
   "cell_type": "code",
   "execution_count": 67,
   "id": "3bcca45b",
   "metadata": {},
   "outputs": [
    {
     "data": {
      "text/html": [
       "<div>\n",
       "<style scoped>\n",
       "    .dataframe tbody tr th:only-of-type {\n",
       "        vertical-align: middle;\n",
       "    }\n",
       "\n",
       "    .dataframe tbody tr th {\n",
       "        vertical-align: top;\n",
       "    }\n",
       "\n",
       "    .dataframe thead th {\n",
       "        text-align: right;\n",
       "    }\n",
       "</style>\n",
       "<table border=\"1\" class=\"dataframe\">\n",
       "  <thead>\n",
       "    <tr style=\"text-align: right;\">\n",
       "      <th></th>\n",
       "      <th>ds</th>\n",
       "      <th>trend</th>\n",
       "      <th>yhat_lower</th>\n",
       "      <th>yhat_upper</th>\n",
       "      <th>trend_lower</th>\n",
       "      <th>trend_upper</th>\n",
       "      <th>additive_terms</th>\n",
       "      <th>additive_terms_lower</th>\n",
       "      <th>additive_terms_upper</th>\n",
       "      <th>daily</th>\n",
       "      <th>daily_lower</th>\n",
       "      <th>daily_upper</th>\n",
       "      <th>weekly</th>\n",
       "      <th>weekly_lower</th>\n",
       "      <th>weekly_upper</th>\n",
       "      <th>multiplicative_terms</th>\n",
       "      <th>multiplicative_terms_lower</th>\n",
       "      <th>multiplicative_terms_upper</th>\n",
       "      <th>yhat</th>\n",
       "    </tr>\n",
       "  </thead>\n",
       "  <tbody>\n",
       "    <tr>\n",
       "      <th>0</th>\n",
       "      <td>2017-07-07 13:38:29</td>\n",
       "      <td>11.976097</td>\n",
       "      <td>-1.830923</td>\n",
       "      <td>21.165617</td>\n",
       "      <td>11.976097</td>\n",
       "      <td>11.976097</td>\n",
       "      <td>-2.452949</td>\n",
       "      <td>-2.452949</td>\n",
       "      <td>-2.452949</td>\n",
       "      <td>-3.555696</td>\n",
       "      <td>-3.555696</td>\n",
       "      <td>-3.555696</td>\n",
       "      <td>1.102747</td>\n",
       "      <td>1.102747</td>\n",
       "      <td>1.102747</td>\n",
       "      <td>0.0</td>\n",
       "      <td>0.0</td>\n",
       "      <td>0.0</td>\n",
       "      <td>9.523148</td>\n",
       "    </tr>\n",
       "    <tr>\n",
       "      <th>1</th>\n",
       "      <td>2017-07-07 13:44:13</td>\n",
       "      <td>11.974375</td>\n",
       "      <td>-1.069506</td>\n",
       "      <td>20.667940</td>\n",
       "      <td>11.974375</td>\n",
       "      <td>11.974375</td>\n",
       "      <td>-2.319545</td>\n",
       "      <td>-2.319545</td>\n",
       "      <td>-2.319545</td>\n",
       "      <td>-3.421430</td>\n",
       "      <td>-3.421430</td>\n",
       "      <td>-3.421430</td>\n",
       "      <td>1.101885</td>\n",
       "      <td>1.101885</td>\n",
       "      <td>1.101885</td>\n",
       "      <td>0.0</td>\n",
       "      <td>0.0</td>\n",
       "      <td>0.0</td>\n",
       "      <td>9.654830</td>\n",
       "    </tr>\n",
       "    <tr>\n",
       "      <th>2</th>\n",
       "      <td>2017-07-07 13:49:47</td>\n",
       "      <td>11.972702</td>\n",
       "      <td>-0.923632</td>\n",
       "      <td>20.279881</td>\n",
       "      <td>11.972702</td>\n",
       "      <td>11.972702</td>\n",
       "      <td>-2.183989</td>\n",
       "      <td>-2.183989</td>\n",
       "      <td>-2.183989</td>\n",
       "      <td>-3.284988</td>\n",
       "      <td>-3.284988</td>\n",
       "      <td>-3.284988</td>\n",
       "      <td>1.100998</td>\n",
       "      <td>1.100998</td>\n",
       "      <td>1.100998</td>\n",
       "      <td>0.0</td>\n",
       "      <td>0.0</td>\n",
       "      <td>0.0</td>\n",
       "      <td>9.788713</td>\n",
       "    </tr>\n",
       "    <tr>\n",
       "      <th>3</th>\n",
       "      <td>2017-07-07 13:55:16</td>\n",
       "      <td>11.971055</td>\n",
       "      <td>0.253216</td>\n",
       "      <td>20.795360</td>\n",
       "      <td>11.971055</td>\n",
       "      <td>11.971055</td>\n",
       "      <td>-2.044912</td>\n",
       "      <td>-2.044912</td>\n",
       "      <td>-2.044912</td>\n",
       "      <td>-3.144987</td>\n",
       "      <td>-3.144987</td>\n",
       "      <td>-3.144987</td>\n",
       "      <td>1.100075</td>\n",
       "      <td>1.100075</td>\n",
       "      <td>1.100075</td>\n",
       "      <td>0.0</td>\n",
       "      <td>0.0</td>\n",
       "      <td>0.0</td>\n",
       "      <td>9.926143</td>\n",
       "    </tr>\n",
       "    <tr>\n",
       "      <th>4</th>\n",
       "      <td>2017-07-07 14:01:03</td>\n",
       "      <td>11.969318</td>\n",
       "      <td>-0.203210</td>\n",
       "      <td>20.192390</td>\n",
       "      <td>11.969318</td>\n",
       "      <td>11.969318</td>\n",
       "      <td>-1.892552</td>\n",
       "      <td>-1.892552</td>\n",
       "      <td>-1.892552</td>\n",
       "      <td>-2.991601</td>\n",
       "      <td>-2.991601</td>\n",
       "      <td>-2.991601</td>\n",
       "      <td>1.099049</td>\n",
       "      <td>1.099049</td>\n",
       "      <td>1.099049</td>\n",
       "      <td>0.0</td>\n",
       "      <td>0.0</td>\n",
       "      <td>0.0</td>\n",
       "      <td>10.076766</td>\n",
       "    </tr>\n",
       "    <tr>\n",
       "      <th>...</th>\n",
       "      <td>...</td>\n",
       "      <td>...</td>\n",
       "      <td>...</td>\n",
       "      <td>...</td>\n",
       "      <td>...</td>\n",
       "      <td>...</td>\n",
       "      <td>...</td>\n",
       "      <td>...</td>\n",
       "      <td>...</td>\n",
       "      <td>...</td>\n",
       "      <td>...</td>\n",
       "      <td>...</td>\n",
       "      <td>...</td>\n",
       "      <td>...</td>\n",
       "      <td>...</td>\n",
       "      <td>...</td>\n",
       "      <td>...</td>\n",
       "      <td>...</td>\n",
       "      <td>...</td>\n",
       "    </tr>\n",
       "    <tr>\n",
       "      <th>56840</th>\n",
       "      <td>2018-07-30 22:37:40</td>\n",
       "      <td>11.033418</td>\n",
       "      <td>5.238463</td>\n",
       "      <td>27.785947</td>\n",
       "      <td>8.061200</td>\n",
       "      <td>14.073775</td>\n",
       "      <td>5.215053</td>\n",
       "      <td>5.215053</td>\n",
       "      <td>5.215053</td>\n",
       "      <td>4.235368</td>\n",
       "      <td>4.235368</td>\n",
       "      <td>4.235368</td>\n",
       "      <td>0.979685</td>\n",
       "      <td>0.979685</td>\n",
       "      <td>0.979685</td>\n",
       "      <td>0.0</td>\n",
       "      <td>0.0</td>\n",
       "      <td>0.0</td>\n",
       "      <td>16.248472</td>\n",
       "    </tr>\n",
       "    <tr>\n",
       "      <th>56841</th>\n",
       "      <td>2018-07-30 23:37:40</td>\n",
       "      <td>11.035976</td>\n",
       "      <td>3.763325</td>\n",
       "      <td>27.087017</td>\n",
       "      <td>8.049446</td>\n",
       "      <td>14.089953</td>\n",
       "      <td>4.328644</td>\n",
       "      <td>4.328644</td>\n",
       "      <td>4.328644</td>\n",
       "      <td>3.324244</td>\n",
       "      <td>3.324244</td>\n",
       "      <td>3.324244</td>\n",
       "      <td>1.004400</td>\n",
       "      <td>1.004400</td>\n",
       "      <td>1.004400</td>\n",
       "      <td>0.0</td>\n",
       "      <td>0.0</td>\n",
       "      <td>0.0</td>\n",
       "      <td>15.364620</td>\n",
       "    </tr>\n",
       "    <tr>\n",
       "      <th>56842</th>\n",
       "      <td>2018-07-31 00:37:40</td>\n",
       "      <td>11.038534</td>\n",
       "      <td>4.025110</td>\n",
       "      <td>25.614645</td>\n",
       "      <td>8.029133</td>\n",
       "      <td>14.106132</td>\n",
       "      <td>3.658142</td>\n",
       "      <td>3.658142</td>\n",
       "      <td>3.658142</td>\n",
       "      <td>2.636327</td>\n",
       "      <td>2.636327</td>\n",
       "      <td>2.636327</td>\n",
       "      <td>1.021815</td>\n",
       "      <td>1.021815</td>\n",
       "      <td>1.021815</td>\n",
       "      <td>0.0</td>\n",
       "      <td>0.0</td>\n",
       "      <td>0.0</td>\n",
       "      <td>14.696676</td>\n",
       "    </tr>\n",
       "    <tr>\n",
       "      <th>56843</th>\n",
       "      <td>2018-07-31 01:37:40</td>\n",
       "      <td>11.041092</td>\n",
       "      <td>2.147762</td>\n",
       "      <td>25.750000</td>\n",
       "      <td>8.005071</td>\n",
       "      <td>14.121370</td>\n",
       "      <td>3.057295</td>\n",
       "      <td>3.057295</td>\n",
       "      <td>3.057295</td>\n",
       "      <td>2.024846</td>\n",
       "      <td>2.024846</td>\n",
       "      <td>2.024846</td>\n",
       "      <td>1.032448</td>\n",
       "      <td>1.032448</td>\n",
       "      <td>1.032448</td>\n",
       "      <td>0.0</td>\n",
       "      <td>0.0</td>\n",
       "      <td>0.0</td>\n",
       "      <td>14.098387</td>\n",
       "    </tr>\n",
       "    <tr>\n",
       "      <th>56844</th>\n",
       "      <td>2018-07-31 02:37:40</td>\n",
       "      <td>11.043650</td>\n",
       "      <td>2.687769</td>\n",
       "      <td>24.321047</td>\n",
       "      <td>7.981010</td>\n",
       "      <td>14.130781</td>\n",
       "      <td>2.175260</td>\n",
       "      <td>2.175260</td>\n",
       "      <td>2.175260</td>\n",
       "      <td>1.138394</td>\n",
       "      <td>1.138394</td>\n",
       "      <td>1.138394</td>\n",
       "      <td>1.036866</td>\n",
       "      <td>1.036866</td>\n",
       "      <td>1.036866</td>\n",
       "      <td>0.0</td>\n",
       "      <td>0.0</td>\n",
       "      <td>0.0</td>\n",
       "      <td>13.218910</td>\n",
       "    </tr>\n",
       "  </tbody>\n",
       "</table>\n",
       "<p>56845 rows × 19 columns</p>\n",
       "</div>"
      ],
      "text/plain": [
       "                       ds      trend  yhat_lower  yhat_upper  trend_lower  \\\n",
       "0     2017-07-07 13:38:29  11.976097   -1.830923   21.165617    11.976097   \n",
       "1     2017-07-07 13:44:13  11.974375   -1.069506   20.667940    11.974375   \n",
       "2     2017-07-07 13:49:47  11.972702   -0.923632   20.279881    11.972702   \n",
       "3     2017-07-07 13:55:16  11.971055    0.253216   20.795360    11.971055   \n",
       "4     2017-07-07 14:01:03  11.969318   -0.203210   20.192390    11.969318   \n",
       "...                   ...        ...         ...         ...          ...   \n",
       "56840 2018-07-30 22:37:40  11.033418    5.238463   27.785947     8.061200   \n",
       "56841 2018-07-30 23:37:40  11.035976    3.763325   27.087017     8.049446   \n",
       "56842 2018-07-31 00:37:40  11.038534    4.025110   25.614645     8.029133   \n",
       "56843 2018-07-31 01:37:40  11.041092    2.147762   25.750000     8.005071   \n",
       "56844 2018-07-31 02:37:40  11.043650    2.687769   24.321047     7.981010   \n",
       "\n",
       "       trend_upper  additive_terms  additive_terms_lower  \\\n",
       "0        11.976097       -2.452949             -2.452949   \n",
       "1        11.974375       -2.319545             -2.319545   \n",
       "2        11.972702       -2.183989             -2.183989   \n",
       "3        11.971055       -2.044912             -2.044912   \n",
       "4        11.969318       -1.892552             -1.892552   \n",
       "...            ...             ...                   ...   \n",
       "56840    14.073775        5.215053              5.215053   \n",
       "56841    14.089953        4.328644              4.328644   \n",
       "56842    14.106132        3.658142              3.658142   \n",
       "56843    14.121370        3.057295              3.057295   \n",
       "56844    14.130781        2.175260              2.175260   \n",
       "\n",
       "       additive_terms_upper     daily  daily_lower  daily_upper    weekly  \\\n",
       "0                 -2.452949 -3.555696    -3.555696    -3.555696  1.102747   \n",
       "1                 -2.319545 -3.421430    -3.421430    -3.421430  1.101885   \n",
       "2                 -2.183989 -3.284988    -3.284988    -3.284988  1.100998   \n",
       "3                 -2.044912 -3.144987    -3.144987    -3.144987  1.100075   \n",
       "4                 -1.892552 -2.991601    -2.991601    -2.991601  1.099049   \n",
       "...                     ...       ...          ...          ...       ...   \n",
       "56840              5.215053  4.235368     4.235368     4.235368  0.979685   \n",
       "56841              4.328644  3.324244     3.324244     3.324244  1.004400   \n",
       "56842              3.658142  2.636327     2.636327     2.636327  1.021815   \n",
       "56843              3.057295  2.024846     2.024846     2.024846  1.032448   \n",
       "56844              2.175260  1.138394     1.138394     1.138394  1.036866   \n",
       "\n",
       "       weekly_lower  weekly_upper  multiplicative_terms  \\\n",
       "0          1.102747      1.102747                   0.0   \n",
       "1          1.101885      1.101885                   0.0   \n",
       "2          1.100998      1.100998                   0.0   \n",
       "3          1.100075      1.100075                   0.0   \n",
       "4          1.099049      1.099049                   0.0   \n",
       "...             ...           ...                   ...   \n",
       "56840      0.979685      0.979685                   0.0   \n",
       "56841      1.004400      1.004400                   0.0   \n",
       "56842      1.021815      1.021815                   0.0   \n",
       "56843      1.032448      1.032448                   0.0   \n",
       "56844      1.036866      1.036866                   0.0   \n",
       "\n",
       "       multiplicative_terms_lower  multiplicative_terms_upper       yhat  \n",
       "0                             0.0                         0.0   9.523148  \n",
       "1                             0.0                         0.0   9.654830  \n",
       "2                             0.0                         0.0   9.788713  \n",
       "3                             0.0                         0.0   9.926143  \n",
       "4                             0.0                         0.0  10.076766  \n",
       "...                           ...                         ...        ...  \n",
       "56840                         0.0                         0.0  16.248472  \n",
       "56841                         0.0                         0.0  15.364620  \n",
       "56842                         0.0                         0.0  14.696676  \n",
       "56843                         0.0                         0.0  14.098387  \n",
       "56844                         0.0                         0.0  13.218910  \n",
       "\n",
       "[56845 rows x 19 columns]"
      ]
     },
     "execution_count": 67,
     "metadata": {},
     "output_type": "execute_result"
    }
   ],
   "source": [
    "prophet_forecast"
   ]
  },
  {
   "cell_type": "code",
   "execution_count": 68,
   "id": "7bad1b8a",
   "metadata": {},
   "outputs": [],
   "source": [
    "prophet_forecast_reduced = prophet_forecast.loc[:, ['ds', 'yhat']]"
   ]
  },
  {
   "cell_type": "code",
   "execution_count": 69,
   "id": "5825cd25",
   "metadata": {},
   "outputs": [],
   "source": [
    "prophet_forecast_reduced['timestamp_changed'] = prophet_forecast_reduced['ds'].transform(lambda x: pd.Timestamp(x))"
   ]
  },
  {
   "cell_type": "code",
   "execution_count": 60,
   "id": "9fc3982f",
   "metadata": {},
   "outputs": [],
   "source": [
    "onwards_compare = onwards_test_date.loc[:, ['time', 'energy']]\n",
    "onwards_compare['time'] = onwards_compare['time'].transform(lambda x: x[0:-6])\n",
    "onwards_compare = onwards_compare.rename({'time': 'ds', 'energy': 'yhat'}, axis = 1)\n",
    "onwards_compare['timestamp_changed'] = onwards_compare['ds'].transform(lambda x: pd.Timestamp(x))"
   ]
  },
  {
   "cell_type": "code",
   "execution_count": 61,
   "id": "e2b5abc1",
   "metadata": {},
   "outputs": [
    {
     "data": {
      "text/html": [
       "<div>\n",
       "<style scoped>\n",
       "    .dataframe tbody tr th:only-of-type {\n",
       "        vertical-align: middle;\n",
       "    }\n",
       "\n",
       "    .dataframe tbody tr th {\n",
       "        vertical-align: top;\n",
       "    }\n",
       "\n",
       "    .dataframe thead th {\n",
       "        text-align: right;\n",
       "    }\n",
       "</style>\n",
       "<table border=\"1\" class=\"dataframe\">\n",
       "  <thead>\n",
       "    <tr style=\"text-align: right;\">\n",
       "      <th></th>\n",
       "      <th>ds</th>\n",
       "      <th>yhat</th>\n",
       "      <th>timestamp_changed</th>\n",
       "    </tr>\n",
       "  </thead>\n",
       "  <tbody>\n",
       "    <tr>\n",
       "      <th>261310</th>\n",
       "      <td>2018-09-03T01:02:18</td>\n",
       "      <td>9.038064</td>\n",
       "      <td>2018-09-03 01:02:18</td>\n",
       "    </tr>\n",
       "    <tr>\n",
       "      <th>261311</th>\n",
       "      <td>2018-09-03T01:09:23</td>\n",
       "      <td>9.020124</td>\n",
       "      <td>2018-09-03 01:09:23</td>\n",
       "    </tr>\n",
       "    <tr>\n",
       "      <th>261312</th>\n",
       "      <td>2018-09-03T01:16:28</td>\n",
       "      <td>8.966305</td>\n",
       "      <td>2018-09-03 01:16:28</td>\n",
       "    </tr>\n",
       "    <tr>\n",
       "      <th>261313</th>\n",
       "      <td>2018-09-03T01:23:32</td>\n",
       "      <td>9.121355</td>\n",
       "      <td>2018-09-03 01:23:32</td>\n",
       "    </tr>\n",
       "    <tr>\n",
       "      <th>261314</th>\n",
       "      <td>2018-09-03T01:30:36</td>\n",
       "      <td>8.978479</td>\n",
       "      <td>2018-09-03 01:30:36</td>\n",
       "    </tr>\n",
       "    <tr>\n",
       "      <th>...</th>\n",
       "      <td>...</td>\n",
       "      <td>...</td>\n",
       "      <td>...</td>\n",
       "    </tr>\n",
       "    <tr>\n",
       "      <th>625672</th>\n",
       "      <td>2018-11-20T23:16:55</td>\n",
       "      <td>15.650644</td>\n",
       "      <td>2018-11-20 23:16:55</td>\n",
       "    </tr>\n",
       "    <tr>\n",
       "      <th>625673</th>\n",
       "      <td>2018-11-20T23:24:01</td>\n",
       "      <td>15.924607</td>\n",
       "      <td>2018-11-20 23:24:01</td>\n",
       "    </tr>\n",
       "    <tr>\n",
       "      <th>625674</th>\n",
       "      <td>2018-11-20T23:30:54</td>\n",
       "      <td>15.640185</td>\n",
       "      <td>2018-11-20 23:30:54</td>\n",
       "    </tr>\n",
       "    <tr>\n",
       "      <th>625675</th>\n",
       "      <td>2018-11-20T23:37:51</td>\n",
       "      <td>15.082812</td>\n",
       "      <td>2018-11-20 23:37:51</td>\n",
       "    </tr>\n",
       "    <tr>\n",
       "      <th>625676</th>\n",
       "      <td>2018-11-20T23:44:48</td>\n",
       "      <td>15.229612</td>\n",
       "      <td>2018-11-20 23:44:48</td>\n",
       "    </tr>\n",
       "  </tbody>\n",
       "</table>\n",
       "<p>188633 rows × 3 columns</p>\n",
       "</div>"
      ],
      "text/plain": [
       "                         ds       yhat   timestamp_changed\n",
       "261310  2018-09-03T01:02:18   9.038064 2018-09-03 01:02:18\n",
       "261311  2018-09-03T01:09:23   9.020124 2018-09-03 01:09:23\n",
       "261312  2018-09-03T01:16:28   8.966305 2018-09-03 01:16:28\n",
       "261313  2018-09-03T01:23:32   9.121355 2018-09-03 01:23:32\n",
       "261314  2018-09-03T01:30:36   8.978479 2018-09-03 01:30:36\n",
       "...                     ...        ...                 ...\n",
       "625672  2018-11-20T23:16:55  15.650644 2018-11-20 23:16:55\n",
       "625673  2018-11-20T23:24:01  15.924607 2018-11-20 23:24:01\n",
       "625674  2018-11-20T23:30:54  15.640185 2018-11-20 23:30:54\n",
       "625675  2018-11-20T23:37:51  15.082812 2018-11-20 23:37:51\n",
       "625676  2018-11-20T23:44:48  15.229612 2018-11-20 23:44:48\n",
       "\n",
       "[188633 rows x 3 columns]"
      ]
     },
     "execution_count": 61,
     "metadata": {},
     "output_type": "execute_result"
    }
   ],
   "source": [
    "onwards_compare"
   ]
  },
  {
   "cell_type": "code",
   "execution_count": 70,
   "id": "0ab1fb09",
   "metadata": {},
   "outputs": [],
   "source": [
    "merge_test = prophet_forecast_reduced.merge(onwards_compare, left_on = 'timestamp_changed', right_on = 'timestamp_changed')"
   ]
  },
  {
   "cell_type": "code",
   "execution_count": 71,
   "id": "c03c8567",
   "metadata": {},
   "outputs": [
    {
     "data": {
      "text/html": [
       "<div>\n",
       "<style scoped>\n",
       "    .dataframe tbody tr th:only-of-type {\n",
       "        vertical-align: middle;\n",
       "    }\n",
       "\n",
       "    .dataframe tbody tr th {\n",
       "        vertical-align: top;\n",
       "    }\n",
       "\n",
       "    .dataframe thead th {\n",
       "        text-align: right;\n",
       "    }\n",
       "</style>\n",
       "<table border=\"1\" class=\"dataframe\">\n",
       "  <thead>\n",
       "    <tr style=\"text-align: right;\">\n",
       "      <th></th>\n",
       "      <th>ds_x</th>\n",
       "      <th>yhat_x</th>\n",
       "      <th>timestamp_changed</th>\n",
       "      <th>ds_y</th>\n",
       "      <th>yhat_y</th>\n",
       "    </tr>\n",
       "  </thead>\n",
       "  <tbody>\n",
       "  </tbody>\n",
       "</table>\n",
       "</div>"
      ],
      "text/plain": [
       "Empty DataFrame\n",
       "Columns: [ds_x, yhat_x, timestamp_changed, ds_y, yhat_y]\n",
       "Index: []"
      ]
     },
     "execution_count": 71,
     "metadata": {},
     "output_type": "execute_result"
    }
   ],
   "source": [
    "merge_test"
   ]
  },
  {
   "cell_type": "code",
   "execution_count": 17,
   "id": "6e40ef82",
   "metadata": {},
   "outputs": [],
   "source": [
    "tf?"
   ]
  },
  {
   "cell_type": "code",
   "execution_count": 22,
   "id": "97e9f466",
   "metadata": {},
   "outputs": [],
   "source": [
    "keras?"
   ]
  },
  {
   "cell_type": "code",
   "execution_count": 25,
   "id": "5693515b",
   "metadata": {},
   "outputs": [
    {
     "ename": "ImportError",
     "evalue": "cannot import name 'dtensor' from 'tensorflow.compat.v2.experimental' (/opt/conda/lib/python3.9/site-packages/tensorflow/_api/v2/compat/v2/experimental/__init__.py)",
     "output_type": "error",
     "traceback": [
      "\u001b[0;31m---------------------------------------------------------------------------\u001b[0m",
      "\u001b[0;31mImportError\u001b[0m                               Traceback (most recent call last)",
      "\u001b[0;32m/tmp/ipykernel_219/4196227315.py\u001b[0m in \u001b[0;36m<module>\u001b[0;34m\u001b[0m\n\u001b[0;32m----> 1\u001b[0;31m \u001b[0;34m(\u001b[0m\u001b[0mx_train\u001b[0m\u001b[0;34m,\u001b[0m \u001b[0my_train\u001b[0m\u001b[0;34m)\u001b[0m\u001b[0;34m,\u001b[0m \u001b[0;34m(\u001b[0m\u001b[0mx_test\u001b[0m\u001b[0;34m,\u001b[0m \u001b[0my_test\u001b[0m\u001b[0;34m)\u001b[0m \u001b[0;34m=\u001b[0m \u001b[0mtf\u001b[0m\u001b[0;34m.\u001b[0m\u001b[0mkeras\u001b[0m\u001b[0;34m.\u001b[0m\u001b[0mdatasets\u001b[0m\u001b[0;34m.\u001b[0m\u001b[0mmnist\u001b[0m\u001b[0;34m.\u001b[0m\u001b[0mload_data\u001b[0m\u001b[0;34m(\u001b[0m\u001b[0;34m)\u001b[0m\u001b[0;34m\u001b[0m\u001b[0;34m\u001b[0m\u001b[0m\n\u001b[0m",
      "\u001b[0;32m/opt/conda/lib/python3.9/site-packages/tensorflow/python/util/lazy_loader.py\u001b[0m in \u001b[0;36m__getattr__\u001b[0;34m(self, item)\u001b[0m\n\u001b[1;32m     60\u001b[0m \u001b[0;34m\u001b[0m\u001b[0m\n\u001b[1;32m     61\u001b[0m   \u001b[0;32mdef\u001b[0m \u001b[0m__getattr__\u001b[0m\u001b[0;34m(\u001b[0m\u001b[0mself\u001b[0m\u001b[0;34m,\u001b[0m \u001b[0mitem\u001b[0m\u001b[0;34m)\u001b[0m\u001b[0;34m:\u001b[0m\u001b[0;34m\u001b[0m\u001b[0;34m\u001b[0m\u001b[0m\n\u001b[0;32m---> 62\u001b[0;31m     \u001b[0mmodule\u001b[0m \u001b[0;34m=\u001b[0m \u001b[0mself\u001b[0m\u001b[0;34m.\u001b[0m\u001b[0m_load\u001b[0m\u001b[0;34m(\u001b[0m\u001b[0;34m)\u001b[0m\u001b[0;34m\u001b[0m\u001b[0;34m\u001b[0m\u001b[0m\n\u001b[0m\u001b[1;32m     63\u001b[0m     \u001b[0;32mreturn\u001b[0m \u001b[0mgetattr\u001b[0m\u001b[0;34m(\u001b[0m\u001b[0mmodule\u001b[0m\u001b[0;34m,\u001b[0m \u001b[0mitem\u001b[0m\u001b[0;34m)\u001b[0m\u001b[0;34m\u001b[0m\u001b[0;34m\u001b[0m\u001b[0m\n\u001b[1;32m     64\u001b[0m \u001b[0;34m\u001b[0m\u001b[0m\n",
      "\u001b[0;32m/opt/conda/lib/python3.9/site-packages/tensorflow/python/util/lazy_loader.py\u001b[0m in \u001b[0;36m_load\u001b[0;34m(self)\u001b[0m\n\u001b[1;32m     43\u001b[0m     \u001b[0;34m\"\"\"Load the module and insert it into the parent's globals.\"\"\"\u001b[0m\u001b[0;34m\u001b[0m\u001b[0;34m\u001b[0m\u001b[0m\n\u001b[1;32m     44\u001b[0m     \u001b[0;31m# Import the target module and insert it into the parent's namespace\u001b[0m\u001b[0;34m\u001b[0m\u001b[0;34m\u001b[0m\u001b[0;34m\u001b[0m\u001b[0m\n\u001b[0;32m---> 45\u001b[0;31m     \u001b[0mmodule\u001b[0m \u001b[0;34m=\u001b[0m \u001b[0mimportlib\u001b[0m\u001b[0;34m.\u001b[0m\u001b[0mimport_module\u001b[0m\u001b[0;34m(\u001b[0m\u001b[0mself\u001b[0m\u001b[0;34m.\u001b[0m\u001b[0m__name__\u001b[0m\u001b[0;34m)\u001b[0m\u001b[0;34m\u001b[0m\u001b[0;34m\u001b[0m\u001b[0m\n\u001b[0m\u001b[1;32m     46\u001b[0m     \u001b[0mself\u001b[0m\u001b[0;34m.\u001b[0m\u001b[0m_parent_module_globals\u001b[0m\u001b[0;34m[\u001b[0m\u001b[0mself\u001b[0m\u001b[0;34m.\u001b[0m\u001b[0m_local_name\u001b[0m\u001b[0;34m]\u001b[0m \u001b[0;34m=\u001b[0m \u001b[0mmodule\u001b[0m\u001b[0;34m\u001b[0m\u001b[0;34m\u001b[0m\u001b[0m\n\u001b[1;32m     47\u001b[0m \u001b[0;34m\u001b[0m\u001b[0m\n",
      "\u001b[0;32m/opt/conda/lib/python3.9/importlib/__init__.py\u001b[0m in \u001b[0;36mimport_module\u001b[0;34m(name, package)\u001b[0m\n\u001b[1;32m    125\u001b[0m                 \u001b[0;32mbreak\u001b[0m\u001b[0;34m\u001b[0m\u001b[0;34m\u001b[0m\u001b[0m\n\u001b[1;32m    126\u001b[0m             \u001b[0mlevel\u001b[0m \u001b[0;34m+=\u001b[0m \u001b[0;36m1\u001b[0m\u001b[0;34m\u001b[0m\u001b[0;34m\u001b[0m\u001b[0m\n\u001b[0;32m--> 127\u001b[0;31m     \u001b[0;32mreturn\u001b[0m \u001b[0m_bootstrap\u001b[0m\u001b[0;34m.\u001b[0m\u001b[0m_gcd_import\u001b[0m\u001b[0;34m(\u001b[0m\u001b[0mname\u001b[0m\u001b[0;34m[\u001b[0m\u001b[0mlevel\u001b[0m\u001b[0;34m:\u001b[0m\u001b[0;34m]\u001b[0m\u001b[0;34m,\u001b[0m \u001b[0mpackage\u001b[0m\u001b[0;34m,\u001b[0m \u001b[0mlevel\u001b[0m\u001b[0;34m)\u001b[0m\u001b[0;34m\u001b[0m\u001b[0;34m\u001b[0m\u001b[0m\n\u001b[0m\u001b[1;32m    128\u001b[0m \u001b[0;34m\u001b[0m\u001b[0m\n\u001b[1;32m    129\u001b[0m \u001b[0;34m\u001b[0m\u001b[0m\n",
      "\u001b[0;32m/opt/conda/lib/python3.9/importlib/_bootstrap.py\u001b[0m in \u001b[0;36m_gcd_import\u001b[0;34m(name, package, level)\u001b[0m\n",
      "\u001b[0;32m/opt/conda/lib/python3.9/importlib/_bootstrap.py\u001b[0m in \u001b[0;36m_find_and_load\u001b[0;34m(name, import_)\u001b[0m\n",
      "\u001b[0;32m/opt/conda/lib/python3.9/importlib/_bootstrap.py\u001b[0m in \u001b[0;36m_find_and_load_unlocked\u001b[0;34m(name, import_)\u001b[0m\n",
      "\u001b[0;32m/opt/conda/lib/python3.9/importlib/_bootstrap.py\u001b[0m in \u001b[0;36m_call_with_frames_removed\u001b[0;34m(f, *args, **kwds)\u001b[0m\n",
      "\u001b[0;32m/opt/conda/lib/python3.9/importlib/_bootstrap.py\u001b[0m in \u001b[0;36m_gcd_import\u001b[0;34m(name, package, level)\u001b[0m\n",
      "\u001b[0;32m/opt/conda/lib/python3.9/importlib/_bootstrap.py\u001b[0m in \u001b[0;36m_find_and_load\u001b[0;34m(name, import_)\u001b[0m\n",
      "\u001b[0;32m/opt/conda/lib/python3.9/importlib/_bootstrap.py\u001b[0m in \u001b[0;36m_find_and_load_unlocked\u001b[0;34m(name, import_)\u001b[0m\n",
      "\u001b[0;32m/opt/conda/lib/python3.9/importlib/_bootstrap.py\u001b[0m in \u001b[0;36m_call_with_frames_removed\u001b[0;34m(f, *args, **kwds)\u001b[0m\n",
      "\u001b[0;32m/opt/conda/lib/python3.9/importlib/_bootstrap.py\u001b[0m in \u001b[0;36m_gcd_import\u001b[0;34m(name, package, level)\u001b[0m\n",
      "\u001b[0;32m/opt/conda/lib/python3.9/importlib/_bootstrap.py\u001b[0m in \u001b[0;36m_find_and_load\u001b[0;34m(name, import_)\u001b[0m\n",
      "\u001b[0;32m/opt/conda/lib/python3.9/importlib/_bootstrap.py\u001b[0m in \u001b[0;36m_find_and_load_unlocked\u001b[0;34m(name, import_)\u001b[0m\n",
      "\u001b[0;32m/opt/conda/lib/python3.9/importlib/_bootstrap.py\u001b[0m in \u001b[0;36m_call_with_frames_removed\u001b[0;34m(f, *args, **kwds)\u001b[0m\n",
      "\u001b[0;32m/opt/conda/lib/python3.9/importlib/_bootstrap.py\u001b[0m in \u001b[0;36m_gcd_import\u001b[0;34m(name, package, level)\u001b[0m\n",
      "\u001b[0;32m/opt/conda/lib/python3.9/importlib/_bootstrap.py\u001b[0m in \u001b[0;36m_find_and_load\u001b[0;34m(name, import_)\u001b[0m\n",
      "\u001b[0;32m/opt/conda/lib/python3.9/importlib/_bootstrap.py\u001b[0m in \u001b[0;36m_find_and_load_unlocked\u001b[0;34m(name, import_)\u001b[0m\n",
      "\u001b[0;32m/opt/conda/lib/python3.9/importlib/_bootstrap.py\u001b[0m in \u001b[0;36m_load_unlocked\u001b[0;34m(spec)\u001b[0m\n",
      "\u001b[0;32m/opt/conda/lib/python3.9/importlib/_bootstrap_external.py\u001b[0m in \u001b[0;36mexec_module\u001b[0;34m(self, module)\u001b[0m\n",
      "\u001b[0;32m/opt/conda/lib/python3.9/importlib/_bootstrap.py\u001b[0m in \u001b[0;36m_call_with_frames_removed\u001b[0;34m(f, *args, **kwds)\u001b[0m\n",
      "\u001b[0;32m/opt/conda/lib/python3.9/site-packages/keras/__init__.py\u001b[0m in \u001b[0;36m<module>\u001b[0;34m\u001b[0m\n\u001b[1;32m     18\u001b[0m \u001b[0;34m[\u001b[0m\u001b[0mkeras\u001b[0m\u001b[0;34m.\u001b[0m\u001b[0mio\u001b[0m\u001b[0;34m]\u001b[0m\u001b[0;34m(\u001b[0m\u001b[0mhttps\u001b[0m\u001b[0;34m:\u001b[0m\u001b[0;34m//\u001b[0m\u001b[0mkeras\u001b[0m\u001b[0;34m.\u001b[0m\u001b[0mio\u001b[0m\u001b[0;34m)\u001b[0m\u001b[0;34m.\u001b[0m\u001b[0;34m\u001b[0m\u001b[0;34m\u001b[0m\u001b[0m\n\u001b[1;32m     19\u001b[0m \"\"\"\n\u001b[0;32m---> 20\u001b[0;31m \u001b[0;32mfrom\u001b[0m \u001b[0mkeras\u001b[0m \u001b[0;32mimport\u001b[0m \u001b[0mdistribute\u001b[0m\u001b[0;34m\u001b[0m\u001b[0;34m\u001b[0m\u001b[0m\n\u001b[0m\u001b[1;32m     21\u001b[0m \u001b[0;32mfrom\u001b[0m \u001b[0mkeras\u001b[0m \u001b[0;32mimport\u001b[0m \u001b[0mmodels\u001b[0m\u001b[0;34m\u001b[0m\u001b[0;34m\u001b[0m\u001b[0m\n\u001b[1;32m     22\u001b[0m \u001b[0;32mfrom\u001b[0m \u001b[0mkeras\u001b[0m\u001b[0;34m.\u001b[0m\u001b[0mengine\u001b[0m\u001b[0;34m.\u001b[0m\u001b[0minput_layer\u001b[0m \u001b[0;32mimport\u001b[0m \u001b[0mInput\u001b[0m\u001b[0;34m\u001b[0m\u001b[0;34m\u001b[0m\u001b[0m\n",
      "\u001b[0;32m/opt/conda/lib/python3.9/site-packages/keras/distribute/__init__.py\u001b[0m in \u001b[0;36m<module>\u001b[0;34m\u001b[0m\n\u001b[1;32m     16\u001b[0m \u001b[0;34m\u001b[0m\u001b[0m\n\u001b[1;32m     17\u001b[0m \u001b[0;34m\u001b[0m\u001b[0m\n\u001b[0;32m---> 18\u001b[0;31m \u001b[0;32mfrom\u001b[0m \u001b[0mkeras\u001b[0m\u001b[0;34m.\u001b[0m\u001b[0mdistribute\u001b[0m \u001b[0;32mimport\u001b[0m \u001b[0msidecar_evaluator\u001b[0m\u001b[0;34m\u001b[0m\u001b[0;34m\u001b[0m\u001b[0m\n\u001b[0m",
      "\u001b[0;32m/opt/conda/lib/python3.9/site-packages/keras/distribute/sidecar_evaluator.py\u001b[0m in \u001b[0;36m<module>\u001b[0;34m\u001b[0m\n\u001b[1;32m     20\u001b[0m \u001b[0;32mfrom\u001b[0m \u001b[0mtensorflow\u001b[0m\u001b[0;34m.\u001b[0m\u001b[0mpython\u001b[0m\u001b[0;34m.\u001b[0m\u001b[0mplatform\u001b[0m \u001b[0;32mimport\u001b[0m \u001b[0mtf_logging\u001b[0m \u001b[0;32mas\u001b[0m \u001b[0mlogging\u001b[0m\u001b[0;34m\u001b[0m\u001b[0;34m\u001b[0m\u001b[0m\n\u001b[1;32m     21\u001b[0m \u001b[0;32mfrom\u001b[0m \u001b[0mtensorflow\u001b[0m\u001b[0;34m.\u001b[0m\u001b[0mpython\u001b[0m\u001b[0;34m.\u001b[0m\u001b[0mutil\u001b[0m \u001b[0;32mimport\u001b[0m \u001b[0mdeprecation\u001b[0m\u001b[0;34m\u001b[0m\u001b[0;34m\u001b[0m\u001b[0m\n\u001b[0;32m---> 22\u001b[0;31m from keras.optimizers.optimizer_experimental import (\n\u001b[0m\u001b[1;32m     23\u001b[0m     \u001b[0moptimizer\u001b[0m \u001b[0;32mas\u001b[0m \u001b[0moptimizer_experimental\u001b[0m\u001b[0;34m,\u001b[0m\u001b[0;34m\u001b[0m\u001b[0;34m\u001b[0m\u001b[0m\n\u001b[1;32m     24\u001b[0m )\n",
      "\u001b[0;32m/opt/conda/lib/python3.9/site-packages/keras/optimizers/__init__.py\u001b[0m in \u001b[0;36m<module>\u001b[0;34m\u001b[0m\n\u001b[1;32m     24\u001b[0m \u001b[0;31m# Imports needed for deserialization.\u001b[0m\u001b[0;34m\u001b[0m\u001b[0;34m\u001b[0m\u001b[0;34m\u001b[0m\u001b[0m\n\u001b[1;32m     25\u001b[0m \u001b[0;32mfrom\u001b[0m \u001b[0mkeras\u001b[0m \u001b[0;32mimport\u001b[0m \u001b[0mbackend\u001b[0m\u001b[0;34m\u001b[0m\u001b[0;34m\u001b[0m\u001b[0m\n\u001b[0;32m---> 26\u001b[0;31m \u001b[0;32mfrom\u001b[0m \u001b[0mkeras\u001b[0m\u001b[0;34m.\u001b[0m\u001b[0moptimizers\u001b[0m\u001b[0;34m.\u001b[0m\u001b[0mlegacy\u001b[0m \u001b[0;32mimport\u001b[0m \u001b[0madadelta\u001b[0m \u001b[0;32mas\u001b[0m \u001b[0madadelta_legacy\u001b[0m\u001b[0;34m\u001b[0m\u001b[0;34m\u001b[0m\u001b[0m\n\u001b[0m\u001b[1;32m     27\u001b[0m \u001b[0;32mfrom\u001b[0m \u001b[0mkeras\u001b[0m\u001b[0;34m.\u001b[0m\u001b[0moptimizers\u001b[0m\u001b[0;34m.\u001b[0m\u001b[0mlegacy\u001b[0m \u001b[0;32mimport\u001b[0m \u001b[0madagrad\u001b[0m \u001b[0;32mas\u001b[0m \u001b[0madagrad_legacy\u001b[0m\u001b[0;34m\u001b[0m\u001b[0;34m\u001b[0m\u001b[0m\n\u001b[1;32m     28\u001b[0m \u001b[0;32mfrom\u001b[0m \u001b[0mkeras\u001b[0m\u001b[0;34m.\u001b[0m\u001b[0moptimizers\u001b[0m\u001b[0;34m.\u001b[0m\u001b[0mlegacy\u001b[0m \u001b[0;32mimport\u001b[0m \u001b[0madam\u001b[0m \u001b[0;32mas\u001b[0m \u001b[0madam_legacy\u001b[0m\u001b[0;34m\u001b[0m\u001b[0;34m\u001b[0m\u001b[0m\n",
      "\u001b[0;32m/opt/conda/lib/python3.9/site-packages/keras/optimizers/legacy/adadelta.py\u001b[0m in \u001b[0;36m<module>\u001b[0;34m\u001b[0m\n\u001b[1;32m     15\u001b[0m \u001b[0;34m\"\"\"Legacy Adadelta optimizer implementation.\"\"\"\u001b[0m\u001b[0;34m\u001b[0m\u001b[0;34m\u001b[0m\u001b[0m\n\u001b[1;32m     16\u001b[0m \u001b[0;34m\u001b[0m\u001b[0m\n\u001b[0;32m---> 17\u001b[0;31m \u001b[0;32mfrom\u001b[0m \u001b[0mkeras\u001b[0m\u001b[0;34m.\u001b[0m\u001b[0moptimizers\u001b[0m\u001b[0;34m.\u001b[0m\u001b[0moptimizer_v2\u001b[0m \u001b[0;32mimport\u001b[0m \u001b[0madadelta\u001b[0m\u001b[0;34m\u001b[0m\u001b[0;34m\u001b[0m\u001b[0m\n\u001b[0m\u001b[1;32m     18\u001b[0m \u001b[0;34m\u001b[0m\u001b[0m\n\u001b[1;32m     19\u001b[0m \u001b[0;31m# isort: off\u001b[0m\u001b[0;34m\u001b[0m\u001b[0;34m\u001b[0m\u001b[0;34m\u001b[0m\u001b[0m\n",
      "\u001b[0;32m/opt/conda/lib/python3.9/site-packages/keras/optimizers/optimizer_v2/adadelta.py\u001b[0m in \u001b[0;36m<module>\u001b[0;34m\u001b[0m\n\u001b[1;32m     19\u001b[0m \u001b[0;34m\u001b[0m\u001b[0m\n\u001b[1;32m     20\u001b[0m \u001b[0;32mfrom\u001b[0m \u001b[0mkeras\u001b[0m \u001b[0;32mimport\u001b[0m \u001b[0mbackend_config\u001b[0m\u001b[0;34m\u001b[0m\u001b[0;34m\u001b[0m\u001b[0m\n\u001b[0;32m---> 21\u001b[0;31m \u001b[0;32mfrom\u001b[0m \u001b[0mkeras\u001b[0m\u001b[0;34m.\u001b[0m\u001b[0moptimizers\u001b[0m\u001b[0;34m.\u001b[0m\u001b[0moptimizer_v2\u001b[0m \u001b[0;32mimport\u001b[0m \u001b[0moptimizer_v2\u001b[0m\u001b[0;34m\u001b[0m\u001b[0;34m\u001b[0m\u001b[0m\n\u001b[0m\u001b[1;32m     22\u001b[0m \u001b[0;34m\u001b[0m\u001b[0m\n\u001b[1;32m     23\u001b[0m \u001b[0;31m# isort: off\u001b[0m\u001b[0;34m\u001b[0m\u001b[0;34m\u001b[0m\u001b[0;34m\u001b[0m\u001b[0m\n",
      "\u001b[0;32m/opt/conda/lib/python3.9/site-packages/keras/optimizers/optimizer_v2/optimizer_v2.py\u001b[0m in \u001b[0;36m<module>\u001b[0;34m\u001b[0m\n\u001b[1;32m     24\u001b[0m \u001b[0;34m\u001b[0m\u001b[0m\n\u001b[1;32m     25\u001b[0m \u001b[0;32mfrom\u001b[0m \u001b[0mkeras\u001b[0m \u001b[0;32mimport\u001b[0m \u001b[0mbackend\u001b[0m\u001b[0;34m\u001b[0m\u001b[0;34m\u001b[0m\u001b[0m\n\u001b[0;32m---> 26\u001b[0;31m \u001b[0;32mfrom\u001b[0m \u001b[0mkeras\u001b[0m \u001b[0;32mimport\u001b[0m \u001b[0minitializers\u001b[0m\u001b[0;34m\u001b[0m\u001b[0;34m\u001b[0m\u001b[0m\n\u001b[0m\u001b[1;32m     27\u001b[0m \u001b[0;32mfrom\u001b[0m \u001b[0mkeras\u001b[0m\u001b[0;34m.\u001b[0m\u001b[0mengine\u001b[0m \u001b[0;32mimport\u001b[0m \u001b[0mbase_layer_utils\u001b[0m\u001b[0;34m\u001b[0m\u001b[0;34m\u001b[0m\u001b[0m\n\u001b[1;32m     28\u001b[0m \u001b[0;32mfrom\u001b[0m \u001b[0mkeras\u001b[0m\u001b[0;34m.\u001b[0m\u001b[0moptimizers\u001b[0m\u001b[0;34m.\u001b[0m\u001b[0moptimizer_v2\u001b[0m \u001b[0;32mimport\u001b[0m \u001b[0mutils\u001b[0m \u001b[0;32mas\u001b[0m \u001b[0moptimizer_utils\u001b[0m\u001b[0;34m\u001b[0m\u001b[0;34m\u001b[0m\u001b[0m\n",
      "\u001b[0;32m/opt/conda/lib/python3.9/site-packages/keras/initializers/__init__.py\u001b[0m in \u001b[0;36m<module>\u001b[0;34m\u001b[0m\n\u001b[1;32m     20\u001b[0m \u001b[0;34m\u001b[0m\u001b[0m\n\u001b[1;32m     21\u001b[0m \u001b[0;32mfrom\u001b[0m \u001b[0mkeras\u001b[0m\u001b[0;34m.\u001b[0m\u001b[0minitializers\u001b[0m \u001b[0;32mimport\u001b[0m \u001b[0minitializers_v1\u001b[0m\u001b[0;34m\u001b[0m\u001b[0;34m\u001b[0m\u001b[0m\n\u001b[0;32m---> 22\u001b[0;31m \u001b[0;32mfrom\u001b[0m \u001b[0mkeras\u001b[0m\u001b[0;34m.\u001b[0m\u001b[0minitializers\u001b[0m \u001b[0;32mimport\u001b[0m \u001b[0minitializers_v2\u001b[0m\u001b[0;34m\u001b[0m\u001b[0;34m\u001b[0m\u001b[0m\n\u001b[0m\u001b[1;32m     23\u001b[0m \u001b[0;32mfrom\u001b[0m \u001b[0mkeras\u001b[0m\u001b[0;34m.\u001b[0m\u001b[0mutils\u001b[0m \u001b[0;32mimport\u001b[0m \u001b[0mgeneric_utils\u001b[0m\u001b[0;34m\u001b[0m\u001b[0;34m\u001b[0m\u001b[0m\n\u001b[1;32m     24\u001b[0m \u001b[0;32mfrom\u001b[0m \u001b[0mkeras\u001b[0m\u001b[0;34m.\u001b[0m\u001b[0mutils\u001b[0m \u001b[0;32mimport\u001b[0m \u001b[0mtf_inspect\u001b[0m \u001b[0;32mas\u001b[0m \u001b[0minspect\u001b[0m\u001b[0;34m\u001b[0m\u001b[0;34m\u001b[0m\u001b[0m\n",
      "\u001b[0;32m/opt/conda/lib/python3.9/site-packages/keras/initializers/initializers_v2.py\u001b[0m in \u001b[0;36m<module>\u001b[0;34m\u001b[0m\n\u001b[1;32m     21\u001b[0m \u001b[0;34m\u001b[0m\u001b[0m\n\u001b[1;32m     22\u001b[0m \u001b[0;32mfrom\u001b[0m \u001b[0mkeras\u001b[0m \u001b[0;32mimport\u001b[0m \u001b[0mbackend\u001b[0m\u001b[0;34m\u001b[0m\u001b[0;34m\u001b[0m\u001b[0m\n\u001b[0;32m---> 23\u001b[0;31m \u001b[0;32mfrom\u001b[0m \u001b[0mkeras\u001b[0m\u001b[0;34m.\u001b[0m\u001b[0mdtensor\u001b[0m \u001b[0;32mimport\u001b[0m \u001b[0mutils\u001b[0m\u001b[0;34m\u001b[0m\u001b[0;34m\u001b[0m\u001b[0m\n\u001b[0m\u001b[1;32m     24\u001b[0m \u001b[0;34m\u001b[0m\u001b[0m\n\u001b[1;32m     25\u001b[0m \u001b[0;31m# isort: off\u001b[0m\u001b[0;34m\u001b[0m\u001b[0;34m\u001b[0m\u001b[0;34m\u001b[0m\u001b[0m\n",
      "\u001b[0;32m/opt/conda/lib/python3.9/site-packages/keras/dtensor/__init__.py\u001b[0m in \u001b[0;36m<module>\u001b[0;34m\u001b[0m\n\u001b[1;32m     20\u001b[0m \u001b[0;31m# Conditional import the dtensor API, since it is currently broken in OSS.\u001b[0m\u001b[0;34m\u001b[0m\u001b[0;34m\u001b[0m\u001b[0;34m\u001b[0m\u001b[0m\n\u001b[1;32m     21\u001b[0m \u001b[0;32mif\u001b[0m \u001b[0m_DTENSOR_API_ENABLED\u001b[0m\u001b[0;34m:\u001b[0m\u001b[0;34m\u001b[0m\u001b[0;34m\u001b[0m\u001b[0m\n\u001b[0;32m---> 22\u001b[0;31m     \u001b[0;32mfrom\u001b[0m \u001b[0mtensorflow\u001b[0m\u001b[0;34m.\u001b[0m\u001b[0mcompat\u001b[0m\u001b[0;34m.\u001b[0m\u001b[0mv2\u001b[0m\u001b[0;34m.\u001b[0m\u001b[0mexperimental\u001b[0m \u001b[0;32mimport\u001b[0m \u001b[0mdtensor\u001b[0m \u001b[0;32mas\u001b[0m \u001b[0mdtensor_api\u001b[0m\u001b[0;34m\u001b[0m\u001b[0;34m\u001b[0m\u001b[0m\n\u001b[0m\u001b[1;32m     23\u001b[0m \u001b[0;32melse\u001b[0m\u001b[0;34m:\u001b[0m\u001b[0;34m\u001b[0m\u001b[0;34m\u001b[0m\u001b[0m\n\u001b[1;32m     24\u001b[0m     \u001b[0;31m# Leave it with a placeholder, so that the import line from other python\u001b[0m\u001b[0;34m\u001b[0m\u001b[0;34m\u001b[0m\u001b[0;34m\u001b[0m\u001b[0m\n",
      "\u001b[0;31mImportError\u001b[0m: cannot import name 'dtensor' from 'tensorflow.compat.v2.experimental' (/opt/conda/lib/python3.9/site-packages/tensorflow/_api/v2/compat/v2/experimental/__init__.py)"
     ]
    }
   ],
   "source": [
    "(x_train, y_train), (x_test, y_test) = tf.keras.datasets.mnist.load_data()"
   ]
  },
  {
   "cell_type": "code",
   "execution_count": null,
   "id": "1ec52c53",
   "metadata": {},
   "outputs": [],
   "source": []
  }
 ],
 "metadata": {
  "kernelspec": {
   "display_name": "Python 3",
   "language": "python",
   "name": "python3"
  },
  "language_info": {
   "codemirror_mode": {
    "name": "ipython",
    "version": 3
   },
   "file_extension": ".py",
   "mimetype": "text/x-python",
   "name": "python",
   "nbconvert_exporter": "python",
   "pygments_lexer": "ipython3",
   "version": "3.8.5"
  }
 },
 "nbformat": 4,
 "nbformat_minor": 5
}
