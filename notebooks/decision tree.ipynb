{
 "cells": [
  {
   "cell_type": "code",
   "execution_count": 1,
   "id": "bdca1ffe",
   "metadata": {},
   "outputs": [],
   "source": [
    "import pandas as pd\n",
    "import numpy as np\n",
    "import seaborn as sns"
   ]
  },
  {
   "cell_type": "code",
   "execution_count": 2,
   "id": "1d005897",
   "metadata": {},
   "outputs": [],
   "source": [
    "\n",
    "floor_2 = pd.read_csv('merged_all_2F.csv', index_col = 'Unnamed: 0')\n",
    "floor_3 = pd.read_csv('merged_all_3F.csv', index_col = 'Unnamed: 0')\n",
    "floor_4 = pd.read_csv('merged_all_4F.csv', index_col = 'Unnamed: 0')"
   ]
  },
  {
   "cell_type": "code",
   "execution_count": 3,
   "id": "c9fb1681",
   "metadata": {},
   "outputs": [],
   "source": [
    "floor_2 = floor_2.drop(['Unnamed: 0.1', 'Unnamed: 0.1.1'], axis = 1)\n",
    "floor_3 = floor_3.drop(['Unnamed: 0.1'], axis = 1)\n",
    "floor_4 = floor_4.drop(['Unnamed: 0.1'], axis = 1)"
   ]
  },
  {
   "cell_type": "code",
   "execution_count": 4,
   "id": "00b923ea",
   "metadata": {},
   "outputs": [],
   "source": [
    "floor_2['floor'] = 2\n",
    "floor_3['floor'] = 3\n",
    "floor_4['floor'] = 4"
   ]
  },
  {
   "cell_type": "code",
   "execution_count": 5,
   "id": "ffcb243d",
   "metadata": {},
   "outputs": [],
   "source": [
    "#floor_2.head()"
   ]
  },
  {
   "cell_type": "code",
   "execution_count": 6,
   "id": "bf785a57",
   "metadata": {},
   "outputs": [],
   "source": [
    "combined_floors = pd.concat([floor_2, floor_3, floor_4]).reset_index(drop = True)\n",
    "combined_floors['time_transformed'] = combined_floors['time'].apply(lambda x: pd.Timestamp(x))"
   ]
  },
  {
   "cell_type": "code",
   "execution_count": null,
   "id": "709f63d3",
   "metadata": {},
   "outputs": [],
   "source": []
  },
  {
   "cell_type": "code",
   "execution_count": 7,
   "id": "f0186006",
   "metadata": {},
   "outputs": [],
   "source": [
    "dates = combined_floors['time_transformed'].transform(lambda x: x.date)"
   ]
  },
  {
   "cell_type": "code",
   "execution_count": null,
   "id": "09077862",
   "metadata": {},
   "outputs": [],
   "source": []
  },
  {
   "cell_type": "code",
   "execution_count": 8,
   "id": "355d1fdf",
   "metadata": {},
   "outputs": [],
   "source": [
    "#testing grounds"
   ]
  },
  {
   "cell_type": "code",
   "execution_count": 9,
   "id": "21c9524c",
   "metadata": {},
   "outputs": [],
   "source": [
    "df = combined_floors"
   ]
  },
  {
   "cell_type": "code",
   "execution_count": 10,
   "id": "b8182beb",
   "metadata": {},
   "outputs": [],
   "source": [
    "df['time'] = pd.to_datetime(df['time'], format='%Y-%m-%d %H:%M:%S')\n",
    "df['year'] = df['time'].dt.year\n",
    "df['hour'] = df['time'].dt.hour\n",
    "df['month'] = df['time'].dt.month\n",
    "df['day'] = df['time'].dt.day\n",
    "df['minute'] = df['time'].dt.minute\n",
    "df['second'] = df['time'].dt.second\n",
    "df['weekday'] = df['time'].dt.weekday\n",
    "\n"
   ]
  },
  {
   "cell_type": "code",
   "execution_count": 11,
   "id": "5c5a32fd",
   "metadata": {},
   "outputs": [],
   "source": [
    "df = df[['Common Setpoint','Actual Sup Flow SP','Zone Temperature',\\\n",
    "                  'Actual Supply Flow','energy','Humidity', 'Outside Air Temp',\\\n",
    "                  'year','day','hour','weekday','month','minute','second','floor']]\n",
    "#[['Common Setpoint','Actual Sup Flow SP','Zone Temperature','Actual Supply Flow','energy','Humidity', 'Outside Air Temp','year','day','hour','weekday','month','minute','second','floor']]"
   ]
  },
  {
   "cell_type": "code",
   "execution_count": 12,
   "id": "fdec903c",
   "metadata": {},
   "outputs": [],
   "source": [
    "trainstart = df[:len(df)//2]\n",
    "teststart = df[len(df)//2:]"
   ]
  },
  {
   "cell_type": "code",
   "execution_count": 13,
   "id": "1aab441b",
   "metadata": {},
   "outputs": [],
   "source": [
    "train = trainstart\n",
    "test = teststart"
   ]
  },
  {
   "cell_type": "code",
   "execution_count": 14,
   "id": "a30bd2c5",
   "metadata": {},
   "outputs": [
    {
     "data": {
      "text/html": [
       "<div>\n",
       "<style scoped>\n",
       "    .dataframe tbody tr th:only-of-type {\n",
       "        vertical-align: middle;\n",
       "    }\n",
       "\n",
       "    .dataframe tbody tr th {\n",
       "        vertical-align: top;\n",
       "    }\n",
       "\n",
       "    .dataframe thead th {\n",
       "        text-align: right;\n",
       "    }\n",
       "</style>\n",
       "<table border=\"1\" class=\"dataframe\">\n",
       "  <thead>\n",
       "    <tr style=\"text-align: right;\">\n",
       "      <th></th>\n",
       "      <th>Common Setpoint</th>\n",
       "      <th>Actual Sup Flow SP</th>\n",
       "      <th>Zone Temperature</th>\n",
       "      <th>Actual Supply Flow</th>\n",
       "      <th>energy</th>\n",
       "      <th>Humidity</th>\n",
       "      <th>Outside Air Temp</th>\n",
       "      <th>year</th>\n",
       "      <th>day</th>\n",
       "      <th>hour</th>\n",
       "      <th>weekday</th>\n",
       "      <th>month</th>\n",
       "      <th>minute</th>\n",
       "      <th>second</th>\n",
       "      <th>floor</th>\n",
       "    </tr>\n",
       "  </thead>\n",
       "  <tbody>\n",
       "    <tr>\n",
       "      <th>0</th>\n",
       "      <td>72.5</td>\n",
       "      <td>330.0</td>\n",
       "      <td>75.2</td>\n",
       "      <td>318.73</td>\n",
       "      <td>10.109642</td>\n",
       "      <td>56.0</td>\n",
       "      <td>68.44</td>\n",
       "      <td>2018</td>\n",
       "      <td>3</td>\n",
       "      <td>20</td>\n",
       "      <td>2</td>\n",
       "      <td>1</td>\n",
       "      <td>57</td>\n",
       "      <td>39</td>\n",
       "      <td>2</td>\n",
       "    </tr>\n",
       "    <tr>\n",
       "      <th>1</th>\n",
       "      <td>72.5</td>\n",
       "      <td>330.0</td>\n",
       "      <td>75.2</td>\n",
       "      <td>317.06</td>\n",
       "      <td>10.113301</td>\n",
       "      <td>56.0</td>\n",
       "      <td>68.50</td>\n",
       "      <td>2018</td>\n",
       "      <td>3</td>\n",
       "      <td>21</td>\n",
       "      <td>2</td>\n",
       "      <td>1</td>\n",
       "      <td>4</td>\n",
       "      <td>13</td>\n",
       "      <td>2</td>\n",
       "    </tr>\n",
       "    <tr>\n",
       "      <th>2</th>\n",
       "      <td>72.5</td>\n",
       "      <td>330.0</td>\n",
       "      <td>75.7</td>\n",
       "      <td>314.34</td>\n",
       "      <td>10.099466</td>\n",
       "      <td>56.0</td>\n",
       "      <td>68.25</td>\n",
       "      <td>2018</td>\n",
       "      <td>3</td>\n",
       "      <td>21</td>\n",
       "      <td>2</td>\n",
       "      <td>1</td>\n",
       "      <td>10</td>\n",
       "      <td>44</td>\n",
       "      <td>2</td>\n",
       "    </tr>\n",
       "    <tr>\n",
       "      <th>3</th>\n",
       "      <td>72.5</td>\n",
       "      <td>330.0</td>\n",
       "      <td>75.7</td>\n",
       "      <td>313.91</td>\n",
       "      <td>10.241028</td>\n",
       "      <td>56.0</td>\n",
       "      <td>68.31</td>\n",
       "      <td>2018</td>\n",
       "      <td>3</td>\n",
       "      <td>21</td>\n",
       "      <td>2</td>\n",
       "      <td>1</td>\n",
       "      <td>17</td>\n",
       "      <td>16</td>\n",
       "      <td>2</td>\n",
       "    </tr>\n",
       "    <tr>\n",
       "      <th>4</th>\n",
       "      <td>72.5</td>\n",
       "      <td>330.0</td>\n",
       "      <td>75.7</td>\n",
       "      <td>318.31</td>\n",
       "      <td>10.187620</td>\n",
       "      <td>57.0</td>\n",
       "      <td>68.44</td>\n",
       "      <td>2018</td>\n",
       "      <td>3</td>\n",
       "      <td>21</td>\n",
       "      <td>2</td>\n",
       "      <td>1</td>\n",
       "      <td>23</td>\n",
       "      <td>44</td>\n",
       "      <td>2</td>\n",
       "    </tr>\n",
       "  </tbody>\n",
       "</table>\n",
       "</div>"
      ],
      "text/plain": [
       "   Common Setpoint  Actual Sup Flow SP  Zone Temperature  Actual Supply Flow  \\\n",
       "0             72.5               330.0              75.2              318.73   \n",
       "1             72.5               330.0              75.2              317.06   \n",
       "2             72.5               330.0              75.7              314.34   \n",
       "3             72.5               330.0              75.7              313.91   \n",
       "4             72.5               330.0              75.7              318.31   \n",
       "\n",
       "      energy  Humidity  Outside Air Temp  year  day  hour  weekday  month  \\\n",
       "0  10.109642      56.0             68.44  2018    3    20        2      1   \n",
       "1  10.113301      56.0             68.50  2018    3    21        2      1   \n",
       "2  10.099466      56.0             68.25  2018    3    21        2      1   \n",
       "3  10.241028      56.0             68.31  2018    3    21        2      1   \n",
       "4  10.187620      57.0             68.44  2018    3    21        2      1   \n",
       "\n",
       "   minute  second  floor  \n",
       "0      57      39      2  \n",
       "1       4      13      2  \n",
       "2      10      44      2  \n",
       "3      17      16      2  \n",
       "4      23      44      2  "
      ]
     },
     "execution_count": 14,
     "metadata": {},
     "output_type": "execute_result"
    }
   ],
   "source": [
    "train.head()"
   ]
  },
  {
   "cell_type": "code",
   "execution_count": 22,
   "id": "5165c563",
   "metadata": {},
   "outputs": [],
   "source": [
    "from sklearn import tree\n",
    "from sklearn import preprocessing\n",
    "from sklearn import utils\n",
    "from sklearn.metrics import mean_squared_error\n",
    "clf = tree.DecisionTreeRegressor(max_depth = 7, min_samples_split = 5)"
   ]
  },
  {
   "cell_type": "code",
   "execution_count": null,
   "id": "7f736646",
   "metadata": {},
   "outputs": [],
   "source": []
  },
  {
   "cell_type": "code",
   "execution_count": 23,
   "id": "a776d08d",
   "metadata": {},
   "outputs": [
    {
     "data": {
      "text/plain": [
       "2.166238732802376"
      ]
     },
     "execution_count": 23,
     "metadata": {},
     "output_type": "execute_result"
    }
   ],
   "source": [
    "Xtrain = train.drop(columns=['energy'])\n",
    "Ytrain = train[['energy']]\n",
    "Xtest = test.drop(columns=['energy'])\n",
    "Ytest = test[['energy']]\n",
    "\n",
    "clf = clf.fit(Xtrain, Ytrain)\n",
    "y_pred = clf.predict(Xtrain)\n",
    "mean_squared_error(Ytrain,y_pred)"
   ]
  },
  {
   "cell_type": "code",
   "execution_count": 24,
   "id": "f571b793",
   "metadata": {},
   "outputs": [
    {
     "data": {
      "text/plain": [
       "3.508595405210588"
      ]
     },
     "execution_count": 24,
     "metadata": {},
     "output_type": "execute_result"
    }
   ],
   "source": [
    "y_pred = clf.predict(Xtest)\n",
    "mean_squared_error(Ytest,y_pred)"
   ]
  },
  {
   "cell_type": "code",
   "execution_count": 18,
   "id": "c0bab10e",
   "metadata": {},
   "outputs": [],
   "source": [
    "#3.5085954052105865"
   ]
  },
  {
   "cell_type": "code",
   "execution_count": null,
   "id": "43cb0370",
   "metadata": {},
   "outputs": [],
   "source": []
  }
 ],
 "metadata": {
  "kernelspec": {
   "display_name": "Python 3 (ipykernel)",
   "language": "python",
   "name": "python3"
  },
  "language_info": {
   "codemirror_mode": {
    "name": "ipython",
    "version": 3
   },
   "file_extension": ".py",
   "mimetype": "text/x-python",
   "name": "python",
   "nbconvert_exporter": "python",
   "pygments_lexer": "ipython3",
   "version": "3.8.11"
  }
 },
 "nbformat": 4,
 "nbformat_minor": 5
}
