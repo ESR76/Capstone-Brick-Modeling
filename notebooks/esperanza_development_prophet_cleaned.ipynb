{
 "cells": [
  {
   "cell_type": "markdown",
   "id": "6139778e",
   "metadata": {},
   "source": [
    "# Esperanza's Development Notebook - NEW Version\n",
    "\n",
    "## Imports"
   ]
  },
  {
   "cell_type": "code",
   "execution_count": 1,
   "id": "d382f102",
   "metadata": {},
   "outputs": [
    {
     "name": "stderr",
     "output_type": "stream",
     "text": [
      "Importing plotly failed. Interactive plots will not work.\n"
     ]
    }
   ],
   "source": [
    "import pandas as pd\n",
    "import numpy as np\n",
    "import seaborn as sns\n",
    "\n",
    "import prophet as Prophet"
   ]
  },
  {
   "cell_type": "code",
   "execution_count": null,
   "id": "70750efa",
   "metadata": {},
   "outputs": [],
   "source": [
    "# Prophet import gives: \"Importing plotly failed. Interactive plots will not work.\"\n",
    "# Imported everything for Jupyter Notebook and plotly to cooperate but it still isn't"
   ]
  },
  {
   "cell_type": "markdown",
   "id": "cf986f86",
   "metadata": {},
   "source": [
    "## Comparing Data to New Cleaned Data "
   ]
  },
  {
   "cell_type": "code",
   "execution_count": 2,
   "id": "83c4db39",
   "metadata": {},
   "outputs": [],
   "source": [
    "# this path is based on my workflow with virtual environment - path will need to be changed"
   ]
  },
  {
   "cell_type": "code",
   "execution_count": 4,
   "id": "e170a6cb",
   "metadata": {},
   "outputs": [],
   "source": [
    "cleaned_training = pd.read_csv('../final_datasets/training_set_imputed.csv')\n",
    "cleaned_test = pd.read_csv('../final_datasets/test_set_nonimputed.csv')"
   ]
  },
  {
   "cell_type": "code",
   "execution_count": 5,
   "id": "04279540",
   "metadata": {},
   "outputs": [
    {
     "data": {
      "text/html": [
       "<div>\n",
       "<style scoped>\n",
       "    .dataframe tbody tr th:only-of-type {\n",
       "        vertical-align: middle;\n",
       "    }\n",
       "\n",
       "    .dataframe tbody tr th {\n",
       "        vertical-align: top;\n",
       "    }\n",
       "\n",
       "    .dataframe thead th {\n",
       "        text-align: right;\n",
       "    }\n",
       "</style>\n",
       "<table border=\"1\" class=\"dataframe\">\n",
       "  <thead>\n",
       "    <tr style=\"text-align: right;\">\n",
       "      <th></th>\n",
       "      <th>time</th>\n",
       "      <th>Common Setpoint</th>\n",
       "      <th>Actual Sup Flow SP</th>\n",
       "      <th>Zone Temperature</th>\n",
       "      <th>Actual Supply Flow</th>\n",
       "      <th>energy</th>\n",
       "      <th>Outside Air Temp</th>\n",
       "      <th>Humidity</th>\n",
       "      <th>Zone Temperature Next</th>\n",
       "      <th>Actual Supply Flow Next</th>\n",
       "      <th>Outside Air Temp Next</th>\n",
       "      <th>Humidity Next</th>\n",
       "      <th>energy Next</th>\n",
       "    </tr>\n",
       "  </thead>\n",
       "  <tbody>\n",
       "    <tr>\n",
       "      <th>0</th>\n",
       "      <td>2017-07-07 13:00:00+00:00</td>\n",
       "      <td>72.0</td>\n",
       "      <td>0.000</td>\n",
       "      <td>74.90</td>\n",
       "      <td>42.735</td>\n",
       "      <td>2.635583</td>\n",
       "      <td>68.22</td>\n",
       "      <td>63.0</td>\n",
       "      <td>75.150</td>\n",
       "      <td>78.890</td>\n",
       "      <td>68.535</td>\n",
       "      <td>63.0</td>\n",
       "      <td>7.022637</td>\n",
       "    </tr>\n",
       "    <tr>\n",
       "      <th>1</th>\n",
       "      <td>2017-07-07 14:00:00+00:00</td>\n",
       "      <td>72.0</td>\n",
       "      <td>330.000</td>\n",
       "      <td>74.63</td>\n",
       "      <td>336.490</td>\n",
       "      <td>10.879652</td>\n",
       "      <td>70.56</td>\n",
       "      <td>63.0</td>\n",
       "      <td>74.630</td>\n",
       "      <td>336.490</td>\n",
       "      <td>70.940</td>\n",
       "      <td>63.0</td>\n",
       "      <td>10.975877</td>\n",
       "    </tr>\n",
       "    <tr>\n",
       "      <th>2</th>\n",
       "      <td>2017-07-07 15:00:00+00:00</td>\n",
       "      <td>72.0</td>\n",
       "      <td>330.000</td>\n",
       "      <td>73.87</td>\n",
       "      <td>318.140</td>\n",
       "      <td>10.338963</td>\n",
       "      <td>75.44</td>\n",
       "      <td>62.0</td>\n",
       "      <td>73.870</td>\n",
       "      <td>320.615</td>\n",
       "      <td>75.500</td>\n",
       "      <td>62.0</td>\n",
       "      <td>10.261282</td>\n",
       "    </tr>\n",
       "    <tr>\n",
       "      <th>3</th>\n",
       "      <td>2017-07-07 16:00:00+00:00</td>\n",
       "      <td>72.0</td>\n",
       "      <td>391.760</td>\n",
       "      <td>74.49</td>\n",
       "      <td>400.855</td>\n",
       "      <td>13.542031</td>\n",
       "      <td>76.25</td>\n",
       "      <td>62.0</td>\n",
       "      <td>74.380</td>\n",
       "      <td>402.760</td>\n",
       "      <td>76.250</td>\n",
       "      <td>62.0</td>\n",
       "      <td>14.572954</td>\n",
       "    </tr>\n",
       "    <tr>\n",
       "      <th>4</th>\n",
       "      <td>2017-07-07 17:00:00+00:00</td>\n",
       "      <td>72.0</td>\n",
       "      <td>417.485</td>\n",
       "      <td>74.38</td>\n",
       "      <td>423.900</td>\n",
       "      <td>14.461083</td>\n",
       "      <td>76.69</td>\n",
       "      <td>62.0</td>\n",
       "      <td>74.495</td>\n",
       "      <td>423.900</td>\n",
       "      <td>76.690</td>\n",
       "      <td>62.0</td>\n",
       "      <td>14.362975</td>\n",
       "    </tr>\n",
       "  </tbody>\n",
       "</table>\n",
       "</div>"
      ],
      "text/plain": [
       "                        time  Common Setpoint  Actual Sup Flow SP  \\\n",
       "0  2017-07-07 13:00:00+00:00             72.0               0.000   \n",
       "1  2017-07-07 14:00:00+00:00             72.0             330.000   \n",
       "2  2017-07-07 15:00:00+00:00             72.0             330.000   \n",
       "3  2017-07-07 16:00:00+00:00             72.0             391.760   \n",
       "4  2017-07-07 17:00:00+00:00             72.0             417.485   \n",
       "\n",
       "   Zone Temperature  Actual Supply Flow     energy  Outside Air Temp  \\\n",
       "0             74.90              42.735   2.635583             68.22   \n",
       "1             74.63             336.490  10.879652             70.56   \n",
       "2             73.87             318.140  10.338963             75.44   \n",
       "3             74.49             400.855  13.542031             76.25   \n",
       "4             74.38             423.900  14.461083             76.69   \n",
       "\n",
       "   Humidity  Zone Temperature Next  Actual Supply Flow Next  \\\n",
       "0      63.0                 75.150                   78.890   \n",
       "1      63.0                 74.630                  336.490   \n",
       "2      62.0                 73.870                  320.615   \n",
       "3      62.0                 74.380                  402.760   \n",
       "4      62.0                 74.495                  423.900   \n",
       "\n",
       "   Outside Air Temp Next  Humidity Next  energy Next  \n",
       "0                 68.535           63.0     7.022637  \n",
       "1                 70.940           63.0    10.975877  \n",
       "2                 75.500           62.0    10.261282  \n",
       "3                 76.250           62.0    14.572954  \n",
       "4                 76.690           62.0    14.362975  "
      ]
     },
     "execution_count": 5,
     "metadata": {},
     "output_type": "execute_result"
    }
   ],
   "source": [
    "cleaned_training.head(5)"
   ]
  },
  {
   "cell_type": "code",
   "execution_count": 21,
   "id": "e2a6e8a6",
   "metadata": {},
   "outputs": [
    {
     "data": {
      "text/html": [
       "<div>\n",
       "<style scoped>\n",
       "    .dataframe tbody tr th:only-of-type {\n",
       "        vertical-align: middle;\n",
       "    }\n",
       "\n",
       "    .dataframe tbody tr th {\n",
       "        vertical-align: top;\n",
       "    }\n",
       "\n",
       "    .dataframe thead th {\n",
       "        text-align: right;\n",
       "    }\n",
       "</style>\n",
       "<table border=\"1\" class=\"dataframe\">\n",
       "  <thead>\n",
       "    <tr style=\"text-align: right;\">\n",
       "      <th></th>\n",
       "      <th>time</th>\n",
       "      <th>Common Setpoint</th>\n",
       "      <th>Actual Sup Flow SP</th>\n",
       "      <th>Zone Temperature</th>\n",
       "      <th>Actual Supply Flow</th>\n",
       "      <th>energy</th>\n",
       "      <th>Outside Air Temp</th>\n",
       "      <th>Humidity</th>\n",
       "      <th>Zone Temperature Next</th>\n",
       "      <th>Actual Supply Flow Next</th>\n",
       "      <th>Outside Air Temp Next</th>\n",
       "      <th>Humidity Next</th>\n",
       "      <th>energy Next</th>\n",
       "    </tr>\n",
       "  </thead>\n",
       "  <tbody>\n",
       "    <tr>\n",
       "      <th>8956</th>\n",
       "      <td>2018-07-15 17:00:00+00:00</td>\n",
       "      <td>72.0</td>\n",
       "      <td>376.020</td>\n",
       "      <td>76.87</td>\n",
       "      <td>377.03</td>\n",
       "      <td>12.517615</td>\n",
       "      <td>76.000</td>\n",
       "      <td>54.0</td>\n",
       "      <td>76.87</td>\n",
       "      <td>377.030</td>\n",
       "      <td>76.13</td>\n",
       "      <td>54.0</td>\n",
       "      <td>12.517615</td>\n",
       "    </tr>\n",
       "    <tr>\n",
       "      <th>8957</th>\n",
       "      <td>2018-07-15 18:00:00+00:00</td>\n",
       "      <td>72.0</td>\n",
       "      <td>365.610</td>\n",
       "      <td>76.87</td>\n",
       "      <td>366.19</td>\n",
       "      <td>11.847620</td>\n",
       "      <td>77.130</td>\n",
       "      <td>54.0</td>\n",
       "      <td>76.87</td>\n",
       "      <td>361.050</td>\n",
       "      <td>77.13</td>\n",
       "      <td>54.0</td>\n",
       "      <td>11.847620</td>\n",
       "    </tr>\n",
       "    <tr>\n",
       "      <th>8958</th>\n",
       "      <td>2018-07-15 19:00:00+00:00</td>\n",
       "      <td>72.0</td>\n",
       "      <td>324.180</td>\n",
       "      <td>76.87</td>\n",
       "      <td>329.69</td>\n",
       "      <td>10.612003</td>\n",
       "      <td>77.500</td>\n",
       "      <td>54.0</td>\n",
       "      <td>76.87</td>\n",
       "      <td>329.690</td>\n",
       "      <td>77.50</td>\n",
       "      <td>54.0</td>\n",
       "      <td>10.612003</td>\n",
       "    </tr>\n",
       "    <tr>\n",
       "      <th>8959</th>\n",
       "      <td>2018-07-15 20:00:00+00:00</td>\n",
       "      <td>72.0</td>\n",
       "      <td>331.790</td>\n",
       "      <td>76.87</td>\n",
       "      <td>333.23</td>\n",
       "      <td>10.598369</td>\n",
       "      <td>77.000</td>\n",
       "      <td>54.0</td>\n",
       "      <td>76.87</td>\n",
       "      <td>327.880</td>\n",
       "      <td>76.94</td>\n",
       "      <td>54.0</td>\n",
       "      <td>10.384728</td>\n",
       "    </tr>\n",
       "    <tr>\n",
       "      <th>8960</th>\n",
       "      <td>2018-07-15 21:00:00+00:00</td>\n",
       "      <td>72.0</td>\n",
       "      <td>299.065</td>\n",
       "      <td>75.52</td>\n",
       "      <td>311.47</td>\n",
       "      <td>9.683832</td>\n",
       "      <td>75.595</td>\n",
       "      <td>53.0</td>\n",
       "      <td>75.52</td>\n",
       "      <td>302.005</td>\n",
       "      <td>75.44</td>\n",
       "      <td>53.0</td>\n",
       "      <td>9.861569</td>\n",
       "    </tr>\n",
       "  </tbody>\n",
       "</table>\n",
       "</div>"
      ],
      "text/plain": [
       "                           time  Common Setpoint  Actual Sup Flow SP  \\\n",
       "8956  2018-07-15 17:00:00+00:00             72.0             376.020   \n",
       "8957  2018-07-15 18:00:00+00:00             72.0             365.610   \n",
       "8958  2018-07-15 19:00:00+00:00             72.0             324.180   \n",
       "8959  2018-07-15 20:00:00+00:00             72.0             331.790   \n",
       "8960  2018-07-15 21:00:00+00:00             72.0             299.065   \n",
       "\n",
       "      Zone Temperature  Actual Supply Flow     energy  Outside Air Temp  \\\n",
       "8956             76.87              377.03  12.517615            76.000   \n",
       "8957             76.87              366.19  11.847620            77.130   \n",
       "8958             76.87              329.69  10.612003            77.500   \n",
       "8959             76.87              333.23  10.598369            77.000   \n",
       "8960             75.52              311.47   9.683832            75.595   \n",
       "\n",
       "      Humidity  Zone Temperature Next  Actual Supply Flow Next  \\\n",
       "8956      54.0                  76.87                  377.030   \n",
       "8957      54.0                  76.87                  361.050   \n",
       "8958      54.0                  76.87                  329.690   \n",
       "8959      54.0                  76.87                  327.880   \n",
       "8960      53.0                  75.52                  302.005   \n",
       "\n",
       "      Outside Air Temp Next  Humidity Next  energy Next  \n",
       "8956                  76.13           54.0    12.517615  \n",
       "8957                  77.13           54.0    11.847620  \n",
       "8958                  77.50           54.0    10.612003  \n",
       "8959                  76.94           54.0    10.384728  \n",
       "8960                  75.44           53.0     9.861569  "
      ]
     },
     "execution_count": 21,
     "metadata": {},
     "output_type": "execute_result"
    }
   ],
   "source": [
    "cleaned_training.tail(5)"
   ]
  },
  {
   "cell_type": "code",
   "execution_count": 6,
   "id": "e96b6b66",
   "metadata": {},
   "outputs": [],
   "source": [
    "training_reduced_prophet = cleaned_training.loc[:, ['time', 'energy']]\n",
    "test_reduced_prophet = cleaned_test.loc[:, ['time', 'energy']]"
   ]
  },
  {
   "cell_type": "code",
   "execution_count": 8,
   "id": "323f55f7",
   "metadata": {},
   "outputs": [],
   "source": [
    "training_reduced_prophet = training_reduced_prophet.rename({'time': 'ds', 'energy': 'y'}, axis = 1)\n",
    "test_reduced_prophet = test_reduced_prophet.rename({'time': 'ds', 'energy': 'y'}, axis = 1)\n"
   ]
  },
  {
   "cell_type": "markdown",
   "id": "0169dd4c",
   "metadata": {},
   "source": [
    "## Work with Prophet\n",
    "\n",
    "#### For missing analysis work, please look at old version of this notebook."
   ]
  },
  {
   "cell_type": "code",
   "execution_count": 10,
   "id": "e6450ac3",
   "metadata": {},
   "outputs": [],
   "source": [
    "# stripping time zones since they're incompatible with Prophet\n",
    "training_reduced_prophet['ds'] = training_reduced_prophet['ds'].transform(lambda x: x[0:-6])\n",
    "test_reduced_prophet['ds'] = test_reduced_prophet['ds'].transform(lambda x: x[0:-6])"
   ]
  },
  {
   "cell_type": "markdown",
   "id": "e8b97d8a",
   "metadata": {},
   "source": [
    "### Determining cap for Prophet model"
   ]
  },
  {
   "cell_type": "code",
   "execution_count": 11,
   "id": "1c4e2f3a",
   "metadata": {},
   "outputs": [
    {
     "data": {
      "text/plain": [
       "3821    37.321149\n",
       "3820    36.783517\n",
       "3823    36.714099\n",
       "3824    36.225804\n",
       "3819    36.090618\n",
       "          ...    \n",
       "8566     0.000000\n",
       "8565     0.000000\n",
       "3379     0.000000\n",
       "3380     0.000000\n",
       "8328     0.000000\n",
       "Name: y, Length: 8961, dtype: float64"
      ]
     },
     "execution_count": 11,
     "metadata": {},
     "output_type": "execute_result"
    }
   ],
   "source": [
    "training_reduced_prophet['y'].sort_values(ascending = False)"
   ]
  },
  {
   "cell_type": "code",
   "execution_count": 12,
   "id": "926fc523",
   "metadata": {},
   "outputs": [
    {
     "data": {
      "text/plain": [
       "7.261942517638141"
      ]
     },
     "execution_count": 12,
     "metadata": {},
     "output_type": "execute_result"
    }
   ],
   "source": [
    "training_reduced_prophet['y'].mean()"
   ]
  },
  {
   "cell_type": "code",
   "execution_count": 13,
   "id": "57c8a87d",
   "metadata": {},
   "outputs": [
    {
     "data": {
      "text/plain": [
       "8.923984893281045"
      ]
     },
     "execution_count": 13,
     "metadata": {},
     "output_type": "execute_result"
    }
   ],
   "source": [
    "training_reduced_prophet['y'].median()"
   ]
  },
  {
   "cell_type": "code",
   "execution_count": 14,
   "id": "4f2e470b",
   "metadata": {},
   "outputs": [],
   "source": [
    "training_reduced_prophet['cap'] = 50\n",
    "# have not set a changing cap with HVAC because I'm not sure it did change over this time frame"
   ]
  },
  {
   "cell_type": "markdown",
   "id": "f493c663",
   "metadata": {},
   "source": [
    "### Training Model"
   ]
  },
  {
   "cell_type": "code",
   "execution_count": 15,
   "id": "01d38611",
   "metadata": {},
   "outputs": [],
   "source": [
    "prophet_model = Prophet.Prophet()"
   ]
  },
  {
   "cell_type": "code",
   "execution_count": 16,
   "id": "95be1c77",
   "metadata": {},
   "outputs": [
    {
     "name": "stderr",
     "output_type": "stream",
     "text": [
      "11:58:25 - cmdstanpy - INFO - Chain [1] start processing\n",
      "11:58:26 - cmdstanpy - INFO - Chain [1] done processing\n"
     ]
    },
    {
     "data": {
      "text/plain": [
       "<prophet.forecaster.Prophet at 0x7f82e8173cd0>"
      ]
     },
     "execution_count": 16,
     "metadata": {},
     "output_type": "execute_result"
    }
   ],
   "source": [
    "prophet_model.fit(training_reduced_prophet)\n",
    "# got disabling yearly seasonality text - I think this makes sense to disable because our data < year"
   ]
  },
  {
   "cell_type": "markdown",
   "id": "bd1ef517",
   "metadata": {},
   "source": [
    "### Making Model Forecast\n",
    "\n",
    "#### We want to predict every 1 hour from August 1, 2018 through the end of the data on January 7, 2019\n",
    "Doesn't matter so much if we predict too long so long as the periods are right"
   ]
  },
  {
   "cell_type": "code",
   "execution_count": 22,
   "id": "ce408187",
   "metadata": {},
   "outputs": [],
   "source": [
    "prophet_forecast = prophet_model.make_future_dataframe(periods = 365 * 24, freq = '1H')\n",
    "prophet_forecast = prophet_model.predict(prophet_forecast)"
   ]
  },
  {
   "cell_type": "code",
   "execution_count": 23,
   "id": "3bcca45b",
   "metadata": {},
   "outputs": [
    {
     "data": {
      "text/html": [
       "<div>\n",
       "<style scoped>\n",
       "    .dataframe tbody tr th:only-of-type {\n",
       "        vertical-align: middle;\n",
       "    }\n",
       "\n",
       "    .dataframe tbody tr th {\n",
       "        vertical-align: top;\n",
       "    }\n",
       "\n",
       "    .dataframe thead th {\n",
       "        text-align: right;\n",
       "    }\n",
       "</style>\n",
       "<table border=\"1\" class=\"dataframe\">\n",
       "  <thead>\n",
       "    <tr style=\"text-align: right;\">\n",
       "      <th></th>\n",
       "      <th>ds</th>\n",
       "      <th>trend</th>\n",
       "      <th>yhat_lower</th>\n",
       "      <th>yhat_upper</th>\n",
       "      <th>trend_lower</th>\n",
       "      <th>trend_upper</th>\n",
       "      <th>additive_terms</th>\n",
       "      <th>additive_terms_lower</th>\n",
       "      <th>additive_terms_upper</th>\n",
       "      <th>daily</th>\n",
       "      <th>daily_lower</th>\n",
       "      <th>daily_upper</th>\n",
       "      <th>weekly</th>\n",
       "      <th>weekly_lower</th>\n",
       "      <th>weekly_upper</th>\n",
       "      <th>multiplicative_terms</th>\n",
       "      <th>multiplicative_terms_lower</th>\n",
       "      <th>multiplicative_terms_upper</th>\n",
       "      <th>yhat</th>\n",
       "    </tr>\n",
       "  </thead>\n",
       "  <tbody>\n",
       "    <tr>\n",
       "      <th>17716</th>\n",
       "      <td>2019-07-15 17:00:00</td>\n",
       "      <td>8.058932</td>\n",
       "      <td>-29.024072</td>\n",
       "      <td>55.932395</td>\n",
       "      <td>-34.394566</td>\n",
       "      <td>51.624400</td>\n",
       "      <td>5.030430</td>\n",
       "      <td>5.030430</td>\n",
       "      <td>5.030430</td>\n",
       "      <td>4.332805</td>\n",
       "      <td>4.332805</td>\n",
       "      <td>4.332805</td>\n",
       "      <td>0.697626</td>\n",
       "      <td>0.697626</td>\n",
       "      <td>0.697626</td>\n",
       "      <td>0.0</td>\n",
       "      <td>0.0</td>\n",
       "      <td>0.0</td>\n",
       "      <td>13.089363</td>\n",
       "    </tr>\n",
       "    <tr>\n",
       "      <th>17717</th>\n",
       "      <td>2019-07-15 18:00:00</td>\n",
       "      <td>8.059042</td>\n",
       "      <td>-28.017007</td>\n",
       "      <td>55.860478</td>\n",
       "      <td>-34.404644</td>\n",
       "      <td>51.643662</td>\n",
       "      <td>5.909694</td>\n",
       "      <td>5.909694</td>\n",
       "      <td>5.909694</td>\n",
       "      <td>5.153607</td>\n",
       "      <td>5.153607</td>\n",
       "      <td>5.153607</td>\n",
       "      <td>0.756087</td>\n",
       "      <td>0.756087</td>\n",
       "      <td>0.756087</td>\n",
       "      <td>0.0</td>\n",
       "      <td>0.0</td>\n",
       "      <td>0.0</td>\n",
       "      <td>13.968735</td>\n",
       "    </tr>\n",
       "    <tr>\n",
       "      <th>17718</th>\n",
       "      <td>2019-07-15 19:00:00</td>\n",
       "      <td>8.059151</td>\n",
       "      <td>-27.110214</td>\n",
       "      <td>58.426507</td>\n",
       "      <td>-34.414722</td>\n",
       "      <td>51.662925</td>\n",
       "      <td>6.723980</td>\n",
       "      <td>6.723980</td>\n",
       "      <td>6.723980</td>\n",
       "      <td>5.916787</td>\n",
       "      <td>5.916787</td>\n",
       "      <td>5.916787</td>\n",
       "      <td>0.807193</td>\n",
       "      <td>0.807193</td>\n",
       "      <td>0.807193</td>\n",
       "      <td>0.0</td>\n",
       "      <td>0.0</td>\n",
       "      <td>0.0</td>\n",
       "      <td>14.783132</td>\n",
       "    </tr>\n",
       "    <tr>\n",
       "      <th>17719</th>\n",
       "      <td>2019-07-15 20:00:00</td>\n",
       "      <td>8.059261</td>\n",
       "      <td>-27.403901</td>\n",
       "      <td>58.569212</td>\n",
       "      <td>-34.424800</td>\n",
       "      <td>51.674747</td>\n",
       "      <td>7.220648</td>\n",
       "      <td>7.220648</td>\n",
       "      <td>7.220648</td>\n",
       "      <td>6.369622</td>\n",
       "      <td>6.369622</td>\n",
       "      <td>6.369622</td>\n",
       "      <td>0.851025</td>\n",
       "      <td>0.851025</td>\n",
       "      <td>0.851025</td>\n",
       "      <td>0.0</td>\n",
       "      <td>0.0</td>\n",
       "      <td>0.0</td>\n",
       "      <td>15.279908</td>\n",
       "    </tr>\n",
       "    <tr>\n",
       "      <th>17720</th>\n",
       "      <td>2019-07-15 21:00:00</td>\n",
       "      <td>8.059371</td>\n",
       "      <td>-26.352738</td>\n",
       "      <td>58.357212</td>\n",
       "      <td>-34.434878</td>\n",
       "      <td>51.682841</td>\n",
       "      <td>6.955785</td>\n",
       "      <td>6.955785</td>\n",
       "      <td>6.955785</td>\n",
       "      <td>6.068057</td>\n",
       "      <td>6.068057</td>\n",
       "      <td>6.068057</td>\n",
       "      <td>0.887728</td>\n",
       "      <td>0.887728</td>\n",
       "      <td>0.887728</td>\n",
       "      <td>0.0</td>\n",
       "      <td>0.0</td>\n",
       "      <td>0.0</td>\n",
       "      <td>15.015156</td>\n",
       "    </tr>\n",
       "  </tbody>\n",
       "</table>\n",
       "</div>"
      ],
      "text/plain": [
       "                       ds     trend  yhat_lower  yhat_upper  trend_lower  \\\n",
       "17716 2019-07-15 17:00:00  8.058932  -29.024072   55.932395   -34.394566   \n",
       "17717 2019-07-15 18:00:00  8.059042  -28.017007   55.860478   -34.404644   \n",
       "17718 2019-07-15 19:00:00  8.059151  -27.110214   58.426507   -34.414722   \n",
       "17719 2019-07-15 20:00:00  8.059261  -27.403901   58.569212   -34.424800   \n",
       "17720 2019-07-15 21:00:00  8.059371  -26.352738   58.357212   -34.434878   \n",
       "\n",
       "       trend_upper  additive_terms  additive_terms_lower  \\\n",
       "17716    51.624400        5.030430              5.030430   \n",
       "17717    51.643662        5.909694              5.909694   \n",
       "17718    51.662925        6.723980              6.723980   \n",
       "17719    51.674747        7.220648              7.220648   \n",
       "17720    51.682841        6.955785              6.955785   \n",
       "\n",
       "       additive_terms_upper     daily  daily_lower  daily_upper    weekly  \\\n",
       "17716              5.030430  4.332805     4.332805     4.332805  0.697626   \n",
       "17717              5.909694  5.153607     5.153607     5.153607  0.756087   \n",
       "17718              6.723980  5.916787     5.916787     5.916787  0.807193   \n",
       "17719              7.220648  6.369622     6.369622     6.369622  0.851025   \n",
       "17720              6.955785  6.068057     6.068057     6.068057  0.887728   \n",
       "\n",
       "       weekly_lower  weekly_upper  multiplicative_terms  \\\n",
       "17716      0.697626      0.697626                   0.0   \n",
       "17717      0.756087      0.756087                   0.0   \n",
       "17718      0.807193      0.807193                   0.0   \n",
       "17719      0.851025      0.851025                   0.0   \n",
       "17720      0.887728      0.887728                   0.0   \n",
       "\n",
       "       multiplicative_terms_lower  multiplicative_terms_upper       yhat  \n",
       "17716                         0.0                         0.0  13.089363  \n",
       "17717                         0.0                         0.0  13.968735  \n",
       "17718                         0.0                         0.0  14.783132  \n",
       "17719                         0.0                         0.0  15.279908  \n",
       "17720                         0.0                         0.0  15.015156  "
      ]
     },
     "execution_count": 23,
     "metadata": {},
     "output_type": "execute_result"
    }
   ],
   "source": [
    "prophet_forecast.tail(5)"
   ]
  },
  {
   "cell_type": "code",
   "execution_count": null,
   "id": "026219d3",
   "metadata": {},
   "outputs": [],
   "source": [
    "# This got us a little past the time I wanted to be at but it works"
   ]
  },
  {
   "cell_type": "markdown",
   "id": "b5c589e7",
   "metadata": {},
   "source": [
    "## Plot Analysis"
   ]
  },
  {
   "cell_type": "code",
   "execution_count": 24,
   "id": "5e2beae7",
   "metadata": {},
   "outputs": [
    {
     "data": {
      "image/png": "[encoded data removed]",
      "text/plain": [
       "<Figure size 648x648 with 3 Axes>"
      ]
     },
     "metadata": {},
     "output_type": "display_data"
    }
   ],
   "source": [
    "fig2 = prophet_model.plot_components(prophet_forecast)"
   ]
  },
  {
   "cell_type": "code",
   "execution_count": null,
   "id": "2083fb88",
   "metadata": {},
   "outputs": [],
   "source": [
    "# These figures look almost the same as the ones without imputation"
   ]
  },
  {
   "cell_type": "markdown",
   "id": "d9431319",
   "metadata": {},
   "source": [
    "## Finding MSE"
   ]
  },
  {
   "cell_type": "code",
   "execution_count": 25,
   "id": "7bad1b8a",
   "metadata": {},
   "outputs": [],
   "source": [
    "prophet_forecast_reduced = prophet_forecast.loc[:, ['ds', 'yhat']]"
   ]
  },
  {
   "cell_type": "code",
   "execution_count": 29,
   "id": "68d71587",
   "metadata": {},
   "outputs": [
    {
     "data": {
      "text/plain": [
       "0   2017-07-07 13:00:00\n",
       "1   2017-07-07 14:00:00\n",
       "2   2017-07-07 15:00:00\n",
       "3   2017-07-07 16:00:00\n",
       "4   2017-07-07 17:00:00\n",
       "Name: ds, dtype: datetime64[ns]"
      ]
     },
     "execution_count": 29,
     "metadata": {},
     "output_type": "execute_result"
    }
   ],
   "source": [
    "prophet_forecast['ds'].head(5)"
   ]
  },
  {
   "cell_type": "code",
   "execution_count": 31,
   "id": "93063c93",
   "metadata": {},
   "outputs": [],
   "source": [
    "test_reduced_prophet['ds'] = pd.to_datetime(test_reduced_prophet['ds'])"
   ]
  },
  {
   "cell_type": "code",
   "execution_count": 33,
   "id": "85d943d5",
   "metadata": {},
   "outputs": [],
   "source": [
    "merged = prophet_forecast_reduced.merge(test_reduced_prophet, left_on = 'ds', right_on = 'ds')"
   ]
  },
  {
   "cell_type": "code",
   "execution_count": 34,
   "id": "4d4d8c5c",
   "metadata": {},
   "outputs": [
    {
     "data": {
      "text/plain": [
       "(188633, 3)"
      ]
     },
     "execution_count": 34,
     "metadata": {},
     "output_type": "execute_result"
    }
   ],
   "source": [
    "merged.shape"
   ]
  },
  {
   "cell_type": "code",
   "execution_count": 35,
   "id": "f578ee13",
   "metadata": {},
   "outputs": [
    {
     "data": {
      "text/plain": [
       "(188633, 2)"
      ]
     },
     "execution_count": 35,
     "metadata": {},
     "output_type": "execute_result"
    }
   ],
   "source": [
    "test_reduced_prophet.shape"
   ]
  },
  {
   "cell_type": "code",
   "execution_count": 39,
   "id": "e5339257",
   "metadata": {},
   "outputs": [
    {
     "data": {
      "text/plain": [
       "47.084880519281775"
      ]
     },
     "execution_count": 39,
     "metadata": {},
     "output_type": "execute_result"
    }
   ],
   "source": [
    "sum((merged['y'] - merged['yhat']) ** 2) / test_reduced_prophet.shape[0]"
   ]
  },
  {
   "cell_type": "markdown",
   "id": "41745fac",
   "metadata": {},
   "source": [
    "This gives an MSE of 47:\n",
    "- Floor 2 original 5-min floored was: 50.64062665397791\n",
    "- Floor 3 original 5-min floored was: 47.75016453897674\n",
    "- Floor 4 original 5-min floored was 274.2433927796554\n",
    "\n",
    "This is an improvement across the board and a more consistent predictor but still not low\n",
    "Try and see if we can improve it via parameters to use as a baseline."
   ]
  },
  {
   "cell_type": "code",
   "execution_count": null,
   "id": "8d346486",
   "metadata": {},
   "outputs": [],
   "source": []
  },
  {
   "cell_type": "markdown",
   "id": "62f5d80f",
   "metadata": {},
   "source": [
    "# Attempt(s) 2: no cap and different parameters for changepoint_prior_scale"
   ]
  },
  {
   "cell_type": "code",
   "execution_count": 42,
   "id": "1b8bb6c8",
   "metadata": {},
   "outputs": [],
   "source": [
    "training_reduced_prophet = training_reduced_prophet.drop(['cap'], axis = 1)"
   ]
  },
  {
   "cell_type": "code",
   "execution_count": 43,
   "id": "b00a4aac",
   "metadata": {},
   "outputs": [],
   "source": [
    "flexibility_values = [1, 0.5, 0.25, 0.1, 0.05, 0.01, 0.005, 0.001]"
   ]
  },
  {
   "cell_type": "code",
   "execution_count": 44,
   "id": "35af55fd",
   "metadata": {},
   "outputs": [],
   "source": [
    "mses = []"
   ]
  },
  {
   "cell_type": "code",
   "execution_count": 45,
   "id": "6f4918b0",
   "metadata": {},
   "outputs": [
    {
     "name": "stderr",
     "output_type": "stream",
     "text": [
      "12:30:16 - cmdstanpy - INFO - Chain [1] start processing\n",
      "12:30:18 - cmdstanpy - INFO - Chain [1] done processing\n",
      "12:30:21 - cmdstanpy - INFO - Chain [1] start processing\n",
      "12:30:25 - cmdstanpy - INFO - Chain [1] done processing\n",
      "12:30:28 - cmdstanpy - INFO - Chain [1] start processing\n",
      "12:30:30 - cmdstanpy - INFO - Chain [1] done processing\n",
      "12:30:33 - cmdstanpy - INFO - Chain [1] start processing\n",
      "12:30:35 - cmdstanpy - INFO - Chain [1] done processing\n",
      "12:30:38 - cmdstanpy - INFO - Chain [1] start processing\n",
      "12:30:38 - cmdstanpy - INFO - Chain [1] done processing\n",
      "12:30:41 - cmdstanpy - INFO - Chain [1] start processing\n",
      "12:30:42 - cmdstanpy - INFO - Chain [1] done processing\n",
      "12:30:45 - cmdstanpy - INFO - Chain [1] start processing\n",
      "12:30:45 - cmdstanpy - INFO - Chain [1] done processing\n",
      "12:30:48 - cmdstanpy - INFO - Chain [1] start processing\n",
      "12:30:49 - cmdstanpy - INFO - Chain [1] done processing\n"
     ]
    }
   ],
   "source": [
    "for val in flexibility_values:\n",
    "    prophet_model = Prophet.Prophet(changepoint_prior_scale=val)\n",
    "    prophet_model.fit(training_reduced_prophet)\n",
    "    \n",
    "    prophet_forecast = prophet_model.make_future_dataframe(periods = 365 * 24, freq = '1H')\n",
    "    prophet_forecast = prophet_model.predict(prophet_forecast)\n",
    "\n",
    "    prophet_forecast_reduced = prophet_forecast.loc[:, ['ds', 'yhat']]\n",
    "    merged = prophet_forecast_reduced.merge(test_reduced_prophet, left_on = 'ds', right_on = 'ds')\n",
    "    \n",
    "    mses.append(sum((merged['y'] - merged['yhat']) ** 2) / test_reduced_prophet.shape[0])\n",
    "    "
   ]
  },
  {
   "cell_type": "code",
   "execution_count": 46,
   "id": "927b5c2b",
   "metadata": {},
   "outputs": [
    {
     "data": {
      "text/plain": [
       "[46.45772364455673,\n",
       " 46.48577549176039,\n",
       " 46.610635515273714,\n",
       " 46.89409649782326,\n",
       " 47.084880519281775,\n",
       " 46.47556825295931,\n",
       " 46.756375060866304,\n",
       " 52.33694940728566]"
      ]
     },
     "execution_count": 46,
     "metadata": {},
     "output_type": "execute_result"
    }
   ],
   "source": [
    "mses"
   ]
  },
  {
   "cell_type": "code",
   "execution_count": null,
   "id": "32c3bf46",
   "metadata": {},
   "outputs": [],
   "source": [
    "# MSE is lowest at 1, 0.01, 0.5 but still in a similar range as the original value so not substantial improvements"
   ]
  },
  {
   "cell_type": "code",
   "execution_count": null,
   "id": "f13c8b97",
   "metadata": {},
   "outputs": [],
   "source": []
  },
  {
   "cell_type": "markdown",
   "id": "23401217",
   "metadata": {},
   "source": [
    "# Attempt(s) 3: cap values with 1 for flexibility"
   ]
  },
  {
   "cell_type": "code",
   "execution_count": 47,
   "id": "2e8ab8d8",
   "metadata": {},
   "outputs": [],
   "source": [
    "cap_values = [10,20,30,40,50,60,70,80,90,100]"
   ]
  },
  {
   "cell_type": "code",
   "execution_count": 48,
   "id": "f33bd3bc",
   "metadata": {},
   "outputs": [],
   "source": [
    "mses = []"
   ]
  },
  {
   "cell_type": "code",
   "execution_count": 58,
   "id": "e061225d",
   "metadata": {},
   "outputs": [
    {
     "name": "stderr",
     "output_type": "stream",
     "text": [
      "13:04:47 - cmdstanpy - INFO - Chain [1] start processing\n",
      "13:04:49 - cmdstanpy - INFO - Chain [1] done processing\n",
      "13:04:52 - cmdstanpy - INFO - Chain [1] start processing\n",
      "13:04:54 - cmdstanpy - INFO - Chain [1] done processing\n",
      "13:04:57 - cmdstanpy - INFO - Chain [1] start processing\n",
      "13:04:59 - cmdstanpy - INFO - Chain [1] done processing\n",
      "13:05:02 - cmdstanpy - INFO - Chain [1] start processing\n",
      "13:05:05 - cmdstanpy - INFO - Chain [1] done processing\n",
      "13:05:08 - cmdstanpy - INFO - Chain [1] start processing\n",
      "13:05:10 - cmdstanpy - INFO - Chain [1] done processing\n",
      "13:05:13 - cmdstanpy - INFO - Chain [1] start processing\n",
      "13:05:15 - cmdstanpy - INFO - Chain [1] done processing\n",
      "13:05:18 - cmdstanpy - INFO - Chain [1] start processing\n",
      "13:05:21 - cmdstanpy - INFO - Chain [1] done processing\n",
      "13:05:24 - cmdstanpy - INFO - Chain [1] start processing\n",
      "13:05:26 - cmdstanpy - INFO - Chain [1] done processing\n",
      "13:05:29 - cmdstanpy - INFO - Chain [1] start processing\n",
      "13:05:31 - cmdstanpy - INFO - Chain [1] done processing\n",
      "13:05:34 - cmdstanpy - INFO - Chain [1] start processing\n",
      "13:05:36 - cmdstanpy - INFO - Chain [1] done processing\n"
     ]
    }
   ],
   "source": [
    "for val in cap_values:\n",
    "    training_reduced_prophet.loc[:, 'cap'] = val\n",
    "    \n",
    "    prophet_model = Prophet.Prophet(changepoint_prior_scale=1)\n",
    "    prophet_model.fit(training_reduced_prophet)\n",
    "    \n",
    "    prophet_forecast = prophet_model.make_future_dataframe(periods = 365 * 24, freq = '1H')\n",
    "    prophet_forecast = prophet_model.predict(prophet_forecast)\n",
    "\n",
    "    prophet_forecast_reduced = prophet_forecast.loc[:, ['ds', 'yhat']]\n",
    "    merged = prophet_forecast_reduced.merge(test_reduced_prophet, left_on = 'ds', right_on = 'ds')\n",
    "    \n",
    "    mses.append(sum((merged['y'] - merged['yhat']) ** 2) / test_reduced_prophet.shape[0])\n",
    "    "
   ]
  },
  {
   "cell_type": "code",
   "execution_count": 59,
   "id": "cd3ed4d5",
   "metadata": {},
   "outputs": [
    {
     "data": {
      "text/plain": [
       "[46.45772364455673,\n",
       " 46.45772364455673,\n",
       " 46.45772364455673,\n",
       " 46.45772364455673,\n",
       " 46.45772364455673,\n",
       " 46.45772364455673,\n",
       " 46.45772364455673,\n",
       " 46.45772364455673,\n",
       " 46.45772364455673,\n",
       " 46.45772364455673,\n",
       " 46.45772364455673,\n",
       " 46.45772364455673,\n",
       " 46.45772364455673,\n",
       " 46.45772364455673,\n",
       " 46.45772364455673,\n",
       " 46.45772364455673,\n",
       " 46.45772364455673,\n",
       " 46.45772364455673,\n",
       " 46.45772364455673,\n",
       " 46.45772364455673]"
      ]
     },
     "execution_count": 59,
     "metadata": {},
     "output_type": "execute_result"
    }
   ],
   "source": [
    "mses"
   ]
  },
  {
   "cell_type": "code",
   "execution_count": null,
   "id": "58623854",
   "metadata": {},
   "outputs": [],
   "source": [
    "# Cap value: no impact"
   ]
  },
  {
   "cell_type": "code",
   "execution_count": 60,
   "id": "661b5ecb",
   "metadata": {},
   "outputs": [
    {
     "data": {
      "image/png": "[encoded data removed]",
      "text/plain": [
       "<Figure size 720x432 with 1 Axes>"
      ]
     },
     "metadata": {},
     "output_type": "display_data"
    }
   ],
   "source": [
    "fig = prophet_model.plot(prophet_forecast)"
   ]
  },
  {
   "cell_type": "code",
   "execution_count": null,
   "id": "091a338d",
   "metadata": {},
   "outputs": [],
   "source": [
    "# This is how the forecas tfits - it's having a difficult time predicting the range, which it thinks expands dramatically\n",
    "\n",
    "# or are those just the upper and lower possible trends?"
   ]
  },
  {
   "cell_type": "markdown",
   "id": "e0d907f7",
   "metadata": {},
   "source": [
    "# Attempt 4 - Accounting for Days on Break"
   ]
  },
  {
   "cell_type": "code",
   "execution_count": 61,
   "id": "89b48607",
   "metadata": {},
   "outputs": [],
   "source": [
    "def is_school_break(ds):\n",
    "    date = pd.to_datetime(ds)\n",
    "    #https://blink.ucsd.edu/instructors/resources/academic/calendars/2016.html\n",
    "    #https://blink.ucsd.edu/instructors/resources/academic/calendars/2017.html\n",
    "    #https://blink.ucsd.edu/instructors/resources/academic/calendars/2018.html\n",
    "    date_ranges = [\n",
    "        ['03/26/2017', '04/06/2017'], \n",
    "        ['06/17/2017', '07/02/2017'],\n",
    "        ['09/10/2017', '09/24/2017'],\n",
    "        ['12/17/2017', '01/02/2018'],\n",
    "        ['03/25/2018', '04/01/2018'],\n",
    "        ['06/16/2018', '07/01/2018'],\n",
    "        ['09/09/2018', '09/23/2018'],\n",
    "        ['12/16/2018', '01/06/2019']\n",
    "    ]\n",
    "    \n",
    "    for date_range in date_ranges:\n",
    "        if pd.to_datetime(date_range[0]) <= date and pd.to_datetime(date_range[1]) >= date:\n",
    "            return True\n",
    "    return False"
   ]
  },
  {
   "cell_type": "code",
   "execution_count": 62,
   "id": "eeb82010",
   "metadata": {},
   "outputs": [],
   "source": [
    "training_reduced_prophet = training_reduced_prophet.loc[:, ['ds', 'y']]\n",
    "\n",
    "\n",
    "training_reduced_prophet['on_season'] = training_reduced_prophet['ds'].apply(is_school_break)\n",
    "training_reduced_prophet['off_season'] = ~training_reduced_prophet['ds'].apply(is_school_break)"
   ]
  },
  {
   "cell_type": "code",
   "execution_count": 69,
   "id": "63b297a4",
   "metadata": {},
   "outputs": [],
   "source": [
    "test_reduced_prophet['on_season'] = test_reduced_prophet['ds'].apply(is_school_break)\n",
    "test_reduced_prophet['off_season'] = ~test_reduced_prophet['ds'].apply(is_school_break)"
   ]
  },
  {
   "cell_type": "code",
   "execution_count": null,
   "id": "2e8b5639",
   "metadata": {},
   "outputs": [],
   "source": [
    "# this is taking a while to run"
   ]
  },
  {
   "cell_type": "code",
   "execution_count": 71,
   "id": "c4789902",
   "metadata": {},
   "outputs": [
    {
     "data": {
      "text/html": [
       "<div>\n",
       "<style scoped>\n",
       "    .dataframe tbody tr th:only-of-type {\n",
       "        vertical-align: middle;\n",
       "    }\n",
       "\n",
       "    .dataframe tbody tr th {\n",
       "        vertical-align: top;\n",
       "    }\n",
       "\n",
       "    .dataframe thead th {\n",
       "        text-align: right;\n",
       "    }\n",
       "</style>\n",
       "<table border=\"1\" class=\"dataframe\">\n",
       "  <thead>\n",
       "    <tr style=\"text-align: right;\">\n",
       "      <th></th>\n",
       "      <th>ds</th>\n",
       "      <th>y</th>\n",
       "      <th>on_season</th>\n",
       "      <th>off_season</th>\n",
       "    </tr>\n",
       "  </thead>\n",
       "  <tbody>\n",
       "    <tr>\n",
       "      <th>0</th>\n",
       "      <td>2017-07-07 13:00:00</td>\n",
       "      <td>2.635583</td>\n",
       "      <td>False</td>\n",
       "      <td>True</td>\n",
       "    </tr>\n",
       "    <tr>\n",
       "      <th>1</th>\n",
       "      <td>2017-07-07 14:00:00</td>\n",
       "      <td>10.879652</td>\n",
       "      <td>False</td>\n",
       "      <td>True</td>\n",
       "    </tr>\n",
       "    <tr>\n",
       "      <th>2</th>\n",
       "      <td>2017-07-07 15:00:00</td>\n",
       "      <td>10.338963</td>\n",
       "      <td>False</td>\n",
       "      <td>True</td>\n",
       "    </tr>\n",
       "    <tr>\n",
       "      <th>3</th>\n",
       "      <td>2017-07-07 16:00:00</td>\n",
       "      <td>13.542031</td>\n",
       "      <td>False</td>\n",
       "      <td>True</td>\n",
       "    </tr>\n",
       "    <tr>\n",
       "      <th>4</th>\n",
       "      <td>2017-07-07 17:00:00</td>\n",
       "      <td>14.461083</td>\n",
       "      <td>False</td>\n",
       "      <td>True</td>\n",
       "    </tr>\n",
       "  </tbody>\n",
       "</table>\n",
       "</div>"
      ],
      "text/plain": [
       "                    ds          y  on_season  off_season\n",
       "0  2017-07-07 13:00:00   2.635583      False        True\n",
       "1  2017-07-07 14:00:00  10.879652      False        True\n",
       "2  2017-07-07 15:00:00  10.338963      False        True\n",
       "3  2017-07-07 16:00:00  13.542031      False        True\n",
       "4  2017-07-07 17:00:00  14.461083      False        True"
      ]
     },
     "execution_count": 71,
     "metadata": {},
     "output_type": "execute_result"
    }
   ],
   "source": [
    "training_reduced_prophet.head(5)"
   ]
  },
  {
   "cell_type": "code",
   "execution_count": 72,
   "id": "2ba8e608",
   "metadata": {},
   "outputs": [
    {
     "data": {
      "text/html": [
       "<div>\n",
       "<style scoped>\n",
       "    .dataframe tbody tr th:only-of-type {\n",
       "        vertical-align: middle;\n",
       "    }\n",
       "\n",
       "    .dataframe tbody tr th {\n",
       "        vertical-align: top;\n",
       "    }\n",
       "\n",
       "    .dataframe thead th {\n",
       "        text-align: right;\n",
       "    }\n",
       "</style>\n",
       "<table border=\"1\" class=\"dataframe\">\n",
       "  <thead>\n",
       "    <tr style=\"text-align: right;\">\n",
       "      <th></th>\n",
       "      <th>ds</th>\n",
       "      <th>y</th>\n",
       "      <th>on_season</th>\n",
       "      <th>off_season</th>\n",
       "    </tr>\n",
       "  </thead>\n",
       "  <tbody>\n",
       "    <tr>\n",
       "      <th>0</th>\n",
       "      <td>2018-09-03 01:00:00</td>\n",
       "      <td>9.038064</td>\n",
       "      <td>False</td>\n",
       "      <td>True</td>\n",
       "    </tr>\n",
       "    <tr>\n",
       "      <th>1</th>\n",
       "      <td>2018-09-03 01:00:00</td>\n",
       "      <td>9.020124</td>\n",
       "      <td>False</td>\n",
       "      <td>True</td>\n",
       "    </tr>\n",
       "    <tr>\n",
       "      <th>2</th>\n",
       "      <td>2018-09-03 01:00:00</td>\n",
       "      <td>8.966305</td>\n",
       "      <td>False</td>\n",
       "      <td>True</td>\n",
       "    </tr>\n",
       "    <tr>\n",
       "      <th>3</th>\n",
       "      <td>2018-09-03 01:00:00</td>\n",
       "      <td>9.121355</td>\n",
       "      <td>False</td>\n",
       "      <td>True</td>\n",
       "    </tr>\n",
       "    <tr>\n",
       "      <th>4</th>\n",
       "      <td>2018-09-03 01:00:00</td>\n",
       "      <td>8.978479</td>\n",
       "      <td>False</td>\n",
       "      <td>True</td>\n",
       "    </tr>\n",
       "  </tbody>\n",
       "</table>\n",
       "</div>"
      ],
      "text/plain": [
       "                   ds         y  on_season  off_season\n",
       "0 2018-09-03 01:00:00  9.038064      False        True\n",
       "1 2018-09-03 01:00:00  9.020124      False        True\n",
       "2 2018-09-03 01:00:00  8.966305      False        True\n",
       "3 2018-09-03 01:00:00  9.121355      False        True\n",
       "4 2018-09-03 01:00:00  8.978479      False        True"
      ]
     },
     "execution_count": 72,
     "metadata": {},
     "output_type": "execute_result"
    }
   ],
   "source": [
    "test_reduced_prophet.head(5)"
   ]
  },
  {
   "cell_type": "code",
   "execution_count": 70,
   "id": "15b71f68",
   "metadata": {},
   "outputs": [
    {
     "name": "stderr",
     "output_type": "stream",
     "text": [
      "13:16:22 - cmdstanpy - INFO - Chain [1] start processing\n",
      "13:16:26 - cmdstanpy - INFO - Chain [1] done processing\n"
     ]
    },
    {
     "ename": "ValueError",
     "evalue": "Condition 'on_season' missing from dataframe",
     "output_type": "error",
     "traceback": [
      "\u001b[0;31m---------------------------------------------------------------------------\u001b[0m",
      "\u001b[0;31mValueError\u001b[0m                                Traceback (most recent call last)",
      "\u001b[0;32m<ipython-input-70-9d7cdf45ff74>\u001b[0m in \u001b[0;36m<module>\u001b[0;34m\u001b[0m\n\u001b[1;32m      7\u001b[0m \u001b[0;34m\u001b[0m\u001b[0m\n\u001b[1;32m      8\u001b[0m \u001b[0mprophet_forecast\u001b[0m \u001b[0;34m=\u001b[0m \u001b[0mprophet_model\u001b[0m\u001b[0;34m.\u001b[0m\u001b[0mmake_future_dataframe\u001b[0m\u001b[0;34m(\u001b[0m\u001b[0mperiods\u001b[0m \u001b[0;34m=\u001b[0m \u001b[0;36m365\u001b[0m \u001b[0;34m*\u001b[0m \u001b[0;36m24\u001b[0m\u001b[0;34m,\u001b[0m \u001b[0mfreq\u001b[0m \u001b[0;34m=\u001b[0m \u001b[0;34m'1H'\u001b[0m\u001b[0;34m)\u001b[0m\u001b[0;34m\u001b[0m\u001b[0;34m\u001b[0m\u001b[0m\n\u001b[0;32m----> 9\u001b[0;31m \u001b[0mprophet_forecast\u001b[0m \u001b[0;34m=\u001b[0m \u001b[0mprophet_model\u001b[0m\u001b[0;34m.\u001b[0m\u001b[0mpredict\u001b[0m\u001b[0;34m(\u001b[0m\u001b[0mprophet_forecast\u001b[0m\u001b[0;34m)\u001b[0m\u001b[0;34m\u001b[0m\u001b[0;34m\u001b[0m\u001b[0m\n\u001b[0m\u001b[1;32m     10\u001b[0m \u001b[0;34m\u001b[0m\u001b[0m\n\u001b[1;32m     11\u001b[0m \u001b[0mprophet_forecast_reduced\u001b[0m \u001b[0;34m=\u001b[0m \u001b[0mprophet_forecast\u001b[0m\u001b[0;34m.\u001b[0m\u001b[0mloc\u001b[0m\u001b[0;34m[\u001b[0m\u001b[0;34m:\u001b[0m\u001b[0;34m,\u001b[0m \u001b[0;34m[\u001b[0m\u001b[0;34m'ds'\u001b[0m\u001b[0;34m,\u001b[0m \u001b[0;34m'yhat'\u001b[0m\u001b[0;34m]\u001b[0m\u001b[0;34m]\u001b[0m\u001b[0;34m\u001b[0m\u001b[0;34m\u001b[0m\u001b[0m\n",
      "\u001b[0;32m~/Library/Python/3.8/lib/python/site-packages/prophet/forecaster.py\u001b[0m in \u001b[0;36mpredict\u001b[0;34m(self, df, vectorized)\u001b[0m\n\u001b[1;32m   1217\u001b[0m             \u001b[0;32mif\u001b[0m \u001b[0mdf\u001b[0m\u001b[0;34m.\u001b[0m\u001b[0mshape\u001b[0m\u001b[0;34m[\u001b[0m\u001b[0;36m0\u001b[0m\u001b[0;34m]\u001b[0m \u001b[0;34m==\u001b[0m \u001b[0;36m0\u001b[0m\u001b[0;34m:\u001b[0m\u001b[0;34m\u001b[0m\u001b[0;34m\u001b[0m\u001b[0m\n\u001b[1;32m   1218\u001b[0m                 \u001b[0;32mraise\u001b[0m \u001b[0mValueError\u001b[0m\u001b[0;34m(\u001b[0m\u001b[0;34m'Dataframe has no rows.'\u001b[0m\u001b[0;34m)\u001b[0m\u001b[0;34m\u001b[0m\u001b[0;34m\u001b[0m\u001b[0m\n\u001b[0;32m-> 1219\u001b[0;31m             \u001b[0mdf\u001b[0m \u001b[0;34m=\u001b[0m \u001b[0mself\u001b[0m\u001b[0;34m.\u001b[0m\u001b[0msetup_dataframe\u001b[0m\u001b[0;34m(\u001b[0m\u001b[0mdf\u001b[0m\u001b[0;34m.\u001b[0m\u001b[0mcopy\u001b[0m\u001b[0;34m(\u001b[0m\u001b[0;34m)\u001b[0m\u001b[0;34m)\u001b[0m\u001b[0;34m\u001b[0m\u001b[0;34m\u001b[0m\u001b[0m\n\u001b[0m\u001b[1;32m   1220\u001b[0m \u001b[0;34m\u001b[0m\u001b[0m\n\u001b[1;32m   1221\u001b[0m         \u001b[0mdf\u001b[0m\u001b[0;34m[\u001b[0m\u001b[0;34m'trend'\u001b[0m\u001b[0;34m]\u001b[0m \u001b[0;34m=\u001b[0m \u001b[0mself\u001b[0m\u001b[0;34m.\u001b[0m\u001b[0mpredict_trend\u001b[0m\u001b[0;34m(\u001b[0m\u001b[0mdf\u001b[0m\u001b[0;34m)\u001b[0m\u001b[0;34m\u001b[0m\u001b[0;34m\u001b[0m\u001b[0m\n",
      "\u001b[0;32m~/Library/Python/3.8/lib/python/site-packages/prophet/forecaster.py\u001b[0m in \u001b[0;36msetup_dataframe\u001b[0;34m(self, df, initialize_scales)\u001b[0m\n\u001b[1;32m    292\u001b[0m             \u001b[0;32mif\u001b[0m \u001b[0mcondition_name\u001b[0m \u001b[0;32mis\u001b[0m \u001b[0;32mnot\u001b[0m \u001b[0;32mNone\u001b[0m\u001b[0;34m:\u001b[0m\u001b[0;34m\u001b[0m\u001b[0;34m\u001b[0m\u001b[0m\n\u001b[1;32m    293\u001b[0m                 \u001b[0;32mif\u001b[0m \u001b[0mcondition_name\u001b[0m \u001b[0;32mnot\u001b[0m \u001b[0;32min\u001b[0m \u001b[0mdf\u001b[0m\u001b[0;34m:\u001b[0m\u001b[0;34m\u001b[0m\u001b[0;34m\u001b[0m\u001b[0m\n\u001b[0;32m--> 294\u001b[0;31m                     raise ValueError(\n\u001b[0m\u001b[1;32m    295\u001b[0m                         \u001b[0;34m'Condition {condition_name!r} missing from dataframe'\u001b[0m\u001b[0;34m\u001b[0m\u001b[0;34m\u001b[0m\u001b[0m\n\u001b[1;32m    296\u001b[0m                         \u001b[0;34m.\u001b[0m\u001b[0mformat\u001b[0m\u001b[0;34m(\u001b[0m\u001b[0mcondition_name\u001b[0m\u001b[0;34m=\u001b[0m\u001b[0mcondition_name\u001b[0m\u001b[0;34m)\u001b[0m\u001b[0;34m\u001b[0m\u001b[0;34m\u001b[0m\u001b[0m\n",
      "\u001b[0;31mValueError\u001b[0m: Condition 'on_season' missing from dataframe"
     ]
    }
   ],
   "source": [
    "prophet_model = Prophet.Prophet(changepoint_prior_scale=1)\n",
    "prophet_model.add_seasonality(name='weekly_on_season', period=7, fourier_order=3, condition_name='on_season')\n",
    "prophet_model.add_seasonality(name='weekly_off_season', period=7, fourier_order=3, condition_name='off_season')\n",
    "\n",
    "\n",
    "prophet_model.fit(training_reduced_prophet)\n",
    "    \n",
    "prophet_forecast = prophet_model.make_future_dataframe(periods = 365 * 24, freq = '1H')\n",
    "prophet_forecast = prophet_model.predict(prophet_forecast)\n",
    "\n",
    "prophet_forecast_reduced = prophet_forecast.loc[:, ['ds', 'yhat']]\n",
    "merged = prophet_forecast_reduced.merge(test_reduced_prophet, left_on = 'ds', right_on = 'ds')\n",
    "    \n",
    "sum((merged['y'] - merged['yhat']) ** 2) / test_reduced_prophet.shape[0]"
   ]
  },
  {
   "cell_type": "code",
   "execution_count": null,
   "id": "86067c9f",
   "metadata": {},
   "outputs": [],
   "source": [
    "# this had no impact on reducing MSE"
   ]
  }
 ],
 "metadata": {
  "kernelspec": {
   "display_name": "Python 3",
   "language": "python",
   "name": "python3"
  },
  "language_info": {
   "codemirror_mode": {
    "name": "ipython",
    "version": 3
   },
   "file_extension": ".py",
   "mimetype": "text/x-python",
   "name": "python",
   "nbconvert_exporter": "python",
   "pygments_lexer": "ipython3",
   "version": "3.8.5"
  }
 },
 "nbformat": 4,
 "nbformat_minor": 5
}
