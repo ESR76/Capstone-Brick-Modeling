{
 "cells": [
  {
   "cell_type": "markdown",
   "id": "6139778e",
   "metadata": {},
   "source": [
    "# Esperanza's Data Re-cleaning Notebook\n",
    "\n",
    "## Imports"
   ]
  },
  {
   "cell_type": "code",
   "execution_count": 1,
   "id": "d382f102",
   "metadata": {},
   "outputs": [
    {
     "name": "stderr",
     "output_type": "stream",
     "text": [
      "Importing plotly failed. Interactive plots will not work.\n"
     ]
    }
   ],
   "source": [
    "import pandas as pd\n",
    "import numpy as np\n",
    "import seaborn as sns\n",
    "\n",
    "import prophet as Prophet"
   ]
  },
  {
   "cell_type": "code",
   "execution_count": 2,
   "id": "70750efa",
   "metadata": {},
   "outputs": [],
   "source": [
    "# Prophet import gives: \"Importing plotly failed. Interactive plots will not work.\"\n",
    "# Imported everything for Jupyter Notebook and plotly to cooperate but it still isn't"
   ]
  },
  {
   "cell_type": "markdown",
   "id": "cf986f86",
   "metadata": {},
   "source": [
    "## Grabbing Data from Data/Out"
   ]
  },
  {
   "cell_type": "code",
   "execution_count": 2,
   "id": "83c4db39",
   "metadata": {},
   "outputs": [],
   "source": [
    "# this path is based on my workflow with virtual environment - path will need to be changed\n",
    "\n",
    "#floor_data = pd.read_csv('Capstone-Brick-Modeling/data/temp/combined_floors.csv')"
   ]
  },
  {
   "cell_type": "code",
   "execution_count": 3,
   "id": "3afb2489",
   "metadata": {},
   "outputs": [],
   "source": [
    "time_val = '1H'"
   ]
  },
  {
   "cell_type": "code",
   "execution_count": 4,
   "id": "e170a6cb",
   "metadata": {},
   "outputs": [],
   "source": [
    "#col_list = ['time', 'Common Setpoint', 'Actual Sup Flow SP', 'Zone Temperature', 'Actual Supply Flow', 'Outside Air Temp', 'Humidity', 'energy']\n",
    "\n",
    "floor_2 = pd.read_csv('Capstone-Brick-Modeling/data/raw/merged_all_2F.csv', index_col = 'Unnamed: 0')\n",
    "floor_3 = pd.read_csv('Capstone-Brick-Modeling/data/raw/merged_all_3F.csv', index_col = 'Unnamed: 0')\n",
    "floor_4 = pd.read_csv('Capstone-Brick-Modeling/data/raw/merged_all_4F.csv', index_col = 'Unnamed: 0')"
   ]
  },
  {
   "cell_type": "code",
   "execution_count": 5,
   "id": "e96b6b66",
   "metadata": {},
   "outputs": [],
   "source": [
    "# one version of this is Unnamed: 0.2 but I'm not sure why this one says \n",
    "\n",
    "floor_2 = floor_2.drop(['Unnamed: 0.1.1', 'Unnamed: 0.1'], axis = 1)"
   ]
  },
  {
   "cell_type": "code",
   "execution_count": 6,
   "id": "3f6d7c19",
   "metadata": {},
   "outputs": [],
   "source": [
    "floor_2['time_transformed'] = pd.to_datetime(floor_2['time'])\n",
    "floor_2['time_floored'] = floor_2['time_transformed'].transform(lambda x: x.floor(freq=time_val))"
   ]
  },
  {
   "cell_type": "code",
   "execution_count": 7,
   "id": "a7e84779",
   "metadata": {},
   "outputs": [
    {
     "data": {
      "text/html": [
       "<div>\n",
       "<style scoped>\n",
       "    .dataframe tbody tr th:only-of-type {\n",
       "        vertical-align: middle;\n",
       "    }\n",
       "\n",
       "    .dataframe tbody tr th {\n",
       "        vertical-align: top;\n",
       "    }\n",
       "\n",
       "    .dataframe thead th {\n",
       "        text-align: right;\n",
       "    }\n",
       "</style>\n",
       "<table border=\"1\" class=\"dataframe\">\n",
       "  <thead>\n",
       "    <tr style=\"text-align: right;\">\n",
       "      <th></th>\n",
       "      <th>time</th>\n",
       "      <th>Common Setpoint</th>\n",
       "      <th>Actual Sup Flow SP</th>\n",
       "      <th>Zone Temperature</th>\n",
       "      <th>Actual Supply Flow</th>\n",
       "      <th>energy</th>\n",
       "      <th>Outside Air Temp</th>\n",
       "      <th>Humidity</th>\n",
       "      <th>Zone Temperature Next</th>\n",
       "      <th>Actual Supply Flow Next</th>\n",
       "      <th>Outside Air Temp Next</th>\n",
       "      <th>Humidity Next</th>\n",
       "      <th>energy Next</th>\n",
       "      <th>time_transformed</th>\n",
       "      <th>time_floored</th>\n",
       "    </tr>\n",
       "  </thead>\n",
       "  <tbody>\n",
       "    <tr>\n",
       "      <th>0</th>\n",
       "      <td>2018-01-03T20:57:39+00:00</td>\n",
       "      <td>72.5</td>\n",
       "      <td>330.0</td>\n",
       "      <td>75.2</td>\n",
       "      <td>318.73</td>\n",
       "      <td>10.109642</td>\n",
       "      <td>68.44</td>\n",
       "      <td>56.0</td>\n",
       "      <td>75.2</td>\n",
       "      <td>317.06</td>\n",
       "      <td>68.50</td>\n",
       "      <td>56.0</td>\n",
       "      <td>10.113301</td>\n",
       "      <td>2018-01-03 20:57:39+00:00</td>\n",
       "      <td>2018-01-03 20:00:00+00:00</td>\n",
       "    </tr>\n",
       "    <tr>\n",
       "      <th>1</th>\n",
       "      <td>2018-01-03T21:04:13+00:00</td>\n",
       "      <td>72.5</td>\n",
       "      <td>330.0</td>\n",
       "      <td>75.2</td>\n",
       "      <td>317.06</td>\n",
       "      <td>10.113301</td>\n",
       "      <td>68.50</td>\n",
       "      <td>56.0</td>\n",
       "      <td>75.7</td>\n",
       "      <td>314.34</td>\n",
       "      <td>68.25</td>\n",
       "      <td>56.0</td>\n",
       "      <td>10.099466</td>\n",
       "      <td>2018-01-03 21:04:13+00:00</td>\n",
       "      <td>2018-01-03 21:00:00+00:00</td>\n",
       "    </tr>\n",
       "    <tr>\n",
       "      <th>2</th>\n",
       "      <td>2018-01-03T21:10:44+00:00</td>\n",
       "      <td>72.5</td>\n",
       "      <td>330.0</td>\n",
       "      <td>75.7</td>\n",
       "      <td>314.34</td>\n",
       "      <td>10.099466</td>\n",
       "      <td>68.25</td>\n",
       "      <td>56.0</td>\n",
       "      <td>75.7</td>\n",
       "      <td>313.91</td>\n",
       "      <td>68.31</td>\n",
       "      <td>56.0</td>\n",
       "      <td>10.241028</td>\n",
       "      <td>2018-01-03 21:10:44+00:00</td>\n",
       "      <td>2018-01-03 21:00:00+00:00</td>\n",
       "    </tr>\n",
       "    <tr>\n",
       "      <th>3</th>\n",
       "      <td>2018-01-03T21:17:16+00:00</td>\n",
       "      <td>72.5</td>\n",
       "      <td>330.0</td>\n",
       "      <td>75.7</td>\n",
       "      <td>313.91</td>\n",
       "      <td>10.241028</td>\n",
       "      <td>68.31</td>\n",
       "      <td>56.0</td>\n",
       "      <td>75.7</td>\n",
       "      <td>318.31</td>\n",
       "      <td>68.44</td>\n",
       "      <td>57.0</td>\n",
       "      <td>10.187620</td>\n",
       "      <td>2018-01-03 21:17:16+00:00</td>\n",
       "      <td>2018-01-03 21:00:00+00:00</td>\n",
       "    </tr>\n",
       "    <tr>\n",
       "      <th>4</th>\n",
       "      <td>2018-01-03T21:23:44+00:00</td>\n",
       "      <td>72.5</td>\n",
       "      <td>330.0</td>\n",
       "      <td>75.7</td>\n",
       "      <td>318.31</td>\n",
       "      <td>10.187620</td>\n",
       "      <td>68.44</td>\n",
       "      <td>57.0</td>\n",
       "      <td>75.7</td>\n",
       "      <td>316.65</td>\n",
       "      <td>68.81</td>\n",
       "      <td>57.0</td>\n",
       "      <td>10.194055</td>\n",
       "      <td>2018-01-03 21:23:44+00:00</td>\n",
       "      <td>2018-01-03 21:00:00+00:00</td>\n",
       "    </tr>\n",
       "  </tbody>\n",
       "</table>\n",
       "</div>"
      ],
      "text/plain": [
       "                        time  Common Setpoint  Actual Sup Flow SP  \\\n",
       "0  2018-01-03T20:57:39+00:00             72.5               330.0   \n",
       "1  2018-01-03T21:04:13+00:00             72.5               330.0   \n",
       "2  2018-01-03T21:10:44+00:00             72.5               330.0   \n",
       "3  2018-01-03T21:17:16+00:00             72.5               330.0   \n",
       "4  2018-01-03T21:23:44+00:00             72.5               330.0   \n",
       "\n",
       "   Zone Temperature  Actual Supply Flow     energy  Outside Air Temp  \\\n",
       "0              75.2              318.73  10.109642             68.44   \n",
       "1              75.2              317.06  10.113301             68.50   \n",
       "2              75.7              314.34  10.099466             68.25   \n",
       "3              75.7              313.91  10.241028             68.31   \n",
       "4              75.7              318.31  10.187620             68.44   \n",
       "\n",
       "   Humidity  Zone Temperature Next  Actual Supply Flow Next  \\\n",
       "0      56.0                   75.2                   317.06   \n",
       "1      56.0                   75.7                   314.34   \n",
       "2      56.0                   75.7                   313.91   \n",
       "3      56.0                   75.7                   318.31   \n",
       "4      57.0                   75.7                   316.65   \n",
       "\n",
       "   Outside Air Temp Next  Humidity Next  energy Next  \\\n",
       "0                  68.50           56.0    10.113301   \n",
       "1                  68.25           56.0    10.099466   \n",
       "2                  68.31           56.0    10.241028   \n",
       "3                  68.44           57.0    10.187620   \n",
       "4                  68.81           57.0    10.194055   \n",
       "\n",
       "           time_transformed              time_floored  \n",
       "0 2018-01-03 20:57:39+00:00 2018-01-03 20:00:00+00:00  \n",
       "1 2018-01-03 21:04:13+00:00 2018-01-03 21:00:00+00:00  \n",
       "2 2018-01-03 21:10:44+00:00 2018-01-03 21:00:00+00:00  \n",
       "3 2018-01-03 21:17:16+00:00 2018-01-03 21:00:00+00:00  \n",
       "4 2018-01-03 21:23:44+00:00 2018-01-03 21:00:00+00:00  "
      ]
     },
     "execution_count": 7,
     "metadata": {},
     "output_type": "execute_result"
    }
   ],
   "source": [
    "floor_2.head(5)"
   ]
  },
  {
   "cell_type": "code",
   "execution_count": 8,
   "id": "8a1232ce",
   "metadata": {},
   "outputs": [],
   "source": [
    "floor_3 = floor_3.drop(['Unnamed: 0.1'], axis = 1)"
   ]
  },
  {
   "cell_type": "code",
   "execution_count": 9,
   "id": "cad54d59",
   "metadata": {},
   "outputs": [],
   "source": [
    "floor_3['time_transformed'] = pd.to_datetime(floor_3['time'])\n",
    "floor_3['time_floored'] = floor_3['time_transformed'].transform(lambda x: x.floor(freq=time_val))"
   ]
  },
  {
   "cell_type": "code",
   "execution_count": 10,
   "id": "d6b0c399",
   "metadata": {},
   "outputs": [
    {
     "data": {
      "text/html": [
       "<div>\n",
       "<style scoped>\n",
       "    .dataframe tbody tr th:only-of-type {\n",
       "        vertical-align: middle;\n",
       "    }\n",
       "\n",
       "    .dataframe tbody tr th {\n",
       "        vertical-align: top;\n",
       "    }\n",
       "\n",
       "    .dataframe thead th {\n",
       "        text-align: right;\n",
       "    }\n",
       "</style>\n",
       "<table border=\"1\" class=\"dataframe\">\n",
       "  <thead>\n",
       "    <tr style=\"text-align: right;\">\n",
       "      <th></th>\n",
       "      <th>time</th>\n",
       "      <th>Common Setpoint</th>\n",
       "      <th>Actual Sup Flow SP</th>\n",
       "      <th>Zone Temperature</th>\n",
       "      <th>Actual Supply Flow</th>\n",
       "      <th>energy</th>\n",
       "      <th>Outside Air Temp</th>\n",
       "      <th>Humidity</th>\n",
       "      <th>Zone Temperature Next</th>\n",
       "      <th>Actual Supply Flow Next</th>\n",
       "      <th>Outside Air Temp Next</th>\n",
       "      <th>Humidity Next</th>\n",
       "      <th>energy Next</th>\n",
       "      <th>time_transformed</th>\n",
       "      <th>time_floored</th>\n",
       "    </tr>\n",
       "  </thead>\n",
       "  <tbody>\n",
       "    <tr>\n",
       "      <th>0</th>\n",
       "      <td>2018-07-05T00:58:48+00:00</td>\n",
       "      <td>72.0</td>\n",
       "      <td>295.0</td>\n",
       "      <td>73.75</td>\n",
       "      <td>287.56</td>\n",
       "      <td>9.067059</td>\n",
       "      <td>68.88</td>\n",
       "      <td>53.0</td>\n",
       "      <td>73.75</td>\n",
       "      <td>289.97</td>\n",
       "      <td>69.31</td>\n",
       "      <td>53.0</td>\n",
       "      <td>9.104582</td>\n",
       "      <td>2018-07-05 00:58:48+00:00</td>\n",
       "      <td>2018-07-05 00:00:00+00:00</td>\n",
       "    </tr>\n",
       "    <tr>\n",
       "      <th>1</th>\n",
       "      <td>2018-07-05T01:04:13+00:00</td>\n",
       "      <td>72.0</td>\n",
       "      <td>295.0</td>\n",
       "      <td>73.75</td>\n",
       "      <td>289.97</td>\n",
       "      <td>9.104582</td>\n",
       "      <td>69.31</td>\n",
       "      <td>53.0</td>\n",
       "      <td>73.75</td>\n",
       "      <td>291.17</td>\n",
       "      <td>68.88</td>\n",
       "      <td>53.0</td>\n",
       "      <td>9.377247</td>\n",
       "      <td>2018-07-05 01:04:13+00:00</td>\n",
       "      <td>2018-07-05 01:00:00+00:00</td>\n",
       "    </tr>\n",
       "    <tr>\n",
       "      <th>2</th>\n",
       "      <td>2018-07-05T01:09:37+00:00</td>\n",
       "      <td>72.0</td>\n",
       "      <td>295.0</td>\n",
       "      <td>73.75</td>\n",
       "      <td>291.17</td>\n",
       "      <td>9.377247</td>\n",
       "      <td>68.88</td>\n",
       "      <td>53.0</td>\n",
       "      <td>73.75</td>\n",
       "      <td>299.89</td>\n",
       "      <td>68.94</td>\n",
       "      <td>53.0</td>\n",
       "      <td>9.147068</td>\n",
       "      <td>2018-07-05 01:09:37+00:00</td>\n",
       "      <td>2018-07-05 01:00:00+00:00</td>\n",
       "    </tr>\n",
       "    <tr>\n",
       "      <th>3</th>\n",
       "      <td>2018-07-05T01:15:17+00:00</td>\n",
       "      <td>72.0</td>\n",
       "      <td>295.0</td>\n",
       "      <td>73.75</td>\n",
       "      <td>299.89</td>\n",
       "      <td>9.147068</td>\n",
       "      <td>68.94</td>\n",
       "      <td>53.0</td>\n",
       "      <td>73.75</td>\n",
       "      <td>294.97</td>\n",
       "      <td>69.13</td>\n",
       "      <td>53.0</td>\n",
       "      <td>9.198235</td>\n",
       "      <td>2018-07-05 01:15:17+00:00</td>\n",
       "      <td>2018-07-05 01:00:00+00:00</td>\n",
       "    </tr>\n",
       "    <tr>\n",
       "      <th>4</th>\n",
       "      <td>2018-07-05T01:20:55+00:00</td>\n",
       "      <td>72.0</td>\n",
       "      <td>295.0</td>\n",
       "      <td>73.75</td>\n",
       "      <td>294.97</td>\n",
       "      <td>9.198235</td>\n",
       "      <td>69.13</td>\n",
       "      <td>53.0</td>\n",
       "      <td>73.75</td>\n",
       "      <td>296.62</td>\n",
       "      <td>68.94</td>\n",
       "      <td>53.0</td>\n",
       "      <td>9.212810</td>\n",
       "      <td>2018-07-05 01:20:55+00:00</td>\n",
       "      <td>2018-07-05 01:00:00+00:00</td>\n",
       "    </tr>\n",
       "  </tbody>\n",
       "</table>\n",
       "</div>"
      ],
      "text/plain": [
       "                        time  Common Setpoint  Actual Sup Flow SP  \\\n",
       "0  2018-07-05T00:58:48+00:00             72.0               295.0   \n",
       "1  2018-07-05T01:04:13+00:00             72.0               295.0   \n",
       "2  2018-07-05T01:09:37+00:00             72.0               295.0   \n",
       "3  2018-07-05T01:15:17+00:00             72.0               295.0   \n",
       "4  2018-07-05T01:20:55+00:00             72.0               295.0   \n",
       "\n",
       "   Zone Temperature  Actual Supply Flow    energy  Outside Air Temp  Humidity  \\\n",
       "0             73.75              287.56  9.067059             68.88      53.0   \n",
       "1             73.75              289.97  9.104582             69.31      53.0   \n",
       "2             73.75              291.17  9.377247             68.88      53.0   \n",
       "3             73.75              299.89  9.147068             68.94      53.0   \n",
       "4             73.75              294.97  9.198235             69.13      53.0   \n",
       "\n",
       "   Zone Temperature Next  Actual Supply Flow Next  Outside Air Temp Next  \\\n",
       "0                  73.75                   289.97                  69.31   \n",
       "1                  73.75                   291.17                  68.88   \n",
       "2                  73.75                   299.89                  68.94   \n",
       "3                  73.75                   294.97                  69.13   \n",
       "4                  73.75                   296.62                  68.94   \n",
       "\n",
       "   Humidity Next  energy Next          time_transformed  \\\n",
       "0           53.0     9.104582 2018-07-05 00:58:48+00:00   \n",
       "1           53.0     9.377247 2018-07-05 01:04:13+00:00   \n",
       "2           53.0     9.147068 2018-07-05 01:09:37+00:00   \n",
       "3           53.0     9.198235 2018-07-05 01:15:17+00:00   \n",
       "4           53.0     9.212810 2018-07-05 01:20:55+00:00   \n",
       "\n",
       "               time_floored  \n",
       "0 2018-07-05 00:00:00+00:00  \n",
       "1 2018-07-05 01:00:00+00:00  \n",
       "2 2018-07-05 01:00:00+00:00  \n",
       "3 2018-07-05 01:00:00+00:00  \n",
       "4 2018-07-05 01:00:00+00:00  "
      ]
     },
     "execution_count": 10,
     "metadata": {},
     "output_type": "execute_result"
    }
   ],
   "source": [
    "floor_3.head(5)"
   ]
  },
  {
   "cell_type": "code",
   "execution_count": 11,
   "id": "f878eb70",
   "metadata": {},
   "outputs": [],
   "source": [
    "floor_4 = floor_4.drop(['Unnamed: 0.1'], axis = 1)"
   ]
  },
  {
   "cell_type": "code",
   "execution_count": 12,
   "id": "d9a56ef1",
   "metadata": {},
   "outputs": [],
   "source": [
    "floor_4['time_transformed'] = pd.to_datetime(floor_4['time'])\n",
    "floor_4['time_floored'] = floor_4['time_transformed'].transform(lambda x: x.floor(freq=time_val))"
   ]
  },
  {
   "cell_type": "code",
   "execution_count": 13,
   "id": "58828e23",
   "metadata": {},
   "outputs": [
    {
     "data": {
      "text/html": [
       "<div>\n",
       "<style scoped>\n",
       "    .dataframe tbody tr th:only-of-type {\n",
       "        vertical-align: middle;\n",
       "    }\n",
       "\n",
       "    .dataframe tbody tr th {\n",
       "        vertical-align: top;\n",
       "    }\n",
       "\n",
       "    .dataframe thead th {\n",
       "        text-align: right;\n",
       "    }\n",
       "</style>\n",
       "<table border=\"1\" class=\"dataframe\">\n",
       "  <thead>\n",
       "    <tr style=\"text-align: right;\">\n",
       "      <th></th>\n",
       "      <th>time</th>\n",
       "      <th>Common Setpoint</th>\n",
       "      <th>Actual Sup Flow SP</th>\n",
       "      <th>Zone Temperature</th>\n",
       "      <th>Actual Supply Flow</th>\n",
       "      <th>energy</th>\n",
       "      <th>Outside Air Temp</th>\n",
       "      <th>Humidity</th>\n",
       "      <th>Zone Temperature Next</th>\n",
       "      <th>Actual Supply Flow Next</th>\n",
       "      <th>Outside Air Temp Next</th>\n",
       "      <th>Humidity Next</th>\n",
       "      <th>energy Next</th>\n",
       "      <th>time_transformed</th>\n",
       "      <th>time_floored</th>\n",
       "    </tr>\n",
       "  </thead>\n",
       "  <tbody>\n",
       "    <tr>\n",
       "      <th>0</th>\n",
       "      <td>2018-09-23T22:59:39+00:00</td>\n",
       "      <td>72.0</td>\n",
       "      <td>722.73</td>\n",
       "      <td>75.25</td>\n",
       "      <td>733.46</td>\n",
       "      <td>23.554224</td>\n",
       "      <td>71.31</td>\n",
       "      <td>53.0</td>\n",
       "      <td>74.74</td>\n",
       "      <td>692.03</td>\n",
       "      <td>71.19</td>\n",
       "      <td>53.0</td>\n",
       "      <td>22.261861</td>\n",
       "      <td>2018-09-23 22:59:39+00:00</td>\n",
       "      <td>2018-09-23 22:00:00+00:00</td>\n",
       "    </tr>\n",
       "    <tr>\n",
       "      <th>1</th>\n",
       "      <td>2018-09-23T23:06:38+00:00</td>\n",
       "      <td>72.0</td>\n",
       "      <td>661.39</td>\n",
       "      <td>74.74</td>\n",
       "      <td>692.03</td>\n",
       "      <td>22.261861</td>\n",
       "      <td>71.19</td>\n",
       "      <td>53.0</td>\n",
       "      <td>74.74</td>\n",
       "      <td>654.06</td>\n",
       "      <td>71.19</td>\n",
       "      <td>53.0</td>\n",
       "      <td>19.471076</td>\n",
       "      <td>2018-09-23 23:06:38+00:00</td>\n",
       "      <td>2018-09-23 23:00:00+00:00</td>\n",
       "    </tr>\n",
       "    <tr>\n",
       "      <th>2</th>\n",
       "      <td>2018-09-23T23:13:38+00:00</td>\n",
       "      <td>72.0</td>\n",
       "      <td>624.95</td>\n",
       "      <td>74.74</td>\n",
       "      <td>654.06</td>\n",
       "      <td>19.471076</td>\n",
       "      <td>71.19</td>\n",
       "      <td>53.0</td>\n",
       "      <td>74.24</td>\n",
       "      <td>576.94</td>\n",
       "      <td>70.94</td>\n",
       "      <td>53.0</td>\n",
       "      <td>18.861571</td>\n",
       "      <td>2018-09-23 23:13:38+00:00</td>\n",
       "      <td>2018-09-23 23:00:00+00:00</td>\n",
       "    </tr>\n",
       "    <tr>\n",
       "      <th>3</th>\n",
       "      <td>2018-09-23T23:20:38+00:00</td>\n",
       "      <td>72.0</td>\n",
       "      <td>562.05</td>\n",
       "      <td>74.24</td>\n",
       "      <td>576.94</td>\n",
       "      <td>18.861571</td>\n",
       "      <td>70.94</td>\n",
       "      <td>53.0</td>\n",
       "      <td>74.24</td>\n",
       "      <td>558.88</td>\n",
       "      <td>70.94</td>\n",
       "      <td>53.0</td>\n",
       "      <td>17.087055</td>\n",
       "      <td>2018-09-23 23:20:38+00:00</td>\n",
       "      <td>2018-09-23 23:00:00+00:00</td>\n",
       "    </tr>\n",
       "    <tr>\n",
       "      <th>4</th>\n",
       "      <td>2018-09-23T23:27:37+00:00</td>\n",
       "      <td>72.0</td>\n",
       "      <td>532.93</td>\n",
       "      <td>74.24</td>\n",
       "      <td>558.88</td>\n",
       "      <td>17.087055</td>\n",
       "      <td>70.94</td>\n",
       "      <td>53.0</td>\n",
       "      <td>74.24</td>\n",
       "      <td>506.30</td>\n",
       "      <td>70.81</td>\n",
       "      <td>53.0</td>\n",
       "      <td>16.212959</td>\n",
       "      <td>2018-09-23 23:27:37+00:00</td>\n",
       "      <td>2018-09-23 23:00:00+00:00</td>\n",
       "    </tr>\n",
       "  </tbody>\n",
       "</table>\n",
       "</div>"
      ],
      "text/plain": [
       "                        time  Common Setpoint  Actual Sup Flow SP  \\\n",
       "0  2018-09-23T22:59:39+00:00             72.0              722.73   \n",
       "1  2018-09-23T23:06:38+00:00             72.0              661.39   \n",
       "2  2018-09-23T23:13:38+00:00             72.0              624.95   \n",
       "3  2018-09-23T23:20:38+00:00             72.0              562.05   \n",
       "4  2018-09-23T23:27:37+00:00             72.0              532.93   \n",
       "\n",
       "   Zone Temperature  Actual Supply Flow     energy  Outside Air Temp  \\\n",
       "0             75.25              733.46  23.554224             71.31   \n",
       "1             74.74              692.03  22.261861             71.19   \n",
       "2             74.74              654.06  19.471076             71.19   \n",
       "3             74.24              576.94  18.861571             70.94   \n",
       "4             74.24              558.88  17.087055             70.94   \n",
       "\n",
       "   Humidity  Zone Temperature Next  Actual Supply Flow Next  \\\n",
       "0      53.0                  74.74                   692.03   \n",
       "1      53.0                  74.74                   654.06   \n",
       "2      53.0                  74.24                   576.94   \n",
       "3      53.0                  74.24                   558.88   \n",
       "4      53.0                  74.24                   506.30   \n",
       "\n",
       "   Outside Air Temp Next  Humidity Next  energy Next  \\\n",
       "0                  71.19           53.0    22.261861   \n",
       "1                  71.19           53.0    19.471076   \n",
       "2                  70.94           53.0    18.861571   \n",
       "3                  70.94           53.0    17.087055   \n",
       "4                  70.81           53.0    16.212959   \n",
       "\n",
       "           time_transformed              time_floored  \n",
       "0 2018-09-23 22:59:39+00:00 2018-09-23 22:00:00+00:00  \n",
       "1 2018-09-23 23:06:38+00:00 2018-09-23 23:00:00+00:00  \n",
       "2 2018-09-23 23:13:38+00:00 2018-09-23 23:00:00+00:00  \n",
       "3 2018-09-23 23:20:38+00:00 2018-09-23 23:00:00+00:00  \n",
       "4 2018-09-23 23:27:37+00:00 2018-09-23 23:00:00+00:00  "
      ]
     },
     "execution_count": 13,
     "metadata": {},
     "output_type": "execute_result"
    }
   ],
   "source": [
    "floor_4.head(5)"
   ]
  },
  {
   "cell_type": "code",
   "execution_count": 14,
   "id": "1e38433e",
   "metadata": {},
   "outputs": [],
   "source": [
    "#floor_2['floor'] = 2\n",
    "#floor_3['floor'] = 3\n",
    "#floor_4['floor'] = 4"
   ]
  },
  {
   "cell_type": "code",
   "execution_count": 15,
   "id": "1220a1a4",
   "metadata": {},
   "outputs": [],
   "source": [
    "grouped_df = pd.concat([floor_2, floor_3, floor_4])"
   ]
  },
  {
   "cell_type": "code",
   "execution_count": 16,
   "id": "353c768f",
   "metadata": {},
   "outputs": [],
   "source": [
    "grouped_df.loc[:, 'hour'] = grouped_df['time_floored'].transform(lambda x: x.hour)"
   ]
  },
  {
   "cell_type": "code",
   "execution_count": 17,
   "id": "3f1a5b84",
   "metadata": {},
   "outputs": [],
   "source": [
    "split_date = \"2018-08-01\""
   ]
  },
  {
   "cell_type": "code",
   "execution_count": 19,
   "id": "41459e58",
   "metadata": {},
   "outputs": [],
   "source": [
    "# DO TRAIN TEST SPLIT HERE:\n",
    "train_set = grouped_df.loc[grouped_df['time_floored'] < split_date, :]\n",
    "test_set = grouped_df.loc[~(grouped_df['time_floored'] < split_date), :]"
   ]
  },
  {
   "cell_type": "code",
   "execution_count": 20,
   "id": "988720e6",
   "metadata": {},
   "outputs": [
    {
     "data": {
      "text/html": [
       "<div>\n",
       "<style scoped>\n",
       "    .dataframe tbody tr th:only-of-type {\n",
       "        vertical-align: middle;\n",
       "    }\n",
       "\n",
       "    .dataframe tbody tr th {\n",
       "        vertical-align: top;\n",
       "    }\n",
       "\n",
       "    .dataframe thead th {\n",
       "        text-align: right;\n",
       "    }\n",
       "</style>\n",
       "<table border=\"1\" class=\"dataframe\">\n",
       "  <thead>\n",
       "    <tr style=\"text-align: right;\">\n",
       "      <th></th>\n",
       "      <th>time</th>\n",
       "      <th>Common Setpoint</th>\n",
       "      <th>Actual Sup Flow SP</th>\n",
       "      <th>Zone Temperature</th>\n",
       "      <th>Actual Supply Flow</th>\n",
       "      <th>energy</th>\n",
       "      <th>Outside Air Temp</th>\n",
       "      <th>Humidity</th>\n",
       "      <th>Zone Temperature Next</th>\n",
       "      <th>Actual Supply Flow Next</th>\n",
       "      <th>Outside Air Temp Next</th>\n",
       "      <th>Humidity Next</th>\n",
       "      <th>energy Next</th>\n",
       "      <th>time_transformed</th>\n",
       "      <th>time_floored</th>\n",
       "      <th>hour</th>\n",
       "    </tr>\n",
       "  </thead>\n",
       "  <tbody>\n",
       "    <tr>\n",
       "      <th>549</th>\n",
       "      <td>2018-06-25T22:27:03+00:00</td>\n",
       "      <td>73.0</td>\n",
       "      <td>342.12</td>\n",
       "      <td>74.16</td>\n",
       "      <td>376.16</td>\n",
       "      <td>11.431719</td>\n",
       "      <td>68.19</td>\n",
       "      <td>53.0</td>\n",
       "      <td>74.16</td>\n",
       "      <td>351.59</td>\n",
       "      <td>68.00</td>\n",
       "      <td>53.0</td>\n",
       "      <td>10.977169</td>\n",
       "      <td>2018-06-25 22:27:03+00:00</td>\n",
       "      <td>2018-06-25 22:00:00+00:00</td>\n",
       "      <td>22</td>\n",
       "    </tr>\n",
       "    <tr>\n",
       "      <th>550</th>\n",
       "      <td>2018-06-25T22:32:09+00:00</td>\n",
       "      <td>73.0</td>\n",
       "      <td>329.45</td>\n",
       "      <td>74.16</td>\n",
       "      <td>351.59</td>\n",
       "      <td>10.977169</td>\n",
       "      <td>68.00</td>\n",
       "      <td>53.0</td>\n",
       "      <td>74.16</td>\n",
       "      <td>337.61</td>\n",
       "      <td>67.63</td>\n",
       "      <td>53.0</td>\n",
       "      <td>12.475430</td>\n",
       "      <td>2018-06-25 22:32:09+00:00</td>\n",
       "      <td>2018-06-25 22:00:00+00:00</td>\n",
       "      <td>22</td>\n",
       "    </tr>\n",
       "    <tr>\n",
       "      <th>551</th>\n",
       "      <td>2018-06-25T22:37:17+00:00</td>\n",
       "      <td>73.0</td>\n",
       "      <td>362.76</td>\n",
       "      <td>74.16</td>\n",
       "      <td>337.61</td>\n",
       "      <td>12.475430</td>\n",
       "      <td>67.63</td>\n",
       "      <td>53.0</td>\n",
       "      <td>74.16</td>\n",
       "      <td>383.69</td>\n",
       "      <td>67.56</td>\n",
       "      <td>53.0</td>\n",
       "      <td>12.558016</td>\n",
       "      <td>2018-06-25 22:37:17+00:00</td>\n",
       "      <td>2018-06-25 22:00:00+00:00</td>\n",
       "      <td>22</td>\n",
       "    </tr>\n",
       "    <tr>\n",
       "      <th>552</th>\n",
       "      <td>2018-06-25T22:42:31+00:00</td>\n",
       "      <td>73.0</td>\n",
       "      <td>393.99</td>\n",
       "      <td>74.16</td>\n",
       "      <td>383.69</td>\n",
       "      <td>12.558016</td>\n",
       "      <td>67.56</td>\n",
       "      <td>53.0</td>\n",
       "      <td>74.16</td>\n",
       "      <td>386.23</td>\n",
       "      <td>67.19</td>\n",
       "      <td>53.0</td>\n",
       "      <td>12.651983</td>\n",
       "      <td>2018-06-25 22:42:31+00:00</td>\n",
       "      <td>2018-06-25 22:00:00+00:00</td>\n",
       "      <td>22</td>\n",
       "    </tr>\n",
       "    <tr>\n",
       "      <th>553</th>\n",
       "      <td>2018-06-25T22:47:43+00:00</td>\n",
       "      <td>73.0</td>\n",
       "      <td>390.03</td>\n",
       "      <td>74.16</td>\n",
       "      <td>386.23</td>\n",
       "      <td>12.651983</td>\n",
       "      <td>67.19</td>\n",
       "      <td>53.0</td>\n",
       "      <td>74.16</td>\n",
       "      <td>389.12</td>\n",
       "      <td>68.19</td>\n",
       "      <td>53.0</td>\n",
       "      <td>12.475430</td>\n",
       "      <td>2018-06-25 22:47:43+00:00</td>\n",
       "      <td>2018-06-25 22:00:00+00:00</td>\n",
       "      <td>22</td>\n",
       "    </tr>\n",
       "  </tbody>\n",
       "</table>\n",
       "</div>"
      ],
      "text/plain": [
       "                          time  Common Setpoint  Actual Sup Flow SP  \\\n",
       "549  2018-06-25T22:27:03+00:00             73.0              342.12   \n",
       "550  2018-06-25T22:32:09+00:00             73.0              329.45   \n",
       "551  2018-06-25T22:37:17+00:00             73.0              362.76   \n",
       "552  2018-06-25T22:42:31+00:00             73.0              393.99   \n",
       "553  2018-06-25T22:47:43+00:00             73.0              390.03   \n",
       "\n",
       "     Zone Temperature  Actual Supply Flow     energy  Outside Air Temp  \\\n",
       "549             74.16              376.16  11.431719             68.19   \n",
       "550             74.16              351.59  10.977169             68.00   \n",
       "551             74.16              337.61  12.475430             67.63   \n",
       "552             74.16              383.69  12.558016             67.56   \n",
       "553             74.16              386.23  12.651983             67.19   \n",
       "\n",
       "     Humidity  Zone Temperature Next  Actual Supply Flow Next  \\\n",
       "549      53.0                  74.16                   351.59   \n",
       "550      53.0                  74.16                   337.61   \n",
       "551      53.0                  74.16                   383.69   \n",
       "552      53.0                  74.16                   386.23   \n",
       "553      53.0                  74.16                   389.12   \n",
       "\n",
       "     Outside Air Temp Next  Humidity Next  energy Next  \\\n",
       "549                  68.00           53.0    10.977169   \n",
       "550                  67.63           53.0    12.475430   \n",
       "551                  67.56           53.0    12.558016   \n",
       "552                  67.19           53.0    12.651983   \n",
       "553                  68.19           53.0    12.475430   \n",
       "\n",
       "             time_transformed              time_floored  hour  \n",
       "549 2018-06-25 22:27:03+00:00 2018-06-25 22:00:00+00:00    22  \n",
       "550 2018-06-25 22:32:09+00:00 2018-06-25 22:00:00+00:00    22  \n",
       "551 2018-06-25 22:37:17+00:00 2018-06-25 22:00:00+00:00    22  \n",
       "552 2018-06-25 22:42:31+00:00 2018-06-25 22:00:00+00:00    22  \n",
       "553 2018-06-25 22:47:43+00:00 2018-06-25 22:00:00+00:00    22  "
      ]
     },
     "execution_count": 20,
     "metadata": {},
     "output_type": "execute_result"
    }
   ],
   "source": [
    "train_set.tail(5)"
   ]
  },
  {
   "cell_type": "code",
   "execution_count": 19,
   "id": "1376936f",
   "metadata": {},
   "outputs": [],
   "source": [
    "# gap in July and August 2018 that this splits\n",
    "# based on about 70% data split based on original data points"
   ]
  },
  {
   "cell_type": "code",
   "execution_count": 21,
   "id": "f7bd6821",
   "metadata": {},
   "outputs": [
    {
     "data": {
      "text/html": [
       "<div>\n",
       "<style scoped>\n",
       "    .dataframe tbody tr th:only-of-type {\n",
       "        vertical-align: middle;\n",
       "    }\n",
       "\n",
       "    .dataframe tbody tr th {\n",
       "        vertical-align: top;\n",
       "    }\n",
       "\n",
       "    .dataframe thead th {\n",
       "        text-align: right;\n",
       "    }\n",
       "</style>\n",
       "<table border=\"1\" class=\"dataframe\">\n",
       "  <thead>\n",
       "    <tr style=\"text-align: right;\">\n",
       "      <th></th>\n",
       "      <th>time</th>\n",
       "      <th>Common Setpoint</th>\n",
       "      <th>Actual Sup Flow SP</th>\n",
       "      <th>Zone Temperature</th>\n",
       "      <th>Actual Supply Flow</th>\n",
       "      <th>energy</th>\n",
       "      <th>Outside Air Temp</th>\n",
       "      <th>Humidity</th>\n",
       "      <th>Zone Temperature Next</th>\n",
       "      <th>Actual Supply Flow Next</th>\n",
       "      <th>Outside Air Temp Next</th>\n",
       "      <th>Humidity Next</th>\n",
       "      <th>energy Next</th>\n",
       "      <th>time_transformed</th>\n",
       "      <th>time_floored</th>\n",
       "      <th>hour</th>\n",
       "    </tr>\n",
       "  </thead>\n",
       "  <tbody>\n",
       "    <tr>\n",
       "      <th>0</th>\n",
       "      <td>2018-09-03T01:02:18+00:00</td>\n",
       "      <td>72.0</td>\n",
       "      <td>295.49</td>\n",
       "      <td>71.26</td>\n",
       "      <td>292.91</td>\n",
       "      <td>9.038064</td>\n",
       "      <td>71.25</td>\n",
       "      <td>53.0</td>\n",
       "      <td>71.26</td>\n",
       "      <td>282.13</td>\n",
       "      <td>71.25</td>\n",
       "      <td>53.0</td>\n",
       "      <td>9.020124</td>\n",
       "      <td>2018-09-03 01:02:18+00:00</td>\n",
       "      <td>2018-09-03 01:00:00+00:00</td>\n",
       "      <td>1</td>\n",
       "    </tr>\n",
       "    <tr>\n",
       "      <th>1</th>\n",
       "      <td>2018-09-03T01:09:23+00:00</td>\n",
       "      <td>72.0</td>\n",
       "      <td>295.49</td>\n",
       "      <td>71.26</td>\n",
       "      <td>282.13</td>\n",
       "      <td>9.020124</td>\n",
       "      <td>71.25</td>\n",
       "      <td>53.0</td>\n",
       "      <td>71.26</td>\n",
       "      <td>281.57</td>\n",
       "      <td>71.19</td>\n",
       "      <td>53.0</td>\n",
       "      <td>8.966305</td>\n",
       "      <td>2018-09-03 01:09:23+00:00</td>\n",
       "      <td>2018-09-03 01:00:00+00:00</td>\n",
       "      <td>1</td>\n",
       "    </tr>\n",
       "    <tr>\n",
       "      <th>2</th>\n",
       "      <td>2018-09-03T01:16:28+00:00</td>\n",
       "      <td>72.0</td>\n",
       "      <td>295.49</td>\n",
       "      <td>71.26</td>\n",
       "      <td>281.57</td>\n",
       "      <td>8.966305</td>\n",
       "      <td>71.19</td>\n",
       "      <td>53.0</td>\n",
       "      <td>71.26</td>\n",
       "      <td>279.89</td>\n",
       "      <td>71.00</td>\n",
       "      <td>53.0</td>\n",
       "      <td>9.121355</td>\n",
       "      <td>2018-09-03 01:16:28+00:00</td>\n",
       "      <td>2018-09-03 01:00:00+00:00</td>\n",
       "      <td>1</td>\n",
       "    </tr>\n",
       "    <tr>\n",
       "      <th>3</th>\n",
       "      <td>2018-09-03T01:23:32+00:00</td>\n",
       "      <td>72.0</td>\n",
       "      <td>295.49</td>\n",
       "      <td>71.26</td>\n",
       "      <td>279.89</td>\n",
       "      <td>9.121355</td>\n",
       "      <td>71.00</td>\n",
       "      <td>53.0</td>\n",
       "      <td>71.26</td>\n",
       "      <td>284.73</td>\n",
       "      <td>70.94</td>\n",
       "      <td>53.0</td>\n",
       "      <td>8.978479</td>\n",
       "      <td>2018-09-03 01:23:32+00:00</td>\n",
       "      <td>2018-09-03 01:00:00+00:00</td>\n",
       "      <td>1</td>\n",
       "    </tr>\n",
       "    <tr>\n",
       "      <th>4</th>\n",
       "      <td>2018-09-03T01:30:36+00:00</td>\n",
       "      <td>72.0</td>\n",
       "      <td>295.49</td>\n",
       "      <td>71.26</td>\n",
       "      <td>284.73</td>\n",
       "      <td>8.978479</td>\n",
       "      <td>70.94</td>\n",
       "      <td>53.0</td>\n",
       "      <td>71.26</td>\n",
       "      <td>280.27</td>\n",
       "      <td>70.81</td>\n",
       "      <td>53.0</td>\n",
       "      <td>9.085796</td>\n",
       "      <td>2018-09-03 01:30:36+00:00</td>\n",
       "      <td>2018-09-03 01:00:00+00:00</td>\n",
       "      <td>1</td>\n",
       "    </tr>\n",
       "  </tbody>\n",
       "</table>\n",
       "</div>"
      ],
      "text/plain": [
       "                        time  Common Setpoint  Actual Sup Flow SP  \\\n",
       "0  2018-09-03T01:02:18+00:00             72.0              295.49   \n",
       "1  2018-09-03T01:09:23+00:00             72.0              295.49   \n",
       "2  2018-09-03T01:16:28+00:00             72.0              295.49   \n",
       "3  2018-09-03T01:23:32+00:00             72.0              295.49   \n",
       "4  2018-09-03T01:30:36+00:00             72.0              295.49   \n",
       "\n",
       "   Zone Temperature  Actual Supply Flow    energy  Outside Air Temp  Humidity  \\\n",
       "0             71.26              292.91  9.038064             71.25      53.0   \n",
       "1             71.26              282.13  9.020124             71.25      53.0   \n",
       "2             71.26              281.57  8.966305             71.19      53.0   \n",
       "3             71.26              279.89  9.121355             71.00      53.0   \n",
       "4             71.26              284.73  8.978479             70.94      53.0   \n",
       "\n",
       "   Zone Temperature Next  Actual Supply Flow Next  Outside Air Temp Next  \\\n",
       "0                  71.26                   282.13                  71.25   \n",
       "1                  71.26                   281.57                  71.19   \n",
       "2                  71.26                   279.89                  71.00   \n",
       "3                  71.26                   284.73                  70.94   \n",
       "4                  71.26                   280.27                  70.81   \n",
       "\n",
       "   Humidity Next  energy Next          time_transformed  \\\n",
       "0           53.0     9.020124 2018-09-03 01:02:18+00:00   \n",
       "1           53.0     8.966305 2018-09-03 01:09:23+00:00   \n",
       "2           53.0     9.121355 2018-09-03 01:16:28+00:00   \n",
       "3           53.0     8.978479 2018-09-03 01:23:32+00:00   \n",
       "4           53.0     9.085796 2018-09-03 01:30:36+00:00   \n",
       "\n",
       "               time_floored  hour  \n",
       "0 2018-09-03 01:00:00+00:00     1  \n",
       "1 2018-09-03 01:00:00+00:00     1  \n",
       "2 2018-09-03 01:00:00+00:00     1  \n",
       "3 2018-09-03 01:00:00+00:00     1  \n",
       "4 2018-09-03 01:00:00+00:00     1  "
      ]
     },
     "execution_count": 21,
     "metadata": {},
     "output_type": "execute_result"
    }
   ],
   "source": [
    "test_set.head(5)"
   ]
  },
  {
   "cell_type": "code",
   "execution_count": 24,
   "id": "4d31554b",
   "metadata": {},
   "outputs": [],
   "source": [
    "train_meds = train_set.groupby(['time_floored']).median()\n",
    "test_meds = test_set.groupby(['time_floored']).median()"
   ]
  },
  {
   "cell_type": "code",
   "execution_count": 25,
   "id": "9c0bc7e2",
   "metadata": {},
   "outputs": [],
   "source": [
    "min_ts = train_meds.index[0]\n",
    "max_ts = train_meds.index[len(train_meds) - 1]"
   ]
  },
  {
   "cell_type": "code",
   "execution_count": 26,
   "id": "e755793a",
   "metadata": {},
   "outputs": [
    {
     "data": {
      "text/plain": [
       "Timestamp('2018-07-15 21:00:00+0000', tz='UTC')"
      ]
     },
     "execution_count": 26,
     "metadata": {},
     "output_type": "execute_result"
    }
   ],
   "source": [
    "max_ts"
   ]
  },
  {
   "cell_type": "code",
   "execution_count": 27,
   "id": "2e5c5a1a",
   "metadata": {},
   "outputs": [],
   "source": [
    "missingtimes_df = pd.DataFrame(index = pd.date_range(min_ts, max_ts, freq=time_val))"
   ]
  },
  {
   "cell_type": "code",
   "execution_count": 28,
   "id": "73703fa7",
   "metadata": {},
   "outputs": [],
   "source": [
    "time_gaps = missingtimes_df.merge(train_meds, left_index = True, right_index = True, how = 'outer')\n",
    "time_gaps['hour'] = time_gaps.index.hour"
   ]
  },
  {
   "cell_type": "code",
   "execution_count": 30,
   "id": "0f18eed8",
   "metadata": {},
   "outputs": [],
   "source": [
    "hour_meds = train_set.groupby(['hour']).median()"
   ]
  },
  {
   "cell_type": "code",
   "execution_count": 29,
   "id": "c92d9e9d",
   "metadata": {},
   "outputs": [
    {
     "data": {
      "text/html": [
       "<div>\n",
       "<style scoped>\n",
       "    .dataframe tbody tr th:only-of-type {\n",
       "        vertical-align: middle;\n",
       "    }\n",
       "\n",
       "    .dataframe tbody tr th {\n",
       "        vertical-align: top;\n",
       "    }\n",
       "\n",
       "    .dataframe thead th {\n",
       "        text-align: right;\n",
       "    }\n",
       "</style>\n",
       "<table border=\"1\" class=\"dataframe\">\n",
       "  <thead>\n",
       "    <tr style=\"text-align: right;\">\n",
       "      <th></th>\n",
       "      <th>Common Setpoint</th>\n",
       "      <th>Actual Sup Flow SP</th>\n",
       "      <th>Zone Temperature</th>\n",
       "      <th>Actual Supply Flow</th>\n",
       "      <th>energy</th>\n",
       "      <th>Outside Air Temp</th>\n",
       "      <th>Humidity</th>\n",
       "      <th>Zone Temperature Next</th>\n",
       "      <th>Actual Supply Flow Next</th>\n",
       "      <th>Outside Air Temp Next</th>\n",
       "      <th>Humidity Next</th>\n",
       "      <th>energy Next</th>\n",
       "    </tr>\n",
       "    <tr>\n",
       "      <th>hour</th>\n",
       "      <th></th>\n",
       "      <th></th>\n",
       "      <th></th>\n",
       "      <th></th>\n",
       "      <th></th>\n",
       "      <th></th>\n",
       "      <th></th>\n",
       "      <th></th>\n",
       "      <th></th>\n",
       "      <th></th>\n",
       "      <th></th>\n",
       "      <th></th>\n",
       "    </tr>\n",
       "  </thead>\n",
       "  <tbody>\n",
       "    <tr>\n",
       "      <th>0</th>\n",
       "      <td>72.0</td>\n",
       "      <td>318.99</td>\n",
       "      <td>73.12</td>\n",
       "      <td>318.73</td>\n",
       "      <td>10.150938</td>\n",
       "      <td>67.50</td>\n",
       "      <td>54.0</td>\n",
       "      <td>73.12</td>\n",
       "      <td>318.170</td>\n",
       "      <td>67.44</td>\n",
       "      <td>54.0</td>\n",
       "      <td>10.110111</td>\n",
       "    </tr>\n",
       "    <tr>\n",
       "      <th>1</th>\n",
       "      <td>72.0</td>\n",
       "      <td>310.00</td>\n",
       "      <td>73.10</td>\n",
       "      <td>314.34</td>\n",
       "      <td>9.793106</td>\n",
       "      <td>66.31</td>\n",
       "      <td>54.0</td>\n",
       "      <td>73.10</td>\n",
       "      <td>312.260</td>\n",
       "      <td>66.19</td>\n",
       "      <td>54.0</td>\n",
       "      <td>9.732185</td>\n",
       "    </tr>\n",
       "    <tr>\n",
       "      <th>2</th>\n",
       "      <td>72.0</td>\n",
       "      <td>310.00</td>\n",
       "      <td>73.28</td>\n",
       "      <td>301.38</td>\n",
       "      <td>9.241931</td>\n",
       "      <td>65.44</td>\n",
       "      <td>54.0</td>\n",
       "      <td>73.29</td>\n",
       "      <td>300.335</td>\n",
       "      <td>65.38</td>\n",
       "      <td>54.0</td>\n",
       "      <td>9.195996</td>\n",
       "    </tr>\n",
       "    <tr>\n",
       "      <th>3</th>\n",
       "      <td>72.0</td>\n",
       "      <td>295.00</td>\n",
       "      <td>73.41</td>\n",
       "      <td>290.69</td>\n",
       "      <td>8.923985</td>\n",
       "      <td>65.06</td>\n",
       "      <td>54.0</td>\n",
       "      <td>73.42</td>\n",
       "      <td>289.845</td>\n",
       "      <td>65.06</td>\n",
       "      <td>54.0</td>\n",
       "      <td>8.877808</td>\n",
       "    </tr>\n",
       "    <tr>\n",
       "      <th>4</th>\n",
       "      <td>72.0</td>\n",
       "      <td>295.00</td>\n",
       "      <td>73.54</td>\n",
       "      <td>282.69</td>\n",
       "      <td>8.253992</td>\n",
       "      <td>65.06</td>\n",
       "      <td>54.0</td>\n",
       "      <td>73.57</td>\n",
       "      <td>281.570</td>\n",
       "      <td>65.06</td>\n",
       "      <td>54.0</td>\n",
       "      <td>8.115801</td>\n",
       "    </tr>\n",
       "  </tbody>\n",
       "</table>\n",
       "</div>"
      ],
      "text/plain": [
       "      Common Setpoint  Actual Sup Flow SP  Zone Temperature  \\\n",
       "hour                                                          \n",
       "0                72.0              318.99             73.12   \n",
       "1                72.0              310.00             73.10   \n",
       "2                72.0              310.00             73.28   \n",
       "3                72.0              295.00             73.41   \n",
       "4                72.0              295.00             73.54   \n",
       "\n",
       "      Actual Supply Flow     energy  Outside Air Temp  Humidity  \\\n",
       "hour                                                              \n",
       "0                 318.73  10.150938             67.50      54.0   \n",
       "1                 314.34   9.793106             66.31      54.0   \n",
       "2                 301.38   9.241931             65.44      54.0   \n",
       "3                 290.69   8.923985             65.06      54.0   \n",
       "4                 282.69   8.253992             65.06      54.0   \n",
       "\n",
       "      Zone Temperature Next  Actual Supply Flow Next  Outside Air Temp Next  \\\n",
       "hour                                                                          \n",
       "0                     73.12                  318.170                  67.44   \n",
       "1                     73.10                  312.260                  66.19   \n",
       "2                     73.29                  300.335                  65.38   \n",
       "3                     73.42                  289.845                  65.06   \n",
       "4                     73.57                  281.570                  65.06   \n",
       "\n",
       "      Humidity Next  energy Next  \n",
       "hour                              \n",
       "0              54.0    10.110111  \n",
       "1              54.0     9.732185  \n",
       "2              54.0     9.195996  \n",
       "3              54.0     8.877808  \n",
       "4              54.0     8.115801  "
      ]
     },
     "execution_count": 29,
     "metadata": {},
     "output_type": "execute_result"
    }
   ],
   "source": [
    "hour_meds.head(5)"
   ]
  },
  {
   "cell_type": "code",
   "execution_count": 31,
   "id": "3356ff8e",
   "metadata": {},
   "outputs": [],
   "source": [
    "keep_cols = list(time_gaps.columns)[0: len(time_gaps.columns) - 1]\n",
    "keep_cols_y = [x + \"_y\" for x in keep_cols]"
   ]
  },
  {
   "cell_type": "code",
   "execution_count": 32,
   "id": "bb0c6c1a",
   "metadata": {},
   "outputs": [],
   "source": [
    "imputed_meds = time_gaps.loc[(time_gaps['energy'].isna()), :].merge(hour_meds, left_on = 'hour', right_index = True)"
   ]
  },
  {
   "cell_type": "code",
   "execution_count": 33,
   "id": "e37b393a",
   "metadata": {},
   "outputs": [],
   "source": [
    "imputed_meds = imputed_meds.loc[:, keep_cols_y + [\"hour\"]].rename({keep_cols_y[i]: keep_cols[i] for i in range(len(keep_cols))}, axis = 1)"
   ]
  },
  {
   "cell_type": "code",
   "execution_count": 34,
   "id": "bb3fe453",
   "metadata": {},
   "outputs": [],
   "source": [
    "time_gaps.loc[(time_gaps['energy'].isna()), :] = imputed_meds"
   ]
  },
  {
   "cell_type": "code",
   "execution_count": 35,
   "id": "904bb9a3",
   "metadata": {},
   "outputs": [
    {
     "data": {
      "text/plain": [
       "False    8961\n",
       "Name: energy, dtype: int64"
      ]
     },
     "execution_count": 35,
     "metadata": {},
     "output_type": "execute_result"
    }
   ],
   "source": [
    "time_gaps['energy'].isna().value_counts()"
   ]
  },
  {
   "cell_type": "code",
   "execution_count": 36,
   "id": "002629c4",
   "metadata": {},
   "outputs": [
    {
     "data": {
      "text/plain": [
       "<AxesSubplot:xlabel='index', ylabel='energy'>"
      ]
     },
     "execution_count": 36,
     "metadata": {},
     "output_type": "execute_result"
    },
    {
     "data": {
      "image/png": "[encoded data removed]",
      "text/plain": [
       "<Figure size 432x288 with 1 Axes>"
      ]
     },
     "metadata": {
      "needs_background": "light"
     },
     "output_type": "display_data"
    }
   ],
   "source": [
    "sns.lineplot(data=time_gaps.reset_index(), x = 'index', y = 'energy')"
   ]
  },
  {
   "cell_type": "code",
   "execution_count": 45,
   "id": "f66cdbfa",
   "metadata": {},
   "outputs": [],
   "source": [
    "final_train = time_gaps.reset_index().rename({'index': 'time'}, axis = 1).drop(['hour'], axis = 1)"
   ]
  },
  {
   "cell_type": "code",
   "execution_count": 47,
   "id": "5ddf91e8",
   "metadata": {},
   "outputs": [],
   "source": [
    "final_test =test_set.drop(['hour', 'time', 'time_transformed'], axis = 1).rename({'time_floored': 'time'}, axis = 1)"
   ]
  },
  {
   "cell_type": "code",
   "execution_count": 48,
   "id": "95f6ed27",
   "metadata": {},
   "outputs": [],
   "source": [
    "final_train.to_csv('training_set_imputed.csv', index = False)\n",
    "final_test.to_csv('test_set_nonimputed.csv', index = False)"
   ]
  },
  {
   "cell_type": "code",
   "execution_count": null,
   "id": "4dcc8416",
   "metadata": {},
   "outputs": [],
   "source": []
  },
  {
   "cell_type": "code",
   "execution_count": null,
   "id": "29cc6db6",
   "metadata": {},
   "outputs": [],
   "source": []
  },
  {
   "cell_type": "code",
   "execution_count": null,
   "id": "e795e5aa",
   "metadata": {},
   "outputs": [],
   "source": []
  },
  {
   "cell_type": "code",
   "execution_count": null,
   "id": "e1bb15b6",
   "metadata": {},
   "outputs": [],
   "source": []
  },
  {
   "cell_type": "markdown",
   "id": "780bad1d",
   "metadata": {},
   "source": [
    "## Unused Cleaning Work"
   ]
  },
  {
   "cell_type": "code",
   "execution_count": 17,
   "id": "ad07c6e7",
   "metadata": {},
   "outputs": [
    {
     "data": {
      "text/html": [
       "<div>\n",
       "<style scoped>\n",
       "    .dataframe tbody tr th:only-of-type {\n",
       "        vertical-align: middle;\n",
       "    }\n",
       "\n",
       "    .dataframe tbody tr th {\n",
       "        vertical-align: top;\n",
       "    }\n",
       "\n",
       "    .dataframe thead th {\n",
       "        text-align: right;\n",
       "    }\n",
       "</style>\n",
       "<table border=\"1\" class=\"dataframe\">\n",
       "  <thead>\n",
       "    <tr style=\"text-align: right;\">\n",
       "      <th></th>\n",
       "      <th>Unnamed: 0.1</th>\n",
       "      <th>Common Setpoint</th>\n",
       "      <th>Actual Sup Flow SP</th>\n",
       "      <th>Zone Temperature</th>\n",
       "      <th>Actual Supply Flow</th>\n",
       "      <th>energy</th>\n",
       "      <th>Outside Air Temp</th>\n",
       "      <th>Humidity</th>\n",
       "      <th>Zone Temperature Next</th>\n",
       "      <th>Actual Supply Flow Next</th>\n",
       "      <th>Outside Air Temp Next</th>\n",
       "      <th>Humidity Next</th>\n",
       "      <th>energy Next</th>\n",
       "      <th>floor</th>\n",
       "      <th>hour</th>\n",
       "    </tr>\n",
       "    <tr>\n",
       "      <th>time_floored</th>\n",
       "      <th></th>\n",
       "      <th></th>\n",
       "      <th></th>\n",
       "      <th></th>\n",
       "      <th></th>\n",
       "      <th></th>\n",
       "      <th></th>\n",
       "      <th></th>\n",
       "      <th></th>\n",
       "      <th></th>\n",
       "      <th></th>\n",
       "      <th></th>\n",
       "      <th></th>\n",
       "      <th></th>\n",
       "      <th></th>\n",
       "    </tr>\n",
       "  </thead>\n",
       "  <tbody>\n",
       "    <tr>\n",
       "      <th>2017-07-07 13:00:00+00:00</th>\n",
       "      <td>1.5</td>\n",
       "      <td>72.166667</td>\n",
       "      <td>155.877500</td>\n",
       "      <td>75.000000</td>\n",
       "      <td>178.682083</td>\n",
       "      <td>6.927842</td>\n",
       "      <td>68.252500</td>\n",
       "      <td>63.000000</td>\n",
       "      <td>75.042083</td>\n",
       "      <td>208.814167</td>\n",
       "      <td>68.502500</td>\n",
       "      <td>63.000000</td>\n",
       "      <td>8.452033</td>\n",
       "      <td>2.0</td>\n",
       "      <td>13.0</td>\n",
       "    </tr>\n",
       "    <tr>\n",
       "      <th>2017-07-07 14:00:00+00:00</th>\n",
       "      <td>9.0</td>\n",
       "      <td>72.166667</td>\n",
       "      <td>329.305000</td>\n",
       "      <td>74.535152</td>\n",
       "      <td>342.958182</td>\n",
       "      <td>11.694974</td>\n",
       "      <td>70.620000</td>\n",
       "      <td>63.000000</td>\n",
       "      <td>74.470455</td>\n",
       "      <td>348.693030</td>\n",
       "      <td>71.006364</td>\n",
       "      <td>63.000000</td>\n",
       "      <td>11.833875</td>\n",
       "      <td>2.0</td>\n",
       "      <td>14.0</td>\n",
       "    </tr>\n",
       "    <tr>\n",
       "      <th>2017-07-07 15:00:00+00:00</th>\n",
       "      <td>20.0</td>\n",
       "      <td>72.166667</td>\n",
       "      <td>339.032273</td>\n",
       "      <td>74.087273</td>\n",
       "      <td>338.330455</td>\n",
       "      <td>11.122132</td>\n",
       "      <td>75.233636</td>\n",
       "      <td>62.181818</td>\n",
       "      <td>74.055455</td>\n",
       "      <td>340.718182</td>\n",
       "      <td>75.517273</td>\n",
       "      <td>62.090909</td>\n",
       "      <td>10.997212</td>\n",
       "      <td>2.0</td>\n",
       "      <td>15.0</td>\n",
       "    </tr>\n",
       "    <tr>\n",
       "      <th>2017-07-07 16:00:00+00:00</th>\n",
       "      <td>31.0</td>\n",
       "      <td>72.166667</td>\n",
       "      <td>399.698939</td>\n",
       "      <td>74.325152</td>\n",
       "      <td>403.138182</td>\n",
       "      <td>13.540660</td>\n",
       "      <td>76.127273</td>\n",
       "      <td>62.000000</td>\n",
       "      <td>74.317424</td>\n",
       "      <td>400.328030</td>\n",
       "      <td>76.201818</td>\n",
       "      <td>62.000000</td>\n",
       "      <td>13.563173</td>\n",
       "      <td>2.0</td>\n",
       "      <td>16.0</td>\n",
       "    </tr>\n",
       "    <tr>\n",
       "      <th>2017-07-07 17:00:00+00:00</th>\n",
       "      <td>42.0</td>\n",
       "      <td>72.166667</td>\n",
       "      <td>377.388636</td>\n",
       "      <td>74.193788</td>\n",
       "      <td>375.366818</td>\n",
       "      <td>12.887095</td>\n",
       "      <td>76.729091</td>\n",
       "      <td>62.000000</td>\n",
       "      <td>74.233333</td>\n",
       "      <td>379.173030</td>\n",
       "      <td>76.762727</td>\n",
       "      <td>62.000000</td>\n",
       "      <td>12.965098</td>\n",
       "      <td>2.0</td>\n",
       "      <td>17.0</td>\n",
       "    </tr>\n",
       "  </tbody>\n",
       "</table>\n",
       "</div>"
      ],
      "text/plain": [
       "                           Unnamed: 0.1  Common Setpoint  Actual Sup Flow SP  \\\n",
       "time_floored                                                                   \n",
       "2017-07-07 13:00:00+00:00           1.5        72.166667          155.877500   \n",
       "2017-07-07 14:00:00+00:00           9.0        72.166667          329.305000   \n",
       "2017-07-07 15:00:00+00:00          20.0        72.166667          339.032273   \n",
       "2017-07-07 16:00:00+00:00          31.0        72.166667          399.698939   \n",
       "2017-07-07 17:00:00+00:00          42.0        72.166667          377.388636   \n",
       "\n",
       "                           Zone Temperature  Actual Supply Flow     energy  \\\n",
       "time_floored                                                                 \n",
       "2017-07-07 13:00:00+00:00         75.000000          178.682083   6.927842   \n",
       "2017-07-07 14:00:00+00:00         74.535152          342.958182  11.694974   \n",
       "2017-07-07 15:00:00+00:00         74.087273          338.330455  11.122132   \n",
       "2017-07-07 16:00:00+00:00         74.325152          403.138182  13.540660   \n",
       "2017-07-07 17:00:00+00:00         74.193788          375.366818  12.887095   \n",
       "\n",
       "                           Outside Air Temp   Humidity  Zone Temperature Next  \\\n",
       "time_floored                                                                    \n",
       "2017-07-07 13:00:00+00:00         68.252500  63.000000              75.042083   \n",
       "2017-07-07 14:00:00+00:00         70.620000  63.000000              74.470455   \n",
       "2017-07-07 15:00:00+00:00         75.233636  62.181818              74.055455   \n",
       "2017-07-07 16:00:00+00:00         76.127273  62.000000              74.317424   \n",
       "2017-07-07 17:00:00+00:00         76.729091  62.000000              74.233333   \n",
       "\n",
       "                           Actual Supply Flow Next  Outside Air Temp Next  \\\n",
       "time_floored                                                                \n",
       "2017-07-07 13:00:00+00:00               208.814167              68.502500   \n",
       "2017-07-07 14:00:00+00:00               348.693030              71.006364   \n",
       "2017-07-07 15:00:00+00:00               340.718182              75.517273   \n",
       "2017-07-07 16:00:00+00:00               400.328030              76.201818   \n",
       "2017-07-07 17:00:00+00:00               379.173030              76.762727   \n",
       "\n",
       "                           Humidity Next  energy Next  floor  hour  \n",
       "time_floored                                                        \n",
       "2017-07-07 13:00:00+00:00      63.000000     8.452033    2.0  13.0  \n",
       "2017-07-07 14:00:00+00:00      63.000000    11.833875    2.0  14.0  \n",
       "2017-07-07 15:00:00+00:00      62.090909    10.997212    2.0  15.0  \n",
       "2017-07-07 16:00:00+00:00      62.000000    13.563173    2.0  16.0  \n",
       "2017-07-07 17:00:00+00:00      62.000000    12.965098    2.0  17.0  "
      ]
     },
     "execution_count": 17,
     "metadata": {},
     "output_type": "execute_result"
    }
   ],
   "source": [
    "group_means = grouped_df.groupby(['time_floored']).mean()\n",
    "group_means.head(5)"
   ]
  },
  {
   "cell_type": "code",
   "execution_count": 27,
   "id": "3804f216",
   "metadata": {},
   "outputs": [
    {
     "data": {
      "text/plain": [
       "5907.0"
      ]
     },
     "execution_count": 27,
     "metadata": {},
     "output_type": "execute_result"
    }
   ],
   "source": [
    "group_means.shape[0] * 0.7 // 1"
   ]
  },
  {
   "cell_type": "code",
   "execution_count": 28,
   "id": "72f5b0e9",
   "metadata": {},
   "outputs": [
    {
     "data": {
      "text/plain": [
       "5908.0"
      ]
     },
     "execution_count": 28,
     "metadata": {},
     "output_type": "execute_result"
    }
   ],
   "source": [
    "1 + group_means.shape[0] * 0.7 // 1"
   ]
  },
  {
   "cell_type": "code",
   "execution_count": 31,
   "id": "3253e312",
   "metadata": {},
   "outputs": [],
   "source": [
    "train_set = group_means.iloc[0: int(group_means.shape[0] * 0.7 // 1)]\n",
    "test_set = group_means.iloc[int(group_means.shape[0] * 0.7 // 1):]"
   ]
  },
  {
   "cell_type": "code",
   "execution_count": 34,
   "id": "6666f6ce",
   "metadata": {},
   "outputs": [],
   "source": [
    "min_ts = train_set.index[0]\n",
    "max_ts = train_set.index[len(train_set) - 1]"
   ]
  },
  {
   "cell_type": "code",
   "execution_count": null,
   "id": "e8a8eb20",
   "metadata": {},
   "outputs": [],
   "source": []
  },
  {
   "cell_type": "code",
   "execution_count": 35,
   "id": "828f269b",
   "metadata": {},
   "outputs": [],
   "source": [
    "df = pd.DataFrame(index = pd.date_range(min_ts, max_ts, freq=time_val))"
   ]
  },
  {
   "cell_type": "code",
   "execution_count": 36,
   "id": "be8eb269",
   "metadata": {},
   "outputs": [],
   "source": [
    "time_gaps = df.merge(train_set, left_index = True, right_index = True, how = 'outer')"
   ]
  },
  {
   "cell_type": "code",
   "execution_count": 37,
   "id": "984f5157",
   "metadata": {},
   "outputs": [
    {
     "data": {
      "text/plain": [
       "(3950, 14)"
      ]
     },
     "execution_count": 37,
     "metadata": {},
     "output_type": "execute_result"
    }
   ],
   "source": [
    "time_gaps.loc[time_gaps['energy'].isna()].shape"
   ]
  },
  {
   "cell_type": "code",
   "execution_count": 45,
   "id": "59247454",
   "metadata": {},
   "outputs": [
    {
     "data": {
      "text/plain": [
       "Int64Index([13, 14, 15, 16, 17, 18, 19, 20, 21, 22,\n",
       "            ...\n",
       "            20, 21, 22, 23,  0,  1,  2,  3,  4,  5],\n",
       "           dtype='int64', name='time_floored', length=5907)"
      ]
     },
     "execution_count": 45,
     "metadata": {},
     "output_type": "execute_result"
    }
   ],
   "source": [
    "train_set.index.hour"
   ]
  },
  {
   "cell_type": "code",
   "execution_count": 47,
   "id": "4701ef58",
   "metadata": {
    "scrolled": true
   },
   "outputs": [
    {
     "name": "stderr",
     "output_type": "stream",
     "text": [
      "/Library/Frameworks/Python.framework/Versions/3.8/lib/python3.8/site-packages/pandas/core/indexing.py:1676: SettingWithCopyWarning: \n",
      "A value is trying to be set on a copy of a slice from a DataFrame.\n",
      "Try using .loc[row_indexer,col_indexer] = value instead\n",
      "\n",
      "See the caveats in the documentation: https://pandas.pydata.org/pandas-docs/stable/user_guide/indexing.html#returning-a-view-versus-a-copy\n",
      "  self._setitem_single_column(ilocs[0], value, pi)\n"
     ]
    }
   ],
   "source": []
  },
  {
   "cell_type": "code",
   "execution_count": 56,
   "id": "cb75ab4b",
   "metadata": {},
   "outputs": [],
   "source": [
    "mean_per_hour = train_set.groupby('hour').mean()"
   ]
  },
  {
   "cell_type": "code",
   "execution_count": 57,
   "id": "6a325936",
   "metadata": {},
   "outputs": [
    {
     "data": {
      "text/html": [
       "<div>\n",
       "<style scoped>\n",
       "    .dataframe tbody tr th:only-of-type {\n",
       "        vertical-align: middle;\n",
       "    }\n",
       "\n",
       "    .dataframe tbody tr th {\n",
       "        vertical-align: top;\n",
       "    }\n",
       "\n",
       "    .dataframe thead th {\n",
       "        text-align: right;\n",
       "    }\n",
       "</style>\n",
       "<table border=\"1\" class=\"dataframe\">\n",
       "  <thead>\n",
       "    <tr style=\"text-align: right;\">\n",
       "      <th></th>\n",
       "      <th>Unnamed: 0.1</th>\n",
       "      <th>Common Setpoint</th>\n",
       "      <th>Actual Sup Flow SP</th>\n",
       "      <th>Zone Temperature</th>\n",
       "      <th>Actual Supply Flow</th>\n",
       "      <th>energy</th>\n",
       "      <th>Outside Air Temp</th>\n",
       "      <th>Humidity</th>\n",
       "      <th>Zone Temperature Next</th>\n",
       "      <th>Actual Supply Flow Next</th>\n",
       "      <th>Outside Air Temp Next</th>\n",
       "      <th>Humidity Next</th>\n",
       "      <th>energy Next</th>\n",
       "      <th>floor</th>\n",
       "    </tr>\n",
       "    <tr>\n",
       "      <th>hour</th>\n",
       "      <th></th>\n",
       "      <th></th>\n",
       "      <th></th>\n",
       "      <th></th>\n",
       "      <th></th>\n",
       "      <th></th>\n",
       "      <th></th>\n",
       "      <th></th>\n",
       "      <th></th>\n",
       "      <th></th>\n",
       "      <th></th>\n",
       "      <th></th>\n",
       "      <th></th>\n",
       "      <th></th>\n",
       "    </tr>\n",
       "  </thead>\n",
       "  <tbody>\n",
       "    <tr>\n",
       "      <th>0</th>\n",
       "      <td>200.670966</td>\n",
       "      <td>71.980104</td>\n",
       "      <td>394.217588</td>\n",
       "      <td>73.484089</td>\n",
       "      <td>396.535187</td>\n",
       "      <td>12.652422</td>\n",
       "      <td>68.106149</td>\n",
       "      <td>52.394525</td>\n",
       "      <td>73.480181</td>\n",
       "      <td>395.305459</td>\n",
       "      <td>67.977380</td>\n",
       "      <td>52.411346</td>\n",
       "      <td>12.600795</td>\n",
       "      <td>2.431352</td>\n",
       "    </tr>\n",
       "    <tr>\n",
       "      <th>1</th>\n",
       "      <td>181.059938</td>\n",
       "      <td>71.978733</td>\n",
       "      <td>388.548221</td>\n",
       "      <td>73.469723</td>\n",
       "      <td>389.974829</td>\n",
       "      <td>12.159791</td>\n",
       "      <td>67.037128</td>\n",
       "      <td>52.660778</td>\n",
       "      <td>73.477373</td>\n",
       "      <td>387.286047</td>\n",
       "      <td>66.938162</td>\n",
       "      <td>52.684488</td>\n",
       "      <td>12.054795</td>\n",
       "      <td>2.428247</td>\n",
       "    </tr>\n",
       "    <tr>\n",
       "      <th>2</th>\n",
       "      <td>173.527479</td>\n",
       "      <td>71.983637</td>\n",
       "      <td>352.714661</td>\n",
       "      <td>73.608753</td>\n",
       "      <td>356.104404</td>\n",
       "      <td>10.910476</td>\n",
       "      <td>66.183299</td>\n",
       "      <td>52.776213</td>\n",
       "      <td>73.619743</td>\n",
       "      <td>351.093712</td>\n",
       "      <td>66.107610</td>\n",
       "      <td>52.785795</td>\n",
       "      <td>10.741096</td>\n",
       "      <td>2.432148</td>\n",
       "    </tr>\n",
       "    <tr>\n",
       "      <th>3</th>\n",
       "      <td>183.198744</td>\n",
       "      <td>71.984091</td>\n",
       "      <td>304.062631</td>\n",
       "      <td>73.707340</td>\n",
       "      <td>309.021905</td>\n",
       "      <td>9.436552</td>\n",
       "      <td>65.592419</td>\n",
       "      <td>52.883723</td>\n",
       "      <td>73.717237</td>\n",
       "      <td>304.441837</td>\n",
       "      <td>65.542856</td>\n",
       "      <td>52.888372</td>\n",
       "      <td>9.287921</td>\n",
       "      <td>2.432148</td>\n",
       "    </tr>\n",
       "    <tr>\n",
       "      <th>4</th>\n",
       "      <td>192.921045</td>\n",
       "      <td>71.982268</td>\n",
       "      <td>261.267050</td>\n",
       "      <td>73.791504</td>\n",
       "      <td>268.022058</td>\n",
       "      <td>8.085757</td>\n",
       "      <td>65.209207</td>\n",
       "      <td>52.936131</td>\n",
       "      <td>73.803987</td>\n",
       "      <td>263.533038</td>\n",
       "      <td>65.173692</td>\n",
       "      <td>52.942611</td>\n",
       "      <td>7.941843</td>\n",
       "      <td>2.432148</td>\n",
       "    </tr>\n",
       "  </tbody>\n",
       "</table>\n",
       "</div>"
      ],
      "text/plain": [
       "      Unnamed: 0.1  Common Setpoint  Actual Sup Flow SP  Zone Temperature  \\\n",
       "hour                                                                        \n",
       "0       200.670966        71.980104          394.217588         73.484089   \n",
       "1       181.059938        71.978733          388.548221         73.469723   \n",
       "2       173.527479        71.983637          352.714661         73.608753   \n",
       "3       183.198744        71.984091          304.062631         73.707340   \n",
       "4       192.921045        71.982268          261.267050         73.791504   \n",
       "\n",
       "      Actual Supply Flow     energy  Outside Air Temp   Humidity  \\\n",
       "hour                                                               \n",
       "0             396.535187  12.652422         68.106149  52.394525   \n",
       "1             389.974829  12.159791         67.037128  52.660778   \n",
       "2             356.104404  10.910476         66.183299  52.776213   \n",
       "3             309.021905   9.436552         65.592419  52.883723   \n",
       "4             268.022058   8.085757         65.209207  52.936131   \n",
       "\n",
       "      Zone Temperature Next  Actual Supply Flow Next  Outside Air Temp Next  \\\n",
       "hour                                                                          \n",
       "0                 73.480181               395.305459              67.977380   \n",
       "1                 73.477373               387.286047              66.938162   \n",
       "2                 73.619743               351.093712              66.107610   \n",
       "3                 73.717237               304.441837              65.542856   \n",
       "4                 73.803987               263.533038              65.173692   \n",
       "\n",
       "      Humidity Next  energy Next     floor  \n",
       "hour                                        \n",
       "0         52.411346    12.600795  2.431352  \n",
       "1         52.684488    12.054795  2.428247  \n",
       "2         52.785795    10.741096  2.432148  \n",
       "3         52.888372     9.287921  2.432148  \n",
       "4         52.942611     7.941843  2.432148  "
      ]
     },
     "execution_count": 57,
     "metadata": {},
     "output_type": "execute_result"
    }
   ],
   "source": [
    "mean_per_hour.head()"
   ]
  },
  {
   "cell_type": "code",
   "execution_count": null,
   "id": "62476a2d",
   "metadata": {},
   "outputs": [],
   "source": [
    "# use these to fill NA values in the training_set"
   ]
  },
  {
   "cell_type": "code",
   "execution_count": 53,
   "id": "15a4b3f0",
   "metadata": {},
   "outputs": [
    {
     "data": {
      "text/plain": [
       "<AxesSubplot:xlabel='time_floored', ylabel='energy'>"
      ]
     },
     "execution_count": 53,
     "metadata": {},
     "output_type": "execute_result"
    },
    {
     "data": {
      "image/png": "[encoded data removed]",
      "text/plain": [
       "<Figure size 432x288 with 1 Axes>"
      ]
     },
     "metadata": {
      "needs_background": "light"
     },
     "output_type": "display_data"
    }
   ],
   "source": [
    "sns.lineplot(data=train_set.reset_index(), x = 'time_floored', y = 'energy')"
   ]
  },
  {
   "cell_type": "code",
   "execution_count": null,
   "id": "d82715c1",
   "metadata": {},
   "outputs": [],
   "source": [
    "# instead of splitting here, use earlier split dates for actually 30/70% data"
   ]
  },
  {
   "cell_type": "code",
   "execution_count": 54,
   "id": "604ed06c",
   "metadata": {},
   "outputs": [],
   "source": [
    "time_gaps.loc[:, 'hour'] = time_gaps.index.hour"
   ]
  },
  {
   "cell_type": "code",
   "execution_count": 40,
   "id": "fcf0c373",
   "metadata": {},
   "outputs": [
    {
     "data": {
      "text/plain": [
       "(3109, 15)"
      ]
     },
     "execution_count": 40,
     "metadata": {},
     "output_type": "execute_result"
    }
   ],
   "source": [
    "time_gaps.loc[time_gaps['energy'].isna()].shape"
   ]
  },
  {
   "cell_type": "code",
   "execution_count": null,
   "id": "9a17d5bb",
   "metadata": {},
   "outputs": [],
   "source": [
    "time_filled "
   ]
  },
  {
   "cell_type": "code",
   "execution_count": null,
   "id": "5e3482b9",
   "metadata": {},
   "outputs": [],
   "source": []
  },
  {
   "cell_type": "code",
   "execution_count": null,
   "id": "22b3261d",
   "metadata": {},
   "outputs": [],
   "source": []
  },
  {
   "cell_type": "code",
   "execution_count": null,
   "id": "9d776e0c",
   "metadata": {},
   "outputs": [],
   "source": []
  },
  {
   "cell_type": "code",
   "execution_count": null,
   "id": "8ee468c9",
   "metadata": {},
   "outputs": [],
   "source": []
  },
  {
   "cell_type": "code",
   "execution_count": null,
   "id": "d75dbc47",
   "metadata": {},
   "outputs": [],
   "source": []
  },
  {
   "cell_type": "code",
   "execution_count": 16,
   "id": "8ba1edba",
   "metadata": {},
   "outputs": [
    {
     "data": {
      "text/html": [
       "<div>\n",
       "<style scoped>\n",
       "    .dataframe tbody tr th:only-of-type {\n",
       "        vertical-align: middle;\n",
       "    }\n",
       "\n",
       "    .dataframe tbody tr th {\n",
       "        vertical-align: top;\n",
       "    }\n",
       "\n",
       "    .dataframe thead th {\n",
       "        text-align: right;\n",
       "    }\n",
       "</style>\n",
       "<table border=\"1\" class=\"dataframe\">\n",
       "  <thead>\n",
       "    <tr style=\"text-align: right;\">\n",
       "      <th></th>\n",
       "      <th>Unnamed: 0.1</th>\n",
       "      <th>Common Setpoint</th>\n",
       "      <th>Actual Sup Flow SP</th>\n",
       "      <th>Zone Temperature</th>\n",
       "      <th>Actual Supply Flow</th>\n",
       "      <th>energy</th>\n",
       "      <th>Outside Air Temp</th>\n",
       "      <th>Humidity</th>\n",
       "      <th>Zone Temperature Next</th>\n",
       "      <th>Actual Supply Flow Next</th>\n",
       "      <th>Outside Air Temp Next</th>\n",
       "      <th>Humidity Next</th>\n",
       "      <th>energy Next</th>\n",
       "      <th>floor</th>\n",
       "    </tr>\n",
       "    <tr>\n",
       "      <th>time_floored</th>\n",
       "      <th></th>\n",
       "      <th></th>\n",
       "      <th></th>\n",
       "      <th></th>\n",
       "      <th></th>\n",
       "      <th></th>\n",
       "      <th></th>\n",
       "      <th></th>\n",
       "      <th></th>\n",
       "      <th></th>\n",
       "      <th></th>\n",
       "      <th></th>\n",
       "      <th></th>\n",
       "      <th></th>\n",
       "    </tr>\n",
       "  </thead>\n",
       "  <tbody>\n",
       "    <tr>\n",
       "      <th>2017-07-07 13:00:00+00:00</th>\n",
       "      <td>36</td>\n",
       "      <td>1732.0</td>\n",
       "      <td>3741.06</td>\n",
       "      <td>1800.00</td>\n",
       "      <td>4288.37</td>\n",
       "      <td>166.268212</td>\n",
       "      <td>1638.06</td>\n",
       "      <td>1512.0</td>\n",
       "      <td>1801.01</td>\n",
       "      <td>5011.54</td>\n",
       "      <td>1644.06</td>\n",
       "      <td>1512.0</td>\n",
       "      <td>202.848801</td>\n",
       "      <td>48</td>\n",
       "    </tr>\n",
       "    <tr>\n",
       "      <th>2017-07-07 14:00:00+00:00</th>\n",
       "      <td>594</td>\n",
       "      <td>4763.0</td>\n",
       "      <td>21734.13</td>\n",
       "      <td>4919.32</td>\n",
       "      <td>22635.24</td>\n",
       "      <td>771.868307</td>\n",
       "      <td>4660.92</td>\n",
       "      <td>4158.0</td>\n",
       "      <td>4915.05</td>\n",
       "      <td>23013.74</td>\n",
       "      <td>4686.42</td>\n",
       "      <td>4158.0</td>\n",
       "      <td>781.035773</td>\n",
       "      <td>132</td>\n",
       "    </tr>\n",
       "    <tr>\n",
       "      <th>2017-07-07 15:00:00+00:00</th>\n",
       "      <td>1320</td>\n",
       "      <td>4763.0</td>\n",
       "      <td>22376.13</td>\n",
       "      <td>4889.76</td>\n",
       "      <td>22329.81</td>\n",
       "      <td>734.060713</td>\n",
       "      <td>4965.42</td>\n",
       "      <td>4104.0</td>\n",
       "      <td>4887.66</td>\n",
       "      <td>22487.40</td>\n",
       "      <td>4984.14</td>\n",
       "      <td>4098.0</td>\n",
       "      <td>725.815989</td>\n",
       "      <td>132</td>\n",
       "    </tr>\n",
       "    <tr>\n",
       "      <th>2017-07-07 16:00:00+00:00</th>\n",
       "      <td>2046</td>\n",
       "      <td>4763.0</td>\n",
       "      <td>26380.13</td>\n",
       "      <td>4905.46</td>\n",
       "      <td>26607.12</td>\n",
       "      <td>893.683532</td>\n",
       "      <td>5024.40</td>\n",
       "      <td>4092.0</td>\n",
       "      <td>4904.95</td>\n",
       "      <td>26421.65</td>\n",
       "      <td>5029.32</td>\n",
       "      <td>4092.0</td>\n",
       "      <td>895.169400</td>\n",
       "      <td>132</td>\n",
       "    </tr>\n",
       "    <tr>\n",
       "      <th>2017-07-07 17:00:00+00:00</th>\n",
       "      <td>2772</td>\n",
       "      <td>4763.0</td>\n",
       "      <td>24907.65</td>\n",
       "      <td>4896.79</td>\n",
       "      <td>24774.21</td>\n",
       "      <td>850.548293</td>\n",
       "      <td>5064.12</td>\n",
       "      <td>4092.0</td>\n",
       "      <td>4899.40</td>\n",
       "      <td>25025.42</td>\n",
       "      <td>5066.34</td>\n",
       "      <td>4092.0</td>\n",
       "      <td>855.696468</td>\n",
       "      <td>132</td>\n",
       "    </tr>\n",
       "  </tbody>\n",
       "</table>\n",
       "</div>"
      ],
      "text/plain": [
       "                           Unnamed: 0.1  Common Setpoint  Actual Sup Flow SP  \\\n",
       "time_floored                                                                   \n",
       "2017-07-07 13:00:00+00:00            36           1732.0             3741.06   \n",
       "2017-07-07 14:00:00+00:00           594           4763.0            21734.13   \n",
       "2017-07-07 15:00:00+00:00          1320           4763.0            22376.13   \n",
       "2017-07-07 16:00:00+00:00          2046           4763.0            26380.13   \n",
       "2017-07-07 17:00:00+00:00          2772           4763.0            24907.65   \n",
       "\n",
       "                           Zone Temperature  Actual Supply Flow      energy  \\\n",
       "time_floored                                                                  \n",
       "2017-07-07 13:00:00+00:00           1800.00             4288.37  166.268212   \n",
       "2017-07-07 14:00:00+00:00           4919.32            22635.24  771.868307   \n",
       "2017-07-07 15:00:00+00:00           4889.76            22329.81  734.060713   \n",
       "2017-07-07 16:00:00+00:00           4905.46            26607.12  893.683532   \n",
       "2017-07-07 17:00:00+00:00           4896.79            24774.21  850.548293   \n",
       "\n",
       "                           Outside Air Temp  Humidity  Zone Temperature Next  \\\n",
       "time_floored                                                                   \n",
       "2017-07-07 13:00:00+00:00           1638.06    1512.0                1801.01   \n",
       "2017-07-07 14:00:00+00:00           4660.92    4158.0                4915.05   \n",
       "2017-07-07 15:00:00+00:00           4965.42    4104.0                4887.66   \n",
       "2017-07-07 16:00:00+00:00           5024.40    4092.0                4904.95   \n",
       "2017-07-07 17:00:00+00:00           5064.12    4092.0                4899.40   \n",
       "\n",
       "                           Actual Supply Flow Next  Outside Air Temp Next  \\\n",
       "time_floored                                                                \n",
       "2017-07-07 13:00:00+00:00                  5011.54                1644.06   \n",
       "2017-07-07 14:00:00+00:00                 23013.74                4686.42   \n",
       "2017-07-07 15:00:00+00:00                 22487.40                4984.14   \n",
       "2017-07-07 16:00:00+00:00                 26421.65                5029.32   \n",
       "2017-07-07 17:00:00+00:00                 25025.42                5066.34   \n",
       "\n",
       "                           Humidity Next  energy Next  floor  \n",
       "time_floored                                                  \n",
       "2017-07-07 13:00:00+00:00         1512.0   202.848801     48  \n",
       "2017-07-07 14:00:00+00:00         4158.0   781.035773    132  \n",
       "2017-07-07 15:00:00+00:00         4098.0   725.815989    132  \n",
       "2017-07-07 16:00:00+00:00         4092.0   895.169400    132  \n",
       "2017-07-07 17:00:00+00:00         4092.0   855.696468    132  "
      ]
     },
     "execution_count": 16,
     "metadata": {},
     "output_type": "execute_result"
    }
   ],
   "source": [
    "group_sums = grouped_df.groupby(['time_floored']).sum()\n",
    "group_sums.head(5)"
   ]
  },
  {
   "cell_type": "code",
   "execution_count": 17,
   "id": "188303b2",
   "metadata": {},
   "outputs": [
    {
     "data": {
      "text/plain": [
       "(8439, 14)"
      ]
     },
     "execution_count": 17,
     "metadata": {},
     "output_type": "execute_result"
    }
   ],
   "source": [
    "group_sums.shape"
   ]
  },
  {
   "cell_type": "code",
   "execution_count": 18,
   "id": "35c149b5",
   "metadata": {},
   "outputs": [],
   "source": [
    "group_counts = grouped_df.groupby(['time_floored'])['Common Setpoint'].count().rename(\"count\")"
   ]
  },
  {
   "cell_type": "code",
   "execution_count": 19,
   "id": "f6001aad",
   "metadata": {},
   "outputs": [
    {
     "data": {
      "text/plain": [
       "time_floored\n",
       "2017-07-07 13:00:00+00:00    24\n",
       "2017-07-07 14:00:00+00:00    66\n",
       "2017-07-07 15:00:00+00:00    66\n",
       "2017-07-07 16:00:00+00:00    66\n",
       "2017-07-07 17:00:00+00:00    66\n",
       "Name: count, dtype: int64"
      ]
     },
     "execution_count": 19,
     "metadata": {},
     "output_type": "execute_result"
    }
   ],
   "source": [
    "group_counts.head(5)"
   ]
  },
  {
   "cell_type": "code",
   "execution_count": 20,
   "id": "8db8b60c",
   "metadata": {},
   "outputs": [
    {
     "data": {
      "text/plain": [
       "3"
      ]
     },
     "execution_count": 20,
     "metadata": {},
     "output_type": "execute_result"
    }
   ],
   "source": [
    "group_counts.min()"
   ]
  },
  {
   "cell_type": "code",
   "execution_count": 21,
   "id": "d655570e",
   "metadata": {},
   "outputs": [
    {
     "data": {
      "text/plain": [
       "150"
      ]
     },
     "execution_count": 21,
     "metadata": {},
     "output_type": "execute_result"
    }
   ],
   "source": [
    "group_counts.max()"
   ]
  },
  {
   "cell_type": "code",
   "execution_count": 22,
   "id": "ff972552",
   "metadata": {},
   "outputs": [],
   "source": [
    "group_merge = group_sums.merge(group_counts, left_index = True, right_index = True)"
   ]
  },
  {
   "cell_type": "code",
   "execution_count": 23,
   "id": "c99705c0",
   "metadata": {},
   "outputs": [
    {
     "data": {
      "text/html": [
       "<div>\n",
       "<style scoped>\n",
       "    .dataframe tbody tr th:only-of-type {\n",
       "        vertical-align: middle;\n",
       "    }\n",
       "\n",
       "    .dataframe tbody tr th {\n",
       "        vertical-align: top;\n",
       "    }\n",
       "\n",
       "    .dataframe thead th {\n",
       "        text-align: right;\n",
       "    }\n",
       "</style>\n",
       "<table border=\"1\" class=\"dataframe\">\n",
       "  <thead>\n",
       "    <tr style=\"text-align: right;\">\n",
       "      <th></th>\n",
       "      <th>Unnamed: 0.1</th>\n",
       "      <th>Common Setpoint</th>\n",
       "      <th>Actual Sup Flow SP</th>\n",
       "      <th>Zone Temperature</th>\n",
       "      <th>Actual Supply Flow</th>\n",
       "      <th>energy</th>\n",
       "      <th>Outside Air Temp</th>\n",
       "      <th>Humidity</th>\n",
       "      <th>Zone Temperature Next</th>\n",
       "      <th>Actual Supply Flow Next</th>\n",
       "      <th>Outside Air Temp Next</th>\n",
       "      <th>Humidity Next</th>\n",
       "      <th>energy Next</th>\n",
       "      <th>floor</th>\n",
       "      <th>count</th>\n",
       "    </tr>\n",
       "    <tr>\n",
       "      <th>time_floored</th>\n",
       "      <th></th>\n",
       "      <th></th>\n",
       "      <th></th>\n",
       "      <th></th>\n",
       "      <th></th>\n",
       "      <th></th>\n",
       "      <th></th>\n",
       "      <th></th>\n",
       "      <th></th>\n",
       "      <th></th>\n",
       "      <th></th>\n",
       "      <th></th>\n",
       "      <th></th>\n",
       "      <th></th>\n",
       "      <th></th>\n",
       "    </tr>\n",
       "  </thead>\n",
       "  <tbody>\n",
       "    <tr>\n",
       "      <th>2017-07-07 13:00:00+00:00</th>\n",
       "      <td>36</td>\n",
       "      <td>1732.0</td>\n",
       "      <td>3741.06</td>\n",
       "      <td>1800.00</td>\n",
       "      <td>4288.37</td>\n",
       "      <td>166.268212</td>\n",
       "      <td>1638.06</td>\n",
       "      <td>1512.0</td>\n",
       "      <td>1801.01</td>\n",
       "      <td>5011.54</td>\n",
       "      <td>1644.06</td>\n",
       "      <td>1512.0</td>\n",
       "      <td>202.848801</td>\n",
       "      <td>48</td>\n",
       "      <td>24</td>\n",
       "    </tr>\n",
       "    <tr>\n",
       "      <th>2017-07-07 14:00:00+00:00</th>\n",
       "      <td>594</td>\n",
       "      <td>4763.0</td>\n",
       "      <td>21734.13</td>\n",
       "      <td>4919.32</td>\n",
       "      <td>22635.24</td>\n",
       "      <td>771.868307</td>\n",
       "      <td>4660.92</td>\n",
       "      <td>4158.0</td>\n",
       "      <td>4915.05</td>\n",
       "      <td>23013.74</td>\n",
       "      <td>4686.42</td>\n",
       "      <td>4158.0</td>\n",
       "      <td>781.035773</td>\n",
       "      <td>132</td>\n",
       "      <td>66</td>\n",
       "    </tr>\n",
       "    <tr>\n",
       "      <th>2017-07-07 15:00:00+00:00</th>\n",
       "      <td>1320</td>\n",
       "      <td>4763.0</td>\n",
       "      <td>22376.13</td>\n",
       "      <td>4889.76</td>\n",
       "      <td>22329.81</td>\n",
       "      <td>734.060713</td>\n",
       "      <td>4965.42</td>\n",
       "      <td>4104.0</td>\n",
       "      <td>4887.66</td>\n",
       "      <td>22487.40</td>\n",
       "      <td>4984.14</td>\n",
       "      <td>4098.0</td>\n",
       "      <td>725.815989</td>\n",
       "      <td>132</td>\n",
       "      <td>66</td>\n",
       "    </tr>\n",
       "    <tr>\n",
       "      <th>2017-07-07 16:00:00+00:00</th>\n",
       "      <td>2046</td>\n",
       "      <td>4763.0</td>\n",
       "      <td>26380.13</td>\n",
       "      <td>4905.46</td>\n",
       "      <td>26607.12</td>\n",
       "      <td>893.683532</td>\n",
       "      <td>5024.40</td>\n",
       "      <td>4092.0</td>\n",
       "      <td>4904.95</td>\n",
       "      <td>26421.65</td>\n",
       "      <td>5029.32</td>\n",
       "      <td>4092.0</td>\n",
       "      <td>895.169400</td>\n",
       "      <td>132</td>\n",
       "      <td>66</td>\n",
       "    </tr>\n",
       "    <tr>\n",
       "      <th>2017-07-07 17:00:00+00:00</th>\n",
       "      <td>2772</td>\n",
       "      <td>4763.0</td>\n",
       "      <td>24907.65</td>\n",
       "      <td>4896.79</td>\n",
       "      <td>24774.21</td>\n",
       "      <td>850.548293</td>\n",
       "      <td>5064.12</td>\n",
       "      <td>4092.0</td>\n",
       "      <td>4899.40</td>\n",
       "      <td>25025.42</td>\n",
       "      <td>5066.34</td>\n",
       "      <td>4092.0</td>\n",
       "      <td>855.696468</td>\n",
       "      <td>132</td>\n",
       "      <td>66</td>\n",
       "    </tr>\n",
       "  </tbody>\n",
       "</table>\n",
       "</div>"
      ],
      "text/plain": [
       "                           Unnamed: 0.1  Common Setpoint  Actual Sup Flow SP  \\\n",
       "time_floored                                                                   \n",
       "2017-07-07 13:00:00+00:00            36           1732.0             3741.06   \n",
       "2017-07-07 14:00:00+00:00           594           4763.0            21734.13   \n",
       "2017-07-07 15:00:00+00:00          1320           4763.0            22376.13   \n",
       "2017-07-07 16:00:00+00:00          2046           4763.0            26380.13   \n",
       "2017-07-07 17:00:00+00:00          2772           4763.0            24907.65   \n",
       "\n",
       "                           Zone Temperature  Actual Supply Flow      energy  \\\n",
       "time_floored                                                                  \n",
       "2017-07-07 13:00:00+00:00           1800.00             4288.37  166.268212   \n",
       "2017-07-07 14:00:00+00:00           4919.32            22635.24  771.868307   \n",
       "2017-07-07 15:00:00+00:00           4889.76            22329.81  734.060713   \n",
       "2017-07-07 16:00:00+00:00           4905.46            26607.12  893.683532   \n",
       "2017-07-07 17:00:00+00:00           4896.79            24774.21  850.548293   \n",
       "\n",
       "                           Outside Air Temp  Humidity  Zone Temperature Next  \\\n",
       "time_floored                                                                   \n",
       "2017-07-07 13:00:00+00:00           1638.06    1512.0                1801.01   \n",
       "2017-07-07 14:00:00+00:00           4660.92    4158.0                4915.05   \n",
       "2017-07-07 15:00:00+00:00           4965.42    4104.0                4887.66   \n",
       "2017-07-07 16:00:00+00:00           5024.40    4092.0                4904.95   \n",
       "2017-07-07 17:00:00+00:00           5064.12    4092.0                4899.40   \n",
       "\n",
       "                           Actual Supply Flow Next  Outside Air Temp Next  \\\n",
       "time_floored                                                                \n",
       "2017-07-07 13:00:00+00:00                  5011.54                1644.06   \n",
       "2017-07-07 14:00:00+00:00                 23013.74                4686.42   \n",
       "2017-07-07 15:00:00+00:00                 22487.40                4984.14   \n",
       "2017-07-07 16:00:00+00:00                 26421.65                5029.32   \n",
       "2017-07-07 17:00:00+00:00                 25025.42                5066.34   \n",
       "\n",
       "                           Humidity Next  energy Next  floor  count  \n",
       "time_floored                                                         \n",
       "2017-07-07 13:00:00+00:00         1512.0   202.848801     48     24  \n",
       "2017-07-07 14:00:00+00:00         4158.0   781.035773    132     66  \n",
       "2017-07-07 15:00:00+00:00         4098.0   725.815989    132     66  \n",
       "2017-07-07 16:00:00+00:00         4092.0   895.169400    132     66  \n",
       "2017-07-07 17:00:00+00:00         4092.0   855.696468    132     66  "
      ]
     },
     "execution_count": 23,
     "metadata": {},
     "output_type": "execute_result"
    }
   ],
   "source": [
    "group_merge.head(5)"
   ]
  },
  {
   "cell_type": "code",
   "execution_count": 26,
   "id": "ded6ad5c",
   "metadata": {},
   "outputs": [],
   "source": [
    "group_merge = group_merge.drop(['Unnamed: 0.1', 'floor'], axis = 1)"
   ]
  },
  {
   "cell_type": "code",
   "execution_count": 27,
   "id": "8a009005",
   "metadata": {},
   "outputs": [],
   "source": [
    "group_merge_mod = group_merge.multiply(group_counts.max() / group_merge['count'], axis = 'index')"
   ]
  },
  {
   "cell_type": "code",
   "execution_count": 28,
   "id": "102528e2",
   "metadata": {},
   "outputs": [
    {
     "data": {
      "text/html": [
       "<div>\n",
       "<style scoped>\n",
       "    .dataframe tbody tr th:only-of-type {\n",
       "        vertical-align: middle;\n",
       "    }\n",
       "\n",
       "    .dataframe tbody tr th {\n",
       "        vertical-align: top;\n",
       "    }\n",
       "\n",
       "    .dataframe thead th {\n",
       "        text-align: right;\n",
       "    }\n",
       "</style>\n",
       "<table border=\"1\" class=\"dataframe\">\n",
       "  <thead>\n",
       "    <tr style=\"text-align: right;\">\n",
       "      <th></th>\n",
       "      <th>Common Setpoint</th>\n",
       "      <th>Actual Sup Flow SP</th>\n",
       "      <th>Zone Temperature</th>\n",
       "      <th>Actual Supply Flow</th>\n",
       "      <th>energy</th>\n",
       "      <th>Outside Air Temp</th>\n",
       "      <th>Humidity</th>\n",
       "      <th>Zone Temperature Next</th>\n",
       "      <th>Actual Supply Flow Next</th>\n",
       "      <th>Outside Air Temp Next</th>\n",
       "      <th>Humidity Next</th>\n",
       "      <th>energy Next</th>\n",
       "      <th>count</th>\n",
       "    </tr>\n",
       "    <tr>\n",
       "      <th>time_floored</th>\n",
       "      <th></th>\n",
       "      <th></th>\n",
       "      <th></th>\n",
       "      <th></th>\n",
       "      <th></th>\n",
       "      <th></th>\n",
       "      <th></th>\n",
       "      <th></th>\n",
       "      <th></th>\n",
       "      <th></th>\n",
       "      <th></th>\n",
       "      <th></th>\n",
       "      <th></th>\n",
       "    </tr>\n",
       "  </thead>\n",
       "  <tbody>\n",
       "    <tr>\n",
       "      <th>2017-07-07 13:00:00+00:00</th>\n",
       "      <td>10825.0</td>\n",
       "      <td>23381.625000</td>\n",
       "      <td>11250.000000</td>\n",
       "      <td>26802.312500</td>\n",
       "      <td>1039.176322</td>\n",
       "      <td>10237.875000</td>\n",
       "      <td>9450.000000</td>\n",
       "      <td>11256.312500</td>\n",
       "      <td>31322.125000</td>\n",
       "      <td>10275.375000</td>\n",
       "      <td>9450.000000</td>\n",
       "      <td>1267.805007</td>\n",
       "      <td>150.0</td>\n",
       "    </tr>\n",
       "    <tr>\n",
       "      <th>2017-07-07 14:00:00+00:00</th>\n",
       "      <td>10825.0</td>\n",
       "      <td>49395.750000</td>\n",
       "      <td>11180.272727</td>\n",
       "      <td>51443.727273</td>\n",
       "      <td>1754.246152</td>\n",
       "      <td>10593.000000</td>\n",
       "      <td>9450.000000</td>\n",
       "      <td>11170.568182</td>\n",
       "      <td>52303.954545</td>\n",
       "      <td>10650.954545</td>\n",
       "      <td>9450.000000</td>\n",
       "      <td>1775.081301</td>\n",
       "      <td>150.0</td>\n",
       "    </tr>\n",
       "    <tr>\n",
       "      <th>2017-07-07 15:00:00+00:00</th>\n",
       "      <td>10825.0</td>\n",
       "      <td>50854.840909</td>\n",
       "      <td>11113.090909</td>\n",
       "      <td>50749.568182</td>\n",
       "      <td>1668.319803</td>\n",
       "      <td>11285.045455</td>\n",
       "      <td>9327.272727</td>\n",
       "      <td>11108.318182</td>\n",
       "      <td>51107.727273</td>\n",
       "      <td>11327.590909</td>\n",
       "      <td>9313.636364</td>\n",
       "      <td>1649.581792</td>\n",
       "      <td>150.0</td>\n",
       "    </tr>\n",
       "    <tr>\n",
       "      <th>2017-07-07 16:00:00+00:00</th>\n",
       "      <td>10825.0</td>\n",
       "      <td>59954.840909</td>\n",
       "      <td>11148.772727</td>\n",
       "      <td>60470.727273</td>\n",
       "      <td>2031.098937</td>\n",
       "      <td>11419.090909</td>\n",
       "      <td>9300.000000</td>\n",
       "      <td>11147.613636</td>\n",
       "      <td>60049.204545</td>\n",
       "      <td>11430.272727</td>\n",
       "      <td>9300.000000</td>\n",
       "      <td>2034.475908</td>\n",
       "      <td>150.0</td>\n",
       "    </tr>\n",
       "    <tr>\n",
       "      <th>2017-07-07 17:00:00+00:00</th>\n",
       "      <td>10825.0</td>\n",
       "      <td>56608.295455</td>\n",
       "      <td>11129.068182</td>\n",
       "      <td>56305.022727</td>\n",
       "      <td>1933.064302</td>\n",
       "      <td>11509.363636</td>\n",
       "      <td>9300.000000</td>\n",
       "      <td>11135.000000</td>\n",
       "      <td>56875.954545</td>\n",
       "      <td>11514.409091</td>\n",
       "      <td>9300.000000</td>\n",
       "      <td>1944.764700</td>\n",
       "      <td>150.0</td>\n",
       "    </tr>\n",
       "  </tbody>\n",
       "</table>\n",
       "</div>"
      ],
      "text/plain": [
       "                           Common Setpoint  Actual Sup Flow SP  \\\n",
       "time_floored                                                     \n",
       "2017-07-07 13:00:00+00:00          10825.0        23381.625000   \n",
       "2017-07-07 14:00:00+00:00          10825.0        49395.750000   \n",
       "2017-07-07 15:00:00+00:00          10825.0        50854.840909   \n",
       "2017-07-07 16:00:00+00:00          10825.0        59954.840909   \n",
       "2017-07-07 17:00:00+00:00          10825.0        56608.295455   \n",
       "\n",
       "                           Zone Temperature  Actual Supply Flow       energy  \\\n",
       "time_floored                                                                   \n",
       "2017-07-07 13:00:00+00:00      11250.000000        26802.312500  1039.176322   \n",
       "2017-07-07 14:00:00+00:00      11180.272727        51443.727273  1754.246152   \n",
       "2017-07-07 15:00:00+00:00      11113.090909        50749.568182  1668.319803   \n",
       "2017-07-07 16:00:00+00:00      11148.772727        60470.727273  2031.098937   \n",
       "2017-07-07 17:00:00+00:00      11129.068182        56305.022727  1933.064302   \n",
       "\n",
       "                           Outside Air Temp     Humidity  \\\n",
       "time_floored                                               \n",
       "2017-07-07 13:00:00+00:00      10237.875000  9450.000000   \n",
       "2017-07-07 14:00:00+00:00      10593.000000  9450.000000   \n",
       "2017-07-07 15:00:00+00:00      11285.045455  9327.272727   \n",
       "2017-07-07 16:00:00+00:00      11419.090909  9300.000000   \n",
       "2017-07-07 17:00:00+00:00      11509.363636  9300.000000   \n",
       "\n",
       "                           Zone Temperature Next  Actual Supply Flow Next  \\\n",
       "time_floored                                                                \n",
       "2017-07-07 13:00:00+00:00           11256.312500             31322.125000   \n",
       "2017-07-07 14:00:00+00:00           11170.568182             52303.954545   \n",
       "2017-07-07 15:00:00+00:00           11108.318182             51107.727273   \n",
       "2017-07-07 16:00:00+00:00           11147.613636             60049.204545   \n",
       "2017-07-07 17:00:00+00:00           11135.000000             56875.954545   \n",
       "\n",
       "                           Outside Air Temp Next  Humidity Next  energy Next  \\\n",
       "time_floored                                                                   \n",
       "2017-07-07 13:00:00+00:00           10275.375000    9450.000000  1267.805007   \n",
       "2017-07-07 14:00:00+00:00           10650.954545    9450.000000  1775.081301   \n",
       "2017-07-07 15:00:00+00:00           11327.590909    9313.636364  1649.581792   \n",
       "2017-07-07 16:00:00+00:00           11430.272727    9300.000000  2034.475908   \n",
       "2017-07-07 17:00:00+00:00           11514.409091    9300.000000  1944.764700   \n",
       "\n",
       "                           count  \n",
       "time_floored                      \n",
       "2017-07-07 13:00:00+00:00  150.0  \n",
       "2017-07-07 14:00:00+00:00  150.0  \n",
       "2017-07-07 15:00:00+00:00  150.0  \n",
       "2017-07-07 16:00:00+00:00  150.0  \n",
       "2017-07-07 17:00:00+00:00  150.0  "
      ]
     },
     "execution_count": 28,
     "metadata": {},
     "output_type": "execute_result"
    }
   ],
   "source": [
    "group_merge_mod.head(5)"
   ]
  },
  {
   "cell_type": "code",
   "execution_count": 29,
   "id": "33c2bbec",
   "metadata": {},
   "outputs": [],
   "source": [
    "energy_cols = group_merge_mod.loc[:, ['energy', 'energy Next']]\n",
    "all_else = group_merge_mod.drop(['energy', 'energy Next'], axis = 1)\n",
    "all_else = all_else / group_counts.max()"
   ]
  },
  {
   "cell_type": "code",
   "execution_count": 31,
   "id": "eec7e772",
   "metadata": {},
   "outputs": [],
   "source": [
    "re_merge = all_else.merge(energy_cols, left_index = True, right_index = True)"
   ]
  },
  {
   "cell_type": "code",
   "execution_count": 32,
   "id": "f6a56e67",
   "metadata": {},
   "outputs": [
    {
     "data": {
      "text/plain": [
       "0"
      ]
     },
     "execution_count": 32,
     "metadata": {},
     "output_type": "execute_result"
    }
   ],
   "source": [
    "all_else['Actual Supply Flow'].isna().sum()"
   ]
  },
  {
   "cell_type": "code",
   "execution_count": 209,
   "id": "05c9c79f",
   "metadata": {},
   "outputs": [],
   "source": [
    "sns?"
   ]
  },
  {
   "cell_type": "code",
   "execution_count": 210,
   "id": "b4bbedc0",
   "metadata": {},
   "outputs": [
    {
     "data": {
      "text/plain": [
       "<AxesSubplot:xlabel='time_floored', ylabel='Actual Supply Flow'>"
      ]
     },
     "execution_count": 210,
     "metadata": {},
     "output_type": "execute_result"
    },
    {
     "data": {
      "image/png": "[encoded data removed]",
      "text/plain": [
       "<Figure size 432x288 with 1 Axes>"
      ]
     },
     "metadata": {
      "needs_background": "light"
     },
     "output_type": "display_data"
    }
   ],
   "source": [
    "sns.lineplot(data = all_else.reset_index(), x = 'time_floored', y = 'Actual Supply Flow')"
   ]
  },
  {
   "cell_type": "code",
   "execution_count": 211,
   "id": "44ddce5c",
   "metadata": {
    "scrolled": true
   },
   "outputs": [
    {
     "data": {
      "text/plain": [
       "<AxesSubplot:xlabel='time_floored', ylabel='energy'>"
      ]
     },
     "execution_count": 211,
     "metadata": {},
     "output_type": "execute_result"
    },
    {
     "data": {
      "image/png": "[encoded data removed]",
      "text/plain": [
       "<Figure size 432x288 with 1 Axes>"
      ]
     },
     "metadata": {
      "needs_background": "light"
     },
     "output_type": "display_data"
    }
   ],
   "source": [
    "sns.lineplot(data = energy_cols.reset_index(), x = 'time_floored', y = 'energy')"
   ]
  },
  {
   "cell_type": "code",
   "execution_count": 35,
   "id": "e9d64883",
   "metadata": {},
   "outputs": [],
   "source": [
    "min_ts = all_else.index[0]\n",
    "max_ts = all_else.index[len(all_else) - 1]"
   ]
  },
  {
   "cell_type": "code",
   "execution_count": 37,
   "id": "996c5f4f",
   "metadata": {},
   "outputs": [],
   "source": [
    "df = pd.DataFrame(index = pd.date_range(min_ts, max_ts, freq=time_val))"
   ]
  },
  {
   "cell_type": "code",
   "execution_count": 38,
   "id": "e8c61d8e",
   "metadata": {},
   "outputs": [],
   "source": [
    "time_gaps = df.merge(re_merge, left_index = True, right_index = True, how = 'outer')"
   ]
  },
  {
   "cell_type": "code",
   "execution_count": 40,
   "id": "70353514",
   "metadata": {},
   "outputs": [
    {
     "data": {
      "text/plain": [
       "(4748, 13)"
      ]
     },
     "execution_count": 40,
     "metadata": {},
     "output_type": "execute_result"
    }
   ],
   "source": [
    "time_gaps.loc[time_gaps['energy'].isna()].shape"
   ]
  },
  {
   "cell_type": "code",
   "execution_count": 61,
   "id": "c72e77aa",
   "metadata": {
    "scrolled": true
   },
   "outputs": [],
   "source": [
    "grouped_df['hour'] = grouped_df['time_floored'].transform(lambda x: x.time().hour)"
   ]
  },
  {
   "cell_type": "code",
   "execution_count": 64,
   "id": "14324474",
   "metadata": {},
   "outputs": [],
   "source": [
    "mean_per_hour = grouped_df.groupby('hour')['energy'].mean()"
   ]
  },
  {
   "cell_type": "code",
   "execution_count": 65,
   "id": "c7700386",
   "metadata": {},
   "outputs": [
    {
     "data": {
      "text/plain": [
       "hour\n",
       "0     12.031930\n",
       "1     10.855814\n",
       "2      9.638397\n",
       "3      8.390945\n",
       "4      7.296969\n",
       "5      6.174673\n",
       "6      5.351771\n",
       "7      4.726385\n",
       "8      4.597551\n",
       "9      4.638416\n",
       "10     4.429391\n",
       "11     4.748580\n",
       "12     5.336812\n",
       "13     5.611395\n",
       "14     7.507491\n",
       "15     9.805022\n",
       "16    11.265025\n",
       "17    13.006065\n",
       "18    14.460227\n",
       "19    15.204219\n",
       "20    15.010176\n",
       "21    14.309833\n",
       "22    13.579615\n",
       "23    12.527954\n",
       "Name: energy, dtype: float64"
      ]
     },
     "execution_count": 65,
     "metadata": {},
     "output_type": "execute_result"
    }
   ],
   "source": [
    "mean_per_hour"
   ]
  },
  {
   "cell_type": "code",
   "execution_count": null,
   "id": "a3a6799f",
   "metadata": {},
   "outputs": [],
   "source": []
  },
  {
   "cell_type": "code",
   "execution_count": null,
   "id": "cb49ba21",
   "metadata": {},
   "outputs": [],
   "source": []
  },
  {
   "cell_type": "code",
   "execution_count": null,
   "id": "33bf7ef6",
   "metadata": {},
   "outputs": [],
   "source": []
  },
  {
   "cell_type": "code",
   "execution_count": 42,
   "id": "e761273e",
   "metadata": {},
   "outputs": [],
   "source": [
    "ffill_version = time_gaps.ffill()"
   ]
  },
  {
   "cell_type": "code",
   "execution_count": 43,
   "id": "37aecb9c",
   "metadata": {},
   "outputs": [],
   "source": [
    "bfill_version = time_gaps.bfill()"
   ]
  },
  {
   "cell_type": "code",
   "execution_count": 44,
   "id": "f4d176bb",
   "metadata": {},
   "outputs": [],
   "source": [
    "meanfill_version = time_gaps.fillna(time_gaps.mean())"
   ]
  },
  {
   "cell_type": "code",
   "execution_count": 45,
   "id": "242fdd8c",
   "metadata": {},
   "outputs": [],
   "source": [
    "medfill_version = time_gaps.fillna(time_gaps.median())"
   ]
  },
  {
   "cell_type": "code",
   "execution_count": null,
   "id": "4e069675",
   "metadata": {},
   "outputs": [],
   "source": []
  },
  {
   "cell_type": "code",
   "execution_count": 46,
   "id": "2973e506",
   "metadata": {},
   "outputs": [],
   "source": [
    "mixedfill = time_gaps.ffill(limit = 12).fillna(time_gaps.median())"
   ]
  },
  {
   "cell_type": "code",
   "execution_count": 226,
   "id": "5698a16a",
   "metadata": {},
   "outputs": [
    {
     "data": {
      "text/plain": [
       "(13187, 13)"
      ]
     },
     "execution_count": 226,
     "metadata": {},
     "output_type": "execute_result"
    }
   ],
   "source": [
    "time_gaps.shape"
   ]
  },
  {
   "cell_type": "code",
   "execution_count": 212,
   "id": "9e4c81e5",
   "metadata": {},
   "outputs": [],
   "source": [
    "diff_ind = pd.date_range('2017-07-07 13:00:00+0000', '2019-01-07 23:00:00+0000', freq=\"1H\").difference(all_else.index)\n"
   ]
  },
  {
   "cell_type": "code",
   "execution_count": 213,
   "id": "64a45e7a",
   "metadata": {},
   "outputs": [
    {
     "data": {
      "text/plain": [
       "4748"
      ]
     },
     "execution_count": 213,
     "metadata": {},
     "output_type": "execute_result"
    }
   ],
   "source": [
    "len(diff_ind)"
   ]
  },
  {
   "cell_type": "code",
   "execution_count": 214,
   "id": "e41cabd8",
   "metadata": {},
   "outputs": [
    {
     "data": {
      "text/plain": [
       "DatetimeIndex(['2017-07-08 17:00:00+00:00', '2017-07-08 18:00:00+00:00',\n",
       "               '2017-07-08 19:00:00+00:00', '2017-08-02 19:00:00+00:00',\n",
       "               '2017-08-20 14:00:00+00:00'],\n",
       "              dtype='datetime64[ns, UTC]', freq=None)"
      ]
     },
     "execution_count": 214,
     "metadata": {},
     "output_type": "execute_result"
    }
   ],
   "source": [
    "diff_ind[0:5]"
   ]
  },
  {
   "cell_type": "code",
   "execution_count": 218,
   "id": "09b4bdd4",
   "metadata": {},
   "outputs": [
    {
     "data": {
      "text/plain": [
       "<AxesSubplot:>"
      ]
     },
     "execution_count": 218,
     "metadata": {},
     "output_type": "execute_result"
    },
    {
     "data": {
      "image/png": "[encoded data removed]",
      "text/plain": [
       "<Figure size 432x288 with 1 Axes>"
      ]
     },
     "metadata": {
      "needs_background": "light"
     },
     "output_type": "display_data"
    }
   ],
   "source": [
    "pd.Series(diff_ind.hour).hist()"
   ]
  },
  {
   "cell_type": "code",
   "execution_count": 49,
   "id": "158490ad",
   "metadata": {},
   "outputs": [
    {
     "data": {
      "text/html": [
       "<div>\n",
       "<style scoped>\n",
       "    .dataframe tbody tr th:only-of-type {\n",
       "        vertical-align: middle;\n",
       "    }\n",
       "\n",
       "    .dataframe tbody tr th {\n",
       "        vertical-align: top;\n",
       "    }\n",
       "\n",
       "    .dataframe thead th {\n",
       "        text-align: right;\n",
       "    }\n",
       "</style>\n",
       "<table border=\"1\" class=\"dataframe\">\n",
       "  <thead>\n",
       "    <tr style=\"text-align: right;\">\n",
       "      <th></th>\n",
       "      <th>Common Setpoint</th>\n",
       "      <th>Actual Sup Flow SP</th>\n",
       "      <th>Zone Temperature</th>\n",
       "      <th>Actual Supply Flow</th>\n",
       "      <th>Outside Air Temp</th>\n",
       "      <th>Humidity</th>\n",
       "      <th>Zone Temperature Next</th>\n",
       "      <th>Actual Supply Flow Next</th>\n",
       "      <th>Outside Air Temp Next</th>\n",
       "      <th>Humidity Next</th>\n",
       "      <th>count</th>\n",
       "      <th>energy</th>\n",
       "      <th>energy Next</th>\n",
       "    </tr>\n",
       "  </thead>\n",
       "  <tbody>\n",
       "    <tr>\n",
       "      <th>2017-07-07 13:00:00+00:00</th>\n",
       "      <td>72.166667</td>\n",
       "      <td>155.8775</td>\n",
       "      <td>75.0</td>\n",
       "      <td>178.682083</td>\n",
       "      <td>68.2525</td>\n",
       "      <td>63.0</td>\n",
       "      <td>75.042083</td>\n",
       "      <td>208.814167</td>\n",
       "      <td>68.5025</td>\n",
       "      <td>63.0</td>\n",
       "      <td>1.0</td>\n",
       "      <td>1039.176322</td>\n",
       "      <td>1267.805007</td>\n",
       "    </tr>\n",
       "  </tbody>\n",
       "</table>\n",
       "</div>"
      ],
      "text/plain": [
       "                           Common Setpoint  Actual Sup Flow SP  \\\n",
       "2017-07-07 13:00:00+00:00        72.166667            155.8775   \n",
       "\n",
       "                           Zone Temperature  Actual Supply Flow  \\\n",
       "2017-07-07 13:00:00+00:00              75.0          178.682083   \n",
       "\n",
       "                           Outside Air Temp  Humidity  Zone Temperature Next  \\\n",
       "2017-07-07 13:00:00+00:00           68.2525      63.0              75.042083   \n",
       "\n",
       "                           Actual Supply Flow Next  Outside Air Temp Next  \\\n",
       "2017-07-07 13:00:00+00:00               208.814167                68.5025   \n",
       "\n",
       "                           Humidity Next  count       energy  energy Next  \n",
       "2017-07-07 13:00:00+00:00           63.0    1.0  1039.176322  1267.805007  "
      ]
     },
     "execution_count": 49,
     "metadata": {},
     "output_type": "execute_result"
    }
   ],
   "source": [
    "time_gaps.head(1)"
   ]
  },
  {
   "cell_type": "code",
   "execution_count": 50,
   "id": "55cb2726",
   "metadata": {},
   "outputs": [
    {
     "data": {
      "text/plain": [
       "<AxesSubplot:xlabel='index', ylabel='energy'>"
      ]
     },
     "execution_count": 50,
     "metadata": {},
     "output_type": "execute_result"
    },
    {
     "data": {
      "image/png": "[encoded data removed]",
      "text/plain": [
       "<Figure size 432x288 with 1 Axes>"
      ]
     },
     "metadata": {
      "needs_background": "light"
     },
     "output_type": "display_data"
    }
   ],
   "source": [
    "sns.lineplot(data = time_gaps.reset_index(), x = 'index', y = 'energy')"
   ]
  },
  {
   "cell_type": "code",
   "execution_count": 52,
   "id": "ac7b7e72",
   "metadata": {},
   "outputs": [
    {
     "data": {
      "text/plain": [
       "<AxesSubplot:xlabel='index', ylabel='energy'>"
      ]
     },
     "execution_count": 52,
     "metadata": {},
     "output_type": "execute_result"
    },
    {
     "data": {
      "image/png": "[encoded data removed]",
      "text/plain": [
       "<Figure size 432x288 with 1 Axes>"
      ]
     },
     "metadata": {
      "needs_background": "light"
     },
     "output_type": "display_data"
    }
   ],
   "source": [
    "sns.lineplot(data = mixedfill.reset_index(), x = 'index', y = 'energy')"
   ]
  },
  {
   "cell_type": "code",
   "execution_count": 54,
   "id": "cdbc16d3",
   "metadata": {},
   "outputs": [
    {
     "data": {
      "text/plain": [
       "<AxesSubplot:xlabel='index', ylabel='energy'>"
      ]
     },
     "execution_count": 54,
     "metadata": {},
     "output_type": "execute_result"
    },
    {
     "data": {
      "image/png": "[encoded data removed]",
      "text/plain": [
       "<Figure size 432x288 with 1 Axes>"
      ]
     },
     "metadata": {
      "needs_background": "light"
     },
     "output_type": "display_data"
    }
   ],
   "source": [
    "sns.lineplot(data = ffill_version.reset_index(), x = 'index', y = 'energy')"
   ]
  },
  {
   "cell_type": "code",
   "execution_count": 55,
   "id": "6297a992",
   "metadata": {},
   "outputs": [
    {
     "data": {
      "text/plain": [
       "<AxesSubplot:xlabel='index', ylabel='energy'>"
      ]
     },
     "execution_count": 55,
     "metadata": {},
     "output_type": "execute_result"
    },
    {
     "data": {
      "image/png": "[encoded data removed]",
      "text/plain": [
       "<Figure size 432x288 with 1 Axes>"
      ]
     },
     "metadata": {
      "needs_background": "light"
     },
     "output_type": "display_data"
    }
   ],
   "source": [
    "sns.lineplot(data = bfill_version.reset_index(), x = 'index', y = 'energy')"
   ]
  },
  {
   "cell_type": "code",
   "execution_count": 57,
   "id": "60b67b86",
   "metadata": {},
   "outputs": [
    {
     "data": {
      "text/plain": [
       "<AxesSubplot:xlabel='index', ylabel='energy'>"
      ]
     },
     "execution_count": 57,
     "metadata": {},
     "output_type": "execute_result"
    },
    {
     "data": {
      "image/png": "[encoded data removed]",
      "text/plain": [
       "<Figure size 432x288 with 1 Axes>"
      ]
     },
     "metadata": {
      "needs_background": "light"
     },
     "output_type": "display_data"
    }
   ],
   "source": [
    "sns.lineplot(data = meanfill_version.reset_index(), x = 'index', y = 'energy')"
   ]
  },
  {
   "cell_type": "code",
   "execution_count": 58,
   "id": "056dfb9a",
   "metadata": {},
   "outputs": [
    {
     "data": {
      "text/plain": [
       "<AxesSubplot:xlabel='index', ylabel='energy'>"
      ]
     },
     "execution_count": 58,
     "metadata": {},
     "output_type": "execute_result"
    },
    {
     "data": {
      "image/png": "[encoded data removed]",
      "text/plain": [
       "<Figure size 432x288 with 1 Axes>"
      ]
     },
     "metadata": {
      "needs_background": "light"
     },
     "output_type": "display_data"
    }
   ],
   "source": [
    "sns.lineplot(data = medfill_version.reset_index(), x = 'index', y = 'energy')"
   ]
  },
  {
   "cell_type": "code",
   "execution_count": null,
   "id": "258fde4b",
   "metadata": {},
   "outputs": [],
   "source": [
    "# that's another option - do the split before and after the dates with the biggest period of missiness?"
   ]
  },
  {
   "cell_type": "code",
   "execution_count": null,
   "id": "736720cd",
   "metadata": {},
   "outputs": [],
   "source": []
  },
  {
   "cell_type": "code",
   "execution_count": 90,
   "id": "fcfb7d12",
   "metadata": {},
   "outputs": [],
   "source": [
    "# According to this - if we follow this path, there are about 9523 missing values in the index"
   ]
  },
  {
   "cell_type": "code",
   "execution_count": null,
   "id": "34f3b397",
   "metadata": {},
   "outputs": [],
   "source": []
  },
  {
   "cell_type": "code",
   "execution_count": 33,
   "id": "c2bc7091",
   "metadata": {},
   "outputs": [
    {
     "data": {
      "text/plain": [
       "75.0    16850\n",
       "Name: count, dtype: int64"
      ]
     },
     "execution_count": 33,
     "metadata": {},
     "output_type": "execute_result"
    }
   ],
   "source": [
    "group_merge_mod['count'].value_counts()"
   ]
  },
  {
   "cell_type": "code",
   "execution_count": 34,
   "id": "82d2a265",
   "metadata": {},
   "outputs": [],
   "source": [
    "grouped_df_counts = grouped_df.groupby(['time_floored', 'Unnamed: 0.1'])['Common Setpoint'].count().rename(\"count\")"
   ]
  },
  {
   "cell_type": "code",
   "execution_count": 35,
   "id": "d53d2241",
   "metadata": {},
   "outputs": [
    {
     "data": {
      "text/plain": [
       "9"
      ]
     },
     "execution_count": 35,
     "metadata": {},
     "output_type": "execute_result"
    }
   ],
   "source": [
    "grouped_df_counts.max()"
   ]
  },
  {
   "cell_type": "code",
   "execution_count": 36,
   "id": "e732437c",
   "metadata": {},
   "outputs": [
    {
     "data": {
      "text/plain": [
       "1"
      ]
     },
     "execution_count": 36,
     "metadata": {},
     "output_type": "execute_result"
    }
   ],
   "source": [
    "grouped_df_counts.min()"
   ]
  },
  {
   "cell_type": "code",
   "execution_count": 37,
   "id": "c94350a3",
   "metadata": {},
   "outputs": [],
   "source": [
    "grouped_df_means = grouped_df.groupby(['time_floored', 'Unnamed: 0.1']).mean()\n",
    "grouped_df_means.columns += [\"_mean\"]"
   ]
  },
  {
   "cell_type": "code",
   "execution_count": 38,
   "id": "cb66e511",
   "metadata": {},
   "outputs": [],
   "source": [
    "grouped_df_sums = grouped_df.groupby(['time_floored', 'Unnamed: 0.1']).sum()\n",
    "grouped_df_sums.columns += [\"_sum\"]"
   ]
  },
  {
   "cell_type": "code",
   "execution_count": 39,
   "id": "630c8ff9",
   "metadata": {},
   "outputs": [],
   "source": [
    "counts_sums = grouped_df_sums.merge(grouped_df_counts.to_frame(), left_index = True, right_index = True, how = 'outer')"
   ]
  },
  {
   "cell_type": "code",
   "execution_count": 40,
   "id": "3e25a838",
   "metadata": {},
   "outputs": [],
   "source": [
    "counts_sums = counts_sums.drop(['floor_sum'], axis = 1)"
   ]
  },
  {
   "cell_type": "code",
   "execution_count": 41,
   "id": "34706a5b",
   "metadata": {},
   "outputs": [],
   "source": [
    "count_factors = (9 / counts_sums['count'])"
   ]
  },
  {
   "cell_type": "code",
   "execution_count": null,
   "id": "e782db2c",
   "metadata": {},
   "outputs": [],
   "source": []
  },
  {
   "cell_type": "code",
   "execution_count": 42,
   "id": "63e90632",
   "metadata": {},
   "outputs": [],
   "source": [
    "counts_sums['factor'] = count_factors"
   ]
  },
  {
   "cell_type": "code",
   "execution_count": 43,
   "id": "af085fac",
   "metadata": {},
   "outputs": [
    {
     "data": {
      "text/html": [
       "<div>\n",
       "<style scoped>\n",
       "    .dataframe tbody tr th:only-of-type {\n",
       "        vertical-align: middle;\n",
       "    }\n",
       "\n",
       "    .dataframe tbody tr th {\n",
       "        vertical-align: top;\n",
       "    }\n",
       "\n",
       "    .dataframe thead th {\n",
       "        text-align: right;\n",
       "    }\n",
       "</style>\n",
       "<table border=\"1\" class=\"dataframe\">\n",
       "  <thead>\n",
       "    <tr style=\"text-align: right;\">\n",
       "      <th></th>\n",
       "      <th></th>\n",
       "      <th>Common Setpoint_sum</th>\n",
       "      <th>Actual Sup Flow SP_sum</th>\n",
       "      <th>Zone Temperature_sum</th>\n",
       "      <th>Actual Supply Flow_sum</th>\n",
       "      <th>energy_sum</th>\n",
       "      <th>Outside Air Temp_sum</th>\n",
       "      <th>Humidity_sum</th>\n",
       "      <th>Zone Temperature Next_sum</th>\n",
       "      <th>Actual Supply Flow Next_sum</th>\n",
       "      <th>Outside Air Temp Next_sum</th>\n",
       "      <th>Humidity Next_sum</th>\n",
       "      <th>energy Next_sum</th>\n",
       "      <th>count</th>\n",
       "      <th>factor</th>\n",
       "    </tr>\n",
       "    <tr>\n",
       "      <th>time_floored</th>\n",
       "      <th>Unnamed: 0.1</th>\n",
       "      <th></th>\n",
       "      <th></th>\n",
       "      <th></th>\n",
       "      <th></th>\n",
       "      <th></th>\n",
       "      <th></th>\n",
       "      <th></th>\n",
       "      <th></th>\n",
       "      <th></th>\n",
       "      <th></th>\n",
       "      <th></th>\n",
       "      <th></th>\n",
       "      <th></th>\n",
       "      <th></th>\n",
       "    </tr>\n",
       "  </thead>\n",
       "  <tbody>\n",
       "    <tr>\n",
       "      <th rowspan=\"4\" valign=\"top\">2017-07-07 13:30:00+00:00</th>\n",
       "      <th>0</th>\n",
       "      <td>433.0</td>\n",
       "      <td>939.75</td>\n",
       "      <td>450.00</td>\n",
       "      <td>1014.17</td>\n",
       "      <td>34.584364</td>\n",
       "      <td>407.64</td>\n",
       "      <td>378.0</td>\n",
       "      <td>450.00</td>\n",
       "      <td>1056.67</td>\n",
       "      <td>408.00</td>\n",
       "      <td>378.0</td>\n",
       "      <td>37.240799</td>\n",
       "      <td>6</td>\n",
       "      <td>1.5</td>\n",
       "    </tr>\n",
       "    <tr>\n",
       "      <th>1</th>\n",
       "      <td>433.0</td>\n",
       "      <td>933.75</td>\n",
       "      <td>450.00</td>\n",
       "      <td>1056.67</td>\n",
       "      <td>37.240799</td>\n",
       "      <td>408.00</td>\n",
       "      <td>378.0</td>\n",
       "      <td>450.00</td>\n",
       "      <td>1135.43</td>\n",
       "      <td>410.64</td>\n",
       "      <td>378.0</td>\n",
       "      <td>35.773216</td>\n",
       "      <td>6</td>\n",
       "      <td>1.5</td>\n",
       "    </tr>\n",
       "    <tr>\n",
       "      <th>2</th>\n",
       "      <td>433.0</td>\n",
       "      <td>938.23</td>\n",
       "      <td>450.00</td>\n",
       "      <td>1135.43</td>\n",
       "      <td>35.773216</td>\n",
       "      <td>410.64</td>\n",
       "      <td>378.0</td>\n",
       "      <td>450.00</td>\n",
       "      <td>1082.10</td>\n",
       "      <td>411.78</td>\n",
       "      <td>378.0</td>\n",
       "      <td>58.669832</td>\n",
       "      <td>6</td>\n",
       "      <td>1.5</td>\n",
       "    </tr>\n",
       "    <tr>\n",
       "      <th>3</th>\n",
       "      <td>433.0</td>\n",
       "      <td>929.33</td>\n",
       "      <td>450.00</td>\n",
       "      <td>1082.10</td>\n",
       "      <td>58.669832</td>\n",
       "      <td>411.78</td>\n",
       "      <td>378.0</td>\n",
       "      <td>451.01</td>\n",
       "      <td>1737.34</td>\n",
       "      <td>413.64</td>\n",
       "      <td>378.0</td>\n",
       "      <td>71.164954</td>\n",
       "      <td>6</td>\n",
       "      <td>1.5</td>\n",
       "    </tr>\n",
       "    <tr>\n",
       "      <th>2017-07-07 14:00:00+00:00</th>\n",
       "      <th>4</th>\n",
       "      <td>433.0</td>\n",
       "      <td>2068.26</td>\n",
       "      <td>451.01</td>\n",
       "      <td>1737.34</td>\n",
       "      <td>71.164954</td>\n",
       "      <td>413.64</td>\n",
       "      <td>378.0</td>\n",
       "      <td>448.86</td>\n",
       "      <td>2094.78</td>\n",
       "      <td>417.00</td>\n",
       "      <td>378.0</td>\n",
       "      <td>67.382468</td>\n",
       "      <td>6</td>\n",
       "      <td>1.5</td>\n",
       "    </tr>\n",
       "  </tbody>\n",
       "</table>\n",
       "</div>"
      ],
      "text/plain": [
       "                                        Common Setpoint_sum  \\\n",
       "time_floored              Unnamed: 0.1                        \n",
       "2017-07-07 13:30:00+00:00 0                           433.0   \n",
       "                          1                           433.0   \n",
       "                          2                           433.0   \n",
       "                          3                           433.0   \n",
       "2017-07-07 14:00:00+00:00 4                           433.0   \n",
       "\n",
       "                                        Actual Sup Flow SP_sum  \\\n",
       "time_floored              Unnamed: 0.1                           \n",
       "2017-07-07 13:30:00+00:00 0                             939.75   \n",
       "                          1                             933.75   \n",
       "                          2                             938.23   \n",
       "                          3                             929.33   \n",
       "2017-07-07 14:00:00+00:00 4                            2068.26   \n",
       "\n",
       "                                        Zone Temperature_sum  \\\n",
       "time_floored              Unnamed: 0.1                         \n",
       "2017-07-07 13:30:00+00:00 0                           450.00   \n",
       "                          1                           450.00   \n",
       "                          2                           450.00   \n",
       "                          3                           450.00   \n",
       "2017-07-07 14:00:00+00:00 4                           451.01   \n",
       "\n",
       "                                        Actual Supply Flow_sum  energy_sum  \\\n",
       "time_floored              Unnamed: 0.1                                       \n",
       "2017-07-07 13:30:00+00:00 0                            1014.17   34.584364   \n",
       "                          1                            1056.67   37.240799   \n",
       "                          2                            1135.43   35.773216   \n",
       "                          3                            1082.10   58.669832   \n",
       "2017-07-07 14:00:00+00:00 4                            1737.34   71.164954   \n",
       "\n",
       "                                        Outside Air Temp_sum  Humidity_sum  \\\n",
       "time_floored              Unnamed: 0.1                                       \n",
       "2017-07-07 13:30:00+00:00 0                           407.64         378.0   \n",
       "                          1                           408.00         378.0   \n",
       "                          2                           410.64         378.0   \n",
       "                          3                           411.78         378.0   \n",
       "2017-07-07 14:00:00+00:00 4                           413.64         378.0   \n",
       "\n",
       "                                        Zone Temperature Next_sum  \\\n",
       "time_floored              Unnamed: 0.1                              \n",
       "2017-07-07 13:30:00+00:00 0                                450.00   \n",
       "                          1                                450.00   \n",
       "                          2                                450.00   \n",
       "                          3                                451.01   \n",
       "2017-07-07 14:00:00+00:00 4                                448.86   \n",
       "\n",
       "                                        Actual Supply Flow Next_sum  \\\n",
       "time_floored              Unnamed: 0.1                                \n",
       "2017-07-07 13:30:00+00:00 0                                 1056.67   \n",
       "                          1                                 1135.43   \n",
       "                          2                                 1082.10   \n",
       "                          3                                 1737.34   \n",
       "2017-07-07 14:00:00+00:00 4                                 2094.78   \n",
       "\n",
       "                                        Outside Air Temp Next_sum  \\\n",
       "time_floored              Unnamed: 0.1                              \n",
       "2017-07-07 13:30:00+00:00 0                                408.00   \n",
       "                          1                                410.64   \n",
       "                          2                                411.78   \n",
       "                          3                                413.64   \n",
       "2017-07-07 14:00:00+00:00 4                                417.00   \n",
       "\n",
       "                                        Humidity Next_sum  energy Next_sum  \\\n",
       "time_floored              Unnamed: 0.1                                       \n",
       "2017-07-07 13:30:00+00:00 0                         378.0        37.240799   \n",
       "                          1                         378.0        35.773216   \n",
       "                          2                         378.0        58.669832   \n",
       "                          3                         378.0        71.164954   \n",
       "2017-07-07 14:00:00+00:00 4                         378.0        67.382468   \n",
       "\n",
       "                                        count  factor  \n",
       "time_floored              Unnamed: 0.1                 \n",
       "2017-07-07 13:30:00+00:00 0                 6     1.5  \n",
       "                          1                 6     1.5  \n",
       "                          2                 6     1.5  \n",
       "                          3                 6     1.5  \n",
       "2017-07-07 14:00:00+00:00 4                 6     1.5  "
      ]
     },
     "execution_count": 43,
     "metadata": {},
     "output_type": "execute_result"
    }
   ],
   "source": [
    "counts_sums.head()"
   ]
  },
  {
   "cell_type": "code",
   "execution_count": 44,
   "id": "266a5cad",
   "metadata": {},
   "outputs": [],
   "source": [
    "count_sums_mod = counts_sums.multiply(count_factors, axis = 'index')"
   ]
  },
  {
   "cell_type": "code",
   "execution_count": 45,
   "id": "57c9cfb6",
   "metadata": {},
   "outputs": [
    {
     "data": {
      "text/plain": [
       "9.0    128799\n",
       "Name: count, dtype: int64"
      ]
     },
     "execution_count": 45,
     "metadata": {},
     "output_type": "execute_result"
    }
   ],
   "source": [
    "count_sums_mod['count'].value_counts()"
   ]
  },
  {
   "cell_type": "code",
   "execution_count": 46,
   "id": "46be920e",
   "metadata": {},
   "outputs": [
    {
     "data": {
      "text/html": [
       "<div>\n",
       "<style scoped>\n",
       "    .dataframe tbody tr th:only-of-type {\n",
       "        vertical-align: middle;\n",
       "    }\n",
       "\n",
       "    .dataframe tbody tr th {\n",
       "        vertical-align: top;\n",
       "    }\n",
       "\n",
       "    .dataframe thead th {\n",
       "        text-align: right;\n",
       "    }\n",
       "</style>\n",
       "<table border=\"1\" class=\"dataframe\">\n",
       "  <thead>\n",
       "    <tr style=\"text-align: right;\">\n",
       "      <th></th>\n",
       "      <th></th>\n",
       "      <th>Common Setpoint_sum</th>\n",
       "      <th>Actual Sup Flow SP_sum</th>\n",
       "      <th>Zone Temperature_sum</th>\n",
       "      <th>Actual Supply Flow_sum</th>\n",
       "      <th>energy_sum</th>\n",
       "      <th>Outside Air Temp_sum</th>\n",
       "      <th>Humidity_sum</th>\n",
       "      <th>Zone Temperature Next_sum</th>\n",
       "      <th>Actual Supply Flow Next_sum</th>\n",
       "      <th>Outside Air Temp Next_sum</th>\n",
       "      <th>Humidity Next_sum</th>\n",
       "      <th>energy Next_sum</th>\n",
       "      <th>count</th>\n",
       "      <th>factor</th>\n",
       "    </tr>\n",
       "    <tr>\n",
       "      <th>time_floored</th>\n",
       "      <th>Unnamed: 0.1</th>\n",
       "      <th></th>\n",
       "      <th></th>\n",
       "      <th></th>\n",
       "      <th></th>\n",
       "      <th></th>\n",
       "      <th></th>\n",
       "      <th></th>\n",
       "      <th></th>\n",
       "      <th></th>\n",
       "      <th></th>\n",
       "      <th></th>\n",
       "      <th></th>\n",
       "      <th></th>\n",
       "      <th></th>\n",
       "    </tr>\n",
       "  </thead>\n",
       "  <tbody>\n",
       "    <tr>\n",
       "      <th rowspan=\"4\" valign=\"top\">2017-07-07 13:30:00+00:00</th>\n",
       "      <th>0</th>\n",
       "      <td>649.5</td>\n",
       "      <td>1409.625</td>\n",
       "      <td>675.000</td>\n",
       "      <td>1521.255</td>\n",
       "      <td>51.876546</td>\n",
       "      <td>611.46</td>\n",
       "      <td>567.0</td>\n",
       "      <td>675.000</td>\n",
       "      <td>1585.005</td>\n",
       "      <td>612.00</td>\n",
       "      <td>567.0</td>\n",
       "      <td>55.861199</td>\n",
       "      <td>9.0</td>\n",
       "      <td>2.25</td>\n",
       "    </tr>\n",
       "    <tr>\n",
       "      <th>1</th>\n",
       "      <td>649.5</td>\n",
       "      <td>1400.625</td>\n",
       "      <td>675.000</td>\n",
       "      <td>1585.005</td>\n",
       "      <td>55.861199</td>\n",
       "      <td>612.00</td>\n",
       "      <td>567.0</td>\n",
       "      <td>675.000</td>\n",
       "      <td>1703.145</td>\n",
       "      <td>615.96</td>\n",
       "      <td>567.0</td>\n",
       "      <td>53.659825</td>\n",
       "      <td>9.0</td>\n",
       "      <td>2.25</td>\n",
       "    </tr>\n",
       "    <tr>\n",
       "      <th>2</th>\n",
       "      <td>649.5</td>\n",
       "      <td>1407.345</td>\n",
       "      <td>675.000</td>\n",
       "      <td>1703.145</td>\n",
       "      <td>53.659825</td>\n",
       "      <td>615.96</td>\n",
       "      <td>567.0</td>\n",
       "      <td>675.000</td>\n",
       "      <td>1623.150</td>\n",
       "      <td>617.67</td>\n",
       "      <td>567.0</td>\n",
       "      <td>88.004748</td>\n",
       "      <td>9.0</td>\n",
       "      <td>2.25</td>\n",
       "    </tr>\n",
       "    <tr>\n",
       "      <th>3</th>\n",
       "      <td>649.5</td>\n",
       "      <td>1393.995</td>\n",
       "      <td>675.000</td>\n",
       "      <td>1623.150</td>\n",
       "      <td>88.004748</td>\n",
       "      <td>617.67</td>\n",
       "      <td>567.0</td>\n",
       "      <td>676.515</td>\n",
       "      <td>2606.010</td>\n",
       "      <td>620.46</td>\n",
       "      <td>567.0</td>\n",
       "      <td>106.747430</td>\n",
       "      <td>9.0</td>\n",
       "      <td>2.25</td>\n",
       "    </tr>\n",
       "    <tr>\n",
       "      <th>2017-07-07 14:00:00+00:00</th>\n",
       "      <th>4</th>\n",
       "      <td>649.5</td>\n",
       "      <td>3102.390</td>\n",
       "      <td>676.515</td>\n",
       "      <td>2606.010</td>\n",
       "      <td>106.747430</td>\n",
       "      <td>620.46</td>\n",
       "      <td>567.0</td>\n",
       "      <td>673.290</td>\n",
       "      <td>3142.170</td>\n",
       "      <td>625.50</td>\n",
       "      <td>567.0</td>\n",
       "      <td>101.073703</td>\n",
       "      <td>9.0</td>\n",
       "      <td>2.25</td>\n",
       "    </tr>\n",
       "  </tbody>\n",
       "</table>\n",
       "</div>"
      ],
      "text/plain": [
       "                                        Common Setpoint_sum  \\\n",
       "time_floored              Unnamed: 0.1                        \n",
       "2017-07-07 13:30:00+00:00 0                           649.5   \n",
       "                          1                           649.5   \n",
       "                          2                           649.5   \n",
       "                          3                           649.5   \n",
       "2017-07-07 14:00:00+00:00 4                           649.5   \n",
       "\n",
       "                                        Actual Sup Flow SP_sum  \\\n",
       "time_floored              Unnamed: 0.1                           \n",
       "2017-07-07 13:30:00+00:00 0                           1409.625   \n",
       "                          1                           1400.625   \n",
       "                          2                           1407.345   \n",
       "                          3                           1393.995   \n",
       "2017-07-07 14:00:00+00:00 4                           3102.390   \n",
       "\n",
       "                                        Zone Temperature_sum  \\\n",
       "time_floored              Unnamed: 0.1                         \n",
       "2017-07-07 13:30:00+00:00 0                          675.000   \n",
       "                          1                          675.000   \n",
       "                          2                          675.000   \n",
       "                          3                          675.000   \n",
       "2017-07-07 14:00:00+00:00 4                          676.515   \n",
       "\n",
       "                                        Actual Supply Flow_sum  energy_sum  \\\n",
       "time_floored              Unnamed: 0.1                                       \n",
       "2017-07-07 13:30:00+00:00 0                           1521.255   51.876546   \n",
       "                          1                           1585.005   55.861199   \n",
       "                          2                           1703.145   53.659825   \n",
       "                          3                           1623.150   88.004748   \n",
       "2017-07-07 14:00:00+00:00 4                           2606.010  106.747430   \n",
       "\n",
       "                                        Outside Air Temp_sum  Humidity_sum  \\\n",
       "time_floored              Unnamed: 0.1                                       \n",
       "2017-07-07 13:30:00+00:00 0                           611.46         567.0   \n",
       "                          1                           612.00         567.0   \n",
       "                          2                           615.96         567.0   \n",
       "                          3                           617.67         567.0   \n",
       "2017-07-07 14:00:00+00:00 4                           620.46         567.0   \n",
       "\n",
       "                                        Zone Temperature Next_sum  \\\n",
       "time_floored              Unnamed: 0.1                              \n",
       "2017-07-07 13:30:00+00:00 0                               675.000   \n",
       "                          1                               675.000   \n",
       "                          2                               675.000   \n",
       "                          3                               676.515   \n",
       "2017-07-07 14:00:00+00:00 4                               673.290   \n",
       "\n",
       "                                        Actual Supply Flow Next_sum  \\\n",
       "time_floored              Unnamed: 0.1                                \n",
       "2017-07-07 13:30:00+00:00 0                                1585.005   \n",
       "                          1                                1703.145   \n",
       "                          2                                1623.150   \n",
       "                          3                                2606.010   \n",
       "2017-07-07 14:00:00+00:00 4                                3142.170   \n",
       "\n",
       "                                        Outside Air Temp Next_sum  \\\n",
       "time_floored              Unnamed: 0.1                              \n",
       "2017-07-07 13:30:00+00:00 0                                612.00   \n",
       "                          1                                615.96   \n",
       "                          2                                617.67   \n",
       "                          3                                620.46   \n",
       "2017-07-07 14:00:00+00:00 4                                625.50   \n",
       "\n",
       "                                        Humidity Next_sum  energy Next_sum  \\\n",
       "time_floored              Unnamed: 0.1                                       \n",
       "2017-07-07 13:30:00+00:00 0                         567.0        55.861199   \n",
       "                          1                         567.0        53.659825   \n",
       "                          2                         567.0        88.004748   \n",
       "                          3                         567.0       106.747430   \n",
       "2017-07-07 14:00:00+00:00 4                         567.0       101.073703   \n",
       "\n",
       "                                        count  factor  \n",
       "time_floored              Unnamed: 0.1                 \n",
       "2017-07-07 13:30:00+00:00 0               9.0    2.25  \n",
       "                          1               9.0    2.25  \n",
       "                          2               9.0    2.25  \n",
       "                          3               9.0    2.25  \n",
       "2017-07-07 14:00:00+00:00 4               9.0    2.25  "
      ]
     },
     "execution_count": 46,
     "metadata": {},
     "output_type": "execute_result"
    }
   ],
   "source": [
    "count_sums_mod.head(5)"
   ]
  },
  {
   "cell_type": "code",
   "execution_count": 56,
   "id": "ff9d1734",
   "metadata": {},
   "outputs": [
    {
     "data": {
      "text/plain": [
       " 0.000000     106712\n",
       "-14.160707         1\n",
       "-48.493978         1\n",
       "-34.130220         1\n",
       " 2.587150          1\n",
       "               ...  \n",
       "-24.019343         1\n",
       "-59.951763         1\n",
       "-11.518552         1\n",
       " 21.757199         1\n",
       " 85.433341         1\n",
       "Length: 22087, dtype: int64"
      ]
     },
     "execution_count": 56,
     "metadata": {},
     "output_type": "execute_result"
    }
   ],
   "source": [
    "pd.Series(count_sums_mod['energy Next_sum'].values[:-1] - count_sums_mod['energy_sum'].values[1:]).value_counts()"
   ]
  },
  {
   "cell_type": "code",
   "execution_count": 59,
   "id": "e9b75077",
   "metadata": {},
   "outputs": [],
   "source": [
    "reset_sumsmod = count_sums_mod.reset_index()"
   ]
  },
  {
   "cell_type": "code",
   "execution_count": 64,
   "id": "b3112c88",
   "metadata": {},
   "outputs": [
    {
     "data": {
      "text/html": [
       "<div>\n",
       "<style scoped>\n",
       "    .dataframe tbody tr th:only-of-type {\n",
       "        vertical-align: middle;\n",
       "    }\n",
       "\n",
       "    .dataframe tbody tr th {\n",
       "        vertical-align: top;\n",
       "    }\n",
       "\n",
       "    .dataframe thead th {\n",
       "        text-align: right;\n",
       "    }\n",
       "</style>\n",
       "<table border=\"1\" class=\"dataframe\">\n",
       "  <thead>\n",
       "    <tr style=\"text-align: right;\">\n",
       "      <th></th>\n",
       "      <th>time_floored</th>\n",
       "      <th>Unnamed: 0.1</th>\n",
       "      <th>Common Setpoint_sum</th>\n",
       "      <th>Actual Sup Flow SP_sum</th>\n",
       "      <th>Zone Temperature_sum</th>\n",
       "      <th>Actual Supply Flow_sum</th>\n",
       "      <th>energy_sum</th>\n",
       "      <th>Outside Air Temp_sum</th>\n",
       "      <th>Humidity_sum</th>\n",
       "      <th>Zone Temperature Next_sum</th>\n",
       "      <th>Actual Supply Flow Next_sum</th>\n",
       "      <th>Outside Air Temp Next_sum</th>\n",
       "      <th>Humidity Next_sum</th>\n",
       "      <th>energy Next_sum</th>\n",
       "      <th>count</th>\n",
       "      <th>factor</th>\n",
       "    </tr>\n",
       "  </thead>\n",
       "  <tbody>\n",
       "    <tr>\n",
       "      <th>15</th>\n",
       "      <td>2017-07-07 15:00:00+00:00</td>\n",
       "      <td>15</td>\n",
       "      <td>649.5</td>\n",
       "      <td>3274.140</td>\n",
       "      <td>670.11</td>\n",
       "      <td>3173.760</td>\n",
       "      <td>120.498629</td>\n",
       "      <td>658.71</td>\n",
       "      <td>567.0</td>\n",
       "      <td>668.55</td>\n",
       "      <td>3632.925</td>\n",
       "      <td>658.71</td>\n",
       "      <td>567.0</td>\n",
       "      <td>100.376203</td>\n",
       "      <td>9.0</td>\n",
       "      <td>2.25</td>\n",
       "    </tr>\n",
       "    <tr>\n",
       "      <th>16</th>\n",
       "      <td>2017-07-07 15:00:00+00:00</td>\n",
       "      <td>16</td>\n",
       "      <td>649.5</td>\n",
       "      <td>3520.755</td>\n",
       "      <td>668.55</td>\n",
       "      <td>3632.925</td>\n",
       "      <td>100.376203</td>\n",
       "      <td>658.71</td>\n",
       "      <td>567.0</td>\n",
       "      <td>666.99</td>\n",
       "      <td>3052.455</td>\n",
       "      <td>668.79</td>\n",
       "      <td>567.0</td>\n",
       "      <td>90.069662</td>\n",
       "      <td>9.0</td>\n",
       "      <td>2.25</td>\n",
       "    </tr>\n",
       "    <tr>\n",
       "      <th>17</th>\n",
       "      <td>2017-07-07 15:00:00+00:00</td>\n",
       "      <td>17</td>\n",
       "      <td>649.5</td>\n",
       "      <td>2973.555</td>\n",
       "      <td>666.99</td>\n",
       "      <td>3052.455</td>\n",
       "      <td>90.069662</td>\n",
       "      <td>668.79</td>\n",
       "      <td>567.0</td>\n",
       "      <td>666.99</td>\n",
       "      <td>2772.885</td>\n",
       "      <td>673.29</td>\n",
       "      <td>558.0</td>\n",
       "      <td>89.530087</td>\n",
       "      <td>9.0</td>\n",
       "      <td>2.25</td>\n",
       "    </tr>\n",
       "    <tr>\n",
       "      <th>18</th>\n",
       "      <td>2017-07-07 15:00:00+00:00</td>\n",
       "      <td>18</td>\n",
       "      <td>649.5</td>\n",
       "      <td>2824.020</td>\n",
       "      <td>666.99</td>\n",
       "      <td>2772.885</td>\n",
       "      <td>89.530087</td>\n",
       "      <td>673.29</td>\n",
       "      <td>558.0</td>\n",
       "      <td>666.24</td>\n",
       "      <td>2766.495</td>\n",
       "      <td>675.54</td>\n",
       "      <td>558.0</td>\n",
       "      <td>91.221992</td>\n",
       "      <td>9.0</td>\n",
       "      <td>2.25</td>\n",
       "    </tr>\n",
       "    <tr>\n",
       "      <th>19</th>\n",
       "      <td>2017-07-07 15:00:00+00:00</td>\n",
       "      <td>19</td>\n",
       "      <td>649.5</td>\n",
       "      <td>2733.825</td>\n",
       "      <td>666.24</td>\n",
       "      <td>2766.495</td>\n",
       "      <td>91.221992</td>\n",
       "      <td>675.54</td>\n",
       "      <td>558.0</td>\n",
       "      <td>664.68</td>\n",
       "      <td>2821.125</td>\n",
       "      <td>678.96</td>\n",
       "      <td>558.0</td>\n",
       "      <td>105.548529</td>\n",
       "      <td>9.0</td>\n",
       "      <td>2.25</td>\n",
       "    </tr>\n",
       "    <tr>\n",
       "      <th>20</th>\n",
       "      <td>2017-07-07 15:00:00+00:00</td>\n",
       "      <td>20</td>\n",
       "      <td>649.5</td>\n",
       "      <td>2887.350</td>\n",
       "      <td>664.68</td>\n",
       "      <td>2821.125</td>\n",
       "      <td>105.548529</td>\n",
       "      <td>678.96</td>\n",
       "      <td>558.0</td>\n",
       "      <td>664.68</td>\n",
       "      <td>3236.220</td>\n",
       "      <td>679.50</td>\n",
       "      <td>558.0</td>\n",
       "      <td>92.678163</td>\n",
       "      <td>9.0</td>\n",
       "      <td>2.25</td>\n",
       "    </tr>\n",
       "  </tbody>\n",
       "</table>\n",
       "</div>"
      ],
      "text/plain": [
       "                time_floored  Unnamed: 0.1  Common Setpoint_sum  \\\n",
       "15 2017-07-07 15:00:00+00:00            15                649.5   \n",
       "16 2017-07-07 15:00:00+00:00            16                649.5   \n",
       "17 2017-07-07 15:00:00+00:00            17                649.5   \n",
       "18 2017-07-07 15:00:00+00:00            18                649.5   \n",
       "19 2017-07-07 15:00:00+00:00            19                649.5   \n",
       "20 2017-07-07 15:00:00+00:00            20                649.5   \n",
       "\n",
       "    Actual Sup Flow SP_sum  Zone Temperature_sum  Actual Supply Flow_sum  \\\n",
       "15                3274.140                670.11                3173.760   \n",
       "16                3520.755                668.55                3632.925   \n",
       "17                2973.555                666.99                3052.455   \n",
       "18                2824.020                666.99                2772.885   \n",
       "19                2733.825                666.24                2766.495   \n",
       "20                2887.350                664.68                2821.125   \n",
       "\n",
       "    energy_sum  Outside Air Temp_sum  Humidity_sum  Zone Temperature Next_sum  \\\n",
       "15  120.498629                658.71         567.0                     668.55   \n",
       "16  100.376203                658.71         567.0                     666.99   \n",
       "17   90.069662                668.79         567.0                     666.99   \n",
       "18   89.530087                673.29         558.0                     666.24   \n",
       "19   91.221992                675.54         558.0                     664.68   \n",
       "20  105.548529                678.96         558.0                     664.68   \n",
       "\n",
       "    Actual Supply Flow Next_sum  Outside Air Temp Next_sum  Humidity Next_sum  \\\n",
       "15                     3632.925                     658.71              567.0   \n",
       "16                     3052.455                     668.79              567.0   \n",
       "17                     2772.885                     673.29              558.0   \n",
       "18                     2766.495                     675.54              558.0   \n",
       "19                     2821.125                     678.96              558.0   \n",
       "20                     3236.220                     679.50              558.0   \n",
       "\n",
       "    energy Next_sum  count  factor  \n",
       "15       100.376203    9.0    2.25  \n",
       "16        90.069662    9.0    2.25  \n",
       "17        89.530087    9.0    2.25  \n",
       "18        91.221992    9.0    2.25  \n",
       "19       105.548529    9.0    2.25  \n",
       "20        92.678163    9.0    2.25  "
      ]
     },
     "execution_count": 64,
     "metadata": {},
     "output_type": "execute_result"
    }
   ],
   "source": [
    "reset_sumsmod.loc[reset_sumsmod['time_floored'] == '2017-07-07 15:00:00+00:00']"
   ]
  },
  {
   "cell_type": "code",
   "execution_count": 25,
   "id": "2e6680b6",
   "metadata": {},
   "outputs": [
    {
     "data": {
      "text/plain": [
       "Index(['Common Setpoint_sum', 'Actual Sup Flow SP_sum', 'Zone Temperature_sum',\n",
       "       'Actual Supply Flow_sum', 'energy_sum', 'Outside Air Temp_sum',\n",
       "       'Humidity_sum', 'Zone Temperature Next_sum',\n",
       "       'Actual Supply Flow Next_sum', 'Outside Air Temp Next_sum',\n",
       "       'Humidity Next_sum', 'energy Next_sum', 'count', 'factor'],\n",
       "      dtype='object')"
      ]
     },
     "execution_count": 25,
     "metadata": {},
     "output_type": "execute_result"
    }
   ],
   "source": [
    "count_sums_mod.columns"
   ]
  },
  {
   "cell_type": "code",
   "execution_count": 27,
   "id": "a10b5873",
   "metadata": {},
   "outputs": [],
   "source": [
    "sums_avgs = count_sums_mod.merge(grouped_df_means, left_index = True, right_index = True)"
   ]
  },
  {
   "cell_type": "code",
   "execution_count": 29,
   "id": "536a4e6e",
   "metadata": {},
   "outputs": [
    {
     "data": {
      "text/html": [
       "<div>\n",
       "<style scoped>\n",
       "    .dataframe tbody tr th:only-of-type {\n",
       "        vertical-align: middle;\n",
       "    }\n",
       "\n",
       "    .dataframe tbody tr th {\n",
       "        vertical-align: top;\n",
       "    }\n",
       "\n",
       "    .dataframe thead th {\n",
       "        text-align: right;\n",
       "    }\n",
       "</style>\n",
       "<table border=\"1\" class=\"dataframe\">\n",
       "  <thead>\n",
       "    <tr style=\"text-align: right;\">\n",
       "      <th></th>\n",
       "      <th></th>\n",
       "      <th>Common Setpoint_sum</th>\n",
       "      <th>Actual Sup Flow SP_sum</th>\n",
       "      <th>Zone Temperature_sum</th>\n",
       "      <th>Actual Supply Flow_sum</th>\n",
       "      <th>energy_sum</th>\n",
       "      <th>Outside Air Temp_sum</th>\n",
       "      <th>Humidity_sum</th>\n",
       "      <th>Zone Temperature Next_sum</th>\n",
       "      <th>Actual Supply Flow Next_sum</th>\n",
       "      <th>Outside Air Temp Next_sum</th>\n",
       "      <th>...</th>\n",
       "      <th>Actual Supply Flow_mean</th>\n",
       "      <th>energy_mean</th>\n",
       "      <th>Outside Air Temp_mean</th>\n",
       "      <th>Humidity_mean</th>\n",
       "      <th>Zone Temperature Next_mean</th>\n",
       "      <th>Actual Supply Flow Next_mean</th>\n",
       "      <th>Outside Air Temp Next_mean</th>\n",
       "      <th>Humidity Next_mean</th>\n",
       "      <th>energy Next_mean</th>\n",
       "      <th>floor_mean</th>\n",
       "    </tr>\n",
       "    <tr>\n",
       "      <th>time_floored</th>\n",
       "      <th>Unnamed: 0.1</th>\n",
       "      <th></th>\n",
       "      <th></th>\n",
       "      <th></th>\n",
       "      <th></th>\n",
       "      <th></th>\n",
       "      <th></th>\n",
       "      <th></th>\n",
       "      <th></th>\n",
       "      <th></th>\n",
       "      <th></th>\n",
       "      <th></th>\n",
       "      <th></th>\n",
       "      <th></th>\n",
       "      <th></th>\n",
       "      <th></th>\n",
       "      <th></th>\n",
       "      <th></th>\n",
       "      <th></th>\n",
       "      <th></th>\n",
       "      <th></th>\n",
       "      <th></th>\n",
       "    </tr>\n",
       "  </thead>\n",
       "  <tbody>\n",
       "    <tr>\n",
       "      <th rowspan=\"4\" valign=\"top\">2017-07-07 13:30:00+00:00</th>\n",
       "      <th>0</th>\n",
       "      <td>649.5</td>\n",
       "      <td>1409.625</td>\n",
       "      <td>675.000</td>\n",
       "      <td>1521.255</td>\n",
       "      <td>51.876546</td>\n",
       "      <td>611.46</td>\n",
       "      <td>567.0</td>\n",
       "      <td>675.000</td>\n",
       "      <td>1585.005</td>\n",
       "      <td>612.00</td>\n",
       "      <td>...</td>\n",
       "      <td>169.028333</td>\n",
       "      <td>5.764061</td>\n",
       "      <td>67.94</td>\n",
       "      <td>63.0</td>\n",
       "      <td>75.000000</td>\n",
       "      <td>176.111667</td>\n",
       "      <td>68.00</td>\n",
       "      <td>63.0</td>\n",
       "      <td>6.206800</td>\n",
       "      <td>2.0</td>\n",
       "    </tr>\n",
       "    <tr>\n",
       "      <th>1</th>\n",
       "      <td>649.5</td>\n",
       "      <td>1400.625</td>\n",
       "      <td>675.000</td>\n",
       "      <td>1585.005</td>\n",
       "      <td>55.861199</td>\n",
       "      <td>612.00</td>\n",
       "      <td>567.0</td>\n",
       "      <td>675.000</td>\n",
       "      <td>1703.145</td>\n",
       "      <td>615.96</td>\n",
       "      <td>...</td>\n",
       "      <td>176.111667</td>\n",
       "      <td>6.206800</td>\n",
       "      <td>68.00</td>\n",
       "      <td>63.0</td>\n",
       "      <td>75.000000</td>\n",
       "      <td>189.238333</td>\n",
       "      <td>68.44</td>\n",
       "      <td>63.0</td>\n",
       "      <td>5.962203</td>\n",
       "      <td>2.0</td>\n",
       "    </tr>\n",
       "    <tr>\n",
       "      <th>2</th>\n",
       "      <td>649.5</td>\n",
       "      <td>1407.345</td>\n",
       "      <td>675.000</td>\n",
       "      <td>1703.145</td>\n",
       "      <td>53.659825</td>\n",
       "      <td>615.96</td>\n",
       "      <td>567.0</td>\n",
       "      <td>675.000</td>\n",
       "      <td>1623.150</td>\n",
       "      <td>617.67</td>\n",
       "      <td>...</td>\n",
       "      <td>189.238333</td>\n",
       "      <td>5.962203</td>\n",
       "      <td>68.44</td>\n",
       "      <td>63.0</td>\n",
       "      <td>75.000000</td>\n",
       "      <td>180.350000</td>\n",
       "      <td>68.63</td>\n",
       "      <td>63.0</td>\n",
       "      <td>9.778305</td>\n",
       "      <td>2.0</td>\n",
       "    </tr>\n",
       "    <tr>\n",
       "      <th>3</th>\n",
       "      <td>649.5</td>\n",
       "      <td>1393.995</td>\n",
       "      <td>675.000</td>\n",
       "      <td>1623.150</td>\n",
       "      <td>88.004748</td>\n",
       "      <td>617.67</td>\n",
       "      <td>567.0</td>\n",
       "      <td>676.515</td>\n",
       "      <td>2606.010</td>\n",
       "      <td>620.46</td>\n",
       "      <td>...</td>\n",
       "      <td>180.350000</td>\n",
       "      <td>9.778305</td>\n",
       "      <td>68.63</td>\n",
       "      <td>63.0</td>\n",
       "      <td>75.168333</td>\n",
       "      <td>289.556667</td>\n",
       "      <td>68.94</td>\n",
       "      <td>63.0</td>\n",
       "      <td>11.860826</td>\n",
       "      <td>2.0</td>\n",
       "    </tr>\n",
       "    <tr>\n",
       "      <th>2017-07-07 14:00:00+00:00</th>\n",
       "      <th>4</th>\n",
       "      <td>649.5</td>\n",
       "      <td>3102.390</td>\n",
       "      <td>676.515</td>\n",
       "      <td>2606.010</td>\n",
       "      <td>106.747430</td>\n",
       "      <td>620.46</td>\n",
       "      <td>567.0</td>\n",
       "      <td>673.290</td>\n",
       "      <td>3142.170</td>\n",
       "      <td>625.50</td>\n",
       "      <td>...</td>\n",
       "      <td>289.556667</td>\n",
       "      <td>11.860826</td>\n",
       "      <td>68.94</td>\n",
       "      <td>63.0</td>\n",
       "      <td>74.810000</td>\n",
       "      <td>349.130000</td>\n",
       "      <td>69.50</td>\n",
       "      <td>63.0</td>\n",
       "      <td>11.230411</td>\n",
       "      <td>2.0</td>\n",
       "    </tr>\n",
       "  </tbody>\n",
       "</table>\n",
       "<p>5 rows × 27 columns</p>\n",
       "</div>"
      ],
      "text/plain": [
       "                                        Common Setpoint_sum  \\\n",
       "time_floored              Unnamed: 0.1                        \n",
       "2017-07-07 13:30:00+00:00 0                           649.5   \n",
       "                          1                           649.5   \n",
       "                          2                           649.5   \n",
       "                          3                           649.5   \n",
       "2017-07-07 14:00:00+00:00 4                           649.5   \n",
       "\n",
       "                                        Actual Sup Flow SP_sum  \\\n",
       "time_floored              Unnamed: 0.1                           \n",
       "2017-07-07 13:30:00+00:00 0                           1409.625   \n",
       "                          1                           1400.625   \n",
       "                          2                           1407.345   \n",
       "                          3                           1393.995   \n",
       "2017-07-07 14:00:00+00:00 4                           3102.390   \n",
       "\n",
       "                                        Zone Temperature_sum  \\\n",
       "time_floored              Unnamed: 0.1                         \n",
       "2017-07-07 13:30:00+00:00 0                          675.000   \n",
       "                          1                          675.000   \n",
       "                          2                          675.000   \n",
       "                          3                          675.000   \n",
       "2017-07-07 14:00:00+00:00 4                          676.515   \n",
       "\n",
       "                                        Actual Supply Flow_sum  energy_sum  \\\n",
       "time_floored              Unnamed: 0.1                                       \n",
       "2017-07-07 13:30:00+00:00 0                           1521.255   51.876546   \n",
       "                          1                           1585.005   55.861199   \n",
       "                          2                           1703.145   53.659825   \n",
       "                          3                           1623.150   88.004748   \n",
       "2017-07-07 14:00:00+00:00 4                           2606.010  106.747430   \n",
       "\n",
       "                                        Outside Air Temp_sum  Humidity_sum  \\\n",
       "time_floored              Unnamed: 0.1                                       \n",
       "2017-07-07 13:30:00+00:00 0                           611.46         567.0   \n",
       "                          1                           612.00         567.0   \n",
       "                          2                           615.96         567.0   \n",
       "                          3                           617.67         567.0   \n",
       "2017-07-07 14:00:00+00:00 4                           620.46         567.0   \n",
       "\n",
       "                                        Zone Temperature Next_sum  \\\n",
       "time_floored              Unnamed: 0.1                              \n",
       "2017-07-07 13:30:00+00:00 0                               675.000   \n",
       "                          1                               675.000   \n",
       "                          2                               675.000   \n",
       "                          3                               676.515   \n",
       "2017-07-07 14:00:00+00:00 4                               673.290   \n",
       "\n",
       "                                        Actual Supply Flow Next_sum  \\\n",
       "time_floored              Unnamed: 0.1                                \n",
       "2017-07-07 13:30:00+00:00 0                                1585.005   \n",
       "                          1                                1703.145   \n",
       "                          2                                1623.150   \n",
       "                          3                                2606.010   \n",
       "2017-07-07 14:00:00+00:00 4                                3142.170   \n",
       "\n",
       "                                        Outside Air Temp Next_sum  ...  \\\n",
       "time_floored              Unnamed: 0.1                             ...   \n",
       "2017-07-07 13:30:00+00:00 0                                612.00  ...   \n",
       "                          1                                615.96  ...   \n",
       "                          2                                617.67  ...   \n",
       "                          3                                620.46  ...   \n",
       "2017-07-07 14:00:00+00:00 4                                625.50  ...   \n",
       "\n",
       "                                        Actual Supply Flow_mean  energy_mean  \\\n",
       "time_floored              Unnamed: 0.1                                         \n",
       "2017-07-07 13:30:00+00:00 0                          169.028333     5.764061   \n",
       "                          1                          176.111667     6.206800   \n",
       "                          2                          189.238333     5.962203   \n",
       "                          3                          180.350000     9.778305   \n",
       "2017-07-07 14:00:00+00:00 4                          289.556667    11.860826   \n",
       "\n",
       "                                        Outside Air Temp_mean  Humidity_mean  \\\n",
       "time_floored              Unnamed: 0.1                                         \n",
       "2017-07-07 13:30:00+00:00 0                             67.94           63.0   \n",
       "                          1                             68.00           63.0   \n",
       "                          2                             68.44           63.0   \n",
       "                          3                             68.63           63.0   \n",
       "2017-07-07 14:00:00+00:00 4                             68.94           63.0   \n",
       "\n",
       "                                        Zone Temperature Next_mean  \\\n",
       "time_floored              Unnamed: 0.1                               \n",
       "2017-07-07 13:30:00+00:00 0                              75.000000   \n",
       "                          1                              75.000000   \n",
       "                          2                              75.000000   \n",
       "                          3                              75.168333   \n",
       "2017-07-07 14:00:00+00:00 4                              74.810000   \n",
       "\n",
       "                                        Actual Supply Flow Next_mean  \\\n",
       "time_floored              Unnamed: 0.1                                 \n",
       "2017-07-07 13:30:00+00:00 0                               176.111667   \n",
       "                          1                               189.238333   \n",
       "                          2                               180.350000   \n",
       "                          3                               289.556667   \n",
       "2017-07-07 14:00:00+00:00 4                               349.130000   \n",
       "\n",
       "                                        Outside Air Temp Next_mean  \\\n",
       "time_floored              Unnamed: 0.1                               \n",
       "2017-07-07 13:30:00+00:00 0                                  68.00   \n",
       "                          1                                  68.44   \n",
       "                          2                                  68.63   \n",
       "                          3                                  68.94   \n",
       "2017-07-07 14:00:00+00:00 4                                  69.50   \n",
       "\n",
       "                                        Humidity Next_mean  energy Next_mean  \\\n",
       "time_floored              Unnamed: 0.1                                         \n",
       "2017-07-07 13:30:00+00:00 0                           63.0          6.206800   \n",
       "                          1                           63.0          5.962203   \n",
       "                          2                           63.0          9.778305   \n",
       "                          3                           63.0         11.860826   \n",
       "2017-07-07 14:00:00+00:00 4                           63.0         11.230411   \n",
       "\n",
       "                                        floor_mean  \n",
       "time_floored              Unnamed: 0.1              \n",
       "2017-07-07 13:30:00+00:00 0                    2.0  \n",
       "                          1                    2.0  \n",
       "                          2                    2.0  \n",
       "                          3                    2.0  \n",
       "2017-07-07 14:00:00+00:00 4                    2.0  \n",
       "\n",
       "[5 rows x 27 columns]"
      ]
     },
     "execution_count": 29,
     "metadata": {},
     "output_type": "execute_result"
    }
   ],
   "source": [
    "sums_avgs.head(5)"
   ]
  },
  {
   "cell_type": "code",
   "execution_count": 31,
   "id": "2bc98bf9",
   "metadata": {},
   "outputs": [
    {
     "data": {
      "text/plain": [
       "(128799, 14)"
      ]
     },
     "execution_count": 31,
     "metadata": {},
     "output_type": "execute_result"
    }
   ],
   "source": [
    "count_sums_mod.shape"
   ]
  },
  {
   "cell_type": "code",
   "execution_count": 30,
   "id": "d5cd6f62",
   "metadata": {},
   "outputs": [
    {
     "data": {
      "text/plain": [
       "(128799, 27)"
      ]
     },
     "execution_count": 30,
     "metadata": {},
     "output_type": "execute_result"
    }
   ],
   "source": [
    "sums_avgs.shape"
   ]
  },
  {
   "cell_type": "code",
   "execution_count": 32,
   "id": "52853bad",
   "metadata": {},
   "outputs": [
    {
     "data": {
      "text/plain": [
       "(128799, 13)"
      ]
     },
     "execution_count": 32,
     "metadata": {},
     "output_type": "execute_result"
    }
   ],
   "source": [
    "grouped_df_means.shape"
   ]
  },
  {
   "cell_type": "code",
   "execution_count": 40,
   "id": "a82715cb",
   "metadata": {},
   "outputs": [
    {
     "data": {
      "text/plain": [
       "Common Setpoint_sum              649.500000\n",
       "Actual Sup Flow SP_sum          2887.350000\n",
       "Zone Temperature_sum             664.680000\n",
       "Actual Supply Flow_sum          2821.125000\n",
       "energy_sum                       105.548529\n",
       "Outside Air Temp_sum             678.960000\n",
       "Humidity_sum                     558.000000\n",
       "Zone Temperature Next_sum        664.680000\n",
       "Actual Supply Flow Next_sum     3236.220000\n",
       "Outside Air Temp Next_sum        679.500000\n",
       "Humidity Next_sum                558.000000\n",
       "energy Next_sum                   92.678163\n",
       "count                              9.000000\n",
       "factor                             2.250000\n",
       "Common Setpoint_mean              72.166667\n",
       "Actual Sup Flow SP_mean          320.816667\n",
       "Zone Temperature_mean             73.853333\n",
       "Actual Supply Flow_mean          313.458333\n",
       "energy_mean                       11.727614\n",
       "Outside Air Temp_mean             75.440000\n",
       "Humidity_mean                     62.000000\n",
       "Zone Temperature Next_mean        73.853333\n",
       "Actual Supply Flow Next_mean     359.580000\n",
       "Outside Air Temp Next_mean        75.500000\n",
       "Humidity Next_mean                62.000000\n",
       "energy Next_mean                  10.297574\n",
       "floor_mean                         2.000000\n",
       "Name: (2017-07-07 15:00:00+00:00, 20), dtype: float64"
      ]
     },
     "execution_count": 40,
     "metadata": {},
     "output_type": "execute_result"
    }
   ],
   "source": [
    "sums_avgs.iloc[20]"
   ]
  },
  {
   "cell_type": "code",
   "execution_count": null,
   "id": "9bac6ac0",
   "metadata": {},
   "outputs": [],
   "source": [
    "# for these, does it make sense ot do a division for the other values and use averages, use some combination of both or what\n",
    "\n",
    "\n",
    "# or should I impute differently? \n",
    "\n",
    "# talk about it with group tomorrow\n",
    "# also in effect seems to be little/no difference between using 5 minute and 30 minutes based on shape, so I feel more comfortable with larger interval"
   ]
  },
  {
   "cell_type": "code",
   "execution_count": 87,
   "id": "70531b63",
   "metadata": {},
   "outputs": [],
   "source": [
    "diff_ind = pd.date_range('2017-07-07 13:30:00+0000', '2019-01-07 23:30:00+0000', freq=\"30T\").difference(count_sums_mod.index.get_level_values(0))"
   ]
  },
  {
   "cell_type": "code",
   "execution_count": 88,
   "id": "d77c94c5",
   "metadata": {},
   "outputs": [
    {
     "data": {
      "text/plain": [
       "9523"
      ]
     },
     "execution_count": 88,
     "metadata": {},
     "output_type": "execute_result"
    }
   ],
   "source": [
    "len(diff_ind)"
   ]
  },
  {
   "cell_type": "code",
   "execution_count": 89,
   "id": "5a152aa1",
   "metadata": {},
   "outputs": [
    {
     "data": {
      "text/plain": [
       "DatetimeIndex(['2017-07-08 17:00:00+00:00', '2017-07-08 17:30:00+00:00',\n",
       "               '2017-07-08 18:00:00+00:00', '2017-07-08 18:30:00+00:00',\n",
       "               '2017-07-08 19:00:00+00:00'],\n",
       "              dtype='datetime64[ns, UTC]', freq=None)"
      ]
     },
     "execution_count": 89,
     "metadata": {},
     "output_type": "execute_result"
    }
   ],
   "source": [
    "diff_ind[0:5]"
   ]
  },
  {
   "cell_type": "code",
   "execution_count": 90,
   "id": "e2813429",
   "metadata": {},
   "outputs": [],
   "source": [
    "# According to this - if we follow this path, there are about 9523 missing values in the index"
   ]
  },
  {
   "cell_type": "code",
   "execution_count": 91,
   "id": "776f4ff5",
   "metadata": {},
   "outputs": [
    {
     "data": {
      "text/plain": [
       "<AxesSubplot:>"
      ]
     },
     "execution_count": 91,
     "metadata": {},
     "output_type": "execute_result"
    },
    {
     "data": {
      "image/png": "[encoded data removed]",
      "text/plain": [
       "<Figure size 432x288 with 1 Axes>"
      ]
     },
     "metadata": {
      "needs_background": "light"
     },
     "output_type": "display_data"
    }
   ],
   "source": [
    "pd.Series(diff_ind).plot()"
   ]
  },
  {
   "cell_type": "code",
   "execution_count": null,
   "id": "3da1fa23",
   "metadata": {},
   "outputs": [],
   "source": [
    "# anotehr way of showing us visualziation we already knew - lots of missings at certain stretches (mainly late 2017 to earliy 2018), little everywhere else"
   ]
  },
  {
   "cell_type": "code",
   "execution_count": null,
   "id": "afe59c02",
   "metadata": {},
   "outputs": [],
   "source": [
    "# how should we handle time and do we want to try to impute values between or what?"
   ]
  },
  {
   "cell_type": "markdown",
   "id": "a66ffd3c",
   "metadata": {},
   "source": [
    "### Earlier Code Version - not using"
   ]
  },
  {
   "cell_type": "markdown",
   "id": "6e0e6d5e",
   "metadata": {},
   "source": [
    "floor_2_sums = floor_2.groupby(['time_floored', 'Unnamed: 0.1']).sum()\n",
    "floor_2_sums.columns += ['_sum']\n",
    "\n",
    "floor_3_sums = floor_3.groupby(['time_floored', 'Unnamed: 0.1']).sum()\n",
    "floor_3_sums.columns += ['_sum']\n",
    "\n",
    "floor_4_sums = floor_4.groupby(['time_floored', 'Unnamed: 0.1']).sum()\n",
    "floor_4_sums.columns += ['_sum']"
   ]
  },
  {
   "cell_type": "markdown",
   "id": "4d517fb3",
   "metadata": {},
   "source": [
    "floor_2_means = floor_2.groupby(['time_floored_5min', 'Unnamed: 0.1']).mean()\n",
    "floor_2_means.columns += ['_mean']\n",
    "\n",
    "floor_3_means = floor_3.groupby(['time_floored_5min', 'Unnamed: 0.1']).mean()\n",
    "floor_3_means.columns += ['_mean']\n",
    "\n",
    "floor_4_means = floor_4.groupby(['time_floored_5min', 'Unnamed: 0.1']).mean()\n",
    "floor_4_means.columns += ['_mean']"
   ]
  }
 ],
 "metadata": {
  "kernelspec": {
   "display_name": "Python 3",
   "language": "python",
   "name": "python3"
  },
  "language_info": {
   "codemirror_mode": {
    "name": "ipython",
    "version": 3
   },
   "file_extension": ".py",
   "mimetype": "text/x-python",
   "name": "python",
   "nbconvert_exporter": "python",
   "pygments_lexer": "ipython3",
   "version": "3.8.5"
  }
 },
 "nbformat": 4,
 "nbformat_minor": 5
}
