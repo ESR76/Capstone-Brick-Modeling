{
 "cells": [
  {
   "cell_type": "markdown",
   "id": "6139778e",
   "metadata": {},
   "source": [
    "# Esperanza's Data Re-cleaning Notebook\n",
    "\n",
    "## Imports"
   ]
  },
  {
   "cell_type": "code",
   "execution_count": null,
   "id": "d382f102",
   "metadata": {},
   "outputs": [],
   "source": [
    "import pandas as pd\n",
    "import numpy as np\n",
    "import seaborn as sns"
   ]
  },
  {
   "cell_type": "markdown",
   "id": "cf986f86",
   "metadata": {},
   "source": [
    "## Final Cleaning Work"
   ]
  },
  {
   "cell_type": "code",
   "execution_count": null,
   "id": "3afb2489",
   "metadata": {},
   "outputs": [],
   "source": [
    "time_val = '1H'"
   ]
  },
  {
   "cell_type": "code",
   "execution_count": null,
   "id": "e170a6cb",
   "metadata": {},
   "outputs": [],
   "source": [
    "#col_list = ['time', 'Common Setpoint', 'Actual Sup Flow SP', 'Zone Temperature', 'Actual Supply Flow', 'Outside Air Temp', 'Humidity', 'energy']\n",
    "\n",
    "floor_2 = pd.read_csv('../data/raw/merged_all_2F.csv', index_col = 'Unnamed: 0')\n",
    "floor_3 = pd.read_csv('../data/raw/merged_all_3F.csv', index_col = 'Unnamed: 0')\n",
    "floor_4 = pd.read_csv('../data/raw/merged_all_4F.csv', index_col = 'Unnamed: 0')"
   ]
  },
  {
   "cell_type": "code",
   "execution_count": null,
   "id": "e96b6b66",
   "metadata": {},
   "outputs": [],
   "source": [
    "floor_2 = floor_2.drop(['Unnamed: 0.1.1', 'Unnamed: 0.1'], axis = 1)"
   ]
  },
  {
   "cell_type": "code",
   "execution_count": null,
   "id": "3f6d7c19",
   "metadata": {},
   "outputs": [],
   "source": [
    "floor_2['time_transformed'] = pd.to_datetime(floor_2['time'])\n",
    "floor_2['time_floored'] = floor_2['time_transformed'].transform(lambda x: x.floor(freq=time_val))"
   ]
  },
  {
   "cell_type": "code",
   "execution_count": null,
   "id": "a7e84779",
   "metadata": {},
   "outputs": [],
   "source": [
    "floor_2.head(5)"
   ]
  },
  {
   "cell_type": "code",
   "execution_count": null,
   "id": "8a1232ce",
   "metadata": {},
   "outputs": [],
   "source": [
    "floor_3 = floor_3.drop(['Unnamed: 0.1'], axis = 1)"
   ]
  },
  {
   "cell_type": "code",
   "execution_count": null,
   "id": "cad54d59",
   "metadata": {},
   "outputs": [],
   "source": [
    "floor_3['time_transformed'] = pd.to_datetime(floor_3['time'])\n",
    "floor_3['time_floored'] = floor_3['time_transformed'].transform(lambda x: x.floor(freq=time_val))"
   ]
  },
  {
   "cell_type": "code",
   "execution_count": null,
   "id": "d6b0c399",
   "metadata": {},
   "outputs": [],
   "source": [
    "floor_3.head(5)"
   ]
  },
  {
   "cell_type": "code",
   "execution_count": null,
   "id": "f878eb70",
   "metadata": {},
   "outputs": [],
   "source": [
    "floor_4 = floor_4.drop(['Unnamed: 0.1'], axis = 1)"
   ]
  },
  {
   "cell_type": "code",
   "execution_count": null,
   "id": "d9a56ef1",
   "metadata": {},
   "outputs": [],
   "source": [
    "floor_4['time_transformed'] = pd.to_datetime(floor_4['time'])\n",
    "floor_4['time_floored'] = floor_4['time_transformed'].transform(lambda x: x.floor(freq=time_val))"
   ]
  },
  {
   "cell_type": "code",
   "execution_count": null,
   "id": "58828e23",
   "metadata": {},
   "outputs": [],
   "source": [
    "floor_4.head(5)"
   ]
  },
  {
   "cell_type": "code",
   "execution_count": null,
   "id": "1220a1a4",
   "metadata": {},
   "outputs": [],
   "source": [
    "grouped_df = pd.concat([floor_2, floor_3, floor_4])"
   ]
  },
  {
   "cell_type": "code",
   "execution_count": null,
   "id": "353c768f",
   "metadata": {},
   "outputs": [],
   "source": [
    "grouped_df.loc[:, 'hour'] = grouped_df['time_floored'].transform(lambda x: x.hour)"
   ]
  },
  {
   "cell_type": "code",
   "execution_count": null,
   "id": "3f1a5b84",
   "metadata": {},
   "outputs": [],
   "source": [
    "split_date = \"2018-08-01\""
   ]
  },
  {
   "cell_type": "code",
   "execution_count": null,
   "id": "41459e58",
   "metadata": {},
   "outputs": [],
   "source": [
    "# TRAIN TEST SPLIT:\n",
    "train_set = grouped_df.loc[grouped_df['time_floored'] < split_date, :]\n",
    "test_set = grouped_df.loc[~(grouped_df['time_floored'] < split_date), :]"
   ]
  },
  {
   "cell_type": "code",
   "execution_count": null,
   "id": "988720e6",
   "metadata": {},
   "outputs": [],
   "source": [
    "train_set.tail(5)"
   ]
  },
  {
   "cell_type": "code",
   "execution_count": null,
   "id": "1376936f",
   "metadata": {},
   "outputs": [],
   "source": [
    "# gap in July and August 2018 that this splits\n",
    "# based on about 70% data split based on original data points"
   ]
  },
  {
   "cell_type": "code",
   "execution_count": null,
   "id": "f7bd6821",
   "metadata": {},
   "outputs": [],
   "source": [
    "test_set.head(5)"
   ]
  },
  {
   "cell_type": "code",
   "execution_count": null,
   "id": "4d31554b",
   "metadata": {},
   "outputs": [],
   "source": [
    "train_meds = train_set.groupby(['time_floored']).median()\n",
    "test_meds = test_set.groupby(['time_floored']).median()"
   ]
  },
  {
   "cell_type": "code",
   "execution_count": null,
   "id": "9c0bc7e2",
   "metadata": {},
   "outputs": [],
   "source": [
    "min_ts = train_meds.index[0]\n",
    "max_ts = train_meds.index[len(train_meds) - 1]"
   ]
  },
  {
   "cell_type": "code",
   "execution_count": null,
   "id": "e755793a",
   "metadata": {},
   "outputs": [],
   "source": [
    "print(max_ts)"
   ]
  },
  {
   "cell_type": "code",
   "execution_count": null,
   "id": "2e5c5a1a",
   "metadata": {},
   "outputs": [],
   "source": [
    "missingtimes_df = pd.DataFrame(index = pd.date_range(min_ts, max_ts, freq=time_val))"
   ]
  },
  {
   "cell_type": "code",
   "execution_count": null,
   "id": "73703fa7",
   "metadata": {},
   "outputs": [],
   "source": [
    "time_gaps = missingtimes_df.merge(train_meds, left_index = True, right_index = True, how = 'outer')\n",
    "time_gaps['hour'] = time_gaps.index.hour"
   ]
  },
  {
   "cell_type": "code",
   "execution_count": null,
   "id": "0f18eed8",
   "metadata": {},
   "outputs": [],
   "source": [
    "hour_meds = train_set.groupby(['hour']).median()"
   ]
  },
  {
   "cell_type": "code",
   "execution_count": null,
   "id": "c92d9e9d",
   "metadata": {},
   "outputs": [],
   "source": [
    "hour_meds.head(5)"
   ]
  },
  {
   "cell_type": "code",
   "execution_count": null,
   "id": "3356ff8e",
   "metadata": {},
   "outputs": [],
   "source": [
    "keep_cols = list(time_gaps.columns)[0: len(time_gaps.columns) - 1]\n",
    "keep_cols_y = [x + \"_y\" for x in keep_cols]"
   ]
  },
  {
   "cell_type": "code",
   "execution_count": null,
   "id": "bb0c6c1a",
   "metadata": {},
   "outputs": [],
   "source": [
    "imputed_meds = time_gaps.loc[(time_gaps['energy'].isna()), :].merge(hour_meds, left_on = 'hour', right_index = True)"
   ]
  },
  {
   "cell_type": "code",
   "execution_count": null,
   "id": "e37b393a",
   "metadata": {},
   "outputs": [],
   "source": [
    "imputed_meds = imputed_meds.loc[:, keep_cols_y + [\"hour\"]].rename({keep_cols_y[i]: keep_cols[i] for i in range(len(keep_cols))}, axis = 1)"
   ]
  },
  {
   "cell_type": "code",
   "execution_count": null,
   "id": "bb3fe453",
   "metadata": {},
   "outputs": [],
   "source": [
    "time_gaps.loc[(time_gaps['energy'].isna()), :] = imputed_meds"
   ]
  },
  {
   "cell_type": "code",
   "execution_count": null,
   "id": "002629c4",
   "metadata": {},
   "outputs": [],
   "source": [
    "sns.lineplot(data=time_gaps.reset_index(), x = 'index', y = 'energy')"
   ]
  },
  {
   "cell_type": "code",
   "execution_count": null,
   "id": "f66cdbfa",
   "metadata": {},
   "outputs": [],
   "source": [
    "final_train = time_gaps.reset_index().rename({'index': 'time'}, axis = 1).drop(['hour'], axis = 1)"
   ]
  },
  {
   "cell_type": "code",
   "execution_count": null,
   "id": "5ddf91e8",
   "metadata": {},
   "outputs": [],
   "source": [
    "final_test =test_set.drop(['hour', 'time', 'time_transformed'], axis = 1).rename({'time_floored': 'time'}, axis = 1)"
   ]
  },
  {
   "cell_type": "code",
   "execution_count": null,
   "id": "95f6ed27",
   "metadata": {},
   "outputs": [],
   "source": [
    "final_train.to_csv('training_set_imputed.csv', index = False)\n",
    "final_test.to_csv('test_set_nonimputed.csv', index = False)"
   ]
  },
  {
   "cell_type": "markdown",
   "id": "780bad1d",
   "metadata": {},
   "source": [
    "## Development/Idea Code for Cleaning"
   ]
  },
  {
   "cell_type": "markdown",
   "id": "d5e84f91",
   "metadata": {},
   "source": [
    "These rely on using the \"Unnamed: 0.1.1\" which look to be a remnant of when the data from the original 15 room values were used.\n",
    "\n",
    "We ended up not following this because we could not verify it and we has trouble trying to reengineer rooms or figuring out how to impute values."
   ]
  },
  {
   "cell_type": "code",
   "execution_count": null,
   "id": "f6de0fd9",
   "metadata": {},
   "outputs": [],
   "source": [
    "# need to reimport to keep unnamed:0.1\n",
    "floor_2 = pd.read_csv('../data/raw/merged_all_2F.csv', index_col = 'Unnamed: 0')\n",
    "floor_3 = pd.read_csv('../data/raw/merged_all_3F.csv', index_col = 'Unnamed: 0')\n",
    "floor_4 = pd.read_csv('../data/raw/merged_all_4F.csv', index_col = 'Unnamed: 0')"
   ]
  },
  {
   "cell_type": "code",
   "execution_count": null,
   "id": "9cf85695",
   "metadata": {},
   "outputs": [],
   "source": [
    "floor_2['time_transformed'] = pd.to_datetime(floor_2['time'])\n",
    "floor_2['time_floored'] = floor_2['time_transformed'].transform(lambda x: x.floor(freq=time_val))\n",
    "\n",
    "floor_3['time_transformed'] = pd.to_datetime(floor_3['time'])\n",
    "floor_3['time_floored'] = floor_3['time_transformed'].transform(lambda x: x.floor(freq=time_val))\n",
    "\n",
    "floor_4['time_transformed'] = pd.to_datetime(floor_4['time'])\n",
    "floor_4['time_floored'] = floor_4['time_transformed'].transform(lambda x: x.floor(freq=time_val))"
   ]
  },
  {
   "cell_type": "code",
   "execution_count": null,
   "id": "89bad7c1",
   "metadata": {},
   "outputs": [],
   "source": [
    "floor_2['floor'] = 2\n",
    "floor_2['floor'] = 3\n",
    "floor_2['floor'] = 4"
   ]
  },
  {
   "cell_type": "code",
   "execution_count": null,
   "id": "985b28b8",
   "metadata": {},
   "outputs": [],
   "source": [
    "floor_2 = floor_2.drop(['Unnamed: 0.1.1'], axis = 1)"
   ]
  },
  {
   "cell_type": "code",
   "execution_count": null,
   "id": "62a83c77",
   "metadata": {},
   "outputs": [],
   "source": [
    "grouped_df = pd.concat([floor_2, floor_3, floor_4])"
   ]
  },
  {
   "cell_type": "markdown",
   "id": "a9210fe8",
   "metadata": {},
   "source": [
    "### Using Means Instead of Medians"
   ]
  },
  {
   "cell_type": "code",
   "execution_count": null,
   "id": "ad07c6e7",
   "metadata": {},
   "outputs": [],
   "source": [
    "group_means = grouped_df.groupby(['time_floored']).mean()\n",
    "group_means.head(5)"
   ]
  },
  {
   "cell_type": "code",
   "execution_count": null,
   "id": "3804f216",
   "metadata": {},
   "outputs": [],
   "source": [
    "group_means.shape[0] * 0.7 // 1"
   ]
  },
  {
   "cell_type": "code",
   "execution_count": null,
   "id": "72f5b0e9",
   "metadata": {},
   "outputs": [],
   "source": [
    "1 + group_means.shape[0] * 0.7 // 1"
   ]
  },
  {
   "cell_type": "code",
   "execution_count": null,
   "id": "3253e312",
   "metadata": {},
   "outputs": [],
   "source": [
    "train_set = group_means.iloc[0: int(group_means.shape[0] * 0.7 // 1)]\n",
    "test_set = group_means.iloc[int(group_means.shape[0] * 0.7 // 1):]"
   ]
  },
  {
   "cell_type": "code",
   "execution_count": null,
   "id": "6666f6ce",
   "metadata": {},
   "outputs": [],
   "source": [
    "min_ts = train_set.index[0]\n",
    "max_ts = train_set.index[len(train_set) - 1]"
   ]
  },
  {
   "cell_type": "code",
   "execution_count": null,
   "id": "828f269b",
   "metadata": {},
   "outputs": [],
   "source": [
    "df = pd.DataFrame(index = pd.date_range(min_ts, max_ts, freq=time_val))"
   ]
  },
  {
   "cell_type": "code",
   "execution_count": null,
   "id": "be8eb269",
   "metadata": {},
   "outputs": [],
   "source": [
    "time_gaps = df.merge(train_set, left_index = True, right_index = True, how = 'outer')"
   ]
  },
  {
   "cell_type": "code",
   "execution_count": null,
   "id": "984f5157",
   "metadata": {},
   "outputs": [],
   "source": [
    "time_gaps.loc[time_gaps['energy'].isna()].shape"
   ]
  },
  {
   "cell_type": "code",
   "execution_count": null,
   "id": "cb75ab4b",
   "metadata": {},
   "outputs": [],
   "source": [
    "mean_per_hour = train_set.groupby('hour').mean()"
   ]
  },
  {
   "cell_type": "code",
   "execution_count": null,
   "id": "6a325936",
   "metadata": {},
   "outputs": [],
   "source": [
    "mean_per_hour.head()"
   ]
  },
  {
   "cell_type": "code",
   "execution_count": null,
   "id": "62476a2d",
   "metadata": {},
   "outputs": [],
   "source": [
    "# use these to fill NA values in the training_set"
   ]
  },
  {
   "cell_type": "code",
   "execution_count": null,
   "id": "15a4b3f0",
   "metadata": {},
   "outputs": [],
   "source": [
    "sns.lineplot(data=train_set.reset_index(), x = 'time_floored', y = 'energy')"
   ]
  },
  {
   "cell_type": "code",
   "execution_count": null,
   "id": "d82715c1",
   "metadata": {},
   "outputs": [],
   "source": [
    "# instead of splitting here, use earlier split dates for actually 30/70% data"
   ]
  },
  {
   "cell_type": "code",
   "execution_count": null,
   "id": "604ed06c",
   "metadata": {},
   "outputs": [],
   "source": [
    "time_gaps.loc[:, 'hour'] = time_gaps.index.hour"
   ]
  },
  {
   "cell_type": "code",
   "execution_count": null,
   "id": "fcf0c373",
   "metadata": {},
   "outputs": [],
   "source": [
    "time_gaps.loc[time_gaps['energy'].isna()].shape"
   ]
  },
  {
   "cell_type": "markdown",
   "id": "5f05cbbb",
   "metadata": {},
   "source": [
    "### Using Sums instead of Medians"
   ]
  },
  {
   "cell_type": "code",
   "execution_count": null,
   "id": "8ba1edba",
   "metadata": {},
   "outputs": [],
   "source": [
    "group_sums = grouped_df.groupby(['time_floored']).sum()\n",
    "group_sums.head(5)"
   ]
  },
  {
   "cell_type": "code",
   "execution_count": null,
   "id": "188303b2",
   "metadata": {},
   "outputs": [],
   "source": [
    "group_sums.shape"
   ]
  },
  {
   "cell_type": "code",
   "execution_count": null,
   "id": "35c149b5",
   "metadata": {},
   "outputs": [],
   "source": [
    "group_counts = grouped_df.groupby(['time_floored'])['Common Setpoint'].count().rename(\"count\")"
   ]
  },
  {
   "cell_type": "code",
   "execution_count": null,
   "id": "f6001aad",
   "metadata": {},
   "outputs": [],
   "source": [
    "group_counts.head(5)"
   ]
  },
  {
   "cell_type": "code",
   "execution_count": null,
   "id": "8db8b60c",
   "metadata": {},
   "outputs": [],
   "source": [
    "group_counts.min()"
   ]
  },
  {
   "cell_type": "code",
   "execution_count": null,
   "id": "d655570e",
   "metadata": {},
   "outputs": [],
   "source": [
    "group_counts.max()"
   ]
  },
  {
   "cell_type": "code",
   "execution_count": null,
   "id": "ff972552",
   "metadata": {},
   "outputs": [],
   "source": [
    "group_merge = group_sums.merge(group_counts, left_index = True, right_index = True)"
   ]
  },
  {
   "cell_type": "code",
   "execution_count": null,
   "id": "c99705c0",
   "metadata": {},
   "outputs": [],
   "source": [
    "group_merge.head(5)"
   ]
  },
  {
   "cell_type": "code",
   "execution_count": null,
   "id": "ded6ad5c",
   "metadata": {},
   "outputs": [],
   "source": [
    "group_merge = group_merge.drop(['Unnamed: 0.1', 'floor'], axis = 1)"
   ]
  },
  {
   "cell_type": "code",
   "execution_count": null,
   "id": "8a009005",
   "metadata": {},
   "outputs": [],
   "source": [
    "group_merge_mod = group_merge.multiply(group_counts.max() / group_merge['count'], axis = 'index')"
   ]
  },
  {
   "cell_type": "code",
   "execution_count": null,
   "id": "102528e2",
   "metadata": {},
   "outputs": [],
   "source": [
    "group_merge_mod.head(5)"
   ]
  },
  {
   "cell_type": "code",
   "execution_count": null,
   "id": "33c2bbec",
   "metadata": {},
   "outputs": [],
   "source": [
    "energy_cols = group_merge_mod.loc[:, ['energy', 'energy Next']]\n",
    "all_else = group_merge_mod.drop(['energy', 'energy Next'], axis = 1)\n",
    "all_else = all_else / group_counts.max()"
   ]
  },
  {
   "cell_type": "code",
   "execution_count": null,
   "id": "eec7e772",
   "metadata": {},
   "outputs": [],
   "source": [
    "re_merge = all_else.merge(energy_cols, left_index = True, right_index = True)"
   ]
  },
  {
   "cell_type": "code",
   "execution_count": null,
   "id": "f6a56e67",
   "metadata": {},
   "outputs": [],
   "source": [
    "all_else['Actual Supply Flow'].isna().sum()"
   ]
  },
  {
   "cell_type": "code",
   "execution_count": null,
   "id": "b4bbedc0",
   "metadata": {},
   "outputs": [],
   "source": [
    "sns.lineplot(data = all_else.reset_index(), x = 'time_floored', y = 'Actual Supply Flow')"
   ]
  },
  {
   "cell_type": "code",
   "execution_count": null,
   "id": "44ddce5c",
   "metadata": {
    "scrolled": true
   },
   "outputs": [],
   "source": [
    "sns.lineplot(data = energy_cols.reset_index(), x = 'time_floored', y = 'energy')"
   ]
  },
  {
   "cell_type": "code",
   "execution_count": null,
   "id": "e9d64883",
   "metadata": {},
   "outputs": [],
   "source": [
    "min_ts = all_else.index[0]\n",
    "max_ts = all_else.index[len(all_else) - 1]"
   ]
  },
  {
   "cell_type": "code",
   "execution_count": null,
   "id": "996c5f4f",
   "metadata": {},
   "outputs": [],
   "source": [
    "df = pd.DataFrame(index = pd.date_range(min_ts, max_ts, freq=time_val))"
   ]
  },
  {
   "cell_type": "code",
   "execution_count": null,
   "id": "e8c61d8e",
   "metadata": {},
   "outputs": [],
   "source": [
    "time_gaps = df.merge(re_merge, left_index = True, right_index = True, how = 'outer')"
   ]
  },
  {
   "cell_type": "code",
   "execution_count": null,
   "id": "70353514",
   "metadata": {},
   "outputs": [],
   "source": [
    "time_gaps.loc[time_gaps['energy'].isna()].shape"
   ]
  },
  {
   "cell_type": "code",
   "execution_count": null,
   "id": "c72e77aa",
   "metadata": {
    "scrolled": true
   },
   "outputs": [],
   "source": [
    "grouped_df['hour'] = grouped_df['time_floored'].transform(lambda x: x.time().hour)"
   ]
  },
  {
   "cell_type": "code",
   "execution_count": null,
   "id": "14324474",
   "metadata": {},
   "outputs": [],
   "source": [
    "mean_per_hour = grouped_df.groupby('hour')['energy'].mean()"
   ]
  },
  {
   "cell_type": "markdown",
   "id": "3884015c",
   "metadata": {},
   "source": [
    "### Trying Different Versions of Filling/Imputing Null Values"
   ]
  },
  {
   "cell_type": "code",
   "execution_count": null,
   "id": "e761273e",
   "metadata": {},
   "outputs": [],
   "source": [
    "ffill_version = time_gaps.ffill()"
   ]
  },
  {
   "cell_type": "code",
   "execution_count": null,
   "id": "37aecb9c",
   "metadata": {},
   "outputs": [],
   "source": [
    "bfill_version = time_gaps.bfill()"
   ]
  },
  {
   "cell_type": "code",
   "execution_count": null,
   "id": "f4d176bb",
   "metadata": {},
   "outputs": [],
   "source": [
    "meanfill_version = time_gaps.fillna(time_gaps.mean())"
   ]
  },
  {
   "cell_type": "code",
   "execution_count": null,
   "id": "242fdd8c",
   "metadata": {},
   "outputs": [],
   "source": [
    "medfill_version = time_gaps.fillna(time_gaps.median())"
   ]
  },
  {
   "cell_type": "code",
   "execution_count": null,
   "id": "2973e506",
   "metadata": {},
   "outputs": [],
   "source": [
    "mixedfill = time_gaps.ffill(limit = 12).fillna(time_gaps.median())"
   ]
  },
  {
   "cell_type": "code",
   "execution_count": null,
   "id": "5698a16a",
   "metadata": {},
   "outputs": [],
   "source": [
    "time_gaps.shape"
   ]
  },
  {
   "cell_type": "code",
   "execution_count": null,
   "id": "9e4c81e5",
   "metadata": {},
   "outputs": [],
   "source": [
    "diff_ind = pd.date_range('2017-07-07 13:00:00+0000', '2019-01-07 23:00:00+0000', freq=\"1H\").difference(all_else.index)\n"
   ]
  },
  {
   "cell_type": "code",
   "execution_count": null,
   "id": "64a45e7a",
   "metadata": {},
   "outputs": [],
   "source": [
    "len(diff_ind)"
   ]
  },
  {
   "cell_type": "code",
   "execution_count": null,
   "id": "e41cabd8",
   "metadata": {},
   "outputs": [],
   "source": [
    "diff_ind[0:5]"
   ]
  },
  {
   "cell_type": "code",
   "execution_count": null,
   "id": "09b4bdd4",
   "metadata": {},
   "outputs": [],
   "source": [
    "pd.Series(diff_ind.hour).hist()"
   ]
  },
  {
   "cell_type": "code",
   "execution_count": null,
   "id": "158490ad",
   "metadata": {},
   "outputs": [],
   "source": [
    "time_gaps.head(1)"
   ]
  },
  {
   "cell_type": "code",
   "execution_count": null,
   "id": "55cb2726",
   "metadata": {},
   "outputs": [],
   "source": [
    "sns.lineplot(data = time_gaps.reset_index(), x = 'index', y = 'energy')"
   ]
  },
  {
   "cell_type": "code",
   "execution_count": null,
   "id": "ac7b7e72",
   "metadata": {},
   "outputs": [],
   "source": [
    "sns.lineplot(data = mixedfill.reset_index(), x = 'index', y = 'energy')"
   ]
  },
  {
   "cell_type": "code",
   "execution_count": null,
   "id": "cdbc16d3",
   "metadata": {},
   "outputs": [],
   "source": [
    "sns.lineplot(data = ffill_version.reset_index(), x = 'index', y = 'energy')"
   ]
  },
  {
   "cell_type": "code",
   "execution_count": null,
   "id": "6297a992",
   "metadata": {},
   "outputs": [],
   "source": [
    "sns.lineplot(data = bfill_version.reset_index(), x = 'index', y = 'energy')"
   ]
  },
  {
   "cell_type": "code",
   "execution_count": null,
   "id": "60b67b86",
   "metadata": {},
   "outputs": [],
   "source": [
    "sns.lineplot(data = meanfill_version.reset_index(), x = 'index', y = 'energy')"
   ]
  },
  {
   "cell_type": "code",
   "execution_count": null,
   "id": "056dfb9a",
   "metadata": {},
   "outputs": [],
   "source": [
    "sns.lineplot(data = medfill_version.reset_index(), x = 'index', y = 'energy')"
   ]
  },
  {
   "cell_type": "code",
   "execution_count": null,
   "id": "258fde4b",
   "metadata": {},
   "outputs": [],
   "source": [
    "# that's another option - do the split before and after the dates with the biggest period of missiness?"
   ]
  },
  {
   "cell_type": "code",
   "execution_count": null,
   "id": "c2bc7091",
   "metadata": {},
   "outputs": [],
   "source": [
    "group_merge_mod['count'].value_counts()"
   ]
  },
  {
   "cell_type": "code",
   "execution_count": null,
   "id": "82d2a265",
   "metadata": {},
   "outputs": [],
   "source": [
    "grouped_df_counts = grouped_df.groupby(['time_floored', 'Unnamed: 0.1'])['Common Setpoint'].count().rename(\"count\")"
   ]
  },
  {
   "cell_type": "code",
   "execution_count": null,
   "id": "d53d2241",
   "metadata": {},
   "outputs": [],
   "source": [
    "grouped_df_counts.max()"
   ]
  },
  {
   "cell_type": "code",
   "execution_count": null,
   "id": "e732437c",
   "metadata": {},
   "outputs": [],
   "source": [
    "grouped_df_counts.min()"
   ]
  },
  {
   "cell_type": "code",
   "execution_count": null,
   "id": "c94350a3",
   "metadata": {},
   "outputs": [],
   "source": [
    "grouped_df_means = grouped_df.groupby(['time_floored', 'Unnamed: 0.1']).mean()\n",
    "grouped_df_means.columns += [\"_mean\"]"
   ]
  },
  {
   "cell_type": "code",
   "execution_count": null,
   "id": "cb66e511",
   "metadata": {},
   "outputs": [],
   "source": [
    "grouped_df_sums = grouped_df.groupby(['time_floored', 'Unnamed: 0.1']).sum()\n",
    "grouped_df_sums.columns += [\"_sum\"]"
   ]
  },
  {
   "cell_type": "code",
   "execution_count": null,
   "id": "630c8ff9",
   "metadata": {},
   "outputs": [],
   "source": [
    "counts_sums = grouped_df_sums.merge(grouped_df_counts.to_frame(), left_index = True, right_index = True, how = 'outer')"
   ]
  },
  {
   "cell_type": "code",
   "execution_count": null,
   "id": "3e25a838",
   "metadata": {},
   "outputs": [],
   "source": [
    "counts_sums = counts_sums.drop(['floor_sum'], axis = 1)"
   ]
  },
  {
   "cell_type": "code",
   "execution_count": null,
   "id": "34706a5b",
   "metadata": {},
   "outputs": [],
   "source": [
    "count_factors = (9 / counts_sums['count'])"
   ]
  },
  {
   "cell_type": "code",
   "execution_count": null,
   "id": "63e90632",
   "metadata": {},
   "outputs": [],
   "source": [
    "counts_sums['factor'] = count_factors"
   ]
  },
  {
   "cell_type": "code",
   "execution_count": null,
   "id": "af085fac",
   "metadata": {},
   "outputs": [],
   "source": [
    "counts_sums.head()"
   ]
  },
  {
   "cell_type": "code",
   "execution_count": null,
   "id": "266a5cad",
   "metadata": {},
   "outputs": [],
   "source": [
    "count_sums_mod = counts_sums.multiply(count_factors, axis = 'index')"
   ]
  },
  {
   "cell_type": "code",
   "execution_count": null,
   "id": "57c9cfb6",
   "metadata": {},
   "outputs": [],
   "source": [
    "count_sums_mod['count'].value_counts()"
   ]
  },
  {
   "cell_type": "code",
   "execution_count": null,
   "id": "46be920e",
   "metadata": {},
   "outputs": [],
   "source": [
    "count_sums_mod.head(5)"
   ]
  },
  {
   "cell_type": "code",
   "execution_count": null,
   "id": "e9b75077",
   "metadata": {},
   "outputs": [],
   "source": [
    "reset_sumsmod = count_sums_mod.reset_index()"
   ]
  },
  {
   "cell_type": "code",
   "execution_count": null,
   "id": "b3112c88",
   "metadata": {},
   "outputs": [],
   "source": [
    "reset_sumsmod.loc[reset_sumsmod['time_floored'] == '2017-07-07 15:00:00+00:00']"
   ]
  },
  {
   "cell_type": "code",
   "execution_count": null,
   "id": "2e6680b6",
   "metadata": {},
   "outputs": [],
   "source": [
    "count_sums_mod.columns"
   ]
  },
  {
   "cell_type": "code",
   "execution_count": null,
   "id": "a10b5873",
   "metadata": {},
   "outputs": [],
   "source": [
    "sums_avgs = count_sums_mod.merge(grouped_df_means, left_index = True, right_index = True)"
   ]
  },
  {
   "cell_type": "code",
   "execution_count": null,
   "id": "536a4e6e",
   "metadata": {},
   "outputs": [],
   "source": [
    "sums_avgs.head(5)"
   ]
  },
  {
   "cell_type": "code",
   "execution_count": null,
   "id": "2bc98bf9",
   "metadata": {},
   "outputs": [],
   "source": [
    "count_sums_mod.shape"
   ]
  },
  {
   "cell_type": "code",
   "execution_count": null,
   "id": "d5cd6f62",
   "metadata": {},
   "outputs": [],
   "source": [
    "sums_avgs.shape"
   ]
  },
  {
   "cell_type": "code",
   "execution_count": null,
   "id": "52853bad",
   "metadata": {},
   "outputs": [],
   "source": [
    "grouped_df_means.shape"
   ]
  },
  {
   "cell_type": "code",
   "execution_count": null,
   "id": "70531b63",
   "metadata": {},
   "outputs": [],
   "source": [
    "diff_ind = pd.date_range('2017-07-07 13:30:00+0000', '2019-01-07 23:30:00+0000', freq=\"30T\").difference(count_sums_mod.index.get_level_values(0))"
   ]
  },
  {
   "cell_type": "code",
   "execution_count": null,
   "id": "d77c94c5",
   "metadata": {},
   "outputs": [],
   "source": [
    "len(diff_ind)"
   ]
  },
  {
   "cell_type": "code",
   "execution_count": null,
   "id": "5a152aa1",
   "metadata": {},
   "outputs": [],
   "source": [
    "diff_ind[0:5]"
   ]
  },
  {
   "cell_type": "code",
   "execution_count": null,
   "id": "776f4ff5",
   "metadata": {},
   "outputs": [],
   "source": [
    "pd.Series(diff_ind).plot()"
   ]
  }
 ],
 "metadata": {
  "kernelspec": {
   "display_name": "Python 3",
   "language": "python",
   "name": "python3"
  },
  "language_info": {
   "codemirror_mode": {
    "name": "ipython",
    "version": 3
   },
   "file_extension": ".py",
   "mimetype": "text/x-python",
   "name": "python",
   "nbconvert_exporter": "python",
   "pygments_lexer": "ipython3",
   "version": "3.8.5"
  }
 },
 "nbformat": 4,
 "nbformat_minor": 5
}
