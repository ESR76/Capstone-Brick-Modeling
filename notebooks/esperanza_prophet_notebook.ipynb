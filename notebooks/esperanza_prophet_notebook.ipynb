{
 "cells": [
  {
   "cell_type": "markdown",
   "id": "6139778e",
   "metadata": {},
   "source": [
    "# Esperanza's Prophet Notebook - Using Recleaned Data\n",
    "\n",
    "Please note - this uses the energy values instead of the cost values, since the cost values are a fairly static transformation.\n",
    "\n",
    "## Imports"
   ]
  },
  {
   "cell_type": "code",
   "execution_count": null,
   "id": "d382f102",
   "metadata": {},
   "outputs": [],
   "source": [
    "import pandas as pd\n",
    "import numpy as np\n",
    "import seaborn as sns\n",
    "\n",
    "import prophet as Prophet"
   ]
  },
  {
   "cell_type": "code",
   "execution_count": null,
   "id": "70750efa",
   "metadata": {},
   "outputs": [],
   "source": [
    "# Prophet import gives: \"Importing plotly failed. Interactive plots will not work.\""
   ]
  },
  {
   "cell_type": "markdown",
   "id": "cf986f86",
   "metadata": {},
   "source": [
    "## Comparing Data to New Cleaned Data "
   ]
  },
  {
   "cell_type": "code",
   "execution_count": null,
   "id": "e170a6cb",
   "metadata": {},
   "outputs": [],
   "source": [
    "data =  pd.read_csv('../data/temp/combined_floors_cleaned.csv')\n",
    "cleaned_training = data.loc[data['train'], :].reset_index(drop = True)\n",
    "cleaned_test = data.loc[~data['train'], :].reset_index(drop = True)"
   ]
  },
  {
   "cell_type": "code",
   "execution_count": null,
   "id": "04279540",
   "metadata": {},
   "outputs": [],
   "source": [
    "cleaned_training.head(5)"
   ]
  },
  {
   "cell_type": "code",
   "execution_count": null,
   "id": "e2a6e8a6",
   "metadata": {},
   "outputs": [],
   "source": [
    "cleaned_training.tail(5)"
   ]
  },
  {
   "cell_type": "code",
   "execution_count": null,
   "id": "e96b6b66",
   "metadata": {},
   "outputs": [],
   "source": [
    "training_reduced_prophet = cleaned_training.loc[:, ['time', 'energy']]\n",
    "test_reduced_prophet = cleaned_test.loc[:, ['time', 'energy']]"
   ]
  },
  {
   "cell_type": "code",
   "execution_count": null,
   "id": "323f55f7",
   "metadata": {},
   "outputs": [],
   "source": [
    "training_reduced_prophet = training_reduced_prophet.rename({'time': 'ds', 'energy': 'y'}, axis = 1)\n",
    "test_reduced_prophet = test_reduced_prophet.rename({'time': 'ds', 'energy': 'y'}, axis = 1)\n"
   ]
  },
  {
   "cell_type": "markdown",
   "id": "0169dd4c",
   "metadata": {},
   "source": [
    "## Work with Prophet\n",
    "\n",
    "#### For missing analysis work, please look at my development notebooks."
   ]
  },
  {
   "cell_type": "code",
   "execution_count": null,
   "id": "e6450ac3",
   "metadata": {},
   "outputs": [],
   "source": [
    "# stripping time zones since they're incompatible with Prophet\n",
    "training_reduced_prophet['ds'] = training_reduced_prophet['ds'].transform(lambda x: x[0:-6])\n",
    "test_reduced_prophet['ds'] = test_reduced_prophet['ds'].transform(lambda x: x[0:-6])"
   ]
  },
  {
   "cell_type": "markdown",
   "id": "e8b97d8a",
   "metadata": {},
   "source": [
    "### Determining cap for Prophet model"
   ]
  },
  {
   "cell_type": "code",
   "execution_count": null,
   "id": "1c4e2f3a",
   "metadata": {},
   "outputs": [],
   "source": [
    "training_reduced_prophet['y'].sort_values(ascending = False)"
   ]
  },
  {
   "cell_type": "code",
   "execution_count": null,
   "id": "926fc523",
   "metadata": {},
   "outputs": [],
   "source": [
    "training_reduced_prophet['y'].mean()"
   ]
  },
  {
   "cell_type": "code",
   "execution_count": null,
   "id": "57c8a87d",
   "metadata": {},
   "outputs": [],
   "source": [
    "training_reduced_prophet['y'].median()"
   ]
  },
  {
   "cell_type": "code",
   "execution_count": null,
   "id": "4f2e470b",
   "metadata": {},
   "outputs": [],
   "source": [
    "training_reduced_prophet['cap'] = 50\n",
    "# have not set a changing cap with HVAC because I'm not sure it did change over this time frame"
   ]
  },
  {
   "cell_type": "markdown",
   "id": "f493c663",
   "metadata": {},
   "source": [
    "### Training Model"
   ]
  },
  {
   "cell_type": "code",
   "execution_count": null,
   "id": "01d38611",
   "metadata": {},
   "outputs": [],
   "source": [
    "prophet_model = Prophet.Prophet()"
   ]
  },
  {
   "cell_type": "code",
   "execution_count": null,
   "id": "95be1c77",
   "metadata": {},
   "outputs": [],
   "source": [
    "prophet_model.fit(training_reduced_prophet)\n",
    "# got disabling yearly seasonality text - I think this makes sense to disable because our data < year"
   ]
  },
  {
   "cell_type": "markdown",
   "id": "bd1ef517",
   "metadata": {},
   "source": [
    "### Making Model Forecast\n",
    "\n",
    "#### We want to predict every 1 hour from August 1, 2018 through the end of the data on January 7, 2019\n",
    "Doesn't matter so much if we predict too long so long as the periods are right"
   ]
  },
  {
   "cell_type": "code",
   "execution_count": null,
   "id": "ce408187",
   "metadata": {},
   "outputs": [],
   "source": [
    "prophet_forecast = prophet_model.make_future_dataframe(periods = 365 * 24, freq = '1H')\n",
    "prophet_forecast = prophet_model.predict(prophet_forecast)"
   ]
  },
  {
   "cell_type": "code",
   "execution_count": null,
   "id": "3bcca45b",
   "metadata": {},
   "outputs": [],
   "source": [
    "prophet_forecast.tail(5)"
   ]
  },
  {
   "cell_type": "code",
   "execution_count": null,
   "id": "026219d3",
   "metadata": {},
   "outputs": [],
   "source": [
    "# This got us a little past the time I wanted to be at but it works"
   ]
  },
  {
   "cell_type": "markdown",
   "id": "b5c589e7",
   "metadata": {},
   "source": [
    "## Plot Analysis"
   ]
  },
  {
   "cell_type": "code",
   "execution_count": null,
   "id": "5e2beae7",
   "metadata": {},
   "outputs": [],
   "source": [
    "fig2 = prophet_model.plot_components(prophet_forecast)"
   ]
  },
  {
   "cell_type": "code",
   "execution_count": null,
   "id": "2083fb88",
   "metadata": {},
   "outputs": [],
   "source": [
    "# These figures look almost the same as the ones without imputation"
   ]
  },
  {
   "cell_type": "markdown",
   "id": "d9431319",
   "metadata": {},
   "source": [
    "## Finding MSE"
   ]
  },
  {
   "cell_type": "code",
   "execution_count": null,
   "id": "7bad1b8a",
   "metadata": {},
   "outputs": [],
   "source": [
    "prophet_forecast_reduced = prophet_forecast.loc[:, ['ds', 'yhat']]"
   ]
  },
  {
   "cell_type": "code",
   "execution_count": null,
   "id": "68d71587",
   "metadata": {},
   "outputs": [],
   "source": [
    "prophet_forecast['ds'].head(5)"
   ]
  },
  {
   "cell_type": "code",
   "execution_count": null,
   "id": "93063c93",
   "metadata": {},
   "outputs": [],
   "source": [
    "test_reduced_prophet['ds'] = pd.to_datetime(test_reduced_prophet['ds'])"
   ]
  },
  {
   "cell_type": "code",
   "execution_count": null,
   "id": "85d943d5",
   "metadata": {},
   "outputs": [],
   "source": [
    "merged = prophet_forecast_reduced.merge(test_reduced_prophet, left_on = 'ds', right_on = 'ds')"
   ]
  },
  {
   "cell_type": "code",
   "execution_count": null,
   "id": "4d4d8c5c",
   "metadata": {},
   "outputs": [],
   "source": [
    "merged.shape"
   ]
  },
  {
   "cell_type": "code",
   "execution_count": null,
   "id": "f578ee13",
   "metadata": {},
   "outputs": [],
   "source": [
    "test_reduced_prophet.shape"
   ]
  },
  {
   "cell_type": "code",
   "execution_count": null,
   "id": "e5339257",
   "metadata": {},
   "outputs": [],
   "source": [
    "sum((merged['y'] - merged['yhat']) ** 2) / test_reduced_prophet.shape[0]"
   ]
  },
  {
   "cell_type": "markdown",
   "id": "41745fac",
   "metadata": {},
   "source": [
    "This gives an MSE of 47:\n",
    "- Floor 2 original 5-min floored was: 50.64062665397791\n",
    "- Floor 3 original 5-min floored was: 47.75016453897674\n",
    "- Floor 4 original 5-min floored was 274.2433927796554\n",
    "\n",
    "This is an improvement across the board and a more consistent predictor but still not low.\n",
    "We want to try and see if we can improve it via parameters to use as a baseline."
   ]
  },
  {
   "cell_type": "code",
   "execution_count": null,
   "id": "8d346486",
   "metadata": {},
   "outputs": [],
   "source": []
  },
  {
   "cell_type": "markdown",
   "id": "62f5d80f",
   "metadata": {},
   "source": [
    "# Attempt(s) 2: no cap and different parameters for changepoint_prior_scale"
   ]
  },
  {
   "cell_type": "code",
   "execution_count": null,
   "id": "1b8bb6c8",
   "metadata": {},
   "outputs": [],
   "source": [
    "training_reduced_prophet = training_reduced_prophet.drop(['cap'], axis = 1)"
   ]
  },
  {
   "cell_type": "code",
   "execution_count": null,
   "id": "b00a4aac",
   "metadata": {},
   "outputs": [],
   "source": [
    "flexibility_values = [1, 0.5, 0.25, 0.1, 0.05, 0.01, 0.005, 0.001]"
   ]
  },
  {
   "cell_type": "code",
   "execution_count": null,
   "id": "35af55fd",
   "metadata": {},
   "outputs": [],
   "source": [
    "mses = []"
   ]
  },
  {
   "cell_type": "code",
   "execution_count": null,
   "id": "6f4918b0",
   "metadata": {},
   "outputs": [],
   "source": [
    "for val in flexibility_values:\n",
    "    prophet_model = Prophet.Prophet(changepoint_prior_scale=val)\n",
    "    prophet_model.fit(training_reduced_prophet)\n",
    "    \n",
    "    prophet_forecast = prophet_model.make_future_dataframe(periods = 365 * 24, freq = '1H')\n",
    "    prophet_forecast = prophet_model.predict(prophet_forecast)\n",
    "\n",
    "    prophet_forecast_reduced = prophet_forecast.loc[:, ['ds', 'yhat']]\n",
    "    merged = prophet_forecast_reduced.merge(test_reduced_prophet, left_on = 'ds', right_on = 'ds')\n",
    "    \n",
    "    mses.append(sum((merged['y'] - merged['yhat']) ** 2) / test_reduced_prophet.shape[0])\n",
    "    "
   ]
  },
  {
   "cell_type": "code",
   "execution_count": null,
   "id": "927b5c2b",
   "metadata": {},
   "outputs": [],
   "source": [
    "print(mses)"
   ]
  },
  {
   "cell_type": "code",
   "execution_count": null,
   "id": "32c3bf46",
   "metadata": {},
   "outputs": [],
   "source": [
    "# All MSEs seem to cap at 46"
   ]
  },
  {
   "cell_type": "code",
   "execution_count": null,
   "id": "f13c8b97",
   "metadata": {},
   "outputs": [],
   "source": []
  },
  {
   "cell_type": "markdown",
   "id": "23401217",
   "metadata": {},
   "source": [
    "# Attempt(s) 3: cap values with 1 for flexibility"
   ]
  },
  {
   "cell_type": "code",
   "execution_count": null,
   "id": "2e8ab8d8",
   "metadata": {},
   "outputs": [],
   "source": [
    "cap_values = [10,20,30,40,50,60,70,80,90,100]"
   ]
  },
  {
   "cell_type": "code",
   "execution_count": null,
   "id": "f33bd3bc",
   "metadata": {},
   "outputs": [],
   "source": [
    "mses = []"
   ]
  },
  {
   "cell_type": "code",
   "execution_count": null,
   "id": "e061225d",
   "metadata": {},
   "outputs": [],
   "source": [
    "for val in cap_values:\n",
    "    training_reduced_prophet.loc[:, 'cap'] = val\n",
    "    \n",
    "    prophet_model = Prophet.Prophet(changepoint_prior_scale=1)\n",
    "    prophet_model.fit(training_reduced_prophet)\n",
    "    \n",
    "    prophet_forecast = prophet_model.make_future_dataframe(periods = 365 * 24, freq = '1H')\n",
    "    prophet_forecast = prophet_model.predict(prophet_forecast)\n",
    "\n",
    "    prophet_forecast_reduced = prophet_forecast.loc[:, ['ds', 'yhat']]\n",
    "    merged = prophet_forecast_reduced.merge(test_reduced_prophet, left_on = 'ds', right_on = 'ds')\n",
    "    \n",
    "    mses.append(sum((merged['y'] - merged['yhat']) ** 2) / test_reduced_prophet.shape[0])\n",
    "    "
   ]
  },
  {
   "cell_type": "code",
   "execution_count": null,
   "id": "cd3ed4d5",
   "metadata": {},
   "outputs": [],
   "source": [
    "mses"
   ]
  },
  {
   "cell_type": "code",
   "execution_count": null,
   "id": "58623854",
   "metadata": {},
   "outputs": [],
   "source": [
    "# Cap value: seemingly no impact"
   ]
  },
  {
   "cell_type": "code",
   "execution_count": null,
   "id": "661b5ecb",
   "metadata": {},
   "outputs": [],
   "source": [
    "fig = prophet_model.plot(prophet_forecast)"
   ]
  },
  {
   "cell_type": "code",
   "execution_count": null,
   "id": "091a338d",
   "metadata": {},
   "outputs": [],
   "source": [
    "# This is how the forecast fits - it's having a difficult time predicting the range, which it thinks expands dramatically\n",
    "\n",
    "# or are those just the upper and lower possible trends?"
   ]
  },
  {
   "cell_type": "markdown",
   "id": "e0d907f7",
   "metadata": {},
   "source": [
    "# Attempt 4 - Accounting for Days on Break"
   ]
  },
  {
   "cell_type": "code",
   "execution_count": null,
   "id": "89b48607",
   "metadata": {},
   "outputs": [],
   "source": [
    "def is_school_break(ds):\n",
    "    date = pd.to_datetime(ds)\n",
    "    #https://blink.ucsd.edu/instructors/resources/academic/calendars/2016.html\n",
    "    #https://blink.ucsd.edu/instructors/resources/academic/calendars/2017.html\n",
    "    #https://blink.ucsd.edu/instructors/resources/academic/calendars/2018.html\n",
    "    date_ranges = [\n",
    "        ['03/26/2017', '04/06/2017'], \n",
    "        ['06/17/2017', '07/02/2017'],\n",
    "        ['09/10/2017', '09/24/2017'],\n",
    "        ['12/17/2017', '01/02/2018'],\n",
    "        ['03/25/2018', '04/01/2018'],\n",
    "        ['06/16/2018', '07/01/2018'],\n",
    "        ['09/09/2018', '09/23/2018'],\n",
    "        ['12/16/2018', '01/06/2019']\n",
    "    ]\n",
    "    \n",
    "    for date_range in date_ranges:\n",
    "        if pd.to_datetime(date_range[0]) <= date and pd.to_datetime(date_range[1]) >= date:\n",
    "            return True\n",
    "    return False"
   ]
  },
  {
   "cell_type": "code",
   "execution_count": null,
   "id": "eeb82010",
   "metadata": {},
   "outputs": [],
   "source": [
    "training_reduced_prophet = training_reduced_prophet.loc[:, ['ds', 'y']]\n",
    "\n",
    "\n",
    "training_reduced_prophet['on_season'] = training_reduced_prophet['ds'].apply(is_school_break)\n",
    "training_reduced_prophet['off_season'] = ~training_reduced_prophet['ds'].apply(is_school_break)"
   ]
  },
  {
   "cell_type": "code",
   "execution_count": null,
   "id": "63b297a4",
   "metadata": {},
   "outputs": [],
   "source": [
    "test_reduced_prophet['on_season'] = test_reduced_prophet['ds'].apply(is_school_break)\n",
    "test_reduced_prophet['off_season'] = ~test_reduced_prophet['ds'].apply(is_school_break)"
   ]
  },
  {
   "cell_type": "code",
   "execution_count": null,
   "id": "2e8b5639",
   "metadata": {},
   "outputs": [],
   "source": [
    "# this is taking a while to run"
   ]
  },
  {
   "cell_type": "code",
   "execution_count": null,
   "id": "c4789902",
   "metadata": {},
   "outputs": [],
   "source": [
    "training_reduced_prophet.head(5)"
   ]
  },
  {
   "cell_type": "code",
   "execution_count": null,
   "id": "2ba8e608",
   "metadata": {},
   "outputs": [],
   "source": [
    "test_reduced_prophet.head(5)"
   ]
  },
  {
   "cell_type": "code",
   "execution_count": null,
   "id": "15b71f68",
   "metadata": {},
   "outputs": [],
   "source": [
    "prophet_model = Prophet.Prophet(changepoint_prior_scale=1)\n",
    "prophet_model.add_seasonality(name='weekly_on_season', period=7, fourier_order=3, condition_name='on_season')\n",
    "prophet_model.add_seasonality(name='weekly_off_season', period=7, fourier_order=3, condition_name='off_season')\n",
    "\n",
    "\n",
    "prophet_model.fit(training_reduced_prophet)\n",
    "    \n",
    "prophet_forecast = prophet_model.make_future_dataframe(periods = 365 * 24, freq = '1H')\n",
    "prophet_forecast = prophet_model.predict(prophet_forecast)\n",
    "\n",
    "prophet_forecast_reduced = prophet_forecast.loc[:, ['ds', 'yhat']]\n",
    "merged = prophet_forecast_reduced.merge(test_reduced_prophet, left_on = 'ds', right_on = 'ds')\n",
    "    \n",
    "sum((merged['y'] - merged['yhat']) ** 2) / test_reduced_prophet.shape[0]"
   ]
  },
  {
   "cell_type": "code",
   "execution_count": null,
   "id": "86067c9f",
   "metadata": {},
   "outputs": [],
   "source": [
    "# on_season condition is determined - not sure what the issue is here"
   ]
  }
 ],
 "metadata": {
  "kernelspec": {
   "display_name": "Python 3",
   "language": "python",
   "name": "python3"
  },
  "language_info": {
   "codemirror_mode": {
    "name": "ipython",
    "version": 3
   },
   "file_extension": ".py",
   "mimetype": "text/x-python",
   "name": "python",
   "nbconvert_exporter": "python",
   "pygments_lexer": "ipython3",
   "version": "3.8.5"
  }
 },
 "nbformat": 4,
 "nbformat_minor": 5
}
